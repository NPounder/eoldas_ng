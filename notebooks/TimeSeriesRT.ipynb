{
 "metadata": {
  "name": ""
 },
 "nbformat": 3,
 "nbformat_minor": 0,
 "worksheets": [
  {
   "cells": [
    {
     "cell_type": "heading",
     "level": 1,
     "metadata": {},
     "source": [
      "A simple time series assimilation example using a radiative transfer model for the solar optical domain"
     ]
    },
    {
     "cell_type": "heading",
     "level": 2,
     "metadata": {},
     "source": [
      "J G\u00f3mez-Dans"
     ]
    },
    {
     "cell_type": "code",
     "collapsed": false,
     "input": [
      "# Initial set-up\n",
      "import json\n",
      "import urllib2\n",
      "import matplotlib\n",
      "s = json.load ( urllib2.urlopen(\"https://github.com/CamDavidsonPilon/Probabilistic-Programming-and-Bayesian-Methods-for-Hackers/raw/master/styles/bmh_matplotlibrc.json\"))\n",
      "matplotlib.rcParams.update(s)\n",
      "%pylab inline\n",
      "figsize( 11, 9)\n",
      "from IPython.display import HTML\n",
      "def css_styling():\n",
      "    styles = \"https://github.com/CamDavidsonPilon/Probabilistic-Programming-and-Bayesian-Methods-for-Hackers/raw/master/styles/custom.css\"\n",
      "    return HTML(styles)\n",
      "\n",
      "css_styling()"
     ],
     "language": "python",
     "metadata": {},
     "outputs": [
      {
       "output_type": "stream",
       "stream": "stdout",
       "text": [
        "Populating the interactive namespace from numpy and matplotlib\n"
       ]
      },
      {
       "html": [
        "<style>\n",
        "    @font-face {\n",
        "        font-family: \"Computer Modern\";\n",
        "        src: url('http://mirrors.ctan.org/fonts/cm-unicode/fonts/otf/cmunss.otf');\n",
        "    }\n",
        "    div.cell{\n",
        "        width:800px;\n",
        "        margin-left:16% !important;\n",
        "        margin-right:auto;\n",
        "    }\n",
        "    h1 {\n",
        "        font-family: Helvetica, serif;\n",
        "    }\n",
        "    h4{\n",
        "        margin-top:12px;\n",
        "        margin-bottom: 3px;\n",
        "       }\n",
        "    div.text_cell_render{\n",
        "        font-family: Computer Modern, \"Helvetica Neue\", Arial, Helvetica, Geneva, sans-serif;\n",
        "        line-height: 145%;\n",
        "        font-size: 130%;\n",
        "        width:800px;\n",
        "        margin-left:auto;\n",
        "        margin-right:auto;\n",
        "    }\n",
        "    .CodeMirror{\n",
        "            font-family: \"Source Code Pro\", source-code-pro,Consolas, monospace;\n",
        "    }\n",
        "    .prompt{\n",
        "        display: None;\n",
        "    }\n",
        "    .text_cell_render h5 {\n",
        "        font-weight: 300;\n",
        "        font-size: 22pt;\n",
        "        color: #4057A1;\n",
        "        font-style: italic;\n",
        "        margin-bottom: .5em;\n",
        "        margin-top: 0.5em;\n",
        "        display: block;\n",
        "    }\n",
        "    \n",
        "    .warning{\n",
        "        color: rgb( 240, 20, 20 )\n",
        "        }  \n",
        "</style>\n",
        "<script>\n",
        "    MathJax.Hub.Config({\n",
        "                        TeX: {\n",
        "                           extensions: [\"AMSmath.js\"]\n",
        "                           },\n",
        "                tex2jax: {\n",
        "                    inlineMath: [ ['$','$'], [\"\\\\(\",\"\\\\)\"] ],\n",
        "                    displayMath: [ ['$$','$$'], [\"\\\\[\",\"\\\\]\"] ]\n",
        "                },\n",
        "                displayAlign: 'center', // Change this to 'center' to center equations.\n",
        "                \"HTML-CSS\": {\n",
        "                    styles: {'.MathJax_Display': {\"margin\": 4}}\n",
        "                }\n",
        "        });\n",
        "</script>"
       ],
       "metadata": {},
       "output_type": "pyout",
       "prompt_number": 1,
       "text": [
        "<IPython.core.display.HTML at 0x12e2f950>"
       ]
      }
     ],
     "prompt_number": 1
    },
    {
     "cell_type": "heading",
     "level": 3,
     "metadata": {},
     "source": [
      "Introduction"
     ]
    },
    {
     "cell_type": "markdown",
     "metadata": {},
     "source": [
      "This notebook presents an example of regularisation/data assimilation that carries on from the previous one, where we showed how DA techniques result in an optimal estimation of the state of a time-varying magnitude, interpolating over data gaps and so on. In this case, rather than applying these ideas to an e.g. NDVI time series, we will use a radiative transfer (RT) model to couple between the observations (directional surface reflectance acquired over a number of bands) and the state (defined in this case in terms of LAI, chlorophyll content, etc). This is a much more useful example, as we are effectively mapping from a reflectance to a quantity of interest, taking into account the radiative transfer physics as well as the uncertainties in the observations.\n",
      "\n"
     ]
    },
    {
     "cell_type": "heading",
     "level": 4,
     "metadata": {},
     "source": [
      "Problem specification"
     ]
    },
    {
     "cell_type": "markdown",
     "metadata": {},
     "source": [
      "Assume that we have a set of directional reflectance obervations $R={\\rho(\\Omega,\\Omega', \\lambda_i)}$. We will interpret them with an RT model (in this case PROSAIL, but others are available). PROSAIL predicts surface reflectance for a given acquisition geometry $(\\Omega,\\Omega')$ from 400 to 2500$nm$ as a function of a number of parameters, which are\n",
      "\n",
      "1. $n$, the number of leaf layers\n",
      "2. $cab$, the leaf chlorophyll concentration\n",
      "3. $car$, the leaf carotenoids concentration\n",
      "4. $cbrown$, the amount of senescent pigment\n",
      "5. $cw$, the leaf equivalent water thickness\n",
      "6. $cm$, the leaf dry matter concentration\n",
      "7. $LAI$, the leaf area index\n",
      "8. $ALA$, the average leaf inclination angle\n",
      "9. $B_{soil}$, the soil brightness\n",
      "10. $P_{soil}$, a soil multiplicative term\n",
      "\n",
      "Some of these parameters are to do with the structure and bottom boundary, and some are to do with the spectral properties of the leaves. Mathematically, we can write what PROSAIL simulates as\n",
      "$$\n",
      "\\rho(\\Omega,\\Omega', \\lambda) = M(\\bf{x}, \\Omega, \\Omega'),\n",
      "$$\n",
      "where $\\bf{x}$ is a vector that stacks the values of the PROSAIL parameters for a geometric configuration $\\Omega, \\Omega'$. We will be using the [PROSAIL python bindings](https://github.com/jgomezdans/prosail/) to simulate the reflectance. For example:"
     ]
    },
    {
     "cell_type": "code",
     "collapsed": false,
     "input": [
      "import prosail\n",
      "wv = np.arange ( 400, 2501 )\n",
      "for lai in np.arange ( 0, 4, .5 ):\n",
      "    brf = prosail.run_prosail( 1.5, 60., 15., 0.1, \\\n",
      "                          0.016, 0.065, lai, 45., 0, 1., 0.1, 0.001, 30., 0, 0, 2 )\n",
      "    plt.plot ( wv, brf, label=\"%2.1f\" % lai )\n",
      "plt.legend ( loc='best', fancybox=True )\n",
      "plt.xlabel(\"Wavelength [nm]\")\n",
      "plt.ylabel(r'$\\rho$')"
     ],
     "language": "python",
     "metadata": {},
     "outputs": [
      {
       "metadata": {},
       "output_type": "pyout",
       "prompt_number": 2,
       "text": [
        "<matplotlib.text.Text at 0x13819c10>"
       ]
      },
      {
       "metadata": {},
       "output_type": "display_data",
       "png": "[encoded data removed]",
       "text": [
        "<matplotlib.figure.Figure at 0x1379c790>"
       ]
      }
     ],
     "prompt_number": 2
    },
    {
     "cell_type": "markdown",
     "metadata": {},
     "source": [
      "The previous plot shows the effect of varying LAI for a given canopy between 0 and 3.5 in steps of 0.5 LAI units, for a given observational geometry. Typically, remote sensing sensors acquire data over discrete spectral bands, so rather than get a whole spectrum, we get discrete estimates of reflectance over parts of the spectrum. For example, MODIS uses 7 bands. If we assume that the bandpass function is constant between the minimum and maximum wavelengths, then we can calculate some useful arrays to simulate MODIS data:\n"
     ]
    },
    {
     "cell_type": "code",
     "collapsed": false,
     "input": [
      "b_min = np.array( [ 620., 841, 459, 545, 1230, 1628, 2105] )\n",
      "b_max = np.array( [ 670., 876, 479, 565, 1250, 1652, 2155] )\n",
      "\n",
      "\n",
      "band_pass = np.zeros((7,2101), dtype=np.bool)\n",
      "n_bands = b_min.shape[0]\n",
      "bw = np.zeros( n_bands )\n",
      "bh = np.zeros( n_bands )\n",
      "for i in xrange( n_bands ):\n",
      "    band_pass[i,:] = np.logical_and ( wv >= b_min[i], \\\n",
      "                wv <= b_max[i] )\n",
      "    bw[i] = b_max[i] - b_min[i]\n",
      "    bh[i] = ( b_max[i] + b_min[i] )/2.\n",
      "    plt.axvspan(b_min[i], b_max[i], color='0.8' )\n",
      "plt.plot ( wv, brf)\n",
      "plt.xlabel(\"Wavelenght [nm]\")\n",
      "plt.ylabel(\"Reflectance\")"
     ],
     "language": "python",
     "metadata": {},
     "outputs": [
      {
       "metadata": {},
       "output_type": "pyout",
       "prompt_number": 4,
       "text": [
        "<matplotlib.text.Text at 0x13cc4610>"
       ]
      },
      {
       "metadata": {},
       "output_type": "display_data",
       "png": "[encoded data removed]",
       "text": [
        "<matplotlib.figure.Figure at 0x13cd3190>"
       ]
      }
     ],
     "prompt_number": 4
    },
    {
     "cell_type": "heading",
     "level": 4,
     "metadata": {},
     "source": [
      "The inverse problem"
     ]
    },
    {
     "cell_type": "markdown",
     "metadata": {},
     "source": [
      "The challenge here is to retrieve the parameter vector $\\bf{x}$ that gives rise to the observations that we have $\\rho(\\Omega, \\Omega, \\lambda_i)$. Since our model $M(\\bf{x})$ is non-linear, there is no simple way to obtain that vector directly. The problem is complicated further by the following issues:\n",
      "\n",
      "* There's noise (due to the instrument characteristics, problems in atmospheric correction, etc.)\n",
      "* The angular and spectral sampling available might not be informative enough.\n",
      "* There might be large data gaps due to cloudiness or orbital configuration.\n",
      "\n",
      "In a least squares sense, we can write that the best solution is one that minimises the distance between model and observations, modulated by the uncertainty and the observations, ie\n",
      "\n",
      "$$\n",
      "\\bf{x}_{opt} = \\min_{\\bf{x}}\\left(\\rho(\\Omega, \\Omega', \\lambda) - M(\\bf{x}, \\Omega, \\Omega')\\right)^{2}_{\\bf{C}_{obs}}\n",
      "$$\n",
      "\n",
      "The main assumption here is that the observational noise is i.i.d Gaussian. In the presence of noise and reduced sensitivity to the observations, families of parameters can provide an acceptable solution (i.e., different values of $\\bf{x}$ provide predictions of the observations that fall within the observational error bars), so we typically take a Bayesian approach to this problem and assume that $\\bf{X}$ has a p.d.f., and note that we want to find the $p(\\bf{X}$ **conditioned** on the observations $R$, $p(\\bf{x}|R)$. However, we only have access to the forward model, that calculates the reflectances **given** the model parameters (and assumptions about noise), or in other words, $p(R | \\bf{x})$. We can use Bayes' Rule to calculate the pdf of interest if we add to this last term a prior term, $p(\\bf{x})$, so we have\n",
      "$$\n",
      "p(\\bf{x}|R)$ \\propto p(R | \\bf{x})\\cdot p(\\bf{x})\n",
      "$$\n",
      "\n",
      "The prior term is the pdf of the elements of $\\bf{x}$ before we have any data. So one fairly simplistic approach is to say that we expect the elements of $\\bf{x}$ are normally distributed, with a given mean and covariance structure. However, if $\\bf{x}$ relates to a time varying magnigude (for example, the temporal evolution of LAI), we might also want to add a prior constraint that encodes a belief of smooth transition, or in other words, that *a priori*, we expect that the value of LAI today will be the same as tomorrow (but with an uncertainty on this belief). We can then assume that the two parts of the prior are independent and encode them as a product. The first part is that we penalise solutions that deviate from a prior distribution characterised by $\\bf{x}_{prior}$ and $\\bf{C}_{prior}$:\n",
      "$$\n",
      "p(\\bf{x})\\propto \\exp\\left[-\\frac{1}{2}(\\bf{x}-\\bf{x}_{prior})^{\\top}\\bf{C}_{prior}^{-1} (\\bf{x}-\\bf{x}_{prior})        \\right]\n",
      "$$\n",
      "\n",
      "The second term can be encoded as the first order differences following a 0-mean normal distribution with some variance $\\sigma_{smooth}^{2}$. In a Kalman filter sense, we have that the model we use to update the state is just identity, with a model error given by $\\sigma_{smooth}^{2}$:\n",
      "\n",
      "$$\n",
      "p(x)\\propto \\exp\\left[-\\frac{1}{2}\\frac{(x_{t}-x_{t-1})^{2}}{\\sigma_{smooth}^{2}}        \\right]\n",
      "$$\n",
      "\n",
      "Plugging all these functions in Bayes' Rule, and taking logs, we end up with the following function $J(\\bf{x})$:\n",
      "\n",
      "$$\n",
      "\\begin{align}\n",
      "J(\\bf{x}) =& \\left[-\\frac{1}{2}(\\bf{x}-\\bf{x}_{prior})^{\\top}\\bf{C}_{prior}^{-1} (\\bf{x}-\\bf{x}_{prior})        \\right]\\\\\n",
      "+& \\left[-\\frac{1}{2}\\frac{(x_{t}-x_{t-1})^{2}}{\\sigma_{smooth}^{2}}        \\right]\\\\\n",
      "+& \\left[-\\frac{1}{2}(\\bf{x}-M(\\bf{x}))^{\\top}\\bf{C}_{obs}^{-1} (\\bf{x}-M(\\bf{x})        \\right]\\\\\n",
      "\\end{align}\n",
      "$$\n",
      "\n",
      "The minimum of that function is the maximum probability of the posterior distribution $p(\\bf{x}|R)$, or the most likely solution that (i) fits the data (using our RT model to map from reflectance to state) and (ii) takes into account the prior information both of state value (and correlations) and dynamic evolution. Note that this latter term could also be provided by some expectation of the state from a vegetation model, at least for the parts of the model that the vegetation model has in common with our state (for example, LAI), and taking into account that they must be defined coherently.\n",
      "\n",
      "`eoldas_ng` provides a way to solve the minimisation problem easily. There are two main challenges:\n",
      "\n",
      "1. The RT models are typically time consuming\n",
      "2. We need to calculate the partial derivatives of $J(\\bf{x})$ in order to apply efficient function minimisation approaches\n",
      "\n",
      "We solve both these problems by using Gaussian Process emulators (GPs). These emulators use a number of RT model outputs to generate a non-linear statistical model that simulates what the RT model would produce (with an uncertainty estimate). These functions have simple forms for their partial derivatives that we can exploit too."
     ]
    },
    {
     "cell_type": "heading",
     "level": 4,
     "metadata": {},
     "source": [
      "The actual problem"
     ]
    },
    {
     "cell_type": "markdown",
     "metadata": {},
     "source": [
      "In this example, we will be using a time series of synthetic MODIS-like data that has been generated with some particular parameter temporal trajectories. We will then use these observations and the DA system to solve for the true state.\n",
      "\n",
      "In particular, we will first have a system where MODIS observations are produced every  7 days, but initially always with the same acquisition geometry. Data gaps will be be simulated and typical noise added. All other parameters will be kept fixed to their default values. In `eoldas_ng`, we call time varying parameters `VARIABLE`. \n",
      "\n",
      "We will use the PROSAIL model but also create GP emulators of the model for convenience."
     ]
    },
    {
     "cell_type": "heading",
     "level": 3,
     "metadata": {},
     "source": [
      "Setting up the `eoldas_ng` machinery"
     ]
    },
    {
     "cell_type": "markdown",
     "metadata": {},
     "source": [
      "Let's set up the basics. We need to use a number of `OrderedDict` to configure the variables of the state that we will use. Only LAI will change as a function of time, whereas all the other variables will be `FIXED` to their default value. We need to define these defaults, as well as parameter boundaries.\n",
      "\n",
      "Finally, we will also define some transformations of some parameters that are useful in that they quasi-linearise the model. All these terms are defined as `OrderedDict` objects, and are then passed to the `State` class that will bound them together:"
     ]
    },
    {
     "cell_type": "code",
     "collapsed": false,
     "input": [
      "from collections import OrderedDict\n",
      "try:\n",
      "    from operators import *\n",
      "except ImportError:\n",
      "    import sys\n",
      "    sys.path.append ( \"../eoldas_ng/\")\n",
      "    from operators import *\n",
      "\n",
      "state_config = OrderedDict ()\n",
      "\n",
      "state_config['n'] = FIXED\n",
      "state_config['cab'] = FIXED\n",
      "state_config['car'] = FIXED\n",
      "state_config['cbrown'] = FIXED\n",
      "state_config['cw'] = FIXED\n",
      "state_config['cm'] = FIXED\n",
      "state_config['lai'] = VARIABLE\n",
      "state_config['ala'] = FIXED\n",
      "state_config['bsoil'] = FIXED\n",
      "state_config['psoil'] = FIXED\n",
      "\n",
      "    \n",
      "    \n",
      "    \n",
      "    \n",
      "# Now define the default values\n",
      "default_par = OrderedDict ()\n",
      "default_par['n'] = 1.5\n",
      "default_par['cab'] = 40.\n",
      "default_par['car'] = 10.\n",
      "default_par['cbrown'] = 0.01\n",
      "default_par['cw'] = 0.018 # Say?\n",
      "default_par['cm'] = 0.0065 # Say?\n",
      "default_par['lai'] = 2\n",
      "default_par['ala'] = 45.\n",
      "default_par['bsoil'] = 1.\n",
      "default_par['psoil'] = 0.1\n",
      "\n",
      "parameter_min = OrderedDict()\n",
      "parameter_max = OrderedDict()\n",
      "    \n",
      "min_vals = [ 0.8, 0.2, 0.0, 0.0, 0.0043, 0.0017,0.01, 40, 0., 0., 0.]\n",
      "max_vals = [2.5, 77., 5., 1., 0.0713, 0.0331, 8., 50., 2., 1.]\n",
      "\n",
      "for i, param in enumerate ( state_config.keys() ):\n",
      "    parameter_min[param] = min_vals[i]\n",
      "    parameter_max[param] = max_vals[i]\n",
      "    # Define parameter transformations\n",
      "transformations = {\n",
      "        'lai': lambda x: np.exp ( -x/2. ), \\\n",
      "        'cab': lambda x: np.exp ( -x/100. ), \\\n",
      "        'car': lambda x: np.exp ( -x/100. ), \\\n",
      "        'cw': lambda x: np.exp ( -50.*x ), \\\n",
      "        'cm': lambda x: np.exp ( -100.*x ), \\\n",
      "        'ala': lambda x: x/90. }\n",
      "inv_transformations = {\n",
      "        'lai': lambda x: -2*np.log ( x ), \\\n",
      "        'cab': lambda x: -100*np.log ( x ), \\\n",
      "        'car': lambda x: -100*np.log( x ), \\\n",
      "        'cw': lambda x: (-1/50.)*np.log ( x ), \\\n",
      "        'cm': lambda x: (-1/100.)*np.log ( x ), \\\n",
      "        'ala': lambda x: 90.*x }\n",
      "\n",
      "# Define the state grid. In time in this case\n",
      "state_grid = np.arange ( 1, 366 )\n",
      "    \n",
      "# Define the state\n",
      "# L'etat, c'est moi\n",
      "state = State ( state_config, state_grid, default_par, \\\n",
      "        parameter_min, parameter_max )\n",
      "# Set the transformations\n",
      "state.set_transformations ( transformations, inv_transformations )\n"
     ],
     "language": "python",
     "metadata": {},
     "outputs": [],
     "prompt_number": 5
    },
    {
     "cell_type": "markdown",
     "metadata": {},
     "source": [
      "The previous code snippet is quite verbose, but you can see that we just set up a large number of parameter defaults, boundaries, transformations and types. We will now use the complete PROSAIL model to simulate the observations over a year. We do this by creating a dictionary where the key is the parameter of interest (in this case `lai`), and the value associated is a function of time. In this case, we use the following function for LAI:\n",
      "$$\n",
      "LAI(t) = 0.21 + 3.51\\cdot\\sin(\\pi t)^{5}\n",
      "$$\n",
      "\n",
      "This trajectory dictionary, as well as the definition of the state is passed to `create_parameter_trajectories` that will return an $N_{param}\\times N_{dates}$ array with the entire set of parameters for each day of the experiment. For other parameters than LAI, it will be set to the default parameter.\n",
      "\n",
      "The `create_observations` function will create observations using the state definition, the parameter grid and the latitude and longitude values."
     ]
    },
    {
     "cell_type": "code",
     "collapsed": false,
     "input": [
      "from create_emulators import *\n",
      "trajectories = {\n",
      "    'lai': lambda t: (0.21 + 3.51 * (np.sin(np.pi*t)**5)), \n",
      "}\n",
      "    \n",
      "# Now, create some simulated data...\n",
      "parameter_grid = create_parameter_trajectories ( state, trajectories )\n",
      "plt.plot ( np.arange(1, 366), parameter_grid[6, :], label=\"LAI\" )\n",
      "plt.xlabel( \"DoY\" )\n",
      "plt.ylabel (\"LAI [$m^{2}m^{-2}$]\")\n",
      "# Now forward model the observations...\n",
      "doys, vza, sza, raa, rho = create_observations ( state, parameter_grid, \\\n",
      "            42, -8.)"
     ],
     "language": "python",
     "metadata": {},
     "outputs": [
      {
       "metadata": {},
       "output_type": "display_data",
       "png": "[encoded data removed]",
       "text": [
        "<matplotlib.figure.Figure at 0x13d48550>"
       ]
      }
     ],
     "prompt_number": 6
    },
    {
     "cell_type": "markdown",
     "metadata": {},
     "source": [
      "The observations already refer to the MODIS bands. Let's see how they look like:"
     ]
    },
    {
     "cell_type": "code",
     "collapsed": false,
     "input": [
      "plt.plot ( doys, rho[1, :], 'o', label=\"NIR\")\n",
      "plt.plot ( doys, rho[0, :], 's', label=\"RED\")\n",
      "plt.ylabel(r'$\\rho$')\n",
      "plt.xlabel(\"DoY\")"
     ],
     "language": "python",
     "metadata": {},
     "outputs": [
      {
       "metadata": {},
       "output_type": "pyout",
       "prompt_number": 7,
       "text": [
        "<matplotlib.text.Text at 0x143aadd0>"
       ]
      },
      {
       "metadata": {},
       "output_type": "display_data",
       "png": "[encoded data removed]",
       "text": [
        "<matplotlib.figure.Figure at 0x2af35013ac50>"
       ]
      }
     ],
     "prompt_number": 7
    },
    {
     "cell_type": "markdown",
     "metadata": {},
     "source": [
      "We see clearly the evolution of the NIR reflectance mapping the development of leaf area, whereas the RED reflectance decreases through increased absorption with high LAI values."
     ]
    },
    {
     "cell_type": "markdown",
     "metadata": {},
     "source": [
      "We now need to *train* the emulators. For the given geometry (vza=15, sza=15, raa=15), we shall use a sampling of parameter space to produce an emulator using the `create_emulators` function. We will then save that result for posterity:"
     ]
    },
    {
     "cell_type": "code",
     "collapsed": false,
     "input": [
      "angles = [ [15, 15, 0] ]\n",
      "#emulators,  samples, validate = create_emulators ( state, [\"\"], angles=angles )   \n",
      "#for i,(s,v,r) in enumerate(angles):     \n",
      "#    fname = \"%02d_sza_%02d_vza_000_raa\" % (s,v)\n",
      "#    emulators[i].dump_emulator(fname)\n"
     ],
     "language": "python",
     "metadata": {},
     "outputs": [],
     "prompt_number": 8
    },
    {
     "cell_type": "markdown",
     "metadata": {},
     "source": [
      "The previous code snippet has created the emulators and tested them with a set of random parameters that have used the full model. We see that the reported RMSE is very  low, so we will ignore the emulator error in this problem. We have also stored the emuator for this geometry in an `.npz` file. We'll load it up and see how it works:"
     ]
    },
    {
     "cell_type": "code",
     "collapsed": false,
     "input": [
      "emulators = {}\n",
      "for i,(s,v,r) in enumerate(angles):     \n",
      "    fname = \"%02d_sza_%02d_vza_000_raa.npz\" % (s,v)\n",
      "    emulators[(v,s)]= MultivariateEmulator ( dump=fname )\n"
     ],
     "language": "python",
     "metadata": {},
     "outputs": [
      {
       "output_type": "stream",
       "stream": "stdout",
       "text": [
        "Decomposing the input dataset into basis functions... "
       ]
      },
      {
       "output_type": "stream",
       "stream": "stdout",
       "text": [
        "Done!\n",
        " ====> Using 8 basis functions\n"
       ]
      }
     ],
     "prompt_number": 9
    },
    {
     "cell_type": "heading",
     "level": 3,
     "metadata": {},
     "source": [
      "The operators"
     ]
    },
    {
     "cell_type": "code",
     "collapsed": false,
     "input": [
      "mu_prior = OrderedDict ()\n",
      "prior_inv_cov = OrderedDict ()\n",
      "for param in state.parameter_min.iterkeys():\n",
      "    mu_prior[param] = np.array([default_par[param]])\n",
      "    if param == \"cab\":\n",
      "        prior_inv_cov[param] = np.array ( [1./(40.*40.)])\n",
      "    else:\n",
      "        prior_inv_cov[param] = np.array([1])\n",
      "            #parameter_max[param] - parameter_min[param]*0.4)\n",
      "prior = Prior ( mu_prior, prior_inv_cov )"
     ],
     "language": "python",
     "metadata": {},
     "outputs": [],
     "prompt_number": 47
    },
    {
     "cell_type": "code",
     "collapsed": false,
     "input": [
      "temporal = TemporalSmoother ( state_grid, 10000, required_params=[\"lai\"] )"
     ],
     "language": "python",
     "metadata": {},
     "outputs": [],
     "prompt_number": 26
    },
    {
     "cell_type": "code",
     "collapsed": false,
     "input": [
      "rho_big = np.zeros(( 7,365))\n",
      "mask = np.zeros(( 365, 4))\n",
      "\n",
      "\n",
      "for i in state_grid:\n",
      "    if i in doys:\n",
      "        rho_big[:, i] = rho[:, doys==i].squeeze()\n",
      "        mask[ i, :] = [ 1, vza[doys==i], sza[doys==i],  raa[doys==i] ]\n",
      "\n",
      "bu = np.array( [ 0.00463576,  0.00540698,  0.004, 0.00431066,  \\\n",
      "        0.00678507,  0.00822998,  0.01])\n",
      "    \n",
      "obs = ObservationOperatorTimeSeriesGP( state_grid, state, rho_big, mask, emulators, bu, band_pass, bw )\n"
     ],
     "language": "python",
     "metadata": {},
     "outputs": [],
     "prompt_number": 27
    },
    {
     "cell_type": "code",
     "collapsed": false,
     "input": [
      "state.add_operator ( \"Prior\", prior )\n",
      "state.add_operator ( \"Model\", temporal )\n",
      "state.add_operator ( \"Obs\", obs )"
     ],
     "language": "python",
     "metadata": {},
     "outputs": [],
     "prompt_number": 28
    },
    {
     "cell_type": "code",
     "collapsed": false,
     "input": [
      "x_dict = {}\n",
      "for i,k in enumerate(state.parameter_max.keys()):\n",
      "    if state.state_config[k] == VARIABLE:\n",
      "        x_dict[k] =  ( parameter_grid[i, :] )* + mu_prior[k]\n",
      "    else:\n",
      "        x_dict[k] = parameter_grid[i, 0]#*0+ mu_prior[k]\n",
      "x_dict['lai'] = np.random.rand(365)*5.#np.ones(365)*mu_prior['lai']\n",
      "retval = state.optimize ( x_dict )\n"
     ],
     "language": "python",
     "metadata": {},
     "outputs": [
      {
       "output_type": "stream",
       "stream": "stdout",
       "text": [
        "\t[Prior] --> 430.499\n",
        "\t[Model] --> 7.66903e+06\n",
        "\t[Obs] --> 73340.1"
       ]
      },
      {
       "output_type": "stream",
       "stream": "stdout",
       "text": [
        "\n",
        "\t\t[Total] -->\n",
        "\t[Prior] --> 3685.18\n",
        "\t[Model] --> 7.98001e+07\n",
        "\t[Obs] --> 54033.7"
       ]
      },
      {
       "output_type": "stream",
       "stream": "stdout",
       "text": [
        "\n",
        "\t\t[Total] -->\n",
        "\t[Prior] --> 317.198\n",
        "\t[Model] --> 5.49102e+06\n",
        "\t[Obs] --> 66937.8"
       ]
      },
      {
       "output_type": "stream",
       "stream": "stdout",
       "text": [
        "\n",
        "\t\t[Total] -->\n",
        "\t[Prior] --> 140.657\n",
        "\t[Model] --> 1.99632e+06\n",
        "\t[Obs] --> 2164.99"
       ]
      },
      {
       "output_type": "stream",
       "stream": "stdout",
       "text": [
        "\n",
        "\t\t[Total] -->\n",
        "\t[Prior] --> 91.6529\n",
        "\t[Model] --> 827041\n",
        "\t[Obs] --> 601.465"
       ]
      },
      {
       "output_type": "stream",
       "stream": "stdout",
       "text": [
        "\n",
        "\t\t[Total] -->\n",
        "\t[Prior] --> 80.0439\n",
        "\t[Model] --> 507161\n",
        "\t[Obs] --> 883.628"
       ]
      },
      {
       "output_type": "stream",
       "stream": "stdout",
       "text": [
        "\n",
        "\t\t[Total] -->\n",
        "\t[Prior] --> 77.4685\n",
        "\t[Model] --> 356797\n",
        "\t[Obs] --> 668.96"
       ]
      },
      {
       "output_type": "stream",
       "stream": "stdout",
       "text": [
        "\n",
        "\t\t[Total] -->\n",
        "\t[Prior] --> 89.1005\n",
        "\t[Model] --> 327164\n",
        "\t[Obs] --> 491.272"
       ]
      },
      {
       "output_type": "stream",
       "stream": "stdout",
       "text": [
        "\n",
        "\t\t[Total] -->\n",
        "\t[Prior] --> 88.5423\n",
        "\t[Model] --> 237765\n",
        "\t[Obs] --> 306.06"
       ]
      },
      {
       "output_type": "stream",
       "stream": "stdout",
       "text": [
        "\n",
        "\t\t[Total] -->\n",
        "\t[Prior] --> 89.9623\n",
        "\t[Model] --> 212353\n",
        "\t[Obs] --> 292.917"
       ]
      },
      {
       "output_type": "stream",
       "stream": "stdout",
       "text": [
        "\n",
        "\t\t[Total] -->\n",
        "\t[Prior] --> 99.2168\n",
        "\t[Model] --> 171881\n",
        "\t[Obs] --> 262.892"
       ]
      },
      {
       "output_type": "stream",
       "stream": "stdout",
       "text": [
        "\n",
        "\t\t[Total] -->\n",
        "\t[Prior] --> 121.184\n",
        "\t[Model] --> 144994\n",
        "\t[Obs] --> 379.99"
       ]
      },
      {
       "output_type": "stream",
       "stream": "stdout",
       "text": [
        "\n",
        "\t\t[Total] -->\n",
        "\t[Prior] --> 122.101\n",
        "\t[Model] --> 125709\n",
        "\t[Obs] --> 222.439"
       ]
      },
      {
       "output_type": "stream",
       "stream": "stdout",
       "text": [
        "\n",
        "\t\t[Total] -->\n",
        "\t[Prior] --> 127.063\n",
        "\t[Model] --> 113288\n",
        "\t[Obs] --> 207.334"
       ]
      },
      {
       "output_type": "stream",
       "stream": "stdout",
       "text": [
        "\n",
        "\t\t[Total] -->\n",
        "\t[Prior] --> 139.935\n",
        "\t[Model] --> 96332\n",
        "\t[Obs] --> 202.608"
       ]
      },
      {
       "output_type": "stream",
       "stream": "stdout",
       "text": [
        "\n",
        "\t\t[Total] -->\n",
        "\t[Prior] --> 166.648\n",
        "\t[Model] --> 73360.9\n",
        "\t[Obs] --> 198.841"
       ]
      },
      {
       "output_type": "stream",
       "stream": "stdout",
       "text": [
        "\n",
        "\t\t[Total] -->\n",
        "\t[Prior] --> 236.926\n",
        "\t[Model] --> 116823\n",
        "\t[Obs] --> 376.071"
       ]
      },
      {
       "output_type": "stream",
       "stream": "stdout",
       "text": [
        "\n",
        "\t\t[Total] -->\n",
        "\t[Prior] --> 169.36\n",
        "\t[Model] --> 71009.8\n",
        "\t[Obs] --> 195.088"
       ]
      },
      {
       "output_type": "stream",
       "stream": "stdout",
       "text": [
        "\n",
        "\t\t[Total] -->\n",
        "\t[Prior] --> 220.484\n",
        "\t[Model] --> 59171.8\n",
        "\t[Obs] --> 171.533"
       ]
      },
      {
       "output_type": "stream",
       "stream": "stdout",
       "text": [
        "\n",
        "\t\t[Total] -->\n",
        "\t[Prior] --> 242.887\n",
        "\t[Model] --> 55866.7\n",
        "\t[Obs] --> 181.701"
       ]
      },
      {
       "output_type": "stream",
       "stream": "stdout",
       "text": [
        "\n",
        "\t\t[Total] -->\n",
        "\t[Prior] --> 255.612\n",
        "\t[Model] --> 45348.2\n",
        "\t[Obs] --> 186.866"
       ]
      },
      {
       "output_type": "stream",
       "stream": "stdout",
       "text": [
        "\n",
        "\t\t[Total] -->\n",
        "\t[Prior] --> 249.745\n",
        "\t[Model] --> 35540.3\n",
        "\t[Obs] --> 176.52"
       ]
      },
      {
       "output_type": "stream",
       "stream": "stdout",
       "text": [
        "\n",
        "\t\t[Total] -->\n",
        "\t[Prior] --> 248.044\n",
        "\t[Model] --> 28679\n",
        "\t[Obs] --> 169.655"
       ]
      },
      {
       "output_type": "stream",
       "stream": "stdout",
       "text": [
        "\n",
        "\t\t[Total] -->\n",
        "\t[Prior] --> 255.938\n",
        "\t[Model] --> 27094.5\n",
        "\t[Obs] --> 170.225"
       ]
      },
      {
       "output_type": "stream",
       "stream": "stdout",
       "text": [
        "\n",
        "\t\t[Total] -->\n",
        "\t[Prior] --> 261.131\n",
        "\t[Model] --> 23846\n",
        "\t[Obs] --> 166.292"
       ]
      },
      {
       "output_type": "stream",
       "stream": "stdout",
       "text": [
        "\n",
        "\t\t[Total] -->\n",
        "\t[Prior] --> 268.222\n",
        "\t[Model] --> 19180.9\n",
        "\t[Obs] --> 165.637"
       ]
      },
      {
       "output_type": "stream",
       "stream": "stdout",
       "text": [
        "\n",
        "\t\t[Total] -->\n",
        "\t[Prior] --> 271.004\n",
        "\t[Model] --> 16434.4\n",
        "\t[Obs] --> 165.012"
       ]
      },
      {
       "output_type": "stream",
       "stream": "stdout",
       "text": [
        "\n",
        "\t\t[Total] -->\n",
        "\t[Prior] --> 272.243\n",
        "\t[Model] --> 14369\n",
        "\t[Obs] --> 174.239"
       ]
      },
      {
       "output_type": "stream",
       "stream": "stdout",
       "text": [
        "\n",
        "\t\t[Total] -->\n",
        "\t[Prior] --> 271.157\n",
        "\t[Model] --> 13715.6\n",
        "\t[Obs] --> 164.01"
       ]
      },
      {
       "output_type": "stream",
       "stream": "stdout",
       "text": [
        "\n",
        "\t\t[Total] -->\n",
        "\t[Prior] --> 269.667\n",
        "\t[Model] --> 13107\n",
        "\t[Obs] --> 163.541"
       ]
      },
      {
       "output_type": "stream",
       "stream": "stdout",
       "text": [
        "\n",
        "\t\t[Total] -->\n",
        "\t[Prior] --> 268.183\n",
        "\t[Model] --> 12061.5\n",
        "\t[Obs] --> 163.575"
       ]
      },
      {
       "output_type": "stream",
       "stream": "stdout",
       "text": [
        "\n",
        "\t\t[Total] -->\n",
        "\t[Prior] --> 269.778\n",
        "\t[Model] --> 10676.8\n",
        "\t[Obs] --> 165.684"
       ]
      },
      {
       "output_type": "stream",
       "stream": "stdout",
       "text": [
        "\n",
        "\t\t[Total] -->\n",
        "\t[Prior] --> 272.999\n",
        "\t[Model] --> 10463.4\n",
        "\t[Obs] --> 164.073"
       ]
      },
      {
       "output_type": "stream",
       "stream": "stdout",
       "text": [
        "\n",
        "\t\t[Total] -->\n",
        "\t[Prior] --> 275.941\n",
        "\t[Model] --> 9867.9\n",
        "\t[Obs] --> 163.955"
       ]
      },
      {
       "output_type": "stream",
       "stream": "stdout",
       "text": [
        "\n",
        "\t\t[Total] -->\n",
        "\t[Prior] --> 283.3\n",
        "\t[Model] --> 8871.26\n",
        "\t[Obs] --> 165.19"
       ]
      },
      {
       "output_type": "stream",
       "stream": "stdout",
       "text": [
        "\n",
        "\t\t[Total] -->\n",
        "\t[Prior] --> 289.884\n",
        "\t[Model] --> 8392.21\n",
        "\t[Obs] --> 164.314"
       ]
      },
      {
       "output_type": "stream",
       "stream": "stdout",
       "text": [
        "\n",
        "\t\t[Total] -->\n",
        "\t[Prior] --> 294.589\n",
        "\t[Model] --> 7751.69\n",
        "\t[Obs] --> 163.47"
       ]
      },
      {
       "output_type": "stream",
       "stream": "stdout",
       "text": [
        "\n",
        "\t\t[Total] -->\n",
        "\t[Prior] --> 306.547\n",
        "\t[Model] --> 6924.78\n",
        "\t[Obs] --> 163.443"
       ]
      },
      {
       "output_type": "stream",
       "stream": "stdout",
       "text": [
        "\n",
        "\t\t[Total] -->\n",
        "\t[Prior] --> 311.164\n",
        "\t[Model] --> 6386.53\n",
        "\t[Obs] --> 163.303"
       ]
      },
      {
       "output_type": "stream",
       "stream": "stdout",
       "text": [
        "\n",
        "\t\t[Total] -->\n",
        "\t[Prior] --> 312.364\n",
        "\t[Model] --> 5846.16\n",
        "\t[Obs] --> 162.81"
       ]
      },
      {
       "output_type": "stream",
       "stream": "stdout",
       "text": [
        "\n",
        "\t\t[Total] -->\n",
        "\t[Prior] --> 320.085\n",
        "\t[Model] --> 5177.65\n",
        "\t[Obs] --> 162.261"
       ]
      },
      {
       "output_type": "stream",
       "stream": "stdout",
       "text": [
        "\n",
        "\t\t[Total] -->\n",
        "\t[Prior] --> 326.454\n",
        "\t[Model] --> 4821.35\n",
        "\t[Obs] --> 163.057"
       ]
      },
      {
       "output_type": "stream",
       "stream": "stdout",
       "text": [
        "\n",
        "\t\t[Total] -->\n",
        "\t[Prior] --> 330.829\n",
        "\t[Model] --> 4334.77\n",
        "\t[Obs] --> 162.683"
       ]
      },
      {
       "output_type": "stream",
       "stream": "stdout",
       "text": [
        "\n",
        "\t\t[Total] -->\n",
        "\t[Prior] --> 341.685\n",
        "\t[Model] --> 3683.37\n",
        "\t[Obs] --> 162.609"
       ]
      },
      {
       "output_type": "stream",
       "stream": "stdout",
       "text": [
        "\n",
        "\t\t[Total] -->\n",
        "\t[Prior] --> 344.343\n",
        "\t[Model] --> 3816.73\n",
        "\t[Obs] --> 162.023"
       ]
      },
      {
       "output_type": "stream",
       "stream": "stdout",
       "text": [
        "\n",
        "\t\t[Total] -->\n",
        "\t[Prior] --> 342.051\n",
        "\t[Model] --> 3628.91\n",
        "\t[Obs] --> 162.324"
       ]
      },
      {
       "output_type": "stream",
       "stream": "stdout",
       "text": [
        "\n",
        "\t\t[Total] -->\n",
        "\t[Prior] --> 342.774\n",
        "\t[Model] --> 3268.29\n",
        "\t[Obs] --> 161.889"
       ]
      },
      {
       "output_type": "stream",
       "stream": "stdout",
       "text": [
        "\n",
        "\t\t[Total] -->\n",
        "\t[Prior] --> 343.444\n",
        "\t[Model] --> 2996.16\n",
        "\t[Obs] --> 161.853"
       ]
      },
      {
       "output_type": "stream",
       "stream": "stdout",
       "text": [
        "\n",
        "\t\t[Total] -->\n",
        "\t[Prior] --> 345.506\n",
        "\t[Model] --> 2485.45\n",
        "\t[Obs] --> 162.054"
       ]
      },
      {
       "output_type": "stream",
       "stream": "stdout",
       "text": [
        "\n",
        "\t\t[Total] -->\n",
        "\t[Prior] --> 348.848\n",
        "\t[Model] --> 2904.86\n",
        "\t[Obs] --> 163.307"
       ]
      },
      {
       "output_type": "stream",
       "stream": "stdout",
       "text": [
        "\n",
        "\t\t[Total] -->\n",
        "\t[Prior] --> 345.734\n",
        "\t[Model] --> 2455.51\n",
        "\t[Obs] --> 161.858"
       ]
      },
      {
       "output_type": "stream",
       "stream": "stdout",
       "text": [
        "\n",
        "\t\t[Total] -->\n",
        "\t[Prior] --> 347.766\n",
        "\t[Model] --> 2280.36\n",
        "\t[Obs] --> 161.475"
       ]
      },
      {
       "output_type": "stream",
       "stream": "stdout",
       "text": [
        "\n",
        "\t\t[Total] -->\n",
        "\t[Prior] --> 348.483\n",
        "\t[Model] --> 2153.61\n",
        "\t[Obs] --> 161.47"
       ]
      },
      {
       "output_type": "stream",
       "stream": "stdout",
       "text": [
        "\n",
        "\t\t[Total] -->\n",
        "\t[Prior] --> 349.662\n",
        "\t[Model] --> 1974.55\n",
        "\t[Obs] --> 161.844"
       ]
      },
      {
       "output_type": "stream",
       "stream": "stdout",
       "text": [
        "\n",
        "\t\t[Total] -->\n",
        "\t[Prior] --> 349.223\n",
        "\t[Model] --> 1934.21\n",
        "\t[Obs] --> 161.612"
       ]
      },
      {
       "output_type": "stream",
       "stream": "stdout",
       "text": [
        "\n",
        "\t\t[Total] -->\n",
        "\t[Prior] --> 348.867\n",
        "\t[Model] --> 1867.88\n",
        "\t[Obs] --> 161.501"
       ]
      },
      {
       "output_type": "stream",
       "stream": "stdout",
       "text": [
        "\n",
        "\t\t[Total] -->\n",
        "\t[Prior] --> 348.41\n",
        "\t[Model] --> 1809.05\n",
        "\t[Obs] --> 161.481"
       ]
      },
      {
       "output_type": "stream",
       "stream": "stdout",
       "text": [
        "\n",
        "\t\t[Total] -->\n",
        "\t[Prior] --> 347.977\n",
        "\t[Model] --> 1760.16\n",
        "\t[Obs] --> 161.418"
       ]
      },
      {
       "output_type": "stream",
       "stream": "stdout",
       "text": [
        "\n",
        "\t\t[Total] -->\n",
        "\t[Prior] --> 347.45\n",
        "\t[Model] --> 1718.23\n",
        "\t[Obs] --> 161.939"
       ]
      },
      {
       "output_type": "stream",
       "stream": "stdout",
       "text": [
        "\n",
        "\t\t[Total] -->\n",
        "\t[Prior] --> 347.498\n",
        "\t[Model] --> 1695.83\n",
        "\t[Obs] --> 161.445"
       ]
      },
      {
       "output_type": "stream",
       "stream": "stdout",
       "text": [
        "\n",
        "\t\t[Total] -->\n",
        "\t[Prior] --> 347.573\n",
        "\t[Model] --> 1680.47\n",
        "\t[Obs] --> 161.394"
       ]
      },
      {
       "output_type": "stream",
       "stream": "stdout",
       "text": [
        "\n",
        "\t\t[Total] -->\n",
        "\t[Prior] --> 347.526\n",
        "\t[Model] --> 1654.3\n",
        "\t[Obs] --> 161.399"
       ]
      },
      {
       "output_type": "stream",
       "stream": "stdout",
       "text": [
        "\n",
        "\t\t[Total] -->\n",
        "\t[Prior] --> 347.256\n",
        "\t[Model] --> 1612.84\n",
        "\t[Obs] --> 161.392"
       ]
      },
      {
       "output_type": "stream",
       "stream": "stdout",
       "text": [
        "\n",
        "\t\t[Total] -->\n",
        "\t[Prior] --> 346.588\n",
        "\t[Model] --> 1628.93\n",
        "\t[Obs] --> 161.873"
       ]
      },
      {
       "output_type": "stream",
       "stream": "stdout",
       "text": [
        "\n",
        "\t\t[Total] -->\n",
        "\t[Prior] --> 347.135\n",
        "\t[Model] --> 1605.84\n",
        "\t[Obs] --> 161.426"
       ]
      },
      {
       "output_type": "stream",
       "stream": "stdout",
       "text": [
        "\n",
        "\t\t[Total] -->\n",
        "\t[Prior] --> 346.634\n",
        "\t[Model] --> 1580.65\n",
        "\t[Obs] --> 161.471"
       ]
      },
      {
       "output_type": "stream",
       "stream": "stdout",
       "text": [
        "\n",
        "\t\t[Total] -->\n",
        "\t[Prior] --> 346.337\n",
        "\t[Model] --> 1564.27\n",
        "\t[Obs] --> 161.446"
       ]
      },
      {
       "output_type": "stream",
       "stream": "stdout",
       "text": [
        "\n",
        "\t\t[Total] -->\n",
        "\t[Prior] --> 345.664\n",
        "\t[Model] --> 1538.24\n",
        "\t[Obs] --> 161.572"
       ]
      },
      {
       "output_type": "stream",
       "stream": "stdout",
       "text": [
        "\n",
        "\t\t[Total] -->\n",
        "\t[Prior] --> 345.752\n",
        "\t[Model] --> 1530.95\n",
        "\t[Obs] --> 161.422"
       ]
      },
      {
       "output_type": "stream",
       "stream": "stdout",
       "text": [
        "\n",
        "\t\t[Total] -->\n",
        "\t[Prior] --> 345.772\n",
        "\t[Model] --> 1525.32\n",
        "\t[Obs] --> 161.416"
       ]
      },
      {
       "output_type": "stream",
       "stream": "stdout",
       "text": [
        "\n",
        "\t\t[Total] -->\n",
        "\t[Prior] --> 345.648\n",
        "\t[Model] --> 1512.63\n",
        "\t[Obs] --> 161.382"
       ]
      },
      {
       "output_type": "stream",
       "stream": "stdout",
       "text": [
        "\n",
        "\t\t[Total] -->\n",
        "\t[Prior] --> 345.221\n",
        "\t[Model] --> 1507.22\n",
        "\t[Obs] --> 161.578"
       ]
      },
      {
       "output_type": "stream",
       "stream": "stdout",
       "text": [
        "\n",
        "\t\t[Total] -->\n",
        "\t[Prior] --> 345.199\n",
        "\t[Model] --> 1498.72\n",
        "\t[Obs] --> 161.45"
       ]
      },
      {
       "output_type": "stream",
       "stream": "stdout",
       "text": [
        "\n",
        "\t\t[Total] -->\n",
        "\t[Prior] --> 345.079\n",
        "\t[Model] --> 1494.45\n",
        "\t[Obs] --> 161.435"
       ]
      },
      {
       "output_type": "stream",
       "stream": "stdout",
       "text": [
        "\n",
        "\t\t[Total] -->\n",
        "\t[Prior] --> 344.873\n",
        "\t[Model] --> 1488.95\n",
        "\t[Obs] --> 161.437"
       ]
      },
      {
       "output_type": "stream",
       "stream": "stdout",
       "text": [
        "\n",
        "\t\t[Total] -->\n",
        "\t[Prior] --> 344.676\n",
        "\t[Model] --> 1480.27\n",
        "\t[Obs] --> 161.439"
       ]
      },
      {
       "output_type": "stream",
       "stream": "stdout",
       "text": [
        "\n",
        "\t\t[Total] -->\n",
        "\t[Prior] --> 344.264\n",
        "\t[Model] --> 1488.28\n",
        "\t[Obs] --> 161.475"
       ]
      },
      {
       "output_type": "stream",
       "stream": "stdout",
       "text": [
        "\n",
        "\t\t[Total] -->\n",
        "\t[Prior] --> 344.645\n",
        "\t[Model] --> 1479.56\n",
        "\t[Obs] --> 161.438"
       ]
      },
      {
       "output_type": "stream",
       "stream": "stdout",
       "text": [
        "\n",
        "\t\t[Total] -->\n",
        "\t[Prior] --> 344.401\n",
        "\t[Model] --> 1470.93\n",
        "\t[Obs] --> 161.427"
       ]
      },
      {
       "output_type": "stream",
       "stream": "stdout",
       "text": [
        "\n",
        "\t\t[Total] -->\n",
        "\t[Prior] --> 344.329\n",
        "\t[Model] --> 1466.34\n",
        "\t[Obs] --> 161.452"
       ]
      },
      {
       "output_type": "stream",
       "stream": "stdout",
       "text": [
        "\n",
        "\t\t[Total] -->\n",
        "\t[Prior] --> 344.247\n",
        "\t[Model] --> 1458.03\n",
        "\t[Obs] --> 161.405"
       ]
      },
      {
       "output_type": "stream",
       "stream": "stdout",
       "text": [
        "\n",
        "\t\t[Total] -->\n",
        "\t[Prior] --> 344.326\n",
        "\t[Model] --> 1459.21\n",
        "\t[Obs] --> 161.397"
       ]
      },
      {
       "output_type": "stream",
       "stream": "stdout",
       "text": [
        "\n",
        "\t\t[Total] -->\n",
        "\t[Prior] --> 344.256\n",
        "\t[Model] --> 1457.97\n",
        "\t[Obs] --> 161.403"
       ]
      },
      {
       "output_type": "stream",
       "stream": "stdout",
       "text": [
        "\n",
        "\t\t[Total] -->\n",
        "\t[Prior] --> 344.302\n",
        "\t[Model] --> 1458.44\n",
        "\t[Obs] --> 161.398"
       ]
      },
      {
       "output_type": "stream",
       "stream": "stdout",
       "text": [
        "\n",
        "\t\t[Total] -->\n",
        "\t[Prior] --> 344.261\n",
        "\t[Model] --> 1457.96\n",
        "\t[Obs] --> 161.402"
       ]
      },
      {
       "output_type": "stream",
       "stream": "stdout",
       "text": [
        "\n",
        "\t\t[Total] -->\n",
        "\t[Prior] --> 344.363\n",
        "\t[Model] --> 1457.45\n",
        "\t[Obs] --> 161.413"
       ]
      },
      {
       "output_type": "stream",
       "stream": "stdout",
       "text": [
        "\n",
        "\t\t[Total] -->\n",
        "\t[Prior] --> 344.375\n",
        "\t[Model] --> 1456.06\n",
        "\t[Obs] --> 161.417"
       ]
      },
      {
       "output_type": "stream",
       "stream": "stdout",
       "text": [
        "\n",
        "\t\t[Total] -->\n",
        "\t[Prior] --> 344.367\n",
        "\t[Model] --> 1452.1\n",
        "\t[Obs] --> 161.418"
       ]
      },
      {
       "output_type": "stream",
       "stream": "stdout",
       "text": [
        "\n",
        "\t\t[Total] -->\n",
        "\t[Prior] --> 344.335\n",
        "\t[Model] --> 1451.97\n",
        "\t[Obs] --> 161.467"
       ]
      },
      {
       "output_type": "stream",
       "stream": "stdout",
       "text": [
        "\n",
        "\t\t[Total] -->\n",
        "\t[Prior] --> 344.354\n",
        "\t[Model] --> 1449.92\n",
        "\t[Obs] --> 161.426"
       ]
      },
      {
       "output_type": "stream",
       "stream": "stdout",
       "text": [
        "\n",
        "\t\t[Total] -->\n",
        "\t[Prior] --> 344.323\n",
        "\t[Model] --> 1447.93\n",
        "\t[Obs] --> 161.419"
       ]
      },
      {
       "output_type": "stream",
       "stream": "stdout",
       "text": [
        "\n",
        "\t\t[Total] -->\n",
        "\t[Prior] --> 344.287\n",
        "\t[Model] --> 1445.41\n",
        "\t[Obs] --> 161.416"
       ]
      },
      {
       "output_type": "stream",
       "stream": "stdout",
       "text": [
        "\n",
        "\t\t[Total] -->\n",
        "\t[Prior] --> 344.272\n",
        "\t[Model] --> 1444.37\n",
        "\t[Obs] --> 161.411"
       ]
      },
      {
       "output_type": "stream",
       "stream": "stdout",
       "text": [
        "\n",
        "\t\t[Total] -->\n",
        "\t[Prior] --> 344.278\n",
        "\t[Model] --> 1443.33\n",
        "\t[Obs] --> 161.449"
       ]
      },
      {
       "output_type": "stream",
       "stream": "stdout",
       "text": [
        "\n",
        "\t\t[Total] -->\n",
        "\t[Prior] --> 344.288\n",
        "\t[Model] --> 1443.34\n",
        "\t[Obs] --> 161.423"
       ]
      },
      {
       "output_type": "stream",
       "stream": "stdout",
       "text": [
        "\n",
        "\t\t[Total] -->\n",
        "\t[Prior] --> 344.305\n",
        "\t[Model] --> 1443.42\n",
        "\t[Obs] --> 161.422"
       ]
      },
      {
       "output_type": "stream",
       "stream": "stdout",
       "text": [
        "\n",
        "\t\t[Total] -->\n",
        "\t[Prior] --> 344.291\n",
        "\t[Model] --> 1443.32\n",
        "\t[Obs] --> 161.423"
       ]
      },
      {
       "output_type": "stream",
       "stream": "stdout",
       "text": [
        "\n",
        "\t\t[Total] -->\n",
        "\t[Prior] --> 344.3\n",
        "\t[Model] --> 1443.35\n",
        "\t[Obs] --> 161.422"
       ]
      },
      {
       "output_type": "stream",
       "stream": "stdout",
       "text": [
        "\n",
        "\t\t[Total] -->\n",
        "\t[Prior] --> 344.292\n",
        "\t[Model] --> 1443.32\n",
        "\t[Obs] --> 161.423"
       ]
      },
      {
       "output_type": "stream",
       "stream": "stdout",
       "text": [
        "\n",
        "\t\t[Total] -->\n",
        "\t[Prior] --> 344.322\n",
        "\t[Model] --> 1443.28\n",
        "\t[Obs] --> 161.427"
       ]
      },
      {
       "output_type": "stream",
       "stream": "stdout",
       "text": [
        "\n",
        "\t\t[Total] -->\n",
        "\t[Prior] --> 344.328\n",
        "\t[Model] --> 1442.44\n",
        "\t[Obs] --> 161.428"
       ]
      },
      {
       "output_type": "stream",
       "stream": "stdout",
       "text": [
        "\n",
        "\t\t[Total] -->\n",
        "\t[Prior] --> 344.326\n",
        "\t[Model] --> 1448.11\n",
        "\t[Obs] --> 161.475"
       ]
      },
      {
       "output_type": "stream",
       "stream": "stdout",
       "text": [
        "\n",
        "\t\t[Total] -->\n",
        "\t[Prior] --> 344.328\n",
        "\t[Model] --> 1442.49\n",
        "\t[Obs] --> 161.429"
       ]
      },
      {
       "output_type": "stream",
       "stream": "stdout",
       "text": [
        "\n",
        "\t\t[Total] -->\n",
        "\t[Prior] --> 344.328\n",
        "\t[Model] --> 1442.44\n",
        "\t[Obs] --> 161.428"
       ]
      },
      {
       "output_type": "stream",
       "stream": "stdout",
       "text": [
        "\n",
        "\t\t[Total] -->\n",
        "\t[Prior] --> 344.328\n",
        "\t[Model] --> 1442.44\n",
        "\t[Obs] --> 161.428"
       ]
      },
      {
       "output_type": "stream",
       "stream": "stdout",
       "text": [
        "\n",
        "\t\t[Total] -->\n",
        "\t[Prior] --> 344.328\n",
        "\t[Model] --> 1442.44\n",
        "\t[Obs] --> 161.428"
       ]
      },
      {
       "output_type": "stream",
       "stream": "stdout",
       "text": [
        "\n",
        "\t\t[Total] -->\n",
        "\t[Prior] --> 344.328\n",
        "\t[Model] --> 1442.44\n",
        "\t[Obs] --> 161.428"
       ]
      },
      {
       "output_type": "stream",
       "stream": "stdout",
       "text": [
        "\n",
        "\t\t[Total] -->\n",
        "\t[Prior] --> 344.328\n",
        "\t[Model] --> 1442.44\n",
        "\t[Obs] --> 161.428"
       ]
      },
      {
       "output_type": "stream",
       "stream": "stdout",
       "text": [
        "\n",
        "\t\t[Total] -->\n",
        "\t[Prior] --> 344.328\n",
        "\t[Model] --> 1442.44\n",
        "\t[Obs] --> 161.428"
       ]
      },
      {
       "output_type": "stream",
       "stream": "stdout",
       "text": [
        "\n",
        "\t\t[Total] -->\n",
        "\t[Prior] --> 344.328\n",
        "\t[Model] --> 1442.44\n",
        "\t[Obs] --> 161.428"
       ]
      },
      {
       "output_type": "stream",
       "stream": "stdout",
       "text": [
        "\n",
        "\t\t[Total] -->\n",
        "\t[Prior] --> 344.328\n",
        "\t[Model] --> 1442.44\n",
        "\t[Obs] --> 161.428"
       ]
      },
      {
       "output_type": "stream",
       "stream": "stdout",
       "text": [
        "\n",
        "\t\t[Total] -->\n",
        "\t[Prior] --> 344.328\n",
        "\t[Model] --> 1442.44\n",
        "\t[Obs] --> 161.428"
       ]
      },
      {
       "output_type": "stream",
       "stream": "stdout",
       "text": [
        "\n",
        "\t\t[Total] -->\n",
        "\t[Prior] --> 344.328\n",
        "\t[Model] --> 1442.44\n",
        "\t[Obs] --> 161.428"
       ]
      },
      {
       "output_type": "stream",
       "stream": "stdout",
       "text": [
        "\n",
        "\t\t[Total] -->\n",
        "\t[Prior] --> 344.328\n",
        "\t[Model] --> 1442.44\n",
        "\t[Obs] --> 161.428"
       ]
      },
      {
       "output_type": "stream",
       "stream": "stdout",
       "text": [
        "\n",
        "\t\t[Total] -->\n",
        "\t[Prior] --> 344.326\n",
        "\t[Model] --> 1448.11\n",
        "\t[Obs] --> 161.475"
       ]
      },
      {
       "output_type": "stream",
       "stream": "stdout",
       "text": [
        "\n",
        "\t\t[Total] -->\n",
        "\t[Prior] --> 344.328\n",
        "\t[Model] --> 1442.49\n",
        "\t[Obs] --> 161.429"
       ]
      },
      {
       "output_type": "stream",
       "stream": "stdout",
       "text": [
        "\n",
        "\t\t[Total] -->\n",
        "\t[Prior] --> 344.328\n",
        "\t[Model] --> 1442.44\n",
        "\t[Obs] --> 161.428"
       ]
      },
      {
       "output_type": "stream",
       "stream": "stdout",
       "text": [
        "\n",
        "\t\t[Total] -->\n",
        "\t[Prior] --> 344.328\n",
        "\t[Model] --> 1442.44\n",
        "\t[Obs] --> 161.428"
       ]
      },
      {
       "output_type": "stream",
       "stream": "stdout",
       "text": [
        "\n",
        "\t\t[Total] -->\n",
        "\t[Prior] --> 344.328\n",
        "\t[Model] --> 1442.44\n",
        "\t[Obs] --> 161.428"
       ]
      },
      {
       "output_type": "stream",
       "stream": "stdout",
       "text": [
        "\n",
        "\t\t[Total] -->\n",
        "\t[Prior] --> 344.328\n",
        "\t[Model] --> 1442.44\n",
        "\t[Obs] --> 161.428"
       ]
      },
      {
       "output_type": "stream",
       "stream": "stdout",
       "text": [
        "\n",
        "\t\t[Total] -->\n",
        "\t[Prior] --> 344.328\n",
        "\t[Model] --> 1442.44\n",
        "\t[Obs] --> 161.428"
       ]
      },
      {
       "output_type": "stream",
       "stream": "stdout",
       "text": [
        "\n",
        "\t\t[Total] -->\n",
        "\t[Prior] --> 344.328\n",
        "\t[Model] --> 1442.44\n",
        "\t[Obs] --> 161.428"
       ]
      },
      {
       "output_type": "stream",
       "stream": "stdout",
       "text": [
        "\n",
        "\t\t[Total] -->\n",
        "\t[Prior] --> 344.328\n",
        "\t[Model] --> 1442.44\n",
        "\t[Obs] --> 161.428"
       ]
      },
      {
       "output_type": "stream",
       "stream": "stdout",
       "text": [
        "\n",
        "\t\t[Total] -->\n",
        "\t[Prior] --> 344.328\n",
        "\t[Model] --> 1442.44\n",
        "\t[Obs] --> 161.428"
       ]
      },
      {
       "output_type": "stream",
       "stream": "stdout",
       "text": [
        "\n",
        "\t\t[Total] -->\n",
        "\t[Prior] --> 344.328\n",
        "\t[Model] --> 1442.44\n",
        "\t[Obs] --> 161.428"
       ]
      },
      {
       "output_type": "stream",
       "stream": "stdout",
       "text": [
        "\n",
        "\t\t[Total] -->\n",
        "\t[Prior] --> 344.328\n",
        "\t[Model] --> 1442.44\n",
        "\t[Obs] --> 161.428"
       ]
      },
      {
       "output_type": "stream",
       "stream": "stdout",
       "text": [
        "\n",
        "\t\t[Total] -->\n",
        "\t[Prior] --> 344.328\n",
        "\t[Model] --> 1442.44\n",
        "\t[Obs] --> 161.428"
       ]
      },
      {
       "output_type": "stream",
       "stream": "stdout",
       "text": [
        "\n",
        "\t\t[Total] -->\n",
        "\t[Prior] --> 344.328\n",
        "\t[Model] --> 1442.44\n",
        "\t[Obs] --> 161.428"
       ]
      },
      {
       "output_type": "stream",
       "stream": "stdout",
       "text": [
        "\n",
        "\t\t[Total] -->\n",
        "\t[Prior] --> 344.328\n",
        "\t[Model] --> 1442.44\n",
        "\t[Obs] --> 161.428"
       ]
      },
      {
       "output_type": "stream",
       "stream": "stdout",
       "text": [
        "\n",
        "\t\t[Total] -->\n",
        "\t[Prior] --> 344.328\n",
        "\t[Model] --> 1442.44\n",
        "\t[Obs] --> 161.428"
       ]
      },
      {
       "output_type": "stream",
       "stream": "stdout",
       "text": [
        "\n",
        "\t\t[Total] -->\n",
        "\t[Prior] --> 344.328\n",
        "\t[Model] --> 1442.44\n",
        "\t[Obs] --> 161.428"
       ]
      },
      {
       "output_type": "stream",
       "stream": "stdout",
       "text": [
        "\n",
        "\t\t[Total] -->\n",
        "\t[Prior] --> 344.328\n",
        "\t[Model] --> 1442.44\n",
        "\t[Obs] --> 161.428"
       ]
      },
      {
       "output_type": "stream",
       "stream": "stdout",
       "text": [
        "\n",
        "\t\t[Total] -->\n",
        "\t[Prior] --> 344.328\n",
        "\t[Model] --> 1442.44\n",
        "\t[Obs] --> 161.428"
       ]
      },
      {
       "output_type": "stream",
       "stream": "stdout",
       "text": [
        "\n",
        "\t\t[Total] -->\n",
        "\t[Prior] --> 344.328\n",
        "\t[Model] --> 1442.44\n",
        "\t[Obs] --> 161.428"
       ]
      },
      {
       "output_type": "stream",
       "stream": "stdout",
       "text": [
        "\n",
        "\t\t[Total] -->\n",
        "\t[Prior] --> 3493.85\n",
        "\t[Model] --> 4.59558e+07\n",
        "\t[Obs] --> 64521.8"
       ]
      },
      {
       "output_type": "stream",
       "stream": "stdout",
       "text": [
        "\n",
        "\t\t[Total] -->\n",
        "\t[Prior] --> 344.325\n",
        "\t[Model] --> 1442.39\n",
        "\t[Obs] --> 161.428"
       ]
      },
      {
       "output_type": "stream",
       "stream": "stdout",
       "text": [
        "\n",
        "\t\t[Total] -->\n",
        "\t[Prior] --> 380.915\n",
        "\t[Model] --> 3.96878e+06\n",
        "\t[Obs] --> 17095.1"
       ]
      },
      {
       "output_type": "stream",
       "stream": "stdout",
       "text": [
        "\n",
        "\t\t[Total] -->\n",
        "\t[Prior] --> 344.315\n",
        "\t[Model] --> 1442.24\n",
        "\t[Obs] --> 161.43"
       ]
      },
      {
       "output_type": "stream",
       "stream": "stdout",
       "text": [
        "\n",
        "\t\t[Total] -->\n",
        "\t[Prior] --> 344.222\n",
        "\t[Model] --> 1440.91\n",
        "\t[Obs] --> 161.438"
       ]
      },
      {
       "output_type": "stream",
       "stream": "stdout",
       "text": [
        "\n",
        "\t\t[Total] -->\n",
        "\t[Prior] --> 344.155\n",
        "\t[Model] --> 1440.93\n",
        "\t[Obs] --> 161.434"
       ]
      },
      {
       "output_type": "stream",
       "stream": "stdout",
       "text": [
        "\n",
        "\t\t[Total] -->\n",
        "\t[Prior] --> 344.109\n",
        "\t[Model] --> 1440.14\n",
        "\t[Obs] --> 161.435"
       ]
      },
      {
       "output_type": "stream",
       "stream": "stdout",
       "text": [
        "\n",
        "\t\t[Total] -->\n",
        "\t[Prior] --> 344.037\n",
        "\t[Model] --> 1440.45\n",
        "\t[Obs] --> 161.428"
       ]
      },
      {
       "output_type": "stream",
       "stream": "stdout",
       "text": [
        "\n",
        "\t\t[Total] -->\n",
        "\t[Prior] --> 344.101\n",
        "\t[Model] --> 1440.11\n",
        "\t[Obs] --> 161.434"
       ]
      },
      {
       "output_type": "stream",
       "stream": "stdout",
       "text": [
        "\n",
        "\t\t[Total] -->\n",
        "\t[Prior] --> 344.002\n",
        "\t[Model] --> 1438.34\n",
        "\t[Obs] --> 161.438"
       ]
      },
      {
       "output_type": "stream",
       "stream": "stdout",
       "text": [
        "\n",
        "\t\t[Total] -->\n",
        "\t[Prior] --> 344.013\n",
        "\t[Model] --> 1441.1\n",
        "\t[Obs] --> 161.419"
       ]
      },
      {
       "output_type": "stream",
       "stream": "stdout",
       "text": [
        "\n",
        "\t\t[Total] -->\n",
        "\t[Prior] --> 344.002\n",
        "\t[Model] --> 1438.37\n",
        "\t[Obs] --> 161.437"
       ]
      },
      {
       "output_type": "stream",
       "stream": "stdout",
       "text": [
        "\n",
        "\t\t[Total] -->\n",
        "\t[Prior] --> 344.002\n",
        "\t[Model] --> 1438.34\n",
        "\t[Obs] --> 161.438"
       ]
      },
      {
       "output_type": "stream",
       "stream": "stdout",
       "text": [
        "\n",
        "\t\t[Total] -->\n",
        "\t[Prior] --> 344.002\n",
        "\t[Model] --> 1438.34\n",
        "\t[Obs] --> 161.438"
       ]
      },
      {
       "output_type": "stream",
       "stream": "stdout",
       "text": [
        "\n",
        "\t\t[Total] -->\n",
        "\t[Prior] --> 344.002\n",
        "\t[Model] --> 1438.34\n",
        "\t[Obs] --> 161.438"
       ]
      },
      {
       "output_type": "stream",
       "stream": "stdout",
       "text": [
        "\n",
        "\t\t[Total] -->\n",
        "\t[Prior] --> 344.002\n",
        "\t[Model] --> 1438.34\n",
        "\t[Obs] --> 161.438"
       ]
      },
      {
       "output_type": "stream",
       "stream": "stdout",
       "text": [
        "\n",
        "\t\t[Total] -->\n",
        "\t[Prior] --> 344.002\n",
        "\t[Model] --> 1438.34\n",
        "\t[Obs] --> 161.438"
       ]
      },
      {
       "output_type": "stream",
       "stream": "stdout",
       "text": [
        "\n",
        "\t\t[Total] -->\n",
        "\t[Prior] --> 344.002\n",
        "\t[Model] --> 1438.34\n",
        "\t[Obs] --> 161.438"
       ]
      },
      {
       "output_type": "stream",
       "stream": "stdout",
       "text": [
        "\n",
        "\t\t[Total] -->\n",
        "\t[Prior] --> 344.002\n",
        "\t[Model] --> 1438.34\n",
        "\t[Obs] --> 161.438"
       ]
      },
      {
       "output_type": "stream",
       "stream": "stdout",
       "text": [
        "\n",
        "\t\t[Total] -->\n",
        "\t[Prior] --> 344.002\n",
        "\t[Model] --> 1438.34\n",
        "\t[Obs] --> 161.438"
       ]
      },
      {
       "output_type": "stream",
       "stream": "stdout",
       "text": [
        "\n",
        "\t\t[Total] -->\n",
        "\t[Prior] --> 344.002\n",
        "\t[Model] --> 1438.34\n",
        "\t[Obs] --> 161.438"
       ]
      },
      {
       "output_type": "stream",
       "stream": "stdout",
       "text": [
        "\n",
        "\t\t[Total] -->\n",
        "\t[Prior] --> 344.002\n",
        "\t[Model] --> 1438.34\n",
        "\t[Obs] --> 161.438"
       ]
      },
      {
       "output_type": "stream",
       "stream": "stdout",
       "text": [
        "\n",
        "\t\t[Total] -->\n",
        "\t[Prior] --> 344.002\n",
        "\t[Model] --> 1438.34\n",
        "\t[Obs] --> 161.438"
       ]
      },
      {
       "output_type": "stream",
       "stream": "stdout",
       "text": [
        "\n",
        "\t\t[Total] -->\n",
        "\t[Prior] --> 344.002\n",
        "\t[Model] --> 1438.34\n",
        "\t[Obs] --> 161.438"
       ]
      },
      {
       "output_type": "stream",
       "stream": "stdout",
       "text": [
        "\n",
        "\t\t[Total] -->\n",
        "\t[Prior] --> 344.002\n",
        "\t[Model] --> 1438.34\n",
        "\t[Obs] --> 161.438"
       ]
      },
      {
       "output_type": "stream",
       "stream": "stdout",
       "text": [
        "\n",
        "\t\t[Total] -->\n",
        "\t[Prior] --> 344.002\n",
        "\t[Model] --> 1438.34\n",
        "\t[Obs] --> 161.438"
       ]
      },
      {
       "output_type": "stream",
       "stream": "stdout",
       "text": [
        "\n",
        "\t\t[Total] -->\n",
        "\t[Prior] --> 344.002\n",
        "\t[Model] --> 1438.34\n",
        "\t[Obs] --> 161.438"
       ]
      },
      {
       "output_type": "stream",
       "stream": "stdout",
       "text": [
        "\n",
        "\t\t[Total] -->\n",
        "\t[Prior] --> 344.002\n",
        "\t[Model] --> 1438.34\n",
        "\t[Obs] --> 161.438"
       ]
      },
      {
       "output_type": "stream",
       "stream": "stdout",
       "text": [
        "\n",
        "\t\t[Total] -->\n",
        "\t[Prior] --> 344.002\n",
        "\t[Model] --> 1438.34\n",
        "\t[Obs] --> 161.438"
       ]
      },
      {
       "output_type": "stream",
       "stream": "stdout",
       "text": [
        "\n",
        "\t\t[Total] -->\n",
        "\t[Prior] --> 344.002\n",
        "\t[Model] --> 1438.34\n",
        "\t[Obs] --> 161.438"
       ]
      },
      {
       "output_type": "stream",
       "stream": "stdout",
       "text": [
        "\n",
        "\t\t[Total] -->\n",
        "\t[Prior] --> 3408.8\n",
        "\t[Model] --> 5.51435e+07\n",
        "\t[Obs] --> 128413"
       ]
      },
      {
       "output_type": "stream",
       "stream": "stdout",
       "text": [
        "\n",
        "\t\t[Total] -->\n",
        "\t[Prior] --> 344\n",
        "\t[Model] --> 1438.32\n",
        "\t[Obs] --> 161.438"
       ]
      },
      {
       "output_type": "stream",
       "stream": "stdout",
       "text": [
        "\n",
        "\t\t[Total] -->\n",
        "\t[Prior] --> 415.024\n",
        "\t[Model] --> 4.78658e+06\n",
        "\t[Obs] --> 32331.1"
       ]
      },
      {
       "output_type": "stream",
       "stream": "stdout",
       "text": [
        "\n",
        "\t\t[Total] -->\n",
        "\t[Prior] --> 343.993\n",
        "\t[Model] --> 1438.24\n",
        "\t[Obs] --> 161.44"
       ]
      },
      {
       "output_type": "stream",
       "stream": "stdout",
       "text": [
        "\n",
        "\t\t[Total] -->\n",
        "\t[Prior] --> 343.966\n",
        "\t[Model] --> 1439.72\n",
        "\t[Obs] --> 161.428"
       ]
      },
      {
       "output_type": "stream",
       "stream": "stdout",
       "text": [
        "\n",
        "\t\t[Total] -->\n",
        "\t[Prior] --> 343.992\n",
        "\t[Model] --> 1438.26\n",
        "\t[Obs] --> 161.44"
       ]
      },
      {
       "output_type": "stream",
       "stream": "stdout",
       "text": [
        "\n",
        "\t\t[Total] -->\n",
        "\t[Prior] --> 343.993\n",
        "\t[Model] --> 1438.24\n",
        "\t[Obs] --> 161.44"
       ]
      },
      {
       "output_type": "stream",
       "stream": "stdout",
       "text": [
        "\n",
        "\t\t[Total] -->\n",
        "\t[Prior] --> 343.993\n",
        "\t[Model] --> 1438.24\n",
        "\t[Obs] --> 161.44"
       ]
      },
      {
       "output_type": "stream",
       "stream": "stdout",
       "text": [
        "\n",
        "\t\t[Total] -->\n",
        "\t[Prior] --> 343.993\n",
        "\t[Model] --> 1438.24\n",
        "\t[Obs] --> 161.44"
       ]
      },
      {
       "output_type": "stream",
       "stream": "stdout",
       "text": [
        "\n",
        "\t\t[Total] -->\n",
        "\t[Prior] --> 343.993\n",
        "\t[Model] --> 1438.24\n",
        "\t[Obs] --> 161.44"
       ]
      },
      {
       "output_type": "stream",
       "stream": "stdout",
       "text": [
        "\n",
        "\t\t[Total] -->\n",
        "\t[Prior] --> 343.993\n",
        "\t[Model] --> 1438.24\n",
        "\t[Obs] --> 161.44"
       ]
      },
      {
       "output_type": "stream",
       "stream": "stdout",
       "text": [
        "\n",
        "\t\t[Total] -->\n",
        "\t[Prior] --> 343.993\n",
        "\t[Model] --> 1438.24\n",
        "\t[Obs] --> 161.44"
       ]
      },
      {
       "output_type": "stream",
       "stream": "stdout",
       "text": [
        "\n",
        "\t\t[Total] -->\n",
        "\t[Prior] --> 343.993\n",
        "\t[Model] --> 1438.24\n",
        "\t[Obs] --> 161.44"
       ]
      },
      {
       "output_type": "stream",
       "stream": "stdout",
       "text": [
        "\n",
        "\t\t[Total] -->\n",
        "\t[Prior] --> 343.993\n",
        "\t[Model] --> 1438.24\n",
        "\t[Obs] --> 161.44"
       ]
      },
      {
       "output_type": "stream",
       "stream": "stdout",
       "text": [
        "\n",
        "\t\t[Total] -->\n",
        "\t[Prior] --> 343.993\n",
        "\t[Model] --> 1438.24\n",
        "\t[Obs] --> 161.44"
       ]
      },
      {
       "output_type": "stream",
       "stream": "stdout",
       "text": [
        "\n",
        "\t\t[Total] -->\n",
        "\t[Prior] --> 343.993\n",
        "\t[Model] --> 1438.24\n",
        "\t[Obs] --> 161.44"
       ]
      },
      {
       "output_type": "stream",
       "stream": "stdout",
       "text": [
        "\n",
        "\t\t[Total] -->\n",
        "\t[Prior] --> 343.993\n",
        "\t[Model] --> 1438.24\n",
        "\t[Obs] --> 161.44"
       ]
      },
      {
       "output_type": "stream",
       "stream": "stdout",
       "text": [
        "\n",
        "\t\t[Total] -->\n",
        "\t[Prior] --> 343.993\n",
        "\t[Model] --> 1438.24\n",
        "\t[Obs] --> 161.44"
       ]
      },
      {
       "output_type": "stream",
       "stream": "stdout",
       "text": [
        "\n",
        "\t\t[Total] -->\n",
        "\t[Prior] --> 343.993\n",
        "\t[Model] --> 1438.24\n",
        "\t[Obs] --> 161.44"
       ]
      },
      {
       "output_type": "stream",
       "stream": "stdout",
       "text": [
        "\n",
        "\t\t[Total] -->\n",
        "\t[Prior] --> 343.993\n",
        "\t[Model] --> 1438.24\n",
        "\t[Obs] --> 161.44"
       ]
      },
      {
       "output_type": "stream",
       "stream": "stdout",
       "text": [
        "\n",
        "\t\t[Total] -->\n",
        "\t[Prior] --> 343.993\n",
        "\t[Model] --> 1438.24\n",
        "\t[Obs] --> 161.44"
       ]
      },
      {
       "output_type": "stream",
       "stream": "stdout",
       "text": [
        "\n",
        "\t\t[Total] -->\n",
        "\t[Prior] --> 343.993\n",
        "\t[Model] --> 1438.24\n",
        "\t[Obs] --> 161.44"
       ]
      },
      {
       "output_type": "stream",
       "stream": "stdout",
       "text": [
        "\n",
        "\t\t[Total] -->\n",
        "\t[Prior] --> 343.993\n",
        "\t[Model] --> 1438.24\n",
        "\t[Obs] --> 161.44"
       ]
      },
      {
       "output_type": "stream",
       "stream": "stdout",
       "text": [
        "\n",
        "\t\t[Total] -->\n",
        "\t[Prior] --> 343.966\n",
        "\t[Model] --> 1439.72\n",
        "\t[Obs] --> 161.428"
       ]
      },
      {
       "output_type": "stream",
       "stream": "stdout",
       "text": [
        "\n",
        "\t\t[Total] -->\n",
        "\t[Prior] --> 343.992\n",
        "\t[Model] --> 1438.26\n",
        "\t[Obs] --> 161.44"
       ]
      },
      {
       "output_type": "stream",
       "stream": "stdout",
       "text": [
        "\n",
        "\t\t[Total] -->\n",
        "\t[Prior] --> 343.993\n",
        "\t[Model] --> 1438.24\n",
        "\t[Obs] --> 161.44"
       ]
      },
      {
       "output_type": "stream",
       "stream": "stdout",
       "text": [
        "\n",
        "\t\t[Total] -->\n",
        "\t[Prior] --> 343.993\n",
        "\t[Model] --> 1438.24\n",
        "\t[Obs] --> 161.44"
       ]
      },
      {
       "output_type": "stream",
       "stream": "stdout",
       "text": [
        "\n",
        "\t\t[Total] -->\n",
        "\t[Prior] --> 343.993\n",
        "\t[Model] --> 1438.24\n",
        "\t[Obs] --> 161.44"
       ]
      },
      {
       "output_type": "stream",
       "stream": "stdout",
       "text": [
        "\n",
        "\t\t[Total] -->\n",
        "\t[Prior] --> 343.993\n",
        "\t[Model] --> 1438.24\n",
        "\t[Obs] --> 161.44"
       ]
      },
      {
       "output_type": "stream",
       "stream": "stdout",
       "text": [
        "\n",
        "\t\t[Total] -->\n",
        "\t[Prior] --> 343.993\n",
        "\t[Model] --> 1438.24\n",
        "\t[Obs] --> 161.44"
       ]
      },
      {
       "output_type": "stream",
       "stream": "stdout",
       "text": [
        "\n",
        "\t\t[Total] -->\n",
        "\t[Prior] --> 343.993\n",
        "\t[Model] --> 1438.24\n",
        "\t[Obs] --> 161.44"
       ]
      },
      {
       "output_type": "stream",
       "stream": "stdout",
       "text": [
        "\n",
        "\t\t[Total] -->\n",
        "\t[Prior] --> 343.993\n",
        "\t[Model] --> 1438.24\n",
        "\t[Obs] --> 161.44"
       ]
      },
      {
       "output_type": "stream",
       "stream": "stdout",
       "text": [
        "\n",
        "\t\t[Total] -->\n",
        "\t[Prior] --> 343.993\n",
        "\t[Model] --> 1438.24\n",
        "\t[Obs] --> 161.44"
       ]
      },
      {
       "output_type": "stream",
       "stream": "stdout",
       "text": [
        "\n",
        "\t\t[Total] -->\n",
        "\t[Prior] --> 343.993\n",
        "\t[Model] --> 1438.24\n",
        "\t[Obs] --> 161.44"
       ]
      },
      {
       "output_type": "stream",
       "stream": "stdout",
       "text": [
        "\n",
        "\t\t[Total] -->\n",
        "\t[Prior] --> 343.993\n",
        "\t[Model] --> 1438.24\n",
        "\t[Obs] --> 161.44"
       ]
      },
      {
       "output_type": "stream",
       "stream": "stdout",
       "text": [
        "\n",
        "\t\t[Total] -->\n",
        "\t[Prior] --> 343.993\n",
        "\t[Model] --> 1438.24\n",
        "\t[Obs] --> 161.44"
       ]
      },
      {
       "output_type": "stream",
       "stream": "stdout",
       "text": [
        "\n",
        "\t\t[Total] -->\n",
        "\t[Prior] --> 343.993\n",
        "\t[Model] --> 1438.24\n",
        "\t[Obs] --> 161.44"
       ]
      },
      {
       "output_type": "stream",
       "stream": "stdout",
       "text": [
        "\n",
        "\t\t[Total] -->\n",
        "\t[Prior] --> 343.993\n",
        "\t[Model] --> 1438.24\n",
        "\t[Obs] --> 161.44"
       ]
      },
      {
       "output_type": "stream",
       "stream": "stdout",
       "text": [
        "\n",
        "\t\t[Total] -->\n",
        "\t[Prior] --> 343.993\n",
        "\t[Model] --> 1438.24\n",
        "\t[Obs] --> 161.44"
       ]
      },
      {
       "output_type": "stream",
       "stream": "stdout",
       "text": [
        "\n",
        "\t\t[Total] -->\n",
        "\t[Prior] --> 343.993\n",
        "\t[Model] --> 1438.24\n",
        "\t[Obs] --> 161.44"
       ]
      },
      {
       "output_type": "stream",
       "stream": "stdout",
       "text": [
        "\n",
        "\t\t[Total] -->\n",
        "\t[Prior] --> 343.941\n",
        "\t[Model] --> 1438.48\n",
        "\t[Obs] --> 161.451"
       ]
      },
      {
       "output_type": "stream",
       "stream": "stdout",
       "text": [
        "\n",
        "\t\t[Total] -->\n",
        "\t[Prior] --> 343.988\n",
        "\t[Model] --> 1438.23\n",
        "\t[Obs] --> 161.441"
       ]
      },
      {
       "output_type": "stream",
       "stream": "stdout",
       "text": [
        "\n",
        "\t\t[Total] -->\n",
        "\t[Prior] --> 344.215\n",
        "\t[Model] --> 1513.59\n",
        "\t[Obs] --> 161.442"
       ]
      },
      {
       "output_type": "stream",
       "stream": "stdout",
       "text": [
        "\n",
        "\t\t[Total] -->\n",
        "\t[Prior] --> 343.989\n",
        "\t[Model] --> 1438.33\n",
        "\t[Obs] --> 161.439"
       ]
      },
      {
       "output_type": "stream",
       "stream": "stdout",
       "text": [
        "\n",
        "\t\t[Total] -->\n",
        "\t[Prior] --> 343.988\n",
        "\t[Model] --> 1438.23\n",
        "\t[Obs] --> 161.441"
       ]
      },
      {
       "output_type": "stream",
       "stream": "stdout",
       "text": [
        "\n",
        "\t\t[Total] -->\n",
        "\t[Prior] --> 343.988\n",
        "\t[Model] --> 1438.23\n",
        "\t[Obs] --> 161.441"
       ]
      },
      {
       "output_type": "stream",
       "stream": "stdout",
       "text": [
        "\n",
        "\t\t[Total] -->\n",
        "\t[Prior] --> 343.988\n",
        "\t[Model] --> 1438.23\n",
        "\t[Obs] --> 161.441"
       ]
      },
      {
       "output_type": "stream",
       "stream": "stdout",
       "text": [
        "\n",
        "\t\t[Total] -->\n",
        "\t[Prior] --> 343.988\n",
        "\t[Model] --> 1438.23\n",
        "\t[Obs] --> 161.441"
       ]
      },
      {
       "output_type": "stream",
       "stream": "stdout",
       "text": [
        "\n",
        "\t\t[Total] -->\n",
        "\t[Prior] --> 343.988\n",
        "\t[Model] --> 1438.23\n",
        "\t[Obs] --> 161.441"
       ]
      },
      {
       "output_type": "stream",
       "stream": "stdout",
       "text": [
        "\n",
        "\t\t[Total] -->\n",
        "\t[Prior] --> 343.988\n",
        "\t[Model] --> 1438.23\n",
        "\t[Obs] --> 161.441"
       ]
      },
      {
       "output_type": "stream",
       "stream": "stdout",
       "text": [
        "\n",
        "\t\t[Total] -->\n",
        "\t[Prior] --> 343.949\n",
        "\t[Model] --> 1444.65\n",
        "\t[Obs] --> 161.396"
       ]
      },
      {
       "output_type": "stream",
       "stream": "stdout",
       "text": [
        "\n",
        "\t\t[Total] -->\n",
        "\t[Prior] --> 343.988\n",
        "\t[Model] --> 1438.27\n",
        "\t[Obs] --> 161.44"
       ]
      },
      {
       "output_type": "stream",
       "stream": "stdout",
       "text": [
        "\n",
        "\t\t[Total] -->\n",
        "\t[Prior] --> 343.988\n",
        "\t[Model] --> 1438.23\n",
        "\t[Obs] --> 161.441"
       ]
      },
      {
       "output_type": "stream",
       "stream": "stdout",
       "text": [
        "\n",
        "\t\t[Total] -->\n",
        "\t[Prior] --> 343.988\n",
        "\t[Model] --> 1438.23\n",
        "\t[Obs] --> 161.441"
       ]
      },
      {
       "output_type": "stream",
       "stream": "stdout",
       "text": [
        "\n",
        "\t\t[Total] -->\n",
        "\t[Prior] --> 343.988\n",
        "\t[Model] --> 1438.23\n",
        "\t[Obs] --> 161.441"
       ]
      },
      {
       "output_type": "stream",
       "stream": "stdout",
       "text": [
        "\n",
        "\t\t[Total] -->\n",
        "\t[Prior] --> 343.988\n",
        "\t[Model] --> 1438.23\n",
        "\t[Obs] --> 161.441"
       ]
      },
      {
       "output_type": "stream",
       "stream": "stdout",
       "text": [
        "\n",
        "\t\t[Total] -->\n",
        "\t[Prior] --> 343.988\n",
        "\t[Model] --> 1438.23\n",
        "\t[Obs] --> 161.441"
       ]
      },
      {
       "output_type": "stream",
       "stream": "stdout",
       "text": [
        "\n",
        "\t\t[Total] -->\n",
        "\t[Prior] --> 343.988\n",
        "\t[Model] --> 1438.23\n",
        "\t[Obs] --> 161.441"
       ]
      },
      {
       "output_type": "stream",
       "stream": "stdout",
       "text": [
        "\n",
        "\t\t[Total] -->\n",
        "\t[Prior] --> 343.988\n",
        "\t[Model] --> 1438.23\n",
        "\t[Obs] --> 161.441"
       ]
      },
      {
       "output_type": "stream",
       "stream": "stdout",
       "text": [
        "\n",
        "\t\t[Total] -->\n",
        "\t[Prior] --> 343.988\n",
        "\t[Model] --> 1438.23\n",
        "\t[Obs] --> 161.441"
       ]
      },
      {
       "output_type": "stream",
       "stream": "stdout",
       "text": [
        "\n",
        "\t\t[Total] -->\n",
        "\t[Prior] --> 343.988\n",
        "\t[Model] --> 1438.23\n",
        "\t[Obs] --> 161.441"
       ]
      },
      {
       "output_type": "stream",
       "stream": "stdout",
       "text": [
        "\n",
        "\t\t[Total] -->\n",
        "\t[Prior] --> 343.988\n",
        "\t[Model] --> 1438.23\n",
        "\t[Obs] --> 161.441"
       ]
      },
      {
       "output_type": "stream",
       "stream": "stdout",
       "text": [
        "\n",
        "\t\t[Total] -->\n",
        "\t[Prior] --> 343.988\n",
        "\t[Model] --> 1438.23\n",
        "\t[Obs] --> 161.441"
       ]
      },
      {
       "output_type": "stream",
       "stream": "stdout",
       "text": [
        "\n",
        "\t\t[Total] -->\n",
        "\t[Prior] --> 343.988\n",
        "\t[Model] --> 1438.23\n",
        "\t[Obs] --> 161.441"
       ]
      },
      {
       "output_type": "stream",
       "stream": "stdout",
       "text": [
        "\n",
        "\t\t[Total] -->\n",
        "\t[Prior] --> 343.988\n",
        "\t[Model] --> 1438.23\n",
        "\t[Obs] --> 161.441"
       ]
      },
      {
       "output_type": "stream",
       "stream": "stdout",
       "text": [
        "\n",
        "\t\t[Total] -->\n",
        "\t[Prior] --> 343.988\n",
        "\t[Model] --> 1438.23\n",
        "\t[Obs] --> 161.441"
       ]
      },
      {
       "output_type": "stream",
       "stream": "stdout",
       "text": [
        "\n",
        "\t\t[Total] -->\n",
        "\t[Prior] --> 343.988\n",
        "\t[Model] --> 1438.23\n",
        "\t[Obs] --> 161.441"
       ]
      },
      {
       "output_type": "stream",
       "stream": "stdout",
       "text": [
        "\n",
        "\t\t[Total] -->\n",
        "\t[Prior] --> 343.988\n",
        "\t[Model] --> 1438.23\n",
        "\t[Obs] --> 161.441"
       ]
      },
      {
       "output_type": "stream",
       "stream": "stdout",
       "text": [
        "\n",
        "\t\t[Total] -->\n",
        "\t[Prior] --> 343.988\n",
        "\t[Model] --> 1438.23\n",
        "\t[Obs] --> 161.441"
       ]
      },
      {
       "output_type": "stream",
       "stream": "stdout",
       "text": [
        "\n",
        "\t\t[Total] -->\n",
        "\t[Prior] --> 343.986\n",
        "\t[Model] --> 1438.2\n",
        "\t[Obs] --> 161.442"
       ]
      },
      {
       "output_type": "stream",
       "stream": "stdout",
       "text": [
        "\n",
        "\t\t[Total] -->\n",
        "\t[Prior] --> 343.925\n",
        "\t[Model] --> 1456.25\n",
        "\t[Obs] --> 161.395"
       ]
      },
      {
       "output_type": "stream",
       "stream": "stdout",
       "text": [
        "\n",
        "\t\t[Total] -->\n",
        "\t[Prior] --> 343.986\n",
        "\t[Model] --> 1438.25\n",
        "\t[Obs] --> 161.441"
       ]
      },
      {
       "output_type": "stream",
       "stream": "stdout",
       "text": [
        "\n",
        "\t\t[Total] -->\n",
        "\t[Prior] --> 343.986\n",
        "\t[Model] --> 1438.2\n",
        "\t[Obs] --> 161.442"
       ]
      },
      {
       "output_type": "stream",
       "stream": "stdout",
       "text": [
        "\n",
        "\t\t[Total] -->\n",
        "\t[Prior] --> 343.986\n",
        "\t[Model] --> 1438.2\n",
        "\t[Obs] --> 161.442"
       ]
      },
      {
       "output_type": "stream",
       "stream": "stdout",
       "text": [
        "\n",
        "\t\t[Total] -->\n",
        "\t[Prior] --> 343.986\n",
        "\t[Model] --> 1438.2\n",
        "\t[Obs] --> 161.442"
       ]
      },
      {
       "output_type": "stream",
       "stream": "stdout",
       "text": [
        "\n",
        "\t\t[Total] -->\n",
        "\t[Prior] --> 343.986\n",
        "\t[Model] --> 1438.2\n",
        "\t[Obs] --> 161.442"
       ]
      },
      {
       "output_type": "stream",
       "stream": "stdout",
       "text": [
        "\n",
        "\t\t[Total] -->\n",
        "\t[Prior] --> 343.986\n",
        "\t[Model] --> 1438.2\n",
        "\t[Obs] --> 161.442"
       ]
      },
      {
       "output_type": "stream",
       "stream": "stdout",
       "text": [
        "\n",
        "\t\t[Total] -->\n",
        "\t[Prior] --> 343.986\n",
        "\t[Model] --> 1438.2\n",
        "\t[Obs] --> 161.442"
       ]
      },
      {
       "output_type": "stream",
       "stream": "stdout",
       "text": [
        "\n",
        "\t\t[Total] -->\n",
        "\t[Prior] --> 343.986\n",
        "\t[Model] --> 1438.2\n",
        "\t[Obs] --> 161.442"
       ]
      },
      {
       "output_type": "stream",
       "stream": "stdout",
       "text": [
        "\n",
        "\t\t[Total] -->\n",
        "\t[Prior] --> 343.986\n",
        "\t[Model] --> 1438.2\n",
        "\t[Obs] --> 161.442"
       ]
      },
      {
       "output_type": "stream",
       "stream": "stdout",
       "text": [
        "\n",
        "\t\t[Total] -->\n",
        "\t[Prior] --> 343.986\n",
        "\t[Model] --> 1438.2\n",
        "\t[Obs] --> 161.442"
       ]
      },
      {
       "output_type": "stream",
       "stream": "stdout",
       "text": [
        "\n",
        "\t\t[Total] -->\n",
        "\t[Prior] --> 343.986\n",
        "\t[Model] --> 1438.2\n",
        "\t[Obs] --> 161.442"
       ]
      },
      {
       "output_type": "stream",
       "stream": "stdout",
       "text": [
        "\n",
        "\t\t[Total] -->\n",
        "\t[Prior] --> 343.986\n",
        "\t[Model] --> 1438.2\n",
        "\t[Obs] --> 161.442"
       ]
      },
      {
       "output_type": "stream",
       "stream": "stdout",
       "text": [
        "\n",
        "\t\t[Total] -->\n",
        "\t[Prior] --> 343.986\n",
        "\t[Model] --> 1438.2\n",
        "\t[Obs] --> 161.442"
       ]
      },
      {
       "output_type": "stream",
       "stream": "stdout",
       "text": [
        "\n",
        "\t\t[Total] -->\n",
        "\t[Prior] --> 343.986\n",
        "\t[Model] --> 1438.2\n",
        "\t[Obs] --> 161.442"
       ]
      },
      {
       "output_type": "stream",
       "stream": "stdout",
       "text": [
        "\n",
        "\t\t[Total] -->\n",
        "\t[Prior] --> 343.986\n",
        "\t[Model] --> 1438.2\n",
        "\t[Obs] --> 161.442"
       ]
      },
      {
       "output_type": "stream",
       "stream": "stdout",
       "text": [
        "\n",
        "\t\t[Total] -->\n",
        "\t[Prior] --> 343.986\n",
        "\t[Model] --> 1438.2\n",
        "\t[Obs] --> 161.442"
       ]
      },
      {
       "output_type": "stream",
       "stream": "stdout",
       "text": [
        "\n",
        "\t\t[Total] -->\n",
        "\t[Prior] --> 343.986\n",
        "\t[Model] --> 1438.2\n",
        "\t[Obs] --> 161.442"
       ]
      },
      {
       "output_type": "stream",
       "stream": "stdout",
       "text": [
        "\n",
        "\t\t[Total] -->\n",
        "\t[Prior] --> 343.902\n",
        "\t[Model] --> 1441.23\n",
        "\t[Obs] --> 161.45"
       ]
      },
      {
       "output_type": "stream",
       "stream": "stdout",
       "text": [
        "\n",
        "\t\t[Total] -->\n",
        "\t[Prior] --> 343.985\n",
        "\t[Model] --> 1438.22\n",
        "\t[Obs] --> 161.442"
       ]
      },
      {
       "output_type": "stream",
       "stream": "stdout",
       "text": [
        "\n",
        "\t\t[Total] -->\n",
        "\t[Prior] --> 343.986\n",
        "\t[Model] --> 1438.2\n",
        "\t[Obs] --> 161.442"
       ]
      },
      {
       "output_type": "stream",
       "stream": "stdout",
       "text": [
        "\n",
        "\t\t[Total] -->\n",
        "\t[Prior] --> 343.986\n",
        "\t[Model] --> 1438.2\n",
        "\t[Obs] --> 161.442"
       ]
      },
      {
       "output_type": "stream",
       "stream": "stdout",
       "text": [
        "\n",
        "\t\t[Total] -->\n",
        "\t[Prior] --> 343.986\n",
        "\t[Model] --> 1438.2\n",
        "\t[Obs] --> 161.442"
       ]
      },
      {
       "output_type": "stream",
       "stream": "stdout",
       "text": [
        "\n",
        "\t\t[Total] -->\n",
        "\t[Prior] --> 343.986\n",
        "\t[Model] --> 1438.2\n",
        "\t[Obs] --> 161.442"
       ]
      },
      {
       "output_type": "stream",
       "stream": "stdout",
       "text": [
        "\n",
        "\t\t[Total] -->\n",
        "\t[Prior] --> 343.986\n",
        "\t[Model] --> 1438.2\n",
        "\t[Obs] --> 161.442"
       ]
      },
      {
       "output_type": "stream",
       "stream": "stdout",
       "text": [
        "\n",
        "\t\t[Total] -->\n",
        "\t[Prior] --> 343.986\n",
        "\t[Model] --> 1438.2\n",
        "\t[Obs] --> 161.442"
       ]
      },
      {
       "output_type": "stream",
       "stream": "stdout",
       "text": [
        "\n",
        "\t\t[Total] -->\n",
        "\t[Prior] --> 343.986\n",
        "\t[Model] --> 1438.2\n",
        "\t[Obs] --> 161.442"
       ]
      },
      {
       "output_type": "stream",
       "stream": "stdout",
       "text": [
        "\n",
        "\t\t[Total] -->\n",
        "\t[Prior] --> 343.986\n",
        "\t[Model] --> 1438.2\n",
        "\t[Obs] --> 161.442"
       ]
      },
      {
       "output_type": "stream",
       "stream": "stdout",
       "text": [
        "\n",
        "\t\t[Total] -->\n",
        "\t[Prior] --> 343.986\n",
        "\t[Model] --> 1438.2\n",
        "\t[Obs] --> 161.442"
       ]
      },
      {
       "output_type": "stream",
       "stream": "stdout",
       "text": [
        "\n",
        "\t\t[Total] -->\n",
        "\t[Prior] --> 343.986\n",
        "\t[Model] --> 1438.2\n",
        "\t[Obs] --> 161.442"
       ]
      },
      {
       "output_type": "stream",
       "stream": "stdout",
       "text": [
        "\n",
        "\t\t[Total] -->\n",
        "\t[Prior] --> 343.986\n",
        "\t[Model] --> 1438.2\n",
        "\t[Obs] --> 161.442"
       ]
      },
      {
       "output_type": "stream",
       "stream": "stdout",
       "text": [
        "\n",
        "\t\t[Total] -->\n",
        "\t[Prior] --> 343.986\n",
        "\t[Model] --> 1438.2\n",
        "\t[Obs] --> 161.442"
       ]
      },
      {
       "output_type": "stream",
       "stream": "stdout",
       "text": [
        "\n",
        "\t\t[Total] -->\n",
        "\t[Prior] --> 343.986\n",
        "\t[Model] --> 1438.2\n",
        "\t[Obs] --> 161.442"
       ]
      },
      {
       "output_type": "stream",
       "stream": "stdout",
       "text": [
        "\n",
        "\t\t[Total] -->\n",
        "\t[Prior] --> 343.986\n",
        "\t[Model] --> 1438.2\n",
        "\t[Obs] --> 161.442"
       ]
      },
      {
       "output_type": "stream",
       "stream": "stdout",
       "text": [
        "\n",
        "\t\t[Total] -->\n",
        "\t[Prior] --> 343.986\n",
        "\t[Model] --> 1438.2\n",
        "\t[Obs] --> 161.442"
       ]
      },
      {
       "output_type": "stream",
       "stream": "stdout",
       "text": [
        "\n",
        "\t\t[Total] -->\n",
        "\t[Prior] --> 343.986\n",
        "\t[Model] --> 1438.2\n",
        "\t[Obs] --> 161.442"
       ]
      },
      {
       "output_type": "stream",
       "stream": "stdout",
       "text": [
        "\n",
        "\t\t[Total] -->\n",
        "\t[Prior] --> 343.986\n",
        "\t[Model] --> 1438.2\n",
        "\t[Obs] --> 161.442"
       ]
      },
      {
       "output_type": "stream",
       "stream": "stdout",
       "text": [
        "\n",
        "\t\t[Total] -->\n",
        "\t[Prior] --> 343.986\n",
        "\t[Model] --> 1438.2\n",
        "\t[Obs] --> 161.442"
       ]
      },
      {
       "output_type": "stream",
       "stream": "stdout",
       "text": [
        "\n",
        "\t\t[Total] -->\n",
        "\t[Prior] --> 3198.9\n",
        "\t[Model] --> 4.08329e+07\n",
        "\t[Obs] --> 37141.2"
       ]
      },
      {
       "output_type": "stream",
       "stream": "stdout",
       "text": [
        "\n",
        "\t\t[Total] -->\n",
        "\t[Prior] --> 343.985\n",
        "\t[Model] --> 1438.2\n",
        "\t[Obs] --> 161.442"
       ]
      },
      {
       "output_type": "stream",
       "stream": "stdout",
       "text": [
        "\n",
        "\t\t[Total] -->\n",
        "\t[Prior] --> 443.371\n",
        "\t[Model] --> 3.8107e+06\n",
        "\t[Obs] --> 9743.68"
       ]
      },
      {
       "output_type": "stream",
       "stream": "stdout",
       "text": [
        "\n",
        "\t\t[Total] -->\n",
        "\t[Prior] --> 343.98\n",
        "\t[Model] --> 1438.19\n",
        "\t[Obs] --> 161.441"
       ]
      },
      {
       "output_type": "stream",
       "stream": "stdout",
       "text": [
        "\n",
        "\t\t[Total] -->\n",
        "\t[Prior] --> 343.948\n",
        "\t[Model] --> 1439.35\n",
        "\t[Obs] --> 161.432"
       ]
      },
      {
       "output_type": "stream",
       "stream": "stdout",
       "text": [
        "\n",
        "\t\t[Total] -->\n",
        "\t[Prior] --> 343.98\n",
        "\t[Model] --> 1438.2\n",
        "\t[Obs] --> 161.441"
       ]
      },
      {
       "output_type": "stream",
       "stream": "stdout",
       "text": [
        "\n",
        "\t\t[Total] -->\n",
        "\t[Prior] --> 343.98\n",
        "\t[Model] --> 1438.19\n",
        "\t[Obs] --> 161.441"
       ]
      },
      {
       "output_type": "stream",
       "stream": "stdout",
       "text": [
        "\n",
        "\t\t[Total] -->\n",
        "\t[Prior] --> 343.98\n",
        "\t[Model] --> 1438.19\n",
        "\t[Obs] --> 161.441"
       ]
      },
      {
       "output_type": "stream",
       "stream": "stdout",
       "text": [
        "\n",
        "\t\t[Total] -->\n",
        "\t[Prior] --> 343.98\n",
        "\t[Model] --> 1438.19\n",
        "\t[Obs] --> 161.441"
       ]
      },
      {
       "output_type": "stream",
       "stream": "stdout",
       "text": [
        "\n",
        "\t\t[Total] -->\n",
        "\t[Prior] --> 343.98\n",
        "\t[Model] --> 1438.19\n",
        "\t[Obs] --> 161.441"
       ]
      },
      {
       "output_type": "stream",
       "stream": "stdout",
       "text": [
        "\n",
        "\t\t[Total] -->\n",
        "\t[Prior] --> 343.98\n",
        "\t[Model] --> 1438.19\n",
        "\t[Obs] --> 161.441"
       ]
      },
      {
       "output_type": "stream",
       "stream": "stdout",
       "text": [
        "\n",
        "\t\t[Total] -->\n",
        "\t[Prior] --> 343.98\n",
        "\t[Model] --> 1438.19\n",
        "\t[Obs] --> 161.441"
       ]
      },
      {
       "output_type": "stream",
       "stream": "stdout",
       "text": [
        "\n",
        "\t\t[Total] -->\n",
        "\t[Prior] --> 343.98\n",
        "\t[Model] --> 1438.19\n",
        "\t[Obs] --> 161.441"
       ]
      },
      {
       "output_type": "stream",
       "stream": "stdout",
       "text": [
        "\n",
        "\t\t[Total] -->\n",
        "\t[Prior] --> 343.951\n",
        "\t[Model] --> 1438.38\n",
        "\t[Obs] --> 161.438"
       ]
      },
      {
       "output_type": "stream",
       "stream": "stdout",
       "text": [
        "\n",
        "\t\t[Total] -->\n",
        "\t[Prior] --> 343.979\n",
        "\t[Model] --> 1438.19\n",
        "\t[Obs] --> 161.441"
       ]
      },
      {
       "output_type": "stream",
       "stream": "stdout",
       "text": [
        "\n",
        "\t\t[Total] -->\n",
        "\t[Prior] --> 343.98\n",
        "\t[Model] --> 1438.19\n",
        "\t[Obs] --> 161.441"
       ]
      },
      {
       "output_type": "stream",
       "stream": "stdout",
       "text": [
        "\n",
        "\t\t[Total] -->\n",
        "\t[Prior] --> 343.98\n",
        "\t[Model] --> 1438.19\n",
        "\t[Obs] --> 161.441"
       ]
      },
      {
       "output_type": "stream",
       "stream": "stdout",
       "text": [
        "\n",
        "\t\t[Total] -->\n",
        "\t[Prior] --> 343.98\n",
        "\t[Model] --> 1438.19\n",
        "\t[Obs] --> 161.441"
       ]
      },
      {
       "output_type": "stream",
       "stream": "stdout",
       "text": [
        "\n",
        "\t\t[Total] -->\n",
        "\t[Prior] --> 343.98\n",
        "\t[Model] --> 1438.19\n",
        "\t[Obs] --> 161.441"
       ]
      },
      {
       "output_type": "stream",
       "stream": "stdout",
       "text": [
        "\n",
        "\t\t[Total] -->\n",
        "\t[Prior] --> 343.98\n",
        "\t[Model] --> 1438.19\n",
        "\t[Obs] --> 161.441"
       ]
      },
      {
       "output_type": "stream",
       "stream": "stdout",
       "text": [
        "\n",
        "\t\t[Total] -->\n",
        "\t[Prior] --> 343.98\n",
        "\t[Model] --> 1438.19\n",
        "\t[Obs] --> 161.441"
       ]
      },
      {
       "output_type": "stream",
       "stream": "stdout",
       "text": [
        "\n",
        "\t\t[Total] -->\n",
        "\t[Prior] --> 343.98\n",
        "\t[Model] --> 1438.19\n",
        "\t[Obs] --> 161.441"
       ]
      },
      {
       "output_type": "stream",
       "stream": "stdout",
       "text": [
        "\n",
        "\t\t[Total] -->\n",
        "\t[Prior] --> 343.98\n",
        "\t[Model] --> 1438.19\n",
        "\t[Obs] --> 161.441"
       ]
      },
      {
       "output_type": "stream",
       "stream": "stdout",
       "text": [
        "\n",
        "\t\t[Total] -->\n",
        "\t[Prior] --> 343.98\n",
        "\t[Model] --> 1438.19\n",
        "\t[Obs] --> 161.441"
       ]
      },
      {
       "output_type": "stream",
       "stream": "stdout",
       "text": [
        "\n",
        "\t\t[Total] -->\n",
        "\t[Prior] --> 343.98\n",
        "\t[Model] --> 1438.19\n",
        "\t[Obs] --> 161.441"
       ]
      },
      {
       "output_type": "stream",
       "stream": "stdout",
       "text": [
        "\n",
        "\t\t[Total] -->\n",
        "\t[Prior] --> 343.98\n",
        "\t[Model] --> 1438.19\n",
        "\t[Obs] --> 161.441"
       ]
      },
      {
       "output_type": "stream",
       "stream": "stdout",
       "text": [
        "\n",
        "\t\t[Total] -->\n",
        "\t[Prior] --> 343.98\n",
        "\t[Model] --> 1438.19\n",
        "\t[Obs] --> 161.441"
       ]
      },
      {
       "output_type": "stream",
       "stream": "stdout",
       "text": [
        "\n",
        "\t\t[Total] -->\n",
        "\t[Prior] --> 344.02\n",
        "\t[Model] --> 1462\n",
        "\t[Obs] --> 161.568"
       ]
      },
      {
       "output_type": "stream",
       "stream": "stdout",
       "text": [
        "\n",
        "\t\t[Total] -->\n",
        "\t[Prior] --> 343.981\n",
        "\t[Model] --> 1438.24\n",
        "\t[Obs] --> 161.441"
       ]
      },
      {
       "output_type": "stream",
       "stream": "stdout",
       "text": [
        "\n",
        "\t\t[Total] -->\n",
        "\t[Prior] --> 343.98\n",
        "\t[Model] --> 1438.19\n",
        "\t[Obs] --> 161.441"
       ]
      },
      {
       "output_type": "stream",
       "stream": "stdout",
       "text": [
        "\n",
        "\t\t[Total] -->\n",
        "\t[Prior] --> 343.98\n",
        "\t[Model] --> 1438.19\n",
        "\t[Obs] --> 161.441"
       ]
      },
      {
       "output_type": "stream",
       "stream": "stdout",
       "text": [
        "\n",
        "\t\t[Total] -->\n",
        "\t[Prior] --> 343.98\n",
        "\t[Model] --> 1438.19\n",
        "\t[Obs] --> 161.441"
       ]
      },
      {
       "output_type": "stream",
       "stream": "stdout",
       "text": [
        "\n",
        "\t\t[Total] -->\n",
        "\t[Prior] --> 343.98\n",
        "\t[Model] --> 1438.19\n",
        "\t[Obs] --> 161.441"
       ]
      },
      {
       "output_type": "stream",
       "stream": "stdout",
       "text": [
        "\n",
        "\t\t[Total] -->\n",
        "\t[Prior] --> 343.98\n",
        "\t[Model] --> 1438.19\n",
        "\t[Obs] --> 161.441"
       ]
      },
      {
       "output_type": "stream",
       "stream": "stdout",
       "text": [
        "\n",
        "\t\t[Total] -->\n",
        "\t[Prior] --> 343.98\n",
        "\t[Model] --> 1438.19\n",
        "\t[Obs] --> 161.441"
       ]
      },
      {
       "output_type": "stream",
       "stream": "stdout",
       "text": [
        "\n",
        "\t\t[Total] -->\n",
        "\t[Prior] --> 343.98\n",
        "\t[Model] --> 1438.19\n",
        "\t[Obs] --> 161.441"
       ]
      },
      {
       "output_type": "stream",
       "stream": "stdout",
       "text": [
        "\n",
        "\t\t[Total] -->\n",
        "\t[Prior] --> 343.952\n",
        "\t[Model] --> 1438.27\n",
        "\t[Obs] --> 161.438"
       ]
      },
      {
       "output_type": "stream",
       "stream": "stdout",
       "text": [
        "\n",
        "\t\t[Total] -->\n",
        "\t[Prior] --> 343.977\n",
        "\t[Model] --> 1438.18\n",
        "\t[Obs] --> 161.441"
       ]
      },
      {
       "output_type": "stream",
       "stream": "stdout",
       "text": [
        "\n",
        "\t\t[Total] -->\n",
        "\t[Prior] --> 344.172\n",
        "\t[Model] --> 12506.5\n",
        "\t[Obs] --> 234.42"
       ]
      },
      {
       "output_type": "stream",
       "stream": "stdout",
       "text": [
        "\n",
        "\t\t[Total] -->\n",
        "\t[Prior] --> 343.977\n",
        "\t[Model] --> 1438.26\n",
        "\t[Obs] --> 161.441"
       ]
      },
      {
       "output_type": "stream",
       "stream": "stdout",
       "text": [
        "\n",
        "\t\t[Total] -->\n",
        "\t[Prior] --> 343.977\n",
        "\t[Model] --> 1438.18\n",
        "\t[Obs] --> 161.441"
       ]
      },
      {
       "output_type": "stream",
       "stream": "stdout",
       "text": [
        "\n",
        "\t\t[Total] -->\n",
        "\t[Prior] --> 343.977\n",
        "\t[Model] --> 1438.18\n",
        "\t[Obs] --> 161.441"
       ]
      },
      {
       "output_type": "stream",
       "stream": "stdout",
       "text": [
        "\n",
        "\t\t[Total] -->\n",
        "\t[Prior] --> 343.977\n",
        "\t[Model] --> 1438.18\n",
        "\t[Obs] --> 161.441"
       ]
      },
      {
       "output_type": "stream",
       "stream": "stdout",
       "text": [
        "\n",
        "\t\t[Total] -->\n",
        "\t[Prior] --> 343.977\n",
        "\t[Model] --> 1438.18\n",
        "\t[Obs] --> 161.441"
       ]
      },
      {
       "output_type": "stream",
       "stream": "stdout",
       "text": [
        "\n",
        "\t\t[Total] -->\n",
        "\t[Prior] --> 343.977\n",
        "\t[Model] --> 1438.18\n",
        "\t[Obs] --> 161.441"
       ]
      },
      {
       "output_type": "stream",
       "stream": "stdout",
       "text": [
        "\n",
        "\t\t[Total] -->\n",
        "\t[Prior] --> 343.977\n",
        "\t[Model] --> 1438.18\n",
        "\t[Obs] --> 161.441"
       ]
      },
      {
       "output_type": "stream",
       "stream": "stdout",
       "text": [
        "\n",
        "\t\t[Total] -->\n",
        "\t[Prior] --> 343.977\n",
        "\t[Model] --> 1438.18\n",
        "\t[Obs] --> 161.441"
       ]
      },
      {
       "output_type": "stream",
       "stream": "stdout",
       "text": [
        "\n",
        "\t\t[Total] -->\n",
        "\t[Prior] --> 343.977\n",
        "\t[Model] --> 1438.18\n",
        "\t[Obs] --> 161.441"
       ]
      },
      {
       "output_type": "stream",
       "stream": "stdout",
       "text": [
        "\n",
        "\t\t[Total] -->\n",
        "\t[Prior] --> 343.977\n",
        "\t[Model] --> 1438.18\n",
        "\t[Obs] --> 161.441"
       ]
      },
      {
       "output_type": "stream",
       "stream": "stdout",
       "text": [
        "\n",
        "\t\t[Total] -->\n",
        "\t[Prior] --> 343.977\n",
        "\t[Model] --> 1438.18\n",
        "\t[Obs] --> 161.441"
       ]
      },
      {
       "output_type": "stream",
       "stream": "stdout",
       "text": [
        "\n",
        "\t\t[Total] -->\n",
        "\t[Prior] --> 343.977\n",
        "\t[Model] --> 1438.18\n",
        "\t[Obs] --> 161.441"
       ]
      },
      {
       "output_type": "stream",
       "stream": "stdout",
       "text": [
        "\n",
        "\t\t[Total] -->\n",
        "\t[Prior] --> 343.929\n",
        "\t[Model] --> 1438.96\n",
        "\t[Obs] --> 161.436"
       ]
      },
      {
       "output_type": "stream",
       "stream": "stdout",
       "text": [
        "\n",
        "\t\t[Total] -->\n",
        "\t[Prior] --> 343.975\n",
        "\t[Model] --> 1438.19\n",
        "\t[Obs] --> 161.441"
       ]
      },
      {
       "output_type": "stream",
       "stream": "stdout",
       "text": [
        "\n",
        "\t\t[Total] -->\n",
        "\t[Prior] --> 343.977\n",
        "\t[Model] --> 1438.18\n",
        "\t[Obs] --> 161.441"
       ]
      },
      {
       "output_type": "stream",
       "stream": "stdout",
       "text": [
        "\n",
        "\t\t[Total] -->\n",
        "\t[Prior] --> 343.977\n",
        "\t[Model] --> 1438.18\n",
        "\t[Obs] --> 161.441"
       ]
      },
      {
       "output_type": "stream",
       "stream": "stdout",
       "text": [
        "\n",
        "\t\t[Total] -->\n",
        "\t[Prior] --> 343.977\n",
        "\t[Model] --> 1438.18\n",
        "\t[Obs] --> 161.441"
       ]
      },
      {
       "output_type": "stream",
       "stream": "stdout",
       "text": [
        "\n",
        "\t\t[Total] -->\n",
        "\t[Prior] --> 343.977\n",
        "\t[Model] --> 1438.18\n",
        "\t[Obs] --> 161.441"
       ]
      },
      {
       "output_type": "stream",
       "stream": "stdout",
       "text": [
        "\n",
        "\t\t[Total] -->\n",
        "\t[Prior] --> 343.977\n",
        "\t[Model] --> 1438.18\n",
        "\t[Obs] --> 161.441"
       ]
      },
      {
       "output_type": "stream",
       "stream": "stdout",
       "text": [
        "\n",
        "\t\t[Total] -->\n",
        "\t[Prior] --> 343.977\n",
        "\t[Model] --> 1438.18\n",
        "\t[Obs] --> 161.441"
       ]
      },
      {
       "output_type": "stream",
       "stream": "stdout",
       "text": [
        "\n",
        "\t\t[Total] -->\n",
        "\t[Prior] --> 343.977\n",
        "\t[Model] --> 1438.18\n",
        "\t[Obs] --> 161.441"
       ]
      },
      {
       "output_type": "stream",
       "stream": "stdout",
       "text": [
        "\n",
        "\t\t[Total] -->\n",
        "\t[Prior] --> 343.977\n",
        "\t[Model] --> 1438.18\n",
        "\t[Obs] --> 161.441"
       ]
      },
      {
       "output_type": "stream",
       "stream": "stdout",
       "text": [
        "\n",
        "\t\t[Total] -->\n",
        "\t[Prior] --> 343.977\n",
        "\t[Model] --> 1438.18\n",
        "\t[Obs] --> 161.441"
       ]
      },
      {
       "output_type": "stream",
       "stream": "stdout",
       "text": [
        "\n",
        "\t\t[Total] -->\n",
        "\t[Prior] --> 343.977\n",
        "\t[Model] --> 1438.18\n",
        "\t[Obs] --> 161.441"
       ]
      },
      {
       "output_type": "stream",
       "stream": "stdout",
       "text": [
        "\n",
        "\t\t[Total] -->\n",
        "\t[Prior] --> 343.977\n",
        "\t[Model] --> 1438.18\n",
        "\t[Obs] --> 161.441"
       ]
      },
      {
       "output_type": "stream",
       "stream": "stdout",
       "text": [
        "\n",
        "\t\t[Total] -->\n",
        "\t[Prior] --> 343.977\n",
        "\t[Model] --> 1438.18\n",
        "\t[Obs] --> 161.441"
       ]
      },
      {
       "output_type": "stream",
       "stream": "stdout",
       "text": [
        "\n",
        "\t\t[Total] -->\n",
        "\t[Prior] --> 343.977\n",
        "\t[Model] --> 1438.18\n",
        "\t[Obs] --> 161.441"
       ]
      },
      {
       "output_type": "stream",
       "stream": "stdout",
       "text": [
        "\n",
        "\t\t[Total] -->\n",
        "\t[Prior] --> 343.977\n",
        "\t[Model] --> 1438.18\n",
        "\t[Obs] --> 161.441"
       ]
      },
      {
       "output_type": "stream",
       "stream": "stdout",
       "text": [
        "\n",
        "\t\t[Total] -->\n",
        "\t[Prior] --> 343.977\n",
        "\t[Model] --> 1438.18\n",
        "\t[Obs] --> 161.441"
       ]
      },
      {
       "output_type": "stream",
       "stream": "stdout",
       "text": [
        "\n",
        "\t\t[Total] -->\n",
        "\t[Prior] --> 341.467\n",
        "\t[Model] --> 2909.97\n",
        "\t[Obs] --> 163.001"
       ]
      },
      {
       "output_type": "stream",
       "stream": "stdout",
       "text": [
        "\n",
        "\t\t[Total] -->\n",
        "\t[Prior] --> 343.974\n",
        "\t[Model] --> 1438.2\n",
        "\t[Obs] --> 161.441"
       ]
      },
      {
       "output_type": "stream",
       "stream": "stdout",
       "text": [
        "\n",
        "\t\t[Total] -->\n",
        "\t[Prior] --> 343.977\n",
        "\t[Model] --> 1438.18\n",
        "\t[Obs] --> 161.441"
       ]
      },
      {
       "output_type": "stream",
       "stream": "stdout",
       "text": [
        "\n",
        "\t\t[Total] -->\n",
        "\t[Prior] --> 343.977\n",
        "\t[Model] --> 1438.18\n",
        "\t[Obs] --> 161.441"
       ]
      },
      {
       "output_type": "stream",
       "stream": "stdout",
       "text": [
        "\n",
        "\t\t[Total] -->\n",
        "\t[Prior] --> 343.977\n",
        "\t[Model] --> 1438.18\n",
        "\t[Obs] --> 161.441"
       ]
      },
      {
       "output_type": "stream",
       "stream": "stdout",
       "text": [
        "\n",
        "\t\t[Total] -->\n",
        "\t[Prior] --> 343.977\n",
        "\t[Model] --> 1438.18\n",
        "\t[Obs] --> 161.441"
       ]
      },
      {
       "output_type": "stream",
       "stream": "stdout",
       "text": [
        "\n",
        "\t\t[Total] -->\n",
        "\t[Prior] --> 343.977\n",
        "\t[Model] --> 1438.18\n",
        "\t[Obs] --> 161.441"
       ]
      },
      {
       "output_type": "stream",
       "stream": "stdout",
       "text": [
        "\n",
        "\t\t[Total] -->\n",
        "\t[Prior] --> 343.977\n",
        "\t[Model] --> 1438.18\n",
        "\t[Obs] --> 161.441"
       ]
      },
      {
       "output_type": "stream",
       "stream": "stdout",
       "text": [
        "\n",
        "\t\t[Total] -->\n",
        "\t[Prior] --> 343.977\n",
        "\t[Model] --> 1438.18\n",
        "\t[Obs] --> 161.441"
       ]
      },
      {
       "output_type": "stream",
       "stream": "stdout",
       "text": [
        "\n",
        "\t\t[Total] -->\n",
        "\t[Prior] --> 343.977\n",
        "\t[Model] --> 1438.18\n",
        "\t[Obs] --> 161.441"
       ]
      },
      {
       "output_type": "stream",
       "stream": "stdout",
       "text": [
        "\n",
        "\t\t[Total] -->\n",
        "\t[Prior] --> 343.977\n",
        "\t[Model] --> 1438.18\n",
        "\t[Obs] --> 161.441"
       ]
      },
      {
       "output_type": "stream",
       "stream": "stdout",
       "text": [
        "\n",
        "\t\t[Total] -->\n",
        "\t[Prior] --> 343.977\n",
        "\t[Model] --> 1438.18\n",
        "\t[Obs] --> 161.441"
       ]
      },
      {
       "output_type": "stream",
       "stream": "stdout",
       "text": [
        "\n",
        "\t\t[Total] -->\n",
        "\t[Prior] --> 343.977\n",
        "\t[Model] --> 1438.18\n",
        "\t[Obs] --> 161.441"
       ]
      },
      {
       "output_type": "stream",
       "stream": "stdout",
       "text": [
        "\n",
        "\t\t[Total] -->\n",
        "\t[Prior] --> 343.977\n",
        "\t[Model] --> 1438.18\n",
        "\t[Obs] --> 161.441"
       ]
      },
      {
       "output_type": "stream",
       "stream": "stdout",
       "text": [
        "\n",
        "\t\t[Total] -->\n",
        "\t[Prior] --> 343.977\n",
        "\t[Model] --> 1438.18\n",
        "\t[Obs] --> 161.441"
       ]
      },
      {
       "output_type": "stream",
       "stream": "stdout",
       "text": [
        "\n",
        "\t\t[Total] -->\n",
        "\t[Prior] --> 343.977\n",
        "\t[Model] --> 1438.18\n",
        "\t[Obs] --> 161.441"
       ]
      },
      {
       "output_type": "stream",
       "stream": "stdout",
       "text": [
        "\n",
        "\t\t[Total] -->\n",
        "\t[Prior] --> 343.977\n",
        "\t[Model] --> 1438.18\n",
        "\t[Obs] --> 161.441"
       ]
      },
      {
       "output_type": "stream",
       "stream": "stdout",
       "text": [
        "\n",
        "\t\t[Total] -->\n",
        "\t[Prior] --> 343.977\n",
        "\t[Model] --> 1438.18\n",
        "\t[Obs] --> 161.441"
       ]
      },
      {
       "output_type": "stream",
       "stream": "stdout",
       "text": [
        "\n",
        "\t\t[Total] -->\n",
        "\t[Prior] --> 343.977\n",
        "\t[Model] --> 1438.18\n",
        "\t[Obs] --> 161.441"
       ]
      },
      {
       "output_type": "stream",
       "stream": "stdout",
       "text": [
        "\n",
        "\t\t[Total] -->\n",
        "\t[Prior] --> 343.977\n",
        "\t[Model] --> 1438.18\n",
        "\t[Obs] --> 161.441"
       ]
      },
      {
       "output_type": "stream",
       "stream": "stdout",
       "text": [
        "\n",
        "\t\t[Total] -->\n",
        "\t[Prior] --> 3193.33\n",
        "\t[Model] --> 3.93004e+07\n",
        "\t[Obs] --> 62341.5"
       ]
      },
      {
       "output_type": "stream",
       "stream": "stdout",
       "text": [
        "\n",
        "\t\t[Total] -->\n",
        "\t[Prior] --> 343.976\n",
        "\t[Model] --> 1438.19\n",
        "\t[Obs] --> 161.44"
       ]
      },
      {
       "output_type": "stream",
       "stream": "stdout",
       "text": [
        "\n",
        "\t\t[Total] -->\n",
        "\t[Prior] --> 343.977\n",
        "\t[Model] --> 1438.18\n",
        "\t[Obs] --> 161.441"
       ]
      },
      {
       "output_type": "stream",
       "stream": "stdout",
       "text": [
        "\n",
        "\t\t[Total] -->\n",
        "\t[Prior] --> 343.977\n",
        "\t[Model] --> 1438.18\n",
        "\t[Obs] --> 161.441"
       ]
      },
      {
       "output_type": "stream",
       "stream": "stdout",
       "text": [
        "\n",
        "\t\t[Total] -->\n",
        "\t[Prior] --> 343.977\n",
        "\t[Model] --> 1438.18\n",
        "\t[Obs] --> 161.441"
       ]
      },
      {
       "output_type": "stream",
       "stream": "stdout",
       "text": [
        "\n",
        "\t\t[Total] -->\n",
        "\t[Prior] --> 343.977\n",
        "\t[Model] --> 1438.18\n",
        "\t[Obs] --> 161.441"
       ]
      },
      {
       "output_type": "stream",
       "stream": "stdout",
       "text": [
        "\n",
        "\t\t[Total] -->\n",
        "\t[Prior] --> 343.977\n",
        "\t[Model] --> 1438.18\n",
        "\t[Obs] --> 161.441"
       ]
      },
      {
       "output_type": "stream",
       "stream": "stdout",
       "text": [
        "\n",
        "\t\t[Total] -->\n",
        "\t[Prior] --> 343.977\n",
        "\t[Model] --> 1438.18\n",
        "\t[Obs] --> 161.441"
       ]
      },
      {
       "output_type": "stream",
       "stream": "stdout",
       "text": [
        "\n",
        "\t\t[Total] -->\n",
        "\t[Prior] --> 343.977\n",
        "\t[Model] --> 1438.18\n",
        "\t[Obs] --> 161.441"
       ]
      },
      {
       "output_type": "stream",
       "stream": "stdout",
       "text": [
        "\n",
        "\t\t[Total] -->\n",
        "\t[Prior] --> 343.977\n",
        "\t[Model] --> 1438.18\n",
        "\t[Obs] --> 161.441"
       ]
      },
      {
       "output_type": "stream",
       "stream": "stdout",
       "text": [
        "\n",
        "\t\t[Total] -->\n",
        "\t[Prior] --> 343.977\n",
        "\t[Model] --> 1438.18\n",
        "\t[Obs] --> 161.441"
       ]
      },
      {
       "output_type": "stream",
       "stream": "stdout",
       "text": [
        "\n",
        "\t\t[Total] -->\n",
        "\t[Prior] --> 343.977\n",
        "\t[Model] --> 1438.18\n",
        "\t[Obs] --> 161.441"
       ]
      },
      {
       "output_type": "stream",
       "stream": "stdout",
       "text": [
        "\n",
        "\t\t[Total] -->\n",
        "\t[Prior] --> 343.977\n",
        "\t[Model] --> 1438.18\n",
        "\t[Obs] --> 161.441"
       ]
      },
      {
       "output_type": "stream",
       "stream": "stdout",
       "text": [
        "\n",
        "\t\t[Total] -->\n",
        "\t[Prior] --> 343.977\n",
        "\t[Model] --> 1438.18\n",
        "\t[Obs] --> 161.441"
       ]
      },
      {
       "output_type": "stream",
       "stream": "stdout",
       "text": [
        "\n",
        "\t\t[Total] -->\n",
        "\t[Prior] --> 343.977\n",
        "\t[Model] --> 1438.18\n",
        "\t[Obs] --> 161.441"
       ]
      },
      {
       "output_type": "stream",
       "stream": "stdout",
       "text": [
        "\n",
        "\t\t[Total] -->\n",
        "\t[Prior] --> 343.977\n",
        "\t[Model] --> 1438.18\n",
        "\t[Obs] --> 161.441"
       ]
      },
      {
       "output_type": "stream",
       "stream": "stdout",
       "text": [
        "\n",
        "\t\t[Total] -->\n",
        "\t[Prior] --> 343.977\n",
        "\t[Model] --> 1438.18\n",
        "\t[Obs] --> 161.441"
       ]
      },
      {
       "output_type": "stream",
       "stream": "stdout",
       "text": [
        "\n",
        "\t\t[Total] -->\n",
        "\t[Prior] --> 343.977\n",
        "\t[Model] --> 1438.18\n",
        "\t[Obs] --> 161.441"
       ]
      },
      {
       "output_type": "stream",
       "stream": "stdout",
       "text": [
        "\n",
        "\t\t[Total] -->\n",
        "\t[Prior] --> 343.977\n",
        "\t[Model] --> 1438.18\n",
        "\t[Obs] --> 161.441"
       ]
      },
      {
       "output_type": "stream",
       "stream": "stdout",
       "text": [
        "\n",
        "\t\t[Total] -->\n",
        "\t[Prior] --> 343.977\n",
        "\t[Model] --> 1438.18\n",
        "\t[Obs] --> 161.441"
       ]
      },
      {
       "output_type": "stream",
       "stream": "stdout",
       "text": [
        "\n",
        "\t\t[Total] -->\n",
        "(array([ 0.33080154,  0.98273378,  0.96630062,  0.95052401,  0.9346254 ,\n",
        "        0.91901285,  0.90388582,  0.88946329,  0.89188063,  0.8944039 ,\n",
        "        0.89702108,  0.8993571 ,  0.90161586,  0.90390591,  0.90626685,\n",
        "        0.90386977,  0.90139671,  0.89897486,  0.89677893,  0.89501906,\n",
        "        0.89345603,  0.89217719,  0.89112641,  0.89071343,  0.89067999,\n",
        "        0.8911641 ,  0.8920155 ,  0.89313418,  0.89438856,  0.89208437,\n",
        "        0.89007394,  0.88832511,  0.88692276,  0.88556083,  0.88426496,\n",
        "        0.88325501,  0.88286176,  0.88269084,  0.88260459,  0.88282439,\n",
        "        0.88331377,  0.88414063,  0.88515859,  0.88545863,  0.88582219,\n",
        "        0.88615822,  0.88626344,  0.88636308,  0.88647865,  0.88665558,\n",
        "        0.88270556,  0.87865494,  0.874439  ,  0.87062196,  0.86677532,\n",
        "        0.86283563,  0.85888143,  0.85496507,  0.85189542,  0.848922  ,\n",
        "        0.84615013,  0.8434825 ,  0.84132377,  0.83926122,  0.83521596,\n",
        "        0.83091395,  0.82668751,  0.82284525,  0.81893368,  0.81491322,\n",
        "        0.81084629,  0.80425851,  0.79787245,  0.79158949,  0.78538231,\n",
        "        0.77908193,  0.77287773,  0.76690607,  0.75837429,  0.74972268,\n",
        "        0.74161889,  0.73363924,  0.72565904,  0.71747927,  0.70943227,\n",
        "        0.70183914,  0.69436928,  0.68651505,  0.67837738,  0.67056907,\n",
        "        0.66289615,  0.65537357,  0.64201299,  0.62897515,  0.61639233,\n",
        "        0.60398332,  0.59225896,  0.58145609,  0.57096328,  0.56123369,\n",
        "        0.5515919 ,  0.5426074 ,  0.53421417,  0.52628439,  0.51881874,\n",
        "        0.51170761,  0.50509373,  0.49894897,  0.49311497,  0.48765829,\n",
        "        0.48234034,  0.47731778,  0.4723869 ,  0.46300016,  0.45396652,\n",
        "        0.44493668,  0.4360856 ,  0.42742212,  0.41868078,  0.41030146,\n",
        "        0.40364853,  0.39706877,  0.39056949,  0.38415376,  0.37783209,\n",
        "        0.37155996,  0.36530068,  0.35624962,  0.34750441,  0.33894028,\n",
        "        0.33072381,  0.32255079,  0.31447033,  0.30671423,  0.29927766,\n",
        "        0.29195022,  0.28482946,  0.27778272,  0.27086934,  0.26417843,\n",
        "        0.2576464 ,  0.25540556,  0.25314076,  0.25084848,  0.24843148,\n",
        "        0.246176  ,  0.24397259,  0.24158158,  0.2364602 ,  0.23142675,\n",
        "        0.22647366,  0.22158975,  0.21679482,  0.2120418 ,  0.20743389,\n",
        "        0.20422581,  0.20104951,  0.19789832,  0.19475103,  0.19164995,\n",
        "        0.18857188,  0.18538415,  0.1840085 ,  0.18269022,  0.18137206,\n",
        "        0.18004454,  0.17875727,  0.17750815,  0.17617458,  0.17475344,\n",
        "        0.17335812,  0.17195297,  0.17055125,  0.1691327 ,  0.16769261,\n",
        "        0.16617838,  0.16469838,  0.1631999 ,  0.16168539,  0.16013304,\n",
        "        0.15848048,  0.15678284,  0.15508463,  0.15670917,  0.15851882,\n",
        "        0.16036207,  0.16221393,  0.16407024,  0.16589957,  0.16773428,\n",
        "        0.16953884,  0.17133187,  0.17301513,  0.17465841,  0.17625795,\n",
        "        0.1778105 ,  0.17935762,  0.18088703,  0.18246251,  0.18401587,\n",
        "        0.18557594,  0.18714165,  0.18854253,  0.18999257,  0.19290823,\n",
        "        0.19580434,  0.19853427,  0.20125717,  0.20401195,  0.20701163,\n",
        "        0.21018712,  0.21343374,  0.21668146,  0.21995209,  0.22331143,\n",
        "        0.22671213,  0.23009906,  0.2335342 ,  0.23704277,  0.24060635,\n",
        "        0.24428442,  0.24812689,  0.25202098,  0.25561027,  0.25924118,\n",
        "        0.26501756,  0.27087535,  0.27675347,  0.28277981,  0.28893691,\n",
        "        0.29514098,  0.30129637,  0.30745947,  0.31368457,  0.31987711,\n",
        "        0.32596764,  0.33218115,  0.33853324,  0.34487377,  0.35383719,\n",
        "        0.36301765,  0.37228642,  0.38187078,  0.39144097,  0.40155195,\n",
        "        0.41176215,  0.42011084,  0.42835437,  0.4368837 ,  0.44559222,\n",
        "        0.45449533,  0.46353394,  0.47272694,  0.47906005,  0.48545415,\n",
        "        0.49183467,  0.4983666 ,  0.50514832,  0.51220692,  0.51941597,\n",
        "        0.52836722,  0.53761868,  0.54696753,  0.55646997,  0.56613781,\n",
        "        0.57607719,  0.58643054,  0.5969938 ,  0.60765849,  0.61845784,\n",
        "        0.62942707,  0.64062726,  0.65223379,  0.66408486,  0.67232565,\n",
        "        0.68035255,  0.68841344,  0.69660465,  0.70512099,  0.71350302,\n",
        "        0.72178121,  0.72790245,  0.73429133,  0.74104071,  0.7479734 ,\n",
        "        0.7549598 ,  0.76202979,  0.76909677,  0.77622193,  0.78344101,\n",
        "        0.79068996,  0.79814836,  0.80572999,  0.81319814,  0.82054841,\n",
        "        0.82267945,  0.82492457,  0.82725662,  0.8298079 ,  0.83242351,\n",
        "        0.83499985,  0.83741992,  0.84042229,  0.84368092,  0.84713758,\n",
        "        0.85066545,  0.85397357,  0.85744382,  0.86130899,  0.86306779,\n",
        "        0.86522731,  0.86745196,  0.86949778,  0.87155268,  0.87376869,\n",
        "        0.87623325,  0.87812112,  0.88036803,  0.88284214,  0.88517478,\n",
        "        0.88753434,  0.89009827,  0.89283064,  0.89182741,  0.89123716,\n",
        "        0.89090371,  0.89054045,  0.89023891,  0.89004531,  0.89030042,\n",
        "        0.88758579,  0.88508581,  0.88340089,  0.8812843 ,  0.87932484,\n",
        "        0.87744892,  0.87611081,  0.87919997,  0.88280826,  0.88669324,\n",
        "        0.89061294,  0.89438483,  0.89834744,  0.90281546,  0.9026006 ,\n",
        "        0.90284138,  0.90315246,  0.90352648,  0.90379628,  0.90454751,\n",
        "        0.90574794,  0.90502115,  0.90438398,  0.90395294,  0.90360165,\n",
        "        0.90331299,  0.90290769,  0.90252067,  0.90103466,  0.89959589,\n",
        "        0.89822384,  0.8965324 ,  0.89483646,  0.89298906,  0.89127101]), matrix([[ 1943.59773253]]), {'warnflag': 2, 'task': 'ABNORMAL_TERMINATION_IN_LNSRCH', 'grad': array([ -2.12473343e-01,  -9.10980330e+00,  -6.10267379e+00,\n",
        "         1.00194713e+01,   1.42653534e+00,  -3.14176862e+00,\n",
        "        -8.44711782e+00,  -7.64793903e+00,  -4.50915825e-01,\n",
        "        -1.57685640e-01,   8.20413888e+00,   3.63670116e+00,\n",
        "         1.22595729e+00,   3.61919888e-01,  -8.24661416e+00,\n",
        "         3.62424132e+00,   8.03761007e-01,  -3.10689284e+00,\n",
        "        -7.84467019e+00,  -2.55111063e+00,  -4.53591059e+00,\n",
        "        -3.30627472e+00,  -1.25288334e+01,  -6.75152969e+00,\n",
        "        -9.85003491e+00,  -6.46114821e+00,  -4.19655431e+00,\n",
        "        -1.22953581e+00,  -1.30757763e-01,  -4.69699563e+00,\n",
        "        -4.02132017e+00,  -5.97426217e+00,   8.97519243e-01,\n",
        "         3.09733763e-01,  -4.67806594e+00,  -1.21976411e+01,\n",
        "        -3.28332829e+00,  -1.67598506e-01,  -5.18427813e+00,\n",
        "        -4.35271729e+00,  -5.87740121e+00,  -2.54726062e+00,\n",
        "        -3.57890580e+00,   3.24892594e-01,   2.38226222e+00,\n",
        "         6.96905807e+00,   1.88452380e+00,   1.39990681e+00,\n",
        "         3.74897792e-01,  -6.30937750e+00,   4.44059785e+00,\n",
        "         5.94701048e+00,  -6.96878696e+00,   2.79004470e+00,\n",
        "         4.26478784e+00,   2.45971040e+00,   1.23439915e+00,\n",
        "        -1.77816119e+01,  -3.28356028e-01,  -2.84670420e+00,\n",
        "        -5.91016839e-01,  -1.02420152e+01,  -5.05949263e-01,\n",
        "        -2.38676347e+00,   8.28776820e+00,   3.37456851e-01,\n",
        "        -7.19782460e+00,   3.73846356e+00,   4.72921312e+00,\n",
        "         3.22368683e+00,  -5.95748238e+00,  -2.15050320e+00,\n",
        "         2.24218740e-01,   8.63116045e-01,   5.15835055e+00,\n",
        "         3.19570525e-01,  -3.29145766e+00,  -4.62922753e+00,\n",
        "         7.17489338e+00,  -1.06917568e+01,   4.05788069e-01,\n",
        "         3.76181927e+00,   9.34018181e+00,   1.92173785e-01,\n",
        "        -9.05122654e+00,   8.21593478e-02,   1.47797734e+01,\n",
        "         1.22204540e+01,  -5.72353598e+00,  -1.72641656e-01,\n",
        "        -7.30810849e-01,   1.12635706e+00,  -4.87868057e-01,\n",
        "        -5.10135678e+00,   3.61201440e+00,  -1.36977972e+01,\n",
        "        -2.29294190e+01,  -3.04351692e+00,  -1.95817841e+01,\n",
        "         3.67256911e+00,  -1.73192836e+01,  -1.58872402e+01,\n",
        "        -1.19366164e+01,  -1.26420237e+01,  -9.03197145e+00,\n",
        "        -1.51766117e+01,  -1.47491271e+01,  -8.96528481e+00,\n",
        "        -1.20950106e+01,  -2.68513384e+00,  -9.40789816e+00,\n",
        "        -1.14660344e+00,   8.24656618e+00,  -6.88038845e+00,\n",
        "         8.17082209e+00,   4.19808333e-01,  -1.99296654e-01,\n",
        "         1.22373225e+01,  -8.67598113e+00,  -1.61184320e+00,\n",
        "         1.93377435e+00,   1.52368545e+00,   1.30802981e+00,\n",
        "         6.86624086e-01,   2.98561028e+00,   5.01658022e+00,\n",
        "        -3.17653987e+00,  -4.76089981e+00,   1.86831541e+00,\n",
        "        -8.42662471e+00,   9.44143529e+00,   6.69464616e+00,\n",
        "        -8.26665078e+00,  -5.08463005e+00,   4.46236257e+00,\n",
        "        -2.37811033e+00,   6.66262546e+00,   2.46374433e+00,\n",
        "        -4.42941253e+00,  -1.65935998e-01,   3.04789108e+01,\n",
        "         2.70215874e+00,   3.04457212e+00,   1.09425585e+01,\n",
        "        -1.20193709e+01,  -3.39279967e+00,   1.63349154e+01,\n",
        "         7.26473215e+00,   8.99215981e-01,   1.43808572e+00,\n",
        "         2.35374104e+00,   4.94133576e-01,   4.77480285e+00,\n",
        "        -5.04644307e+00,  -5.30434658e+00,   5.96820850e-01,\n",
        "         1.24654130e+00,   3.43176607e+00,  -8.71513329e-01,\n",
        "         1.49225886e+00,   1.58198253e+01,   1.56714932e+00,\n",
        "        -6.54911436e+00,  -3.71988511e-01,   6.81226164e-01,\n",
        "        -4.84455837e+00,  -4.70520359e+00,   9.11726165e+00,\n",
        "         9.69327465e+00,  -3.14561977e+00,   9.34490319e-01,\n",
        "        -5.87697075e-01,   1.80455627e+00,   2.42031135e+00,\n",
        "         8.82584225e+00,  -2.31551490e+01,   2.27353029e+00,\n",
        "         2.04387138e+00,   4.83569083e+00,   1.28572535e+01,\n",
        "         6.24141362e+00,   7.12921151e-01,   8.95731996e+01,\n",
        "        -2.29256331e+01,  -3.26792092e+00,  -8.00228324e-02,\n",
        "         4.27091494e-01,   4.19753991e+00,   1.97850233e-01,\n",
        "         4.37797294e+00,   2.06330327e+00,   1.33472476e+01,\n",
        "         4.96145367e+00,   5.24335515e+00,   5.46016361e+00,\n",
        "         6.77128147e-01,   2.00788168e+00,  -5.03949201e+00,\n",
        "         2.49286116e+00,  -6.83445516e-01,  -5.57914819e-01,\n",
        "         1.75252240e+01,  -5.40818473e+00,   5.97986472e+01,\n",
        "         5.27508695e+00,   1.98488109e+01,   3.24669906e+00,\n",
        "        -6.70259802e-01,  -2.12072987e+01,  -1.36859075e+01,\n",
        "        -3.22058457e+00,   3.43815435e+00,   1.35123461e+00,\n",
        "        -4.55131991e+00,  -1.22604960e-01,   4.73087777e+00,\n",
        "        -7.34821471e-01,  -2.77800829e+00,  -1.06892369e+00,\n",
        "        -5.83781318e+00,  -9.53987105e+00,  -8.78182372e-02,\n",
        "         2.78533665e+01,   4.84502363e-03,   3.48702423e-01,\n",
        "         2.83628877e+00,   7.27430087e+00,  -2.03094379e+00,\n",
        "        -4.94385246e-01,   5.41752966e+00,   1.16308135e+01,\n",
        "         7.44722251e+00,   3.72668510e+00,   9.59423143e+00,\n",
        "         1.34752623e+01,  -6.63973420e-01,  -1.39401239e+00,\n",
        "         7.54670898e+00,   6.68878726e-02,   7.99711862e-01,\n",
        "         8.02296096e+00,  -4.11003128e+00,   1.34009252e+01,\n",
        "        -1.48707284e+01,   8.04004792e+00,  -7.85962808e+01,\n",
        "         1.30754511e+01,  -5.37526622e+00,  -7.63188373e-02,\n",
        "        -5.40221604e-01,   2.25090119e+00,   1.53583266e+00,\n",
        "        -6.98181480e+00,   1.51100166e+00,   4.57705581e+00,\n",
        "        -2.13059011e+00,  -5.84894611e+00,  -6.57481802e+00,\n",
        "        -1.33355402e+00,   2.47888811e+00,  -4.70626233e+00,\n",
        "         3.12085987e+00,   1.11596933e+00,   8.16411293e-01,\n",
        "        -2.73386068e+00,  -7.27198347e+00,  -6.20709116e+00,\n",
        "         3.89259911e+00,   2.80936707e+00,   1.73976008e+00,\n",
        "        -6.22548746e-02,  -5.24068015e+00,   1.13692194e-01,\n",
        "         3.31309640e+00,   1.04973393e+01,   3.02661401e+00,\n",
        "         2.53672740e-01,  -5.18175320e+00,   7.98341275e+00,\n",
        "         6.96249394e+00,   8.06815771e-01,  -4.51177175e+00,\n",
        "        -6.83568185e+00,  -1.84210497e+00,   1.71460350e+00,\n",
        "         9.56495304e-01,   3.25630475e+00,   1.66467135e+00,\n",
        "         7.80747428e-01,   2.45448368e+00,  -2.03749639e+00,\n",
        "         2.36384095e-01,   6.12958170e+00,   6.14630933e+00,\n",
        "         1.48947356e+00,  -1.02229839e+00,  -3.38308845e-01,\n",
        "        -3.50518585e+00,   2.70298887e-01,   2.77132798e+00,\n",
        "         5.56142882e+00,  -6.43377085e+00,  -4.16839387e+00,\n",
        "        -2.71710911e+00,   3.26544061e-01,   7.16666044e+00,\n",
        "        -1.79762140e+00,  -7.15251105e+00,  -7.85679245e+00,\n",
        "        -7.47643924e+00,   3.33405379e-01,   5.96013330e+00,\n",
        "         1.62275111e+00,  -1.85189872e+00,  -3.81516262e+00,\n",
        "        -2.32369326e+00,  -6.32548230e+00,  -3.27233294e+00,\n",
        "         5.10400931e+00,   1.28847462e+00,  -2.68999642e+00,\n",
        "        -1.84039321e+00,  -8.33112417e+00,  -7.47324257e+00,\n",
        "        -3.98724844e+00,   2.44111365e+00,   3.84881473e-01,\n",
        "        -6.55810180e-01,  -8.31460695e+00,  -9.24629975e+00,\n",
        "        -2.90243457e+00,  -1.65459411e+01,   1.16186792e+01,\n",
        "        -1.71143256e+00,  -6.20519613e-02,  -1.04512638e+01,\n",
        "        -6.44969394e-01,  -9.77502531e+00,  -4.15719415e+00,\n",
        "         1.36388764e+00,   5.46071806e+00,  -2.11405646e+00,\n",
        "        -9.02469690e+00,  -6.04280215e+00,  -8.29974659e+00,\n",
        "         2.40163609e-01,   4.05427293e-01,   4.10661453e+00,\n",
        "        -8.84801210e+00,  -8.10821072e+00,  -6.25649176e+00,\n",
        "        -1.68793074e-01,  -2.75234997e+00,   3.74330729e-02,\n",
        "         4.13562633e-01,   4.38229666e+00,   1.39441428e+00,\n",
        "        -9.16413167e+00,   7.95569199e-01,   3.54066763e-01,\n",
        "         8.95547937e+00,   1.95337449e+00,   5.24159062e+00,\n",
        "        -1.04359400e+00,   1.01644199e+00]), 'nit': 109, 'funcalls': 380})\n"
       ]
      }
     ],
     "prompt_number": 29
    },
    {
     "cell_type": "code",
     "collapsed": false,
     "input": [
      "[ plt.axvline(x=i, color=\"0.8\") for i in doys ] \n",
      "plt.plot ( state_grid, retval['lai'] , lw=2.5, label=\"DA solution\")\n",
      "plt.plot ( state_grid, x_dict['lai'], 'x', label=\"Initial guess\" )\n",
      "plt.plot ( state_grid, parameter_grid[6, :] , lw=2.5, label=\"Truth\")\n",
      "\n",
      "plt.legend(loc='best', fancybox=True, shadow=True )\n",
      "plt.xlabel(\"DoY\")\n",
      "plt.ylabel(\"LAI\")"
     ],
     "language": "python",
     "metadata": {},
     "outputs": [
      {
       "metadata": {},
       "output_type": "pyout",
       "prompt_number": 30,
       "text": [
        "<matplotlib.text.Text at 0x2af35211be90>"
       ]
      },
      {
       "metadata": {},
       "output_type": "display_data",
       "png": "[encoded data removed]",
       "text": [
        "<matplotlib.figure.Figure at 0x168d5890>"
       ]
      }
     ],
     "prompt_number": 30
    },
    {
     "cell_type": "code",
     "collapsed": false,
     "input": [
      "state_config = OrderedDict ()\n",
      "\n",
      "state_config['n'] = FIXED\n",
      "state_config['cab'] = VARIABLE\n",
      "state_config['car'] = FIXED\n",
      "state_config['cbrown'] = FIXED\n",
      "state_config['cw'] = FIXED\n",
      "state_config['cm'] = FIXED\n",
      "state_config['lai'] = VARIABLE\n",
      "state_config['ala'] = FIXED\n",
      "state_config['bsoil'] = FIXED\n",
      "state_config['psoil'] = FIXED\n",
      "\n",
      "    \n",
      "    \n",
      "    \n",
      "    \n",
      "# Now define the default values\n",
      "default_par = OrderedDict ()\n",
      "default_par['n'] = 1.5\n",
      "default_par['cab'] = 40.\n",
      "default_par['car'] = 10.\n",
      "default_par['cbrown'] = 0.01\n",
      "default_par['cw'] = 0.018 # Say?\n",
      "default_par['cm'] = 0.0065 # Say?\n",
      "default_par['lai'] = 2\n",
      "default_par['ala'] = 45.\n",
      "default_par['bsoil'] = 1.\n",
      "default_par['psoil'] = 0.1\n",
      "\n",
      "parameter_min = OrderedDict()\n",
      "parameter_max = OrderedDict()\n",
      "    \n",
      "min_vals = [ 0.8, 0.2, 0.0, 0.0, 0.0043, 0.0017,0.01, 40, 0., 0., 0.]\n",
      "max_vals = [2.5, 77., 5., 1., 0.0713, 0.0331, 8., 50., 2., 1.]\n",
      "\n",
      "for i, param in enumerate ( state_config.keys() ):\n",
      "    parameter_min[param] = min_vals[i]\n",
      "    parameter_max[param] = max_vals[i]\n",
      "    # Define parameter transformations\n",
      "transformations = {\n",
      "        'lai': lambda x: np.exp ( -x/2. ), \\\n",
      "        'cab': lambda x: np.exp ( -x/100. ), \\\n",
      "        'car': lambda x: np.exp ( -x/100. ), \\\n",
      "        'cw': lambda x: np.exp ( -50.*x ), \\\n",
      "        'cm': lambda x: np.exp ( -100.*x ), \\\n",
      "        'ala': lambda x: x/90. }\n",
      "inv_transformations = {\n",
      "        'lai': lambda x: -2*np.log ( x ), \\\n",
      "        'cab': lambda x: -100*np.log ( x ), \\\n",
      "        'car': lambda x: -100*np.log( x ), \\\n",
      "        'cw': lambda x: (-1/50.)*np.log ( x ), \\\n",
      "        'cm': lambda x: (-1/100.)*np.log ( x ), \\\n",
      "        'ala': lambda x: 90.*x }\n",
      "\n",
      "# Define the state grid. In time in this case\n",
      "state_grid = np.arange ( 1, 366 )\n",
      "    \n",
      "# Define the state\n",
      "# L'etat, c'est moi\n",
      "state = State ( state_config, state_grid, default_par, \\\n",
      "        parameter_min, parameter_max )\n",
      "# Set the transformations\n",
      "state.set_transformations ( transformations, inv_transformations )\n",
      "\n",
      "def cab_traj ( t ):\n",
      "    out = t*0.\n",
      "    w = np.where( t <= 0.5 )[0]\n",
      "    out[w] = 10.5 + 70*t[w]\n",
      "    w = np.where(t > 0.5)[0]\n",
      "    out[w] = 80.5 - 70.*t[w]\n",
      "    return out\n",
      "\n",
      "trajectories = {\n",
      "        'lai': lambda t: (0.21 + 3.51 * (np.sin(np.pi*t)**5)), \n",
      "        'cab': cab_traj\n",
      "}\n",
      "    \n",
      "# Now, create some simulated data...\n",
      "parameter_grid = create_parameter_trajectories ( state, trajectories )\n",
      "plt.subplot(2, 1, 1 )\n",
      "plt.plot ( np.arange(1, 366), parameter_grid[6, :], label=\"LAI\" )\n",
      "plt.xlabel( \"DoY\" )\n",
      "plt.ylabel (\"LAI [$m^{2}m^{-2}$]\")\n",
      "plt.subplot(2, 1, 2)\n",
      "plt.plot ( np.arange(1, 366), parameter_grid[1, :], label=\"Cab\" )\n",
      "#plt.subplot(3, 1, 3)\n",
      "#plt.plot ( np.arange(1, 366), parameter_grid[4, :], label=\"Cw\" )\n",
      "# Now forward model the observations...\n",
      "doys, vza, sza, raa, rho = create_observations ( state, parameter_grid, \\\n",
      "            42, -8.)\n",
      "temporal = TemporalSmoother ( state_grid, 10000, required_params=[\"lai\", \"cab\"] )\n",
      "obs = ObservationOperatorTimeSeriesGP( state_grid, state, rho_big, mask, emulators, bu, band_pass, bw )\n"
     ],
     "language": "python",
     "metadata": {},
     "outputs": [
      {
       "metadata": {},
       "output_type": "display_data",
       "png": "[encoded data removed]",
       "text": [
        "<matplotlib.figure.Figure at 0x17918610>"
       ]
      }
     ],
     "prompt_number": 48
    },
    {
     "cell_type": "code",
     "collapsed": false,
     "input": [
      "state.add_operator( \"Prior\", prior )\n",
      "state.add_operator( \"Smoother\", temporal)\n",
      "state.add_operator( \"Obs\", obs)\n",
      "x_dict['cab'] = np.random.rand(365)*80\n",
      "x_dict['cw'] = np.random.rand(365)*0.03\n",
      "retval = state.optimize ( x_dict )"
     ],
     "language": "python",
     "metadata": {},
     "outputs": [
      {
       "output_type": "stream",
       "stream": "stdout",
       "text": [
        "\t[Prior] --> 493.739\n",
        "\t[Smoother] --> 1.99777e+09\n",
        "\t[Obs] --> 77778.4"
       ]
      },
      {
       "output_type": "stream",
       "stream": "stdout",
       "text": [
        "\n",
        "\t\t[Total] -->\n",
        "\t[Prior] --> 3838.2\n",
        "\t[Smoother] --> 7.92461e+09\n",
        "\t[Obs] --> 81183.2"
       ]
      },
      {
       "output_type": "stream",
       "stream": "stdout",
       "text": [
        "\n",
        "\t\t[Total] -->\n",
        "\t[Prior] --> 482.837\n",
        "\t[Smoother] --> 1.96959e+09\n",
        "\t[Obs] --> 77205"
       ]
      },
      {
       "output_type": "stream",
       "stream": "stdout",
       "text": [
        "\n",
        "\t\t[Total] -->\n",
        "\t[Prior] --> 253.558\n",
        "\t[Smoother] --> 8.82242e+08\n",
        "\t[Obs] --> 18130.9"
       ]
      },
      {
       "output_type": "stream",
       "stream": "stdout",
       "text": [
        "\n",
        "\t\t[Total] -->\n",
        "\t[Prior] --> 133.758\n",
        "\t[Smoother] --> 6.08351e+07\n",
        "\t[Obs] --> 18509.7"
       ]
      },
      {
       "output_type": "stream",
       "stream": "stdout",
       "text": [
        "\n",
        "\t\t[Total] -->\n",
        "\t[Prior] --> 123.69\n",
        "\t[Smoother] --> 3.0646e+07\n",
        "\t[Obs] --> 14766.7"
       ]
      },
      {
       "output_type": "stream",
       "stream": "stdout",
       "text": [
        "\n",
        "\t\t[Total] -->\n",
        "\t[Prior] --> 113.725\n",
        "\t[Smoother] --> 2.21394e+07\n",
        "\t[Obs] --> 7978.4"
       ]
      },
      {
       "output_type": "stream",
       "stream": "stdout",
       "text": [
        "\n",
        "\t\t[Total] -->\n",
        "\t[Prior] --> 102.65\n",
        "\t[Smoother] --> 1.75475e+07\n",
        "\t[Obs] --> 1872.32"
       ]
      },
      {
       "output_type": "stream",
       "stream": "stdout",
       "text": [
        "\n",
        "\t\t[Total] -->\n",
        "\t[Prior] --> 96.237\n",
        "\t[Smoother] --> 3.6555e+07\n",
        "\t[Obs] --> 505.723"
       ]
      },
      {
       "output_type": "stream",
       "stream": "stdout",
       "text": [
        "\n",
        "\t\t[Total] -->\n",
        "\t[Prior] --> 102.607\n",
        "\t[Smoother] --> 1.74836e+07\n",
        "\t[Obs] --> 1863.59"
       ]
      },
      {
       "output_type": "stream",
       "stream": "stdout",
       "text": [
        "\n",
        "\t\t[Total] -->\n",
        "\t[Prior] --> 97.0983\n",
        "\t[Smoother] --> 1.65175e+07\n",
        "\t[Obs] --> 726.177"
       ]
      },
      {
       "output_type": "stream",
       "stream": "stdout",
       "text": [
        "\n",
        "\t\t[Total] -->\n",
        "\t[Prior] --> 94.8499\n",
        "\t[Smoother] --> 1.15214e+07\n",
        "\t[Obs] --> 522.668"
       ]
      },
      {
       "output_type": "stream",
       "stream": "stdout",
       "text": [
        "\n",
        "\t\t[Total] -->\n",
        "\t[Prior] --> 91.4168\n",
        "\t[Smoother] --> 1.05409e+07\n",
        "\t[Obs] --> 481.452"
       ]
      },
      {
       "output_type": "stream",
       "stream": "stdout",
       "text": [
        "\n",
        "\t\t[Total] -->\n",
        "\t[Prior] --> 87.0993\n",
        "\t[Smoother] --> 1.00919e+07\n",
        "\t[Obs] --> 464.1"
       ]
      },
      {
       "output_type": "stream",
       "stream": "stdout",
       "text": [
        "\n",
        "\t\t[Total] -->\n",
        "\t[Prior] --> 84.0151\n",
        "\t[Smoother] --> 1.12391e+07\n",
        "\t[Obs] --> 447.683"
       ]
      },
      {
       "output_type": "stream",
       "stream": "stdout",
       "text": [
        "\n",
        "\t\t[Total] -->\n",
        "\t[Prior] --> 87.0556\n",
        "\t[Smoother] --> 1.0079e+07\n",
        "\t[Obs] --> 463.537"
       ]
      },
      {
       "output_type": "stream",
       "stream": "stdout",
       "text": [
        "\n",
        "\t\t[Total] -->\n",
        "\t[Prior] --> 87.0554\n",
        "\t[Smoother] --> 1.0079e+07\n",
        "\t[Obs] --> 463.534"
       ]
      },
      {
       "output_type": "stream",
       "stream": "stdout",
       "text": [
        "\n",
        "\t\t[Total] -->\n",
        "\t[Prior] --> 84.8456\n",
        "\t[Smoother] --> 9.94597e+06\n",
        "\t[Obs] --> 440.69"
       ]
      },
      {
       "output_type": "stream",
       "stream": "stdout",
       "text": [
        "\n",
        "\t\t[Total] -->\n",
        "\t[Prior] --> 83.9315\n",
        "\t[Smoother] --> 9.03493e+06\n",
        "\t[Obs] --> 495.126"
       ]
      },
      {
       "output_type": "stream",
       "stream": "stdout",
       "text": [
        "\n",
        "\t\t[Total] -->\n",
        "\t[Prior] --> 83.9449\n",
        "\t[Smoother] --> 8.81752e+06\n",
        "\t[Obs] --> 513.053"
       ]
      },
      {
       "output_type": "stream",
       "stream": "stdout",
       "text": [
        "\n",
        "\t\t[Total] -->\n",
        "\t[Prior] --> 84.4897\n",
        "\t[Smoother] --> 8.60326e+06\n",
        "\t[Obs] --> 563.263"
       ]
      },
      {
       "output_type": "stream",
       "stream": "stdout",
       "text": [
        "\n",
        "\t\t[Total] -->\n",
        "\t[Prior] --> 85.6059\n",
        "\t[Smoother] --> 8.57024e+06\n",
        "\t[Obs] --> 586.715"
       ]
      },
      {
       "output_type": "stream",
       "stream": "stdout",
       "text": [
        "\n",
        "\t\t[Total] -->\n",
        "\t[Prior] --> 88.9539\n",
        "\t[Smoother] --> 8.41518e+06\n",
        "\t[Obs] --> 491.411"
       ]
      },
      {
       "output_type": "stream",
       "stream": "stdout",
       "text": [
        "\n",
        "\t\t[Total] -->\n",
        "\t[Prior] --> 92.0524\n",
        "\t[Smoother] --> 8.16136e+06\n",
        "\t[Obs] --> 396.837"
       ]
      },
      {
       "output_type": "stream",
       "stream": "stdout",
       "text": [
        "\n",
        "\t\t[Total] -->\n",
        "\t[Prior] --> 94.6596\n",
        "\t[Smoother] --> 8.03039e+06\n",
        "\t[Obs] --> 322.051"
       ]
      },
      {
       "output_type": "stream",
       "stream": "stdout",
       "text": [
        "\n",
        "\t\t[Total] -->\n",
        "\t[Prior] --> 95.9606\n",
        "\t[Smoother] --> 7.94962e+06\n",
        "\t[Obs] --> 291.314"
       ]
      },
      {
       "output_type": "stream",
       "stream": "stdout",
       "text": [
        "\n",
        "\t\t[Total] -->\n",
        "\t[Prior] --> 97.4831\n",
        "\t[Smoother] --> 7.87449e+06\n",
        "\t[Obs] --> 278.952"
       ]
      },
      {
       "output_type": "stream",
       "stream": "stdout",
       "text": [
        "\n",
        "\t\t[Total] -->\n",
        "\t[Prior] --> 100.882\n",
        "\t[Smoother] --> 7.82056e+06\n",
        "\t[Obs] --> 283.708"
       ]
      },
      {
       "output_type": "stream",
       "stream": "stdout",
       "text": [
        "\n",
        "\t\t[Total] -->\n",
        "\t[Prior] --> 106.781\n",
        "\t[Smoother] --> 7.8305e+06\n",
        "\t[Obs] --> 275.347"
       ]
      },
      {
       "output_type": "stream",
       "stream": "stdout",
       "text": [
        "\n",
        "\t\t[Total] -->\n",
        "\t[Prior] --> 101.373\n",
        "\t[Smoother] --> 7.79198e+06\n",
        "\t[Obs] --> 282.266"
       ]
      },
      {
       "output_type": "stream",
       "stream": "stdout",
       "text": [
        "\n",
        "\t\t[Total] -->\n",
        "\t[Prior] --> 101.375\n",
        "\t[Smoother] --> 7.79189e+06\n",
        "\t[Obs] --> 282.261"
       ]
      },
      {
       "output_type": "stream",
       "stream": "stdout",
       "text": [
        "\n",
        "\t\t[Total] -->\n",
        "\t[Prior] --> 103.954\n",
        "\t[Smoother] --> 7.73835e+06\n",
        "\t[Obs] --> 277.137"
       ]
      },
      {
       "output_type": "stream",
       "stream": "stdout",
       "text": [
        "\n",
        "\t\t[Total] -->\n",
        "\t[Prior] --> 110.146\n",
        "\t[Smoother] --> 7.65276e+06\n",
        "\t[Obs] --> 256.993"
       ]
      },
      {
       "output_type": "stream",
       "stream": "stdout",
       "text": [
        "\n",
        "\t\t[Total] -->\n",
        "\t[Prior] --> 119.072\n",
        "\t[Smoother] --> 7.87648e+06\n",
        "\t[Obs] --> 236.754"
       ]
      },
      {
       "output_type": "stream",
       "stream": "stdout",
       "text": [
        "\n",
        "\t\t[Total] -->\n",
        "\t[Prior] --> 110.191\n",
        "\t[Smoother] --> 7.65124e+06\n",
        "\t[Obs] --> 256.771"
       ]
      },
      {
       "output_type": "stream",
       "stream": "stdout",
       "text": [
        "\n",
        "\t\t[Total] -->\n",
        "\t[Prior] --> 110.191\n",
        "\t[Smoother] --> 7.65123e+06\n",
        "\t[Obs] --> 256.77"
       ]
      },
      {
       "output_type": "stream",
       "stream": "stdout",
       "text": [
        "\n",
        "\t\t[Total] -->\n",
        "\t[Prior] --> 114.409\n",
        "\t[Smoother] --> 7.64145e+06\n",
        "\t[Obs] --> 242.02"
       ]
      },
      {
       "output_type": "stream",
       "stream": "stdout",
       "text": [
        "\n",
        "\t\t[Total] -->\n",
        "\t[Prior] --> 120.113\n",
        "\t[Smoother] --> 7.52006e+06\n",
        "\t[Obs] --> 235.289"
       ]
      },
      {
       "output_type": "stream",
       "stream": "stdout",
       "text": [
        "\n",
        "\t\t[Total] -->\n",
        "\t[Prior] --> 124.031\n",
        "\t[Smoother] --> 7.46325e+06\n",
        "\t[Obs] --> 242.14"
       ]
      },
      {
       "output_type": "stream",
       "stream": "stdout",
       "text": [
        "\n",
        "\t\t[Total] -->\n",
        "\t[Prior] --> 127.763\n",
        "\t[Smoother] --> 7.33307e+06\n",
        "\t[Obs] --> 255.677"
       ]
      },
      {
       "output_type": "stream",
       "stream": "stdout",
       "text": [
        "\n",
        "\t\t[Total] -->\n",
        "\t[Prior] --> 131.453\n",
        "\t[Smoother] --> 7.26119e+06\n",
        "\t[Obs] --> 257.057"
       ]
      },
      {
       "output_type": "stream",
       "stream": "stdout",
       "text": [
        "\n",
        "\t\t[Total] -->\n",
        "\t[Prior] --> 139.304\n",
        "\t[Smoother] --> 7.2197e+06\n",
        "\t[Obs] --> 253.637"
       ]
      },
      {
       "output_type": "stream",
       "stream": "stdout",
       "text": [
        "\n",
        "\t\t[Total] -->\n",
        "\t[Prior] --> 144.645\n",
        "\t[Smoother] --> 7.08797e+06\n",
        "\t[Obs] --> 239.674"
       ]
      },
      {
       "output_type": "stream",
       "stream": "stdout",
       "text": [
        "\n",
        "\t\t[Total] -->\n",
        "\t[Prior] --> 149.801\n",
        "\t[Smoother] --> 7.02335e+06\n",
        "\t[Obs] --> 220.856"
       ]
      },
      {
       "output_type": "stream",
       "stream": "stdout",
       "text": [
        "\n",
        "\t\t[Total] -->\n",
        "\t[Prior] --> 158.993\n",
        "\t[Smoother] --> 6.99576e+06\n",
        "\t[Obs] --> 201.632"
       ]
      },
      {
       "output_type": "stream",
       "stream": "stdout",
       "text": [
        "\n",
        "\t\t[Total] -->\n",
        "\t[Prior] --> 170.6\n",
        "\t[Smoother] --> 6.9301e+06\n",
        "\t[Obs] --> 196.307"
       ]
      },
      {
       "output_type": "stream",
       "stream": "stdout",
       "text": [
        "\n",
        "\t\t[Total] -->\n",
        "\t[Prior] --> 173.249\n",
        "\t[Smoother] --> 6.80134e+06\n",
        "\t[Obs] --> 193.427"
       ]
      },
      {
       "output_type": "stream",
       "stream": "stdout",
       "text": [
        "\n",
        "\t\t[Total] -->\n",
        "\t[Prior] --> 177.135\n",
        "\t[Smoother] --> 6.7294e+06\n",
        "\t[Obs] --> 192.915"
       ]
      },
      {
       "output_type": "stream",
       "stream": "stdout",
       "text": [
        "\n",
        "\t\t[Total] -->\n",
        "\t[Prior] --> 182.288\n",
        "\t[Smoother] --> 6.68805e+06\n",
        "\t[Obs] --> 194.258"
       ]
      },
      {
       "output_type": "stream",
       "stream": "stdout",
       "text": [
        "\n",
        "\t\t[Total] -->\n",
        "\t[Prior] --> 193.561\n",
        "\t[Smoother] --> 6.56081e+06\n",
        "\t[Obs] --> 200.723"
       ]
      },
      {
       "output_type": "stream",
       "stream": "stdout",
       "text": [
        "\n",
        "\t\t[Total] -->\n",
        "\t[Prior] --> 202.954\n",
        "\t[Smoother] --> 6.48823e+06\n",
        "\t[Obs] --> 199.574"
       ]
      },
      {
       "output_type": "stream",
       "stream": "stdout",
       "text": [
        "\n",
        "\t\t[Total] -->\n",
        "\t[Prior] --> 206.723\n",
        "\t[Smoother] --> 6.38066e+06\n",
        "\t[Obs] --> 196.855"
       ]
      },
      {
       "output_type": "stream",
       "stream": "stdout",
       "text": [
        "\n",
        "\t\t[Total] -->\n",
        "\t[Prior] --> 210.509\n",
        "\t[Smoother] --> 6.32058e+06\n",
        "\t[Obs] --> 194.726"
       ]
      },
      {
       "output_type": "stream",
       "stream": "stdout",
       "text": [
        "\n",
        "\t\t[Total] -->\n",
        "\t[Prior] --> 217.282\n",
        "\t[Smoother] --> 6.25741e+06\n",
        "\t[Obs] --> 194.144"
       ]
      },
      {
       "output_type": "stream",
       "stream": "stdout",
       "text": [
        "\n",
        "\t\t[Total] -->\n",
        "\t[Prior] --> 227.877\n",
        "\t[Smoother] --> 6.13928e+06\n",
        "\t[Obs] --> 193.866"
       ]
      },
      {
       "output_type": "stream",
       "stream": "stdout",
       "text": [
        "\n",
        "\t\t[Total] -->\n",
        "\t[Prior] --> 233.12\n",
        "\t[Smoother] --> 6.05758e+06\n",
        "\t[Obs] --> 189.758"
       ]
      },
      {
       "output_type": "stream",
       "stream": "stdout",
       "text": [
        "\n",
        "\t\t[Total] -->\n",
        "\t[Prior] --> 240.297\n",
        "\t[Smoother] --> 5.97035e+06\n",
        "\t[Obs] --> 184.041"
       ]
      },
      {
       "output_type": "stream",
       "stream": "stdout",
       "text": [
        "\n",
        "\t\t[Total] -->\n",
        "\t[Prior] --> 245.609\n",
        "\t[Smoother] --> 5.90074e+06\n",
        "\t[Obs] --> 181.531"
       ]
      },
      {
       "output_type": "stream",
       "stream": "stdout",
       "text": [
        "\n",
        "\t\t[Total] -->\n",
        "\t[Prior] --> 249.809\n",
        "\t[Smoother] --> 5.80917e+06\n",
        "\t[Obs] --> 180.17"
       ]
      },
      {
       "output_type": "stream",
       "stream": "stdout",
       "text": [
        "\n",
        "\t\t[Total] -->\n",
        "\t[Prior] --> 254.188\n",
        "\t[Smoother] --> 5.7182e+06\n",
        "\t[Obs] --> 180.43"
       ]
      },
      {
       "output_type": "stream",
       "stream": "stdout",
       "text": [
        "\n",
        "\t\t[Total] -->\n",
        "\t[Prior] --> 256.239\n",
        "\t[Smoother] --> 5.65328e+06\n",
        "\t[Obs] --> 181.274"
       ]
      },
      {
       "output_type": "stream",
       "stream": "stdout",
       "text": [
        "\n",
        "\t\t[Total] -->\n",
        "\t[Prior] --> 257.803\n",
        "\t[Smoother] --> 5.58548e+06\n",
        "\t[Obs] --> 181.896"
       ]
      },
      {
       "output_type": "stream",
       "stream": "stdout",
       "text": [
        "\n",
        "\t\t[Total] -->\n",
        "\t[Prior] --> 261.499\n",
        "\t[Smoother] --> 5.48754e+06\n",
        "\t[Obs] --> 181.963"
       ]
      },
      {
       "output_type": "stream",
       "stream": "stdout",
       "text": [
        "\n",
        "\t\t[Total] -->\n",
        "\t[Prior] --> 263.132\n",
        "\t[Smoother] --> 5.40652e+06\n",
        "\t[Obs] --> 180.825"
       ]
      },
      {
       "output_type": "stream",
       "stream": "stdout",
       "text": [
        "\n",
        "\t\t[Total] -->\n",
        "\t[Prior] --> 263.512\n",
        "\t[Smoother] --> 5.37434e+06\n",
        "\t[Obs] --> 179.313"
       ]
      },
      {
       "output_type": "stream",
       "stream": "stdout",
       "text": [
        "\n",
        "\t\t[Total] -->\n",
        "\t[Prior] --> 264.902\n",
        "\t[Smoother] --> 5.28495e+06\n",
        "\t[Obs] --> 177.186"
       ]
      },
      {
       "output_type": "stream",
       "stream": "stdout",
       "text": [
        "\n",
        "\t\t[Total] -->\n",
        "\t[Prior] --> 267.12\n",
        "\t[Smoother] --> 5.20741e+06\n",
        "\t[Obs] --> 176.266"
       ]
      },
      {
       "output_type": "stream",
       "stream": "stdout",
       "text": [
        "\n",
        "\t\t[Total] -->\n",
        "\t[Prior] --> 266.829\n",
        "\t[Smoother] --> 5.16196e+06\n",
        "\t[Obs] --> 176.003"
       ]
      },
      {
       "output_type": "stream",
       "stream": "stdout",
       "text": [
        "\n",
        "\t\t[Total] -->\n",
        "\t[Prior] --> 266.945\n",
        "\t[Smoother] --> 5.12813e+06\n",
        "\t[Obs] --> 175.668"
       ]
      },
      {
       "output_type": "stream",
       "stream": "stdout",
       "text": [
        "\n",
        "\t\t[Total] -->\n",
        "\t[Prior] --> 267.301\n",
        "\t[Smoother] --> 5.07103e+06\n",
        "\t[Obs] --> 175.215"
       ]
      },
      {
       "output_type": "stream",
       "stream": "stdout",
       "text": [
        "\n",
        "\t\t[Total] -->\n",
        "\t[Prior] --> 267.855\n",
        "\t[Smoother] --> 4.99332e+06\n",
        "\t[Obs] --> 174.3"
       ]
      },
      {
       "output_type": "stream",
       "stream": "stdout",
       "text": [
        "\n",
        "\t\t[Total] -->\n",
        "\t[Prior] --> 270.129\n",
        "\t[Smoother] --> 4.86318e+06\n",
        "\t[Obs] --> 173.959"
       ]
      },
      {
       "output_type": "stream",
       "stream": "stdout",
       "text": [
        "\n",
        "\t\t[Total] -->\n",
        "\t[Prior] --> 268.692\n",
        "\t[Smoother] --> 4.91348e+06\n",
        "\t[Obs] --> 173.845"
       ]
      },
      {
       "output_type": "stream",
       "stream": "stdout",
       "text": [
        "\n",
        "\t\t[Total] -->\n",
        "\t[Prior] --> 269.317\n",
        "\t[Smoother] --> 4.84357e+06\n",
        "\t[Obs] --> 173.726"
       ]
      },
      {
       "output_type": "stream",
       "stream": "stdout",
       "text": [
        "\n",
        "\t\t[Total] -->\n",
        "\t[Prior] --> 269.545\n",
        "\t[Smoother] --> 4.80667e+06\n",
        "\t[Obs] --> 174.102"
       ]
      },
      {
       "output_type": "stream",
       "stream": "stdout",
       "text": [
        "\n",
        "\t\t[Total] -->\n",
        "\t[Prior] --> 269.985\n",
        "\t[Smoother] --> 4.74199e+06\n",
        "\t[Obs] --> 174.505"
       ]
      },
      {
       "output_type": "stream",
       "stream": "stdout",
       "text": [
        "\n",
        "\t\t[Total] -->\n",
        "\t[Prior] --> 270.472\n",
        "\t[Smoother] --> 4.67441e+06\n",
        "\t[Obs] --> 174.929"
       ]
      },
      {
       "output_type": "stream",
       "stream": "stdout",
       "text": [
        "\n",
        "\t\t[Total] -->\n",
        "\t[Prior] --> 270.83\n",
        "\t[Smoother] --> 4.63733e+06\n",
        "\t[Obs] --> 174.584"
       ]
      },
      {
       "output_type": "stream",
       "stream": "stdout",
       "text": [
        "\n",
        "\t\t[Total] -->\n",
        "\t[Prior] --> 271.888\n",
        "\t[Smoother] --> 4.55637e+06\n",
        "\t[Obs] --> 174.513"
       ]
      },
      {
       "output_type": "stream",
       "stream": "stdout",
       "text": [
        "\n",
        "\t\t[Total] -->\n",
        "\t[Prior] --> 272.77\n",
        "\t[Smoother] --> 4.49596e+06\n",
        "\t[Obs] --> 174.264"
       ]
      },
      {
       "output_type": "stream",
       "stream": "stdout",
       "text": [
        "\n",
        "\t\t[Total] -->\n",
        "\t[Prior] --> 273.452\n",
        "\t[Smoother] --> 4.44963e+06\n",
        "\t[Obs] --> 173.686"
       ]
      },
      {
       "output_type": "stream",
       "stream": "stdout",
       "text": [
        "\n",
        "\t\t[Total] -->\n",
        "\t[Prior] --> 275.515\n",
        "\t[Smoother] --> 4.32916e+06\n",
        "\t[Obs] --> 172.344"
       ]
      },
      {
       "output_type": "stream",
       "stream": "stdout",
       "text": [
        "\n",
        "\t\t[Total] -->\n",
        "\t[Prior] --> 276.494\n",
        "\t[Smoother] --> 4.27025e+06\n",
        "\t[Obs] --> 172.108"
       ]
      },
      {
       "output_type": "stream",
       "stream": "stdout",
       "text": [
        "\n",
        "\t\t[Total] -->\n",
        "\t[Prior] --> 276.645\n",
        "\t[Smoother] --> 4.25583e+06\n",
        "\t[Obs] --> 172.133"
       ]
      },
      {
       "output_type": "stream",
       "stream": "stdout",
       "text": [
        "\n",
        "\t\t[Total] -->\n",
        "\t[Prior] --> 277.848\n",
        "\t[Smoother] --> 4.18167e+06\n",
        "\t[Obs] --> 172.586"
       ]
      },
      {
       "output_type": "stream",
       "stream": "stdout",
       "text": [
        "\n",
        "\t\t[Total] -->\n",
        "\t[Prior] --> 278.876\n",
        "\t[Smoother] --> 4.12613e+06\n",
        "\t[Obs] --> 172.836"
       ]
      },
      {
       "output_type": "stream",
       "stream": "stdout",
       "text": [
        "\n",
        "\t\t[Total] -->\n",
        "\t[Prior] --> 279.871\n",
        "\t[Smoother] --> 4.07061e+06\n",
        "\t[Obs] --> 173.184"
       ]
      },
      {
       "output_type": "stream",
       "stream": "stdout",
       "text": [
        "\n",
        "\t\t[Total] -->\n",
        "\t[Prior] --> 284.434\n",
        "\t[Smoother] --> 3.85872e+06\n",
        "\t[Obs] --> 174.654"
       ]
      },
      {
       "output_type": "stream",
       "stream": "stdout",
       "text": [
        "\n",
        "\t\t[Total] -->\n",
        "\t[Prior] --> 285.176\n",
        "\t[Smoother] --> 3.81184e+06\n",
        "\t[Obs] --> 174.311"
       ]
      },
      {
       "output_type": "stream",
       "stream": "stdout",
       "text": [
        "\n",
        "\t\t[Total] -->\n",
        "\t[Prior] --> 284.783\n",
        "\t[Smoother] --> 3.82785e+06\n",
        "\t[Obs] --> 173.832"
       ]
      },
      {
       "output_type": "stream",
       "stream": "stdout",
       "text": [
        "\n",
        "\t\t[Total] -->\n",
        "\t[Prior] --> 285.176\n",
        "\t[Smoother] --> 3.81185e+06\n",
        "\t[Obs] --> 174.311"
       ]
      },
      {
       "output_type": "stream",
       "stream": "stdout",
       "text": [
        "\n",
        "\t\t[Total] -->\n",
        "\t[Prior] --> 285.176\n",
        "\t[Smoother] --> 3.81184e+06\n",
        "\t[Obs] --> 174.311"
       ]
      },
      {
       "output_type": "stream",
       "stream": "stdout",
       "text": [
        "\n",
        "\t\t[Total] -->\n",
        "\t[Prior] --> 285.176\n",
        "\t[Smoother] --> 3.81184e+06\n",
        "\t[Obs] --> 174.311"
       ]
      },
      {
       "output_type": "stream",
       "stream": "stdout",
       "text": [
        "\n",
        "\t\t[Total] -->\n",
        "\t[Prior] --> 285.176\n",
        "\t[Smoother] --> 3.81184e+06\n",
        "\t[Obs] --> 174.311"
       ]
      },
      {
       "output_type": "stream",
       "stream": "stdout",
       "text": [
        "\n",
        "\t\t[Total] -->\n",
        "\t[Prior] --> 285.176\n",
        "\t[Smoother] --> 3.81184e+06\n",
        "\t[Obs] --> 174.311"
       ]
      },
      {
       "output_type": "stream",
       "stream": "stdout",
       "text": [
        "\n",
        "\t\t[Total] -->\n",
        "\t[Prior] --> 285.176\n",
        "\t[Smoother] --> 3.81184e+06\n",
        "\t[Obs] --> 174.311"
       ]
      },
      {
       "output_type": "stream",
       "stream": "stdout",
       "text": [
        "\n",
        "\t\t[Total] -->\n",
        "\t[Prior] --> 285.176\n",
        "\t[Smoother] --> 3.81184e+06\n",
        "\t[Obs] --> 174.311"
       ]
      },
      {
       "output_type": "stream",
       "stream": "stdout",
       "text": [
        "\n",
        "\t\t[Total] -->\n",
        "\t[Prior] --> 285.176\n",
        "\t[Smoother] --> 3.81184e+06\n",
        "\t[Obs] --> 174.311"
       ]
      },
      {
       "output_type": "stream",
       "stream": "stdout",
       "text": [
        "\n",
        "\t\t[Total] -->\n",
        "\t[Prior] --> 285.176\n",
        "\t[Smoother] --> 3.81184e+06\n",
        "\t[Obs] --> 174.311"
       ]
      },
      {
       "output_type": "stream",
       "stream": "stdout",
       "text": [
        "\n",
        "\t\t[Total] -->\n",
        "\t[Prior] --> 285.176\n",
        "\t[Smoother] --> 3.81184e+06\n",
        "\t[Obs] --> 174.311"
       ]
      },
      {
       "output_type": "stream",
       "stream": "stdout",
       "text": [
        "\n",
        "\t\t[Total] -->\n",
        "\t[Prior] --> 285.176\n",
        "\t[Smoother] --> 3.81184e+06\n",
        "\t[Obs] --> 174.311"
       ]
      },
      {
       "output_type": "stream",
       "stream": "stdout",
       "text": [
        "\n",
        "\t\t[Total] -->\n",
        "\t[Prior] --> 285.176\n",
        "\t[Smoother] --> 3.81184e+06\n",
        "\t[Obs] --> 174.311"
       ]
      },
      {
       "output_type": "stream",
       "stream": "stdout",
       "text": [
        "\n",
        "\t\t[Total] -->\n",
        "\t[Prior] --> 285.176\n",
        "\t[Smoother] --> 3.81184e+06\n",
        "\t[Obs] --> 174.311"
       ]
      },
      {
       "output_type": "stream",
       "stream": "stdout",
       "text": [
        "\n",
        "\t\t[Total] -->\n",
        "\t[Prior] --> 282.519\n",
        "\t[Smoother] --> 3.94098e+06\n",
        "\t[Obs] --> 174.238"
       ]
      },
      {
       "output_type": "stream",
       "stream": "stdout",
       "text": [
        "\n",
        "\t\t[Total] -->\n",
        "\t[Prior] --> 285.175\n",
        "\t[Smoother] --> 3.81188e+06\n",
        "\t[Obs] --> 174.311"
       ]
      },
      {
       "output_type": "stream",
       "stream": "stdout",
       "text": [
        "\n",
        "\t\t[Total] -->\n",
        "\t[Prior] --> 285.176\n",
        "\t[Smoother] --> 3.81184e+06\n",
        "\t[Obs] --> 174.311"
       ]
      },
      {
       "output_type": "stream",
       "stream": "stdout",
       "text": [
        "\n",
        "\t\t[Total] -->\n",
        "\t[Prior] --> 285.176\n",
        "\t[Smoother] --> 3.81184e+06\n",
        "\t[Obs] --> 174.311"
       ]
      },
      {
       "output_type": "stream",
       "stream": "stdout",
       "text": [
        "\n",
        "\t\t[Total] -->\n",
        "\t[Prior] --> 285.176\n",
        "\t[Smoother] --> 3.81184e+06\n",
        "\t[Obs] --> 174.311"
       ]
      },
      {
       "output_type": "stream",
       "stream": "stdout",
       "text": [
        "\n",
        "\t\t[Total] -->\n",
        "\t[Prior] --> 285.176\n",
        "\t[Smoother] --> 3.81184e+06\n",
        "\t[Obs] --> 174.311"
       ]
      },
      {
       "output_type": "stream",
       "stream": "stdout",
       "text": [
        "\n",
        "\t\t[Total] -->\n",
        "\t[Prior] --> 285.176\n",
        "\t[Smoother] --> 3.81184e+06\n",
        "\t[Obs] --> 174.311"
       ]
      },
      {
       "output_type": "stream",
       "stream": "stdout",
       "text": [
        "\n",
        "\t\t[Total] -->\n",
        "\t[Prior] --> 285.176\n",
        "\t[Smoother] --> 3.81184e+06\n",
        "\t[Obs] --> 174.311"
       ]
      },
      {
       "output_type": "stream",
       "stream": "stdout",
       "text": [
        "\n",
        "\t\t[Total] -->\n",
        "\t[Prior] --> 285.176\n",
        "\t[Smoother] --> 3.81184e+06\n",
        "\t[Obs] --> 174.311"
       ]
      },
      {
       "output_type": "stream",
       "stream": "stdout",
       "text": [
        "\n",
        "\t\t[Total] -->\n",
        "\t[Prior] --> 285.176\n",
        "\t[Smoother] --> 3.81184e+06\n",
        "\t[Obs] --> 174.311"
       ]
      },
      {
       "output_type": "stream",
       "stream": "stdout",
       "text": [
        "\n",
        "\t\t[Total] -->\n",
        "\t[Prior] --> 285.176\n",
        "\t[Smoother] --> 3.81184e+06\n",
        "\t[Obs] --> 174.311"
       ]
      },
      {
       "output_type": "stream",
       "stream": "stdout",
       "text": [
        "\n",
        "\t\t[Total] -->\n",
        "\t[Prior] --> 285.176\n",
        "\t[Smoother] --> 3.81184e+06\n",
        "\t[Obs] --> 174.311"
       ]
      },
      {
       "output_type": "stream",
       "stream": "stdout",
       "text": [
        "\n",
        "\t\t[Total] -->\n",
        "\t[Prior] --> 285.176\n",
        "\t[Smoother] --> 3.81184e+06\n",
        "\t[Obs] --> 174.311"
       ]
      },
      {
       "output_type": "stream",
       "stream": "stdout",
       "text": [
        "\n",
        "\t\t[Total] -->\n",
        "\t[Prior] --> 285.176\n",
        "\t[Smoother] --> 3.81184e+06\n",
        "\t[Obs] --> 174.311"
       ]
      },
      {
       "output_type": "stream",
       "stream": "stdout",
       "text": [
        "\n",
        "\t\t[Total] -->\n",
        "\t[Prior] --> 285.176\n",
        "\t[Smoother] --> 3.81184e+06\n",
        "\t[Obs] --> 174.311"
       ]
      },
      {
       "output_type": "stream",
       "stream": "stdout",
       "text": [
        "\n",
        "\t\t[Total] -->\n",
        "\t[Prior] --> 285.176\n",
        "\t[Smoother] --> 3.81184e+06\n",
        "\t[Obs] --> 174.311"
       ]
      },
      {
       "output_type": "stream",
       "stream": "stdout",
       "text": [
        "\n",
        "\t\t[Total] -->\n",
        "\t[Prior] --> 285.176\n",
        "\t[Smoother] --> 3.81184e+06\n",
        "\t[Obs] --> 174.311"
       ]
      },
      {
       "output_type": "stream",
       "stream": "stdout",
       "text": [
        "\n",
        "\t\t[Total] -->\n",
        "\t[Prior] --> 285.176\n",
        "\t[Smoother] --> 3.81184e+06\n",
        "\t[Obs] --> 174.311"
       ]
      },
      {
       "output_type": "stream",
       "stream": "stdout",
       "text": [
        "\n",
        "\t\t[Total] -->\n",
        "\t[Prior] --> 285.176\n",
        "\t[Smoother] --> 3.81184e+06\n",
        "\t[Obs] --> 174.311"
       ]
      },
      {
       "output_type": "stream",
       "stream": "stdout",
       "text": [
        "\n",
        "\t\t[Total] -->\n",
        "\t[Prior] --> 285.176\n",
        "\t[Smoother] --> 3.81184e+06\n",
        "\t[Obs] --> 174.311"
       ]
      },
      {
       "output_type": "stream",
       "stream": "stdout",
       "text": [
        "\n",
        "\t\t[Total] -->\n",
        "\t[Prior] --> 4043.09\n",
        "\t[Smoother] --> 4.95036e+09\n",
        "\t[Obs] --> 124593"
       ]
      },
      {
       "output_type": "stream",
       "stream": "stdout",
       "text": [
        "\n",
        "\t\t[Total] -->\n",
        "\t[Prior] --> 285.175\n",
        "\t[Smoother] --> 3.81179e+06\n",
        "\t[Obs] --> 174.311"
       ]
      },
      {
       "output_type": "stream",
       "stream": "stdout",
       "text": [
        "\n",
        "\t\t[Total] -->\n",
        "\t[Prior] --> 417.863\n",
        "\t[Smoother] --> 1.18566e+09\n",
        "\t[Obs] --> 20719.5"
       ]
      },
      {
       "output_type": "stream",
       "stream": "stdout",
       "text": [
        "\n",
        "\t\t[Total] -->\n",
        "\t[Prior] --> 285.174\n",
        "\t[Smoother] --> 3.81175e+06\n",
        "\t[Obs] --> 174.31"
       ]
      },
      {
       "output_type": "stream",
       "stream": "stdout",
       "text": [
        "\n",
        "\t\t[Total] -->\n",
        "\t[Prior] --> 285.174\n",
        "\t[Smoother] --> 3.81175e+06\n",
        "\t[Obs] --> 174.31"
       ]
      },
      {
       "output_type": "stream",
       "stream": "stdout",
       "text": [
        "\n",
        "\t\t[Total] -->\n",
        "\t[Prior] --> 283.262\n",
        "\t[Smoother] --> 2.98672e+08\n",
        "\t[Obs] --> 4833.69"
       ]
      },
      {
       "output_type": "stream",
       "stream": "stdout",
       "text": [
        "\n",
        "\t\t[Total] -->\n",
        "\t[Prior] --> 285.173\n",
        "\t[Smoother] --> 3.8117e+06\n",
        "\t[Obs] --> 174.309"
       ]
      },
      {
       "output_type": "stream",
       "stream": "stdout",
       "text": [
        "\n",
        "\t\t[Total] -->\n",
        "\t[Prior] --> 285.173\n",
        "\t[Smoother] --> 3.8117e+06\n",
        "\t[Obs] --> 174.309"
       ]
      },
      {
       "output_type": "stream",
       "stream": "stdout",
       "text": [
        "\n",
        "\t\t[Total] -->\n",
        "\t[Prior] --> 267.755\n",
        "\t[Smoother] --> 7.7195e+07\n",
        "\t[Obs] --> 1285.79"
       ]
      },
      {
       "output_type": "stream",
       "stream": "stdout",
       "text": [
        "\n",
        "\t\t[Total] -->\n",
        "\t[Prior] --> 285.172\n",
        "\t[Smoother] --> 3.81166e+06\n",
        "\t[Obs] --> 174.308"
       ]
      },
      {
       "output_type": "stream",
       "stream": "stdout",
       "text": [
        "\n",
        "\t\t[Total] -->\n",
        "\t[Prior] --> 285.172\n",
        "\t[Smoother] --> 3.81166e+06\n",
        "\t[Obs] --> 174.308"
       ]
      },
      {
       "output_type": "stream",
       "stream": "stdout",
       "text": [
        "\n",
        "\t\t[Total] -->\n",
        "\t[Prior] --> 271.713\n",
        "\t[Smoother] --> 2.18177e+07\n",
        "\t[Obs] --> 440.888"
       ]
      },
      {
       "output_type": "stream",
       "stream": "stdout",
       "text": [
        "\n",
        "\t\t[Total] -->\n",
        "\t[Prior] --> 285.171\n",
        "\t[Smoother] --> 3.81161e+06\n",
        "\t[Obs] --> 174.308"
       ]
      },
      {
       "output_type": "stream",
       "stream": "stdout",
       "text": [
        "\n",
        "\t\t[Total] -->\n",
        "\t[Prior] --> 285.171\n",
        "\t[Smoother] --> 3.81161e+06\n",
        "\t[Obs] --> 174.308"
       ]
      },
      {
       "output_type": "stream",
       "stream": "stdout",
       "text": [
        "\n",
        "\t\t[Total] -->\n",
        "\t[Prior] --> 277.096\n",
        "\t[Smoother] --> 8.11041e+06\n",
        "\t[Obs] --> 236.913"
       ]
      },
      {
       "output_type": "stream",
       "stream": "stdout",
       "text": [
        "\n",
        "\t\t[Total] -->\n",
        "\t[Prior] --> 285.17\n",
        "\t[Smoother] --> 3.81156e+06\n",
        "\t[Obs] --> 174.307"
       ]
      },
      {
       "output_type": "stream",
       "stream": "stdout",
       "text": [
        "\n",
        "\t\t[Total] -->\n",
        "\t[Prior] --> 285.17\n",
        "\t[Smoother] --> 3.81156e+06\n",
        "\t[Obs] --> 174.307"
       ]
      },
      {
       "output_type": "stream",
       "stream": "stdout",
       "text": [
        "\n",
        "\t\t[Total] -->\n",
        "\t[Prior] --> 280.769\n",
        "\t[Smoother] --> 4.78024e+06\n",
        "\t[Obs] --> 188.124"
       ]
      },
      {
       "output_type": "stream",
       "stream": "stdout",
       "text": [
        "\n",
        "\t\t[Total] -->\n",
        "\t[Prior] --> 285.169\n",
        "\t[Smoother] --> 3.81151e+06\n",
        "\t[Obs] --> 174.306"
       ]
      },
      {
       "output_type": "stream",
       "stream": "stdout",
       "text": [
        "\n",
        "\t\t[Total] -->\n",
        "\t[Prior] --> 285.169\n",
        "\t[Smoother] --> 3.81151e+06\n",
        "\t[Obs] --> 174.306"
       ]
      },
      {
       "output_type": "stream",
       "stream": "stdout",
       "text": [
        "\n",
        "\t\t[Total] -->\n",
        "(array([ 0.98640285,  0.98560597,  0.97157317,  0.95784954,  0.94440728,\n",
        "        0.93096167,  0.91773163,  0.90448555,  0.89896503,  0.89324759,\n",
        "        0.88732706,  0.88135744,  0.87536231,  0.8700123 ,  0.86519526,\n",
        "        0.86132649,  0.8576463 ,  0.85363645,  0.84938472,  0.84482503,\n",
        "        0.8403212 ,  0.83606977,  0.83183989,  0.82762601,  0.82334085,\n",
        "        0.81908082,  0.81522351,  0.8118848 ,  0.80885558,  0.80665621,\n",
        "        0.80419887,  0.80118193,  0.798095  ,  0.79487485,  0.79206568,\n",
        "        0.78970922,  0.78766981,  0.7859467 ,  0.78420511,  0.78207535,\n",
        "        0.77977188,  0.77705693,  0.77402863,  0.77082154,  0.7673039 ,\n",
        "        0.76380186,  0.76013592,  0.75626411,  0.75253577,  0.74917413,\n",
        "        0.74634191,  0.74347389,  0.74061887,  0.73737491,  0.73393119,\n",
        "        0.73093869,  0.72800519,  0.72540615,  0.72297584,  0.72016913,\n",
        "        0.71761667,  0.71524294,  0.71331681,  0.71168643,  0.71016485,\n",
        "        0.70844582,  0.706655  ,  0.70514023,  0.70416211,  0.70364054,\n",
        "        0.70345178,  0.70333787,  0.70266261,  0.70208562,  0.7016287 ,\n",
        "        0.70123758,  0.7015334 ,  0.70151607,  0.70091829,  0.70000705,\n",
        "        0.69880743,  0.69754991,  0.69687761,  0.69620006,  0.69558105,\n",
        "        0.69474887,  0.69342594,  0.6918799 ,  0.69039359,  0.68908235,\n",
        "        0.6880003 ,  0.68704985,  0.68718575,  0.68706786,  0.68720062,\n",
        "        0.68741692,  0.68745795,  0.68761337,  0.68746692,  0.68684734,\n",
        "        0.6863148 ,  0.68595922,  0.68572043,  0.6862046 ,  0.68679737,\n",
        "        0.68738909,  0.68769466,  0.68795595,  0.68756962,  0.68743382,\n",
        "        0.68717101,  0.68681034,  0.68662958,  0.68519906,  0.68409806,\n",
        "        0.68259052,  0.68200474,  0.68111156,  0.68121133,  0.68087957,\n",
        "        0.68114866,  0.68058916,  0.68046768,  0.67965723,  0.67926968,\n",
        "        0.67845964,  0.67797206,  0.67687574,  0.67615547,  0.67509867,\n",
        "        0.67432911,  0.67354827,  0.67276211,  0.67135753,  0.67048398,\n",
        "        0.66889277,  0.66804878,  0.66706132,  0.66736389,  0.66709022,\n",
        "        0.66762807,  0.66833462,  0.66935   ,  0.66959589,  0.67063143,\n",
        "        0.67113896,  0.67245395,  0.67284223,  0.67268878,  0.67166884,\n",
        "        0.67128702,  0.67087847,  0.67097389,  0.67116088,  0.67099292,\n",
        "        0.67196411,  0.67230648,  0.67288853,  0.67342096,  0.67466259,\n",
        "        0.67591946,  0.67741451,  0.67762709,  0.67774514,  0.67798109,\n",
        "        0.6784385 ,  0.679125  ,  0.67982661,  0.68023392,  0.6799219 ,\n",
        "        0.67960802,  0.67897958,  0.67892015,  0.67916426,  0.6796385 ,\n",
        "        0.68002523,  0.68059213,  0.68108424,  0.68185633,  0.68309373,\n",
        "        0.68467164,  0.68647033,  0.68773133,  0.68819561,  0.68821339,\n",
        "        0.68807186,  0.68841076,  0.68860197,  0.68876306,  0.68871077,\n",
        "        0.68810386,  0.68747921,  0.68745288,  0.6876448 ,  0.68849927,\n",
        "        0.68947381,  0.68982455,  0.69000706,  0.68990779,  0.68981735,\n",
        "        0.69020094,  0.69066368,  0.69088809,  0.6908525 ,  0.69026412,\n",
        "        0.68982115,  0.68975619,  0.69022406,  0.69105749,  0.69159534,\n",
        "        0.69183041,  0.69150785,  0.69113169,  0.69103713,  0.69147401,\n",
        "        0.69185193,  0.69241667,  0.6922896 ,  0.69201554,  0.6918508 ,\n",
        "        0.69221344,  0.69294029,  0.69413657,  0.69487322,  0.69526027,\n",
        "        0.69383214,  0.69245553,  0.69117687,  0.69038864,  0.68951114,\n",
        "        0.68842327,  0.68709848,  0.685614  ,  0.68431127,  0.68344348,\n",
        "        0.68257158,  0.68157504,  0.68006262,  0.67826202,  0.67699678,\n",
        "        0.67613767,  0.67579085,  0.67555842,  0.67535772,  0.67479564,\n",
        "        0.67412166,  0.67456125,  0.67547731,  0.67696878,  0.67824847,\n",
        "        0.67957595,  0.67984163,  0.68006699,  0.6798884 ,  0.68040816,\n",
        "        0.68063255,  0.68136711,  0.68153572,  0.68163975,  0.68147267,\n",
        "        0.68128367,  0.68131101,  0.68188201,  0.68247071,  0.68289862,\n",
        "        0.68317983,  0.68320795,  0.6838826 ,  0.68482107,  0.685894  ,\n",
        "        0.68705954,  0.68794561,  0.68872892,  0.68920793,  0.68919258,\n",
        "        0.6892309 ,  0.68941805,  0.68945395,  0.68950011,  0.68924924,\n",
        "        0.68912061,  0.68951525,  0.69019622,  0.69093676,  0.69192265,\n",
        "        0.69252232,  0.6929781 ,  0.69354898,  0.69392264,  0.6946108 ,\n",
        "        0.69547033,  0.69619755,  0.69684822,  0.6975418 ,  0.69780403,\n",
        "        0.69824121,  0.69855455,  0.69865483,  0.69858782,  0.69857366,\n",
        "        0.69848422,  0.69859756,  0.69882339,  0.69922567,  0.69965592,\n",
        "        0.70026203,  0.70049245,  0.70049398,  0.70054999,  0.70015624,\n",
        "        0.6996721 ,  0.6992216 ,  0.69850817,  0.69781146,  0.69726127,\n",
        "        0.69698236,  0.6967978 ,  0.69706479,  0.69709214,  0.69709938,\n",
        "        0.69728743,  0.69755158,  0.69797697,  0.6988783 ,  0.69958531,\n",
        "        0.70009913,  0.70051922,  0.70072894,  0.70095103,  0.70163829,\n",
        "        0.70215491,  0.70274297,  0.70325329,  0.70360805,  0.70384788,\n",
        "        0.70429292,  0.70509844,  0.70630092,  0.70749606,  0.70863428,\n",
        "        0.70950208,  0.71045298,  0.71191535,  0.71336675,  0.71505185,\n",
        "        0.71664303,  0.71770742,  0.71883199,  0.72014069,  0.72168283,\n",
        "        0.7237144 ,  0.72584335,  0.72793562,  0.72991822,  0.73205985,\n",
        "        0.7344784 ,  0.73695299,  0.73984642,  0.7427434 ,  0.74548237,\n",
        "        0.7485278 ,  0.75157197,  0.75508061,  0.75909703,  0.7633402 ,\n",
        "        0.32035448,  0.99501248,  0.96542412,  0.94958333,  0.94645577,\n",
        "        0.94310328,  0.93272942,  0.90787509,  0.92008907,  0.92496885,\n",
        "        0.93747691,  0.9352386 ,  0.93412243,  0.92103599,  0.90305128,\n",
        "        0.84458204,  0.78182001,  0.71881214,  0.68172937,  0.64540822,\n",
        "        0.6314352 ,  0.63209021,  0.63149069,  0.63564133,  0.65604567,\n",
        "        0.68962884,  0.73884616,  0.81466402,  0.88708386,  0.80748126,\n",
        "        0.72576703,  0.66861836,  0.63225083,  0.61050364,  0.59635717,\n",
        "        0.58862651,  0.59373343,  0.60956987,  0.62274886,  0.66853859,\n",
        "        0.71732354,  0.79326273,  0.88023692,  0.88890596,  0.892748  ,\n",
        "        0.90372598,  0.91990794,  0.91321987,  0.90434584,  0.88288048,\n",
        "        0.80779366,  0.7357962 ,  0.68465494,  0.6418058 ,  0.60568743,\n",
        "        0.58984581,  0.57968806,  0.57556933,  0.58919888,  0.60393328,\n",
        "        0.63651361,  0.68618658,  0.75719982,  0.83447846,  0.84943517,\n",
        "        0.85757016,  0.84385259,  0.83029008,  0.82457401,  0.82064302,\n",
        "        0.81055098,  0.80146226,  0.79668237,  0.80407316,  0.81087376,\n",
        "        0.80325728,  0.78886955,  0.76507005,  0.71110791,  0.65812272,\n",
        "        0.61484884,  0.59345561,  0.57403321,  0.57068819,  0.56015174,\n",
        "        0.56296261,  0.56195256,  0.57001034,  0.58918989,  0.60781264,\n",
        "        0.6267802 ,  0.65306839,  0.62500315,  0.58560286,  0.55840046,\n",
        "        0.53857058,  0.51960023,  0.49340004,  0.46827358,  0.45290711,\n",
        "        0.43605289,  0.42129789,  0.41953063,  0.42402846,  0.42323955,\n",
        "        0.43149388,  0.42924802,  0.43311735,  0.43208168,  0.44302875,\n",
        "        0.45257968,  0.4600493 ,  0.47042081,  0.4579263 ,  0.44504869,\n",
        "        0.43762456,  0.4325549 ,  0.42589486,  0.41941912,  0.41048166,\n",
        "        0.40178486,  0.39068153,  0.38245956,  0.37821718,  0.37438476,\n",
        "        0.36755637,  0.3654103 ,  0.35110463,  0.34253375,  0.33814135,\n",
        "        0.32646277,  0.32438849,  0.31177396,  0.30632661,  0.29362844,\n",
        "        0.29406256,  0.29048267,  0.2838002 ,  0.26372123,  0.25701878,\n",
        "        0.25683923,  0.25094026,  0.25216454,  0.24705819,  0.25461825,\n",
        "        0.24550804,  0.24742235,  0.24187295,  0.23888574,  0.23801743,\n",
        "        0.24258296,  0.24105806,  0.2369884 ,  0.21837596,  0.2117133 ,\n",
        "        0.21188954,  0.21682942,  0.21356551,  0.2084593 ,  0.20747835,\n",
        "        0.19849269,  0.18726206,  0.18190639,  0.17856163,  0.1751096 ,\n",
        "        0.17484483,  0.18048875,  0.17585543,  0.18610863,  0.18137234,\n",
        "        0.18778306,  0.18501655,  0.1807602 ,  0.17421908,  0.17239353,\n",
        "        0.1692707 ,  0.18325125,  0.19365311,  0.19798178,  0.19604101,\n",
        "        0.18688852,  0.17364641,  0.15933158,  0.17297352,  0.18651823,\n",
        "        0.19658863,  0.21590477,  0.23492159,  0.24900007,  0.26613885,\n",
        "        0.28180485,  0.29485901,  0.29712493,  0.30668673,  0.31544184,\n",
        "        0.31433578,  0.3038696 ,  0.29056457,  0.27274408,  0.25451376,\n",
        "        0.23622098,  0.22005275,  0.20722019,  0.19504296,  0.21432335,\n",
        "        0.23089259,  0.25083853,  0.26556807,  0.28141984,  0.2960647 ,\n",
        "        0.31507825,  0.3281569 ,  0.33918021,  0.36167738,  0.37616318,\n",
        "        0.37612435,  0.37508983,  0.36138691,  0.34531484,  0.32783764,\n",
        "        0.31504184,  0.30161751,  0.28676808,  0.27693541,  0.2631565 ,\n",
        "        0.2768614 ,  0.29027808,  0.30037625,  0.30383994,  0.31261675,\n",
        "        0.3203056 ,  0.33542489,  0.33627632,  0.34040136,  0.35258157,\n",
        "        0.35925088,  0.36248704,  0.35681985,  0.3464009 ,  0.35027778,\n",
        "        0.36141657,  0.37021495,  0.38289989,  0.39641983,  0.40539046,\n",
        "        0.4113018 ,  0.42109237,  0.42798288,  0.43895673,  0.45321785,\n",
        "        0.46338621,  0.47379228,  0.47449591,  0.48385852,  0.4964954 ,\n",
        "        0.50949847,  0.51734222,  0.5142139 ,  0.51883738,  0.52118667,\n",
        "        0.52795639,  0.54993001,  0.56785719,  0.571857  ,  0.57910659,\n",
        "        0.58110527,  0.58783329,  0.61191513,  0.63503896,  0.65174266,\n",
        "        0.65931943,  0.6669668 ,  0.6656896 ,  0.66445802,  0.68271842,\n",
        "        0.70249617,  0.70882304,  0.71777076,  0.72051298,  0.72091499,\n",
        "        0.72011178,  0.67600916,  0.63637281,  0.6142116 ,  0.5900736 ,\n",
        "        0.58059204,  0.5760202 ,  0.58405576,  0.59083259,  0.6153245 ,\n",
        "        0.64151715,  0.6810442 ,  0.71808636,  0.76446   ,  0.81871645,\n",
        "        0.83969939,  0.83912438,  0.83864585,  0.8354853 ,  0.8361928 ,\n",
        "        0.84811805,  0.83756839,  0.8504381 ,  0.86740813,  0.86733313,\n",
        "        0.86633079,  0.86348551,  0.85908986,  0.86108532,  0.87672192,\n",
        "        0.87739403,  0.87969808,  0.88838097,  0.8977314 ,  0.89350545,\n",
        "        0.87734409,  0.89449492,  0.89789949,  0.90110401,  0.90030585,\n",
        "        0.89914121,  0.90118591,  0.89397679,  0.89803944,  0.90537725,\n",
        "        0.89576921,  0.89655228,  0.9016525 ,  0.89294479,  0.89221825,\n",
        "        0.90457368,  0.90093458,  0.89427297,  0.88412391,  0.8801194 ,\n",
        "        0.88965794,  0.87514322,  0.89317162,  0.90811153,  0.89778981,\n",
        "        0.89406776,  0.90167202,  0.90411622,  0.90392894,  0.9134533 ,\n",
        "        0.91655019,  0.90773806,  0.90893136,  0.9131367 ,  0.91086433,\n",
        "        0.90496848,  0.92674223,  0.93180786,  0.93798663,  0.9250825 ,\n",
        "        0.91520281,  0.91204633,  0.9029688 ,  0.91648733,  0.92653474,\n",
        "        0.93074132,  0.93861838,  0.92611487,  0.91222074,  0.89614142]), matrix([[ 3812296.96880334]]), {'warnflag': 2, 'task': 'ABNORMAL_TERMINATION_IN_LNSRCH', 'grad': array([  2.41443475e-02,  -1.58540395e+02,  -1.14175318e+02,\n",
        "        -9.26503250e+01,   2.06242649e+02,  -2.62966786e+01,\n",
        "         2.25598289e+02,  -8.51257532e+01,   2.58156707e+02,\n",
        "         2.69852136e+02,   1.00226904e+02,   7.50458560e+01,\n",
        "        -6.94869651e+02,  -5.78363359e+02,  -6.97247401e+02,\n",
        "        -1.99730715e+02,   4.04545274e+02,   3.06819479e+02,\n",
        "         3.89519979e+02,  -3.73321078e+01,  -2.73187165e+02,\n",
        "        -4.38221274e-02,   6.55150264e+00,   1.12501896e+02,\n",
        "        -3.58348551e+00,  -4.67058601e+02,  -6.16569544e+02,\n",
        "        -3.65771987e+02,  -8.06345209e+01,   3.28163899e+02,\n",
        "         7.07577771e+02,   1.01882619e+02,   1.82548643e+02,\n",
        "        -5.02571761e+02,  -5.60843170e+02,  -3.93676259e+02,\n",
        "        -3.95821946e+02,   2.83909796e+01,   5.01142946e+02,\n",
        "         2.30179631e+02,   5.38128000e+02,   4.16968928e+02,\n",
        "        -3.43648023e+02,   4.21961274e+02,   6.05156943e-01,\n",
        "         2.36631782e+02,   2.95449599e+02,  -1.64445272e+02,\n",
        "        -4.65045771e+02,  -4.58268130e+02,   6.25550181e+01,\n",
        "        -2.66158806e+00,   5.42190328e+02,   2.91499629e+02,\n",
        "        -5.95478001e+02,  -6.42816849e+01,  -4.44925408e+02,\n",
        "        -2.20577871e+02,   5.33822446e+02,  -3.39150920e+02,\n",
        "        -2.37274368e+02,  -6.16673937e+02,  -4.08342267e+02,\n",
        "        -1.98934442e+02,   2.83268557e+02,   1.07468436e+02,\n",
        "        -3.85122913e+02,  -7.57796100e+02,  -6.47111667e+02,\n",
        "        -4.72673795e+02,  -4.81448661e+01,   7.98589494e+02,\n",
        "        -1.39061781e+02,  -1.70456218e+02,  -9.34120033e+01,\n",
        "        -9.79362519e+02,   4.46469479e+02,   4.33482185e+02,\n",
        "         4.48414958e+02,   4.14295550e+02,   8.59470783e+01,\n",
        "        -8.36882677e+02,   8.49029934e+00,  -8.32263224e+01,\n",
        "         3.07580211e+02,   7.08896347e+02,   3.26067409e+02,\n",
        "        -8.15171555e+01,  -2.49470071e+02,  -3.29549261e+02,\n",
        "        -1.89095811e+02,  -2.30659003e+02,   3.69351609e+02,\n",
        "        -3.64762118e+02,  -1.21516691e+02,   2.55030836e+02,\n",
        "        -1.66367011e+02,   4.39061966e+02,   6.88647120e+02,\n",
        "        -1.26005428e+02,  -2.57414137e+02,  -1.70058776e+02,\n",
        "        -1.05398889e+03,  -1.57643609e+02,   2.27436054e+00,\n",
        "         4.16758010e+02,   6.45478377e+01,   9.41613006e+02,\n",
        "        -3.64188571e+02,   1.84848472e+02,   1.42626179e+02,\n",
        "        -2.61787063e+02,   5.67394595e+02,  -4.77459348e+02,\n",
        "         5.98005059e+02,  -1.34757868e+03,   4.51953972e+02,\n",
        "        -1.45695768e+03,   6.33594241e+02,  -7.96269555e+02,\n",
        "         1.21687547e+03,  -6.43237439e+02,   1.01322215e+03,\n",
        "        -6.21360001e+02,   6.22863580e+02,  -4.74316504e+02,\n",
        "         9.68326582e+02,  -5.53703079e+02,   4.99503074e+02,\n",
        "        -4.23592339e+02,   1.80318051e+01,   9.26566554e+00,\n",
        "         9.22082072e+02,  -1.14786709e+02,   1.07403550e+03,\n",
        "        -1.11348920e+03,   2.16654602e+02,  -1.93269750e+03,\n",
        "         8.63634019e+02,  -1.21610039e+03,   1.77417243e+03,\n",
        "        -4.60362136e+02,   1.15080802e+03,  -1.17802636e+03,\n",
        "         7.88813369e+02,  -1.20091187e+03,   1.38017863e+03,\n",
        "        -6.10250002e+02,   1.28926893e+03,  -9.48723647e+02,\n",
        "         4.01487030e+01,  -7.50997706e+02,  -1.36441432e+02,\n",
        "         5.28943191e+02,   4.12699432e+02,   9.36952184e+02,\n",
        "        -3.55986084e+02,   7.44332134e+01,  -1.05112778e+03,\n",
        "        -1.91550257e+01,  -3.48217039e+02,   4.70315522e+02,\n",
        "         1.39579480e+02,  -1.73893941e+02,  -3.26353064e+02,\n",
        "        -3.36946121e+02,  -2.11896989e+01,   4.33617310e+02,\n",
        "         1.05775829e+03,   2.94381609e+00,   4.63394298e+02,\n",
        "        -8.37603586e+02,  -4.47029940e+02,  -3.38529494e+02,\n",
        "         1.29171756e+02,   2.23812067e+02,   1.10508623e+02,\n",
        "        -4.10172412e+02,  -6.80139144e+02,  -4.94166832e+02,\n",
        "        -3.16363669e+02,   7.88396005e+02,   2.85754753e+02,\n",
        "         6.49014642e+02,   2.31521844e+02,  -6.98089340e+02,\n",
        "         2.14687860e+02,   4.38278836e+01,   3.09820541e+02,\n",
        "         8.05702516e+02,   2.65783492e+01,  -8.69897868e+02,\n",
        "        -3.17430287e+02,  -9.62685798e+02,  -1.72631341e+02,\n",
        "         9.05885160e+02,   2.44030140e+02,   4.08419816e+02,\n",
        "        -1.27643606e+01,  -6.87022662e+02,  -1.14297829e+02,\n",
        "         3.45342106e+02,   3.76404092e+02,   6.82307224e+02,\n",
        "        -2.10080198e+02,  -5.47762742e+02,  -7.72259976e+02,\n",
        "        -5.28656787e+02,   4.28741104e+02,   4.38167753e+02,\n",
        "         8.06182333e+02,   7.77754582e+01,  -4.07288130e+02,\n",
        "        -7.68830464e+02,   8.56206827e+01,  -2.69552860e+02,\n",
        "         9.99476988e+02,   2.12421421e+02,  -1.57866386e+02,\n",
        "        -7.62104450e+02,  -5.25467291e+02,  -6.75400506e+02,\n",
        "         6.64217825e+02,   5.03814921e+02,   6.30053645e+02,\n",
        "        -7.01800350e+01,  -1.37757012e+02,  -7.07208412e+02,\n",
        "         1.30771383e+02,   3.07156130e+02,   3.47242589e+02,\n",
        "         2.36615241e+02,  -2.60932744e+02,  -6.32989075e+02,\n",
        "         7.64790082e+00,   1.84481499e+02,   7.60420540e+02,\n",
        "         4.29745965e+02,   1.21478598e+02,  -5.97348742e+02,\n",
        "        -7.56723721e+02,  -1.69091760e+02,  -4.68615423e+01,\n",
        "         5.35497632e+02,   1.66654445e+02,  -2.95949933e+02,\n",
        "        -7.05199845e+02,  -8.48506074e+02,   3.17038960e+02,\n",
        "        -6.67481321e+01,   1.56442199e+03,   5.94459074e+01,\n",
        "         8.46073259e+02,  -1.02682574e+03,   4.34454245e+02,\n",
        "        -7.48927085e+02,   8.31232362e+02,   9.48066778e+01,\n",
        "         3.97770758e+02,  -5.58468395e+02,  -3.17496526e+02,\n",
        "        -7.97604400e+02,  -2.52391113e+01,   2.36168615e+02,\n",
        "         2.15103902e+02,   3.70549818e+02,  -2.27847731e+02,\n",
        "        -3.84352053e+02,  -1.94153894e+02,  -1.32369732e+02,\n",
        "         4.09036843e+02,   1.50861571e+02,   4.42717120e+02,\n",
        "        -2.76897089e+02,  -7.78735219e+01,  -2.15897597e+02,\n",
        "         2.19429225e+02,  -1.48717251e+01,   4.30865333e+02,\n",
        "        -1.77276951e+02,  -3.24210268e+02,  -4.14608310e+02,\n",
        "        -8.52501584e+01,  -3.53511901e+02,   5.59589387e+02,\n",
        "         2.08371997e+02,  -1.65541183e+02,   2.84842017e+02,\n",
        "        -4.52568446e+02,  -2.45458441e+02,   1.91556327e+02,\n",
        "         1.10940022e+02,  -6.06498568e+01,   6.18954068e+02,\n",
        "        -1.52675188e+02,   1.77648088e+02,   3.05111405e+02,\n",
        "         2.39475390e+02,  -7.56484944e+01,   1.07777223e+02,\n",
        "        -2.90309032e+02,  -6.56672008e+02,  -2.52281226e+02,\n",
        "        -3.96405514e+01,  -2.50785765e+02,   5.36932838e+02,\n",
        "         3.26810440e+02,  -7.77623907e+01,   3.77279746e+02,\n",
        "         1.29485694e+02,  -4.76139910e+01,   3.76755690e+02,\n",
        "        -2.29196698e+01,  -2.09154339e+02,  -3.88662940e+02,\n",
        "         6.73336520e+00,  -6.47932001e+02,   3.43873471e+02,\n",
        "         2.88425352e+01,  -2.59335707e+02,  -1.09024046e+02,\n",
        "        -2.30894567e+02,  -6.37661561e+02,   2.79385065e+02,\n",
        "         2.76941699e+02,   1.34323719e+02,   3.00532797e+02,\n",
        "        -1.75464190e+01,  -6.63102903e+02,  -1.36913591e+02,\n",
        "        -1.01131596e+02,   1.11244385e+02,   2.21601956e+02,\n",
        "         1.63536378e+02,  -2.91308154e+02,  -5.10963801e+02,\n",
        "        -8.49928446e+01,   1.32763211e+01,   8.31831997e+01,\n",
        "         3.83649997e+02,  -1.15475415e+02,  -7.16902650e+02,\n",
        "         1.96026192e+01,  -3.10163197e+02,   1.36587798e+02,\n",
        "         7.38672155e+02,  -8.15222288e+01,  -2.53274236e+02,\n",
        "        -3.20209903e+02,  -6.71924113e+02,  -1.35196417e+02,\n",
        "         5.89871802e+01,   1.58501827e+02,  -2.09857868e+02,\n",
        "        -3.68561855e+02,  -6.51747622e+01,  -5.55008949e+02,\n",
        "         2.38222898e+02,   2.27153056e+02,  -3.95988032e+02,\n",
        "         1.82291340e+01,  -5.98904588e+02,  -6.47550064e+02,\n",
        "        -2.69077117e+02,  -1.39275941e+02,  -2.76654291e-01,\n",
        "         5.05745398e+02,  -2.70941312e+02,  -2.63007014e+02,\n",
        "         6.87775075e+00,   1.52127322e+02,   3.20814389e+02,\n",
        "         1.15655822e+02,   1.63315418e+02,  -1.61005776e+02,\n",
        "         3.18321168e+02,  -2.20593628e+01,   2.60148300e+02,\n",
        "         1.14062808e+02,  -9.95734438e+02,   2.07259721e+02,\n",
        "         1.37651029e+02,  -6.19804846e+02,   3.68832153e+01,\n",
        "        -6.56116862e+02,  -4.57409118e+02,   4.07967283e+01,\n",
        "        -1.48922891e+02,  -4.99800067e+02,  -3.65386864e+02,\n",
        "        -3.79004178e+02,  -5.73602713e+02,   2.52036442e+02,\n",
        "        -7.88454294e+02,   2.54994223e+02,  -4.92143660e+02,\n",
        "        -5.20573031e+02,  -4.17422870e+02,  -2.30135912e+02,\n",
        "        -2.06966109e+02,  -4.32789125e+02,  -3.52733430e+02,\n",
        "         9.96772091e+01,  -9.90167956e+02,   1.15534468e+01,\n",
        "        -6.02557229e+02,  -6.66457441e+01,  -1.72448103e+02,\n",
        "         1.11513768e+02,  -1.56405978e+02,  -1.08713730e+02,\n",
        "         5.02719704e+02,   5.11763155e+01,   2.86943097e+02,\n",
        "        -7.84309094e+02,   9.09791889e+01,  -4.24919120e+02,\n",
        "        -1.46937656e+02,  -1.33036798e+02,  -6.27379150e+02,\n",
        "        -1.81693053e+02,  -2.03902172e+02,  -6.09795605e+02,\n",
        "        -2.49750693e+01,  -5.55850991e+02,  -4.50937663e+02,\n",
        "        -4.65429938e+02,   2.74011632e+01,  -8.13351614e+02,\n",
        "         1.66340217e+02,   5.14823694e+02,   3.21065113e+00,\n",
        "        -1.84261178e+02,  -4.09762891e+01,   1.53509710e+02,\n",
        "        -2.24485909e+02,  -1.04333190e+02,  -3.02775146e+02,\n",
        "         1.78055395e+01,   3.58769446e+02,   1.74297300e+02,\n",
        "         2.52715145e+02,  -1.62092095e+02,   8.71095266e+01,\n",
        "        -1.87193109e+02,  -6.50991232e+02,  -4.18207545e+01,\n",
        "        -5.47728388e+02,   2.56698396e+02,  -4.71974822e+02,\n",
        "         1.36876630e+02,  -3.19809370e+02,  -3.76263616e+02,\n",
        "         4.04598027e+01,   8.78206550e+00,  -2.06068093e+02,\n",
        "         1.48432080e+02,   4.24853514e+02,  -3.50057750e+02,\n",
        "        -2.27318139e+02,  -5.21784086e+00,   3.18303440e+02,\n",
        "         1.11496098e+01,  -3.77556218e+02,   9.15730339e+01,\n",
        "        -6.96622706e+01,  -6.04124174e+02,  -2.97090417e+02,\n",
        "         2.50809640e+02,  -4.23264314e+02,   4.90987596e+02,\n",
        "        -2.83536137e+02,   2.27683616e+02,  -5.47959806e+02,\n",
        "         7.41885984e+01,   9.96014341e+01,  -1.18035718e+02,\n",
        "        -4.15508388e+02,   3.25417594e+01,  -2.33664208e+02,\n",
        "        -1.03056922e+02,   7.76168234e+01,  -3.60654891e+00,\n",
        "         1.24615743e+02,   1.64006329e+02,   1.32367307e+02,\n",
        "        -1.34964310e+02,  -2.02231192e+02,  -1.93408877e+01,\n",
        "         1.64491074e+02,  -2.51031350e+02,   5.84849525e+02,\n",
        "        -3.04542605e+02,  -2.36300473e+02,   4.44669555e+02,\n",
        "        -5.75719477e+02,   6.65535507e+02,  -4.41068678e+02,\n",
        "         2.52701804e+02,  -8.76733130e+02,   2.74071312e+02,\n",
        "         2.20024963e+02,   1.00156930e+03,  -9.53353942e+02,\n",
        "        -5.01610136e+02,   2.79996915e+02,  -5.62812006e+02,\n",
        "         5.05740744e+02,  -1.01278289e+03,   1.33080567e+03,\n",
        "        -8.84863168e+02,   6.08231933e+02,  -2.28708733e+02,\n",
        "        -1.76579948e+02,  -4.53696139e+02,   5.05282742e+02,\n",
        "         2.13568051e+02,   1.29444832e+03,  -1.01720020e+03,\n",
        "         2.20857278e+03,  -4.45378354e+02,   7.63207270e+02,\n",
        "         1.79560958e+02,  -3.90795976e+02,   7.90013544e+02,\n",
        "         2.78135591e+02,   8.53733541e+02,  -2.10576931e+02,\n",
        "         1.78206634e+01,  -3.61655382e+02,  -6.67143125e+02,\n",
        "         1.15409183e+03,  -1.65496646e+03,   1.64757274e+03,\n",
        "        -1.21168946e+03,   9.90201765e+02,   1.67263509e+02,\n",
        "         2.70253749e+02,  -5.27973899e+02,   1.53421079e+02,\n",
        "         5.45392795e+01,   4.81580099e+02,   6.60791083e+02,\n",
        "         6.37914682e+02,   7.57950287e+02,   5.12236948e+02,\n",
        "         2.49349034e+02,   2.05394762e+01,   1.33704149e+02,\n",
        "         4.54762474e+02,  -8.24046890e+02,   1.85128263e+02,\n",
        "         5.23362599e+02,  -1.68052523e+02,   1.86719477e+02,\n",
        "         2.37749617e+02,   7.52099935e+02,  -4.80801938e+02,\n",
        "         7.01679810e+01,   6.32893708e+02,   6.06697507e+02,\n",
        "         2.17811387e+02,   3.69909252e+02,   1.17144609e+02,\n",
        "         1.07425725e+02,  -7.46201641e+01,  -2.17329752e+02,\n",
        "         8.38696326e+00,   4.79230564e+02,   3.94904308e+02,\n",
        "        -1.68731727e+02,   5.15133798e+02,  -1.89448295e+01,\n",
        "         1.44386275e+02,  -2.30687603e+02,   4.31134026e+02,\n",
        "         1.52393457e+02,  -6.23789117e+02,   4.98978370e+02,\n",
        "         7.87517520e+02,   5.30651468e+01,   6.89281535e+02,\n",
        "         1.65487924e+02,   1.28783751e+02,  -2.42731294e+02,\n",
        "         7.43442877e+01,   1.38405090e+02,  -3.12426188e+02,\n",
        "         3.22350526e+02,   7.48604250e+02,   6.83463082e+01,\n",
        "         2.62043381e+02,   4.54220218e+02,  -3.40616891e+02,\n",
        "         8.32618826e+01,  -4.36775791e+02,   8.71562123e+02,\n",
        "        -1.93320389e+02,  -4.59443317e+02,   3.28267291e+02,\n",
        "         1.95377235e+02,   4.94479296e+02,   2.77470158e+02,\n",
        "         3.16517717e+02,  -4.03598376e+02,   1.45007798e+02,\n",
        "        -1.92731665e+02,  -2.01289647e+01,   2.46616630e+02,\n",
        "         1.58200442e+02,  -6.61411704e+02,   1.46149897e+02,\n",
        "        -1.81430750e+02,  -1.32735253e+02,   1.96099987e+02,\n",
        "         5.75338696e-02,   4.14988777e+02,   5.62097843e+02,\n",
        "        -1.24294245e+02,  -8.19851693e-01,   2.12149121e+02,\n",
        "         4.27542232e+02,  -2.99658919e+02,   8.93555560e+01,\n",
        "         9.41970579e+02,  -5.56716079e+02,   1.74771865e+02,\n",
        "         5.02067223e+02,  -1.10689874e+02,   1.83952236e+02,\n",
        "        -1.60407674e+02,   1.62124522e+02,   6.21665001e+01,\n",
        "         2.23678330e+02,   2.89245581e+02,   1.69135919e+00,\n",
        "         2.70167941e+02,  -1.13584209e-01,  -5.11451240e+02,\n",
        "        -2.76964078e+01,   3.93123775e+02,  -7.02560263e+01,\n",
        "         1.75959753e+02,   6.64523461e+01,   3.47969632e+01,\n",
        "         2.65703317e+02,  -5.43384230e+01,  -4.98443839e+02,\n",
        "         9.39683491e+01,  -4.76920719e+02,  -1.64953878e+02,\n",
        "        -4.34290247e+02,   4.72740950e+01,  -5.80668333e+02,\n",
        "        -2.03533634e+01,  -3.60990435e+02,   1.37804798e+02,\n",
        "        -1.91006652e+02,  -1.18302405e+02,  -1.89991151e+02,\n",
        "         5.21473682e+02,  -6.42266429e-01,   6.57545946e+01,\n",
        "        -9.08038709e+01,  -2.64641210e+02,   5.35221570e+02,\n",
        "        -4.31012171e+02,  -8.85093685e+01,   3.98604419e+02,\n",
        "         2.31124665e+01,   4.43803129e+01,   3.79843431e+01,\n",
        "        -1.46776594e+02,  -4.31490551e+02,   3.46335782e+02,\n",
        "        -3.53867670e+01,  -1.42242790e+02,  -1.12035952e+01,\n",
        "         3.05558810e+02,   2.72468523e+02,  -3.06804947e+02,\n",
        "         3.12998017e+02,   6.51188999e+00,   9.07657278e+01,\n",
        "         9.95578727e+00,  -6.95312297e+01,   2.07857022e+02,\n",
        "         1.17086360e+02,  -7.02857145e+01,   3.77933462e+02,\n",
        "        -2.29074158e+02,  -9.41940568e+01,   3.09333491e+02,\n",
        "        -1.76035897e+02,   5.31144166e+02,   3.57481453e+02,\n",
        "         6.96008849e+01,   8.16215367e+01,  -1.35730458e+02,\n",
        "        -3.04637492e+02,   5.46345662e+02,  -1.18036164e+03,\n",
        "         7.78291024e+01,   5.62200495e+02,  -1.43751719e+02,\n",
        "        -2.50697709e+02,   1.17037157e+02,   6.00829772e+01,\n",
        "         1.12813232e+02,   1.43757497e+02,   2.62736874e+02,\n",
        "        -2.17687534e+02,  -6.42369258e+01,   1.43971255e+02,\n",
        "         8.18575779e+01,  -1.03043560e+03,   3.68331242e+02,\n",
        "        -2.12990694e+01,   4.11108710e+02,  -6.04665794e+01,\n",
        "        -1.43823758e+02,   1.32773540e+02,  -6.51361645e+02,\n",
        "         8.09642189e+01,   1.29316570e+02,  -7.60986859e+01,\n",
        "         4.38639568e+02,   3.59577978e+01,   5.51658558e+01,\n",
        "         1.93365839e+03]), 'nit': 75, 'funcalls': 143})\n"
       ]
      }
     ],
     "prompt_number": 49
    },
    {
     "cell_type": "code",
     "collapsed": false,
     "input": [
      "for i,k in enumerate(['lai', 'cab']):\n",
      "    plt.subplot( 1, 3, i+1 )\n",
      "    plt.plot ( state_grid, retval[k])"
     ],
     "language": "python",
     "metadata": {},
     "outputs": [
      {
       "metadata": {},
       "output_type": "display_data",
       "png": "[encoded data removed]",
       "text": [
        "<matplotlib.figure.Figure at 0x179a68d0>"
       ]
      }
     ],
     "prompt_number": 51
    },
    {
     "cell_type": "code",
     "collapsed": false,
     "input": [
      "def cab_traj ( t ):\n",
      "    out = t*0.\n",
      "    w = np.where( t <= 0.5 )[0]\n",
      "    out[w] = 10.5 + 70*t[w]\n",
      "    w = np.where(t > 0.5)[0]\n",
      "    out[w] = 80.5 - 70*t[w]\n",
      "    return out\n",
      "plt.plot ( cab_traj ( np.arange(365)/365.))\n"
     ],
     "language": "python",
     "metadata": {},
     "outputs": [
      {
       "metadata": {},
       "output_type": "pyout",
       "prompt_number": 40,
       "text": [
        "[<matplotlib.lines.Line2D at 0x2af3525bf4d0>]"
       ]
      },
      {
       "metadata": {},
       "output_type": "display_data",
       "png": "[encoded data removed]",
       "text": [
        "<matplotlib.figure.Figure at 0x168dfe90>"
       ]
      }
     ],
     "prompt_number": 40
    },
    {
     "cell_type": "code",
     "collapsed": false,
     "input": [],
     "language": "python",
     "metadata": {},
     "outputs": []
    }
   ],
   "metadata": {}
  }
 ]
}