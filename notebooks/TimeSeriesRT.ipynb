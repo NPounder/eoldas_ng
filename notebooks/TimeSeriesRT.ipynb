{
 "metadata": {
  "name": ""
 },
 "nbformat": 3,
 "nbformat_minor": 0,
 "worksheets": [
  {
   "cells": [
    {
     "cell_type": "heading",
     "level": 1,
     "metadata": {},
     "source": [
      "A simple time series assimilation example using a radiative transfer model for the solar optical domain"
     ]
    },
    {
     "cell_type": "heading",
     "level": 2,
     "metadata": {},
     "source": [
      "J G\u00f3mez-Dans"
     ]
    },
    {
     "cell_type": "code",
     "collapsed": false,
     "input": [
      "# Initial set-up\n",
      "import json\n",
      "import urllib2\n",
      "import matplotlib\n",
      "s = json.load ( urllib2.urlopen(\"https://github.com/CamDavidsonPilon/Probabilistic-Programming-and-Bayesian-Methods-for-Hackers/raw/master/styles/bmh_matplotlibrc.json\"))\n",
      "matplotlib.rcParams.update(s)\n",
      "%pylab inline\n",
      "figsize( 11, 9)\n",
      "from IPython.display import HTML\n",
      "def css_styling():\n",
      "    styles = \"https://github.com/CamDavidsonPilon/Probabilistic-Programming-and-Bayesian-Methods-for-Hackers/raw/master/styles/custom.css\"\n",
      "    return HTML(styles)\n",
      "\n",
      "css_styling()"
     ],
     "language": "python",
     "metadata": {},
     "outputs": [
      {
       "output_type": "stream",
       "stream": "stdout",
       "text": [
        "Populating the interactive namespace from numpy and matplotlib\n"
       ]
      },
      {
       "html": [
        "<style>\n",
        "    @font-face {\n",
        "        font-family: \"Computer Modern\";\n",
        "        src: url('http://mirrors.ctan.org/fonts/cm-unicode/fonts/otf/cmunss.otf');\n",
        "    }\n",
        "    div.cell{\n",
        "        width:800px;\n",
        "        margin-left:16% !important;\n",
        "        margin-right:auto;\n",
        "    }\n",
        "    h1 {\n",
        "        font-family: Helvetica, serif;\n",
        "    }\n",
        "    h4{\n",
        "        margin-top:12px;\n",
        "        margin-bottom: 3px;\n",
        "       }\n",
        "    div.text_cell_render{\n",
        "        font-family: Computer Modern, \"Helvetica Neue\", Arial, Helvetica, Geneva, sans-serif;\n",
        "        line-height: 145%;\n",
        "        font-size: 130%;\n",
        "        width:800px;\n",
        "        margin-left:auto;\n",
        "        margin-right:auto;\n",
        "    }\n",
        "    .CodeMirror{\n",
        "            font-family: \"Source Code Pro\", source-code-pro,Consolas, monospace;\n",
        "    }\n",
        "    .prompt{\n",
        "        display: None;\n",
        "    }\n",
        "    .text_cell_render h5 {\n",
        "        font-weight: 300;\n",
        "        font-size: 22pt;\n",
        "        color: #4057A1;\n",
        "        font-style: italic;\n",
        "        margin-bottom: .5em;\n",
        "        margin-top: 0.5em;\n",
        "        display: block;\n",
        "    }\n",
        "    \n",
        "    .warning{\n",
        "        color: rgb( 240, 20, 20 )\n",
        "        }  \n",
        "</style>\n",
        "<script>\n",
        "    MathJax.Hub.Config({\n",
        "                        TeX: {\n",
        "                           extensions: [\"AMSmath.js\"]\n",
        "                           },\n",
        "                tex2jax: {\n",
        "                    inlineMath: [ ['$','$'], [\"\\\\(\",\"\\\\)\"] ],\n",
        "                    displayMath: [ ['$$','$$'], [\"\\\\[\",\"\\\\]\"] ]\n",
        "                },\n",
        "                displayAlign: 'center', // Change this to 'center' to center equations.\n",
        "                \"HTML-CSS\": {\n",
        "                    styles: {'.MathJax_Display': {\"margin\": 4}}\n",
        "                }\n",
        "        });\n",
        "</script>"
       ],
       "metadata": {},
       "output_type": "pyout",
       "prompt_number": 1,
       "text": [
        "<IPython.core.display.HTML at 0x12e2f950>"
       ]
      }
     ],
     "prompt_number": 1
    },
    {
     "cell_type": "heading",
     "level": 3,
     "metadata": {},
     "source": [
      "Introduction"
     ]
    },
    {
     "cell_type": "markdown",
     "metadata": {},
     "source": [
      "This notebook presents an example of regularisation/data assimilation that carries on from the previous one, where we showed how DA techniques result in an optimal estimation of the state of a time-varying magnitude, interpolating over data gaps and so on. In this case, rather than applying these ideas to an e.g. NDVI time series, we will use a radiative transfer (RT) model to couple between the observations (directional surface reflectance acquired over a number of bands) and the state (defined in this case in terms of LAI, chlorophyll content, etc). This is a much more useful example, as we are effectively mapping from a reflectance to a quantity of interest, taking into account the radiative transfer physics as well as the uncertainties in the observations.\n",
      "\n"
     ]
    },
    {
     "cell_type": "heading",
     "level": 4,
     "metadata": {},
     "source": [
      "Problem specification"
     ]
    },
    {
     "cell_type": "markdown",
     "metadata": {},
     "source": [
      "Assume that we have a set of directional reflectance obervations $R={\\rho(\\Omega,\\Omega', \\lambda_i)}$. We will interpret them with an RT model (in this case PROSAIL, but others are available). PROSAIL predicts surface reflectance for a given acquisition geometry $(\\Omega,\\Omega')$ from 400 to 2500$nm$ as a function of a number of parameters, which are\n",
      "\n",
      "1. $n$, the number of leaf layers\n",
      "2. $cab$, the leaf chlorophyll concentration\n",
      "3. $car$, the leaf carotenoids concentration\n",
      "4. $cbrown$, the amount of senescent pigment\n",
      "5. $cw$, the leaf equivalent water thickness\n",
      "6. $cm$, the leaf dry matter concentration\n",
      "7. $LAI$, the leaf area index\n",
      "8. $ALA$, the average leaf inclination angle\n",
      "9. $B_{soil}$, the soil brightness\n",
      "10. $P_{soil}$, a soil multiplicative term\n",
      "\n",
      "Some of these parameters are to do with the structure and bottom boundary, and some are to do with the spectral properties of the leaves. Mathematically, we can write what PROSAIL simulates as\n",
      "$$\n",
      "\\rho(\\Omega,\\Omega', \\lambda) = M(\\bf{x}, \\Omega, \\Omega'),\n",
      "$$\n",
      "where $\\bf{x}$ is a vector that stacks the values of the PROSAIL parameters for a geometric configuration $\\Omega, \\Omega'$. We will be using the [PROSAIL python bindings](https://github.com/jgomezdans/prosail/) to simulate the reflectance. For example:"
     ]
    },
    {
     "cell_type": "code",
     "collapsed": false,
     "input": [
      "import prosail\n",
      "wv = np.arange ( 400, 2501 )\n",
      "for lai in np.arange ( 0, 4, .5 ):\n",
      "    brf = prosail.run_prosail( 1.5, 60., 15., 0.1, \\\n",
      "                          0.016, 0.065, lai, 45., 0, 1., 0.1, 0.001, 30., 0, 0, 2 )\n",
      "    plt.plot ( wv, brf, label=\"%2.1f\" % lai )\n",
      "plt.legend ( loc='best', fancybox=True )\n",
      "plt.xlabel(\"Wavelength [nm]\")\n",
      "plt.ylabel(r'$\\rho$')"
     ],
     "language": "python",
     "metadata": {},
     "outputs": [
      {
       "metadata": {},
       "output_type": "pyout",
       "prompt_number": 2,
       "text": [
        "<matplotlib.text.Text at 0x13819c10>"
       ]
      },
      {
       "metadata": {},
       "output_type": "display_data",
       "png": "[encoded data removed]",
       "text": [
        "<matplotlib.figure.Figure at 0x1379c790>"
       ]
      }
     ],
     "prompt_number": 2
    },
    {
     "cell_type": "markdown",
     "metadata": {},
     "source": [
      "The previous plot shows the effect of varying LAI for a given canopy between 0 and 3.5 in steps of 0.5 LAI units, for a given observational geometry. Typically, remote sensing sensors acquire data over discrete spectral bands, so rather than get a whole spectrum, we get discrete estimates of reflectance over parts of the spectrum. For example, MODIS uses 7 bands. If we assume that the bandpass function is constant between the minimum and maximum wavelengths, then we can calculate some useful arrays to simulate MODIS data:\n"
     ]
    },
    {
     "cell_type": "code",
     "collapsed": false,
     "input": [
      "b_min = np.array( [ 620., 841, 459, 545, 1230, 1628, 2105] )\n",
      "b_max = np.array( [ 670., 876, 479, 565, 1250, 1652, 2155] )\n",
      "\n",
      "\n",
      "band_pass = np.zeros((7,2101), dtype=np.bool)\n",
      "n_bands = b_min.shape[0]\n",
      "bw = np.zeros( n_bands )\n",
      "bh = np.zeros( n_bands )\n",
      "for i in xrange( n_bands ):\n",
      "    band_pass[i,:] = np.logical_and ( wv >= b_min[i], \\\n",
      "                wv <= b_max[i] )\n",
      "    bw[i] = b_max[i] - b_min[i]\n",
      "    bh[i] = ( b_max[i] + b_min[i] )/2.\n",
      "    plt.axvspan(b_min[i], b_max[i], color='0.8' )\n",
      "plt.plot ( wv, brf)\n",
      "plt.xlabel(\"Wavelenght [nm]\")\n",
      "plt.ylabel(\"Reflectance\")"
     ],
     "language": "python",
     "metadata": {},
     "outputs": [
      {
       "metadata": {},
       "output_type": "pyout",
       "prompt_number": 4,
       "text": [
        "<matplotlib.text.Text at 0x13cc4610>"
       ]
      },
      {
       "metadata": {},
       "output_type": "display_data",
       "png": "[encoded data removed]",
       "text": [
        "<matplotlib.figure.Figure at 0x13cd3190>"
       ]
      }
     ],
     "prompt_number": 4
    },
    {
     "cell_type": "heading",
     "level": 4,
     "metadata": {},
     "source": [
      "The inverse problem"
     ]
    },
    {
     "cell_type": "markdown",
     "metadata": {},
     "source": [
      "The challenge here is to retrieve the parameter vector $\\bf{x}$ that gives rise to the observations that we have $\\rho(\\Omega, \\Omega, \\lambda_i)$. Since our model $M(\\bf{x})$ is non-linear, there is no simple way to obtain that vector directly. The problem is complicated further by the following issues:\n",
      "\n",
      "* There's noise (due to the instrument characteristics, problems in atmospheric correction, etc.)\n",
      "* The angular and spectral sampling available might not be informative enough.\n",
      "* There might be large data gaps due to cloudiness or orbital configuration.\n",
      "\n",
      "In a least squares sense, we can write that the best solution is one that minimises the distance between model and observations, modulated by the uncertainty and the observations, ie\n",
      "\n",
      "$$\n",
      "\\bf{x}_{opt} = \\min_{\\bf{x}}\\left(\\rho(\\Omega, \\Omega', \\lambda) - M(\\bf{x}, \\Omega, \\Omega')\\right)^{2}_{\\bf{C}_{obs}}\n",
      "$$\n",
      "\n",
      "The main assumption here is that the observational noise is i.i.d Gaussian. In the presence of noise and reduced sensitivity to the observations, families of parameters can provide an acceptable solution (i.e., different values of $\\bf{x}$ provide predictions of the observations that fall within the observational error bars), so we typically take a Bayesian approach to this problem and assume that $\\bf{X}$ has a p.d.f., and note that we want to find the $p(\\bf{X}$ **conditioned** on the observations $R$, $p(\\bf{x}|R)$. However, we only have access to the forward model, that calculates the reflectances **given** the model parameters (and assumptions about noise), or in other words, $p(R | \\bf{x})$. We can use Bayes' Rule to calculate the pdf of interest if we add to this last term a prior term, $p(\\bf{x})$, so we have\n",
      "$$\n",
      "p(\\bf{x}|R)$ \\propto p(R | \\bf{x})\\cdot p(\\bf{x})\n",
      "$$\n",
      "\n",
      "The prior term is the pdf of the elements of $\\bf{x}$ before we have any data. So one fairly simplistic approach is to say that we expect the elements of $\\bf{x}$ are normally distributed, with a given mean and covariance structure. However, if $\\bf{x}$ relates to a time varying magnigude (for example, the temporal evolution of LAI), we might also want to add a prior constraint that encodes a belief of smooth transition, or in other words, that *a priori*, we expect that the value of LAI today will be the same as tomorrow (but with an uncertainty on this belief). We can then assume that the two parts of the prior are independent and encode them as a product. The first part is that we penalise solutions that deviate from a prior distribution characterised by $\\bf{x}_{prior}$ and $\\bf{C}_{prior}$:\n",
      "$$\n",
      "p(\\bf{x})\\propto \\exp\\left[-\\frac{1}{2}(\\bf{x}-\\bf{x}_{prior})^{\\top}\\bf{C}_{prior}^{-1} (\\bf{x}-\\bf{x}_{prior})        \\right]\n",
      "$$\n",
      "\n",
      "The second term can be encoded as the first order differences following a 0-mean normal distribution with some variance $\\sigma_{smooth}^{2}$. In a Kalman filter sense, we have that the model we use to update the state is just identity, with a model error given by $\\sigma_{smooth}^{2}$:\n",
      "\n",
      "$$\n",
      "p(x)\\propto \\exp\\left[-\\frac{1}{2}\\frac{(x_{t}-x_{t-1})^{2}}{\\sigma_{smooth}^{2}}        \\right]\n",
      "$$\n",
      "\n",
      "Plugging all these functions in Bayes' Rule, and taking logs, we end up with the following function $J(\\bf{x})$:\n",
      "\n",
      "$$\n",
      "\\begin{align}\n",
      "J(\\bf{x}) =& \\left[-\\frac{1}{2}(\\bf{x}-\\bf{x}_{prior})^{\\top}\\bf{C}_{prior}^{-1} (\\bf{x}-\\bf{x}_{prior})        \\right]\\\\\n",
      "+& \\left[-\\frac{1}{2}\\frac{(x_{t}-x_{t-1})^{2}}{\\sigma_{smooth}^{2}}        \\right]\\\\\n",
      "+& \\left[-\\frac{1}{2}(\\bf{x}-M(\\bf{x}))^{\\top}\\bf{C}_{obs}^{-1} (\\bf{x}-M(\\bf{x})        \\right]\\\\\n",
      "\\end{align}\n",
      "$$\n",
      "\n",
      "The minimum of that function is the maximum probability of the posterior distribution $p(\\bf{x}|R)$, or the most likely solution that (i) fits the data (using our RT model to map from reflectance to state) and (ii) takes into account the prior information both of state value (and correlations) and dynamic evolution. Note that this latter term could also be provided by some expectation of the state from a vegetation model, at least for the parts of the model that the vegetation model has in common with our state (for example, LAI), and taking into account that they must be defined coherently.\n",
      "\n",
      "`eoldas_ng` provides a way to solve the minimisation problem easily. There are two main challenges:\n",
      "\n",
      "1. The RT models are typically time consuming\n",
      "2. We need to calculate the partial derivatives of $J(\\bf{x})$ in order to apply efficient function minimisation approaches\n",
      "\n",
      "We solve both these problems by using Gaussian Process emulators (GPs). These emulators use a number of RT model outputs to generate a non-linear statistical model that simulates what the RT model would produce (with an uncertainty estimate). These functions have simple forms for their partial derivatives that we can exploit too."
     ]
    },
    {
     "cell_type": "heading",
     "level": 4,
     "metadata": {},
     "source": [
      "The actual problem"
     ]
    },
    {
     "cell_type": "markdown",
     "metadata": {},
     "source": [
      "In this example, we will be using a time series of synthetic MODIS-like data that has been generated with some particular parameter temporal trajectories. We will then use these observations and the DA system to solve for the true state.\n",
      "\n",
      "In particular, we will first have a system where MODIS observations are produced every  7 days, but initially always with the same acquisition geometry. Data gaps will be be simulated and typical noise added. All other parameters will be kept fixed to their default values. In `eoldas_ng`, we call time varying parameters `VARIABLE`. \n",
      "\n",
      "We will use the PROSAIL model but also create GP emulators of the model for convenience."
     ]
    },
    {
     "cell_type": "heading",
     "level": 3,
     "metadata": {},
     "source": [
      "Setting up the `eoldas_ng` machinery"
     ]
    },
    {
     "cell_type": "markdown",
     "metadata": {},
     "source": [
      "Let's set up the basics. We need to use a number of `OrderedDict` to configure the variables of the state that we will use. Only LAI will change as a function of time, whereas all the other variables will be `FIXED` to their default value. We need to define these defaults, as well as parameter boundaries.\n",
      "\n",
      "Finally, we will also define some transformations of some parameters that are useful in that they quasi-linearise the model. All these terms are defined as `OrderedDict` objects, and are then passed to the `State` class that will bound them together:"
     ]
    },
    {
     "cell_type": "code",
     "collapsed": false,
     "input": [
      "from collections import OrderedDict\n",
      "try:\n",
      "    from operators import *\n",
      "except ImportError:\n",
      "    import sys\n",
      "    sys.path.append ( \"../eoldas_ng/\")\n",
      "    from operators import *\n",
      "\n",
      "state_config = OrderedDict ()\n",
      "\n",
      "state_config['n'] = FIXED\n",
      "state_config['cab'] = FIXED\n",
      "state_config['car'] = FIXED\n",
      "state_config['cbrown'] = FIXED\n",
      "state_config['cw'] = FIXED\n",
      "state_config['cm'] = FIXED\n",
      "state_config['lai'] = VARIABLE\n",
      "state_config['ala'] = FIXED\n",
      "state_config['bsoil'] = FIXED\n",
      "state_config['psoil'] = FIXED\n",
      "\n",
      "    \n",
      "    \n",
      "    \n",
      "    \n",
      "# Now define the default values\n",
      "default_par = OrderedDict ()\n",
      "default_par['n'] = 1.5\n",
      "default_par['cab'] = 40.\n",
      "default_par['car'] = 10.\n",
      "default_par['cbrown'] = 0.01\n",
      "default_par['cw'] = 0.018 # Say?\n",
      "default_par['cm'] = 0.0065 # Say?\n",
      "default_par['lai'] = 2\n",
      "default_par['ala'] = 45.\n",
      "default_par['bsoil'] = 1.\n",
      "default_par['psoil'] = 0.1\n",
      "\n",
      "parameter_min = OrderedDict()\n",
      "parameter_max = OrderedDict()\n",
      "    \n",
      "min_vals = [ 0.8, 0.2, 0.0, 0.0, 0.0043, 0.0017,0.01, 40, 0., 0., 0.]\n",
      "max_vals = [2.5, 77., 5., 1., 0.0713, 0.0331, 8., 50., 2., 1.]\n",
      "\n",
      "for i, param in enumerate ( state_config.keys() ):\n",
      "    parameter_min[param] = min_vals[i]\n",
      "    parameter_max[param] = max_vals[i]\n",
      "    # Define parameter transformations\n",
      "transformations = {\n",
      "        'lai': lambda x: np.exp ( -x/2. ), \\\n",
      "        'cab': lambda x: np.exp ( -x/100. ), \\\n",
      "        'car': lambda x: np.exp ( -x/100. ), \\\n",
      "        'cw': lambda x: np.exp ( -50.*x ), \\\n",
      "        'cm': lambda x: np.exp ( -100.*x ), \\\n",
      "        'ala': lambda x: x/90. }\n",
      "inv_transformations = {\n",
      "        'lai': lambda x: -2*np.log ( x ), \\\n",
      "        'cab': lambda x: -100*np.log ( x ), \\\n",
      "        'car': lambda x: -100*np.log( x ), \\\n",
      "        'cw': lambda x: (-1/50.)*np.log ( x ), \\\n",
      "        'cm': lambda x: (-1/100.)*np.log ( x ), \\\n",
      "        'ala': lambda x: 90.*x }\n",
      "\n",
      "# Define the state grid. In time in this case\n",
      "state_grid = np.arange ( 1, 366 )\n",
      "    \n",
      "# Define the state\n",
      "# L'etat, c'est moi\n",
      "state = State ( state_config, state_grid, default_par, \\\n",
      "        parameter_min, parameter_max )\n",
      "# Set the transformations\n",
      "state.set_transformations ( transformations, inv_transformations )\n"
     ],
     "language": "python",
     "metadata": {},
     "outputs": [],
     "prompt_number": 5
    },
    {
     "cell_type": "markdown",
     "metadata": {},
     "source": [
      "The previous code snippet is quite verbose, but you can see that we just set up a large number of parameter defaults, boundaries, transformations and types. We will now use the complete PROSAIL model to simulate the observations over a year. We do this by creating a dictionary where the key is the parameter of interest (in this case `lai`), and the value associated is a function of time. In this case, we use the following function for LAI:\n",
      "$$\n",
      "LAI(t) = 0.21 + 3.51\\cdot\\sin(\\pi t)^{5}\n",
      "$$\n",
      "\n",
      "This trajectory dictionary, as well as the definition of the state is passed to `create_parameter_trajectories` that will return an $N_{param}\\times N_{dates}$ array with the entire set of parameters for each day of the experiment. For other parameters than LAI, it will be set to the default parameter.\n",
      "\n",
      "The `create_observations` function will create observations using the state definition, the parameter grid and the latitude and longitude values."
     ]
    },
    {
     "cell_type": "code",
     "collapsed": false,
     "input": [
      "from create_emulators import *\n",
      "trajectories = {\n",
      "    'lai': lambda t: (0.21 + 3.51 * (np.sin(np.pi*t)**5)), \n",
      "}\n",
      "    \n",
      "# Now, create some simulated data...\n",
      "parameter_grid = create_parameter_trajectories ( state, trajectories )\n",
      "plt.plot ( np.arange(1, 366), parameter_grid[6, :], label=\"LAI\" )\n",
      "plt.xlabel( \"DoY\" )\n",
      "plt.ylabel (\"LAI [$m^{2}m^{-2}$]\")\n",
      "# Now forward model the observations...\n",
      "doys, vza, sza, raa, rho = create_observations ( state, parameter_grid, \\\n",
      "            42, -8.)"
     ],
     "language": "python",
     "metadata": {},
     "outputs": [
      {
       "metadata": {},
       "output_type": "display_data",
       "png": "[encoded data removed]",
       "text": [
        "<matplotlib.figure.Figure at 0x13d48550>"
       ]
      }
     ],
     "prompt_number": 6
    },
    {
     "cell_type": "markdown",
     "metadata": {},
     "source": [
      "The observations already refer to the MODIS bands. Let's see how they look like:"
     ]
    },
    {
     "cell_type": "code",
     "collapsed": false,
     "input": [
      "plt.plot ( doys, rho[1, :], 'o', label=\"NIR\")\n",
      "plt.plot ( doys, rho[0, :], 's', label=\"RED\")\n",
      "plt.ylabel(r'$\\rho$')\n",
      "plt.xlabel(\"DoY\")"
     ],
     "language": "python",
     "metadata": {},
     "outputs": [
      {
       "metadata": {},
       "output_type": "pyout",
       "prompt_number": 7,
       "text": [
        "<matplotlib.text.Text at 0x143aadd0>"
       ]
      },
      {
       "metadata": {},
       "output_type": "display_data",
       "png": "[encoded data removed]",
       "text": [
        "<matplotlib.figure.Figure at 0x2af35013ac50>"
       ]
      }
     ],
     "prompt_number": 7
    },
    {
     "cell_type": "markdown",
     "metadata": {},
     "source": [
      "We see clearly the evolution of the NIR reflectance mapping the development of leaf area, whereas the RED reflectance decreases through increased absorption with high LAI values."
     ]
    },
    {
     "cell_type": "markdown",
     "metadata": {},
     "source": [
      "We now need to *train* the emulators. For the given geometry (vza=15, sza=15, raa=15), we shall use a sampling of parameter space to produce an emulator using the `create_emulators` function. We will then save that result for posterity:"
     ]
    },
    {
     "cell_type": "code",
     "collapsed": false,
     "input": [
      "angles = [ [15, 15, 0] ]\n",
      "#emulators,  samples, validate = create_emulators ( state, [\"\"], angles=angles )   \n",
      "#for i,(s,v,r) in enumerate(angles):     \n",
      "#    fname = \"%02d_sza_%02d_vza_000_raa\" % (s,v)\n",
      "#    emulators[i].dump_emulator(fname)\n"
     ],
     "language": "python",
     "metadata": {},
     "outputs": [],
     "prompt_number": 8
    },
    {
     "cell_type": "markdown",
     "metadata": {},
     "source": [
      "The previous code snippet has created the emulators and tested them with a set of random parameters that have used the full model. We see that the reported RMSE is very  low, so we will ignore the emulator error in this problem. We have also stored the emuator for this geometry in an `.npz` file. We'll load it up and see how it works:"
     ]
    },
    {
     "cell_type": "code",
     "collapsed": false,
     "input": [
      "emulators = {}\n",
      "for i,(s,v,r) in enumerate(angles):     \n",
      "    fname = \"%02d_sza_%02d_vza_000_raa.npz\" % (s,v)\n",
      "    emulators[(v,s)]= MultivariateEmulator ( dump=fname )\n"
     ],
     "language": "python",
     "metadata": {},
     "outputs": [
      {
       "output_type": "stream",
       "stream": "stdout",
       "text": [
        "Decomposing the input dataset into basis functions... "
       ]
      },
      {
       "output_type": "stream",
       "stream": "stdout",
       "text": [
        "Done!\n",
        " ====> Using 8 basis functions\n"
       ]
      }
     ],
     "prompt_number": 9
    },
    {
     "cell_type": "heading",
     "level": 3,
     "metadata": {},
     "source": [
      "The operators"
     ]
    },
    {
     "cell_type": "code",
     "collapsed": false,
     "input": [
      "mu_prior = OrderedDict ()\n",
      "prior_inv_cov = OrderedDict ()\n",
      "for param in state.parameter_min.iterkeys():\n",
      "    mu_prior[param] = np.array([default_par[param]])\n",
      "    if param == \"cab\":\n",
      "        prior_inv_cov[param] = np.array ( [1./(40.*40.)])\n",
      "    elif param == \"cw\":\n",
      "        prior_inv_cov[param] = np.array( [1./(0.07*0.07)] )\n",
      "    else:\n",
      "        prior_inv_cov[param] = np.array([1])\n",
      "            #parameter_max[param] - parameter_min[param]*0.4)\n",
      "prior = Prior ( mu_prior, prior_inv_cov )"
     ],
     "language": "python",
     "metadata": {},
     "outputs": [],
     "prompt_number": 54
    },
    {
     "cell_type": "code",
     "collapsed": false,
     "input": [
      "temporal = TemporalSmoother ( state_grid, 10000, required_params=[\"lai\"] )"
     ],
     "language": "python",
     "metadata": {},
     "outputs": [],
     "prompt_number": 55
    },
    {
     "cell_type": "code",
     "collapsed": false,
     "input": [
      "rho_big = np.zeros(( 7,365))\n",
      "mask = np.zeros(( 365, 4))\n",
      "\n",
      "\n",
      "for i in state_grid:\n",
      "    if i in doys:\n",
      "        rho_big[:, i] = rho[:, doys==i].squeeze()\n",
      "        mask[ i, :] = [ 1, vza[doys==i], sza[doys==i],  raa[doys==i] ]\n",
      "\n",
      "bu = np.array( [ 0.00463576,  0.00540698,  0.004, 0.00431066,  \\\n",
      "        0.00678507,  0.00822998,  0.01])\n",
      "    \n",
      "obs = ObservationOperatorTimeSeriesGP( state_grid, state, rho_big, mask, emulators, bu, band_pass, bw )\n"
     ],
     "language": "python",
     "metadata": {},
     "outputs": [],
     "prompt_number": 56
    },
    {
     "cell_type": "code",
     "collapsed": false,
     "input": [
      "state.add_operator ( \"Prior\", prior )\n",
      "state.add_operator ( \"Model\", temporal )\n",
      "state.add_operator ( \"Obs\", obs )"
     ],
     "language": "python",
     "metadata": {},
     "outputs": [],
     "prompt_number": 57
    },
    {
     "cell_type": "code",
     "collapsed": false,
     "input": [
      "x_dict = {}\n",
      "for i,k in enumerate(state.parameter_max.keys()):\n",
      "    if state.state_config[k] == VARIABLE:\n",
      "        x_dict[k] =  ( parameter_grid[i, :] )* + mu_prior[k]\n",
      "    else:\n",
      "        x_dict[k] = parameter_grid[i, 0]#*0+ mu_prior[k]\n",
      "x_dict['lai'] = np.random.rand(365)*5.#np.ones(365)*mu_prior['lai']\n",
      "retval = state.optimize ( x_dict )\n"
     ],
     "language": "python",
     "metadata": {},
     "outputs": [
      {
       "output_type": "stream",
       "stream": "stdout",
       "text": [
        "\t[Prior] --> 436.032\n",
        "\t[Model] --> 8.19134e+06\n",
        "\t[Obs] --> 76426"
       ]
      },
      {
       "output_type": "stream",
       "stream": "stdout",
       "text": [
        "\n",
        "\t\t[Total] -->\n",
        "\t[Prior] --> 3759.37\n",
        "\t[Model] --> 8.23537e+07\n",
        "\t[Obs] --> 39975.4"
       ]
      },
      {
       "output_type": "stream",
       "stream": "stdout",
       "text": [
        "\n",
        "\t\t[Total] -->\n",
        "\t[Prior] --> 310.09\n",
        "\t[Model] --> 5.76193e+06\n",
        "\t[Obs] --> 68532.6"
       ]
      },
      {
       "output_type": "stream",
       "stream": "stdout",
       "text": [
        "\n",
        "\t\t[Total] -->\n",
        "\t[Prior] --> 140.454\n",
        "\t[Model] --> 2.59213e+06\n",
        "\t[Obs] --> 3296.49"
       ]
      },
      {
       "output_type": "stream",
       "stream": "stdout",
       "text": [
        "\n",
        "\t\t[Total] -->\n",
        "\t[Prior] --> 70.4532\n",
        "\t[Model] --> 865056\n",
        "\t[Obs] --> 1002.49"
       ]
      },
      {
       "output_type": "stream",
       "stream": "stdout",
       "text": [
        "\n",
        "\t\t[Total] -->\n",
        "\t[Prior] --> 59.6887\n",
        "\t[Model] --> 548465\n",
        "\t[Obs] --> 967.185"
       ]
      },
      {
       "output_type": "stream",
       "stream": "stdout",
       "text": [
        "\n",
        "\t\t[Total] -->\n",
        "\t[Prior] --> 57.0598\n",
        "\t[Model] --> 377085\n",
        "\t[Obs] --> 789.74"
       ]
      },
      {
       "output_type": "stream",
       "stream": "stdout",
       "text": [
        "\n",
        "\t\t[Total] -->\n",
        "\t[Prior] --> 64.2264\n",
        "\t[Model] --> 303696\n",
        "\t[Obs] --> 560.703"
       ]
      },
      {
       "output_type": "stream",
       "stream": "stdout",
       "text": [
        "\n",
        "\t\t[Total] -->\n",
        "\t[Prior] --> 65.8994\n",
        "\t[Model] --> 246261\n",
        "\t[Obs] --> 299.894"
       ]
      },
      {
       "output_type": "stream",
       "stream": "stdout",
       "text": [
        "\n",
        "\t\t[Total] -->\n",
        "\t[Prior] --> 67.3673\n",
        "\t[Model] --> 216984\n",
        "\t[Obs] --> 272.392"
       ]
      },
      {
       "output_type": "stream",
       "stream": "stdout",
       "text": [
        "\n",
        "\t\t[Total] -->\n",
        "\t[Prior] --> 74.5879\n",
        "\t[Model] --> 179462\n",
        "\t[Obs] --> 238.754"
       ]
      },
      {
       "output_type": "stream",
       "stream": "stdout",
       "text": [
        "\n",
        "\t\t[Total] -->\n",
        "\t[Prior] --> 94.7988\n",
        "\t[Model] --> 156869\n",
        "\t[Obs] --> 386.622"
       ]
      },
      {
       "output_type": "stream",
       "stream": "stdout",
       "text": [
        "\n",
        "\t\t[Total] -->\n",
        "\t[Prior] --> 94.3319\n",
        "\t[Model] --> 132293\n",
        "\t[Obs] --> 201.332"
       ]
      },
      {
       "output_type": "stream",
       "stream": "stdout",
       "text": [
        "\n",
        "\t\t[Total] -->\n",
        "\t[Prior] --> 97.5079\n",
        "\t[Model] --> 120397\n",
        "\t[Obs] --> 191.335"
       ]
      },
      {
       "output_type": "stream",
       "stream": "stdout",
       "text": [
        "\n",
        "\t\t[Total] -->\n",
        "\t[Prior] --> 108.707\n",
        "\t[Model] --> 103937\n",
        "\t[Obs] --> 184.866"
       ]
      },
      {
       "output_type": "stream",
       "stream": "stdout",
       "text": [
        "\n",
        "\t\t[Total] -->\n",
        "\t[Prior] --> 129.224\n",
        "\t[Model] --> 81183.4\n",
        "\t[Obs] --> 184.855"
       ]
      },
      {
       "output_type": "stream",
       "stream": "stdout",
       "text": [
        "\n",
        "\t\t[Total] -->\n",
        "\t[Prior] --> 181.495\n",
        "\t[Model] --> 102048\n",
        "\t[Obs] --> 265.905"
       ]
      },
      {
       "output_type": "stream",
       "stream": "stdout",
       "text": [
        "\n",
        "\t\t[Total] -->\n",
        "\t[Prior] --> 132.88\n",
        "\t[Model] --> 78484\n",
        "\t[Obs] --> 176.989"
       ]
      },
      {
       "output_type": "stream",
       "stream": "stdout",
       "text": [
        "\n",
        "\t\t[Total] -->\n",
        "\t[Prior] --> 167.591\n",
        "\t[Model] --> 66991.5\n",
        "\t[Obs] --> 151.708"
       ]
      },
      {
       "output_type": "stream",
       "stream": "stdout",
       "text": [
        "\n",
        "\t\t[Total] -->\n",
        "\t[Prior] --> 181.865\n",
        "\t[Model] --> 56389.2\n",
        "\t[Obs] --> 151.285"
       ]
      },
      {
       "output_type": "stream",
       "stream": "stdout",
       "text": [
        "\n",
        "\t\t[Total] -->\n",
        "\t[Prior] --> 198.527\n",
        "\t[Model] --> 51158.5\n",
        "\t[Obs] --> 150.686"
       ]
      },
      {
       "output_type": "stream",
       "stream": "stdout",
       "text": [
        "\n",
        "\t\t[Total] -->\n",
        "\t[Prior] --> 202.046\n",
        "\t[Model] --> 44691.4\n",
        "\t[Obs] --> 148.71"
       ]
      },
      {
       "output_type": "stream",
       "stream": "stdout",
       "text": [
        "\n",
        "\t\t[Total] -->\n",
        "\t[Prior] --> 201.429\n",
        "\t[Model] --> 37089.5\n",
        "\t[Obs] --> 143.647"
       ]
      },
      {
       "output_type": "stream",
       "stream": "stdout",
       "text": [
        "\n",
        "\t\t[Total] -->\n",
        "\t[Prior] --> 206.781\n",
        "\t[Model] --> 32519.2\n",
        "\t[Obs] --> 142.407"
       ]
      },
      {
       "output_type": "stream",
       "stream": "stdout",
       "text": [
        "\n",
        "\t\t[Total] -->\n",
        "\t[Prior] --> 214.835\n",
        "\t[Model] --> 29581.1\n",
        "\t[Obs] --> 141.987"
       ]
      },
      {
       "output_type": "stream",
       "stream": "stdout",
       "text": [
        "\n",
        "\t\t[Total] -->\n",
        "\t[Prior] --> 223.33\n",
        "\t[Model] --> 24450.3\n",
        "\t[Obs] --> 140.523"
       ]
      },
      {
       "output_type": "stream",
       "stream": "stdout",
       "text": [
        "\n",
        "\t\t[Total] -->\n",
        "\t[Prior] --> 226.811\n",
        "\t[Model] --> 21522.8\n",
        "\t[Obs] --> 136.244"
       ]
      },
      {
       "output_type": "stream",
       "stream": "stdout",
       "text": [
        "\n",
        "\t\t[Total] -->\n",
        "\t[Prior] --> 227.34\n",
        "\t[Model] --> 19149.2\n",
        "\t[Obs] --> 136.638"
       ]
      },
      {
       "output_type": "stream",
       "stream": "stdout",
       "text": [
        "\n",
        "\t\t[Total] -->\n",
        "\t[Prior] --> 228.237\n",
        "\t[Model] --> 18057.3\n",
        "\t[Obs] --> 133.705"
       ]
      },
      {
       "output_type": "stream",
       "stream": "stdout",
       "text": [
        "\n",
        "\t\t[Total] -->\n",
        "\t[Prior] --> 229.135\n",
        "\t[Model] --> 16601.3\n",
        "\t[Obs] --> 133.411"
       ]
      },
      {
       "output_type": "stream",
       "stream": "stdout",
       "text": [
        "\n",
        "\t\t[Total] -->\n",
        "\t[Prior] --> 233.579\n",
        "\t[Model] --> 14922.5\n",
        "\t[Obs] --> 135.351"
       ]
      },
      {
       "output_type": "stream",
       "stream": "stdout",
       "text": [
        "\n",
        "\t\t[Total] -->\n",
        "\t[Prior] --> 236.815\n",
        "\t[Model] --> 13235.1\n",
        "\t[Obs] --> 135.288"
       ]
      },
      {
       "output_type": "stream",
       "stream": "stdout",
       "text": [
        "\n",
        "\t\t[Total] -->\n",
        "\t[Prior] --> 238.026\n",
        "\t[Model] --> 12602.5\n",
        "\t[Obs] --> 134.514"
       ]
      },
      {
       "output_type": "stream",
       "stream": "stdout",
       "text": [
        "\n",
        "\t\t[Total] -->\n",
        "\t[Prior] --> 243.058\n",
        "\t[Model] --> 11312.2\n",
        "\t[Obs] --> 134.134"
       ]
      },
      {
       "output_type": "stream",
       "stream": "stdout",
       "text": [
        "\n",
        "\t\t[Total] -->\n",
        "\t[Prior] --> 247.274\n",
        "\t[Model] --> 10597.7\n",
        "\t[Obs] --> 134.4"
       ]
      },
      {
       "output_type": "stream",
       "stream": "stdout",
       "text": [
        "\n",
        "\t\t[Total] -->\n",
        "\t[Prior] --> 255.277\n",
        "\t[Model] --> 10220.2\n",
        "\t[Obs] --> 133.084"
       ]
      },
      {
       "output_type": "stream",
       "stream": "stdout",
       "text": [
        "\n",
        "\t\t[Total] -->\n",
        "\t[Prior] --> 261.564\n",
        "\t[Model] --> 9915.17\n",
        "\t[Obs] --> 132.405"
       ]
      },
      {
       "output_type": "stream",
       "stream": "stdout",
       "text": [
        "\n",
        "\t\t[Total] -->\n",
        "\t[Prior] --> 267.239\n",
        "\t[Model] --> 9444.87\n",
        "\t[Obs] --> 131.756"
       ]
      },
      {
       "output_type": "stream",
       "stream": "stdout",
       "text": [
        "\n",
        "\t\t[Total] -->\n",
        "\t[Prior] --> 271.389\n",
        "\t[Model] --> 8870.67\n",
        "\t[Obs] --> 130.908"
       ]
      },
      {
       "output_type": "stream",
       "stream": "stdout",
       "text": [
        "\n",
        "\t\t[Total] -->\n",
        "\t[Prior] --> 279.211\n",
        "\t[Model] --> 7908.42\n",
        "\t[Obs] --> 132.155"
       ]
      },
      {
       "output_type": "stream",
       "stream": "stdout",
       "text": [
        "\n",
        "\t\t[Total] -->\n",
        "\t[Prior] --> 284.854\n",
        "\t[Model] --> 7634.18\n",
        "\t[Obs] --> 130.243"
       ]
      },
      {
       "output_type": "stream",
       "stream": "stdout",
       "text": [
        "\n",
        "\t\t[Total] -->\n",
        "\t[Prior] --> 290.45\n",
        "\t[Model] --> 7276.22\n",
        "\t[Obs] --> 130.4"
       ]
      },
      {
       "output_type": "stream",
       "stream": "stdout",
       "text": [
        "\n",
        "\t\t[Total] -->\n",
        "\t[Prior] --> 297.639\n",
        "\t[Model] --> 7244.83\n",
        "\t[Obs] --> 130.29"
       ]
      },
      {
       "output_type": "stream",
       "stream": "stdout",
       "text": [
        "\n",
        "\t\t[Total] -->\n",
        "\t[Prior] --> 305.721\n",
        "\t[Model] --> 6909.67\n",
        "\t[Obs] --> 130.99"
       ]
      },
      {
       "output_type": "stream",
       "stream": "stdout",
       "text": [
        "\n",
        "\t\t[Total] -->\n",
        "\t[Prior] --> 307.908\n",
        "\t[Model] --> 6588.44\n",
        "\t[Obs] --> 130.401"
       ]
      },
      {
       "output_type": "stream",
       "stream": "stdout",
       "text": [
        "\n",
        "\t\t[Total] -->\n",
        "\t[Prior] --> 310.035\n",
        "\t[Model] --> 6169.6\n",
        "\t[Obs] --> 129.393"
       ]
      },
      {
       "output_type": "stream",
       "stream": "stdout",
       "text": [
        "\n",
        "\t\t[Total] -->\n",
        "\t[Prior] --> 313.029\n",
        "\t[Model] --> 5759.19\n",
        "\t[Obs] --> 128.946"
       ]
      },
      {
       "output_type": "stream",
       "stream": "stdout",
       "text": [
        "\n",
        "\t\t[Total] -->\n",
        "\t[Prior] --> 315.427\n",
        "\t[Model] --> 5272.65\n",
        "\t[Obs] --> 127.991"
       ]
      },
      {
       "output_type": "stream",
       "stream": "stdout",
       "text": [
        "\n",
        "\t\t[Total] -->\n",
        "\t[Prior] --> 316.284\n",
        "\t[Model] --> 5045.87\n",
        "\t[Obs] --> 127.775"
       ]
      },
      {
       "output_type": "stream",
       "stream": "stdout",
       "text": [
        "\n",
        "\t\t[Total] -->\n",
        "\t[Prior] --> 316.444\n",
        "\t[Model] --> 4824.53\n",
        "\t[Obs] --> 127.727"
       ]
      },
      {
       "output_type": "stream",
       "stream": "stdout",
       "text": [
        "\n",
        "\t\t[Total] -->\n",
        "\t[Prior] --> 316.291\n",
        "\t[Model] --> 4613.39\n",
        "\t[Obs] --> 127.814"
       ]
      },
      {
       "output_type": "stream",
       "stream": "stdout",
       "text": [
        "\n",
        "\t\t[Total] -->\n",
        "\t[Prior] --> 316.022\n",
        "\t[Model] --> 4298.13\n",
        "\t[Obs] --> 128.654"
       ]
      },
      {
       "output_type": "stream",
       "stream": "stdout",
       "text": [
        "\n",
        "\t\t[Total] -->\n",
        "\t[Prior] --> 315.877\n",
        "\t[Model] --> 4010.1\n",
        "\t[Obs] --> 128.466"
       ]
      },
      {
       "output_type": "stream",
       "stream": "stdout",
       "text": [
        "\n",
        "\t\t[Total] -->\n",
        "\t[Prior] --> 315.285\n",
        "\t[Model] --> 3790.26\n",
        "\t[Obs] --> 128.416"
       ]
      },
      {
       "output_type": "stream",
       "stream": "stdout",
       "text": [
        "\n",
        "\t\t[Total] -->\n",
        "\t[Prior] --> 313.93\n",
        "\t[Model] --> 3553.43\n",
        "\t[Obs] --> 128.545"
       ]
      },
      {
       "output_type": "stream",
       "stream": "stdout",
       "text": [
        "\n",
        "\t\t[Total] -->\n",
        "\t[Prior] --> 312.802\n",
        "\t[Model] --> 3428.36\n",
        "\t[Obs] --> 128.04"
       ]
      },
      {
       "output_type": "stream",
       "stream": "stdout",
       "text": [
        "\n",
        "\t\t[Total] -->\n",
        "\t[Prior] --> 312.651\n",
        "\t[Model] --> 3296.79\n",
        "\t[Obs] --> 127.935"
       ]
      },
      {
       "output_type": "stream",
       "stream": "stdout",
       "text": [
        "\n",
        "\t\t[Total] -->\n",
        "\t[Prior] --> 312.052\n",
        "\t[Model] --> 3155.76\n",
        "\t[Obs] --> 127.74"
       ]
      },
      {
       "output_type": "stream",
       "stream": "stdout",
       "text": [
        "\n",
        "\t\t[Total] -->\n",
        "\t[Prior] --> 311.212\n",
        "\t[Model] --> 3111.92\n",
        "\t[Obs] --> 128.026"
       ]
      },
      {
       "output_type": "stream",
       "stream": "stdout",
       "text": [
        "\n",
        "\t\t[Total] -->\n",
        "\t[Prior] --> 311.118\n",
        "\t[Model] --> 3012.45\n",
        "\t[Obs] --> 127.66"
       ]
      },
      {
       "output_type": "stream",
       "stream": "stdout",
       "text": [
        "\n",
        "\t\t[Total] -->\n",
        "\t[Prior] --> 310.819\n",
        "\t[Model] --> 2936.72\n",
        "\t[Obs] --> 127.651"
       ]
      },
      {
       "output_type": "stream",
       "stream": "stdout",
       "text": [
        "\n",
        "\t\t[Total] -->\n",
        "\t[Prior] --> 310.563\n",
        "\t[Model] --> 2883.52\n",
        "\t[Obs] --> 127.753"
       ]
      },
      {
       "output_type": "stream",
       "stream": "stdout",
       "text": [
        "\n",
        "\t\t[Total] -->\n",
        "\t[Prior] --> 310.419\n",
        "\t[Model] --> 2791.35\n",
        "\t[Obs] --> 127.895"
       ]
      },
      {
       "output_type": "stream",
       "stream": "stdout",
       "text": [
        "\n",
        "\t\t[Total] -->\n",
        "\t[Prior] --> 310.48\n",
        "\t[Model] --> 2845.52\n",
        "\t[Obs] --> 128.693"
       ]
      },
      {
       "output_type": "stream",
       "stream": "stdout",
       "text": [
        "\n",
        "\t\t[Total] -->\n",
        "\t[Prior] --> 310.414\n",
        "\t[Model] --> 2768.77\n",
        "\t[Obs] --> 127.901"
       ]
      },
      {
       "output_type": "stream",
       "stream": "stdout",
       "text": [
        "\n",
        "\t\t[Total] -->\n",
        "\t[Prior] --> 310.613\n",
        "\t[Model] --> 2740.56\n",
        "\t[Obs] --> 127.967"
       ]
      },
      {
       "output_type": "stream",
       "stream": "stdout",
       "text": [
        "\n",
        "\t\t[Total] -->\n",
        "\t[Prior] --> 310.842\n",
        "\t[Model] --> 2717.53\n",
        "\t[Obs] --> 127.883"
       ]
      },
      {
       "output_type": "stream",
       "stream": "stdout",
       "text": [
        "\n",
        "\t\t[Total] -->\n",
        "\t[Prior] --> 311.72\n",
        "\t[Model] --> 2673.85\n",
        "\t[Obs] --> 127.919"
       ]
      },
      {
       "output_type": "stream",
       "stream": "stdout",
       "text": [
        "\n",
        "\t\t[Total] -->\n",
        "\t[Prior] --> 312.302\n",
        "\t[Model] --> 2627.71\n",
        "\t[Obs] --> 127.643"
       ]
      },
      {
       "output_type": "stream",
       "stream": "stdout",
       "text": [
        "\n",
        "\t\t[Total] -->\n",
        "\t[Prior] --> 312.349\n",
        "\t[Model] --> 2575.86\n",
        "\t[Obs] --> 127.548"
       ]
      },
      {
       "output_type": "stream",
       "stream": "stdout",
       "text": [
        "\n",
        "\t\t[Total] -->\n",
        "\t[Prior] --> 312.594\n",
        "\t[Model] --> 2516.07\n",
        "\t[Obs] --> 127.612"
       ]
      },
      {
       "output_type": "stream",
       "stream": "stdout",
       "text": [
        "\n",
        "\t\t[Total] -->\n",
        "\t[Prior] --> 312.986\n",
        "\t[Model] --> 2480.62\n",
        "\t[Obs] --> 127.732"
       ]
      },
      {
       "output_type": "stream",
       "stream": "stdout",
       "text": [
        "\n",
        "\t\t[Total] -->\n",
        "\t[Prior] --> 314.399\n",
        "\t[Model] --> 2402.51\n",
        "\t[Obs] --> 128.094"
       ]
      },
      {
       "output_type": "stream",
       "stream": "stdout",
       "text": [
        "\n",
        "\t\t[Total] -->\n",
        "\t[Prior] --> 315.321\n",
        "\t[Model] --> 2392.09\n",
        "\t[Obs] --> 128.135"
       ]
      },
      {
       "output_type": "stream",
       "stream": "stdout",
       "text": [
        "\n",
        "\t\t[Total] -->\n",
        "\t[Prior] --> 315.5\n",
        "\t[Model] --> 2358.31\n",
        "\t[Obs] --> 128.101"
       ]
      },
      {
       "output_type": "stream",
       "stream": "stdout",
       "text": [
        "\n",
        "\t\t[Total] -->\n",
        "\t[Prior] --> 316.095\n",
        "\t[Model] --> 2331.48\n",
        "\t[Obs] --> 127.992"
       ]
      },
      {
       "output_type": "stream",
       "stream": "stdout",
       "text": [
        "\n",
        "\t\t[Total] -->\n",
        "\t[Prior] --> 317.124\n",
        "\t[Model] --> 2288.41\n",
        "\t[Obs] --> 128.048"
       ]
      },
      {
       "output_type": "stream",
       "stream": "stdout",
       "text": [
        "\n",
        "\t\t[Total] -->\n",
        "\t[Prior] --> 318.002\n",
        "\t[Model] --> 2257.99\n",
        "\t[Obs] --> 127.867"
       ]
      },
      {
       "output_type": "stream",
       "stream": "stdout",
       "text": [
        "\n",
        "\t\t[Total] -->\n",
        "\t[Prior] --> 319.377\n",
        "\t[Model] --> 2218.6\n",
        "\t[Obs] --> 127.762"
       ]
      },
      {
       "output_type": "stream",
       "stream": "stdout",
       "text": [
        "\n",
        "\t\t[Total] -->\n",
        "\t[Prior] --> 320.802\n",
        "\t[Model] --> 2166.07\n",
        "\t[Obs] --> 127.807"
       ]
      },
      {
       "output_type": "stream",
       "stream": "stdout",
       "text": [
        "\n",
        "\t\t[Total] -->\n",
        "\t[Prior] --> 321\n",
        "\t[Model] --> 2137.67\n",
        "\t[Obs] --> 127.714"
       ]
      },
      {
       "output_type": "stream",
       "stream": "stdout",
       "text": [
        "\n",
        "\t\t[Total] -->\n",
        "\t[Prior] --> 321.862\n",
        "\t[Model] --> 2074.28\n",
        "\t[Obs] --> 127.751"
       ]
      },
      {
       "output_type": "stream",
       "stream": "stdout",
       "text": [
        "\n",
        "\t\t[Total] -->\n",
        "\t[Prior] --> 323.025\n",
        "\t[Model] --> 2035.71\n",
        "\t[Obs] --> 127.785"
       ]
      },
      {
       "output_type": "stream",
       "stream": "stdout",
       "text": [
        "\n",
        "\t\t[Total] -->\n",
        "\t[Prior] --> 326.095\n",
        "\t[Model] --> 1958.96\n",
        "\t[Obs] --> 128.517"
       ]
      },
      {
       "output_type": "stream",
       "stream": "stdout",
       "text": [
        "\n",
        "\t\t[Total] -->\n",
        "\t[Prior] --> 327.232\n",
        "\t[Model] --> 1953.45\n",
        "\t[Obs] --> 127.999"
       ]
      },
      {
       "output_type": "stream",
       "stream": "stdout",
       "text": [
        "\n",
        "\t\t[Total] -->\n",
        "\t[Prior] --> 327.461\n",
        "\t[Model] --> 1943.04\n",
        "\t[Obs] --> 127.909"
       ]
      },
      {
       "output_type": "stream",
       "stream": "stdout",
       "text": [
        "\n",
        "\t\t[Total] -->\n",
        "\t[Prior] --> 328.15\n",
        "\t[Model] --> 1935.2\n",
        "\t[Obs] --> 127.893"
       ]
      },
      {
       "output_type": "stream",
       "stream": "stdout",
       "text": [
        "\n",
        "\t\t[Total] -->\n",
        "\t[Prior] --> 329.289\n",
        "\t[Model] --> 1906.49\n",
        "\t[Obs] --> 127.868"
       ]
      },
      {
       "output_type": "stream",
       "stream": "stdout",
       "text": [
        "\n",
        "\t\t[Total] -->\n",
        "\t[Prior] --> 330.986\n",
        "\t[Model] --> 1893.48\n",
        "\t[Obs] --> 127.854"
       ]
      },
      {
       "output_type": "stream",
       "stream": "stdout",
       "text": [
        "\n",
        "\t\t[Total] -->\n",
        "\t[Prior] --> 331.967\n",
        "\t[Model] --> 1857.26\n",
        "\t[Obs] --> 127.915"
       ]
      },
      {
       "output_type": "stream",
       "stream": "stdout",
       "text": [
        "\n",
        "\t\t[Total] -->\n",
        "\t[Prior] --> 332.924\n",
        "\t[Model] --> 1833.2\n",
        "\t[Obs] --> 127.857"
       ]
      },
      {
       "output_type": "stream",
       "stream": "stdout",
       "text": [
        "\n",
        "\t\t[Total] -->\n",
        "\t[Prior] --> 333.306\n",
        "\t[Model] --> 1806\n",
        "\t[Obs] --> 127.89"
       ]
      },
      {
       "output_type": "stream",
       "stream": "stdout",
       "text": [
        "\n",
        "\t\t[Total] -->\n",
        "\t[Prior] --> 333.939\n",
        "\t[Model] --> 1787.99\n",
        "\t[Obs] --> 127.872"
       ]
      },
      {
       "output_type": "stream",
       "stream": "stdout",
       "text": [
        "\n",
        "\t\t[Total] -->\n",
        "\t[Prior] --> 335.181\n",
        "\t[Model] --> 1777.93\n",
        "\t[Obs] --> 127.702"
       ]
      },
      {
       "output_type": "stream",
       "stream": "stdout",
       "text": [
        "\n",
        "\t\t[Total] -->\n",
        "\t[Prior] --> 335.881\n",
        "\t[Model] --> 1767.03\n",
        "\t[Obs] --> 127.835"
       ]
      },
      {
       "output_type": "stream",
       "stream": "stdout",
       "text": [
        "\n",
        "\t\t[Total] -->\n",
        "\t[Prior] --> 336.108\n",
        "\t[Model] --> 1749.28\n",
        "\t[Obs] --> 127.808"
       ]
      },
      {
       "output_type": "stream",
       "stream": "stdout",
       "text": [
        "\n",
        "\t\t[Total] -->\n",
        "\t[Prior] --> 336.696\n",
        "\t[Model] --> 1722.27\n",
        "\t[Obs] --> 127.752"
       ]
      },
      {
       "output_type": "stream",
       "stream": "stdout",
       "text": [
        "\n",
        "\t\t[Total] -->\n",
        "\t[Prior] --> 337.187\n",
        "\t[Model] --> 1698.31\n",
        "\t[Obs] --> 127.745"
       ]
      },
      {
       "output_type": "stream",
       "stream": "stdout",
       "text": [
        "\n",
        "\t\t[Total] -->\n",
        "\t[Prior] --> 337.571\n",
        "\t[Model] --> 1679.45\n",
        "\t[Obs] --> 127.697"
       ]
      },
      {
       "output_type": "stream",
       "stream": "stdout",
       "text": [
        "\n",
        "\t\t[Total] -->\n",
        "\t[Prior] --> 337.967\n",
        "\t[Model] --> 1662.18\n",
        "\t[Obs] --> 127.675"
       ]
      },
      {
       "output_type": "stream",
       "stream": "stdout",
       "text": [
        "\n",
        "\t\t[Total] -->\n",
        "\t[Prior] --> 338.032\n",
        "\t[Model] --> 1650.54\n",
        "\t[Obs] --> 127.619"
       ]
      },
      {
       "output_type": "stream",
       "stream": "stdout",
       "text": [
        "\n",
        "\t\t[Total] -->\n",
        "\t[Prior] --> 337.949\n",
        "\t[Model] --> 1643.37\n",
        "\t[Obs] --> 127.638"
       ]
      },
      {
       "output_type": "stream",
       "stream": "stdout",
       "text": [
        "\n",
        "\t\t[Total] -->\n",
        "\t[Prior] --> 337.95\n",
        "\t[Model] --> 1630.18\n",
        "\t[Obs] --> 127.653"
       ]
      },
      {
       "output_type": "stream",
       "stream": "stdout",
       "text": [
        "\n",
        "\t\t[Total] -->\n",
        "\t[Prior] --> 338.126\n",
        "\t[Model] --> 1629.78\n",
        "\t[Obs] --> 127.699"
       ]
      },
      {
       "output_type": "stream",
       "stream": "stdout",
       "text": [
        "\n",
        "\t\t[Total] -->\n",
        "\t[Prior] --> 338.215\n",
        "\t[Model] --> 1621.12\n",
        "\t[Obs] --> 127.685"
       ]
      },
      {
       "output_type": "stream",
       "stream": "stdout",
       "text": [
        "\n",
        "\t\t[Total] -->\n",
        "\t[Prior] --> 338.372\n",
        "\t[Model] --> 1610.25\n",
        "\t[Obs] --> 127.677"
       ]
      },
      {
       "output_type": "stream",
       "stream": "stdout",
       "text": [
        "\n",
        "\t\t[Total] -->\n",
        "\t[Prior] --> 338.452\n",
        "\t[Model] --> 1604.63\n",
        "\t[Obs] --> 127.672"
       ]
      },
      {
       "output_type": "stream",
       "stream": "stdout",
       "text": [
        "\n",
        "\t\t[Total] -->\n",
        "\t[Prior] --> 338.7\n",
        "\t[Model] --> 1591.14\n",
        "\t[Obs] --> 127.709"
       ]
      },
      {
       "output_type": "stream",
       "stream": "stdout",
       "text": [
        "\n",
        "\t\t[Total] -->\n",
        "\t[Prior] --> 339.359\n",
        "\t[Model] --> 1601.26\n",
        "\t[Obs] --> 127.595"
       ]
      },
      {
       "output_type": "stream",
       "stream": "stdout",
       "text": [
        "\n",
        "\t\t[Total] -->\n",
        "\t[Prior] --> 338.785\n",
        "\t[Model] --> 1588.57\n",
        "\t[Obs] --> 127.671"
       ]
      },
      {
       "output_type": "stream",
       "stream": "stdout",
       "text": [
        "\n",
        "\t\t[Total] -->\n",
        "\t[Prior] --> 339.159\n",
        "\t[Model] --> 1580.2\n",
        "\t[Obs] --> 127.64"
       ]
      },
      {
       "output_type": "stream",
       "stream": "stdout",
       "text": [
        "\n",
        "\t\t[Total] -->\n",
        "\t[Prior] --> 339.516\n",
        "\t[Model] --> 1571.57\n",
        "\t[Obs] --> 127.649"
       ]
      },
      {
       "output_type": "stream",
       "stream": "stdout",
       "text": [
        "\n",
        "\t\t[Total] -->\n",
        "\t[Prior] --> 339.892\n",
        "\t[Model] --> 1566.32\n",
        "\t[Obs] --> 127.651"
       ]
      },
      {
       "output_type": "stream",
       "stream": "stdout",
       "text": [
        "\n",
        "\t\t[Total] -->\n",
        "\t[Prior] --> 340.091\n",
        "\t[Model] --> 1558.22\n",
        "\t[Obs] --> 127.673"
       ]
      },
      {
       "output_type": "stream",
       "stream": "stdout",
       "text": [
        "\n",
        "\t\t[Total] -->\n",
        "\t[Prior] --> 340.582\n",
        "\t[Model] --> 1559.27\n",
        "\t[Obs] --> 127.693"
       ]
      },
      {
       "output_type": "stream",
       "stream": "stdout",
       "text": [
        "\n",
        "\t\t[Total] -->\n",
        "\t[Prior] --> 340.195\n",
        "\t[Model] --> 1556.71\n",
        "\t[Obs] --> 127.671"
       ]
      },
      {
       "output_type": "stream",
       "stream": "stdout",
       "text": [
        "\n",
        "\t\t[Total] -->\n",
        "\t[Prior] --> 340.721\n",
        "\t[Model] --> 1547.15\n",
        "\t[Obs] --> 127.709"
       ]
      },
      {
       "output_type": "stream",
       "stream": "stdout",
       "text": [
        "\n",
        "\t\t[Total] -->\n",
        "\t[Prior] --> 341.374\n",
        "\t[Model] --> 1568.84\n",
        "\t[Obs] --> 127.754"
       ]
      },
      {
       "output_type": "stream",
       "stream": "stdout",
       "text": [
        "\n",
        "\t\t[Total] -->\n",
        "\t[Prior] --> 340.739\n",
        "\t[Model] --> 1547.26\n",
        "\t[Obs] --> 127.707"
       ]
      },
      {
       "output_type": "stream",
       "stream": "stdout",
       "text": [
        "\n",
        "\t\t[Total] -->\n",
        "\t[Prior] --> 340.722\n",
        "\t[Model] --> 1547.16\n",
        "\t[Obs] --> 127.708"
       ]
      },
      {
       "output_type": "stream",
       "stream": "stdout",
       "text": [
        "\n",
        "\t\t[Total] -->\n",
        "\t[Prior] --> 340.721\n",
        "\t[Model] --> 1547.15\n",
        "\t[Obs] --> 127.709"
       ]
      },
      {
       "output_type": "stream",
       "stream": "stdout",
       "text": [
        "\n",
        "\t\t[Total] -->\n",
        "\t[Prior] --> 340.721\n",
        "\t[Model] --> 1547.15\n",
        "\t[Obs] --> 127.709"
       ]
      },
      {
       "output_type": "stream",
       "stream": "stdout",
       "text": [
        "\n",
        "\t\t[Total] -->\n",
        "\t[Prior] --> 340.721\n",
        "\t[Model] --> 1547.15\n",
        "\t[Obs] --> 127.709"
       ]
      },
      {
       "output_type": "stream",
       "stream": "stdout",
       "text": [
        "\n",
        "\t\t[Total] -->\n",
        "\t[Prior] --> 340.721\n",
        "\t[Model] --> 1547.15\n",
        "\t[Obs] --> 127.709"
       ]
      },
      {
       "output_type": "stream",
       "stream": "stdout",
       "text": [
        "\n",
        "\t\t[Total] -->\n",
        "\t[Prior] --> 340.721\n",
        "\t[Model] --> 1547.15\n",
        "\t[Obs] --> 127.709"
       ]
      },
      {
       "output_type": "stream",
       "stream": "stdout",
       "text": [
        "\n",
        "\t\t[Total] -->\n",
        "\t[Prior] --> 340.721\n",
        "\t[Model] --> 1547.15\n",
        "\t[Obs] --> 127.709"
       ]
      },
      {
       "output_type": "stream",
       "stream": "stdout",
       "text": [
        "\n",
        "\t\t[Total] -->\n",
        "\t[Prior] --> 340.721\n",
        "\t[Model] --> 1547.15\n",
        "\t[Obs] --> 127.709"
       ]
      },
      {
       "output_type": "stream",
       "stream": "stdout",
       "text": [
        "\n",
        "\t\t[Total] -->\n",
        "\t[Prior] --> 340.721\n",
        "\t[Model] --> 1547.15\n",
        "\t[Obs] --> 127.709"
       ]
      },
      {
       "output_type": "stream",
       "stream": "stdout",
       "text": [
        "\n",
        "\t\t[Total] -->\n",
        "\t[Prior] --> 340.721\n",
        "\t[Model] --> 1547.15\n",
        "\t[Obs] --> 127.709"
       ]
      },
      {
       "output_type": "stream",
       "stream": "stdout",
       "text": [
        "\n",
        "\t\t[Total] -->\n",
        "\t[Prior] --> 340.721\n",
        "\t[Model] --> 1547.15\n",
        "\t[Obs] --> 127.709"
       ]
      },
      {
       "output_type": "stream",
       "stream": "stdout",
       "text": [
        "\n",
        "\t\t[Total] -->\n",
        "\t[Prior] --> 340.721\n",
        "\t[Model] --> 1547.15\n",
        "\t[Obs] --> 127.709"
       ]
      },
      {
       "output_type": "stream",
       "stream": "stdout",
       "text": [
        "\n",
        "\t\t[Total] -->\n",
        "\t[Prior] --> 340.721\n",
        "\t[Model] --> 1547.15\n",
        "\t[Obs] --> 127.709"
       ]
      },
      {
       "output_type": "stream",
       "stream": "stdout",
       "text": [
        "\n",
        "\t\t[Total] -->\n",
        "\t[Prior] --> 341.374\n",
        "\t[Model] --> 1568.84\n",
        "\t[Obs] --> 127.754"
       ]
      },
      {
       "output_type": "stream",
       "stream": "stdout",
       "text": [
        "\n",
        "\t\t[Total] -->\n",
        "\t[Prior] --> 340.739\n",
        "\t[Model] --> 1547.26\n",
        "\t[Obs] --> 127.707"
       ]
      },
      {
       "output_type": "stream",
       "stream": "stdout",
       "text": [
        "\n",
        "\t\t[Total] -->\n",
        "\t[Prior] --> 340.722\n",
        "\t[Model] --> 1547.16\n",
        "\t[Obs] --> 127.708"
       ]
      },
      {
       "output_type": "stream",
       "stream": "stdout",
       "text": [
        "\n",
        "\t\t[Total] -->\n",
        "\t[Prior] --> 340.721\n",
        "\t[Model] --> 1547.15\n",
        "\t[Obs] --> 127.709"
       ]
      },
      {
       "output_type": "stream",
       "stream": "stdout",
       "text": [
        "\n",
        "\t\t[Total] -->\n",
        "\t[Prior] --> 340.721\n",
        "\t[Model] --> 1547.15\n",
        "\t[Obs] --> 127.709"
       ]
      },
      {
       "output_type": "stream",
       "stream": "stdout",
       "text": [
        "\n",
        "\t\t[Total] -->\n",
        "\t[Prior] --> 340.721\n",
        "\t[Model] --> 1547.15\n",
        "\t[Obs] --> 127.709"
       ]
      },
      {
       "output_type": "stream",
       "stream": "stdout",
       "text": [
        "\n",
        "\t\t[Total] -->\n",
        "\t[Prior] --> 340.721\n",
        "\t[Model] --> 1547.15\n",
        "\t[Obs] --> 127.709"
       ]
      },
      {
       "output_type": "stream",
       "stream": "stdout",
       "text": [
        "\n",
        "\t\t[Total] -->\n",
        "\t[Prior] --> 340.721\n",
        "\t[Model] --> 1547.15\n",
        "\t[Obs] --> 127.709"
       ]
      },
      {
       "output_type": "stream",
       "stream": "stdout",
       "text": [
        "\n",
        "\t\t[Total] -->\n",
        "\t[Prior] --> 340.721\n",
        "\t[Model] --> 1547.15\n",
        "\t[Obs] --> 127.709"
       ]
      },
      {
       "output_type": "stream",
       "stream": "stdout",
       "text": [
        "\n",
        "\t\t[Total] -->\n",
        "\t[Prior] --> 340.721\n",
        "\t[Model] --> 1547.15\n",
        "\t[Obs] --> 127.709"
       ]
      },
      {
       "output_type": "stream",
       "stream": "stdout",
       "text": [
        "\n",
        "\t\t[Total] -->\n",
        "\t[Prior] --> 340.721\n",
        "\t[Model] --> 1547.15\n",
        "\t[Obs] --> 127.709"
       ]
      },
      {
       "output_type": "stream",
       "stream": "stdout",
       "text": [
        "\n",
        "\t\t[Total] -->\n",
        "\t[Prior] --> 340.721\n",
        "\t[Model] --> 1547.15\n",
        "\t[Obs] --> 127.709"
       ]
      },
      {
       "output_type": "stream",
       "stream": "stdout",
       "text": [
        "\n",
        "\t\t[Total] -->\n",
        "\t[Prior] --> 340.721\n",
        "\t[Model] --> 1547.15\n",
        "\t[Obs] --> 127.709"
       ]
      },
      {
       "output_type": "stream",
       "stream": "stdout",
       "text": [
        "\n",
        "\t\t[Total] -->\n",
        "\t[Prior] --> 340.721\n",
        "\t[Model] --> 1547.15\n",
        "\t[Obs] --> 127.709"
       ]
      },
      {
       "output_type": "stream",
       "stream": "stdout",
       "text": [
        "\n",
        "\t\t[Total] -->\n",
        "\t[Prior] --> 341.374\n",
        "\t[Model] --> 1568.84\n",
        "\t[Obs] --> 127.754"
       ]
      },
      {
       "output_type": "stream",
       "stream": "stdout",
       "text": [
        "\n",
        "\t\t[Total] -->\n",
        "\t[Prior] --> 340.739\n",
        "\t[Model] --> 1547.26\n",
        "\t[Obs] --> 127.707"
       ]
      },
      {
       "output_type": "stream",
       "stream": "stdout",
       "text": [
        "\n",
        "\t\t[Total] -->\n",
        "\t[Prior] --> 340.722\n",
        "\t[Model] --> 1547.16\n",
        "\t[Obs] --> 127.708"
       ]
      },
      {
       "output_type": "stream",
       "stream": "stdout",
       "text": [
        "\n",
        "\t\t[Total] -->\n",
        "\t[Prior] --> 340.721\n",
        "\t[Model] --> 1547.15\n",
        "\t[Obs] --> 127.709"
       ]
      },
      {
       "output_type": "stream",
       "stream": "stdout",
       "text": [
        "\n",
        "\t\t[Total] -->\n",
        "\t[Prior] --> 340.721\n",
        "\t[Model] --> 1547.15\n",
        "\t[Obs] --> 127.709"
       ]
      },
      {
       "output_type": "stream",
       "stream": "stdout",
       "text": [
        "\n",
        "\t\t[Total] -->\n",
        "\t[Prior] --> 340.721\n",
        "\t[Model] --> 1547.15\n",
        "\t[Obs] --> 127.709"
       ]
      },
      {
       "output_type": "stream",
       "stream": "stdout",
       "text": [
        "\n",
        "\t\t[Total] -->\n",
        "\t[Prior] --> 340.721\n",
        "\t[Model] --> 1547.15\n",
        "\t[Obs] --> 127.709"
       ]
      },
      {
       "output_type": "stream",
       "stream": "stdout",
       "text": [
        "\n",
        "\t\t[Total] -->\n",
        "\t[Prior] --> 340.721\n",
        "\t[Model] --> 1547.15\n",
        "\t[Obs] --> 127.709"
       ]
      },
      {
       "output_type": "stream",
       "stream": "stdout",
       "text": [
        "\n",
        "\t\t[Total] -->\n",
        "\t[Prior] --> 340.721\n",
        "\t[Model] --> 1547.15\n",
        "\t[Obs] --> 127.709"
       ]
      },
      {
       "output_type": "stream",
       "stream": "stdout",
       "text": [
        "\n",
        "\t\t[Total] -->\n",
        "\t[Prior] --> 340.721\n",
        "\t[Model] --> 1547.15\n",
        "\t[Obs] --> 127.709"
       ]
      },
      {
       "output_type": "stream",
       "stream": "stdout",
       "text": [
        "\n",
        "\t\t[Total] -->\n",
        "\t[Prior] --> 340.721\n",
        "\t[Model] --> 1547.15\n",
        "\t[Obs] --> 127.709"
       ]
      },
      {
       "output_type": "stream",
       "stream": "stdout",
       "text": [
        "\n",
        "\t\t[Total] -->\n",
        "\t[Prior] --> 340.721\n",
        "\t[Model] --> 1547.15\n",
        "\t[Obs] --> 127.709"
       ]
      },
      {
       "output_type": "stream",
       "stream": "stdout",
       "text": [
        "\n",
        "\t\t[Total] -->\n",
        "\t[Prior] --> 340.721\n",
        "\t[Model] --> 1547.15\n",
        "\t[Obs] --> 127.709"
       ]
      },
      {
       "output_type": "stream",
       "stream": "stdout",
       "text": [
        "\n",
        "\t\t[Total] -->\n",
        "\t[Prior] --> 340.721\n",
        "\t[Model] --> 1547.15\n",
        "\t[Obs] --> 127.709"
       ]
      },
      {
       "output_type": "stream",
       "stream": "stdout",
       "text": [
        "\n",
        "\t\t[Total] -->\n",
        "\t[Prior] --> 340.721\n",
        "\t[Model] --> 1547.15\n",
        "\t[Obs] --> 127.709"
       ]
      },
      {
       "output_type": "stream",
       "stream": "stdout",
       "text": [
        "\n",
        "\t\t[Total] -->\n",
        "\t[Prior] --> 340.721\n",
        "\t[Model] --> 1547.15\n",
        "\t[Obs] --> 127.709"
       ]
      },
      {
       "output_type": "stream",
       "stream": "stdout",
       "text": [
        "\n",
        "\t\t[Total] -->\n",
        "\t[Prior] --> 352.292\n",
        "\t[Model] --> 5694.07\n",
        "\t[Obs] --> 145.739"
       ]
      },
      {
       "output_type": "stream",
       "stream": "stdout",
       "text": [
        "\n",
        "\t\t[Total] -->\n",
        "\t[Prior] --> 340.746\n",
        "\t[Model] --> 1547.24\n",
        "\t[Obs] --> 127.708"
       ]
      },
      {
       "output_type": "stream",
       "stream": "stdout",
       "text": [
        "\n",
        "\t\t[Total] -->\n",
        "\t[Prior] --> 340.724\n",
        "\t[Model] --> 1547.16\n",
        "\t[Obs] --> 127.708"
       ]
      },
      {
       "output_type": "stream",
       "stream": "stdout",
       "text": [
        "\n",
        "\t\t[Total] -->\n",
        "\t[Prior] --> 340.721\n",
        "\t[Model] --> 1547.15\n",
        "\t[Obs] --> 127.709"
       ]
      },
      {
       "output_type": "stream",
       "stream": "stdout",
       "text": [
        "\n",
        "\t\t[Total] -->\n",
        "\t[Prior] --> 340.721\n",
        "\t[Model] --> 1547.15\n",
        "\t[Obs] --> 127.709"
       ]
      },
      {
       "output_type": "stream",
       "stream": "stdout",
       "text": [
        "\n",
        "\t\t[Total] -->\n",
        "\t[Prior] --> 340.721\n",
        "\t[Model] --> 1547.15\n",
        "\t[Obs] --> 127.709"
       ]
      },
      {
       "output_type": "stream",
       "stream": "stdout",
       "text": [
        "\n",
        "\t\t[Total] -->\n",
        "\t[Prior] --> 340.721\n",
        "\t[Model] --> 1547.15\n",
        "\t[Obs] --> 127.709"
       ]
      },
      {
       "output_type": "stream",
       "stream": "stdout",
       "text": [
        "\n",
        "\t\t[Total] -->\n",
        "\t[Prior] --> 340.721\n",
        "\t[Model] --> 1547.15\n",
        "\t[Obs] --> 127.709"
       ]
      },
      {
       "output_type": "stream",
       "stream": "stdout",
       "text": [
        "\n",
        "\t\t[Total] -->\n",
        "\t[Prior] --> 340.721\n",
        "\t[Model] --> 1547.15\n",
        "\t[Obs] --> 127.709"
       ]
      },
      {
       "output_type": "stream",
       "stream": "stdout",
       "text": [
        "\n",
        "\t\t[Total] -->\n",
        "\t[Prior] --> 340.721\n",
        "\t[Model] --> 1547.15\n",
        "\t[Obs] --> 127.709"
       ]
      },
      {
       "output_type": "stream",
       "stream": "stdout",
       "text": [
        "\n",
        "\t\t[Total] -->\n",
        "\t[Prior] --> 340.721\n",
        "\t[Model] --> 1547.15\n",
        "\t[Obs] --> 127.709"
       ]
      },
      {
       "output_type": "stream",
       "stream": "stdout",
       "text": [
        "\n",
        "\t\t[Total] -->\n",
        "\t[Prior] --> 340.721\n",
        "\t[Model] --> 1547.15\n",
        "\t[Obs] --> 127.709"
       ]
      },
      {
       "output_type": "stream",
       "stream": "stdout",
       "text": [
        "\n",
        "\t\t[Total] -->\n",
        "\t[Prior] --> 340.721\n",
        "\t[Model] --> 1547.15\n",
        "\t[Obs] --> 127.709"
       ]
      },
      {
       "output_type": "stream",
       "stream": "stdout",
       "text": [
        "\n",
        "\t\t[Total] -->\n",
        "\t[Prior] --> 340.721\n",
        "\t[Model] --> 1547.15\n",
        "\t[Obs] --> 127.709"
       ]
      },
      {
       "output_type": "stream",
       "stream": "stdout",
       "text": [
        "\n",
        "\t\t[Total] -->\n",
        "\t[Prior] --> 340.721\n",
        "\t[Model] --> 1547.15\n",
        "\t[Obs] --> 127.709"
       ]
      },
      {
       "output_type": "stream",
       "stream": "stdout",
       "text": [
        "\n",
        "\t\t[Total] -->\n",
        "\t[Prior] --> 340.721\n",
        "\t[Model] --> 1547.15\n",
        "\t[Obs] --> 127.709"
       ]
      },
      {
       "output_type": "stream",
       "stream": "stdout",
       "text": [
        "\n",
        "\t\t[Total] -->\n",
        "\t[Prior] --> 340.721\n",
        "\t[Model] --> 1547.15\n",
        "\t[Obs] --> 127.709"
       ]
      },
      {
       "output_type": "stream",
       "stream": "stdout",
       "text": [
        "\n",
        "\t\t[Total] -->\n",
        "\t[Prior] --> 340.721\n",
        "\t[Model] --> 1547.15\n",
        "\t[Obs] --> 127.709"
       ]
      },
      {
       "output_type": "stream",
       "stream": "stdout",
       "text": [
        "\n",
        "\t\t[Total] -->\n",
        "\t[Prior] --> 340.721\n",
        "\t[Model] --> 1547.15\n",
        "\t[Obs] --> 127.709"
       ]
      },
      {
       "output_type": "stream",
       "stream": "stdout",
       "text": [
        "\n",
        "\t\t[Total] -->\n",
        "\t[Prior] --> 340.721\n",
        "\t[Model] --> 1547.15\n",
        "\t[Obs] --> 127.709"
       ]
      },
      {
       "output_type": "stream",
       "stream": "stdout",
       "text": [
        "\n",
        "\t\t[Total] -->\n",
        "\t[Prior] --> 3414.83\n",
        "\t[Model] --> 4.70829e+07\n",
        "\t[Obs] --> 75246.1"
       ]
      },
      {
       "output_type": "stream",
       "stream": "stdout",
       "text": [
        "\n",
        "\t\t[Total] -->\n",
        "\t[Prior] --> 340.711\n",
        "\t[Model] --> 1546.73\n",
        "\t[Obs] --> 127.706"
       ]
      },
      {
       "output_type": "stream",
       "stream": "stdout",
       "text": [
        "\n",
        "\t\t[Total] -->\n",
        "\t[Prior] --> 400.076\n",
        "\t[Model] --> 4.08415e+06\n",
        "\t[Obs] --> 19663.7"
       ]
      },
      {
       "output_type": "stream",
       "stream": "stdout",
       "text": [
        "\n",
        "\t\t[Total] -->\n",
        "\t[Prior] --> 340.679\n",
        "\t[Model] --> 1545.52\n",
        "\t[Obs] --> 127.7"
       ]
      },
      {
       "output_type": "stream",
       "stream": "stdout",
       "text": [
        "\n",
        "\t\t[Total] -->\n",
        "\t[Prior] --> 340.404\n",
        "\t[Model] --> 1543.58\n",
        "\t[Obs] --> 127.678"
       ]
      },
      {
       "output_type": "stream",
       "stream": "stdout",
       "text": [
        "\n",
        "\t\t[Total] -->\n",
        "\t[Prior] --> 340.221\n",
        "\t[Model] --> 1533.98\n",
        "\t[Obs] --> 127.675"
       ]
      },
      {
       "output_type": "stream",
       "stream": "stdout",
       "text": [
        "\n",
        "\t\t[Total] -->\n",
        "\t[Prior] --> 340.253\n",
        "\t[Model] --> 1535.26\n",
        "\t[Obs] --> 127.667"
       ]
      },
      {
       "output_type": "stream",
       "stream": "stdout",
       "text": [
        "\n",
        "\t\t[Total] -->\n",
        "\t[Prior] --> 340.223\n",
        "\t[Model] --> 1534.02\n",
        "\t[Obs] --> 127.674"
       ]
      },
      {
       "output_type": "stream",
       "stream": "stdout",
       "text": [
        "\n",
        "\t\t[Total] -->\n",
        "\t[Prior] --> 340.221\n",
        "\t[Model] --> 1533.98\n",
        "\t[Obs] --> 127.675"
       ]
      },
      {
       "output_type": "stream",
       "stream": "stdout",
       "text": [
        "\n",
        "\t\t[Total] -->\n",
        "\t[Prior] --> 340.221\n",
        "\t[Model] --> 1533.98\n",
        "\t[Obs] --> 127.675"
       ]
      },
      {
       "output_type": "stream",
       "stream": "stdout",
       "text": [
        "\n",
        "\t\t[Total] -->\n",
        "\t[Prior] --> 340.221\n",
        "\t[Model] --> 1533.98\n",
        "\t[Obs] --> 127.675"
       ]
      },
      {
       "output_type": "stream",
       "stream": "stdout",
       "text": [
        "\n",
        "\t\t[Total] -->\n",
        "\t[Prior] --> 340.221\n",
        "\t[Model] --> 1533.98\n",
        "\t[Obs] --> 127.675"
       ]
      },
      {
       "output_type": "stream",
       "stream": "stdout",
       "text": [
        "\n",
        "\t\t[Total] -->\n",
        "\t[Prior] --> 340.221\n",
        "\t[Model] --> 1533.98\n",
        "\t[Obs] --> 127.675"
       ]
      },
      {
       "output_type": "stream",
       "stream": "stdout",
       "text": [
        "\n",
        "\t\t[Total] -->\n",
        "\t[Prior] --> 340.221\n",
        "\t[Model] --> 1533.98\n",
        "\t[Obs] --> 127.675"
       ]
      },
      {
       "output_type": "stream",
       "stream": "stdout",
       "text": [
        "\n",
        "\t\t[Total] -->\n",
        "\t[Prior] --> 340.221\n",
        "\t[Model] --> 1533.98\n",
        "\t[Obs] --> 127.675"
       ]
      },
      {
       "output_type": "stream",
       "stream": "stdout",
       "text": [
        "\n",
        "\t\t[Total] -->\n",
        "\t[Prior] --> 340.221\n",
        "\t[Model] --> 1533.98\n",
        "\t[Obs] --> 127.675"
       ]
      },
      {
       "output_type": "stream",
       "stream": "stdout",
       "text": [
        "\n",
        "\t\t[Total] -->\n",
        "\t[Prior] --> 340.221\n",
        "\t[Model] --> 1533.98\n",
        "\t[Obs] --> 127.675"
       ]
      },
      {
       "output_type": "stream",
       "stream": "stdout",
       "text": [
        "\n",
        "\t\t[Total] -->\n",
        "\t[Prior] --> 340.221\n",
        "\t[Model] --> 1533.98\n",
        "\t[Obs] --> 127.675"
       ]
      },
      {
       "output_type": "stream",
       "stream": "stdout",
       "text": [
        "\n",
        "\t\t[Total] -->\n",
        "\t[Prior] --> 340.221\n",
        "\t[Model] --> 1533.98\n",
        "\t[Obs] --> 127.675"
       ]
      },
      {
       "output_type": "stream",
       "stream": "stdout",
       "text": [
        "\n",
        "\t\t[Total] -->\n",
        "\t[Prior] --> 340.221\n",
        "\t[Model] --> 1533.98\n",
        "\t[Obs] --> 127.675"
       ]
      },
      {
       "output_type": "stream",
       "stream": "stdout",
       "text": [
        "\n",
        "\t\t[Total] -->\n",
        "\t[Prior] --> 340.221\n",
        "\t[Model] --> 1533.98\n",
        "\t[Obs] --> 127.675"
       ]
      },
      {
       "output_type": "stream",
       "stream": "stdout",
       "text": [
        "\n",
        "\t\t[Total] -->\n",
        "\t[Prior] --> 340.221\n",
        "\t[Model] --> 1533.98\n",
        "\t[Obs] --> 127.675"
       ]
      },
      {
       "output_type": "stream",
       "stream": "stdout",
       "text": [
        "\n",
        "\t\t[Total] -->\n",
        "\t[Prior] --> 340.221\n",
        "\t[Model] --> 1533.98\n",
        "\t[Obs] --> 127.675"
       ]
      },
      {
       "output_type": "stream",
       "stream": "stdout",
       "text": [
        "\n",
        "\t\t[Total] -->\n",
        "\t[Prior] --> 340.221\n",
        "\t[Model] --> 1533.98\n",
        "\t[Obs] --> 127.675"
       ]
      },
      {
       "output_type": "stream",
       "stream": "stdout",
       "text": [
        "\n",
        "\t\t[Total] -->\n",
        "\t[Prior] --> 340.221\n",
        "\t[Model] --> 1533.98\n",
        "\t[Obs] --> 127.675"
       ]
      },
      {
       "output_type": "stream",
       "stream": "stdout",
       "text": [
        "\n",
        "\t\t[Total] -->\n",
        "\t[Prior] --> 340.221\n",
        "\t[Model] --> 1533.98\n",
        "\t[Obs] --> 127.675"
       ]
      },
      {
       "output_type": "stream",
       "stream": "stdout",
       "text": [
        "\n",
        "\t\t[Total] -->\n",
        "\t[Prior] --> 3352.41\n",
        "\t[Model] --> 5.56327e+07\n",
        "\t[Obs] --> 70879.9"
       ]
      },
      {
       "output_type": "stream",
       "stream": "stdout",
       "text": [
        "\n",
        "\t\t[Total] -->\n",
        "\t[Prior] --> 340.215\n",
        "\t[Model] --> 1533.75\n",
        "\t[Obs] --> 127.676"
       ]
      },
      {
       "output_type": "stream",
       "stream": "stdout",
       "text": [
        "\n",
        "\t\t[Total] -->\n",
        "\t[Prior] --> 438.994\n",
        "\t[Model] --> 5.05032e+06\n",
        "\t[Obs] --> 19385.5"
       ]
      },
      {
       "output_type": "stream",
       "stream": "stdout",
       "text": [
        "\n",
        "\t\t[Total] -->\n",
        "\t[Prior] --> 340.197\n",
        "\t[Model] --> 1533.17\n",
        "\t[Obs] --> 127.68"
       ]
      },
      {
       "output_type": "stream",
       "stream": "stdout",
       "text": [
        "\n",
        "\t\t[Total] -->\n",
        "\t[Prior] --> 340.101\n",
        "\t[Model] --> 1539.97\n",
        "\t[Obs] --> 127.646"
       ]
      },
      {
       "output_type": "stream",
       "stream": "stdout",
       "text": [
        "\n",
        "\t\t[Total] -->\n",
        "\t[Prior] --> 340.193\n",
        "\t[Model] --> 1533.22\n",
        "\t[Obs] --> 127.678"
       ]
      },
      {
       "output_type": "stream",
       "stream": "stdout",
       "text": [
        "\n",
        "\t\t[Total] -->\n",
        "\t[Prior] --> 340.197\n",
        "\t[Model] --> 1533.17\n",
        "\t[Obs] --> 127.68"
       ]
      },
      {
       "output_type": "stream",
       "stream": "stdout",
       "text": [
        "\n",
        "\t\t[Total] -->\n",
        "\t[Prior] --> 340.197\n",
        "\t[Model] --> 1533.17\n",
        "\t[Obs] --> 127.68"
       ]
      },
      {
       "output_type": "stream",
       "stream": "stdout",
       "text": [
        "\n",
        "\t\t[Total] -->\n",
        "\t[Prior] --> 340.197\n",
        "\t[Model] --> 1533.17\n",
        "\t[Obs] --> 127.68"
       ]
      },
      {
       "output_type": "stream",
       "stream": "stdout",
       "text": [
        "\n",
        "\t\t[Total] -->\n",
        "\t[Prior] --> 340.197\n",
        "\t[Model] --> 1533.17\n",
        "\t[Obs] --> 127.68"
       ]
      },
      {
       "output_type": "stream",
       "stream": "stdout",
       "text": [
        "\n",
        "\t\t[Total] -->\n",
        "\t[Prior] --> 340.197\n",
        "\t[Model] --> 1533.17\n",
        "\t[Obs] --> 127.68"
       ]
      },
      {
       "output_type": "stream",
       "stream": "stdout",
       "text": [
        "\n",
        "\t\t[Total] -->\n",
        "\t[Prior] --> 340.197\n",
        "\t[Model] --> 1533.17\n",
        "\t[Obs] --> 127.68"
       ]
      },
      {
       "output_type": "stream",
       "stream": "stdout",
       "text": [
        "\n",
        "\t\t[Total] -->\n",
        "\t[Prior] --> 340.197\n",
        "\t[Model] --> 1533.17\n",
        "\t[Obs] --> 127.68"
       ]
      },
      {
       "output_type": "stream",
       "stream": "stdout",
       "text": [
        "\n",
        "\t\t[Total] -->\n",
        "\t[Prior] --> 340.197\n",
        "\t[Model] --> 1533.17\n",
        "\t[Obs] --> 127.68"
       ]
      },
      {
       "output_type": "stream",
       "stream": "stdout",
       "text": [
        "\n",
        "\t\t[Total] -->\n",
        "\t[Prior] --> 340.197\n",
        "\t[Model] --> 1533.17\n",
        "\t[Obs] --> 127.68"
       ]
      },
      {
       "output_type": "stream",
       "stream": "stdout",
       "text": [
        "\n",
        "\t\t[Total] -->\n",
        "\t[Prior] --> 340.197\n",
        "\t[Model] --> 1533.17\n",
        "\t[Obs] --> 127.68"
       ]
      },
      {
       "output_type": "stream",
       "stream": "stdout",
       "text": [
        "\n",
        "\t\t[Total] -->\n",
        "\t[Prior] --> 340.197\n",
        "\t[Model] --> 1533.17\n",
        "\t[Obs] --> 127.68"
       ]
      },
      {
       "output_type": "stream",
       "stream": "stdout",
       "text": [
        "\n",
        "\t\t[Total] -->\n",
        "\t[Prior] --> 340.197\n",
        "\t[Model] --> 1533.17\n",
        "\t[Obs] --> 127.68"
       ]
      },
      {
       "output_type": "stream",
       "stream": "stdout",
       "text": [
        "\n",
        "\t\t[Total] -->\n",
        "\t[Prior] --> 340.197\n",
        "\t[Model] --> 1533.17\n",
        "\t[Obs] --> 127.68"
       ]
      },
      {
       "output_type": "stream",
       "stream": "stdout",
       "text": [
        "\n",
        "\t\t[Total] -->\n",
        "\t[Prior] --> 340.197\n",
        "\t[Model] --> 1533.17\n",
        "\t[Obs] --> 127.68"
       ]
      },
      {
       "output_type": "stream",
       "stream": "stdout",
       "text": [
        "\n",
        "\t\t[Total] -->\n",
        "\t[Prior] --> 340.197\n",
        "\t[Model] --> 1533.17\n",
        "\t[Obs] --> 127.68"
       ]
      },
      {
       "output_type": "stream",
       "stream": "stdout",
       "text": [
        "\n",
        "\t\t[Total] -->\n",
        "\t[Prior] --> 340.197\n",
        "\t[Model] --> 1533.17\n",
        "\t[Obs] --> 127.68"
       ]
      },
      {
       "output_type": "stream",
       "stream": "stdout",
       "text": [
        "\n",
        "\t\t[Total] -->\n",
        "\t[Prior] --> 340.197\n",
        "\t[Model] --> 1533.17\n",
        "\t[Obs] --> 127.68"
       ]
      },
      {
       "output_type": "stream",
       "stream": "stdout",
       "text": [
        "\n",
        "\t\t[Total] -->\n",
        "\t[Prior] --> 340.197\n",
        "\t[Model] --> 1533.17\n",
        "\t[Obs] --> 127.68"
       ]
      },
      {
       "output_type": "stream",
       "stream": "stdout",
       "text": [
        "\n",
        "\t\t[Total] -->\n",
        "\t[Prior] --> 340.101\n",
        "\t[Model] --> 1539.97\n",
        "\t[Obs] --> 127.646"
       ]
      },
      {
       "output_type": "stream",
       "stream": "stdout",
       "text": [
        "\n",
        "\t\t[Total] -->\n",
        "\t[Prior] --> 340.193\n",
        "\t[Model] --> 1533.22\n",
        "\t[Obs] --> 127.678"
       ]
      },
      {
       "output_type": "stream",
       "stream": "stdout",
       "text": [
        "\n",
        "\t\t[Total] -->\n",
        "\t[Prior] --> 340.197\n",
        "\t[Model] --> 1533.17\n",
        "\t[Obs] --> 127.68"
       ]
      },
      {
       "output_type": "stream",
       "stream": "stdout",
       "text": [
        "\n",
        "\t\t[Total] -->\n",
        "\t[Prior] --> 340.197\n",
        "\t[Model] --> 1533.17\n",
        "\t[Obs] --> 127.68"
       ]
      },
      {
       "output_type": "stream",
       "stream": "stdout",
       "text": [
        "\n",
        "\t\t[Total] -->\n",
        "\t[Prior] --> 340.197\n",
        "\t[Model] --> 1533.17\n",
        "\t[Obs] --> 127.68"
       ]
      },
      {
       "output_type": "stream",
       "stream": "stdout",
       "text": [
        "\n",
        "\t\t[Total] -->\n",
        "\t[Prior] --> 340.197\n",
        "\t[Model] --> 1533.17\n",
        "\t[Obs] --> 127.68"
       ]
      },
      {
       "output_type": "stream",
       "stream": "stdout",
       "text": [
        "\n",
        "\t\t[Total] -->\n",
        "\t[Prior] --> 340.197\n",
        "\t[Model] --> 1533.17\n",
        "\t[Obs] --> 127.68"
       ]
      },
      {
       "output_type": "stream",
       "stream": "stdout",
       "text": [
        "\n",
        "\t\t[Total] -->\n",
        "\t[Prior] --> 340.197\n",
        "\t[Model] --> 1533.17\n",
        "\t[Obs] --> 127.68"
       ]
      },
      {
       "output_type": "stream",
       "stream": "stdout",
       "text": [
        "\n",
        "\t\t[Total] -->\n",
        "\t[Prior] --> 340.197\n",
        "\t[Model] --> 1533.17\n",
        "\t[Obs] --> 127.68"
       ]
      },
      {
       "output_type": "stream",
       "stream": "stdout",
       "text": [
        "\n",
        "\t\t[Total] -->\n",
        "\t[Prior] --> 340.197\n",
        "\t[Model] --> 1533.17\n",
        "\t[Obs] --> 127.68"
       ]
      },
      {
       "output_type": "stream",
       "stream": "stdout",
       "text": [
        "\n",
        "\t\t[Total] -->\n",
        "\t[Prior] --> 340.197\n",
        "\t[Model] --> 1533.17\n",
        "\t[Obs] --> 127.68"
       ]
      },
      {
       "output_type": "stream",
       "stream": "stdout",
       "text": [
        "\n",
        "\t\t[Total] -->\n",
        "\t[Prior] --> 340.197\n",
        "\t[Model] --> 1533.17\n",
        "\t[Obs] --> 127.68"
       ]
      },
      {
       "output_type": "stream",
       "stream": "stdout",
       "text": [
        "\n",
        "\t\t[Total] -->\n",
        "\t[Prior] --> 340.197\n",
        "\t[Model] --> 1533.17\n",
        "\t[Obs] --> 127.68"
       ]
      },
      {
       "output_type": "stream",
       "stream": "stdout",
       "text": [
        "\n",
        "\t\t[Total] -->\n",
        "\t[Prior] --> 340.197\n",
        "\t[Model] --> 1533.17\n",
        "\t[Obs] --> 127.68"
       ]
      },
      {
       "output_type": "stream",
       "stream": "stdout",
       "text": [
        "\n",
        "\t\t[Total] -->\n",
        "\t[Prior] --> 340.197\n",
        "\t[Model] --> 1533.17\n",
        "\t[Obs] --> 127.68"
       ]
      },
      {
       "output_type": "stream",
       "stream": "stdout",
       "text": [
        "\n",
        "\t\t[Total] -->\n",
        "\t[Prior] --> 340.197\n",
        "\t[Model] --> 1533.17\n",
        "\t[Obs] --> 127.68"
       ]
      },
      {
       "output_type": "stream",
       "stream": "stdout",
       "text": [
        "\n",
        "\t\t[Total] -->\n",
        "\t[Prior] --> 340.197\n",
        "\t[Model] --> 1533.17\n",
        "\t[Obs] --> 127.68"
       ]
      },
      {
       "output_type": "stream",
       "stream": "stdout",
       "text": [
        "\n",
        "\t\t[Total] -->\n",
        "\t[Prior] --> 340.197\n",
        "\t[Model] --> 1533.17\n",
        "\t[Obs] --> 127.68"
       ]
      },
      {
       "output_type": "stream",
       "stream": "stdout",
       "text": [
        "\n",
        "\t\t[Total] -->\n",
        "\t[Prior] --> 340.197\n",
        "\t[Model] --> 1533.17\n",
        "\t[Obs] --> 127.68"
       ]
      },
      {
       "output_type": "stream",
       "stream": "stdout",
       "text": [
        "\n",
        "\t\t[Total] -->\n",
        "\t[Prior] --> 340.197\n",
        "\t[Model] --> 1533.17\n",
        "\t[Obs] --> 127.68"
       ]
      },
      {
       "output_type": "stream",
       "stream": "stdout",
       "text": [
        "\n",
        "\t\t[Total] -->\n",
        "\t[Prior] --> 340.112\n",
        "\t[Model] --> 1531.36\n",
        "\t[Obs] --> 127.707"
       ]
      },
      {
       "output_type": "stream",
       "stream": "stdout",
       "text": [
        "\n",
        "\t\t[Total] -->\n",
        "\t[Prior] --> 340.023\n",
        "\t[Model] --> 1554.33\n",
        "\t[Obs] --> 127.629"
       ]
      },
      {
       "output_type": "stream",
       "stream": "stdout",
       "text": [
        "\n",
        "\t\t[Total] -->\n",
        "\t[Prior] --> 340.11\n",
        "\t[Model] --> 1531.52\n",
        "\t[Obs] --> 127.704"
       ]
      },
      {
       "output_type": "stream",
       "stream": "stdout",
       "text": [
        "\n",
        "\t\t[Total] -->\n",
        "\t[Prior] --> 340.112\n",
        "\t[Model] --> 1531.36\n",
        "\t[Obs] --> 127.707"
       ]
      },
      {
       "output_type": "stream",
       "stream": "stdout",
       "text": [
        "\n",
        "\t\t[Total] -->\n",
        "\t[Prior] --> 340.112\n",
        "\t[Model] --> 1531.36\n",
        "\t[Obs] --> 127.707"
       ]
      },
      {
       "output_type": "stream",
       "stream": "stdout",
       "text": [
        "\n",
        "\t\t[Total] -->\n",
        "\t[Prior] --> 340.112\n",
        "\t[Model] --> 1531.36\n",
        "\t[Obs] --> 127.707"
       ]
      },
      {
       "output_type": "stream",
       "stream": "stdout",
       "text": [
        "\n",
        "\t\t[Total] -->\n",
        "\t[Prior] --> 340.112\n",
        "\t[Model] --> 1531.36\n",
        "\t[Obs] --> 127.707"
       ]
      },
      {
       "output_type": "stream",
       "stream": "stdout",
       "text": [
        "\n",
        "\t\t[Total] -->\n",
        "\t[Prior] --> 340.112\n",
        "\t[Model] --> 1531.36\n",
        "\t[Obs] --> 127.707"
       ]
      },
      {
       "output_type": "stream",
       "stream": "stdout",
       "text": [
        "\n",
        "\t\t[Total] -->\n",
        "\t[Prior] --> 340.112\n",
        "\t[Model] --> 1531.36\n",
        "\t[Obs] --> 127.707"
       ]
      },
      {
       "output_type": "stream",
       "stream": "stdout",
       "text": [
        "\n",
        "\t\t[Total] -->\n",
        "\t[Prior] --> 340.112\n",
        "\t[Model] --> 1531.36\n",
        "\t[Obs] --> 127.707"
       ]
      },
      {
       "output_type": "stream",
       "stream": "stdout",
       "text": [
        "\n",
        "\t\t[Total] -->\n",
        "\t[Prior] --> 340.112\n",
        "\t[Model] --> 1531.36\n",
        "\t[Obs] --> 127.707"
       ]
      },
      {
       "output_type": "stream",
       "stream": "stdout",
       "text": [
        "\n",
        "\t\t[Total] -->\n",
        "\t[Prior] --> 340.112\n",
        "\t[Model] --> 1531.36\n",
        "\t[Obs] --> 127.707"
       ]
      },
      {
       "output_type": "stream",
       "stream": "stdout",
       "text": [
        "\n",
        "\t\t[Total] -->\n",
        "\t[Prior] --> 340.112\n",
        "\t[Model] --> 1531.36\n",
        "\t[Obs] --> 127.707"
       ]
      },
      {
       "output_type": "stream",
       "stream": "stdout",
       "text": [
        "\n",
        "\t\t[Total] -->\n",
        "\t[Prior] --> 340.112\n",
        "\t[Model] --> 1531.36\n",
        "\t[Obs] --> 127.707"
       ]
      },
      {
       "output_type": "stream",
       "stream": "stdout",
       "text": [
        "\n",
        "\t\t[Total] -->\n",
        "\t[Prior] --> 340.112\n",
        "\t[Model] --> 1531.36\n",
        "\t[Obs] --> 127.707"
       ]
      },
      {
       "output_type": "stream",
       "stream": "stdout",
       "text": [
        "\n",
        "\t\t[Total] -->\n",
        "\t[Prior] --> 340.112\n",
        "\t[Model] --> 1531.36\n",
        "\t[Obs] --> 127.707"
       ]
      },
      {
       "output_type": "stream",
       "stream": "stdout",
       "text": [
        "\n",
        "\t\t[Total] -->\n",
        "\t[Prior] --> 340.112\n",
        "\t[Model] --> 1531.36\n",
        "\t[Obs] --> 127.707"
       ]
      },
      {
       "output_type": "stream",
       "stream": "stdout",
       "text": [
        "\n",
        "\t\t[Total] -->\n",
        "\t[Prior] --> 340.112\n",
        "\t[Model] --> 1531.36\n",
        "\t[Obs] --> 127.707"
       ]
      },
      {
       "output_type": "stream",
       "stream": "stdout",
       "text": [
        "\n",
        "\t\t[Total] -->\n",
        "\t[Prior] --> 340.112\n",
        "\t[Model] --> 1531.36\n",
        "\t[Obs] --> 127.707"
       ]
      },
      {
       "output_type": "stream",
       "stream": "stdout",
       "text": [
        "\n",
        "\t\t[Total] -->\n",
        "\t[Prior] --> 340.112\n",
        "\t[Model] --> 1531.36\n",
        "\t[Obs] --> 127.707"
       ]
      },
      {
       "output_type": "stream",
       "stream": "stdout",
       "text": [
        "\n",
        "\t\t[Total] -->\n",
        "\t[Prior] --> 340.112\n",
        "\t[Model] --> 1531.36\n",
        "\t[Obs] --> 127.707"
       ]
      },
      {
       "output_type": "stream",
       "stream": "stdout",
       "text": [
        "\n",
        "\t\t[Total] -->\n",
        "\t[Prior] --> 3362.96\n",
        "\t[Model] --> 4.13607e+07\n",
        "\t[Obs] --> 113939"
       ]
      },
      {
       "output_type": "stream",
       "stream": "stdout",
       "text": [
        "\n",
        "\t\t[Total] -->\n",
        "\t[Prior] --> 340.105\n",
        "\t[Model] --> 1531.24\n",
        "\t[Obs] --> 127.703"
       ]
      },
      {
       "output_type": "stream",
       "stream": "stdout",
       "text": [
        "\n",
        "\t\t[Total] -->\n",
        "\t[Prior] --> 419.85\n",
        "\t[Model] --> 3.90768e+06\n",
        "\t[Obs] --> 28081.9"
       ]
      },
      {
       "output_type": "stream",
       "stream": "stdout",
       "text": [
        "\n",
        "\t\t[Total] -->\n",
        "\t[Prior] --> 340.083\n",
        "\t[Model] --> 1530.96\n",
        "\t[Obs] --> 127.692"
       ]
      },
      {
       "output_type": "stream",
       "stream": "stdout",
       "text": [
        "\n",
        "\t\t[Total] -->\n",
        "\t[Prior] --> 340.009\n",
        "\t[Model] --> 1539.32\n",
        "\t[Obs] --> 127.628"
       ]
      },
      {
       "output_type": "stream",
       "stream": "stdout",
       "text": [
        "\n",
        "\t\t[Total] -->\n",
        "\t[Prior] --> 340.081\n",
        "\t[Model] --> 1531.1\n",
        "\t[Obs] --> 127.69"
       ]
      },
      {
       "output_type": "stream",
       "stream": "stdout",
       "text": [
        "\n",
        "\t\t[Total] -->\n",
        "\t[Prior] --> 340.083\n",
        "\t[Model] --> 1530.97\n",
        "\t[Obs] --> 127.692"
       ]
      },
      {
       "output_type": "stream",
       "stream": "stdout",
       "text": [
        "\n",
        "\t\t[Total] -->\n",
        "\t[Prior] --> 340.083\n",
        "\t[Model] --> 1530.96\n",
        "\t[Obs] --> 127.692"
       ]
      },
      {
       "output_type": "stream",
       "stream": "stdout",
       "text": [
        "\n",
        "\t\t[Total] -->\n",
        "\t[Prior] --> 340.083\n",
        "\t[Model] --> 1530.96\n",
        "\t[Obs] --> 127.692"
       ]
      },
      {
       "output_type": "stream",
       "stream": "stdout",
       "text": [
        "\n",
        "\t\t[Total] -->\n",
        "\t[Prior] --> 340.083\n",
        "\t[Model] --> 1530.96\n",
        "\t[Obs] --> 127.692"
       ]
      },
      {
       "output_type": "stream",
       "stream": "stdout",
       "text": [
        "\n",
        "\t\t[Total] -->\n",
        "\t[Prior] --> 340.083\n",
        "\t[Model] --> 1530.96\n",
        "\t[Obs] --> 127.692"
       ]
      },
      {
       "output_type": "stream",
       "stream": "stdout",
       "text": [
        "\n",
        "\t\t[Total] -->\n",
        "\t[Prior] --> 340.083\n",
        "\t[Model] --> 1530.96\n",
        "\t[Obs] --> 127.692"
       ]
      },
      {
       "output_type": "stream",
       "stream": "stdout",
       "text": [
        "\n",
        "\t\t[Total] -->\n",
        "\t[Prior] --> 340.083\n",
        "\t[Model] --> 1530.96\n",
        "\t[Obs] --> 127.692"
       ]
      },
      {
       "output_type": "stream",
       "stream": "stdout",
       "text": [
        "\n",
        "\t\t[Total] -->\n",
        "\t[Prior] --> 340.083\n",
        "\t[Model] --> 1530.96\n",
        "\t[Obs] --> 127.692"
       ]
      },
      {
       "output_type": "stream",
       "stream": "stdout",
       "text": [
        "\n",
        "\t\t[Total] -->\n",
        "\t[Prior] --> 340.083\n",
        "\t[Model] --> 1530.96\n",
        "\t[Obs] --> 127.692"
       ]
      },
      {
       "output_type": "stream",
       "stream": "stdout",
       "text": [
        "\n",
        "\t\t[Total] -->\n",
        "\t[Prior] --> 339.982\n",
        "\t[Model] --> 1531.72\n",
        "\t[Obs] --> 127.643"
       ]
      },
      {
       "output_type": "stream",
       "stream": "stdout",
       "text": [
        "\n",
        "\t\t[Total] -->\n",
        "\t[Prior] --> 340.072\n",
        "\t[Model] --> 1530.93\n",
        "\t[Obs] --> 127.687"
       ]
      },
      {
       "output_type": "stream",
       "stream": "stdout",
       "text": [
        "\n",
        "\t\t[Total] -->\n",
        "\t[Prior] --> 340.013\n",
        "\t[Model] --> 1531.24\n",
        "\t[Obs] --> 127.657"
       ]
      },
      {
       "output_type": "stream",
       "stream": "stdout",
       "text": [
        "\n",
        "\t\t[Total] -->\n",
        "\t[Prior] --> 340.065\n",
        "\t[Model] --> 1530.92\n",
        "\t[Obs] --> 127.683"
       ]
      },
      {
       "output_type": "stream",
       "stream": "stdout",
       "text": [
        "\n",
        "\t\t[Total] -->\n",
        "\t[Prior] --> 354.273\n",
        "\t[Model] --> 78618.9\n",
        "\t[Obs] --> 499.264"
       ]
      },
      {
       "output_type": "stream",
       "stream": "stdout",
       "text": [
        "\n",
        "\t\t[Total] -->\n",
        "\t[Prior] --> 340.067\n",
        "\t[Model] --> 1531.25\n",
        "\t[Obs] --> 127.682"
       ]
      },
      {
       "output_type": "stream",
       "stream": "stdout",
       "text": [
        "\n",
        "\t\t[Total] -->\n",
        "\t[Prior] --> 340.065\n",
        "\t[Model] --> 1530.93\n",
        "\t[Obs] --> 127.683"
       ]
      },
      {
       "output_type": "stream",
       "stream": "stdout",
       "text": [
        "\n",
        "\t\t[Total] -->\n",
        "\t[Prior] --> 340.065\n",
        "\t[Model] --> 1530.92\n",
        "\t[Obs] --> 127.683"
       ]
      },
      {
       "output_type": "stream",
       "stream": "stdout",
       "text": [
        "\n",
        "\t\t[Total] -->\n",
        "\t[Prior] --> 340.065\n",
        "\t[Model] --> 1530.92\n",
        "\t[Obs] --> 127.683"
       ]
      },
      {
       "output_type": "stream",
       "stream": "stdout",
       "text": [
        "\n",
        "\t\t[Total] -->\n",
        "\t[Prior] --> 340.065\n",
        "\t[Model] --> 1530.92\n",
        "\t[Obs] --> 127.683"
       ]
      },
      {
       "output_type": "stream",
       "stream": "stdout",
       "text": [
        "\n",
        "\t\t[Total] -->\n",
        "\t[Prior] --> 340.065\n",
        "\t[Model] --> 1530.92\n",
        "\t[Obs] --> 127.683"
       ]
      },
      {
       "output_type": "stream",
       "stream": "stdout",
       "text": [
        "\n",
        "\t\t[Total] -->\n",
        "\t[Prior] --> 340.065\n",
        "\t[Model] --> 1530.92\n",
        "\t[Obs] --> 127.683"
       ]
      },
      {
       "output_type": "stream",
       "stream": "stdout",
       "text": [
        "\n",
        "\t\t[Total] -->\n",
        "\t[Prior] --> 340.065\n",
        "\t[Model] --> 1530.92\n",
        "\t[Obs] --> 127.683"
       ]
      },
      {
       "output_type": "stream",
       "stream": "stdout",
       "text": [
        "\n",
        "\t\t[Total] -->\n",
        "\t[Prior] --> 340.065\n",
        "\t[Model] --> 1530.92\n",
        "\t[Obs] --> 127.683"
       ]
      },
      {
       "output_type": "stream",
       "stream": "stdout",
       "text": [
        "\n",
        "\t\t[Total] -->\n",
        "\t[Prior] --> 340.065\n",
        "\t[Model] --> 1530.92\n",
        "\t[Obs] --> 127.683"
       ]
      },
      {
       "output_type": "stream",
       "stream": "stdout",
       "text": [
        "\n",
        "\t\t[Total] -->\n",
        "\t[Prior] --> 340.065\n",
        "\t[Model] --> 1530.92\n",
        "\t[Obs] --> 127.683"
       ]
      },
      {
       "output_type": "stream",
       "stream": "stdout",
       "text": [
        "\n",
        "\t\t[Total] -->\n",
        "\t[Prior] --> 340.065\n",
        "\t[Model] --> 1530.92\n",
        "\t[Obs] --> 127.683"
       ]
      },
      {
       "output_type": "stream",
       "stream": "stdout",
       "text": [
        "\n",
        "\t\t[Total] -->\n",
        "\t[Prior] --> 340.065\n",
        "\t[Model] --> 1530.92\n",
        "\t[Obs] --> 127.683"
       ]
      },
      {
       "output_type": "stream",
       "stream": "stdout",
       "text": [
        "\n",
        "\t\t[Total] -->\n",
        "\t[Prior] --> 340.065\n",
        "\t[Model] --> 1530.92\n",
        "\t[Obs] --> 127.683"
       ]
      },
      {
       "output_type": "stream",
       "stream": "stdout",
       "text": [
        "\n",
        "\t\t[Total] -->\n",
        "\t[Prior] --> 340.065\n",
        "\t[Model] --> 1530.92\n",
        "\t[Obs] --> 127.683"
       ]
      },
      {
       "output_type": "stream",
       "stream": "stdout",
       "text": [
        "\n",
        "\t\t[Total] -->\n",
        "\t[Prior] --> 340.065\n",
        "\t[Model] --> 1530.92\n",
        "\t[Obs] --> 127.683"
       ]
      },
      {
       "output_type": "stream",
       "stream": "stdout",
       "text": [
        "\n",
        "\t\t[Total] -->\n",
        "\t[Prior] --> 340.065\n",
        "\t[Model] --> 1530.92\n",
        "\t[Obs] --> 127.683"
       ]
      },
      {
       "output_type": "stream",
       "stream": "stdout",
       "text": [
        "\n",
        "\t\t[Total] -->\n",
        "\t[Prior] --> 340.065\n",
        "\t[Model] --> 1530.92\n",
        "\t[Obs] --> 127.683"
       ]
      },
      {
       "output_type": "stream",
       "stream": "stdout",
       "text": [
        "\n",
        "\t\t[Total] -->\n",
        "\t[Prior] --> 354.273\n",
        "\t[Model] --> 78618.9\n",
        "\t[Obs] --> 499.264"
       ]
      },
      {
       "output_type": "stream",
       "stream": "stdout",
       "text": [
        "\n",
        "\t\t[Total] -->\n",
        "\t[Prior] --> 340.067\n",
        "\t[Model] --> 1531.25\n",
        "\t[Obs] --> 127.682"
       ]
      },
      {
       "output_type": "stream",
       "stream": "stdout",
       "text": [
        "\n",
        "\t\t[Total] -->\n",
        "\t[Prior] --> 340.065\n",
        "\t[Model] --> 1530.93\n",
        "\t[Obs] --> 127.683"
       ]
      },
      {
       "output_type": "stream",
       "stream": "stdout",
       "text": [
        "\n",
        "\t\t[Total] -->\n",
        "\t[Prior] --> 340.065\n",
        "\t[Model] --> 1530.92\n",
        "\t[Obs] --> 127.683"
       ]
      },
      {
       "output_type": "stream",
       "stream": "stdout",
       "text": [
        "\n",
        "\t\t[Total] -->\n",
        "\t[Prior] --> 340.065\n",
        "\t[Model] --> 1530.92\n",
        "\t[Obs] --> 127.683"
       ]
      },
      {
       "output_type": "stream",
       "stream": "stdout",
       "text": [
        "\n",
        "\t\t[Total] -->\n",
        "\t[Prior] --> 340.065\n",
        "\t[Model] --> 1530.92\n",
        "\t[Obs] --> 127.683"
       ]
      },
      {
       "output_type": "stream",
       "stream": "stdout",
       "text": [
        "\n",
        "\t\t[Total] -->\n",
        "\t[Prior] --> 340.065\n",
        "\t[Model] --> 1530.92\n",
        "\t[Obs] --> 127.683"
       ]
      },
      {
       "output_type": "stream",
       "stream": "stdout",
       "text": [
        "\n",
        "\t\t[Total] -->\n",
        "\t[Prior] --> 340.065\n",
        "\t[Model] --> 1530.92\n",
        "\t[Obs] --> 127.683"
       ]
      },
      {
       "output_type": "stream",
       "stream": "stdout",
       "text": [
        "\n",
        "\t\t[Total] -->\n",
        "\t[Prior] --> 340.065\n",
        "\t[Model] --> 1530.92\n",
        "\t[Obs] --> 127.683"
       ]
      },
      {
       "output_type": "stream",
       "stream": "stdout",
       "text": [
        "\n",
        "\t\t[Total] -->\n",
        "\t[Prior] --> 340.065\n",
        "\t[Model] --> 1530.92\n",
        "\t[Obs] --> 127.683"
       ]
      },
      {
       "output_type": "stream",
       "stream": "stdout",
       "text": [
        "\n",
        "\t\t[Total] -->\n",
        "\t[Prior] --> 340.065\n",
        "\t[Model] --> 1530.92\n",
        "\t[Obs] --> 127.683"
       ]
      },
      {
       "output_type": "stream",
       "stream": "stdout",
       "text": [
        "\n",
        "\t\t[Total] -->\n",
        "\t[Prior] --> 340.065\n",
        "\t[Model] --> 1530.92\n",
        "\t[Obs] --> 127.683"
       ]
      },
      {
       "output_type": "stream",
       "stream": "stdout",
       "text": [
        "\n",
        "\t\t[Total] -->\n",
        "\t[Prior] --> 340.065\n",
        "\t[Model] --> 1530.92\n",
        "\t[Obs] --> 127.683"
       ]
      },
      {
       "output_type": "stream",
       "stream": "stdout",
       "text": [
        "\n",
        "\t\t[Total] -->\n",
        "\t[Prior] --> 340.065\n",
        "\t[Model] --> 1530.92\n",
        "\t[Obs] --> 127.683"
       ]
      },
      {
       "output_type": "stream",
       "stream": "stdout",
       "text": [
        "\n",
        "\t\t[Total] -->\n",
        "\t[Prior] --> 340.065\n",
        "\t[Model] --> 1530.92\n",
        "\t[Obs] --> 127.683"
       ]
      },
      {
       "output_type": "stream",
       "stream": "stdout",
       "text": [
        "\n",
        "\t\t[Total] -->\n",
        "\t[Prior] --> 340.065\n",
        "\t[Model] --> 1530.92\n",
        "\t[Obs] --> 127.683"
       ]
      },
      {
       "output_type": "stream",
       "stream": "stdout",
       "text": [
        "\n",
        "\t\t[Total] -->\n",
        "\t[Prior] --> 340.065\n",
        "\t[Model] --> 1530.92\n",
        "\t[Obs] --> 127.683"
       ]
      },
      {
       "output_type": "stream",
       "stream": "stdout",
       "text": [
        "\n",
        "\t\t[Total] -->\n",
        "\t[Prior] --> 340.065\n",
        "\t[Model] --> 1530.92\n",
        "\t[Obs] --> 127.683"
       ]
      },
      {
       "output_type": "stream",
       "stream": "stdout",
       "text": [
        "\n",
        "\t\t[Total] -->\n",
        "\t[Prior] --> 340.065\n",
        "\t[Model] --> 1530.92\n",
        "\t[Obs] --> 127.683"
       ]
      },
      {
       "output_type": "stream",
       "stream": "stdout",
       "text": [
        "\n",
        "\t\t[Total] -->\n",
        "\t[Prior] --> 340.065\n",
        "\t[Model] --> 1530.92\n",
        "\t[Obs] --> 127.683"
       ]
      },
      {
       "output_type": "stream",
       "stream": "stdout",
       "text": [
        "\n",
        "\t\t[Total] -->\n",
        "\t[Prior] --> 3294.38\n",
        "\t[Model] --> 3.01835e+07\n",
        "\t[Obs] --> 27175.4"
       ]
      },
      {
       "output_type": "stream",
       "stream": "stdout",
       "text": [
        "\n",
        "\t\t[Total] -->\n",
        "\t[Prior] --> 340.059\n",
        "\t[Model] --> 1530.83\n",
        "\t[Obs] --> 127.681"
       ]
      },
      {
       "output_type": "stream",
       "stream": "stdout",
       "text": [
        "\n",
        "\t\t[Total] -->\n",
        "\t[Prior] --> 453.719\n",
        "\t[Model] --> 2.97316e+06\n",
        "\t[Obs] --> 7220.22"
       ]
      },
      {
       "output_type": "stream",
       "stream": "stdout",
       "text": [
        "\n",
        "\t\t[Total] -->\n",
        "\t[Prior] --> 340.045\n",
        "\t[Model] --> 1530.62\n",
        "\t[Obs] --> 127.676"
       ]
      },
      {
       "output_type": "stream",
       "stream": "stdout",
       "text": [
        "\n",
        "\t\t[Total] -->\n",
        "\t[Prior] --> 339.93\n",
        "\t[Model] --> 1539.53\n",
        "\t[Obs] --> 127.623"
       ]
      },
      {
       "output_type": "stream",
       "stream": "stdout",
       "text": [
        "\n",
        "\t\t[Total] -->\n",
        "\t[Prior] --> 340.041\n",
        "\t[Model] --> 1530.77\n",
        "\t[Obs] --> 127.674"
       ]
      },
      {
       "output_type": "stream",
       "stream": "stdout",
       "text": [
        "\n",
        "\t\t[Total] -->\n",
        "\t[Prior] --> 340.045\n",
        "\t[Model] --> 1530.63\n",
        "\t[Obs] --> 127.676"
       ]
      },
      {
       "output_type": "stream",
       "stream": "stdout",
       "text": [
        "\n",
        "\t\t[Total] -->\n",
        "\t[Prior] --> 340.045\n",
        "\t[Model] --> 1530.62\n",
        "\t[Obs] --> 127.676"
       ]
      },
      {
       "output_type": "stream",
       "stream": "stdout",
       "text": [
        "\n",
        "\t\t[Total] -->\n",
        "\t[Prior] --> 340.045\n",
        "\t[Model] --> 1530.62\n",
        "\t[Obs] --> 127.676"
       ]
      },
      {
       "output_type": "stream",
       "stream": "stdout",
       "text": [
        "\n",
        "\t\t[Total] -->\n",
        "\t[Prior] --> 340.045\n",
        "\t[Model] --> 1530.62\n",
        "\t[Obs] --> 127.676"
       ]
      },
      {
       "output_type": "stream",
       "stream": "stdout",
       "text": [
        "\n",
        "\t\t[Total] -->\n",
        "\t[Prior] --> 340.045\n",
        "\t[Model] --> 1530.62\n",
        "\t[Obs] --> 127.676"
       ]
      },
      {
       "output_type": "stream",
       "stream": "stdout",
       "text": [
        "\n",
        "\t\t[Total] -->\n",
        "\t[Prior] --> 340.045\n",
        "\t[Model] --> 1530.62\n",
        "\t[Obs] --> 127.676"
       ]
      },
      {
       "output_type": "stream",
       "stream": "stdout",
       "text": [
        "\n",
        "\t\t[Total] -->\n",
        "\t[Prior] --> 340.045\n",
        "\t[Model] --> 1530.62\n",
        "\t[Obs] --> 127.676"
       ]
      },
      {
       "output_type": "stream",
       "stream": "stdout",
       "text": [
        "\n",
        "\t\t[Total] -->\n",
        "\t[Prior] --> 340.045\n",
        "\t[Model] --> 1530.62\n",
        "\t[Obs] --> 127.676"
       ]
      },
      {
       "output_type": "stream",
       "stream": "stdout",
       "text": [
        "\n",
        "\t\t[Total] -->\n",
        "\t[Prior] --> 340.045\n",
        "\t[Model] --> 1530.62\n",
        "\t[Obs] --> 127.676"
       ]
      },
      {
       "output_type": "stream",
       "stream": "stdout",
       "text": [
        "\n",
        "\t\t[Total] -->\n",
        "\t[Prior] --> 340.045\n",
        "\t[Model] --> 1530.62\n",
        "\t[Obs] --> 127.676"
       ]
      },
      {
       "output_type": "stream",
       "stream": "stdout",
       "text": [
        "\n",
        "\t\t[Total] -->\n",
        "\t[Prior] --> 340.045\n",
        "\t[Model] --> 1530.62\n",
        "\t[Obs] --> 127.676"
       ]
      },
      {
       "output_type": "stream",
       "stream": "stdout",
       "text": [
        "\n",
        "\t\t[Total] -->\n",
        "\t[Prior] --> 340.045\n",
        "\t[Model] --> 1530.62\n",
        "\t[Obs] --> 127.676"
       ]
      },
      {
       "output_type": "stream",
       "stream": "stdout",
       "text": [
        "\n",
        "\t\t[Total] -->\n",
        "\t[Prior] --> 340.023\n",
        "\t[Model] --> 1555.18\n",
        "\t[Obs] --> 127.678"
       ]
      },
      {
       "output_type": "stream",
       "stream": "stdout",
       "text": [
        "\n",
        "\t\t[Total] -->\n",
        "\t[Prior] --> 340.044\n",
        "\t[Model] --> 1530.85\n",
        "\t[Obs] --> 127.675"
       ]
      },
      {
       "output_type": "stream",
       "stream": "stdout",
       "text": [
        "\n",
        "\t\t[Total] -->\n",
        "\t[Prior] --> 340.045\n",
        "\t[Model] --> 1530.62\n",
        "\t[Obs] --> 127.676"
       ]
      },
      {
       "output_type": "stream",
       "stream": "stdout",
       "text": [
        "\n",
        "\t\t[Total] -->\n",
        "\t[Prior] --> 340.045\n",
        "\t[Model] --> 1530.62\n",
        "\t[Obs] --> 127.676"
       ]
      },
      {
       "output_type": "stream",
       "stream": "stdout",
       "text": [
        "\n",
        "\t\t[Total] -->\n",
        "\t[Prior] --> 340.045\n",
        "\t[Model] --> 1530.62\n",
        "\t[Obs] --> 127.676"
       ]
      },
      {
       "output_type": "stream",
       "stream": "stdout",
       "text": [
        "\n",
        "\t\t[Total] -->\n",
        "\t[Prior] --> 340.045\n",
        "\t[Model] --> 1530.62\n",
        "\t[Obs] --> 127.676"
       ]
      },
      {
       "output_type": "stream",
       "stream": "stdout",
       "text": [
        "\n",
        "\t\t[Total] -->\n",
        "\t[Prior] --> 340.045\n",
        "\t[Model] --> 1530.62\n",
        "\t[Obs] --> 127.676"
       ]
      },
      {
       "output_type": "stream",
       "stream": "stdout",
       "text": [
        "\n",
        "\t\t[Total] -->\n",
        "\t[Prior] --> 340.045\n",
        "\t[Model] --> 1530.62\n",
        "\t[Obs] --> 127.676"
       ]
      },
      {
       "output_type": "stream",
       "stream": "stdout",
       "text": [
        "\n",
        "\t\t[Total] -->\n",
        "\t[Prior] --> 340.045\n",
        "\t[Model] --> 1530.62\n",
        "\t[Obs] --> 127.676"
       ]
      },
      {
       "output_type": "stream",
       "stream": "stdout",
       "text": [
        "\n",
        "\t\t[Total] -->\n",
        "\t[Prior] --> 340.045\n",
        "\t[Model] --> 1530.62\n",
        "\t[Obs] --> 127.676"
       ]
      },
      {
       "output_type": "stream",
       "stream": "stdout",
       "text": [
        "\n",
        "\t\t[Total] -->\n",
        "\t[Prior] --> 340.045\n",
        "\t[Model] --> 1530.62\n",
        "\t[Obs] --> 127.676"
       ]
      },
      {
       "output_type": "stream",
       "stream": "stdout",
       "text": [
        "\n",
        "\t\t[Total] -->\n",
        "\t[Prior] --> 340.045\n",
        "\t[Model] --> 1530.62\n",
        "\t[Obs] --> 127.676"
       ]
      },
      {
       "output_type": "stream",
       "stream": "stdout",
       "text": [
        "\n",
        "\t\t[Total] -->\n",
        "\t[Prior] --> 340.045\n",
        "\t[Model] --> 1530.62\n",
        "\t[Obs] --> 127.676"
       ]
      },
      {
       "output_type": "stream",
       "stream": "stdout",
       "text": [
        "\n",
        "\t\t[Total] -->\n",
        "\t[Prior] --> 340.045\n",
        "\t[Model] --> 1530.62\n",
        "\t[Obs] --> 127.676"
       ]
      },
      {
       "output_type": "stream",
       "stream": "stdout",
       "text": [
        "\n",
        "\t\t[Total] -->\n",
        "\t[Prior] --> 340.045\n",
        "\t[Model] --> 1530.62\n",
        "\t[Obs] --> 127.676"
       ]
      },
      {
       "output_type": "stream",
       "stream": "stdout",
       "text": [
        "\n",
        "\t\t[Total] -->\n",
        "\t[Prior] --> 340.045\n",
        "\t[Model] --> 1530.62\n",
        "\t[Obs] --> 127.676"
       ]
      },
      {
       "output_type": "stream",
       "stream": "stdout",
       "text": [
        "\n",
        "\t\t[Total] -->\n",
        "\t[Prior] --> 340.045\n",
        "\t[Model] --> 1530.62\n",
        "\t[Obs] --> 127.676"
       ]
      },
      {
       "output_type": "stream",
       "stream": "stdout",
       "text": [
        "\n",
        "\t\t[Total] -->\n",
        "\t[Prior] --> 340.045\n",
        "\t[Model] --> 1530.62\n",
        "\t[Obs] --> 127.676"
       ]
      },
      {
       "output_type": "stream",
       "stream": "stdout",
       "text": [
        "\n",
        "\t\t[Total] -->\n",
        "\t[Prior] --> 340.045\n",
        "\t[Model] --> 1530.62\n",
        "\t[Obs] --> 127.676"
       ]
      },
      {
       "output_type": "stream",
       "stream": "stdout",
       "text": [
        "\n",
        "\t\t[Total] -->\n",
        "\t[Prior] --> 340.045\n",
        "\t[Model] --> 1530.62\n",
        "\t[Obs] --> 127.676"
       ]
      },
      {
       "output_type": "stream",
       "stream": "stdout",
       "text": [
        "\n",
        "\t\t[Total] -->\n",
        "\t[Prior] --> 3230.15\n",
        "\t[Model] --> 2.87538e+07\n",
        "\t[Obs] --> 25915.6"
       ]
      },
      {
       "output_type": "stream",
       "stream": "stdout",
       "text": [
        "\n",
        "\t\t[Total] -->\n",
        "\t[Prior] --> 340.04\n",
        "\t[Model] --> 1530.55\n",
        "\t[Obs] --> 127.676"
       ]
      },
      {
       "output_type": "stream",
       "stream": "stdout",
       "text": [
        "\n",
        "\t\t[Total] -->\n",
        "\t[Prior] --> 461.961\n",
        "\t[Model] --> 2.95595e+06\n",
        "\t[Obs] --> 6887.53"
       ]
      },
      {
       "output_type": "stream",
       "stream": "stdout",
       "text": [
        "\n",
        "\t\t[Total] -->\n",
        "\t[Prior] --> 340.027\n",
        "\t[Model] --> 1530.4\n",
        "\t[Obs] --> 127.674"
       ]
      },
      {
       "output_type": "stream",
       "stream": "stdout",
       "text": [
        "\n",
        "\t\t[Total] -->\n",
        "\t[Prior] --> 339.921\n",
        "\t[Model] --> 1537.65\n",
        "\t[Obs] --> 127.642"
       ]
      },
      {
       "output_type": "stream",
       "stream": "stdout",
       "text": [
        "\n",
        "\t\t[Total] -->\n",
        "\t[Prior] --> 340.024\n",
        "\t[Model] --> 1530.54\n",
        "\t[Obs] --> 127.673"
       ]
      },
      {
       "output_type": "stream",
       "stream": "stdout",
       "text": [
        "\n",
        "\t\t[Total] -->\n",
        "\t[Prior] --> 340.027\n",
        "\t[Model] --> 1530.41\n",
        "\t[Obs] --> 127.674"
       ]
      },
      {
       "output_type": "stream",
       "stream": "stdout",
       "text": [
        "\n",
        "\t\t[Total] -->\n",
        "\t[Prior] --> 340.027\n",
        "\t[Model] --> 1530.4\n",
        "\t[Obs] --> 127.674"
       ]
      },
      {
       "output_type": "stream",
       "stream": "stdout",
       "text": [
        "\n",
        "\t\t[Total] -->\n",
        "\t[Prior] --> 340.027\n",
        "\t[Model] --> 1530.4\n",
        "\t[Obs] --> 127.674"
       ]
      },
      {
       "output_type": "stream",
       "stream": "stdout",
       "text": [
        "\n",
        "\t\t[Total] -->\n",
        "\t[Prior] --> 340.027\n",
        "\t[Model] --> 1530.4\n",
        "\t[Obs] --> 127.674"
       ]
      },
      {
       "output_type": "stream",
       "stream": "stdout",
       "text": [
        "\n",
        "\t\t[Total] -->\n",
        "\t[Prior] --> 340.027\n",
        "\t[Model] --> 1530.4\n",
        "\t[Obs] --> 127.674"
       ]
      },
      {
       "output_type": "stream",
       "stream": "stdout",
       "text": [
        "\n",
        "\t\t[Total] -->\n",
        "\t[Prior] --> 340.027\n",
        "\t[Model] --> 1530.4\n",
        "\t[Obs] --> 127.674"
       ]
      },
      {
       "output_type": "stream",
       "stream": "stdout",
       "text": [
        "\n",
        "\t\t[Total] -->\n",
        "\t[Prior] --> 340.027\n",
        "\t[Model] --> 1530.4\n",
        "\t[Obs] --> 127.674"
       ]
      },
      {
       "output_type": "stream",
       "stream": "stdout",
       "text": [
        "\n",
        "\t\t[Total] -->\n",
        "\t[Prior] --> 340.027\n",
        "\t[Model] --> 1530.4\n",
        "\t[Obs] --> 127.674"
       ]
      },
      {
       "output_type": "stream",
       "stream": "stdout",
       "text": [
        "\n",
        "\t\t[Total] -->\n",
        "\t[Prior] --> 340.027\n",
        "\t[Model] --> 1530.4\n",
        "\t[Obs] --> 127.674"
       ]
      },
      {
       "output_type": "stream",
       "stream": "stdout",
       "text": [
        "\n",
        "\t\t[Total] -->\n",
        "\t[Prior] --> 339.589\n",
        "\t[Model] --> 1571.47\n",
        "\t[Obs] --> 127.638"
       ]
      },
      {
       "output_type": "stream",
       "stream": "stdout",
       "text": [
        "\n",
        "\t\t[Total] -->\n",
        "\t[Prior] --> 340.02\n",
        "\t[Model] --> 1530.49\n",
        "\t[Obs] --> 127.672"
       ]
      },
      {
       "output_type": "stream",
       "stream": "stdout",
       "text": [
        "\n",
        "\t\t[Total] -->\n",
        "\t[Prior] --> 340.027\n",
        "\t[Model] --> 1530.41\n",
        "\t[Obs] --> 127.674"
       ]
      },
      {
       "output_type": "stream",
       "stream": "stdout",
       "text": [
        "\n",
        "\t\t[Total] -->\n",
        "\t[Prior] --> 340.027\n",
        "\t[Model] --> 1530.4\n",
        "\t[Obs] --> 127.674"
       ]
      },
      {
       "output_type": "stream",
       "stream": "stdout",
       "text": [
        "\n",
        "\t\t[Total] -->\n",
        "\t[Prior] --> 340.027\n",
        "\t[Model] --> 1530.4\n",
        "\t[Obs] --> 127.674"
       ]
      },
      {
       "output_type": "stream",
       "stream": "stdout",
       "text": [
        "\n",
        "\t\t[Total] -->\n",
        "\t[Prior] --> 340.027\n",
        "\t[Model] --> 1530.4\n",
        "\t[Obs] --> 127.674"
       ]
      },
      {
       "output_type": "stream",
       "stream": "stdout",
       "text": [
        "\n",
        "\t\t[Total] -->\n",
        "\t[Prior] --> 340.027\n",
        "\t[Model] --> 1530.4\n",
        "\t[Obs] --> 127.674"
       ]
      },
      {
       "output_type": "stream",
       "stream": "stdout",
       "text": [
        "\n",
        "\t\t[Total] -->\n",
        "\t[Prior] --> 340.027\n",
        "\t[Model] --> 1530.4\n",
        "\t[Obs] --> 127.674"
       ]
      },
      {
       "output_type": "stream",
       "stream": "stdout",
       "text": [
        "\n",
        "\t\t[Total] -->\n",
        "\t[Prior] --> 340.027\n",
        "\t[Model] --> 1530.4\n",
        "\t[Obs] --> 127.674"
       ]
      },
      {
       "output_type": "stream",
       "stream": "stdout",
       "text": [
        "\n",
        "\t\t[Total] -->\n",
        "\t[Prior] --> 340.027\n",
        "\t[Model] --> 1530.4\n",
        "\t[Obs] --> 127.674"
       ]
      },
      {
       "output_type": "stream",
       "stream": "stdout",
       "text": [
        "\n",
        "\t\t[Total] -->\n",
        "\t[Prior] --> 340.027\n",
        "\t[Model] --> 1530.4\n",
        "\t[Obs] --> 127.674"
       ]
      },
      {
       "output_type": "stream",
       "stream": "stdout",
       "text": [
        "\n",
        "\t\t[Total] -->\n",
        "\t[Prior] --> 340.027\n",
        "\t[Model] --> 1530.4\n",
        "\t[Obs] --> 127.674"
       ]
      },
      {
       "output_type": "stream",
       "stream": "stdout",
       "text": [
        "\n",
        "\t\t[Total] -->\n",
        "\t[Prior] --> 340.027\n",
        "\t[Model] --> 1530.4\n",
        "\t[Obs] --> 127.674"
       ]
      },
      {
       "output_type": "stream",
       "stream": "stdout",
       "text": [
        "\n",
        "\t\t[Total] -->\n",
        "\t[Prior] --> 339.899\n",
        "\t[Model] --> 1535.96\n",
        "\t[Obs] --> 127.645"
       ]
      },
      {
       "output_type": "stream",
       "stream": "stdout",
       "text": [
        "\n",
        "\t\t[Total] -->\n",
        "\t[Prior] --> 340.023\n",
        "\t[Model] --> 1530.49\n",
        "\t[Obs] --> 127.673"
       ]
      },
      {
       "output_type": "stream",
       "stream": "stdout",
       "text": [
        "\n",
        "\t\t[Total] -->\n",
        "\t[Prior] --> 340.027\n",
        "\t[Model] --> 1530.41\n",
        "\t[Obs] --> 127.674"
       ]
      },
      {
       "output_type": "stream",
       "stream": "stdout",
       "text": [
        "\n",
        "\t\t[Total] -->\n",
        "\t[Prior] --> 340.027\n",
        "\t[Model] --> 1530.4\n",
        "\t[Obs] --> 127.674"
       ]
      },
      {
       "output_type": "stream",
       "stream": "stdout",
       "text": [
        "\n",
        "\t\t[Total] -->\n",
        "\t[Prior] --> 340.027\n",
        "\t[Model] --> 1530.4\n",
        "\t[Obs] --> 127.674"
       ]
      },
      {
       "output_type": "stream",
       "stream": "stdout",
       "text": [
        "\n",
        "\t\t[Total] -->\n",
        "\t[Prior] --> 340.027\n",
        "\t[Model] --> 1530.4\n",
        "\t[Obs] --> 127.674"
       ]
      },
      {
       "output_type": "stream",
       "stream": "stdout",
       "text": [
        "\n",
        "\t\t[Total] -->\n",
        "\t[Prior] --> 340.027\n",
        "\t[Model] --> 1530.4\n",
        "\t[Obs] --> 127.674"
       ]
      },
      {
       "output_type": "stream",
       "stream": "stdout",
       "text": [
        "\n",
        "\t\t[Total] -->\n",
        "\t[Prior] --> 340.027\n",
        "\t[Model] --> 1530.4\n",
        "\t[Obs] --> 127.674"
       ]
      },
      {
       "output_type": "stream",
       "stream": "stdout",
       "text": [
        "\n",
        "\t\t[Total] -->\n",
        "\t[Prior] --> 340.027\n",
        "\t[Model] --> 1530.4\n",
        "\t[Obs] --> 127.674"
       ]
      },
      {
       "output_type": "stream",
       "stream": "stdout",
       "text": [
        "\n",
        "\t\t[Total] -->\n",
        "\t[Prior] --> 340.027\n",
        "\t[Model] --> 1530.4\n",
        "\t[Obs] --> 127.674"
       ]
      },
      {
       "output_type": "stream",
       "stream": "stdout",
       "text": [
        "\n",
        "\t\t[Total] -->\n",
        "\t[Prior] --> 340.027\n",
        "\t[Model] --> 1530.4\n",
        "\t[Obs] --> 127.674"
       ]
      },
      {
       "output_type": "stream",
       "stream": "stdout",
       "text": [
        "\n",
        "\t\t[Total] -->\n",
        "\t[Prior] --> 340.027\n",
        "\t[Model] --> 1530.4\n",
        "\t[Obs] --> 127.674"
       ]
      },
      {
       "output_type": "stream",
       "stream": "stdout",
       "text": [
        "\n",
        "\t\t[Total] -->\n",
        "\t[Prior] --> 340.027\n",
        "\t[Model] --> 1530.4\n",
        "\t[Obs] --> 127.674"
       ]
      },
      {
       "output_type": "stream",
       "stream": "stdout",
       "text": [
        "\n",
        "\t\t[Total] -->\n",
        "\t[Prior] --> 340.027\n",
        "\t[Model] --> 1530.4\n",
        "\t[Obs] --> 127.674"
       ]
      },
      {
       "output_type": "stream",
       "stream": "stdout",
       "text": [
        "\n",
        "\t\t[Total] -->\n",
        "\t[Prior] --> 340.027\n",
        "\t[Model] --> 1530.4\n",
        "\t[Obs] --> 127.674"
       ]
      },
      {
       "output_type": "stream",
       "stream": "stdout",
       "text": [
        "\n",
        "\t\t[Total] -->\n",
        "\t[Prior] --> 340.007\n",
        "\t[Model] --> 1530.53\n",
        "\t[Obs] --> 127.67"
       ]
      },
      {
       "output_type": "stream",
       "stream": "stdout",
       "text": [
        "\n",
        "\t\t[Total] -->\n",
        "\t[Prior] --> 340.025\n",
        "\t[Model] --> 1530.41\n",
        "\t[Obs] --> 127.674"
       ]
      },
      {
       "output_type": "stream",
       "stream": "stdout",
       "text": [
        "\n",
        "\t\t[Total] -->\n",
        "\t[Prior] --> 340.027\n",
        "\t[Model] --> 1530.4\n",
        "\t[Obs] --> 127.674"
       ]
      },
      {
       "output_type": "stream",
       "stream": "stdout",
       "text": [
        "\n",
        "\t\t[Total] -->\n",
        "\t[Prior] --> 340.027\n",
        "\t[Model] --> 1530.4\n",
        "\t[Obs] --> 127.674"
       ]
      },
      {
       "output_type": "stream",
       "stream": "stdout",
       "text": [
        "\n",
        "\t\t[Total] -->\n",
        "\t[Prior] --> 340.027\n",
        "\t[Model] --> 1530.4\n",
        "\t[Obs] --> 127.674"
       ]
      },
      {
       "output_type": "stream",
       "stream": "stdout",
       "text": [
        "\n",
        "\t\t[Total] -->\n",
        "\t[Prior] --> 340.027\n",
        "\t[Model] --> 1530.4\n",
        "\t[Obs] --> 127.674"
       ]
      },
      {
       "output_type": "stream",
       "stream": "stdout",
       "text": [
        "\n",
        "\t\t[Total] -->\n",
        "\t[Prior] --> 340.027\n",
        "\t[Model] --> 1530.4\n",
        "\t[Obs] --> 127.674"
       ]
      },
      {
       "output_type": "stream",
       "stream": "stdout",
       "text": [
        "\n",
        "\t\t[Total] -->\n",
        "\t[Prior] --> 340.027\n",
        "\t[Model] --> 1530.4\n",
        "\t[Obs] --> 127.674"
       ]
      },
      {
       "output_type": "stream",
       "stream": "stdout",
       "text": [
        "\n",
        "\t\t[Total] -->\n",
        "\t[Prior] --> 340.027\n",
        "\t[Model] --> 1530.4\n",
        "\t[Obs] --> 127.674"
       ]
      },
      {
       "output_type": "stream",
       "stream": "stdout",
       "text": [
        "\n",
        "\t\t[Total] -->\n",
        "\t[Prior] --> 340.027\n",
        "\t[Model] --> 1530.4\n",
        "\t[Obs] --> 127.674"
       ]
      },
      {
       "output_type": "stream",
       "stream": "stdout",
       "text": [
        "\n",
        "\t\t[Total] -->\n",
        "\t[Prior] --> 340.027\n",
        "\t[Model] --> 1530.4\n",
        "\t[Obs] --> 127.674"
       ]
      },
      {
       "output_type": "stream",
       "stream": "stdout",
       "text": [
        "\n",
        "\t\t[Total] -->\n",
        "\t[Prior] --> 340.027\n",
        "\t[Model] --> 1530.4\n",
        "\t[Obs] --> 127.674"
       ]
      },
      {
       "output_type": "stream",
       "stream": "stdout",
       "text": [
        "\n",
        "\t\t[Total] -->\n",
        "\t[Prior] --> 340.027\n",
        "\t[Model] --> 1530.4\n",
        "\t[Obs] --> 127.674"
       ]
      },
      {
       "output_type": "stream",
       "stream": "stdout",
       "text": [
        "\n",
        "\t\t[Total] -->\n",
        "\t[Prior] --> 340.027\n",
        "\t[Model] --> 1530.4\n",
        "\t[Obs] --> 127.674"
       ]
      },
      {
       "output_type": "stream",
       "stream": "stdout",
       "text": [
        "\n",
        "\t\t[Total] -->\n",
        "\t[Prior] --> 340.027\n",
        "\t[Model] --> 1530.4\n",
        "\t[Obs] --> 127.674"
       ]
      },
      {
       "output_type": "stream",
       "stream": "stdout",
       "text": [
        "\n",
        "\t\t[Total] -->\n",
        "\t[Prior] --> 340.027\n",
        "\t[Model] --> 1530.4\n",
        "\t[Obs] --> 127.674"
       ]
      },
      {
       "output_type": "stream",
       "stream": "stdout",
       "text": [
        "\n",
        "\t\t[Total] -->\n",
        "\t[Prior] --> 340.027\n",
        "\t[Model] --> 1530.4\n",
        "\t[Obs] --> 127.674"
       ]
      },
      {
       "output_type": "stream",
       "stream": "stdout",
       "text": [
        "\n",
        "\t\t[Total] -->\n",
        "\t[Prior] --> 340.027\n",
        "\t[Model] --> 1530.4\n",
        "\t[Obs] --> 127.674"
       ]
      },
      {
       "output_type": "stream",
       "stream": "stdout",
       "text": [
        "\n",
        "\t\t[Total] -->\n",
        "\t[Prior] --> 340.027\n",
        "\t[Model] --> 1530.4\n",
        "\t[Obs] --> 127.674"
       ]
      },
      {
       "output_type": "stream",
       "stream": "stdout",
       "text": [
        "\n",
        "\t\t[Total] -->\n",
        "\t[Prior] --> 340.027\n",
        "\t[Model] --> 1530.4\n",
        "\t[Obs] --> 127.674"
       ]
      },
      {
       "output_type": "stream",
       "stream": "stdout",
       "text": [
        "\n",
        "\t\t[Total] -->\n",
        "\t[Prior] --> 3192.93\n",
        "\t[Model] --> 2.44079e+07\n",
        "\t[Obs] --> 28846.9"
       ]
      },
      {
       "output_type": "stream",
       "stream": "stdout",
       "text": [
        "\n",
        "\t\t[Total] -->\n",
        "\t[Prior] --> 340.022\n",
        "\t[Model] --> 1530.35\n",
        "\t[Obs] --> 127.673"
       ]
      },
      {
       "output_type": "stream",
       "stream": "stdout",
       "text": [
        "\n",
        "\t\t[Total] -->\n",
        "\t[Prior] --> 460.954\n",
        "\t[Model] --> 2.47192e+06\n",
        "\t[Obs] --> 7793.43"
       ]
      },
      {
       "output_type": "stream",
       "stream": "stdout",
       "text": [
        "\n",
        "\t\t[Total] -->\n",
        "\t[Prior] --> 340.009\n",
        "\t[Model] --> 1530.26\n",
        "\t[Obs] --> 127.672"
       ]
      },
      {
       "output_type": "stream",
       "stream": "stdout",
       "text": [
        "\n",
        "\t\t[Total] -->\n",
        "\t[Prior] --> 339.899\n",
        "\t[Model] --> 1538.01\n",
        "\t[Obs] --> 127.635"
       ]
      },
      {
       "output_type": "stream",
       "stream": "stdout",
       "text": [
        "\n",
        "\t\t[Total] -->\n",
        "\t[Prior] --> 340.006\n",
        "\t[Model] --> 1530.4\n",
        "\t[Obs] --> 127.67"
       ]
      },
      {
       "output_type": "stream",
       "stream": "stdout",
       "text": [
        "\n",
        "\t\t[Total] -->\n",
        "\t[Prior] --> 340.009\n",
        "\t[Model] --> 1530.26\n",
        "\t[Obs] --> 127.672"
       ]
      },
      {
       "output_type": "stream",
       "stream": "stdout",
       "text": [
        "\n",
        "\t\t[Total] -->\n",
        "\t[Prior] --> 340.009\n",
        "\t[Model] --> 1530.26\n",
        "\t[Obs] --> 127.672"
       ]
      },
      {
       "output_type": "stream",
       "stream": "stdout",
       "text": [
        "\n",
        "\t\t[Total] -->\n",
        "\t[Prior] --> 340.009\n",
        "\t[Model] --> 1530.26\n",
        "\t[Obs] --> 127.672"
       ]
      },
      {
       "output_type": "stream",
       "stream": "stdout",
       "text": [
        "\n",
        "\t\t[Total] -->\n",
        "\t[Prior] --> 340.009\n",
        "\t[Model] --> 1530.26\n",
        "\t[Obs] --> 127.672"
       ]
      },
      {
       "output_type": "stream",
       "stream": "stdout",
       "text": [
        "\n",
        "\t\t[Total] -->\n",
        "\t[Prior] --> 340.009\n",
        "\t[Model] --> 1530.26\n",
        "\t[Obs] --> 127.672"
       ]
      },
      {
       "output_type": "stream",
       "stream": "stdout",
       "text": [
        "\n",
        "\t\t[Total] -->\n",
        "\t[Prior] --> 340.009\n",
        "\t[Model] --> 1530.26\n",
        "\t[Obs] --> 127.672"
       ]
      },
      {
       "output_type": "stream",
       "stream": "stdout",
       "text": [
        "\n",
        "\t\t[Total] -->\n",
        "\t[Prior] --> 340.009\n",
        "\t[Model] --> 1530.26\n",
        "\t[Obs] --> 127.672"
       ]
      },
      {
       "output_type": "stream",
       "stream": "stdout",
       "text": [
        "\n",
        "\t\t[Total] -->\n",
        "\t[Prior] --> 340.009\n",
        "\t[Model] --> 1530.26\n",
        "\t[Obs] --> 127.672"
       ]
      },
      {
       "output_type": "stream",
       "stream": "stdout",
       "text": [
        "\n",
        "\t\t[Total] -->\n",
        "\t[Prior] --> 340.009\n",
        "\t[Model] --> 1530.26\n",
        "\t[Obs] --> 127.672"
       ]
      },
      {
       "output_type": "stream",
       "stream": "stdout",
       "text": [
        "\n",
        "\t\t[Total] -->\n",
        "\t[Prior] --> 340.009\n",
        "\t[Model] --> 1530.26\n",
        "\t[Obs] --> 127.672"
       ]
      },
      {
       "output_type": "stream",
       "stream": "stdout",
       "text": [
        "\n",
        "\t\t[Total] -->\n",
        "\t[Prior] --> 340.009\n",
        "\t[Model] --> 1530.26\n",
        "\t[Obs] --> 127.672"
       ]
      },
      {
       "output_type": "stream",
       "stream": "stdout",
       "text": [
        "\n",
        "\t\t[Total] -->\n",
        "\t[Prior] --> 340.009\n",
        "\t[Model] --> 1530.26\n",
        "\t[Obs] --> 127.672"
       ]
      },
      {
       "output_type": "stream",
       "stream": "stdout",
       "text": [
        "\n",
        "\t\t[Total] -->\n",
        "\t[Prior] --> 340.009\n",
        "\t[Model] --> 1530.26\n",
        "\t[Obs] --> 127.672"
       ]
      },
      {
       "output_type": "stream",
       "stream": "stdout",
       "text": [
        "\n",
        "\t\t[Total] -->\n",
        "\t[Prior] --> 340.009\n",
        "\t[Model] --> 1530.26\n",
        "\t[Obs] --> 127.672"
       ]
      },
      {
       "output_type": "stream",
       "stream": "stdout",
       "text": [
        "\n",
        "\t\t[Total] -->\n",
        "\t[Prior] --> 340.009\n",
        "\t[Model] --> 1530.26\n",
        "\t[Obs] --> 127.672"
       ]
      },
      {
       "output_type": "stream",
       "stream": "stdout",
       "text": [
        "\n",
        "\t\t[Total] -->\n",
        "\t[Prior] --> 340.009\n",
        "\t[Model] --> 1530.26\n",
        "\t[Obs] --> 127.672"
       ]
      },
      {
       "output_type": "stream",
       "stream": "stdout",
       "text": [
        "\n",
        "\t\t[Total] -->\n",
        "\t[Prior] --> 340.009\n",
        "\t[Model] --> 1530.26\n",
        "\t[Obs] --> 127.672"
       ]
      },
      {
       "output_type": "stream",
       "stream": "stdout",
       "text": [
        "\n",
        "\t\t[Total] -->\n",
        "\t[Prior] --> 340.009\n",
        "\t[Model] --> 1530.26\n",
        "\t[Obs] --> 127.672"
       ]
      },
      {
       "output_type": "stream",
       "stream": "stdout",
       "text": [
        "\n",
        "\t\t[Total] -->\n",
        "\t[Prior] --> 3131.35\n",
        "\t[Model] --> 2.21802e+07\n",
        "\t[Obs] --> 35885.8"
       ]
      },
      {
       "output_type": "stream",
       "stream": "stdout",
       "text": [
        "\n",
        "\t\t[Total] -->\n",
        "\t[Prior] --> 340.004\n",
        "\t[Model] --> 1530.17\n",
        "\t[Obs] --> 127.671"
       ]
      },
      {
       "output_type": "stream",
       "stream": "stdout",
       "text": [
        "\n",
        "\t\t[Total] -->\n",
        "\t[Prior] --> 473.9\n",
        "\t[Model] --> 2.2196e+06\n",
        "\t[Obs] --> 9178.53"
       ]
      },
      {
       "output_type": "stream",
       "stream": "stdout",
       "text": [
        "\n",
        "\t\t[Total] -->\n",
        "\t[Prior] --> 339.992\n",
        "\t[Model] --> 1529.98\n",
        "\t[Obs] --> 127.67"
       ]
      },
      {
       "output_type": "stream",
       "stream": "stdout",
       "text": [
        "\n",
        "\t\t[Total] -->\n",
        "\t[Prior] --> 339.897\n",
        "\t[Model] --> 1537.09\n",
        "\t[Obs] --> 127.651"
       ]
      },
      {
       "output_type": "stream",
       "stream": "stdout",
       "text": [
        "\n",
        "\t\t[Total] -->\n",
        "\t[Prior] --> 339.989\n",
        "\t[Model] --> 1530.12\n",
        "\t[Obs] --> 127.669"
       ]
      },
      {
       "output_type": "stream",
       "stream": "stdout",
       "text": [
        "\n",
        "\t\t[Total] -->\n",
        "\t[Prior] --> 339.991\n",
        "\t[Model] --> 1529.99\n",
        "\t[Obs] --> 127.67"
       ]
      },
      {
       "output_type": "stream",
       "stream": "stdout",
       "text": [
        "\n",
        "\t\t[Total] -->\n",
        "\t[Prior] --> 339.992\n",
        "\t[Model] --> 1529.98\n",
        "\t[Obs] --> 127.67"
       ]
      },
      {
       "output_type": "stream",
       "stream": "stdout",
       "text": [
        "\n",
        "\t\t[Total] -->\n",
        "\t[Prior] --> 339.992\n",
        "\t[Model] --> 1529.98\n",
        "\t[Obs] --> 127.67"
       ]
      },
      {
       "output_type": "stream",
       "stream": "stdout",
       "text": [
        "\n",
        "\t\t[Total] -->\n",
        "\t[Prior] --> 339.992\n",
        "\t[Model] --> 1529.98\n",
        "\t[Obs] --> 127.67"
       ]
      },
      {
       "output_type": "stream",
       "stream": "stdout",
       "text": [
        "\n",
        "\t\t[Total] -->\n",
        "\t[Prior] --> 339.992\n",
        "\t[Model] --> 1529.98\n",
        "\t[Obs] --> 127.67"
       ]
      },
      {
       "output_type": "stream",
       "stream": "stdout",
       "text": [
        "\n",
        "\t\t[Total] -->\n",
        "\t[Prior] --> 339.992\n",
        "\t[Model] --> 1529.98\n",
        "\t[Obs] --> 127.67"
       ]
      },
      {
       "output_type": "stream",
       "stream": "stdout",
       "text": [
        "\n",
        "\t\t[Total] -->\n",
        "\t[Prior] --> 339.992\n",
        "\t[Model] --> 1529.98\n",
        "\t[Obs] --> 127.67"
       ]
      },
      {
       "output_type": "stream",
       "stream": "stdout",
       "text": [
        "\n",
        "\t\t[Total] -->\n",
        "\t[Prior] --> 339.992\n",
        "\t[Model] --> 1529.98\n",
        "\t[Obs] --> 127.67"
       ]
      },
      {
       "output_type": "stream",
       "stream": "stdout",
       "text": [
        "\n",
        "\t\t[Total] -->\n",
        "\t[Prior] --> 339.992\n",
        "\t[Model] --> 1529.98\n",
        "\t[Obs] --> 127.67"
       ]
      },
      {
       "output_type": "stream",
       "stream": "stdout",
       "text": [
        "\n",
        "\t\t[Total] -->\n",
        "\t[Prior] --> 339.992\n",
        "\t[Model] --> 1529.98\n",
        "\t[Obs] --> 127.67"
       ]
      },
      {
       "output_type": "stream",
       "stream": "stdout",
       "text": [
        "\n",
        "\t\t[Total] -->\n",
        "\t[Prior] --> 339.992\n",
        "\t[Model] --> 1529.98\n",
        "\t[Obs] --> 127.67"
       ]
      },
      {
       "output_type": "stream",
       "stream": "stdout",
       "text": [
        "\n",
        "\t\t[Total] -->\n",
        "\t[Prior] --> 339.992\n",
        "\t[Model] --> 1529.98\n",
        "\t[Obs] --> 127.67"
       ]
      },
      {
       "output_type": "stream",
       "stream": "stdout",
       "text": [
        "\n",
        "\t\t[Total] -->\n",
        "\t[Prior] --> 339.992\n",
        "\t[Model] --> 1529.98\n",
        "\t[Obs] --> 127.67"
       ]
      },
      {
       "output_type": "stream",
       "stream": "stdout",
       "text": [
        "\n",
        "\t\t[Total] -->\n",
        "\t[Prior] --> 339.992\n",
        "\t[Model] --> 1529.98\n",
        "\t[Obs] --> 127.67"
       ]
      },
      {
       "output_type": "stream",
       "stream": "stdout",
       "text": [
        "\n",
        "\t\t[Total] -->\n",
        "\t[Prior] --> 339.992\n",
        "\t[Model] --> 1529.98\n",
        "\t[Obs] --> 127.67"
       ]
      },
      {
       "output_type": "stream",
       "stream": "stdout",
       "text": [
        "\n",
        "\t\t[Total] -->\n",
        "\t[Prior] --> 339.992\n",
        "\t[Model] --> 1529.98\n",
        "\t[Obs] --> 127.67"
       ]
      },
      {
       "output_type": "stream",
       "stream": "stdout",
       "text": [
        "\n",
        "\t\t[Total] -->\n",
        "\t[Prior] --> 339.992\n",
        "\t[Model] --> 1529.98\n",
        "\t[Obs] --> 127.67"
       ]
      },
      {
       "output_type": "stream",
       "stream": "stdout",
       "text": [
        "\n",
        "\t\t[Total] -->\n",
        "\t[Prior] --> 339.992\n",
        "\t[Model] --> 1529.98\n",
        "\t[Obs] --> 127.67"
       ]
      },
      {
       "output_type": "stream",
       "stream": "stdout",
       "text": [
        "\n",
        "\t\t[Total] -->\n",
        "\t[Prior] --> 3176.58\n",
        "\t[Model] --> 2.39e+07\n",
        "\t[Obs] --> 36397.2"
       ]
      },
      {
       "output_type": "stream",
       "stream": "stdout",
       "text": [
        "\n",
        "\t\t[Total] -->\n",
        "\t[Prior] --> 339.987\n",
        "\t[Model] --> 1529.91\n",
        "\t[Obs] --> 127.669"
       ]
      },
      {
       "output_type": "stream",
       "stream": "stdout",
       "text": [
        "\n",
        "\t\t[Total] -->\n",
        "\t[Prior] --> 472.089\n",
        "\t[Model] --> 2.29316e+06\n",
        "\t[Obs] --> 9350.14"
       ]
      },
      {
       "output_type": "stream",
       "stream": "stdout",
       "text": [
        "\n",
        "\t\t[Total] -->\n",
        "\t[Prior] --> 339.974\n",
        "\t[Model] --> 1529.74\n",
        "\t[Obs] --> 127.667"
       ]
      },
      {
       "output_type": "stream",
       "stream": "stdout",
       "text": [
        "\n",
        "\t\t[Total] -->\n",
        "\t[Prior] --> 339.879\n",
        "\t[Model] --> 1536.92\n",
        "\t[Obs] --> 127.64"
       ]
      },
      {
       "output_type": "stream",
       "stream": "stdout",
       "text": [
        "\n",
        "\t\t[Total] -->\n",
        "\t[Prior] --> 339.971\n",
        "\t[Model] --> 1529.87\n",
        "\t[Obs] --> 127.666"
       ]
      },
      {
       "output_type": "stream",
       "stream": "stdout",
       "text": [
        "\n",
        "\t\t[Total] -->\n",
        "\t[Prior] --> 339.974\n",
        "\t[Model] --> 1529.74\n",
        "\t[Obs] --> 127.667"
       ]
      },
      {
       "output_type": "stream",
       "stream": "stdout",
       "text": [
        "\n",
        "\t\t[Total] -->\n",
        "\t[Prior] --> 339.974\n",
        "\t[Model] --> 1529.74\n",
        "\t[Obs] --> 127.667"
       ]
      },
      {
       "output_type": "stream",
       "stream": "stdout",
       "text": [
        "\n",
        "\t\t[Total] -->\n",
        "\t[Prior] --> 339.974\n",
        "\t[Model] --> 1529.74\n",
        "\t[Obs] --> 127.667"
       ]
      },
      {
       "output_type": "stream",
       "stream": "stdout",
       "text": [
        "\n",
        "\t\t[Total] -->\n",
        "\t[Prior] --> 339.974\n",
        "\t[Model] --> 1529.74\n",
        "\t[Obs] --> 127.667"
       ]
      },
      {
       "output_type": "stream",
       "stream": "stdout",
       "text": [
        "\n",
        "\t\t[Total] -->\n",
        "\t[Prior] --> 339.974\n",
        "\t[Model] --> 1529.74\n",
        "\t[Obs] --> 127.667"
       ]
      },
      {
       "output_type": "stream",
       "stream": "stdout",
       "text": [
        "\n",
        "\t\t[Total] -->\n",
        "\t[Prior] --> 339.974\n",
        "\t[Model] --> 1529.74\n",
        "\t[Obs] --> 127.667"
       ]
      },
      {
       "output_type": "stream",
       "stream": "stdout",
       "text": [
        "\n",
        "\t\t[Total] -->\n",
        "\t[Prior] --> 339.974\n",
        "\t[Model] --> 1529.74\n",
        "\t[Obs] --> 127.667"
       ]
      },
      {
       "output_type": "stream",
       "stream": "stdout",
       "text": [
        "\n",
        "\t\t[Total] -->\n",
        "\t[Prior] --> 339.974\n",
        "\t[Model] --> 1529.74\n",
        "\t[Obs] --> 127.667"
       ]
      },
      {
       "output_type": "stream",
       "stream": "stdout",
       "text": [
        "\n",
        "\t\t[Total] -->\n",
        "\t[Prior] --> 339.974\n",
        "\t[Model] --> 1529.74\n",
        "\t[Obs] --> 127.667"
       ]
      },
      {
       "output_type": "stream",
       "stream": "stdout",
       "text": [
        "\n",
        "\t\t[Total] -->\n",
        "\t[Prior] --> 339.974\n",
        "\t[Model] --> 1529.74\n",
        "\t[Obs] --> 127.667"
       ]
      },
      {
       "output_type": "stream",
       "stream": "stdout",
       "text": [
        "\n",
        "\t\t[Total] -->\n",
        "\t[Prior] --> 339.974\n",
        "\t[Model] --> 1529.74\n",
        "\t[Obs] --> 127.667"
       ]
      },
      {
       "output_type": "stream",
       "stream": "stdout",
       "text": [
        "\n",
        "\t\t[Total] -->\n",
        "\t[Prior] --> 339.974\n",
        "\t[Model] --> 1529.74\n",
        "\t[Obs] --> 127.667"
       ]
      },
      {
       "output_type": "stream",
       "stream": "stdout",
       "text": [
        "\n",
        "\t\t[Total] -->\n",
        "\t[Prior] --> 339.974\n",
        "\t[Model] --> 1529.74\n",
        "\t[Obs] --> 127.667"
       ]
      },
      {
       "output_type": "stream",
       "stream": "stdout",
       "text": [
        "\n",
        "\t\t[Total] -->\n",
        "\t[Prior] --> 339.974\n",
        "\t[Model] --> 1529.74\n",
        "\t[Obs] --> 127.667"
       ]
      },
      {
       "output_type": "stream",
       "stream": "stdout",
       "text": [
        "\n",
        "\t\t[Total] -->\n",
        "\t[Prior] --> 339.974\n",
        "\t[Model] --> 1529.74\n",
        "\t[Obs] --> 127.667"
       ]
      },
      {
       "output_type": "stream",
       "stream": "stdout",
       "text": [
        "\n",
        "\t\t[Total] -->\n",
        "\t[Prior] --> 339.974\n",
        "\t[Model] --> 1529.74\n",
        "\t[Obs] --> 127.667"
       ]
      },
      {
       "output_type": "stream",
       "stream": "stdout",
       "text": [
        "\n",
        "\t\t[Total] -->\n",
        "\t[Prior] --> 339.974\n",
        "\t[Model] --> 1529.74\n",
        "\t[Obs] --> 127.667"
       ]
      },
      {
       "output_type": "stream",
       "stream": "stdout",
       "text": [
        "\n",
        "\t\t[Total] -->\n",
        "\t[Prior] --> 339.974\n",
        "\t[Model] --> 1529.74\n",
        "\t[Obs] --> 127.667"
       ]
      },
      {
       "output_type": "stream",
       "stream": "stdout",
       "text": [
        "\n",
        "\t\t[Total] -->\n",
        "\t[Prior] --> 3087.54\n",
        "\t[Model] --> 2.20357e+07\n",
        "\t[Obs] --> 28281.6"
       ]
      },
      {
       "output_type": "stream",
       "stream": "stdout",
       "text": [
        "\n",
        "\t\t[Total] -->\n",
        "\t[Prior] --> 339.97\n",
        "\t[Model] --> 1529.69\n",
        "\t[Obs] --> 127.667"
       ]
      },
      {
       "output_type": "stream",
       "stream": "stdout",
       "text": [
        "\n",
        "\t\t[Total] -->\n",
        "\t[Prior] --> 483.036\n",
        "\t[Model] --> 2.30057e+06\n",
        "\t[Obs] --> 7357.82"
       ]
      },
      {
       "output_type": "stream",
       "stream": "stdout",
       "text": [
        "\n",
        "\t\t[Total] -->\n",
        "\t[Prior] --> 339.959\n",
        "\t[Model] --> 1529.59\n",
        "\t[Obs] --> 127.669"
       ]
      },
      {
       "output_type": "stream",
       "stream": "stdout",
       "text": [
        "\n",
        "\t\t[Total] -->\n",
        "\t[Prior] --> 339.869\n",
        "\t[Model] --> 1535.76\n",
        "\t[Obs] --> 127.641"
       ]
      },
      {
       "output_type": "stream",
       "stream": "stdout",
       "text": [
        "\n",
        "\t\t[Total] -->\n",
        "\t[Prior] --> 339.956\n",
        "\t[Model] --> 1529.7\n",
        "\t[Obs] --> 127.668"
       ]
      },
      {
       "output_type": "stream",
       "stream": "stdout",
       "text": [
        "\n",
        "\t\t[Total] -->\n",
        "\t[Prior] --> 339.959\n",
        "\t[Model] --> 1529.59\n",
        "\t[Obs] --> 127.669"
       ]
      },
      {
       "output_type": "stream",
       "stream": "stdout",
       "text": [
        "\n",
        "\t\t[Total] -->\n",
        "\t[Prior] --> 339.959\n",
        "\t[Model] --> 1529.59\n",
        "\t[Obs] --> 127.669"
       ]
      },
      {
       "output_type": "stream",
       "stream": "stdout",
       "text": [
        "\n",
        "\t\t[Total] -->\n",
        "\t[Prior] --> 339.959\n",
        "\t[Model] --> 1529.59\n",
        "\t[Obs] --> 127.669"
       ]
      },
      {
       "output_type": "stream",
       "stream": "stdout",
       "text": [
        "\n",
        "\t\t[Total] -->\n",
        "\t[Prior] --> 339.959\n",
        "\t[Model] --> 1529.59\n",
        "\t[Obs] --> 127.669"
       ]
      },
      {
       "output_type": "stream",
       "stream": "stdout",
       "text": [
        "\n",
        "\t\t[Total] -->\n",
        "\t[Prior] --> 339.959\n",
        "\t[Model] --> 1529.59\n",
        "\t[Obs] --> 127.669"
       ]
      },
      {
       "output_type": "stream",
       "stream": "stdout",
       "text": [
        "\n",
        "\t\t[Total] -->\n",
        "\t[Prior] --> 339.959\n",
        "\t[Model] --> 1529.59\n",
        "\t[Obs] --> 127.669"
       ]
      },
      {
       "output_type": "stream",
       "stream": "stdout",
       "text": [
        "\n",
        "\t\t[Total] -->\n",
        "\t[Prior] --> 339.959\n",
        "\t[Model] --> 1529.59\n",
        "\t[Obs] --> 127.669"
       ]
      },
      {
       "output_type": "stream",
       "stream": "stdout",
       "text": [
        "\n",
        "\t\t[Total] -->\n",
        "\t[Prior] --> 339.959\n",
        "\t[Model] --> 1529.59\n",
        "\t[Obs] --> 127.669"
       ]
      },
      {
       "output_type": "stream",
       "stream": "stdout",
       "text": [
        "\n",
        "\t\t[Total] -->\n",
        "\t[Prior] --> 339.959\n",
        "\t[Model] --> 1529.59\n",
        "\t[Obs] --> 127.669"
       ]
      },
      {
       "output_type": "stream",
       "stream": "stdout",
       "text": [
        "\n",
        "\t\t[Total] -->\n",
        "\t[Prior] --> 339.661\n",
        "\t[Model] --> 1561.03\n",
        "\t[Obs] --> 127.658"
       ]
      },
      {
       "output_type": "stream",
       "stream": "stdout",
       "text": [
        "\n",
        "\t\t[Total] -->\n",
        "\t[Prior] --> 339.953\n",
        "\t[Model] --> 1529.74\n",
        "\t[Obs] --> 127.668"
       ]
      },
      {
       "output_type": "stream",
       "stream": "stdout",
       "text": [
        "\n",
        "\t\t[Total] -->\n",
        "\t[Prior] --> 339.959\n",
        "\t[Model] --> 1529.6\n",
        "\t[Obs] --> 127.669"
       ]
      },
      {
       "output_type": "stream",
       "stream": "stdout",
       "text": [
        "\n",
        "\t\t[Total] -->\n",
        "\t[Prior] --> 339.959\n",
        "\t[Model] --> 1529.59\n",
        "\t[Obs] --> 127.669"
       ]
      },
      {
       "output_type": "stream",
       "stream": "stdout",
       "text": [
        "\n",
        "\t\t[Total] -->\n",
        "\t[Prior] --> 339.959\n",
        "\t[Model] --> 1529.59\n",
        "\t[Obs] --> 127.669"
       ]
      },
      {
       "output_type": "stream",
       "stream": "stdout",
       "text": [
        "\n",
        "\t\t[Total] -->\n",
        "\t[Prior] --> 339.959\n",
        "\t[Model] --> 1529.59\n",
        "\t[Obs] --> 127.669"
       ]
      },
      {
       "output_type": "stream",
       "stream": "stdout",
       "text": [
        "\n",
        "\t\t[Total] -->\n",
        "\t[Prior] --> 339.959\n",
        "\t[Model] --> 1529.59\n",
        "\t[Obs] --> 127.669"
       ]
      },
      {
       "output_type": "stream",
       "stream": "stdout",
       "text": [
        "\n",
        "\t\t[Total] -->\n",
        "\t[Prior] --> 339.959\n",
        "\t[Model] --> 1529.59\n",
        "\t[Obs] --> 127.669"
       ]
      },
      {
       "output_type": "stream",
       "stream": "stdout",
       "text": [
        "\n",
        "\t\t[Total] -->\n",
        "\t[Prior] --> 339.959\n",
        "\t[Model] --> 1529.59\n",
        "\t[Obs] --> 127.669"
       ]
      },
      {
       "output_type": "stream",
       "stream": "stdout",
       "text": [
        "\n",
        "\t\t[Total] -->\n",
        "\t[Prior] --> 339.959\n",
        "\t[Model] --> 1529.59\n",
        "\t[Obs] --> 127.669"
       ]
      },
      {
       "output_type": "stream",
       "stream": "stdout",
       "text": [
        "\n",
        "\t\t[Total] -->\n",
        "\t[Prior] --> 339.959\n",
        "\t[Model] --> 1529.59\n",
        "\t[Obs] --> 127.669"
       ]
      },
      {
       "output_type": "stream",
       "stream": "stdout",
       "text": [
        "\n",
        "\t\t[Total] -->\n",
        "\t[Prior] --> 339.959\n",
        "\t[Model] --> 1529.59\n",
        "\t[Obs] --> 127.669"
       ]
      },
      {
       "output_type": "stream",
       "stream": "stdout",
       "text": [
        "\n",
        "\t\t[Total] -->\n",
        "\t[Prior] --> 338.847\n",
        "\t[Model] --> 1859.4\n",
        "\t[Obs] --> 128.119"
       ]
      },
      {
       "output_type": "stream",
       "stream": "stdout",
       "text": [
        "\n",
        "\t\t[Total] -->\n",
        "\t[Prior] --> 339.952\n",
        "\t[Model] --> 1529.71\n",
        "\t[Obs] --> 127.668"
       ]
      },
      {
       "output_type": "stream",
       "stream": "stdout",
       "text": [
        "\n",
        "\t\t[Total] -->\n",
        "\t[Prior] --> 339.958\n",
        "\t[Model] --> 1529.6\n",
        "\t[Obs] --> 127.669"
       ]
      },
      {
       "output_type": "stream",
       "stream": "stdout",
       "text": [
        "\n",
        "\t\t[Total] -->\n",
        "\t[Prior] --> 339.959\n",
        "\t[Model] --> 1529.59\n",
        "\t[Obs] --> 127.669"
       ]
      },
      {
       "output_type": "stream",
       "stream": "stdout",
       "text": [
        "\n",
        "\t\t[Total] -->\n",
        "\t[Prior] --> 339.959\n",
        "\t[Model] --> 1529.59\n",
        "\t[Obs] --> 127.669"
       ]
      },
      {
       "output_type": "stream",
       "stream": "stdout",
       "text": [
        "\n",
        "\t\t[Total] -->\n",
        "\t[Prior] --> 339.959\n",
        "\t[Model] --> 1529.59\n",
        "\t[Obs] --> 127.669"
       ]
      },
      {
       "output_type": "stream",
       "stream": "stdout",
       "text": [
        "\n",
        "\t\t[Total] -->\n",
        "\t[Prior] --> 339.959\n",
        "\t[Model] --> 1529.59\n",
        "\t[Obs] --> 127.669"
       ]
      },
      {
       "output_type": "stream",
       "stream": "stdout",
       "text": [
        "\n",
        "\t\t[Total] -->\n",
        "\t[Prior] --> 339.959\n",
        "\t[Model] --> 1529.59\n",
        "\t[Obs] --> 127.669"
       ]
      },
      {
       "output_type": "stream",
       "stream": "stdout",
       "text": [
        "\n",
        "\t\t[Total] -->\n",
        "\t[Prior] --> 339.959\n",
        "\t[Model] --> 1529.59\n",
        "\t[Obs] --> 127.669"
       ]
      },
      {
       "output_type": "stream",
       "stream": "stdout",
       "text": [
        "\n",
        "\t\t[Total] -->\n",
        "\t[Prior] --> 339.959\n",
        "\t[Model] --> 1529.59\n",
        "\t[Obs] --> 127.669"
       ]
      },
      {
       "output_type": "stream",
       "stream": "stdout",
       "text": [
        "\n",
        "\t\t[Total] -->\n",
        "\t[Prior] --> 339.959\n",
        "\t[Model] --> 1529.59\n",
        "\t[Obs] --> 127.669"
       ]
      },
      {
       "output_type": "stream",
       "stream": "stdout",
       "text": [
        "\n",
        "\t\t[Total] -->\n",
        "\t[Prior] --> 339.959\n",
        "\t[Model] --> 1529.59\n",
        "\t[Obs] --> 127.669"
       ]
      },
      {
       "output_type": "stream",
       "stream": "stdout",
       "text": [
        "\n",
        "\t\t[Total] -->\n",
        "\t[Prior] --> 339.931\n",
        "\t[Model] --> 1530.18\n",
        "\t[Obs] --> 127.666"
       ]
      },
      {
       "output_type": "stream",
       "stream": "stdout",
       "text": [
        "\n",
        "\t\t[Total] -->\n",
        "\t[Prior] --> 339.957\n",
        "\t[Model] --> 1529.61\n",
        "\t[Obs] --> 127.669"
       ]
      },
      {
       "output_type": "stream",
       "stream": "stdout",
       "text": [
        "\n",
        "\t\t[Total] -->\n",
        "\t[Prior] --> 339.959\n",
        "\t[Model] --> 1529.59\n",
        "\t[Obs] --> 127.669"
       ]
      },
      {
       "output_type": "stream",
       "stream": "stdout",
       "text": [
        "\n",
        "\t\t[Total] -->\n",
        "\t[Prior] --> 339.959\n",
        "\t[Model] --> 1529.59\n",
        "\t[Obs] --> 127.669"
       ]
      },
      {
       "output_type": "stream",
       "stream": "stdout",
       "text": [
        "\n",
        "\t\t[Total] -->\n",
        "\t[Prior] --> 339.959\n",
        "\t[Model] --> 1529.59\n",
        "\t[Obs] --> 127.669"
       ]
      },
      {
       "output_type": "stream",
       "stream": "stdout",
       "text": [
        "\n",
        "\t\t[Total] -->\n",
        "\t[Prior] --> 339.959\n",
        "\t[Model] --> 1529.59\n",
        "\t[Obs] --> 127.669"
       ]
      },
      {
       "output_type": "stream",
       "stream": "stdout",
       "text": [
        "\n",
        "\t\t[Total] -->\n",
        "\t[Prior] --> 339.959\n",
        "\t[Model] --> 1529.59\n",
        "\t[Obs] --> 127.669"
       ]
      },
      {
       "output_type": "stream",
       "stream": "stdout",
       "text": [
        "\n",
        "\t\t[Total] -->\n",
        "\t[Prior] --> 339.959\n",
        "\t[Model] --> 1529.59\n",
        "\t[Obs] --> 127.669"
       ]
      },
      {
       "output_type": "stream",
       "stream": "stdout",
       "text": [
        "\n",
        "\t\t[Total] -->\n",
        "\t[Prior] --> 339.959\n",
        "\t[Model] --> 1529.59\n",
        "\t[Obs] --> 127.669"
       ]
      },
      {
       "output_type": "stream",
       "stream": "stdout",
       "text": [
        "\n",
        "\t\t[Total] -->\n",
        "\t[Prior] --> 339.959\n",
        "\t[Model] --> 1529.59\n",
        "\t[Obs] --> 127.669"
       ]
      },
      {
       "output_type": "stream",
       "stream": "stdout",
       "text": [
        "\n",
        "\t\t[Total] -->\n",
        "\t[Prior] --> 339.959\n",
        "\t[Model] --> 1529.59\n",
        "\t[Obs] --> 127.669"
       ]
      },
      {
       "output_type": "stream",
       "stream": "stdout",
       "text": [
        "\n",
        "\t\t[Total] -->\n",
        "\t[Prior] --> 339.959\n",
        "\t[Model] --> 1529.59\n",
        "\t[Obs] --> 127.669"
       ]
      },
      {
       "output_type": "stream",
       "stream": "stdout",
       "text": [
        "\n",
        "\t\t[Total] -->\n",
        "\t[Prior] --> 339.959\n",
        "\t[Model] --> 1529.59\n",
        "\t[Obs] --> 127.669"
       ]
      },
      {
       "output_type": "stream",
       "stream": "stdout",
       "text": [
        "\n",
        "\t\t[Total] -->\n",
        "\t[Prior] --> 339.959\n",
        "\t[Model] --> 1529.59\n",
        "\t[Obs] --> 127.669"
       ]
      },
      {
       "output_type": "stream",
       "stream": "stdout",
       "text": [
        "\n",
        "\t\t[Total] -->\n",
        "\t[Prior] --> 339.959\n",
        "\t[Model] --> 1529.59\n",
        "\t[Obs] --> 127.669"
       ]
      },
      {
       "output_type": "stream",
       "stream": "stdout",
       "text": [
        "\n",
        "\t\t[Total] -->\n",
        "\t[Prior] --> 339.959\n",
        "\t[Model] --> 1529.59\n",
        "\t[Obs] --> 127.669"
       ]
      },
      {
       "output_type": "stream",
       "stream": "stdout",
       "text": [
        "\n",
        "\t\t[Total] -->\n",
        "\t[Prior] --> 339.959\n",
        "\t[Model] --> 1529.59\n",
        "\t[Obs] --> 127.669"
       ]
      },
      {
       "output_type": "stream",
       "stream": "stdout",
       "text": [
        "\n",
        "\t\t[Total] -->\n",
        "\t[Prior] --> 339.959\n",
        "\t[Model] --> 1529.59\n",
        "\t[Obs] --> 127.669"
       ]
      },
      {
       "output_type": "stream",
       "stream": "stdout",
       "text": [
        "\n",
        "\t\t[Total] -->\n",
        "\t[Prior] --> 339.959\n",
        "\t[Model] --> 1529.59\n",
        "\t[Obs] --> 127.669"
       ]
      },
      {
       "output_type": "stream",
       "stream": "stdout",
       "text": [
        "\n",
        "\t\t[Total] -->\n",
        "\t[Prior] --> 339.959\n",
        "\t[Model] --> 1529.59\n",
        "\t[Obs] --> 127.669"
       ]
      },
      {
       "output_type": "stream",
       "stream": "stdout",
       "text": [
        "\n",
        "\t\t[Total] -->\n",
        "\t[Prior] --> 3168.49\n",
        "\t[Model] --> 2.28061e+07\n",
        "\t[Obs] --> 39613"
       ]
      },
      {
       "output_type": "stream",
       "stream": "stdout",
       "text": [
        "\n",
        "\t\t[Total] -->\n",
        "\t[Prior] --> 339.955\n",
        "\t[Model] --> 1529.54\n",
        "\t[Obs] --> 127.668"
       ]
      },
      {
       "output_type": "stream",
       "stream": "stdout",
       "text": [
        "\n",
        "\t\t[Total] -->\n",
        "\t[Prior] --> 488.467\n",
        "\t[Model] --> 2.38742e+06\n",
        "\t[Obs] --> 10678.4"
       ]
      },
      {
       "output_type": "stream",
       "stream": "stdout",
       "text": [
        "\n",
        "\t\t[Total] -->\n",
        "\t[Prior] --> 339.946\n",
        "\t[Model] --> 1529.45\n",
        "\t[Obs] --> 127.665"
       ]
      },
      {
       "output_type": "stream",
       "stream": "stdout",
       "text": [
        "\n",
        "\t\t[Total] -->\n",
        "\t[Prior] --> 339.886\n",
        "\t[Model] --> 1535.69\n",
        "\t[Obs] --> 127.639"
       ]
      },
      {
       "output_type": "stream",
       "stream": "stdout",
       "text": [
        "\n",
        "\t\t[Total] -->\n",
        "\t[Prior] --> 339.945\n",
        "\t[Model] --> 1529.57\n",
        "\t[Obs] --> 127.664"
       ]
      },
      {
       "output_type": "stream",
       "stream": "stdout",
       "text": [
        "\n",
        "\t\t[Total] -->\n",
        "\t[Prior] --> 339.946\n",
        "\t[Model] --> 1529.45\n",
        "\t[Obs] --> 127.665"
       ]
      },
      {
       "output_type": "stream",
       "stream": "stdout",
       "text": [
        "\n",
        "\t\t[Total] -->\n",
        "\t[Prior] --> 339.946\n",
        "\t[Model] --> 1529.45\n",
        "\t[Obs] --> 127.665"
       ]
      },
      {
       "output_type": "stream",
       "stream": "stdout",
       "text": [
        "\n",
        "\t\t[Total] -->\n",
        "\t[Prior] --> 339.946\n",
        "\t[Model] --> 1529.45\n",
        "\t[Obs] --> 127.665"
       ]
      },
      {
       "output_type": "stream",
       "stream": "stdout",
       "text": [
        "\n",
        "\t\t[Total] -->\n",
        "\t[Prior] --> 339.946\n",
        "\t[Model] --> 1529.45\n",
        "\t[Obs] --> 127.665"
       ]
      },
      {
       "output_type": "stream",
       "stream": "stdout",
       "text": [
        "\n",
        "\t\t[Total] -->\n",
        "\t[Prior] --> 339.946\n",
        "\t[Model] --> 1529.45\n",
        "\t[Obs] --> 127.665"
       ]
      },
      {
       "output_type": "stream",
       "stream": "stdout",
       "text": [
        "\n",
        "\t\t[Total] -->\n",
        "\t[Prior] --> 339.946\n",
        "\t[Model] --> 1529.45\n",
        "\t[Obs] --> 127.665"
       ]
      },
      {
       "output_type": "stream",
       "stream": "stdout",
       "text": [
        "\n",
        "\t\t[Total] -->\n",
        "\t[Prior] --> 339.946\n",
        "\t[Model] --> 1529.45\n",
        "\t[Obs] --> 127.665"
       ]
      },
      {
       "output_type": "stream",
       "stream": "stdout",
       "text": [
        "\n",
        "\t\t[Total] -->\n",
        "\t[Prior] --> 339.946\n",
        "\t[Model] --> 1529.45\n",
        "\t[Obs] --> 127.665"
       ]
      },
      {
       "output_type": "stream",
       "stream": "stdout",
       "text": [
        "\n",
        "\t\t[Total] -->\n",
        "\t[Prior] --> 339.946\n",
        "\t[Model] --> 1529.45\n",
        "\t[Obs] --> 127.665"
       ]
      },
      {
       "output_type": "stream",
       "stream": "stdout",
       "text": [
        "\n",
        "\t\t[Total] -->\n",
        "\t[Prior] --> 339.946\n",
        "\t[Model] --> 1529.45\n",
        "\t[Obs] --> 127.665"
       ]
      },
      {
       "output_type": "stream",
       "stream": "stdout",
       "text": [
        "\n",
        "\t\t[Total] -->\n",
        "\t[Prior] --> 339.946\n",
        "\t[Model] --> 1529.45\n",
        "\t[Obs] --> 127.665"
       ]
      },
      {
       "output_type": "stream",
       "stream": "stdout",
       "text": [
        "\n",
        "\t\t[Total] -->\n",
        "\t[Prior] --> 339.946\n",
        "\t[Model] --> 1529.45\n",
        "\t[Obs] --> 127.665"
       ]
      },
      {
       "output_type": "stream",
       "stream": "stdout",
       "text": [
        "\n",
        "\t\t[Total] -->\n",
        "\t[Prior] --> 339.946\n",
        "\t[Model] --> 1529.45\n",
        "\t[Obs] --> 127.665"
       ]
      },
      {
       "output_type": "stream",
       "stream": "stdout",
       "text": [
        "\n",
        "\t\t[Total] -->\n",
        "\t[Prior] --> 339.946\n",
        "\t[Model] --> 1529.45\n",
        "\t[Obs] --> 127.665"
       ]
      },
      {
       "output_type": "stream",
       "stream": "stdout",
       "text": [
        "\n",
        "\t\t[Total] -->\n",
        "\t[Prior] --> 339.946\n",
        "\t[Model] --> 1529.45\n",
        "\t[Obs] --> 127.665"
       ]
      },
      {
       "output_type": "stream",
       "stream": "stdout",
       "text": [
        "\n",
        "\t\t[Total] -->\n",
        "\t[Prior] --> 339.946\n",
        "\t[Model] --> 1529.45\n",
        "\t[Obs] --> 127.665"
       ]
      },
      {
       "output_type": "stream",
       "stream": "stdout",
       "text": [
        "\n",
        "\t\t[Total] -->\n",
        "\t[Prior] --> 339.946\n",
        "\t[Model] --> 1529.45\n",
        "\t[Obs] --> 127.665"
       ]
      },
      {
       "output_type": "stream",
       "stream": "stdout",
       "text": [
        "\n",
        "\t\t[Total] -->\n",
        "\t[Prior] --> 339.946\n",
        "\t[Model] --> 1529.45\n",
        "\t[Obs] --> 127.665"
       ]
      },
      {
       "output_type": "stream",
       "stream": "stdout",
       "text": [
        "\n",
        "\t\t[Total] -->\n",
        "\t[Prior] --> 3173.46\n",
        "\t[Model] --> 2.13255e+07\n",
        "\t[Obs] --> 35022.9"
       ]
      },
      {
       "output_type": "stream",
       "stream": "stdout",
       "text": [
        "\n",
        "\t\t[Total] -->\n",
        "\t[Prior] --> 339.943\n",
        "\t[Model] --> 1529.4\n",
        "\t[Obs] --> 127.665"
       ]
      },
      {
       "output_type": "stream",
       "stream": "stdout",
       "text": [
        "\n",
        "\t\t[Total] -->\n",
        "\t[Prior] --> 495.186\n",
        "\t[Model] --> 2.28482e+06\n",
        "\t[Obs] --> 9137.15"
       ]
      },
      {
       "output_type": "stream",
       "stream": "stdout",
       "text": [
        "\n",
        "\t\t[Total] -->\n",
        "\t[Prior] --> 339.935\n",
        "\t[Model] --> 1529.3\n",
        "\t[Obs] --> 127.667"
       ]
      },
      {
       "output_type": "stream",
       "stream": "stdout",
       "text": [
        "\n",
        "\t\t[Total] -->\n",
        "\t[Prior] --> 339.878\n",
        "\t[Model] --> 1534.79\n",
        "\t[Obs] --> 127.658"
       ]
      },
      {
       "output_type": "stream",
       "stream": "stdout",
       "text": [
        "\n",
        "\t\t[Total] -->\n",
        "\t[Prior] --> 339.933\n",
        "\t[Model] --> 1529.41\n",
        "\t[Obs] --> 127.667"
       ]
      },
      {
       "output_type": "stream",
       "stream": "stdout",
       "text": [
        "\n",
        "\t\t[Total] -->\n",
        "\t[Prior] --> 339.934\n",
        "\t[Model] --> 1529.3\n",
        "\t[Obs] --> 127.667"
       ]
      },
      {
       "output_type": "stream",
       "stream": "stdout",
       "text": [
        "\n",
        "\t\t[Total] -->\n",
        "\t[Prior] --> 339.935\n",
        "\t[Model] --> 1529.3\n",
        "\t[Obs] --> 127.667"
       ]
      },
      {
       "output_type": "stream",
       "stream": "stdout",
       "text": [
        "\n",
        "\t\t[Total] -->\n",
        "\t[Prior] --> 339.935\n",
        "\t[Model] --> 1529.3\n",
        "\t[Obs] --> 127.667"
       ]
      },
      {
       "output_type": "stream",
       "stream": "stdout",
       "text": [
        "\n",
        "\t\t[Total] -->\n",
        "\t[Prior] --> 339.935\n",
        "\t[Model] --> 1529.3\n",
        "\t[Obs] --> 127.667"
       ]
      },
      {
       "output_type": "stream",
       "stream": "stdout",
       "text": [
        "\n",
        "\t\t[Total] -->\n",
        "\t[Prior] --> 339.935\n",
        "\t[Model] --> 1529.3\n",
        "\t[Obs] --> 127.667"
       ]
      },
      {
       "output_type": "stream",
       "stream": "stdout",
       "text": [
        "\n",
        "\t\t[Total] -->\n",
        "\t[Prior] --> 339.935\n",
        "\t[Model] --> 1529.3\n",
        "\t[Obs] --> 127.667"
       ]
      },
      {
       "output_type": "stream",
       "stream": "stdout",
       "text": [
        "\n",
        "\t\t[Total] -->\n",
        "\t[Prior] --> 339.935\n",
        "\t[Model] --> 1529.3\n",
        "\t[Obs] --> 127.667"
       ]
      },
      {
       "output_type": "stream",
       "stream": "stdout",
       "text": [
        "\n",
        "\t\t[Total] -->\n",
        "\t[Prior] --> 339.935\n",
        "\t[Model] --> 1529.3\n",
        "\t[Obs] --> 127.667"
       ]
      },
      {
       "output_type": "stream",
       "stream": "stdout",
       "text": [
        "\n",
        "\t\t[Total] -->\n",
        "\t[Prior] --> 339.935\n",
        "\t[Model] --> 1529.3\n",
        "\t[Obs] --> 127.667"
       ]
      },
      {
       "output_type": "stream",
       "stream": "stdout",
       "text": [
        "\n",
        "\t\t[Total] -->\n",
        "\t[Prior] --> 339.878\n",
        "\t[Model] --> 1534.79\n",
        "\t[Obs] --> 127.658"
       ]
      },
      {
       "output_type": "stream",
       "stream": "stdout",
       "text": [
        "\n",
        "\t\t[Total] -->\n",
        "\t[Prior] --> 339.933\n",
        "\t[Model] --> 1529.41\n",
        "\t[Obs] --> 127.667"
       ]
      },
      {
       "output_type": "stream",
       "stream": "stdout",
       "text": [
        "\n",
        "\t\t[Total] -->\n",
        "\t[Prior] --> 339.934\n",
        "\t[Model] --> 1529.3\n",
        "\t[Obs] --> 127.667"
       ]
      },
      {
       "output_type": "stream",
       "stream": "stdout",
       "text": [
        "\n",
        "\t\t[Total] -->\n",
        "\t[Prior] --> 339.935\n",
        "\t[Model] --> 1529.3\n",
        "\t[Obs] --> 127.667"
       ]
      },
      {
       "output_type": "stream",
       "stream": "stdout",
       "text": [
        "\n",
        "\t\t[Total] -->\n",
        "\t[Prior] --> 339.935\n",
        "\t[Model] --> 1529.3\n",
        "\t[Obs] --> 127.667"
       ]
      },
      {
       "output_type": "stream",
       "stream": "stdout",
       "text": [
        "\n",
        "\t\t[Total] -->\n",
        "\t[Prior] --> 339.935\n",
        "\t[Model] --> 1529.3\n",
        "\t[Obs] --> 127.667"
       ]
      },
      {
       "output_type": "stream",
       "stream": "stdout",
       "text": [
        "\n",
        "\t\t[Total] -->\n",
        "\t[Prior] --> 339.935\n",
        "\t[Model] --> 1529.3\n",
        "\t[Obs] --> 127.667"
       ]
      },
      {
       "output_type": "stream",
       "stream": "stdout",
       "text": [
        "\n",
        "\t\t[Total] -->\n",
        "\t[Prior] --> 339.935\n",
        "\t[Model] --> 1529.3\n",
        "\t[Obs] --> 127.667"
       ]
      },
      {
       "output_type": "stream",
       "stream": "stdout",
       "text": [
        "\n",
        "\t\t[Total] -->\n",
        "\t[Prior] --> 339.935\n",
        "\t[Model] --> 1529.3\n",
        "\t[Obs] --> 127.667"
       ]
      },
      {
       "output_type": "stream",
       "stream": "stdout",
       "text": [
        "\n",
        "\t\t[Total] -->\n",
        "\t[Prior] --> 339.935\n",
        "\t[Model] --> 1529.3\n",
        "\t[Obs] --> 127.667"
       ]
      },
      {
       "output_type": "stream",
       "stream": "stdout",
       "text": [
        "\n",
        "\t\t[Total] -->\n",
        "\t[Prior] --> 339.935\n",
        "\t[Model] --> 1529.3\n",
        "\t[Obs] --> 127.667"
       ]
      },
      {
       "output_type": "stream",
       "stream": "stdout",
       "text": [
        "\n",
        "\t\t[Total] -->\n",
        "\t[Prior] --> 339.935\n",
        "\t[Model] --> 1529.3\n",
        "\t[Obs] --> 127.667"
       ]
      },
      {
       "output_type": "stream",
       "stream": "stdout",
       "text": [
        "\n",
        "\t\t[Total] -->\n",
        "\t[Prior] --> 339.935\n",
        "\t[Model] --> 1529.3\n",
        "\t[Obs] --> 127.667"
       ]
      },
      {
       "output_type": "stream",
       "stream": "stdout",
       "text": [
        "\n",
        "\t\t[Total] -->\n",
        "\t[Prior] --> 339.935\n",
        "\t[Model] --> 1529.3\n",
        "\t[Obs] --> 127.667"
       ]
      },
      {
       "output_type": "stream",
       "stream": "stdout",
       "text": [
        "\n",
        "\t\t[Total] -->\n",
        "\t[Prior] --> 339.935\n",
        "\t[Model] --> 1529.3\n",
        "\t[Obs] --> 127.667"
       ]
      },
      {
       "output_type": "stream",
       "stream": "stdout",
       "text": [
        "\n",
        "\t\t[Total] -->\n",
        "\t[Prior] --> 339.935\n",
        "\t[Model] --> 1529.3\n",
        "\t[Obs] --> 127.667"
       ]
      },
      {
       "output_type": "stream",
       "stream": "stdout",
       "text": [
        "\n",
        "\t\t[Total] -->\n",
        "\t[Prior] --> 339.935\n",
        "\t[Model] --> 1529.3\n",
        "\t[Obs] --> 127.667"
       ]
      },
      {
       "output_type": "stream",
       "stream": "stdout",
       "text": [
        "\n",
        "\t\t[Total] -->\n",
        "\t[Prior] --> 339.935\n",
        "\t[Model] --> 1529.3\n",
        "\t[Obs] --> 127.667"
       ]
      },
      {
       "output_type": "stream",
       "stream": "stdout",
       "text": [
        "\n",
        "\t\t[Total] -->\n",
        "\t[Prior] --> 339.935\n",
        "\t[Model] --> 1529.3\n",
        "\t[Obs] --> 127.667"
       ]
      },
      {
       "output_type": "stream",
       "stream": "stdout",
       "text": [
        "\n",
        "\t\t[Total] -->\n",
        "\t[Prior] --> 339.935\n",
        "\t[Model] --> 1529.3\n",
        "\t[Obs] --> 127.667"
       ]
      },
      {
       "output_type": "stream",
       "stream": "stdout",
       "text": [
        "\n",
        "\t\t[Total] -->\n",
        "\t[Prior] --> 3090.05\n",
        "\t[Model] --> 2.27047e+07\n",
        "\t[Obs] --> 37104.4"
       ]
      },
      {
       "output_type": "stream",
       "stream": "stdout",
       "text": [
        "\n",
        "\t\t[Total] -->\n",
        "\t[Prior] --> 339.932\n",
        "\t[Model] --> 1529.26\n",
        "\t[Obs] --> 127.665"
       ]
      },
      {
       "output_type": "stream",
       "stream": "stdout",
       "text": [
        "\n",
        "\t\t[Total] -->\n",
        "\t[Prior] --> 511.29\n",
        "\t[Model] --> 2.38446e+06\n",
        "\t[Obs] --> 9806.61"
       ]
      },
      {
       "output_type": "stream",
       "stream": "stdout",
       "text": [
        "\n",
        "\t\t[Total] -->\n",
        "\t[Prior] --> 339.927\n",
        "\t[Model] --> 1529.2\n",
        "\t[Obs] --> 127.661"
       ]
      },
      {
       "output_type": "stream",
       "stream": "stdout",
       "text": [
        "\n",
        "\t\t[Total] -->\n",
        "\t[Prior] --> 339.899\n",
        "\t[Model] --> 1534.56\n",
        "\t[Obs] --> 127.63"
       ]
      },
      {
       "output_type": "stream",
       "stream": "stdout",
       "text": [
        "\n",
        "\t\t[Total] -->\n",
        "\t[Prior] --> 339.926\n",
        "\t[Model] --> 1529.31\n",
        "\t[Obs] --> 127.66"
       ]
      },
      {
       "output_type": "stream",
       "stream": "stdout",
       "text": [
        "\n",
        "\t\t[Total] -->\n",
        "\t[Prior] --> 339.926\n",
        "\t[Model] --> 1529.21\n",
        "\t[Obs] --> 127.661"
       ]
      },
      {
       "output_type": "stream",
       "stream": "stdout",
       "text": [
        "\n",
        "\t\t[Total] -->\n",
        "\t[Prior] --> 339.927\n",
        "\t[Model] --> 1529.2\n",
        "\t[Obs] --> 127.661"
       ]
      },
      {
       "output_type": "stream",
       "stream": "stdout",
       "text": [
        "\n",
        "\t\t[Total] -->\n",
        "\t[Prior] --> 339.927\n",
        "\t[Model] --> 1529.2\n",
        "\t[Obs] --> 127.661"
       ]
      },
      {
       "output_type": "stream",
       "stream": "stdout",
       "text": [
        "\n",
        "\t\t[Total] -->\n",
        "\t[Prior] --> 339.927\n",
        "\t[Model] --> 1529.2\n",
        "\t[Obs] --> 127.661"
       ]
      },
      {
       "output_type": "stream",
       "stream": "stdout",
       "text": [
        "\n",
        "\t\t[Total] -->\n",
        "\t[Prior] --> 339.927\n",
        "\t[Model] --> 1529.2\n",
        "\t[Obs] --> 127.661"
       ]
      },
      {
       "output_type": "stream",
       "stream": "stdout",
       "text": [
        "\n",
        "\t\t[Total] -->\n",
        "\t[Prior] --> 339.927\n",
        "\t[Model] --> 1529.2\n",
        "\t[Obs] --> 127.661"
       ]
      },
      {
       "output_type": "stream",
       "stream": "stdout",
       "text": [
        "\n",
        "\t\t[Total] -->\n",
        "\t[Prior] --> 339.927\n",
        "\t[Model] --> 1529.2\n",
        "\t[Obs] --> 127.661"
       ]
      },
      {
       "output_type": "stream",
       "stream": "stdout",
       "text": [
        "\n",
        "\t\t[Total] -->\n",
        "\t[Prior] --> 339.927\n",
        "\t[Model] --> 1529.2\n",
        "\t[Obs] --> 127.661"
       ]
      },
      {
       "output_type": "stream",
       "stream": "stdout",
       "text": [
        "\n",
        "\t\t[Total] -->\n",
        "\t[Prior] --> 339.927\n",
        "\t[Model] --> 1529.2\n",
        "\t[Obs] --> 127.661"
       ]
      },
      {
       "output_type": "stream",
       "stream": "stdout",
       "text": [
        "\n",
        "\t\t[Total] -->\n",
        "\t[Prior] --> 339.927\n",
        "\t[Model] --> 1529.2\n",
        "\t[Obs] --> 127.661"
       ]
      },
      {
       "output_type": "stream",
       "stream": "stdout",
       "text": [
        "\n",
        "\t\t[Total] -->\n",
        "\t[Prior] --> 339.927\n",
        "\t[Model] --> 1529.2\n",
        "\t[Obs] --> 127.661"
       ]
      },
      {
       "output_type": "stream",
       "stream": "stdout",
       "text": [
        "\n",
        "\t\t[Total] -->\n",
        "\t[Prior] --> 339.927\n",
        "\t[Model] --> 1529.2\n",
        "\t[Obs] --> 127.661"
       ]
      },
      {
       "output_type": "stream",
       "stream": "stdout",
       "text": [
        "\n",
        "\t\t[Total] -->\n",
        "\t[Prior] --> 339.927\n",
        "\t[Model] --> 1529.2\n",
        "\t[Obs] --> 127.661"
       ]
      },
      {
       "output_type": "stream",
       "stream": "stdout",
       "text": [
        "\n",
        "\t\t[Total] -->\n",
        "\t[Prior] --> 339.927\n",
        "\t[Model] --> 1529.2\n",
        "\t[Obs] --> 127.661"
       ]
      },
      {
       "output_type": "stream",
       "stream": "stdout",
       "text": [
        "\n",
        "\t\t[Total] -->\n",
        "\t[Prior] --> 339.898\n",
        "\t[Model] --> 1531.36\n",
        "\t[Obs] --> 127.635"
       ]
      },
      {
       "output_type": "stream",
       "stream": "stdout",
       "text": [
        "\n",
        "\t\t[Total] -->\n",
        "\t[Prior] --> 339.925\n",
        "\t[Model] --> 1529.26\n",
        "\t[Obs] --> 127.66"
       ]
      },
      {
       "output_type": "stream",
       "stream": "stdout",
       "text": [
        "\n",
        "\t\t[Total] -->\n",
        "\t[Prior] --> 339.926\n",
        "\t[Model] --> 1529.21\n",
        "\t[Obs] --> 127.661"
       ]
      },
      {
       "output_type": "stream",
       "stream": "stdout",
       "text": [
        "\n",
        "\t\t[Total] -->\n",
        "\t[Prior] --> 339.927\n",
        "\t[Model] --> 1529.2\n",
        "\t[Obs] --> 127.661"
       ]
      },
      {
       "output_type": "stream",
       "stream": "stdout",
       "text": [
        "\n",
        "\t\t[Total] -->\n",
        "\t[Prior] --> 339.927\n",
        "\t[Model] --> 1529.2\n",
        "\t[Obs] --> 127.661"
       ]
      },
      {
       "output_type": "stream",
       "stream": "stdout",
       "text": [
        "\n",
        "\t\t[Total] -->\n",
        "\t[Prior] --> 339.927\n",
        "\t[Model] --> 1529.2\n",
        "\t[Obs] --> 127.661"
       ]
      },
      {
       "output_type": "stream",
       "stream": "stdout",
       "text": [
        "\n",
        "\t\t[Total] -->\n",
        "\t[Prior] --> 339.927\n",
        "\t[Model] --> 1529.2\n",
        "\t[Obs] --> 127.661"
       ]
      },
      {
       "output_type": "stream",
       "stream": "stdout",
       "text": [
        "\n",
        "\t\t[Total] -->\n",
        "\t[Prior] --> 339.927\n",
        "\t[Model] --> 1529.2\n",
        "\t[Obs] --> 127.661"
       ]
      },
      {
       "output_type": "stream",
       "stream": "stdout",
       "text": [
        "\n",
        "\t\t[Total] -->\n",
        "\t[Prior] --> 339.927\n",
        "\t[Model] --> 1529.2\n",
        "\t[Obs] --> 127.661"
       ]
      },
      {
       "output_type": "stream",
       "stream": "stdout",
       "text": [
        "\n",
        "\t\t[Total] -->\n",
        "\t[Prior] --> 339.927\n",
        "\t[Model] --> 1529.2\n",
        "\t[Obs] --> 127.661"
       ]
      },
      {
       "output_type": "stream",
       "stream": "stdout",
       "text": [
        "\n",
        "\t\t[Total] -->\n",
        "\t[Prior] --> 339.927\n",
        "\t[Model] --> 1529.2\n",
        "\t[Obs] --> 127.661"
       ]
      },
      {
       "output_type": "stream",
       "stream": "stdout",
       "text": [
        "\n",
        "\t\t[Total] -->\n",
        "\t[Prior] --> 340.412\n",
        "\t[Model] --> 36919.7\n",
        "\t[Obs] --> 224.095"
       ]
      },
      {
       "output_type": "stream",
       "stream": "stdout",
       "text": [
        "\n",
        "\t\t[Total] -->\n",
        "\t[Prior] --> 339.923\n",
        "\t[Model] --> 1529.4\n",
        "\t[Obs] --> 127.657"
       ]
      },
      {
       "output_type": "stream",
       "stream": "stdout",
       "text": [
        "\n",
        "\t\t[Total] -->\n",
        "\t[Prior] --> 339.926\n",
        "\t[Model] --> 1529.21\n",
        "\t[Obs] --> 127.661"
       ]
      },
      {
       "output_type": "stream",
       "stream": "stdout",
       "text": [
        "\n",
        "\t\t[Total] -->\n",
        "\t[Prior] --> 339.927\n",
        "\t[Model] --> 1529.2\n",
        "\t[Obs] --> 127.661"
       ]
      },
      {
       "output_type": "stream",
       "stream": "stdout",
       "text": [
        "\n",
        "\t\t[Total] -->\n",
        "\t[Prior] --> 339.927\n",
        "\t[Model] --> 1529.2\n",
        "\t[Obs] --> 127.661"
       ]
      },
      {
       "output_type": "stream",
       "stream": "stdout",
       "text": [
        "\n",
        "\t\t[Total] -->\n",
        "\t[Prior] --> 339.927\n",
        "\t[Model] --> 1529.2\n",
        "\t[Obs] --> 127.661"
       ]
      },
      {
       "output_type": "stream",
       "stream": "stdout",
       "text": [
        "\n",
        "\t\t[Total] -->\n",
        "\t[Prior] --> 339.927\n",
        "\t[Model] --> 1529.2\n",
        "\t[Obs] --> 127.661"
       ]
      },
      {
       "output_type": "stream",
       "stream": "stdout",
       "text": [
        "\n",
        "\t\t[Total] -->\n",
        "\t[Prior] --> 339.927\n",
        "\t[Model] --> 1529.2\n",
        "\t[Obs] --> 127.661"
       ]
      },
      {
       "output_type": "stream",
       "stream": "stdout",
       "text": [
        "\n",
        "\t\t[Total] -->\n",
        "\t[Prior] --> 339.927\n",
        "\t[Model] --> 1529.2\n",
        "\t[Obs] --> 127.661"
       ]
      },
      {
       "output_type": "stream",
       "stream": "stdout",
       "text": [
        "\n",
        "\t\t[Total] -->\n",
        "\t[Prior] --> 339.927\n",
        "\t[Model] --> 1529.2\n",
        "\t[Obs] --> 127.661"
       ]
      },
      {
       "output_type": "stream",
       "stream": "stdout",
       "text": [
        "\n",
        "\t\t[Total] -->\n",
        "\t[Prior] --> 339.927\n",
        "\t[Model] --> 1529.2\n",
        "\t[Obs] --> 127.661"
       ]
      },
      {
       "output_type": "stream",
       "stream": "stdout",
       "text": [
        "\n",
        "\t\t[Total] -->\n",
        "\t[Prior] --> 339.927\n",
        "\t[Model] --> 1529.2\n",
        "\t[Obs] --> 127.661"
       ]
      },
      {
       "output_type": "stream",
       "stream": "stdout",
       "text": [
        "\n",
        "\t\t[Total] -->\n",
        "\t[Prior] --> 339.927\n",
        "\t[Model] --> 1529.2\n",
        "\t[Obs] --> 127.661"
       ]
      },
      {
       "output_type": "stream",
       "stream": "stdout",
       "text": [
        "\n",
        "\t\t[Total] -->\n",
        "\t[Prior] --> 339.927\n",
        "\t[Model] --> 1529.2\n",
        "\t[Obs] --> 127.661"
       ]
      },
      {
       "output_type": "stream",
       "stream": "stdout",
       "text": [
        "\n",
        "\t\t[Total] -->\n",
        "\t[Prior] --> 339.927\n",
        "\t[Model] --> 1529.2\n",
        "\t[Obs] --> 127.661"
       ]
      },
      {
       "output_type": "stream",
       "stream": "stdout",
       "text": [
        "\n",
        "\t\t[Total] -->\n",
        "\t[Prior] --> 339.927\n",
        "\t[Model] --> 1529.2\n",
        "\t[Obs] --> 127.661"
       ]
      },
      {
       "output_type": "stream",
       "stream": "stdout",
       "text": [
        "\n",
        "\t\t[Total] -->\n",
        "\t[Prior] --> 339.927\n",
        "\t[Model] --> 1529.2\n",
        "\t[Obs] --> 127.661"
       ]
      },
      {
       "output_type": "stream",
       "stream": "stdout",
       "text": [
        "\n",
        "\t\t[Total] -->\n",
        "\t[Prior] --> 339.927\n",
        "\t[Model] --> 1529.2\n",
        "\t[Obs] --> 127.661"
       ]
      },
      {
       "output_type": "stream",
       "stream": "stdout",
       "text": [
        "\n",
        "\t\t[Total] -->\n",
        "\t[Prior] --> 339.927\n",
        "\t[Model] --> 1529.2\n",
        "\t[Obs] --> 127.661"
       ]
      },
      {
       "output_type": "stream",
       "stream": "stdout",
       "text": [
        "\n",
        "\t\t[Total] -->\n",
        "\t[Prior] --> 339.927\n",
        "\t[Model] --> 1529.2\n",
        "\t[Obs] --> 127.661"
       ]
      },
      {
       "output_type": "stream",
       "stream": "stdout",
       "text": [
        "\n",
        "\t\t[Total] -->\n",
        "\t[Prior] --> 3085.85\n",
        "\t[Model] --> 2.22501e+07\n",
        "\t[Obs] --> 39005.5"
       ]
      },
      {
       "output_type": "stream",
       "stream": "stdout",
       "text": [
        "\n",
        "\t\t[Total] -->\n",
        "\t[Prior] --> 339.924\n",
        "\t[Model] --> 1529.12\n",
        "\t[Obs] --> 127.661"
       ]
      },
      {
       "output_type": "stream",
       "stream": "stdout",
       "text": [
        "\n",
        "\t\t[Total] -->\n",
        "\t[Prior] --> 503.273\n",
        "\t[Model] --> 2.28443e+06\n",
        "\t[Obs] --> 9891.45"
       ]
      },
      {
       "output_type": "stream",
       "stream": "stdout",
       "text": [
        "\n",
        "\t\t[Total] -->\n",
        "\t[Prior] --> 339.917\n",
        "\t[Model] --> 1528.92\n",
        "\t[Obs] --> 127.662"
       ]
      },
      {
       "output_type": "stream",
       "stream": "stdout",
       "text": [
        "\n",
        "\t\t[Total] -->\n",
        "\t[Prior] --> 339.884\n",
        "\t[Model] --> 1533.99\n",
        "\t[Obs] --> 127.643"
       ]
      },
      {
       "output_type": "stream",
       "stream": "stdout",
       "text": [
        "\n",
        "\t\t[Total] -->\n",
        "\t[Prior] --> 339.916\n",
        "\t[Model] --> 1529.02\n",
        "\t[Obs] --> 127.661"
       ]
      },
      {
       "output_type": "stream",
       "stream": "stdout",
       "text": [
        "\n",
        "\t\t[Total] -->\n",
        "\t[Prior] --> 339.917\n",
        "\t[Model] --> 1528.92\n",
        "\t[Obs] --> 127.662"
       ]
      },
      {
       "output_type": "stream",
       "stream": "stdout",
       "text": [
        "\n",
        "\t\t[Total] -->\n",
        "\t[Prior] --> 339.917\n",
        "\t[Model] --> 1528.92\n",
        "\t[Obs] --> 127.662"
       ]
      },
      {
       "output_type": "stream",
       "stream": "stdout",
       "text": [
        "\n",
        "\t\t[Total] -->\n",
        "\t[Prior] --> 339.917\n",
        "\t[Model] --> 1528.92\n",
        "\t[Obs] --> 127.662"
       ]
      },
      {
       "output_type": "stream",
       "stream": "stdout",
       "text": [
        "\n",
        "\t\t[Total] -->\n",
        "\t[Prior] --> 339.917\n",
        "\t[Model] --> 1528.92\n",
        "\t[Obs] --> 127.662"
       ]
      },
      {
       "output_type": "stream",
       "stream": "stdout",
       "text": [
        "\n",
        "\t\t[Total] -->\n",
        "\t[Prior] --> 339.917\n",
        "\t[Model] --> 1528.92\n",
        "\t[Obs] --> 127.662"
       ]
      },
      {
       "output_type": "stream",
       "stream": "stdout",
       "text": [
        "\n",
        "\t\t[Total] -->\n",
        "\t[Prior] --> 339.917\n",
        "\t[Model] --> 1528.92\n",
        "\t[Obs] --> 127.662"
       ]
      },
      {
       "output_type": "stream",
       "stream": "stdout",
       "text": [
        "\n",
        "\t\t[Total] -->\n",
        "\t[Prior] --> 339.917\n",
        "\t[Model] --> 1528.92\n",
        "\t[Obs] --> 127.662"
       ]
      },
      {
       "output_type": "stream",
       "stream": "stdout",
       "text": [
        "\n",
        "\t\t[Total] -->\n",
        "\t[Prior] --> 339.917\n",
        "\t[Model] --> 1528.92\n",
        "\t[Obs] --> 127.662"
       ]
      },
      {
       "output_type": "stream",
       "stream": "stdout",
       "text": [
        "\n",
        "\t\t[Total] -->\n",
        "\t[Prior] --> 339.917\n",
        "\t[Model] --> 1528.92\n",
        "\t[Obs] --> 127.662"
       ]
      },
      {
       "output_type": "stream",
       "stream": "stdout",
       "text": [
        "\n",
        "\t\t[Total] -->\n",
        "\t[Prior] --> 339.917\n",
        "\t[Model] --> 1528.92\n",
        "\t[Obs] --> 127.662"
       ]
      },
      {
       "output_type": "stream",
       "stream": "stdout",
       "text": [
        "\n",
        "\t\t[Total] -->\n",
        "\t[Prior] --> 339.917\n",
        "\t[Model] --> 1528.92\n",
        "\t[Obs] --> 127.662"
       ]
      },
      {
       "output_type": "stream",
       "stream": "stdout",
       "text": [
        "\n",
        "\t\t[Total] -->\n",
        "\t[Prior] --> 339.917\n",
        "\t[Model] --> 1528.92\n",
        "\t[Obs] --> 127.662"
       ]
      },
      {
       "output_type": "stream",
       "stream": "stdout",
       "text": [
        "\n",
        "\t\t[Total] -->\n",
        "\t[Prior] --> 339.917\n",
        "\t[Model] --> 1528.92\n",
        "\t[Obs] --> 127.662"
       ]
      },
      {
       "output_type": "stream",
       "stream": "stdout",
       "text": [
        "\n",
        "\t\t[Total] -->\n",
        "\t[Prior] --> 339.917\n",
        "\t[Model] --> 1528.92\n",
        "\t[Obs] --> 127.662"
       ]
      },
      {
       "output_type": "stream",
       "stream": "stdout",
       "text": [
        "\n",
        "\t\t[Total] -->\n",
        "\t[Prior] --> 339.917\n",
        "\t[Model] --> 1528.92\n",
        "\t[Obs] --> 127.662"
       ]
      },
      {
       "output_type": "stream",
       "stream": "stdout",
       "text": [
        "\n",
        "\t\t[Total] -->\n",
        "\t[Prior] --> 339.917\n",
        "\t[Model] --> 1528.92\n",
        "\t[Obs] --> 127.662"
       ]
      },
      {
       "output_type": "stream",
       "stream": "stdout",
       "text": [
        "\n",
        "\t\t[Total] -->\n",
        "\t[Prior] --> 339.917\n",
        "\t[Model] --> 1528.92\n",
        "\t[Obs] --> 127.662"
       ]
      },
      {
       "output_type": "stream",
       "stream": "stdout",
       "text": [
        "\n",
        "\t\t[Total] -->\n",
        "\t[Prior] --> 339.917\n",
        "\t[Model] --> 1528.92\n",
        "\t[Obs] --> 127.662"
       ]
      },
      {
       "output_type": "stream",
       "stream": "stdout",
       "text": [
        "\n",
        "\t\t[Total] -->\n",
        "\t[Prior] --> 3105.42\n",
        "\t[Model] --> 1.9939e+07\n",
        "\t[Obs] --> 26224.3"
       ]
      },
      {
       "output_type": "stream",
       "stream": "stdout",
       "text": [
        "\n",
        "\t\t[Total] -->\n",
        "\t[Prior] --> 339.915\n",
        "\t[Model] --> 1528.88\n",
        "\t[Obs] --> 127.661"
       ]
      },
      {
       "output_type": "stream",
       "stream": "stdout",
       "text": [
        "\n",
        "\t\t[Total] -->\n",
        "\t[Prior] --> 511.391\n",
        "\t[Model] --> 1.94564e+06\n",
        "\t[Obs] --> 7036.52"
       ]
      },
      {
       "output_type": "stream",
       "stream": "stdout",
       "text": [
        "\n",
        "\t\t[Total] -->\n",
        "\t[Prior] --> 339.908\n",
        "\t[Model] --> 1528.83\n",
        "\t[Obs] --> 127.661"
       ]
      },
      {
       "output_type": "stream",
       "stream": "stdout",
       "text": [
        "\n",
        "\t\t[Total] -->\n",
        "\t[Prior] --> 339.864\n",
        "\t[Model] --> 1534.34\n",
        "\t[Obs] --> 127.644"
       ]
      },
      {
       "output_type": "stream",
       "stream": "stdout",
       "text": [
        "\n",
        "\t\t[Total] -->\n",
        "\t[Prior] --> 339.907\n",
        "\t[Model] --> 1528.94\n",
        "\t[Obs] --> 127.66"
       ]
      },
      {
       "output_type": "stream",
       "stream": "stdout",
       "text": [
        "\n",
        "\t\t[Total] -->\n",
        "\t[Prior] --> 339.908\n",
        "\t[Model] --> 1528.83\n",
        "\t[Obs] --> 127.661"
       ]
      },
      {
       "output_type": "stream",
       "stream": "stdout",
       "text": [
        "\n",
        "\t\t[Total] -->\n",
        "\t[Prior] --> 339.908\n",
        "\t[Model] --> 1528.83\n",
        "\t[Obs] --> 127.661"
       ]
      },
      {
       "output_type": "stream",
       "stream": "stdout",
       "text": [
        "\n",
        "\t\t[Total] -->\n",
        "\t[Prior] --> 339.908\n",
        "\t[Model] --> 1528.83\n",
        "\t[Obs] --> 127.661"
       ]
      },
      {
       "output_type": "stream",
       "stream": "stdout",
       "text": [
        "\n",
        "\t\t[Total] -->\n",
        "\t[Prior] --> 339.908\n",
        "\t[Model] --> 1528.83\n",
        "\t[Obs] --> 127.661"
       ]
      },
      {
       "output_type": "stream",
       "stream": "stdout",
       "text": [
        "\n",
        "\t\t[Total] -->\n",
        "\t[Prior] --> 339.908\n",
        "\t[Model] --> 1528.83\n",
        "\t[Obs] --> 127.661"
       ]
      },
      {
       "output_type": "stream",
       "stream": "stdout",
       "text": [
        "\n",
        "\t\t[Total] -->\n",
        "\t[Prior] --> 339.908\n",
        "\t[Model] --> 1528.83\n",
        "\t[Obs] --> 127.661"
       ]
      },
      {
       "output_type": "stream",
       "stream": "stdout",
       "text": [
        "\n",
        "\t\t[Total] -->\n",
        "\t[Prior] --> 339.908\n",
        "\t[Model] --> 1528.83\n",
        "\t[Obs] --> 127.661"
       ]
      },
      {
       "output_type": "stream",
       "stream": "stdout",
       "text": [
        "\n",
        "\t\t[Total] -->\n",
        "\t[Prior] --> 339.908\n",
        "\t[Model] --> 1528.83\n",
        "\t[Obs] --> 127.661"
       ]
      },
      {
       "output_type": "stream",
       "stream": "stdout",
       "text": [
        "\n",
        "\t\t[Total] -->\n",
        "\t[Prior] --> 339.908\n",
        "\t[Model] --> 1528.83\n",
        "\t[Obs] --> 127.661"
       ]
      },
      {
       "output_type": "stream",
       "stream": "stdout",
       "text": [
        "\n",
        "\t\t[Total] -->\n",
        "\t[Prior] --> 339.908\n",
        "\t[Model] --> 1528.83\n",
        "\t[Obs] --> 127.661"
       ]
      },
      {
       "output_type": "stream",
       "stream": "stdout",
       "text": [
        "\n",
        "\t\t[Total] -->\n",
        "\t[Prior] --> 339.908\n",
        "\t[Model] --> 1528.83\n",
        "\t[Obs] --> 127.661"
       ]
      },
      {
       "output_type": "stream",
       "stream": "stdout",
       "text": [
        "\n",
        "\t\t[Total] -->\n",
        "\t[Prior] --> 339.908\n",
        "\t[Model] --> 1528.83\n",
        "\t[Obs] --> 127.661"
       ]
      },
      {
       "output_type": "stream",
       "stream": "stdout",
       "text": [
        "\n",
        "\t\t[Total] -->\n",
        "\t[Prior] --> 339.864\n",
        "\t[Model] --> 1534.34\n",
        "\t[Obs] --> 127.644"
       ]
      },
      {
       "output_type": "stream",
       "stream": "stdout",
       "text": [
        "\n",
        "\t\t[Total] -->\n",
        "\t[Prior] --> 339.907\n",
        "\t[Model] --> 1528.94\n",
        "\t[Obs] --> 127.66"
       ]
      },
      {
       "output_type": "stream",
       "stream": "stdout",
       "text": [
        "\n",
        "\t\t[Total] -->\n",
        "\t[Prior] --> 339.908\n",
        "\t[Model] --> 1528.83\n",
        "\t[Obs] --> 127.661"
       ]
      },
      {
       "output_type": "stream",
       "stream": "stdout",
       "text": [
        "\n",
        "\t\t[Total] -->\n",
        "\t[Prior] --> 339.908\n",
        "\t[Model] --> 1528.83\n",
        "\t[Obs] --> 127.661"
       ]
      },
      {
       "output_type": "stream",
       "stream": "stdout",
       "text": [
        "\n",
        "\t\t[Total] -->\n",
        "\t[Prior] --> 339.908\n",
        "\t[Model] --> 1528.83\n",
        "\t[Obs] --> 127.661"
       ]
      },
      {
       "output_type": "stream",
       "stream": "stdout",
       "text": [
        "\n",
        "\t\t[Total] -->\n",
        "\t[Prior] --> 339.908\n",
        "\t[Model] --> 1528.83\n",
        "\t[Obs] --> 127.661"
       ]
      },
      {
       "output_type": "stream",
       "stream": "stdout",
       "text": [
        "\n",
        "\t\t[Total] -->\n",
        "\t[Prior] --> 339.908\n",
        "\t[Model] --> 1528.83\n",
        "\t[Obs] --> 127.661"
       ]
      },
      {
       "output_type": "stream",
       "stream": "stdout",
       "text": [
        "\n",
        "\t\t[Total] -->\n",
        "\t[Prior] --> 339.908\n",
        "\t[Model] --> 1528.83\n",
        "\t[Obs] --> 127.661"
       ]
      },
      {
       "output_type": "stream",
       "stream": "stdout",
       "text": [
        "\n",
        "\t\t[Total] -->\n",
        "\t[Prior] --> 339.908\n",
        "\t[Model] --> 1528.83\n",
        "\t[Obs] --> 127.661"
       ]
      },
      {
       "output_type": "stream",
       "stream": "stdout",
       "text": [
        "\n",
        "\t\t[Total] -->\n",
        "\t[Prior] --> 339.908\n",
        "\t[Model] --> 1528.83\n",
        "\t[Obs] --> 127.661"
       ]
      },
      {
       "output_type": "stream",
       "stream": "stdout",
       "text": [
        "\n",
        "\t\t[Total] -->\n",
        "\t[Prior] --> 339.908\n",
        "\t[Model] --> 1528.83\n",
        "\t[Obs] --> 127.661"
       ]
      },
      {
       "output_type": "stream",
       "stream": "stdout",
       "text": [
        "\n",
        "\t\t[Total] -->\n",
        "\t[Prior] --> 339.908\n",
        "\t[Model] --> 1528.83\n",
        "\t[Obs] --> 127.661"
       ]
      },
      {
       "output_type": "stream",
       "stream": "stdout",
       "text": [
        "\n",
        "\t\t[Total] -->\n",
        "\t[Prior] --> 339.908\n",
        "\t[Model] --> 1528.83\n",
        "\t[Obs] --> 127.661"
       ]
      },
      {
       "output_type": "stream",
       "stream": "stdout",
       "text": [
        "\n",
        "\t\t[Total] -->\n",
        "\t[Prior] --> 339.908\n",
        "\t[Model] --> 1528.83\n",
        "\t[Obs] --> 127.661"
       ]
      },
      {
       "output_type": "stream",
       "stream": "stdout",
       "text": [
        "\n",
        "\t\t[Total] -->\n",
        "\t[Prior] --> 339.908\n",
        "\t[Model] --> 1528.83\n",
        "\t[Obs] --> 127.661"
       ]
      },
      {
       "output_type": "stream",
       "stream": "stdout",
       "text": [
        "\n",
        "\t\t[Total] -->\n",
        "\t[Prior] --> 339.908\n",
        "\t[Model] --> 1528.83\n",
        "\t[Obs] --> 127.661"
       ]
      },
      {
       "output_type": "stream",
       "stream": "stdout",
       "text": [
        "\n",
        "\t\t[Total] -->\n",
        "\t[Prior] --> 339.908\n",
        "\t[Model] --> 1528.83\n",
        "\t[Obs] --> 127.661"
       ]
      },
      {
       "output_type": "stream",
       "stream": "stdout",
       "text": [
        "\n",
        "\t\t[Total] -->\n",
        "\t[Prior] --> 339.908\n",
        "\t[Model] --> 1528.83\n",
        "\t[Obs] --> 127.661"
       ]
      },
      {
       "output_type": "stream",
       "stream": "stdout",
       "text": [
        "\n",
        "\t\t[Total] -->\n",
        "\t[Prior] --> 339.908\n",
        "\t[Model] --> 1528.83\n",
        "\t[Obs] --> 127.661"
       ]
      },
      {
       "output_type": "stream",
       "stream": "stdout",
       "text": [
        "\n",
        "\t\t[Total] -->\n",
        "\t[Prior] --> 339.908\n",
        "\t[Model] --> 1528.83\n",
        "\t[Obs] --> 127.661"
       ]
      },
      {
       "output_type": "stream",
       "stream": "stdout",
       "text": [
        "\n",
        "\t\t[Total] -->\n",
        "\t[Prior] --> 3159.68\n",
        "\t[Model] --> 2.20108e+07\n",
        "\t[Obs] --> 54065.9"
       ]
      },
      {
       "output_type": "stream",
       "stream": "stdout",
       "text": [
        "\n",
        "\t\t[Total] -->\n",
        "\t[Prior] --> 339.906\n",
        "\t[Model] --> 1528.83\n",
        "\t[Obs] --> 127.66"
       ]
      },
      {
       "output_type": "stream",
       "stream": "stdout",
       "text": [
        "\n",
        "\t\t[Total] -->\n",
        "\t[Prior] --> 503.879\n",
        "\t[Model] --> 2.07056e+06\n",
        "\t[Obs] --> 13419.2"
       ]
      },
      {
       "output_type": "stream",
       "stream": "stdout",
       "text": [
        "\n",
        "\t\t[Total] -->\n",
        "\t[Prior] --> 339.898\n",
        "\t[Model] --> 1528.87\n",
        "\t[Obs] --> 127.657"
       ]
      },
      {
       "output_type": "stream",
       "stream": "stdout",
       "text": [
        "\n",
        "\t\t[Total] -->\n",
        "\t[Prior] --> 339.905\n",
        "\t[Model] --> 1528.83\n",
        "\t[Obs] --> 127.66"
       ]
      },
      {
       "output_type": "stream",
       "stream": "stdout",
       "text": [
        "\n",
        "\t\t[Total] -->\n",
        "\t[Prior] --> 339.906\n",
        "\t[Model] --> 1528.83\n",
        "\t[Obs] --> 127.66"
       ]
      },
      {
       "output_type": "stream",
       "stream": "stdout",
       "text": [
        "\n",
        "\t\t[Total] -->\n",
        "\t[Prior] --> 339.906\n",
        "\t[Model] --> 1528.83\n",
        "\t[Obs] --> 127.66"
       ]
      },
      {
       "output_type": "stream",
       "stream": "stdout",
       "text": [
        "\n",
        "\t\t[Total] -->\n",
        "\t[Prior] --> 339.867\n",
        "\t[Model] --> 1534.4\n",
        "\t[Obs] --> 127.633"
       ]
      },
      {
       "output_type": "stream",
       "stream": "stdout",
       "text": [
        "\n",
        "\t\t[Total] -->\n",
        "\t[Prior] --> 339.905\n",
        "\t[Model] --> 1528.95\n",
        "\t[Obs] --> 127.659"
       ]
      },
      {
       "output_type": "stream",
       "stream": "stdout",
       "text": [
        "\n",
        "\t\t[Total] -->\n",
        "\t[Prior] --> 339.906\n",
        "\t[Model] --> 1528.84\n",
        "\t[Obs] --> 127.66"
       ]
      },
      {
       "output_type": "stream",
       "stream": "stdout",
       "text": [
        "\n",
        "\t\t[Total] -->\n",
        "\t[Prior] --> 339.906\n",
        "\t[Model] --> 1528.83\n",
        "\t[Obs] --> 127.66"
       ]
      },
      {
       "output_type": "stream",
       "stream": "stdout",
       "text": [
        "\n",
        "\t\t[Total] -->\n",
        "\t[Prior] --> 339.906\n",
        "\t[Model] --> 1528.83\n",
        "\t[Obs] --> 127.66"
       ]
      },
      {
       "output_type": "stream",
       "stream": "stdout",
       "text": [
        "\n",
        "\t\t[Total] -->\n",
        "\t[Prior] --> 339.906\n",
        "\t[Model] --> 1528.83\n",
        "\t[Obs] --> 127.66"
       ]
      },
      {
       "output_type": "stream",
       "stream": "stdout",
       "text": [
        "\n",
        "\t\t[Total] -->\n",
        "\t[Prior] --> 339.906\n",
        "\t[Model] --> 1528.83\n",
        "\t[Obs] --> 127.66"
       ]
      },
      {
       "output_type": "stream",
       "stream": "stdout",
       "text": [
        "\n",
        "\t\t[Total] -->\n",
        "\t[Prior] --> 339.906\n",
        "\t[Model] --> 1528.83\n",
        "\t[Obs] --> 127.66"
       ]
      },
      {
       "output_type": "stream",
       "stream": "stdout",
       "text": [
        "\n",
        "\t\t[Total] -->\n",
        "\t[Prior] --> 339.906\n",
        "\t[Model] --> 1528.83\n",
        "\t[Obs] --> 127.66"
       ]
      },
      {
       "output_type": "stream",
       "stream": "stdout",
       "text": [
        "\n",
        "\t\t[Total] -->\n",
        "\t[Prior] --> 339.906\n",
        "\t[Model] --> 1528.83\n",
        "\t[Obs] --> 127.66"
       ]
      },
      {
       "output_type": "stream",
       "stream": "stdout",
       "text": [
        "\n",
        "\t\t[Total] -->\n",
        "\t[Prior] --> 339.906\n",
        "\t[Model] --> 1528.83\n",
        "\t[Obs] --> 127.66"
       ]
      },
      {
       "output_type": "stream",
       "stream": "stdout",
       "text": [
        "\n",
        "\t\t[Total] -->\n",
        "\t[Prior] --> 339.896\n",
        "\t[Model] --> 1547.11\n",
        "\t[Obs] --> 127.646"
       ]
      },
      {
       "output_type": "stream",
       "stream": "stdout",
       "text": [
        "\n",
        "\t\t[Total] -->\n",
        "\t[Prior] --> 339.906\n",
        "\t[Model] --> 1529.06\n",
        "\t[Obs] --> 127.659"
       ]
      },
      {
       "output_type": "stream",
       "stream": "stdout",
       "text": [
        "\n",
        "\t\t[Total] -->\n",
        "\t[Prior] --> 339.906\n",
        "\t[Model] --> 1528.84\n",
        "\t[Obs] --> 127.66"
       ]
      },
      {
       "output_type": "stream",
       "stream": "stdout",
       "text": [
        "\n",
        "\t\t[Total] -->\n",
        "\t[Prior] --> 339.906\n",
        "\t[Model] --> 1528.83\n",
        "\t[Obs] --> 127.66"
       ]
      },
      {
       "output_type": "stream",
       "stream": "stdout",
       "text": [
        "\n",
        "\t\t[Total] -->\n",
        "\t[Prior] --> 339.906\n",
        "\t[Model] --> 1528.83\n",
        "\t[Obs] --> 127.66"
       ]
      },
      {
       "output_type": "stream",
       "stream": "stdout",
       "text": [
        "\n",
        "\t\t[Total] -->\n",
        "\t[Prior] --> 339.906\n",
        "\t[Model] --> 1528.83\n",
        "\t[Obs] --> 127.66"
       ]
      },
      {
       "output_type": "stream",
       "stream": "stdout",
       "text": [
        "\n",
        "\t\t[Total] -->\n",
        "\t[Prior] --> 339.906\n",
        "\t[Model] --> 1528.83\n",
        "\t[Obs] --> 127.66"
       ]
      },
      {
       "output_type": "stream",
       "stream": "stdout",
       "text": [
        "\n",
        "\t\t[Total] -->\n",
        "\t[Prior] --> 339.906\n",
        "\t[Model] --> 1528.83\n",
        "\t[Obs] --> 127.66"
       ]
      },
      {
       "output_type": "stream",
       "stream": "stdout",
       "text": [
        "\n",
        "\t\t[Total] -->\n",
        "\t[Prior] --> 339.906\n",
        "\t[Model] --> 1528.83\n",
        "\t[Obs] --> 127.66"
       ]
      },
      {
       "output_type": "stream",
       "stream": "stdout",
       "text": [
        "\n",
        "\t\t[Total] -->\n",
        "\t[Prior] --> 339.906\n",
        "\t[Model] --> 1528.83\n",
        "\t[Obs] --> 127.66"
       ]
      },
      {
       "output_type": "stream",
       "stream": "stdout",
       "text": [
        "\n",
        "\t\t[Total] -->\n",
        "\t[Prior] --> 339.818\n",
        "\t[Model] --> 1541.99\n",
        "\t[Obs] --> 127.619"
       ]
      },
      {
       "output_type": "stream",
       "stream": "stdout",
       "text": [
        "\n",
        "\t\t[Total] -->\n",
        "\t[Prior] --> 339.904\n",
        "\t[Model] --> 1528.99\n",
        "\t[Obs] --> 127.658"
       ]
      },
      {
       "output_type": "stream",
       "stream": "stdout",
       "text": [
        "\n",
        "\t\t[Total] -->\n",
        "\t[Prior] --> 339.906\n",
        "\t[Model] --> 1528.84\n",
        "\t[Obs] --> 127.66"
       ]
      },
      {
       "output_type": "stream",
       "stream": "stdout",
       "text": [
        "\n",
        "\t\t[Total] -->\n",
        "\t[Prior] --> 339.906\n",
        "\t[Model] --> 1528.83\n",
        "\t[Obs] --> 127.66"
       ]
      },
      {
       "output_type": "stream",
       "stream": "stdout",
       "text": [
        "\n",
        "\t\t[Total] -->\n",
        "\t[Prior] --> 339.906\n",
        "\t[Model] --> 1528.83\n",
        "\t[Obs] --> 127.66"
       ]
      },
      {
       "output_type": "stream",
       "stream": "stdout",
       "text": [
        "\n",
        "\t\t[Total] -->\n",
        "\t[Prior] --> 339.906\n",
        "\t[Model] --> 1528.83\n",
        "\t[Obs] --> 127.66"
       ]
      },
      {
       "output_type": "stream",
       "stream": "stdout",
       "text": [
        "\n",
        "\t\t[Total] -->\n",
        "\t[Prior] --> 339.906\n",
        "\t[Model] --> 1528.83\n",
        "\t[Obs] --> 127.66"
       ]
      },
      {
       "output_type": "stream",
       "stream": "stdout",
       "text": [
        "\n",
        "\t\t[Total] -->\n",
        "\t[Prior] --> 339.906\n",
        "\t[Model] --> 1528.83\n",
        "\t[Obs] --> 127.66"
       ]
      },
      {
       "output_type": "stream",
       "stream": "stdout",
       "text": [
        "\n",
        "\t\t[Total] -->\n",
        "\t[Prior] --> 339.906\n",
        "\t[Model] --> 1528.83\n",
        "\t[Obs] --> 127.66"
       ]
      },
      {
       "output_type": "stream",
       "stream": "stdout",
       "text": [
        "\n",
        "\t\t[Total] -->\n",
        "\t[Prior] --> 339.906\n",
        "\t[Model] --> 1528.83\n",
        "\t[Obs] --> 127.66"
       ]
      },
      {
       "output_type": "stream",
       "stream": "stdout",
       "text": [
        "\n",
        "\t\t[Total] -->\n",
        "\t[Prior] --> 339.906\n",
        "\t[Model] --> 1528.83\n",
        "\t[Obs] --> 127.66"
       ]
      },
      {
       "output_type": "stream",
       "stream": "stdout",
       "text": [
        "\n",
        "\t\t[Total] -->\n",
        "\t[Prior] --> 339.906\n",
        "\t[Model] --> 1528.83\n",
        "\t[Obs] --> 127.66"
       ]
      },
      {
       "output_type": "stream",
       "stream": "stdout",
       "text": [
        "\n",
        "\t\t[Total] -->\n",
        "\t[Prior] --> 339.906\n",
        "\t[Model] --> 1528.83\n",
        "\t[Obs] --> 127.66"
       ]
      },
      {
       "output_type": "stream",
       "stream": "stdout",
       "text": [
        "\n",
        "\t\t[Total] -->\n",
        "\t[Prior] --> 339.906\n",
        "\t[Model] --> 1528.83\n",
        "\t[Obs] --> 127.66"
       ]
      },
      {
       "output_type": "stream",
       "stream": "stdout",
       "text": [
        "\n",
        "\t\t[Total] -->\n",
        "\t[Prior] --> 339.906\n",
        "\t[Model] --> 1528.83\n",
        "\t[Obs] --> 127.66"
       ]
      },
      {
       "output_type": "stream",
       "stream": "stdout",
       "text": [
        "\n",
        "\t\t[Total] -->\n",
        "\t[Prior] --> 339.906\n",
        "\t[Model] --> 1528.83\n",
        "\t[Obs] --> 127.66"
       ]
      },
      {
       "output_type": "stream",
       "stream": "stdout",
       "text": [
        "\n",
        "\t\t[Total] -->\n",
        "\t[Prior] --> 339.906\n",
        "\t[Model] --> 1528.83\n",
        "\t[Obs] --> 127.66"
       ]
      },
      {
       "output_type": "stream",
       "stream": "stdout",
       "text": [
        "\n",
        "\t\t[Total] -->\n",
        "\t[Prior] --> 339.906\n",
        "\t[Model] --> 1528.83\n",
        "\t[Obs] --> 127.66"
       ]
      },
      {
       "output_type": "stream",
       "stream": "stdout",
       "text": [
        "\n",
        "\t\t[Total] -->\n",
        "\t[Prior] --> 339.906\n",
        "\t[Model] --> 1528.83\n",
        "\t[Obs] --> 127.66"
       ]
      },
      {
       "output_type": "stream",
       "stream": "stdout",
       "text": [
        "\n",
        "\t\t[Total] -->\n",
        "\t[Prior] --> 339.906\n",
        "\t[Model] --> 1528.83\n",
        "\t[Obs] --> 127.66"
       ]
      },
      {
       "output_type": "stream",
       "stream": "stdout",
       "text": [
        "\n",
        "\t\t[Total] -->\n",
        "\t[Prior] --> 2786.57\n",
        "\t[Model] --> 1.3708e+07\n",
        "\t[Obs] --> 34899.1"
       ]
      },
      {
       "output_type": "stream",
       "stream": "stdout",
       "text": [
        "\n",
        "\t\t[Total] -->\n",
        "\t[Prior] --> 339.901\n",
        "\t[Model] --> 1528.77\n",
        "\t[Obs] --> 127.66"
       ]
      },
      {
       "output_type": "stream",
       "stream": "stdout",
       "text": [
        "\n",
        "\t\t[Total] -->\n",
        "\t[Prior] --> 485.326\n",
        "\t[Model] --> 1.37476e+06\n",
        "\t[Obs] --> 9161.89"
       ]
      },
      {
       "output_type": "stream",
       "stream": "stdout",
       "text": [
        "\n",
        "\t\t[Total] -->\n",
        "\t[Prior] --> 339.888\n",
        "\t[Model] --> 1528.64\n",
        "\t[Obs] --> 127.66"
       ]
      },
      {
       "output_type": "stream",
       "stream": "stdout",
       "text": [
        "\n",
        "\t\t[Total] -->\n",
        "\t[Prior] --> 339.795\n",
        "\t[Model] --> 1533.12\n",
        "\t[Obs] --> 127.653"
       ]
      },
      {
       "output_type": "stream",
       "stream": "stdout",
       "text": [
        "\n",
        "\t\t[Total] -->\n",
        "\t[Prior] --> 339.884\n",
        "\t[Model] --> 1528.74\n",
        "\t[Obs] --> 127.659"
       ]
      },
      {
       "output_type": "stream",
       "stream": "stdout",
       "text": [
        "\n",
        "\t\t[Total] -->\n",
        "\t[Prior] --> 339.887\n",
        "\t[Model] --> 1528.65\n",
        "\t[Obs] --> 127.66"
       ]
      },
      {
       "output_type": "stream",
       "stream": "stdout",
       "text": [
        "\n",
        "\t\t[Total] -->\n",
        "\t[Prior] --> 339.887\n",
        "\t[Model] --> 1528.64\n",
        "\t[Obs] --> 127.66"
       ]
      },
      {
       "output_type": "stream",
       "stream": "stdout",
       "text": [
        "\n",
        "\t\t[Total] -->\n",
        "\t[Prior] --> 339.888\n",
        "\t[Model] --> 1528.64\n",
        "\t[Obs] --> 127.66"
       ]
      },
      {
       "output_type": "stream",
       "stream": "stdout",
       "text": [
        "\n",
        "\t\t[Total] -->\n",
        "\t[Prior] --> 339.888\n",
        "\t[Model] --> 1528.64\n",
        "\t[Obs] --> 127.66"
       ]
      },
      {
       "output_type": "stream",
       "stream": "stdout",
       "text": [
        "\n",
        "\t\t[Total] -->\n",
        "\t[Prior] --> 339.888\n",
        "\t[Model] --> 1528.64\n",
        "\t[Obs] --> 127.66"
       ]
      },
      {
       "output_type": "stream",
       "stream": "stdout",
       "text": [
        "\n",
        "\t\t[Total] -->\n",
        "\t[Prior] --> 339.888\n",
        "\t[Model] --> 1528.64\n",
        "\t[Obs] --> 127.66"
       ]
      },
      {
       "output_type": "stream",
       "stream": "stdout",
       "text": [
        "\n",
        "\t\t[Total] -->\n",
        "\t[Prior] --> 339.888\n",
        "\t[Model] --> 1528.64\n",
        "\t[Obs] --> 127.66"
       ]
      },
      {
       "output_type": "stream",
       "stream": "stdout",
       "text": [
        "\n",
        "\t\t[Total] -->\n",
        "\t[Prior] --> 339.888\n",
        "\t[Model] --> 1528.64\n",
        "\t[Obs] --> 127.66"
       ]
      },
      {
       "output_type": "stream",
       "stream": "stdout",
       "text": [
        "\n",
        "\t\t[Total] -->\n",
        "\t[Prior] --> 339.888\n",
        "\t[Model] --> 1528.64\n",
        "\t[Obs] --> 127.66"
       ]
      },
      {
       "output_type": "stream",
       "stream": "stdout",
       "text": [
        "\n",
        "\t\t[Total] -->\n",
        "\t[Prior] --> 339.888\n",
        "\t[Model] --> 1528.64\n",
        "\t[Obs] --> 127.66"
       ]
      },
      {
       "output_type": "stream",
       "stream": "stdout",
       "text": [
        "\n",
        "\t\t[Total] -->\n",
        "\t[Prior] --> 339.795\n",
        "\t[Model] --> 1533.12\n",
        "\t[Obs] --> 127.653"
       ]
      },
      {
       "output_type": "stream",
       "stream": "stdout",
       "text": [
        "\n",
        "\t\t[Total] -->\n",
        "\t[Prior] --> 339.884\n",
        "\t[Model] --> 1528.74\n",
        "\t[Obs] --> 127.659"
       ]
      },
      {
       "output_type": "stream",
       "stream": "stdout",
       "text": [
        "\n",
        "\t\t[Total] -->\n",
        "\t[Prior] --> 339.887\n",
        "\t[Model] --> 1528.65\n",
        "\t[Obs] --> 127.66"
       ]
      },
      {
       "output_type": "stream",
       "stream": "stdout",
       "text": [
        "\n",
        "\t\t[Total] -->\n",
        "\t[Prior] --> 339.887\n",
        "\t[Model] --> 1528.64\n",
        "\t[Obs] --> 127.66"
       ]
      },
      {
       "output_type": "stream",
       "stream": "stdout",
       "text": [
        "\n",
        "\t\t[Total] -->\n",
        "\t[Prior] --> 339.888\n",
        "\t[Model] --> 1528.64\n",
        "\t[Obs] --> 127.66"
       ]
      },
      {
       "output_type": "stream",
       "stream": "stdout",
       "text": [
        "\n",
        "\t\t[Total] -->\n",
        "\t[Prior] --> 339.888\n",
        "\t[Model] --> 1528.64\n",
        "\t[Obs] --> 127.66"
       ]
      },
      {
       "output_type": "stream",
       "stream": "stdout",
       "text": [
        "\n",
        "\t\t[Total] -->\n",
        "\t[Prior] --> 339.888\n",
        "\t[Model] --> 1528.64\n",
        "\t[Obs] --> 127.66"
       ]
      },
      {
       "output_type": "stream",
       "stream": "stdout",
       "text": [
        "\n",
        "\t\t[Total] -->\n",
        "\t[Prior] --> 339.888\n",
        "\t[Model] --> 1528.64\n",
        "\t[Obs] --> 127.66"
       ]
      },
      {
       "output_type": "stream",
       "stream": "stdout",
       "text": [
        "\n",
        "\t\t[Total] -->\n",
        "\t[Prior] --> 339.888\n",
        "\t[Model] --> 1528.64\n",
        "\t[Obs] --> 127.66"
       ]
      },
      {
       "output_type": "stream",
       "stream": "stdout",
       "text": [
        "\n",
        "\t\t[Total] -->\n",
        "\t[Prior] --> 339.888\n",
        "\t[Model] --> 1528.64\n",
        "\t[Obs] --> 127.66"
       ]
      },
      {
       "output_type": "stream",
       "stream": "stdout",
       "text": [
        "\n",
        "\t\t[Total] -->\n",
        "\t[Prior] --> 339.888\n",
        "\t[Model] --> 1528.64\n",
        "\t[Obs] --> 127.66"
       ]
      },
      {
       "output_type": "stream",
       "stream": "stdout",
       "text": [
        "\n",
        "\t\t[Total] -->\n",
        "\t[Prior] --> 339.888\n",
        "\t[Model] --> 1528.64\n",
        "\t[Obs] --> 127.66"
       ]
      },
      {
       "output_type": "stream",
       "stream": "stdout",
       "text": [
        "\n",
        "\t\t[Total] -->\n",
        "\t[Prior] --> 339.888\n",
        "\t[Model] --> 1528.64\n",
        "\t[Obs] --> 127.66"
       ]
      },
      {
       "output_type": "stream",
       "stream": "stdout",
       "text": [
        "\n",
        "\t\t[Total] -->\n",
        "\t[Prior] --> 339.888\n",
        "\t[Model] --> 1528.64\n",
        "\t[Obs] --> 127.66"
       ]
      },
      {
       "output_type": "stream",
       "stream": "stdout",
       "text": [
        "\n",
        "\t\t[Total] -->\n",
        "\t[Prior] --> 339.888\n",
        "\t[Model] --> 1528.64\n",
        "\t[Obs] --> 127.66"
       ]
      },
      {
       "output_type": "stream",
       "stream": "stdout",
       "text": [
        "\n",
        "\t\t[Total] -->\n",
        "\t[Prior] --> 339.888\n",
        "\t[Model] --> 1528.64\n",
        "\t[Obs] --> 127.66"
       ]
      },
      {
       "output_type": "stream",
       "stream": "stdout",
       "text": [
        "\n",
        "\t\t[Total] -->\n",
        "\t[Prior] --> 339.888\n",
        "\t[Model] --> 1528.64\n",
        "\t[Obs] --> 127.66"
       ]
      },
      {
       "output_type": "stream",
       "stream": "stdout",
       "text": [
        "\n",
        "\t\t[Total] -->\n",
        "\t[Prior] --> 336.566\n",
        "\t[Model] --> 6242.61\n",
        "\t[Obs] --> 139.955"
       ]
      },
      {
       "output_type": "stream",
       "stream": "stdout",
       "text": [
        "\n",
        "\t\t[Total] -->\n",
        "\t[Prior] --> 339.877\n",
        "\t[Model] --> 1528.89\n",
        "\t[Obs] --> 127.658"
       ]
      },
      {
       "output_type": "stream",
       "stream": "stdout",
       "text": [
        "\n",
        "\t\t[Total] -->\n",
        "\t[Prior] --> 339.887\n",
        "\t[Model] --> 1528.66\n",
        "\t[Obs] --> 127.66"
       ]
      },
      {
       "output_type": "stream",
       "stream": "stdout",
       "text": [
        "\n",
        "\t\t[Total] -->\n",
        "\t[Prior] --> 339.887\n",
        "\t[Model] --> 1528.64\n",
        "\t[Obs] --> 127.66"
       ]
      },
      {
       "output_type": "stream",
       "stream": "stdout",
       "text": [
        "\n",
        "\t\t[Total] -->\n",
        "\t[Prior] --> 339.888\n",
        "\t[Model] --> 1528.64\n",
        "\t[Obs] --> 127.66"
       ]
      },
      {
       "output_type": "stream",
       "stream": "stdout",
       "text": [
        "\n",
        "\t\t[Total] -->\n",
        "\t[Prior] --> 339.888\n",
        "\t[Model] --> 1528.64\n",
        "\t[Obs] --> 127.66"
       ]
      },
      {
       "output_type": "stream",
       "stream": "stdout",
       "text": [
        "\n",
        "\t\t[Total] -->\n",
        "\t[Prior] --> 339.888\n",
        "\t[Model] --> 1528.64\n",
        "\t[Obs] --> 127.66"
       ]
      },
      {
       "output_type": "stream",
       "stream": "stdout",
       "text": [
        "\n",
        "\t\t[Total] -->\n",
        "\t[Prior] --> 339.888\n",
        "\t[Model] --> 1528.64\n",
        "\t[Obs] --> 127.66"
       ]
      },
      {
       "output_type": "stream",
       "stream": "stdout",
       "text": [
        "\n",
        "\t\t[Total] -->\n",
        "\t[Prior] --> 339.888\n",
        "\t[Model] --> 1528.64\n",
        "\t[Obs] --> 127.66"
       ]
      },
      {
       "output_type": "stream",
       "stream": "stdout",
       "text": [
        "\n",
        "\t\t[Total] -->\n",
        "\t[Prior] --> 339.888\n",
        "\t[Model] --> 1528.64\n",
        "\t[Obs] --> 127.66"
       ]
      },
      {
       "output_type": "stream",
       "stream": "stdout",
       "text": [
        "\n",
        "\t\t[Total] -->\n",
        "\t[Prior] --> 339.888\n",
        "\t[Model] --> 1528.64\n",
        "\t[Obs] --> 127.66"
       ]
      },
      {
       "output_type": "stream",
       "stream": "stdout",
       "text": [
        "\n",
        "\t\t[Total] -->\n",
        "\t[Prior] --> 339.888\n",
        "\t[Model] --> 1528.64\n",
        "\t[Obs] --> 127.66"
       ]
      },
      {
       "output_type": "stream",
       "stream": "stdout",
       "text": [
        "\n",
        "\t\t[Total] -->\n",
        "\t[Prior] --> 339.888\n",
        "\t[Model] --> 1528.64\n",
        "\t[Obs] --> 127.66"
       ]
      },
      {
       "output_type": "stream",
       "stream": "stdout",
       "text": [
        "\n",
        "\t\t[Total] -->\n",
        "\t[Prior] --> 339.888\n",
        "\t[Model] --> 1528.64\n",
        "\t[Obs] --> 127.66"
       ]
      },
      {
       "output_type": "stream",
       "stream": "stdout",
       "text": [
        "\n",
        "\t\t[Total] -->\n",
        "\t[Prior] --> 339.888\n",
        "\t[Model] --> 1528.64\n",
        "\t[Obs] --> 127.66"
       ]
      },
      {
       "output_type": "stream",
       "stream": "stdout",
       "text": [
        "\n",
        "\t\t[Total] -->\n",
        "\t[Prior] --> 339.888\n",
        "\t[Model] --> 1528.64\n",
        "\t[Obs] --> 127.66"
       ]
      },
      {
       "output_type": "stream",
       "stream": "stdout",
       "text": [
        "\n",
        "\t\t[Total] -->\n",
        "\t[Prior] --> 339.888\n",
        "\t[Model] --> 1528.64\n",
        "\t[Obs] --> 127.66"
       ]
      },
      {
       "output_type": "stream",
       "stream": "stdout",
       "text": [
        "\n",
        "\t\t[Total] -->\n",
        "\t[Prior] --> 339.888\n",
        "\t[Model] --> 1528.64\n",
        "\t[Obs] --> 127.66"
       ]
      },
      {
       "output_type": "stream",
       "stream": "stdout",
       "text": [
        "\n",
        "\t\t[Total] -->\n",
        "(array([ 0.51095701,  0.51095701,  0.51095701,  0.51095701,  0.51095701,\n",
        "        0.51095701,  0.51095701,  0.7552625 ,  0.51095701,  0.51095701,\n",
        "        0.51095701,  0.51095701,  0.51095701,  0.51095701,  0.24002255,\n",
        "        0.51095701,  0.51095701,  0.51095701,  0.51095701,  0.51095701,\n",
        "        0.51095701,  0.51095701,  0.51095701,  0.51095701,  0.51095701,\n",
        "        0.51095701,  0.51095701,  0.51095701,  0.17082288,  0.51095701,\n",
        "        0.51095701,  0.51095701,  0.51095701,  0.51095701,  0.51095701,\n",
        "        0.51095701,  0.51095701,  0.51095701,  0.51095701,  0.51095701,\n",
        "        0.51095701,  0.51095701,  0.76757066,  0.51095701,  0.51095701,\n",
        "        0.51095701,  0.51095701,  0.51095701,  0.51095701,  0.51095701,\n",
        "        0.51095701,  0.51095701,  0.51095701,  0.51095701,  0.51095701,\n",
        "        0.51095701,  0.51095701,  0.51095701,  0.51095701,  0.51095701,\n",
        "        0.51095701,  0.51095701,  0.51095701,  0.72585163,  0.51095701,\n",
        "        0.51095701,  0.51095701,  0.51095701,  0.51095701,  0.51095701,\n",
        "        0.59683716,  0.51095701,  0.51095701,  0.51095701,  0.51095701,\n",
        "        0.51095701,  0.51095701,  0.53783327,  0.51095701,  0.51095701,\n",
        "        0.51095701,  0.51095701,  0.51095701,  0.51095701,  0.69696541,\n",
        "        0.51095701,  0.51095701,  0.51095701,  0.51095701,  0.51095701,\n",
        "        0.51095701,  0.7509697 ,  0.51095701,  0.51095701,  0.51095701,\n",
        "        0.51095701,  0.51095701,  0.51095701,  0.74091575,  0.51095701,\n",
        "        0.51095701,  0.51095701,  0.51095701,  0.51095701,  0.51095701,\n",
        "        0.51095701,  0.51095701,  0.51095701,  0.51095701,  0.51095701,\n",
        "        0.51095701,  0.51095701,  0.67863253,  0.51095701,  0.51095701,\n",
        "        0.51095701,  0.51095701,  0.51095701,  0.51095701,  0.52499232,\n",
        "        0.51095701,  0.51095701,  0.51095701,  0.51095701,  0.51095701,\n",
        "        0.51095701,  0.51095701,  0.51095701,  0.51095701,  0.51095701,\n",
        "        0.51095701,  0.51095701,  0.51095701,  0.51095701,  0.51095701,\n",
        "        0.51095701,  0.51095701,  0.51095701,  0.51095701,  0.51095701,\n",
        "        0.51095701,  0.51095701,  0.51095701,  0.51095701,  0.51095701,\n",
        "        0.51095701,  0.51095701,  0.31344098,  0.51095701,  0.51095701,\n",
        "        0.51095701,  0.51095701,  0.51095701,  0.51095701,  0.30138734,\n",
        "        0.51095701,  0.51095701,  0.51095701,  0.51095701,  0.51095701,\n",
        "        0.51095701,  0.32681744,  0.51095701,  0.51095701,  0.51095701,\n",
        "        0.51095701,  0.51095701,  0.51095701,  0.51095701,  0.51095701,\n",
        "        0.51095701,  0.51095701,  0.51095701,  0.51095701,  0.51095701,\n",
        "        0.51095701,  0.51095701,  0.51095701,  0.51095701,  0.51095701,\n",
        "        0.51095701,  0.51095701,  0.49543424,  0.51095701,  0.51095701,\n",
        "        0.51095701,  0.51095701,  0.51095701,  0.51095701,  0.60753057,\n",
        "        0.51095701,  0.51095701,  0.51095701,  0.51095701,  0.51095701,\n",
        "        0.51095701,  0.51095701,  0.51095701,  0.51095701,  0.51095701,\n",
        "        0.51095701,  0.51095701,  0.51095701,  0.76478271,  0.51095701,\n",
        "        0.51095701,  0.51095701,  0.51095701,  0.51095701,  0.51095701,\n",
        "        0.51095701,  0.51095701,  0.51095701,  0.51095701,  0.51095701,\n",
        "        0.51095701,  0.51095701,  0.79086259,  0.51095701,  0.51095701,\n",
        "        0.51095701,  0.51095701,  0.51095701,  0.51095701,  0.51095701,\n",
        "        0.51095701,  0.51095701,  0.51095701,  0.51095701,  0.51095701,\n",
        "        0.51095701,  0.60434786,  0.51095701,  0.51095701,  0.51095701,\n",
        "        0.51095701,  0.51095701,  0.51095701,  0.56246475,  0.51095701,\n",
        "        0.51095701,  0.51095701,  0.51095701,  0.51095701,  0.51095701,\n",
        "        0.47873933,  0.51095701,  0.51095701,  0.51095701,  0.51095701,\n",
        "        0.51095701,  0.51095701,  0.42256429,  0.51095701,  0.51095701,\n",
        "        0.51095701,  0.51095701,  0.51095701,  0.51095701,  0.39640405,\n",
        "        0.51095701,  0.51095701,  0.51095701,  0.51095701,  0.51095701,\n",
        "        0.51095701,  0.51095701,  0.51095701,  0.51095701,  0.51095701,\n",
        "        0.51095701,  0.51095701,  0.51095701,  0.32068492,  0.51095701,\n",
        "        0.51095701,  0.51095701,  0.51095701,  0.51095701,  0.51095701,\n",
        "        0.51095701,  0.51095701,  0.51095701,  0.51095701,  0.51095701,\n",
        "        0.51095701,  0.51095701,  0.47723838,  0.51095701,  0.51095701,\n",
        "        0.51095701,  0.51095701,  0.51095701,  0.51095701,  0.51095701,\n",
        "        0.51095701,  0.51095701,  0.51095701,  0.51095701,  0.51095701,\n",
        "        0.51095701,  0.51095701,  0.51095701,  0.51095701,  0.51095701,\n",
        "        0.51095701,  0.51095701,  0.51095701,  0.51095701,  0.51095701,\n",
        "        0.51095701,  0.51095701,  0.51095701,  0.51095701,  0.51095701,\n",
        "        0.51095701,  0.51095701,  0.51095701,  0.51095701,  0.51095701,\n",
        "        0.51095701,  0.51095701,  0.68609086,  0.51095701,  0.51095701,\n",
        "        0.51095701,  0.51095701,  0.51095701,  0.51095701,  0.39259015,\n",
        "        0.51095701,  0.51095701,  0.51095701,  0.51095701,  0.51095701,\n",
        "        0.51095701,  0.70048864,  0.51095701,  0.51095701,  0.51095701,\n",
        "        0.51095701,  0.51095701,  0.51095701,  0.59324712,  0.51095701,\n",
        "        0.51095701,  0.51095701,  0.51095701,  0.51095701,  0.51095701,\n",
        "        0.45773089,  0.51095701,  0.51095701,  0.51095701,  0.51095701,\n",
        "        0.51095701,  0.51095701,  0.66221444,  0.51095701,  0.51095701,\n",
        "        0.51095701,  0.51095701,  0.51095701,  0.51095701,  0.46861457,\n",
        "        0.53945728,  0.98342343,  0.9688325 ,  0.95511557,  0.94193972,\n",
        "        0.93022689,  0.91875366,  0.90750926,  0.90592548,  0.90471567,\n",
        "        0.90392725,  0.9041726 ,  0.90518317,  0.90690435,  0.90953135,\n",
        "        0.90964213,  0.91009908,  0.91062236,  0.91104191,  0.91116591,\n",
        "        0.91093426,  0.91028777,  0.90936769,  0.90799925,  0.90604124,\n",
        "        0.90409507,  0.90207237,  0.89983699,  0.89765371,  0.8990169 ,\n",
        "        0.90048442,  0.90180474,  0.90295301,  0.90412614,  0.90530437,\n",
        "        0.90614275,  0.90546977,  0.90452531,  0.90345135,  0.90219195,\n",
        "        0.90089945,  0.89953301,  0.89828353,  0.90229712,  0.90675075,\n",
        "        0.91164407,  0.91631075,  0.92056456,  0.9232448 ,  0.92465614,\n",
        "        0.92475221,  0.92398121,  0.92255457,  0.91970142,  0.91585963,\n",
        "        0.91160732,  0.90619916,  0.90006525,  0.89297542,  0.88456686,\n",
        "        0.87545392,  0.86626944,  0.85707806,  0.84806509,  0.84012364,\n",
        "        0.83304976,  0.82641936,  0.82061397,  0.81519561,  0.81008596,\n",
        "        0.80587957,  0.80125399,  0.79672879,  0.79255788,  0.78900502,\n",
        "        0.78597988,  0.7834029 ,  0.78118044,  0.77009655,  0.75924553,\n",
        "        0.74861306,  0.73821304,  0.72830264,  0.71930368,  0.71043875,\n",
        "        0.70280834,  0.69524807,  0.68784895,  0.68052647,  0.67268995,\n",
        "        0.66496028,  0.65733176,  0.65034189,  0.64335128,  0.63609184,\n",
        "        0.62862407,  0.62091484,  0.61320839,  0.60556101,  0.59474057,\n",
        "        0.58409234,  0.57369939,  0.56362427,  0.55376442,  0.54416205,\n",
        "        0.53476361,  0.52559151,  0.51661263,  0.50788673,  0.49934426,\n",
        "        0.49101135,  0.48284816,  0.47482474,  0.46613093,  0.45747804,\n",
        "        0.44904148,  0.44083361,  0.43263466,  0.42466446,  0.41684348,\n",
        "        0.40749221,  0.39841604,  0.38951164,  0.38084305,  0.37231623,\n",
        "        0.36398814,  0.35588024,  0.34802538,  0.34064021,  0.33347381,\n",
        "        0.32654808,  0.31987675,  0.31376784,  0.30790616,  0.30216878,\n",
        "        0.29658688,  0.29120371,  0.28604598,  0.28108907,  0.27624222,\n",
        "        0.27191308,  0.26777309,  0.26382616,  0.26001688,  0.25626612,\n",
        "        0.25251987,  0.2488321 ,  0.245182  ,  0.23993102,  0.23452147,\n",
        "        0.2288095 ,  0.22302703,  0.2172651 ,  0.21144125,  0.20548265,\n",
        "        0.20581467,  0.20599689,  0.20611694,  0.20619684,  0.20621685,\n",
        "        0.20608983,  0.20560009,  0.20342107,  0.20122714,  0.19904143,\n",
        "        0.19683953,  0.19470316,  0.19250599,  0.19035025,  0.1882223 ,\n",
        "        0.18611743,  0.18407314,  0.18204901,  0.18004816,  0.17804002,\n",
        "        0.17609104,  0.17421023,  0.17227195,  0.17029648,  0.16845588,\n",
        "        0.16650693,  0.16459624,  0.16270554,  0.16409327,  0.16544917,\n",
        "        0.16682626,  0.16808489,  0.16944479,  0.17068692,  0.17192493,\n",
        "        0.17235364,  0.17259454,  0.17273334,  0.17283225,  0.17287707,\n",
        "        0.17290504,  0.17245308,  0.17194607,  0.17133148,  0.17037456,\n",
        "        0.16900826,  0.16734356,  0.16566428,  0.16387558,  0.16756432,\n",
        "        0.17131465,  0.17509858,  0.17893295,  0.18277623,  0.18655806,\n",
        "        0.19033396,  0.19405189,  0.19749567,  0.20085258,  0.20418411,\n",
        "        0.20741179,  0.21052492,  0.21365627,  0.21782198,  0.22192044,\n",
        "        0.22623469,  0.23079297,  0.23549073,  0.24051052,  0.24595369,\n",
        "        0.25178774,  0.25801855,  0.26471799,  0.27195076,  0.2797826 ,\n",
        "        0.28780392,  0.29606324,  0.30272281,  0.30944719,  0.31634304,\n",
        "        0.32340737,  0.33065781,  0.33802525,  0.34566815,  0.35383288,\n",
        "        0.36219662,  0.37033958,  0.37855819,  0.3868959 ,  0.39471318,\n",
        "        0.40267825,  0.41096978,  0.41938481,  0.42842784,  0.4377523 ,\n",
        "        0.44773205,  0.45798913,  0.46856288,  0.47601   ,  0.48363078,\n",
        "        0.49153887,  0.49966488,  0.50796398,  0.51643398,  0.52503264,\n",
        "        0.53286692,  0.54082657,  0.54891741,  0.55746965,  0.56651492,\n",
        "        0.57576179,  0.58523763,  0.59494583,  0.6048588 ,  0.61500974,\n",
        "        0.62541081,  0.63616145,  0.64739257,  0.65888694,  0.6652968 ,\n",
        "        0.67178008,  0.6784071 ,  0.68510056,  0.69195547,  0.69890078,\n",
        "        0.70630551,  0.71475067,  0.72363281,  0.73278637,  0.7420897 ,\n",
        "        0.75156956,  0.76073689,  0.77000175,  0.76375083,  0.75761559,\n",
        "        0.75167526,  0.7458407 ,  0.74012913,  0.73481303,  0.72967141,\n",
        "        0.72497807,  0.72045128,  0.71723126,  0.7157095 ,  0.71431896,\n",
        "        0.71339715,  0.7136641 ,  0.71457504,  0.71588217,  0.71797308,\n",
        "        0.72017885,  0.72398199,  0.72861173,  0.73459425,  0.74105508,\n",
        "        0.74937219,  0.75796846,  0.7670895 ,  0.7770261 ,  0.78801538,\n",
        "        0.80012391,  0.81317376,  0.82745445,  0.84204924,  0.85695385,\n",
        "        0.87142759,  0.88617205,  0.90127548,  0.89514188,  0.89045978,\n",
        "        0.8861502 ,  0.88267755,  0.87951844,  0.87685245,  0.87563426,\n",
        "        0.87547828,  0.87561209,  0.87735465,  0.88029365,  0.88394905,\n",
        "        0.88829283,  0.89288758,  0.89208294,  0.89182478,  0.89212384,\n",
        "        0.89306311,  0.89526989,  0.89879809,  0.90268688,  0.90123933,\n",
        "        0.90119764,  0.90153017,  0.90250072,  0.9043117 ,  0.90671321,\n",
        "        0.90963854,  0.90536172,  0.90128189,  0.89731245,  0.8934458 ,\n",
        "        0.89071343,  0.88855537,  0.88849239,  0.88764424,  0.8887239 ,\n",
        "        0.89049221,  0.89251722,  0.89483641,  0.89731012,  0.90020239]), matrix([[ 1996.19066334]]), {'warnflag': 0, 'task': 'CONVERGENCE: REL_REDUCTION_OF_F_<=_FACTR*EPSMCH', 'grad': array([  9.32776248e-01,   9.32776248e-01,   9.32776248e-01,\n",
        "         9.32776248e-01,   9.32776248e-01,   9.32776248e-01,\n",
        "         9.32776248e-01,   9.74664405e+00,   9.32776248e-01,\n",
        "         9.32776248e-01,   9.32776248e-01,   9.32776248e-01,\n",
        "         9.32776248e-01,   9.32776248e-01,   5.13168424e+00,\n",
        "         9.32776248e-01,   9.32776248e-01,   9.32776248e-01,\n",
        "         9.32776248e-01,   9.32776248e-01,   9.32776248e-01,\n",
        "         9.32776248e-01,   9.32776248e-01,   9.32776248e-01,\n",
        "         9.32776248e-01,   9.32776248e-01,   9.32776248e-01,\n",
        "         9.32776248e-01,  -9.16655425e+00,   9.32776248e-01,\n",
        "         9.32776248e-01,   9.32776248e-01,   9.32776248e-01,\n",
        "         9.32776248e-01,   9.32776248e-01,   9.32776248e-01,\n",
        "         9.32776248e-01,   9.32776248e-01,   9.32776248e-01,\n",
        "         9.32776248e-01,   9.32776248e-01,   9.32776248e-01,\n",
        "         7.71546296e+00,   9.32776248e-01,   9.32776248e-01,\n",
        "         9.32776248e-01,   9.32776248e-01,   9.32776248e-01,\n",
        "         9.32776248e-01,   9.32776248e-01,   9.32776248e-01,\n",
        "         9.32776248e-01,   9.32776248e-01,   9.32776248e-01,\n",
        "         9.32776248e-01,   9.32776248e-01,   9.32776248e-01,\n",
        "         9.32776248e-01,   9.32776248e-01,   9.32776248e-01,\n",
        "         9.32776248e-01,   9.32776248e-01,   9.32776248e-01,\n",
        "        -1.55833433e+01,   9.32776248e-01,   9.32776248e-01,\n",
        "         9.32776248e-01,   9.32776248e-01,   9.32776248e-01,\n",
        "         9.32776248e-01,  -7.90136875e+00,   9.32776248e-01,\n",
        "         9.32776248e-01,   9.32776248e-01,   9.32776248e-01,\n",
        "         9.32776248e-01,   9.32776248e-01,  -1.31348248e+01,\n",
        "         9.32776248e-01,   9.32776248e-01,   9.32776248e-01,\n",
        "         9.32776248e-01,   9.32776248e-01,   9.32776248e-01,\n",
        "         1.52166315e+01,   9.32776248e-01,   9.32776248e-01,\n",
        "         9.32776248e-01,   9.32776248e-01,   9.32776248e-01,\n",
        "         9.32776248e-01,   7.28941354e-01,   9.32776248e-01,\n",
        "         9.32776248e-01,   9.32776248e-01,   9.32776248e-01,\n",
        "         9.32776248e-01,   9.32776248e-01,  -8.16897821e+00,\n",
        "         9.32776248e-01,   9.32776248e-01,   9.32776248e-01,\n",
        "         9.32776248e-01,   9.32776248e-01,   9.32776248e-01,\n",
        "         9.32776248e-01,   9.32776248e-01,   9.32776248e-01,\n",
        "         9.32776248e-01,   9.32776248e-01,   9.32776248e-01,\n",
        "         9.32776248e-01,  -3.01423819e+01,   9.32776248e-01,\n",
        "         9.32776248e-01,   9.32776248e-01,   9.32776248e-01,\n",
        "         9.32776248e-01,   9.32776248e-01,  -8.64385732e-01,\n",
        "         9.32776248e-01,   9.32776248e-01,   9.32776248e-01,\n",
        "         9.32776248e-01,   9.32776248e-01,   9.32776248e-01,\n",
        "         9.32776248e-01,   9.32776248e-01,   9.32776248e-01,\n",
        "         9.32776248e-01,   9.32776248e-01,   9.32776248e-01,\n",
        "         9.32776248e-01,   9.32776248e-01,   9.32776248e-01,\n",
        "         9.32776248e-01,   9.32776248e-01,   9.32776248e-01,\n",
        "         9.32776248e-01,   9.32776248e-01,   9.32776248e-01,\n",
        "         9.32776248e-01,   9.32776248e-01,   9.32776248e-01,\n",
        "         9.32776248e-01,   9.32776248e-01,   9.32776248e-01,\n",
        "         6.39618000e-02,   9.32776248e-01,   9.32776248e-01,\n",
        "         9.32776248e-01,   9.32776248e-01,   9.32776248e-01,\n",
        "         9.32776248e-01,  -1.17640769e+00,   9.32776248e-01,\n",
        "         9.32776248e-01,   9.32776248e-01,   9.32776248e-01,\n",
        "         9.32776248e-01,   9.32776248e-01,  -5.27812794e-01,\n",
        "         9.32776248e-01,   9.32776248e-01,   9.32776248e-01,\n",
        "         9.32776248e-01,   9.32776248e-01,   9.32776248e-01,\n",
        "         9.32776248e-01,   9.32776248e-01,   9.32776248e-01,\n",
        "         9.32776248e-01,   9.32776248e-01,   9.32776248e-01,\n",
        "         9.32776248e-01,   9.32776248e-01,   9.32776248e-01,\n",
        "         9.32776248e-01,   9.32776248e-01,   9.32776248e-01,\n",
        "         9.32776248e-01,   9.32776248e-01,  -1.58153115e+00,\n",
        "         9.32776248e-01,   9.32776248e-01,   9.32776248e-01,\n",
        "         9.32776248e-01,   9.32776248e-01,   9.32776248e-01,\n",
        "        -4.40335877e+00,   9.32776248e-01,   9.32776248e-01,\n",
        "         9.32776248e-01,   9.32776248e-01,   9.32776248e-01,\n",
        "         9.32776248e-01,   9.32776248e-01,   9.32776248e-01,\n",
        "         9.32776248e-01,   9.32776248e-01,   9.32776248e-01,\n",
        "         9.32776248e-01,   9.32776248e-01,  -1.72845697e+01,\n",
        "         9.32776248e-01,   9.32776248e-01,   9.32776248e-01,\n",
        "         9.32776248e-01,   9.32776248e-01,   9.32776248e-01,\n",
        "         9.32776248e-01,   9.32776248e-01,   9.32776248e-01,\n",
        "         9.32776248e-01,   9.32776248e-01,   9.32776248e-01,\n",
        "         9.32776248e-01,  -4.91482603e+01,   9.32776248e-01,\n",
        "         9.32776248e-01,   9.32776248e-01,   9.32776248e-01,\n",
        "         9.32776248e-01,   9.32776248e-01,   9.32776248e-01,\n",
        "         9.32776248e-01,   9.32776248e-01,   9.32776248e-01,\n",
        "         9.32776248e-01,   9.32776248e-01,   9.32776248e-01,\n",
        "        -1.62753383e+01,   9.32776248e-01,   9.32776248e-01,\n",
        "         9.32776248e-01,   9.32776248e-01,   9.32776248e-01,\n",
        "         9.32776248e-01,  -7.63472575e+00,   9.32776248e-01,\n",
        "         9.32776248e-01,   9.32776248e-01,   9.32776248e-01,\n",
        "         9.32776248e-01,   9.32776248e-01,   2.00464980e+00,\n",
        "         9.32776248e-01,   9.32776248e-01,   9.32776248e-01,\n",
        "         9.32776248e-01,   9.32776248e-01,   9.32776248e-01,\n",
        "        -7.82481524e+00,   9.32776248e-01,   9.32776248e-01,\n",
        "         9.32776248e-01,   9.32776248e-01,   9.32776248e-01,\n",
        "         9.32776248e-01,   1.44569166e+00,   9.32776248e-01,\n",
        "         9.32776248e-01,   9.32776248e-01,   9.32776248e-01,\n",
        "         9.32776248e-01,   9.32776248e-01,   9.32776248e-01,\n",
        "         9.32776248e-01,   9.32776248e-01,   9.32776248e-01,\n",
        "         9.32776248e-01,   9.32776248e-01,   9.32776248e-01,\n",
        "        -3.07725760e-01,   9.32776248e-01,   9.32776248e-01,\n",
        "         9.32776248e-01,   9.32776248e-01,   9.32776248e-01,\n",
        "         9.32776248e-01,   9.32776248e-01,   9.32776248e-01,\n",
        "         9.32776248e-01,   9.32776248e-01,   9.32776248e-01,\n",
        "         9.32776248e-01,   9.32776248e-01,  -1.02893597e+00,\n",
        "         9.32776248e-01,   9.32776248e-01,   9.32776248e-01,\n",
        "         9.32776248e-01,   9.32776248e-01,   9.32776248e-01,\n",
        "         9.32776248e-01,   9.32776248e-01,   9.32776248e-01,\n",
        "         9.32776248e-01,   9.32776248e-01,   9.32776248e-01,\n",
        "         9.32776248e-01,   9.32776248e-01,   9.32776248e-01,\n",
        "         9.32776248e-01,   9.32776248e-01,   9.32776248e-01,\n",
        "         9.32776248e-01,   9.32776248e-01,   9.32776248e-01,\n",
        "         9.32776248e-01,   9.32776248e-01,   9.32776248e-01,\n",
        "         9.32776248e-01,   9.32776248e-01,   9.32776248e-01,\n",
        "         9.32776248e-01,   9.32776248e-01,   9.32776248e-01,\n",
        "         9.32776248e-01,   9.32776248e-01,   9.32776248e-01,\n",
        "         9.32776248e-01,  -1.67090186e+00,   9.32776248e-01,\n",
        "         9.32776248e-01,   9.32776248e-01,   9.32776248e-01,\n",
        "         9.32776248e-01,   9.32776248e-01,  -4.54074042e-01,\n",
        "         9.32776248e-01,   9.32776248e-01,   9.32776248e-01,\n",
        "         9.32776248e-01,   9.32776248e-01,   9.32776248e-01,\n",
        "         9.35753163e-01,   9.32776248e-01,   9.32776248e-01,\n",
        "         9.32776248e-01,   9.32776248e-01,   9.32776248e-01,\n",
        "         9.32776248e-01,  -5.47503836e-02,   9.32776248e-01,\n",
        "         9.32776248e-01,   9.32776248e-01,   9.32776248e-01,\n",
        "         9.32776248e-01,   9.32776248e-01,  -1.90446657e-01,\n",
        "         9.32776248e-01,   9.32776248e-01,   9.32776248e-01,\n",
        "         9.32776248e-01,   9.32776248e-01,   9.32776248e-01,\n",
        "         1.62621699e+00,   9.32776248e-01,   9.32776248e-01,\n",
        "         9.32776248e-01,   9.32776248e-01,   9.32776248e-01,\n",
        "         9.32776248e-01,  -2.85255309e+00,   7.65616627e-01,\n",
        "        -3.33826395e+01,  -1.18362225e+01,  -5.45842879e+00,\n",
        "        -2.56857789e+01,  -1.90064599e-01,  -9.39055955e-02,\n",
        "        -6.01478440e+01,  -6.40547796e+00,  -7.49003676e+00,\n",
        "        -2.10665734e+01,  -1.51145515e+01,  -1.38516761e+01,\n",
        "        -1.80517386e+01,  -3.32654945e+00,  -5.79800051e+00,\n",
        "         3.59905158e-01,   4.09631967e+00,   8.30407684e+00,\n",
        "         9.62148535e+00,   1.09270033e+01,   7.83831626e+00,\n",
        "         1.17038555e+01,   1.48622500e+01,   1.63433039e+00,\n",
        "         3.58741141e+00,   6.62127435e+00,   7.51356570e-01,\n",
        "         4.79522050e+00,  -4.84022454e-01,   5.10763342e+00,\n",
        "         5.64652078e+00,   1.27820112e+00,   1.71971017e+00,\n",
        "         9.33421069e+00,   3.51752303e+01,   7.81430061e+00,\n",
        "         4.68755306e+00,   5.93587709e+00,   2.56780936e+00,\n",
        "         3.47615982e+00,  -7.69653876e-01,   3.50944607e+00,\n",
        "        -7.51802514e+00,  -7.36167948e+00,   7.33737432e+00,\n",
        "         1.13117010e+01,   3.63205209e+01,   2.94357675e+01,\n",
        "         3.03157096e+01,   2.06031141e+01,   1.60641913e+01,\n",
        "         3.28838147e+01,   2.36026565e+01,   1.11806582e+01,\n",
        "         2.77437941e+01,   1.86354693e+01,   2.41164814e+01,\n",
        "         3.28287635e+01,   1.96470313e+01,   5.55299082e+00,\n",
        "         4.12224747e+00,  -2.16307070e-01,   1.74460634e+00,\n",
        "        -1.74011498e+01,  -7.65856654e+00,  -1.72111334e+01,\n",
        "        -6.89208904e+00,  -5.14820072e+00,  -2.00547043e+01,\n",
        "        -1.90958855e+01,  -2.96374016e-01,  -6.75184149e+00,\n",
        "        -1.35837215e+01,  -1.15012695e+01,  -9.62994616e+00,\n",
        "        -7.35068083e+00,   5.35074417e+00,  -5.14266232e-01,\n",
        "        -3.05061230e-01,  -8.42687543e-01,  -8.08716454e+00,\n",
        "        -2.02890260e+01,   6.98394044e-01,  -3.26743270e+01,\n",
        "         1.63473466e+00,  -1.04802679e+00,   1.31359560e+00,\n",
        "         1.88229127e+01,   7.07740555e-01,   8.08638616e-01,\n",
        "        -3.24241993e+01,   3.47293837e+00,   1.19299393e+01,\n",
        "         1.03275297e+01,   1.16700809e+01,   4.03988168e+00,\n",
        "         2.22969871e+00,  -3.14135225e+01,   1.68436400e+00,\n",
        "        -1.32887882e+00,  -3.82757865e+00,  -5.31545263e-01,\n",
        "        -2.30615553e+00,  -6.16506608e-01,  -1.68804507e+00,\n",
        "        -6.76357363e-01,  -3.24332412e+00,  -7.98401310e-01,\n",
        "        -2.07284662e+00,  -6.92470695e-01,   3.72963293e-01,\n",
        "        -2.62509123e+01,   5.64281344e+00,  -2.04524494e+00,\n",
        "        -2.91866485e+00,   6.88427670e+00,  -3.26756605e+00,\n",
        "         1.72631368e-01,   2.96743808e+01,  -3.07429817e+00,\n",
        "         1.71968309e+00,  -1.81814433e+00,   2.81609959e+00,\n",
        "        -4.05426929e-01,  -1.92642617e+00,  -4.22958876e+00,\n",
        "        -1.75168347e+01,  -3.87541606e+00,  -5.70382734e+00,\n",
        "        -7.15220873e+00,  -2.74596571e+01,  -8.80128214e+00,\n",
        "        -1.33504250e+00,  -3.66899888e+00,  -6.99888709e+00,\n",
        "        -9.40061602e+00,  -8.29381869e+00,  -2.28703925e+00,\n",
        "        -3.25306981e+01,  -9.66691585e+00,  -1.04941601e+01,\n",
        "        -6.77935932e+00,  -9.68089568e-01,   3.20376578e+00,\n",
        "        -1.05083141e+00,   5.38561612e-01,  -9.12158719e-01,\n",
        "         2.22450353e+01,   3.61607469e+01,   1.78389216e+01,\n",
        "         1.05575779e+01,   1.88733572e+01,   2.71830106e+01,\n",
        "         2.44414596e+01,   1.34301575e+01,   4.88690529e+00,\n",
        "         2.74210826e+00,   4.65300403e+00,   1.31065329e+01,\n",
        "         3.41008886e+01,  -7.10103028e+00,   2.59311356e+00,\n",
        "         3.43382935e-01,   2.82939266e+00,  -5.48027563e+00,\n",
        "         7.45111608e+00,  -3.04376609e+00,  -1.70509606e+00,\n",
        "        -1.26429130e+00,  -5.38719948e+00,  -1.13403755e+00,\n",
        "        -1.51994346e+00,   1.86019729e+00,  -5.62705786e+00,\n",
        "        -6.85137812e+00,   7.50686245e+00,   5.38163245e+00,\n",
        "        -1.48676035e+01,   1.38364017e+01,  -3.49431903e+00,\n",
        "        -1.37220142e+00,   2.78374419e+02,   3.66391321e+00,\n",
        "        -2.79719537e+00,   1.38722100e+01,  -1.24012583e+01,\n",
        "         1.35316298e+01,   3.81325218e-03,  -9.71093376e-01,\n",
        "         2.03595439e+01,   1.03443572e+01,   3.11443459e+00,\n",
        "         4.75450292e+00,   4.38439994e-01,   5.40728494e+01,\n",
        "         5.02450177e+00,   1.12056902e+01,   3.88753888e+01,\n",
        "         4.74773871e+01,   3.53840102e+01,   2.16302678e+00,\n",
        "         1.38083383e+01,   1.20953812e+02,   9.30265324e-01,\n",
        "         4.22024556e+00,   2.21840509e+00,   6.77049604e+00,\n",
        "         1.40319387e+01,   7.48622364e+00,   1.25280380e+01,\n",
        "         3.38070855e+01,   1.34860835e+01,   6.86317091e+00,\n",
        "         1.41595109e+01,   1.45763944e+01,   1.55186120e+00,\n",
        "         1.04546897e+02,   1.23275530e+01,  -1.32747706e+01,\n",
        "        -1.48555386e+01,  -4.97898150e+00,  -1.97280628e+01,\n",
        "        -2.65932447e+01,  -2.20803037e+01,  -2.07950198e+01,\n",
        "        -2.44807555e+01,  -2.71051960e+01,  -2.93225510e+01,\n",
        "         1.95879643e+00,  -1.03369422e+00,  -2.46037066e-01,\n",
        "         5.10218372e+00,  -1.74370652e+00,  -1.21707178e+00,\n",
        "        -1.97355244e+00,   2.48162392e+00,  -6.61020252e+00,\n",
        "         4.27173164e+01,  -4.18283569e-01,   2.25558160e+01,\n",
        "         5.68776847e+00,   3.32812700e+00,   3.57445915e+01,\n",
        "         6.45048846e-01,  -7.36525221e+00,   2.47378201e+00,\n",
        "        -2.10219275e+01,  -3.64513219e+00,  -1.98682097e+01,\n",
        "        -1.78311085e+00,  -3.04832573e+00,   2.42639803e+01,\n",
        "        -1.77164640e+00,  -6.17996155e+00,  -2.96740130e+00,\n",
        "        -9.13298758e-01,  -6.35463106e-01,   1.15782025e+00,\n",
        "        -2.76080157e+01,   4.28173880e-01,   3.22224539e-01,\n",
        "        -1.14135617e+01,  -1.18747829e+01,  -1.04160076e+00,\n",
        "        -1.77091347e+00,  -1.64033508e+00,  -4.84360380e-01,\n",
        "        -1.37304767e+00,  -1.52342699e+00,  -4.39937474e+00,\n",
        "        -8.04103447e+00,  -8.42201092e-01,   1.41647130e+01,\n",
        "         8.55458356e-01,  -1.17053768e+00,   1.19260075e+00,\n",
        "        -1.51408379e+00,   6.39286866e-01,  -9.75482078e+00,\n",
        "        -2.56313110e+01,  -7.96021294e+00,  -3.04291023e+00,\n",
        "         4.62395018e-01,  -1.51125278e-01,   1.28258826e+01,\n",
        "         1.82397977e+00,   4.24181365e+00,  -2.53471676e-01,\n",
        "        -2.43009416e+00,  -1.58222532e-01,  -6.86287696e-01,\n",
        "        -8.17752082e+00,  -2.35251341e+00,  -1.00076617e+01,\n",
        "        -2.42936096e+00,  -3.43383034e+01,  -4.57749316e+01,\n",
        "        -2.25256482e+00,  -1.17424015e+01,  -3.19839805e+01,\n",
        "        -1.67046074e+01,  -9.71126144e+00,  -2.04467525e+01,\n",
        "        -1.68286285e+00,  -4.26452712e+01,  -2.07964561e+01,\n",
        "        -3.46904551e+01,  -1.02035043e+01,  -4.66826762e+01,\n",
        "        -3.48069892e+00,  -9.66832473e+00,  -1.67053404e+01,\n",
        "        -2.19685761e+01,  -2.25831775e+01,  -1.70304567e+01,\n",
        "        -2.30340256e+01,   1.17361937e-01,   4.33199282e-01,\n",
        "         1.76287840e+01,   1.13197833e+00,  -6.71696014e-01,\n",
        "         1.08813397e-01,  -2.99099561e+01,  -6.08859095e+00,\n",
        "        -1.67410413e+01,  -5.07132037e+00,  -9.24911317e+00,\n",
        "        -3.11740217e+01,   4.33336485e+00,  -4.88551909e+00,\n",
        "        -3.49715312e+01,  -2.53839175e+01,  -1.42478855e+01,\n",
        "        -1.34094520e+01,  -3.38117049e+00,  -3.67716692e+01,\n",
        "        -1.04711512e+01,  -1.07230185e+01,  -1.25688466e+01,\n",
        "        -2.65397688e+01,  -2.75254977e+01,  -5.89602209e+00,\n",
        "        -1.64992084e+00,  -2.93804143e+01,  -6.51162671e+00,\n",
        "        -1.23485795e+01,  -1.67779344e+01,  -1.11508508e+01,\n",
        "        -9.57584688e+00,  -5.52867053e+00,  -2.12436314e+00,\n",
        "        -2.58699532e-01,  -1.26195734e-01,  -2.33363041e+01,\n",
        "        -1.09741907e+01,  -4.53342241e+01,   7.44763164e-01,\n",
        "        -4.16512030e+01,  -1.36790908e+01,  -3.90617018e+00,\n",
        "        -4.70054568e+00,  -1.53231015e+00,  -7.36594533e+00,\n",
        "        -7.86666959e-01]), 'nit': 154, 'funcalls': 834})\n"
       ]
      }
     ],
     "prompt_number": 58
    },
    {
     "cell_type": "code",
     "collapsed": false,
     "input": [
      "[ plt.axvline(x=i, color=\"0.8\") for i in doys ] \n",
      "plt.plot ( state_grid, retval['lai'] , lw=2.5, label=\"DA solution\")\n",
      "plt.plot ( state_grid, x_dict['lai'], 'x', label=\"Initial guess\" )\n",
      "plt.plot ( state_grid, parameter_grid[6, :] , lw=2.5, label=\"Truth\")\n",
      "\n",
      "plt.legend(loc='best', fancybox=True, shadow=True )\n",
      "plt.xlabel(\"DoY\")\n",
      "plt.ylabel(\"LAI\")"
     ],
     "language": "python",
     "metadata": {},
     "outputs": [
      {
       "metadata": {},
       "output_type": "pyout",
       "prompt_number": 59,
       "text": [
        "<matplotlib.text.Text at 0x179ae1d0>"
       ]
      },
      {
       "metadata": {},
       "output_type": "display_data",
       "png": "[encoded data removed]",
       "text": [
        "<matplotlib.figure.Figure at 0x17860290>"
       ]
      }
     ],
     "prompt_number": 59
    },
    {
     "cell_type": "code",
     "collapsed": false,
     "input": [
      "state_config = OrderedDict ()\n",
      "\n",
      "state_config['n'] = FIXED\n",
      "state_config['cab'] = FIXED\n",
      "state_config['car'] = FIXED\n",
      "state_config['cbrown'] = FIXED\n",
      "state_config['cw'] = VARIABLE\n",
      "state_config['cm'] = FIXED\n",
      "state_config['lai'] = VARIABLE\n",
      "state_config['ala'] = FIXED\n",
      "state_config['bsoil'] = FIXED\n",
      "state_config['psoil'] = FIXED\n",
      "\n",
      "    \n",
      "    \n",
      "    \n",
      "    \n",
      "# Now define the default values\n",
      "default_par = OrderedDict ()\n",
      "default_par['n'] = 1.5\n",
      "default_par['cab'] = 40.\n",
      "default_par['car'] = 10.\n",
      "default_par['cbrown'] = 0.01\n",
      "default_par['cw'] = 0.018 # Say?\n",
      "default_par['cm'] = 0.0065 # Say?\n",
      "default_par['lai'] = 2\n",
      "default_par['ala'] = 45.\n",
      "default_par['bsoil'] = 1.\n",
      "default_par['psoil'] = 0.1\n",
      "\n",
      "parameter_min = OrderedDict()\n",
      "parameter_max = OrderedDict()\n",
      "    \n",
      "min_vals = [ 0.8, 0.2, 0.0, 0.0, 0.0043, 0.0017,0.01, 40, 0., 0., 0.]\n",
      "max_vals = [2.5, 77., 5., 1., 0.0713, 0.0331, 8., 50., 2., 1.]\n",
      "\n",
      "for i, param in enumerate ( state_config.keys() ):\n",
      "    parameter_min[param] = min_vals[i]\n",
      "    parameter_max[param] = max_vals[i]\n",
      "    # Define parameter transformations\n",
      "transformations = {\n",
      "        'lai': lambda x: np.exp ( -x/2. ), \\\n",
      "        'cab': lambda x: np.exp ( -x/100. ), \\\n",
      "        'car': lambda x: np.exp ( -x/100. ), \\\n",
      "        'cw': lambda x: np.exp ( -50.*x ), \\\n",
      "        'cm': lambda x: np.exp ( -100.*x ), \\\n",
      "        'ala': lambda x: x/90. }\n",
      "inv_transformations = {\n",
      "        'lai': lambda x: -2*np.log ( x ), \\\n",
      "        'cab': lambda x: -100*np.log ( x ), \\\n",
      "        'car': lambda x: -100*np.log( x ), \\\n",
      "        'cw': lambda x: (-1/50.)*np.log ( x ), \\\n",
      "        'cm': lambda x: (-1/100.)*np.log ( x ), \\\n",
      "        'ala': lambda x: 90.*x }\n",
      "\n",
      "# Define the state grid. In time in this case\n",
      "state_grid = np.arange ( 1, 366 )\n",
      "    \n",
      "# Define the state\n",
      "# L'etat, c'est moi\n",
      "state = State ( state_config, state_grid, default_par, \\\n",
      "        parameter_min, parameter_max )\n",
      "# Set the transformations\n",
      "state.set_transformations ( transformations, inv_transformations )\n",
      "\n",
      "def cab_traj ( t ):\n",
      "    out = t*0.\n",
      "    w = np.where( t <= 0.5 )[0]\n",
      "    out[w] = 10.5 + 70*t[w]\n",
      "    w = np.where(t > 0.5)[0]\n",
      "    out[w] = 80.5 - 70.*t[w]\n",
      "    return out\n",
      "\n",
      "trajectories = {\n",
      "        'lai': lambda t: (0.21 + 3.51 * (np.sin(np.pi*t)**5)), \n",
      "        'cw':  lambda t : 0.068/5 + 0.01*np.sin(np.pi * t+0.1) * \\\n",
      "                np.sin(6*np.pi*t + 0.1)\n",
      "}\n",
      "    \n",
      "# Now, create some simulated data...\n",
      "parameter_grid = create_parameter_trajectories ( state, trajectories )\n",
      "plt.subplot(2, 1, 1 )\n",
      "plt.plot ( np.arange(1, 366), parameter_grid[6, :], label=\"LAI\" )\n",
      "plt.xlabel( \"DoY\" )\n",
      "plt.ylabel (\"LAI [$m^{2}m^{-2}$]\")\n",
      "plt.subplot(2, 1, 2)\n",
      "#plt.plot ( np.arange(1, 366), parameter_grid[1, :], label=\"Cw\" )\n",
      "#plt.subplot(3, 1, 3)\n",
      "plt.plot ( np.arange(1, 366), parameter_grid[4, :], label=\"Cw\" )\n",
      "# Now forward model the observations...\n",
      "doys, vza, sza, raa, rho = create_observations ( state, parameter_grid, \\\n",
      "            42, -8.)\n",
      "temporal = TemporalSmoother ( state_grid, 10000, required_params=[\"lai\", \"cab\"] )\n",
      "obs = ObservationOperatorTimeSeriesGP( state_grid, state, rho_big, mask, emulators, bu, band_pass, bw )\n"
     ],
     "language": "python",
     "metadata": {},
     "outputs": [
      {
       "metadata": {},
       "output_type": "display_data",
       "png": "[encoded data removed]",
       "text": [
        "<matplotlib.figure.Figure at 0x179104d0>"
       ]
      }
     ],
     "prompt_number": 60
    },
    {
     "cell_type": "code",
     "collapsed": false,
     "input": [
      "state.add_operator( \"Prior\", prior )\n",
      "state.add_operator( \"Smoother\", temporal)\n",
      "state.add_operator( \"Obs\", obs)\n",
      "#x_dict['cab'] = np.random.rand(365)*80\n",
      "x_dict['cw'] = np.random.rand(365)*0.03\n",
      "retval = state.optimize ( x_dict )"
     ],
     "language": "python",
     "metadata": {},
     "outputs": [
      {
       "output_type": "stream",
       "stream": "stdout",
       "text": [
        "\t[Prior] --> 431.93\n",
        "\t[Smoother] --> 8.19134e+06\n",
        "\t[Obs] --> 67879.3"
       ]
      },
      {
       "output_type": "stream",
       "stream": "stdout",
       "text": [
        "\n",
        "\t\t[Total] -->\n",
        "\t[Prior] --> 3715.8\n",
        "\t[Smoother] --> 8.23537e+07\n",
        "\t[Obs] --> 39992.5"
       ]
      },
      {
       "output_type": "stream",
       "stream": "stdout",
       "text": [
        "\n",
        "\t\t[Total] -->\n",
        "\t[Prior] --> 310.463\n",
        "\t[Smoother] --> 5.84576e+06\n",
        "\t[Obs] --> 61371.4"
       ]
      },
      {
       "output_type": "stream",
       "stream": "stdout",
       "text": [
        "\n",
        "\t\t[Total] -->\n",
        "\t[Prior] --> 138.467\n",
        "\t[Smoother] --> 2.57732e+06\n",
        "\t[Obs] --> 2083.74"
       ]
      },
      {
       "output_type": "stream",
       "stream": "stdout",
       "text": [
        "\n",
        "\t\t[Total] -->\n",
        "\t[Prior] --> 68.4101\n",
        "\t[Smoother] --> 842538\n",
        "\t[Obs] --> 1051.57"
       ]
      },
      {
       "output_type": "stream",
       "stream": "stdout",
       "text": [
        "\n",
        "\t\t[Total] -->\n",
        "\t[Prior] --> 58.9365\n",
        "\t[Smoother] --> 546425\n",
        "\t[Obs] --> 967.896"
       ]
      },
      {
       "output_type": "stream",
       "stream": "stdout",
       "text": [
        "\n",
        "\t\t[Total] -->\n",
        "\t[Prior] --> 56.7367\n",
        "\t[Smoother] --> 363878\n",
        "\t[Obs] --> 813.631"
       ]
      },
      {
       "output_type": "stream",
       "stream": "stdout",
       "text": [
        "\n",
        "\t\t[Total] -->\n",
        "\t[Prior] --> 62.8903\n",
        "\t[Smoother] --> 293645\n",
        "\t[Obs] --> 643.277"
       ]
      },
      {
       "output_type": "stream",
       "stream": "stdout",
       "text": [
        "\n",
        "\t\t[Total] -->\n",
        "\t[Prior] --> 64.6745\n",
        "\t[Smoother] --> 245847\n",
        "\t[Obs] --> 380.988"
       ]
      },
      {
       "output_type": "stream",
       "stream": "stdout",
       "text": [
        "\n",
        "\t\t[Total] -->\n",
        "\t[Prior] --> 67.2728\n",
        "\t[Smoother] --> 214839\n",
        "\t[Obs] --> 320.953"
       ]
      },
      {
       "output_type": "stream",
       "stream": "stdout",
       "text": [
        "\n",
        "\t\t[Total] -->\n",
        "\t[Prior] --> 74.0541\n",
        "\t[Smoother] --> 183270\n",
        "\t[Obs] --> 278.054"
       ]
      },
      {
       "output_type": "stream",
       "stream": "stdout",
       "text": [
        "\n",
        "\t\t[Total] -->\n",
        "\t[Prior] --> 94.6124\n",
        "\t[Smoother] --> 150149\n",
        "\t[Obs] --> 429.824"
       ]
      },
      {
       "output_type": "stream",
       "stream": "stdout",
       "text": [
        "\n",
        "\t\t[Total] -->\n",
        "\t[Prior] --> 96.7869\n",
        "\t[Smoother] --> 130564\n",
        "\t[Obs] --> 226.027"
       ]
      },
      {
       "output_type": "stream",
       "stream": "stdout",
       "text": [
        "\n",
        "\t\t[Total] -->\n",
        "\t[Prior] --> 99.0816\n",
        "\t[Smoother] --> 119134\n",
        "\t[Obs] --> 216.519"
       ]
      },
      {
       "output_type": "stream",
       "stream": "stdout",
       "text": [
        "\n",
        "\t\t[Total] -->\n",
        "\t[Prior] --> 109.575\n",
        "\t[Smoother] --> 102022\n",
        "\t[Obs] --> 210.376"
       ]
      },
      {
       "output_type": "stream",
       "stream": "stdout",
       "text": [
        "\n",
        "\t\t[Total] -->\n",
        "\t[Prior] --> 130.25\n",
        "\t[Smoother] --> 79686.8\n",
        "\t[Obs] --> 204.726"
       ]
      },
      {
       "output_type": "stream",
       "stream": "stdout",
       "text": [
        "\n",
        "\t\t[Total] -->\n",
        "\t[Prior] --> 179.919\n",
        "\t[Smoother] --> 93706.9\n",
        "\t[Obs] --> 284.568"
       ]
      },
      {
       "output_type": "stream",
       "stream": "stdout",
       "text": [
        "\n",
        "\t\t[Total] -->\n",
        "\t[Prior] --> 135.254\n",
        "\t[Smoother] --> 76128.9\n",
        "\t[Obs] --> 194.023"
       ]
      },
      {
       "output_type": "stream",
       "stream": "stdout",
       "text": [
        "\n",
        "\t\t[Total] -->\n",
        "\t[Prior] --> 170.701\n",
        "\t[Smoother] --> 65433.5\n",
        "\t[Obs] --> 163.88"
       ]
      },
      {
       "output_type": "stream",
       "stream": "stdout",
       "text": [
        "\n",
        "\t\t[Total] -->\n",
        "\t[Prior] --> 184.807\n",
        "\t[Smoother] --> 55116.9\n",
        "\t[Obs] --> 162.246"
       ]
      },
      {
       "output_type": "stream",
       "stream": "stdout",
       "text": [
        "\n",
        "\t\t[Total] -->\n",
        "\t[Prior] --> 204.557\n",
        "\t[Smoother] --> 55681\n",
        "\t[Obs] --> 166.054"
       ]
      },
      {
       "output_type": "stream",
       "stream": "stdout",
       "text": [
        "\n",
        "\t\t[Total] -->\n",
        "\t[Prior] --> 190.604\n",
        "\t[Smoother] --> 49928.9\n",
        "\t[Obs] --> 155.906"
       ]
      },
      {
       "output_type": "stream",
       "stream": "stdout",
       "text": [
        "\n",
        "\t\t[Total] -->\n",
        "\t[Prior] --> 201.425\n",
        "\t[Smoother] --> 47197.6\n",
        "\t[Obs] --> 151.371"
       ]
      },
      {
       "output_type": "stream",
       "stream": "stdout",
       "text": [
        "\n",
        "\t\t[Total] -->\n",
        "\t[Prior] --> 208.939\n",
        "\t[Smoother] --> 40656.8\n",
        "\t[Obs] --> 157.748"
       ]
      },
      {
       "output_type": "stream",
       "stream": "stdout",
       "text": [
        "\n",
        "\t\t[Total] -->\n",
        "\t[Prior] --> 208.54\n",
        "\t[Smoother] --> 34201.9\n",
        "\t[Obs] --> 150.739"
       ]
      },
      {
       "output_type": "stream",
       "stream": "stdout",
       "text": [
        "\n",
        "\t\t[Total] -->\n",
        "\t[Prior] --> 210.297\n",
        "\t[Smoother] --> 27932.1\n",
        "\t[Obs] --> 147.749"
       ]
      },
      {
       "output_type": "stream",
       "stream": "stdout",
       "text": [
        "\n",
        "\t\t[Total] -->\n",
        "\t[Prior] --> 215.678\n",
        "\t[Smoother] --> 24469.2\n",
        "\t[Obs] --> 145.763"
       ]
      },
      {
       "output_type": "stream",
       "stream": "stdout",
       "text": [
        "\n",
        "\t\t[Total] -->\n",
        "\t[Prior] --> 227.291\n",
        "\t[Smoother] --> 23040.5\n",
        "\t[Obs] --> 156.658"
       ]
      },
      {
       "output_type": "stream",
       "stream": "stdout",
       "text": [
        "\n",
        "\t\t[Total] -->\n",
        "\t[Prior] --> 221.222\n",
        "\t[Smoother] --> 21575.3\n",
        "\t[Obs] --> 145.762"
       ]
      },
      {
       "output_type": "stream",
       "stream": "stdout",
       "text": [
        "\n",
        "\t\t[Total] -->\n",
        "\t[Prior] --> 226.283\n",
        "\t[Smoother] --> 19879.5\n",
        "\t[Obs] --> 140.789"
       ]
      },
      {
       "output_type": "stream",
       "stream": "stdout",
       "text": [
        "\n",
        "\t\t[Total] -->\n",
        "\t[Prior] --> 228.601\n",
        "\t[Smoother] --> 18614.5\n",
        "\t[Obs] --> 140.046"
       ]
      },
      {
       "output_type": "stream",
       "stream": "stdout",
       "text": [
        "\n",
        "\t\t[Total] -->\n",
        "\t[Prior] --> 231.709\n",
        "\t[Smoother] --> 16741.3\n",
        "\t[Obs] --> 139.408"
       ]
      },
      {
       "output_type": "stream",
       "stream": "stdout",
       "text": [
        "\n",
        "\t\t[Total] -->\n",
        "\t[Prior] --> 236.214\n",
        "\t[Smoother] --> 15180.6\n",
        "\t[Obs] --> 142.685"
       ]
      },
      {
       "output_type": "stream",
       "stream": "stdout",
       "text": [
        "\n",
        "\t\t[Total] -->\n",
        "\t[Prior] --> 236.653\n",
        "\t[Smoother] --> 13912.5\n",
        "\t[Obs] --> 139.757"
       ]
      },
      {
       "output_type": "stream",
       "stream": "stdout",
       "text": [
        "\n",
        "\t\t[Total] -->\n",
        "\t[Prior] --> 238.134\n",
        "\t[Smoother] --> 12764.3\n",
        "\t[Obs] --> 138.973"
       ]
      },
      {
       "output_type": "stream",
       "stream": "stdout",
       "text": [
        "\n",
        "\t\t[Total] -->\n",
        "\t[Prior] --> 240.486\n",
        "\t[Smoother] --> 11851.3\n",
        "\t[Obs] --> 138.924"
       ]
      },
      {
       "output_type": "stream",
       "stream": "stdout",
       "text": [
        "\n",
        "\t\t[Total] -->\n",
        "\t[Prior] --> 249.298\n",
        "\t[Smoother] --> 12442.1\n",
        "\t[Obs] --> 138.919"
       ]
      },
      {
       "output_type": "stream",
       "stream": "stdout",
       "text": [
        "\n",
        "\t\t[Total] -->\n",
        "\t[Prior] --> 241.478\n",
        "\t[Smoother] --> 11691.6\n",
        "\t[Obs] --> 138.164"
       ]
      },
      {
       "output_type": "stream",
       "stream": "stdout",
       "text": [
        "\n",
        "\t\t[Total] -->\n",
        "\t[Prior] --> 250.84\n",
        "\t[Smoother] --> 10724.3\n",
        "\t[Obs] --> 136.569"
       ]
      },
      {
       "output_type": "stream",
       "stream": "stdout",
       "text": [
        "\n",
        "\t\t[Total] -->\n",
        "\t[Prior] --> 259.731\n",
        "\t[Smoother] --> 10234.6\n",
        "\t[Obs] --> 135.141"
       ]
      },
      {
       "output_type": "stream",
       "stream": "stdout",
       "text": [
        "\n",
        "\t\t[Total] -->\n",
        "\t[Prior] --> 270.582\n",
        "\t[Smoother] --> 9430.25\n",
        "\t[Obs] --> 134.395"
       ]
      },
      {
       "output_type": "stream",
       "stream": "stdout",
       "text": [
        "\n",
        "\t\t[Total] -->\n",
        "\t[Prior] --> 273.746\n",
        "\t[Smoother] --> 8743.31\n",
        "\t[Obs] --> 133.607"
       ]
      },
      {
       "output_type": "stream",
       "stream": "stdout",
       "text": [
        "\n",
        "\t\t[Total] -->\n",
        "\t[Prior] --> 277.995\n",
        "\t[Smoother] --> 8091.98\n",
        "\t[Obs] --> 132.804"
       ]
      },
      {
       "output_type": "stream",
       "stream": "stdout",
       "text": [
        "\n",
        "\t\t[Total] -->\n",
        "\t[Prior] --> 287.017\n",
        "\t[Smoother] --> 8046.5\n",
        "\t[Obs] --> 132.718"
       ]
      },
      {
       "output_type": "stream",
       "stream": "stdout",
       "text": [
        "\n",
        "\t\t[Total] -->\n",
        "\t[Prior] --> 294.311\n",
        "\t[Smoother] --> 7770\n",
        "\t[Obs] --> 131.62"
       ]
      },
      {
       "output_type": "stream",
       "stream": "stdout",
       "text": [
        "\n",
        "\t\t[Total] -->\n",
        "\t[Prior] --> 301.167\n",
        "\t[Smoother] --> 7704.88\n",
        "\t[Obs] --> 131.275"
       ]
      },
      {
       "output_type": "stream",
       "stream": "stdout",
       "text": [
        "\n",
        "\t\t[Total] -->\n",
        "\t[Prior] --> 308.178\n",
        "\t[Smoother] --> 7417.07\n",
        "\t[Obs] --> 131.274"
       ]
      },
      {
       "output_type": "stream",
       "stream": "stdout",
       "text": [
        "\n",
        "\t\t[Total] -->\n",
        "\t[Prior] --> 320.296\n",
        "\t[Smoother] --> 7139.73\n",
        "\t[Obs] --> 132.121"
       ]
      },
      {
       "output_type": "stream",
       "stream": "stdout",
       "text": [
        "\n",
        "\t\t[Total] -->\n",
        "\t[Prior] --> 321.305\n",
        "\t[Smoother] --> 6547.98\n",
        "\t[Obs] --> 130.927"
       ]
      },
      {
       "output_type": "stream",
       "stream": "stdout",
       "text": [
        "\n",
        "\t\t[Total] -->\n",
        "\t[Prior] --> 319.387\n",
        "\t[Smoother] --> 6089.51\n",
        "\t[Obs] --> 130.35"
       ]
      },
      {
       "output_type": "stream",
       "stream": "stdout",
       "text": [
        "\n",
        "\t\t[Total] -->\n",
        "\t[Prior] --> 318.612\n",
        "\t[Smoother] --> 5774.23\n",
        "\t[Obs] --> 129.539"
       ]
      },
      {
       "output_type": "stream",
       "stream": "stdout",
       "text": [
        "\n",
        "\t\t[Total] -->\n",
        "\t[Prior] --> 320.213\n",
        "\t[Smoother] --> 5116.15\n",
        "\t[Obs] --> 132.891"
       ]
      },
      {
       "output_type": "stream",
       "stream": "stdout",
       "text": [
        "\n",
        "\t\t[Total] -->\n",
        "\t[Prior] --> 319.326\n",
        "\t[Smoother] --> 5131.82\n",
        "\t[Obs] --> 130.514"
       ]
      },
      {
       "output_type": "stream",
       "stream": "stdout",
       "text": [
        "\n",
        "\t\t[Total] -->\n",
        "\t[Prior] --> 320.789\n",
        "\t[Smoother] --> 4980.95\n",
        "\t[Obs] --> 129.204"
       ]
      },
      {
       "output_type": "stream",
       "stream": "stdout",
       "text": [
        "\n",
        "\t\t[Total] -->\n",
        "\t[Prior] --> 322.418\n",
        "\t[Smoother] --> 4872.33\n",
        "\t[Obs] --> 128.816"
       ]
      },
      {
       "output_type": "stream",
       "stream": "stdout",
       "text": [
        "\n",
        "\t\t[Total] -->\n",
        "\t[Prior] --> 323.218\n",
        "\t[Smoother] --> 4774.59\n",
        "\t[Obs] --> 128.591"
       ]
      },
      {
       "output_type": "stream",
       "stream": "stdout",
       "text": [
        "\n",
        "\t\t[Total] -->\n",
        "\t[Prior] --> 322.762\n",
        "\t[Smoother] --> 4460.95\n",
        "\t[Obs] --> 128.78"
       ]
      },
      {
       "output_type": "stream",
       "stream": "stdout",
       "text": [
        "\n",
        "\t\t[Total] -->\n",
        "\t[Prior] --> 320.826\n",
        "\t[Smoother] --> 4000.08\n",
        "\t[Obs] --> 128.745"
       ]
      },
      {
       "output_type": "stream",
       "stream": "stdout",
       "text": [
        "\n",
        "\t\t[Total] -->\n",
        "\t[Prior] --> 317.291\n",
        "\t[Smoother] --> 3631.33\n",
        "\t[Obs] --> 129.299"
       ]
      },
      {
       "output_type": "stream",
       "stream": "stdout",
       "text": [
        "\n",
        "\t\t[Total] -->\n",
        "\t[Prior] --> 316.199\n",
        "\t[Smoother] --> 3457.86\n",
        "\t[Obs] --> 128.546"
       ]
      },
      {
       "output_type": "stream",
       "stream": "stdout",
       "text": [
        "\n",
        "\t\t[Total] -->\n",
        "\t[Prior] --> 315.724\n",
        "\t[Smoother] --> 3358.55\n",
        "\t[Obs] --> 128.083"
       ]
      },
      {
       "output_type": "stream",
       "stream": "stdout",
       "text": [
        "\n",
        "\t\t[Total] -->\n",
        "\t[Prior] --> 314.87\n",
        "\t[Smoother] --> 3210.85\n",
        "\t[Obs] --> 127.782"
       ]
      },
      {
       "output_type": "stream",
       "stream": "stdout",
       "text": [
        "\n",
        "\t\t[Total] -->\n",
        "\t[Prior] --> 314.123\n",
        "\t[Smoother] --> 3131.69\n",
        "\t[Obs] --> 127.769"
       ]
      },
      {
       "output_type": "stream",
       "stream": "stdout",
       "text": [
        "\n",
        "\t\t[Total] -->\n",
        "\t[Prior] --> 314.169\n",
        "\t[Smoother] --> 3058.92\n",
        "\t[Obs] --> 127.504"
       ]
      },
      {
       "output_type": "stream",
       "stream": "stdout",
       "text": [
        "\n",
        "\t\t[Total] -->\n",
        "\t[Prior] --> 314.169\n",
        "\t[Smoother] --> 3012.92\n",
        "\t[Obs] --> 127.681"
       ]
      },
      {
       "output_type": "stream",
       "stream": "stdout",
       "text": [
        "\n",
        "\t\t[Total] -->\n",
        "\t[Prior] --> 314.068\n",
        "\t[Smoother] --> 2955.56\n",
        "\t[Obs] --> 127.933"
       ]
      },
      {
       "output_type": "stream",
       "stream": "stdout",
       "text": [
        "\n",
        "\t\t[Total] -->\n",
        "\t[Prior] --> 313.959\n",
        "\t[Smoother] --> 2850.92\n",
        "\t[Obs] --> 128.279"
       ]
      },
      {
       "output_type": "stream",
       "stream": "stdout",
       "text": [
        "\n",
        "\t\t[Total] -->\n",
        "\t[Prior] --> 314.212\n",
        "\t[Smoother] --> 2911.41\n",
        "\t[Obs] --> 129.034"
       ]
      },
      {
       "output_type": "stream",
       "stream": "stdout",
       "text": [
        "\n",
        "\t\t[Total] -->\n",
        "\t[Prior] --> 313.98\n",
        "\t[Smoother] --> 2826.86\n",
        "\t[Obs] --> 128.224"
       ]
      },
      {
       "output_type": "stream",
       "stream": "stdout",
       "text": [
        "\n",
        "\t\t[Total] -->\n",
        "\t[Prior] --> 314.036\n",
        "\t[Smoother] --> 2756.9\n",
        "\t[Obs] --> 128.259"
       ]
      },
      {
       "output_type": "stream",
       "stream": "stdout",
       "text": [
        "\n",
        "\t\t[Total] -->\n",
        "\t[Prior] --> 314.322\n",
        "\t[Smoother] --> 2708.95\n",
        "\t[Obs] --> 128.298"
       ]
      },
      {
       "output_type": "stream",
       "stream": "stdout",
       "text": [
        "\n",
        "\t\t[Total] -->\n",
        "\t[Prior] --> 314.935\n",
        "\t[Smoother] --> 2651.36\n",
        "\t[Obs] --> 127.924"
       ]
      },
      {
       "output_type": "stream",
       "stream": "stdout",
       "text": [
        "\n",
        "\t\t[Total] -->\n",
        "\t[Prior] --> 315.17\n",
        "\t[Smoother] --> 2605.8\n",
        "\t[Obs] --> 127.814"
       ]
      },
      {
       "output_type": "stream",
       "stream": "stdout",
       "text": [
        "\n",
        "\t\t[Total] -->\n",
        "\t[Prior] --> 315.484\n",
        "\t[Smoother] --> 2532.35\n",
        "\t[Obs] --> 127.617"
       ]
      },
      {
       "output_type": "stream",
       "stream": "stdout",
       "text": [
        "\n",
        "\t\t[Total] -->\n",
        "\t[Prior] --> 315.864\n",
        "\t[Smoother] --> 2502.47\n",
        "\t[Obs] --> 127.65"
       ]
      },
      {
       "output_type": "stream",
       "stream": "stdout",
       "text": [
        "\n",
        "\t\t[Total] -->\n",
        "\t[Prior] --> 316.187\n",
        "\t[Smoother] --> 2447.58\n",
        "\t[Obs] --> 127.715"
       ]
      },
      {
       "output_type": "stream",
       "stream": "stdout",
       "text": [
        "\n",
        "\t\t[Total] -->\n",
        "\t[Prior] --> 317.018\n",
        "\t[Smoother] --> 2424.5\n",
        "\t[Obs] --> 127.819"
       ]
      },
      {
       "output_type": "stream",
       "stream": "stdout",
       "text": [
        "\n",
        "\t\t[Total] -->\n",
        "\t[Prior] --> 317.376\n",
        "\t[Smoother] --> 2344.47\n",
        "\t[Obs] --> 128.085"
       ]
      },
      {
       "output_type": "stream",
       "stream": "stdout",
       "text": [
        "\n",
        "\t\t[Total] -->\n",
        "\t[Prior] --> 317.61\n",
        "\t[Smoother] --> 2301.31\n",
        "\t[Obs] --> 128.059"
       ]
      },
      {
       "output_type": "stream",
       "stream": "stdout",
       "text": [
        "\n",
        "\t\t[Total] -->\n",
        "\t[Prior] --> 318.673\n",
        "\t[Smoother] --> 2256.37\n",
        "\t[Obs] --> 127.987"
       ]
      },
      {
       "output_type": "stream",
       "stream": "stdout",
       "text": [
        "\n",
        "\t\t[Total] -->\n",
        "\t[Prior] --> 319.639\n",
        "\t[Smoother] --> 2249.27\n",
        "\t[Obs] --> 128.057"
       ]
      },
      {
       "output_type": "stream",
       "stream": "stdout",
       "text": [
        "\n",
        "\t\t[Total] -->\n",
        "\t[Prior] --> 319.534\n",
        "\t[Smoother] --> 2204.43\n",
        "\t[Obs] --> 127.821"
       ]
      },
      {
       "output_type": "stream",
       "stream": "stdout",
       "text": [
        "\n",
        "\t\t[Total] -->\n",
        "\t[Prior] --> 319.722\n",
        "\t[Smoother] --> 2171.69\n",
        "\t[Obs] --> 127.797"
       ]
      },
      {
       "output_type": "stream",
       "stream": "stdout",
       "text": [
        "\n",
        "\t\t[Total] -->\n",
        "\t[Prior] --> 320.261\n",
        "\t[Smoother] --> 2142.53\n",
        "\t[Obs] --> 127.859"
       ]
      },
      {
       "output_type": "stream",
       "stream": "stdout",
       "text": [
        "\n",
        "\t\t[Total] -->\n",
        "\t[Prior] --> 321.158\n",
        "\t[Smoother] --> 2106.9\n",
        "\t[Obs] --> 127.941"
       ]
      },
      {
       "output_type": "stream",
       "stream": "stdout",
       "text": [
        "\n",
        "\t\t[Total] -->\n",
        "\t[Prior] --> 323.338\n",
        "\t[Smoother] --> 2091.13\n",
        "\t[Obs] --> 128.383"
       ]
      },
      {
       "output_type": "stream",
       "stream": "stdout",
       "text": [
        "\n",
        "\t\t[Total] -->\n",
        "\t[Prior] --> 323.459\n",
        "\t[Smoother] --> 2045.88\n",
        "\t[Obs] --> 128.163"
       ]
      },
      {
       "output_type": "stream",
       "stream": "stdout",
       "text": [
        "\n",
        "\t\t[Total] -->\n",
        "\t[Prior] --> 323.668\n",
        "\t[Smoother] --> 2020.84\n",
        "\t[Obs] --> 128.106"
       ]
      },
      {
       "output_type": "stream",
       "stream": "stdout",
       "text": [
        "\n",
        "\t\t[Total] -->\n",
        "\t[Prior] --> 324.381\n",
        "\t[Smoother] --> 1991.63\n",
        "\t[Obs] --> 128.052"
       ]
      },
      {
       "output_type": "stream",
       "stream": "stdout",
       "text": [
        "\n",
        "\t\t[Total] -->\n",
        "\t[Prior] --> 326.446\n",
        "\t[Smoother] --> 1960.44\n",
        "\t[Obs] --> 128.368"
       ]
      },
      {
       "output_type": "stream",
       "stream": "stdout",
       "text": [
        "\n",
        "\t\t[Total] -->\n",
        "\t[Prior] --> 326.964\n",
        "\t[Smoother] --> 1925.33\n",
        "\t[Obs] --> 127.955"
       ]
      },
      {
       "output_type": "stream",
       "stream": "stdout",
       "text": [
        "\n",
        "\t\t[Total] -->\n",
        "\t[Prior] --> 327.397\n",
        "\t[Smoother] --> 1901.65\n",
        "\t[Obs] --> 127.897"
       ]
      },
      {
       "output_type": "stream",
       "stream": "stdout",
       "text": [
        "\n",
        "\t\t[Total] -->\n",
        "\t[Prior] --> 328.364\n",
        "\t[Smoother] --> 1880.25\n",
        "\t[Obs] --> 127.839"
       ]
      },
      {
       "output_type": "stream",
       "stream": "stdout",
       "text": [
        "\n",
        "\t\t[Total] -->\n",
        "\t[Prior] --> 329.547\n",
        "\t[Smoother] --> 1857.58\n",
        "\t[Obs] --> 127.735"
       ]
      },
      {
       "output_type": "stream",
       "stream": "stdout",
       "text": [
        "\n",
        "\t\t[Total] -->\n",
        "\t[Prior] --> 332.397\n",
        "\t[Smoother] --> 1866.31\n",
        "\t[Obs] --> 128.044"
       ]
      },
      {
       "output_type": "stream",
       "stream": "stdout",
       "text": [
        "\n",
        "\t\t[Total] -->\n",
        "\t[Prior] --> 330.198\n",
        "\t[Smoother] --> 1843.4\n",
        "\t[Obs] --> 127.747"
       ]
      },
      {
       "output_type": "stream",
       "stream": "stdout",
       "text": [
        "\n",
        "\t\t[Total] -->\n",
        "\t[Prior] --> 331.768\n",
        "\t[Smoother] --> 1824.12\n",
        "\t[Obs] --> 127.684"
       ]
      },
      {
       "output_type": "stream",
       "stream": "stdout",
       "text": [
        "\n",
        "\t\t[Total] -->\n",
        "\t[Prior] --> 333.007\n",
        "\t[Smoother] --> 1807.31\n",
        "\t[Obs] --> 127.763"
       ]
      },
      {
       "output_type": "stream",
       "stream": "stdout",
       "text": [
        "\n",
        "\t\t[Total] -->\n",
        "\t[Prior] --> 334.495\n",
        "\t[Smoother] --> 1779.29\n",
        "\t[Obs] --> 127.743"
       ]
      },
      {
       "output_type": "stream",
       "stream": "stdout",
       "text": [
        "\n",
        "\t\t[Total] -->\n",
        "\t[Prior] --> 334.709\n",
        "\t[Smoother] --> 1761.47\n",
        "\t[Obs] --> 127.746"
       ]
      },
      {
       "output_type": "stream",
       "stream": "stdout",
       "text": [
        "\n",
        "\t\t[Total] -->\n",
        "\t[Prior] --> 334.956\n",
        "\t[Smoother] --> 1731.42\n",
        "\t[Obs] --> 127.886"
       ]
      },
      {
       "output_type": "stream",
       "stream": "stdout",
       "text": [
        "\n",
        "\t\t[Total] -->\n",
        "\t[Prior] --> 335.476\n",
        "\t[Smoother] --> 1716.41\n",
        "\t[Obs] --> 127.78"
       ]
      },
      {
       "output_type": "stream",
       "stream": "stdout",
       "text": [
        "\n",
        "\t\t[Total] -->\n",
        "\t[Prior] --> 336.446\n",
        "\t[Smoother] --> 1696.43\n",
        "\t[Obs] --> 127.754"
       ]
      },
      {
       "output_type": "stream",
       "stream": "stdout",
       "text": [
        "\n",
        "\t\t[Total] -->\n",
        "\t[Prior] --> 337.594\n",
        "\t[Smoother] --> 1702.8\n",
        "\t[Obs] --> 127.679"
       ]
      },
      {
       "output_type": "stream",
       "stream": "stdout",
       "text": [
        "\n",
        "\t\t[Total] -->\n",
        "\t[Prior] --> 336.566\n",
        "\t[Smoother] --> 1695.56\n",
        "\t[Obs] --> 127.744"
       ]
      },
      {
       "output_type": "stream",
       "stream": "stdout",
       "text": [
        "\n",
        "\t\t[Total] -->\n",
        "\t[Prior] --> 338.101\n",
        "\t[Smoother] --> 1680.18\n",
        "\t[Obs] --> 127.665"
       ]
      },
      {
       "output_type": "stream",
       "stream": "stdout",
       "text": [
        "\n",
        "\t\t[Total] -->\n",
        "\t[Prior] --> 338.817\n",
        "\t[Smoother] --> 1696.97\n",
        "\t[Obs] --> 127.724"
       ]
      },
      {
       "output_type": "stream",
       "stream": "stdout",
       "text": [
        "\n",
        "\t\t[Total] -->\n",
        "\t[Prior] --> 338.146\n",
        "\t[Smoother] --> 1679.96\n",
        "\t[Obs] --> 127.661"
       ]
      },
      {
       "output_type": "stream",
       "stream": "stdout",
       "text": [
        "\n",
        "\t\t[Total] -->\n",
        "\t[Prior] --> 338.538\n",
        "\t[Smoother] --> 1673.15\n",
        "\t[Obs] --> 127.613"
       ]
      },
      {
       "output_type": "stream",
       "stream": "stdout",
       "text": [
        "\n",
        "\t\t[Total] -->\n",
        "\t[Prior] --> 338.706\n",
        "\t[Smoother] --> 1665.07\n",
        "\t[Obs] --> 127.578"
       ]
      },
      {
       "output_type": "stream",
       "stream": "stdout",
       "text": [
        "\n",
        "\t\t[Total] -->\n",
        "\t[Prior] --> 339.164\n",
        "\t[Smoother] --> 1641.17\n",
        "\t[Obs] --> 127.495"
       ]
      },
      {
       "output_type": "stream",
       "stream": "stdout",
       "text": [
        "\n",
        "\t\t[Total] -->\n",
        "\t[Prior] --> 339.546\n",
        "\t[Smoother] --> 1642.13\n",
        "\t[Obs] --> 127.568"
       ]
      },
      {
       "output_type": "stream",
       "stream": "stdout",
       "text": [
        "\n",
        "\t\t[Total] -->\n",
        "\t[Prior] --> 339.276\n",
        "\t[Smoother] --> 1637.26\n",
        "\t[Obs] --> 127.497"
       ]
      },
      {
       "output_type": "stream",
       "stream": "stdout",
       "text": [
        "\n",
        "\t\t[Total] -->\n",
        "\t[Prior] --> 339.436\n",
        "\t[Smoother] --> 1624.21\n",
        "\t[Obs] --> 127.539"
       ]
      },
      {
       "output_type": "stream",
       "stream": "stdout",
       "text": [
        "\n",
        "\t\t[Total] -->\n",
        "\t[Prior] --> 339.558\n",
        "\t[Smoother] --> 1615.44\n",
        "\t[Obs] --> 127.584"
       ]
      },
      {
       "output_type": "stream",
       "stream": "stdout",
       "text": [
        "\n",
        "\t\t[Total] -->\n",
        "\t[Prior] --> 339.814\n",
        "\t[Smoother] --> 1596.08\n",
        "\t[Obs] --> 127.685"
       ]
      },
      {
       "output_type": "stream",
       "stream": "stdout",
       "text": [
        "\n",
        "\t\t[Total] -->\n",
        "\t[Prior] --> 340.091\n",
        "\t[Smoother] --> 1591.53\n",
        "\t[Obs] --> 127.725"
       ]
      },
      {
       "output_type": "stream",
       "stream": "stdout",
       "text": [
        "\n",
        "\t\t[Total] -->\n",
        "\t[Prior] --> 340.281\n",
        "\t[Smoother] --> 1583.69\n",
        "\t[Obs] --> 127.712"
       ]
      },
      {
       "output_type": "stream",
       "stream": "stdout",
       "text": [
        "\n",
        "\t\t[Total] -->\n",
        "\t[Prior] --> 340.543\n",
        "\t[Smoother] --> 1574.01\n",
        "\t[Obs] --> 127.742"
       ]
      },
      {
       "output_type": "stream",
       "stream": "stdout",
       "text": [
        "\n",
        "\t\t[Total] -->\n",
        "\t[Prior] --> 340.833\n",
        "\t[Smoother] --> 1564.93\n",
        "\t[Obs] --> 127.698"
       ]
      },
      {
       "output_type": "stream",
       "stream": "stdout",
       "text": [
        "\n",
        "\t\t[Total] -->\n",
        "\t[Prior] --> 341.039\n",
        "\t[Smoother] --> 1557.55\n",
        "\t[Obs] --> 127.721"
       ]
      },
      {
       "output_type": "stream",
       "stream": "stdout",
       "text": [
        "\n",
        "\t\t[Total] -->\n",
        "\t[Prior] --> 341.422\n",
        "\t[Smoother] --> 1549.9\n",
        "\t[Obs] --> 127.765"
       ]
      },
      {
       "output_type": "stream",
       "stream": "stdout",
       "text": [
        "\n",
        "\t\t[Total] -->\n",
        "\t[Prior] --> 341.557\n",
        "\t[Smoother] --> 1546.72\n",
        "\t[Obs] --> 127.763"
       ]
      },
      {
       "output_type": "stream",
       "stream": "stdout",
       "text": [
        "\n",
        "\t\t[Total] -->\n",
        "\t[Prior] --> 341.645\n",
        "\t[Smoother] --> 1542.9\n",
        "\t[Obs] --> 127.758"
       ]
      },
      {
       "output_type": "stream",
       "stream": "stdout",
       "text": [
        "\n",
        "\t\t[Total] -->\n",
        "\t[Prior] --> 341.991\n",
        "\t[Smoother] --> 1537.54\n",
        "\t[Obs] --> 127.667"
       ]
      },
      {
       "output_type": "stream",
       "stream": "stdout",
       "text": [
        "\n",
        "\t\t[Total] -->\n",
        "\t[Prior] --> 342.258\n",
        "\t[Smoother] --> 1533.85\n",
        "\t[Obs] --> 127.721"
       ]
      },
      {
       "output_type": "stream",
       "stream": "stdout",
       "text": [
        "\n",
        "\t\t[Total] -->\n",
        "\t[Prior] --> 342.277\n",
        "\t[Smoother] --> 1529.79\n",
        "\t[Obs] --> 127.674"
       ]
      },
      {
       "output_type": "stream",
       "stream": "stdout",
       "text": [
        "\n",
        "\t\t[Total] -->\n",
        "\t[Prior] --> 342.44\n",
        "\t[Smoother] --> 1524.58\n",
        "\t[Obs] --> 127.597"
       ]
      },
      {
       "output_type": "stream",
       "stream": "stdout",
       "text": [
        "\n",
        "\t\t[Total] -->\n",
        "\t[Prior] --> 342.629\n",
        "\t[Smoother] --> 1520.97\n",
        "\t[Obs] --> 127.566"
       ]
      },
      {
       "output_type": "stream",
       "stream": "stdout",
       "text": [
        "\n",
        "\t\t[Total] -->\n",
        "\t[Prior] --> 343.194\n",
        "\t[Smoother] --> 1525.8\n",
        "\t[Obs] --> 127.507"
       ]
      },
      {
       "output_type": "stream",
       "stream": "stdout",
       "text": [
        "\n",
        "\t\t[Total] -->\n",
        "\t[Prior] --> 342.684\n",
        "\t[Smoother] --> 1520.3\n",
        "\t[Obs] --> 127.555"
       ]
      },
      {
       "output_type": "stream",
       "stream": "stdout",
       "text": [
        "\n",
        "\t\t[Total] -->\n",
        "\t[Prior] --> 343.206\n",
        "\t[Smoother] --> 1515.06\n",
        "\t[Obs] --> 127.533"
       ]
      },
      {
       "output_type": "stream",
       "stream": "stdout",
       "text": [
        "\n",
        "\t\t[Total] -->\n",
        "\t[Prior] --> 343.545\n",
        "\t[Smoother] --> 1509.48\n",
        "\t[Obs] --> 127.56"
       ]
      },
      {
       "output_type": "stream",
       "stream": "stdout",
       "text": [
        "\n",
        "\t\t[Total] -->\n",
        "\t[Prior] --> 343.965\n",
        "\t[Smoother] --> 1505.16\n",
        "\t[Obs] --> 127.616"
       ]
      },
      {
       "output_type": "stream",
       "stream": "stdout",
       "text": [
        "\n",
        "\t\t[Total] -->\n",
        "\t[Prior] --> 343.952\n",
        "\t[Smoother] --> 1504.43\n",
        "\t[Obs] --> 127.635"
       ]
      },
      {
       "output_type": "stream",
       "stream": "stdout",
       "text": [
        "\n",
        "\t\t[Total] -->\n",
        "\t[Prior] --> 343.951\n",
        "\t[Smoother] --> 1501.45\n",
        "\t[Obs] --> 127.646"
       ]
      },
      {
       "output_type": "stream",
       "stream": "stdout",
       "text": [
        "\n",
        "\t\t[Total] -->\n",
        "\t[Prior] --> 344.143\n",
        "\t[Smoother] --> 1499.23\n",
        "\t[Obs] --> 127.69"
       ]
      },
      {
       "output_type": "stream",
       "stream": "stdout",
       "text": [
        "\n",
        "\t\t[Total] -->\n",
        "\t[Prior] --> 344.657\n",
        "\t[Smoother] --> 1494.75\n",
        "\t[Obs] --> 127.649"
       ]
      },
      {
       "output_type": "stream",
       "stream": "stdout",
       "text": [
        "\n",
        "\t\t[Total] -->\n",
        "\t[Prior] --> 344.986\n",
        "\t[Smoother] --> 1494.49\n",
        "\t[Obs] --> 127.642"
       ]
      },
      {
       "output_type": "stream",
       "stream": "stdout",
       "text": [
        "\n",
        "\t\t[Total] -->\n",
        "\t[Prior] --> 344.741\n",
        "\t[Smoother] --> 1494.39\n",
        "\t[Obs] --> 127.646"
       ]
      },
      {
       "output_type": "stream",
       "stream": "stdout",
       "text": [
        "\n",
        "\t\t[Total] -->\n",
        "\t[Prior] --> 345.376\n",
        "\t[Smoother] --> 1494.15\n",
        "\t[Obs] --> 127.625"
       ]
      },
      {
       "output_type": "stream",
       "stream": "stdout",
       "text": [
        "\n",
        "\t\t[Total] -->\n",
        "\t[Prior] --> 344.898\n",
        "\t[Smoother] --> 1493.39\n",
        "\t[Obs] --> 127.638"
       ]
      },
      {
       "output_type": "stream",
       "stream": "stdout",
       "text": [
        "\n",
        "\t\t[Total] -->\n",
        "\t[Prior] --> 345.546\n",
        "\t[Smoother] --> 1494.24\n",
        "\t[Obs] --> 127.621"
       ]
      },
      {
       "output_type": "stream",
       "stream": "stdout",
       "text": [
        "\n",
        "\t\t[Total] -->\n",
        "\t[Prior] --> 344.996\n",
        "\t[Smoother] --> 1492.93\n",
        "\t[Obs] --> 127.634"
       ]
      },
      {
       "output_type": "stream",
       "stream": "stdout",
       "text": [
        "\n",
        "\t\t[Total] -->\n",
        "\t[Prior] --> 345.731\n",
        "\t[Smoother] --> 1491.9\n",
        "\t[Obs] --> 127.623"
       ]
      },
      {
       "output_type": "stream",
       "stream": "stdout",
       "text": [
        "\n",
        "\t\t[Total] -->\n",
        "\t[Prior] --> 345.99\n",
        "\t[Smoother] --> 1498.37\n",
        "\t[Obs] --> 127.621"
       ]
      },
      {
       "output_type": "stream",
       "stream": "stdout",
       "text": [
        "\n",
        "\t\t[Total] -->\n",
        "\t[Prior] --> 345.737\n",
        "\t[Smoother] --> 1492\n",
        "\t[Obs] --> 127.623"
       ]
      },
      {
       "output_type": "stream",
       "stream": "stdout",
       "text": [
        "\n",
        "\t\t[Total] -->\n",
        "\t[Prior] --> 345.731\n",
        "\t[Smoother] --> 1491.9\n",
        "\t[Obs] --> 127.623"
       ]
      },
      {
       "output_type": "stream",
       "stream": "stdout",
       "text": [
        "\n",
        "\t\t[Total] -->\n",
        "\t[Prior] --> 345.731\n",
        "\t[Smoother] --> 1491.9\n",
        "\t[Obs] --> 127.623"
       ]
      },
      {
       "output_type": "stream",
       "stream": "stdout",
       "text": [
        "\n",
        "\t\t[Total] -->\n",
        "\t[Prior] --> 345.731\n",
        "\t[Smoother] --> 1491.9\n",
        "\t[Obs] --> 127.623"
       ]
      },
      {
       "output_type": "stream",
       "stream": "stdout",
       "text": [
        "\n",
        "\t\t[Total] -->\n",
        "\t[Prior] --> 345.731\n",
        "\t[Smoother] --> 1491.9\n",
        "\t[Obs] --> 127.623"
       ]
      },
      {
       "output_type": "stream",
       "stream": "stdout",
       "text": [
        "\n",
        "\t\t[Total] -->\n",
        "\t[Prior] --> 345.731\n",
        "\t[Smoother] --> 1491.9\n",
        "\t[Obs] --> 127.623"
       ]
      },
      {
       "output_type": "stream",
       "stream": "stdout",
       "text": [
        "\n",
        "\t\t[Total] -->\n",
        "\t[Prior] --> 345.731\n",
        "\t[Smoother] --> 1491.9\n",
        "\t[Obs] --> 127.623"
       ]
      },
      {
       "output_type": "stream",
       "stream": "stdout",
       "text": [
        "\n",
        "\t\t[Total] -->\n",
        "\t[Prior] --> 345.731\n",
        "\t[Smoother] --> 1491.9\n",
        "\t[Obs] --> 127.623"
       ]
      },
      {
       "output_type": "stream",
       "stream": "stdout",
       "text": [
        "\n",
        "\t\t[Total] -->\n",
        "\t[Prior] --> 345.731\n",
        "\t[Smoother] --> 1491.9\n",
        "\t[Obs] --> 127.623"
       ]
      },
      {
       "output_type": "stream",
       "stream": "stdout",
       "text": [
        "\n",
        "\t\t[Total] -->\n",
        "\t[Prior] --> 345.731\n",
        "\t[Smoother] --> 1491.9\n",
        "\t[Obs] --> 127.623"
       ]
      },
      {
       "output_type": "stream",
       "stream": "stdout",
       "text": [
        "\n",
        "\t\t[Total] -->\n",
        "\t[Prior] --> 345.731\n",
        "\t[Smoother] --> 1491.9\n",
        "\t[Obs] --> 127.623"
       ]
      },
      {
       "output_type": "stream",
       "stream": "stdout",
       "text": [
        "\n",
        "\t\t[Total] -->\n",
        "\t[Prior] --> 345.731\n",
        "\t[Smoother] --> 1491.9\n",
        "\t[Obs] --> 127.623"
       ]
      },
      {
       "output_type": "stream",
       "stream": "stdout",
       "text": [
        "\n",
        "\t\t[Total] -->\n",
        "\t[Prior] --> 345.731\n",
        "\t[Smoother] --> 1491.9\n",
        "\t[Obs] --> 127.623"
       ]
      },
      {
       "output_type": "stream",
       "stream": "stdout",
       "text": [
        "\n",
        "\t\t[Total] -->\n",
        "\t[Prior] --> 345.731\n",
        "\t[Smoother] --> 1491.9\n",
        "\t[Obs] --> 127.623"
       ]
      },
      {
       "output_type": "stream",
       "stream": "stdout",
       "text": [
        "\n",
        "\t\t[Total] -->\n",
        "\t[Prior] --> 345.731\n",
        "\t[Smoother] --> 1491.9\n",
        "\t[Obs] --> 127.623"
       ]
      },
      {
       "output_type": "stream",
       "stream": "stdout",
       "text": [
        "\n",
        "\t\t[Total] -->\n",
        "\t[Prior] --> 345.731\n",
        "\t[Smoother] --> 1491.9\n",
        "\t[Obs] --> 127.623"
       ]
      },
      {
       "output_type": "stream",
       "stream": "stdout",
       "text": [
        "\n",
        "\t\t[Total] -->\n",
        "\t[Prior] --> 345.731\n",
        "\t[Smoother] --> 1491.9\n",
        "\t[Obs] --> 127.623"
       ]
      },
      {
       "output_type": "stream",
       "stream": "stdout",
       "text": [
        "\n",
        "\t\t[Total] -->\n",
        "\t[Prior] --> 345.731\n",
        "\t[Smoother] --> 1491.9\n",
        "\t[Obs] --> 127.623"
       ]
      },
      {
       "output_type": "stream",
       "stream": "stdout",
       "text": [
        "\n",
        "\t\t[Total] -->\n",
        "\t[Prior] --> 345.731\n",
        "\t[Smoother] --> 1491.9\n",
        "\t[Obs] --> 127.623"
       ]
      },
      {
       "output_type": "stream",
       "stream": "stdout",
       "text": [
        "\n",
        "\t\t[Total] -->\n",
        "\t[Prior] --> 3690.77\n",
        "\t[Smoother] --> 4.24306e+07\n",
        "\t[Obs] --> 62222.6"
       ]
      },
      {
       "output_type": "stream",
       "stream": "stdout",
       "text": [
        "\n",
        "\t\t[Total] -->\n",
        "\t[Prior] --> 345.721\n",
        "\t[Smoother] --> 1491.64\n",
        "\t[Obs] --> 127.623"
       ]
      },
      {
       "output_type": "stream",
       "stream": "stdout",
       "text": [
        "\n",
        "\t\t[Total] -->\n",
        "\t[Prior] --> 385.68\n",
        "\t[Smoother] --> 3.84003e+06\n",
        "\t[Obs] --> 16525.3"
       ]
      },
      {
       "output_type": "stream",
       "stream": "stdout",
       "text": [
        "\n",
        "\t\t[Total] -->\n",
        "\t[Prior] --> 345.693\n",
        "\t[Smoother] --> 1490.92\n",
        "\t[Obs] --> 127.62"
       ]
      },
      {
       "output_type": "stream",
       "stream": "stdout",
       "text": [
        "\n",
        "\t\t[Total] -->\n",
        "\t[Prior] --> 345.447\n",
        "\t[Smoother] --> 1490.8\n",
        "\t[Obs] --> 127.631"
       ]
      },
      {
       "output_type": "stream",
       "stream": "stdout",
       "text": [
        "\n",
        "\t\t[Total] -->\n",
        "\t[Prior] --> 345.282\n",
        "\t[Smoother] --> 1486.3\n",
        "\t[Obs] --> 127.628"
       ]
      },
      {
       "output_type": "stream",
       "stream": "stdout",
       "text": [
        "\n",
        "\t\t[Total] -->\n",
        "\t[Prior] --> 345.169\n",
        "\t[Smoother] --> 1484.45\n",
        "\t[Obs] --> 127.626"
       ]
      },
      {
       "output_type": "stream",
       "stream": "stdout",
       "text": [
        "\n",
        "\t\t[Total] -->\n",
        "\t[Prior] --> 344.809\n",
        "\t[Smoother] --> 1478.92\n",
        "\t[Obs] --> 127.641"
       ]
      },
      {
       "output_type": "stream",
       "stream": "stdout",
       "text": [
        "\n",
        "\t\t[Total] -->\n",
        "\t[Prior] --> 344.556\n",
        "\t[Smoother] --> 1484.43\n",
        "\t[Obs] --> 127.603"
       ]
      },
      {
       "output_type": "stream",
       "stream": "stdout",
       "text": [
        "\n",
        "\t\t[Total] -->\n",
        "\t[Prior] --> 344.796\n",
        "\t[Smoother] --> 1478.99\n",
        "\t[Obs] --> 127.638"
       ]
      },
      {
       "output_type": "stream",
       "stream": "stdout",
       "text": [
        "\n",
        "\t\t[Total] -->\n",
        "\t[Prior] --> 344.808\n",
        "\t[Smoother] --> 1478.93\n",
        "\t[Obs] --> 127.641"
       ]
      },
      {
       "output_type": "stream",
       "stream": "stdout",
       "text": [
        "\n",
        "\t\t[Total] -->\n",
        "\t[Prior] --> 344.809\n",
        "\t[Smoother] --> 1478.93\n",
        "\t[Obs] --> 127.641"
       ]
      },
      {
       "output_type": "stream",
       "stream": "stdout",
       "text": [
        "\n",
        "\t\t[Total] -->\n",
        "\t[Prior] --> 344.809\n",
        "\t[Smoother] --> 1478.92\n",
        "\t[Obs] --> 127.641"
       ]
      },
      {
       "output_type": "stream",
       "stream": "stdout",
       "text": [
        "\n",
        "\t\t[Total] -->\n",
        "\t[Prior] --> 344.809\n",
        "\t[Smoother] --> 1478.92\n",
        "\t[Obs] --> 127.641"
       ]
      },
      {
       "output_type": "stream",
       "stream": "stdout",
       "text": [
        "\n",
        "\t\t[Total] -->\n",
        "\t[Prior] --> 344.809\n",
        "\t[Smoother] --> 1478.92\n",
        "\t[Obs] --> 127.641"
       ]
      },
      {
       "output_type": "stream",
       "stream": "stdout",
       "text": [
        "\n",
        "\t\t[Total] -->\n",
        "\t[Prior] --> 344.809\n",
        "\t[Smoother] --> 1478.92\n",
        "\t[Obs] --> 127.641"
       ]
      },
      {
       "output_type": "stream",
       "stream": "stdout",
       "text": [
        "\n",
        "\t\t[Total] -->\n",
        "\t[Prior] --> 344.809\n",
        "\t[Smoother] --> 1478.92\n",
        "\t[Obs] --> 127.641"
       ]
      },
      {
       "output_type": "stream",
       "stream": "stdout",
       "text": [
        "\n",
        "\t\t[Total] -->\n",
        "\t[Prior] --> 344.809\n",
        "\t[Smoother] --> 1478.92\n",
        "\t[Obs] --> 127.641"
       ]
      },
      {
       "output_type": "stream",
       "stream": "stdout",
       "text": [
        "\n",
        "\t\t[Total] -->\n",
        "\t[Prior] --> 344.809\n",
        "\t[Smoother] --> 1478.92\n",
        "\t[Obs] --> 127.641"
       ]
      },
      {
       "output_type": "stream",
       "stream": "stdout",
       "text": [
        "\n",
        "\t\t[Total] -->\n",
        "\t[Prior] --> 344.809\n",
        "\t[Smoother] --> 1478.92\n",
        "\t[Obs] --> 127.641"
       ]
      },
      {
       "output_type": "stream",
       "stream": "stdout",
       "text": [
        "\n",
        "\t\t[Total] -->\n",
        "\t[Prior] --> 344.809\n",
        "\t[Smoother] --> 1478.92\n",
        "\t[Obs] --> 127.641"
       ]
      },
      {
       "output_type": "stream",
       "stream": "stdout",
       "text": [
        "\n",
        "\t\t[Total] -->\n",
        "\t[Prior] --> 344.809\n",
        "\t[Smoother] --> 1478.92\n",
        "\t[Obs] --> 127.641"
       ]
      },
      {
       "output_type": "stream",
       "stream": "stdout",
       "text": [
        "\n",
        "\t\t[Total] -->\n",
        "\t[Prior] --> 344.809\n",
        "\t[Smoother] --> 1478.92\n",
        "\t[Obs] --> 127.641"
       ]
      },
      {
       "output_type": "stream",
       "stream": "stdout",
       "text": [
        "\n",
        "\t\t[Total] -->\n",
        "\t[Prior] --> 344.809\n",
        "\t[Smoother] --> 1478.92\n",
        "\t[Obs] --> 127.641"
       ]
      },
      {
       "output_type": "stream",
       "stream": "stdout",
       "text": [
        "\n",
        "\t\t[Total] -->\n",
        "\t[Prior] --> 344.809\n",
        "\t[Smoother] --> 1478.92\n",
        "\t[Obs] --> 127.641"
       ]
      },
      {
       "output_type": "stream",
       "stream": "stdout",
       "text": [
        "\n",
        "\t\t[Total] -->\n",
        "\t[Prior] --> 344.809\n",
        "\t[Smoother] --> 1478.92\n",
        "\t[Obs] --> 127.641"
       ]
      },
      {
       "output_type": "stream",
       "stream": "stdout",
       "text": [
        "\n",
        "\t\t[Total] -->\n",
        "\t[Prior] --> 344.809\n",
        "\t[Smoother] --> 1478.92\n",
        "\t[Obs] --> 127.641"
       ]
      },
      {
       "output_type": "stream",
       "stream": "stdout",
       "text": [
        "\n",
        "\t\t[Total] -->\n",
        "\t[Prior] --> 344.809\n",
        "\t[Smoother] --> 1478.92\n",
        "\t[Obs] --> 127.641"
       ]
      },
      {
       "output_type": "stream",
       "stream": "stdout",
       "text": [
        "\n",
        "\t\t[Total] -->\n",
        "\t[Prior] --> 3640.67\n",
        "\t[Smoother] --> 5.26828e+07\n",
        "\t[Obs] --> 74631.8"
       ]
      },
      {
       "output_type": "stream",
       "stream": "stdout",
       "text": [
        "\n",
        "\t\t[Total] -->\n",
        "\t[Prior] --> 344.802\n",
        "\t[Smoother] --> 1478.69\n",
        "\t[Obs] --> 127.64"
       ]
      },
      {
       "output_type": "stream",
       "stream": "stdout",
       "text": [
        "\n",
        "\t\t[Total] -->\n",
        "\t[Prior] --> 400.826\n",
        "\t[Smoother] --> 4.39303e+06\n",
        "\t[Obs] --> 19595.1"
       ]
      },
      {
       "output_type": "stream",
       "stream": "stdout",
       "text": [
        "\n",
        "\t\t[Total] -->\n",
        "\t[Prior] --> 344.778\n",
        "\t[Smoother] --> 1477.98\n",
        "\t[Obs] --> 127.635"
       ]
      },
      {
       "output_type": "stream",
       "stream": "stdout",
       "text": [
        "\n",
        "\t\t[Total] -->\n",
        "\t[Prior] --> 344.627\n",
        "\t[Smoother] --> 1483.53\n",
        "\t[Obs] --> 127.597"
       ]
      },
      {
       "output_type": "stream",
       "stream": "stdout",
       "text": [
        "\n",
        "\t\t[Total] -->\n",
        "\t[Prior] --> 344.771\n",
        "\t[Smoother] --> 1478.01\n",
        "\t[Obs] --> 127.633"
       ]
      },
      {
       "output_type": "stream",
       "stream": "stdout",
       "text": [
        "\n",
        "\t\t[Total] -->\n",
        "\t[Prior] --> 344.777\n",
        "\t[Smoother] --> 1477.98\n",
        "\t[Obs] --> 127.635"
       ]
      },
      {
       "output_type": "stream",
       "stream": "stdout",
       "text": [
        "\n",
        "\t\t[Total] -->\n",
        "\t[Prior] --> 344.778\n",
        "\t[Smoother] --> 1477.98\n",
        "\t[Obs] --> 127.635"
       ]
      },
      {
       "output_type": "stream",
       "stream": "stdout",
       "text": [
        "\n",
        "\t\t[Total] -->\n",
        "\t[Prior] --> 344.778\n",
        "\t[Smoother] --> 1477.98\n",
        "\t[Obs] --> 127.635"
       ]
      },
      {
       "output_type": "stream",
       "stream": "stdout",
       "text": [
        "\n",
        "\t\t[Total] -->\n",
        "\t[Prior] --> 344.778\n",
        "\t[Smoother] --> 1477.98\n",
        "\t[Obs] --> 127.635"
       ]
      },
      {
       "output_type": "stream",
       "stream": "stdout",
       "text": [
        "\n",
        "\t\t[Total] -->\n",
        "\t[Prior] --> 344.778\n",
        "\t[Smoother] --> 1477.98\n",
        "\t[Obs] --> 127.635"
       ]
      },
      {
       "output_type": "stream",
       "stream": "stdout",
       "text": [
        "\n",
        "\t\t[Total] -->\n",
        "\t[Prior] --> 344.778\n",
        "\t[Smoother] --> 1477.98\n",
        "\t[Obs] --> 127.635"
       ]
      },
      {
       "output_type": "stream",
       "stream": "stdout",
       "text": [
        "\n",
        "\t\t[Total] -->\n",
        "\t[Prior] --> 344.778\n",
        "\t[Smoother] --> 1477.98\n",
        "\t[Obs] --> 127.635"
       ]
      },
      {
       "output_type": "stream",
       "stream": "stdout",
       "text": [
        "\n",
        "\t\t[Total] -->\n",
        "\t[Prior] --> 344.778\n",
        "\t[Smoother] --> 1477.98\n",
        "\t[Obs] --> 127.635"
       ]
      },
      {
       "output_type": "stream",
       "stream": "stdout",
       "text": [
        "\n",
        "\t\t[Total] -->\n",
        "\t[Prior] --> 344.778\n",
        "\t[Smoother] --> 1477.98\n",
        "\t[Obs] --> 127.635"
       ]
      },
      {
       "output_type": "stream",
       "stream": "stdout",
       "text": [
        "\n",
        "\t\t[Total] -->\n",
        "\t[Prior] --> 344.778\n",
        "\t[Smoother] --> 1477.98\n",
        "\t[Obs] --> 127.635"
       ]
      },
      {
       "output_type": "stream",
       "stream": "stdout",
       "text": [
        "\n",
        "\t\t[Total] -->\n",
        "\t[Prior] --> 344.778\n",
        "\t[Smoother] --> 1477.98\n",
        "\t[Obs] --> 127.635"
       ]
      },
      {
       "output_type": "stream",
       "stream": "stdout",
       "text": [
        "\n",
        "\t\t[Total] -->\n",
        "\t[Prior] --> 344.778\n",
        "\t[Smoother] --> 1477.98\n",
        "\t[Obs] --> 127.635"
       ]
      },
      {
       "output_type": "stream",
       "stream": "stdout",
       "text": [
        "\n",
        "\t\t[Total] -->\n",
        "\t[Prior] --> 344.778\n",
        "\t[Smoother] --> 1477.98\n",
        "\t[Obs] --> 127.635"
       ]
      },
      {
       "output_type": "stream",
       "stream": "stdout",
       "text": [
        "\n",
        "\t\t[Total] -->\n",
        "\t[Prior] --> 344.627\n",
        "\t[Smoother] --> 1483.53\n",
        "\t[Obs] --> 127.597"
       ]
      },
      {
       "output_type": "stream",
       "stream": "stdout",
       "text": [
        "\n",
        "\t\t[Total] -->\n",
        "\t[Prior] --> 344.771\n",
        "\t[Smoother] --> 1478.01\n",
        "\t[Obs] --> 127.633"
       ]
      },
      {
       "output_type": "stream",
       "stream": "stdout",
       "text": [
        "\n",
        "\t\t[Total] -->\n",
        "\t[Prior] --> 344.777\n",
        "\t[Smoother] --> 1477.98\n",
        "\t[Obs] --> 127.635"
       ]
      },
      {
       "output_type": "stream",
       "stream": "stdout",
       "text": [
        "\n",
        "\t\t[Total] -->\n",
        "\t[Prior] --> 344.778\n",
        "\t[Smoother] --> 1477.98\n",
        "\t[Obs] --> 127.635"
       ]
      },
      {
       "output_type": "stream",
       "stream": "stdout",
       "text": [
        "\n",
        "\t\t[Total] -->\n",
        "\t[Prior] --> 344.778\n",
        "\t[Smoother] --> 1477.98\n",
        "\t[Obs] --> 127.635"
       ]
      },
      {
       "output_type": "stream",
       "stream": "stdout",
       "text": [
        "\n",
        "\t\t[Total] -->\n",
        "\t[Prior] --> 344.778\n",
        "\t[Smoother] --> 1477.98\n",
        "\t[Obs] --> 127.635"
       ]
      },
      {
       "output_type": "stream",
       "stream": "stdout",
       "text": [
        "\n",
        "\t\t[Total] -->\n",
        "\t[Prior] --> 344.778\n",
        "\t[Smoother] --> 1477.98\n",
        "\t[Obs] --> 127.635"
       ]
      },
      {
       "output_type": "stream",
       "stream": "stdout",
       "text": [
        "\n",
        "\t\t[Total] -->\n",
        "\t[Prior] --> 344.778\n",
        "\t[Smoother] --> 1477.98\n",
        "\t[Obs] --> 127.635"
       ]
      },
      {
       "output_type": "stream",
       "stream": "stdout",
       "text": [
        "\n",
        "\t\t[Total] -->\n",
        "\t[Prior] --> 344.778\n",
        "\t[Smoother] --> 1477.98\n",
        "\t[Obs] --> 127.635"
       ]
      },
      {
       "output_type": "stream",
       "stream": "stdout",
       "text": [
        "\n",
        "\t\t[Total] -->\n",
        "\t[Prior] --> 344.778\n",
        "\t[Smoother] --> 1477.98\n",
        "\t[Obs] --> 127.635"
       ]
      },
      {
       "output_type": "stream",
       "stream": "stdout",
       "text": [
        "\n",
        "\t\t[Total] -->\n",
        "\t[Prior] --> 344.778\n",
        "\t[Smoother] --> 1477.98\n",
        "\t[Obs] --> 127.635"
       ]
      },
      {
       "output_type": "stream",
       "stream": "stdout",
       "text": [
        "\n",
        "\t\t[Total] -->\n",
        "\t[Prior] --> 344.778\n",
        "\t[Smoother] --> 1477.98\n",
        "\t[Obs] --> 127.635"
       ]
      },
      {
       "output_type": "stream",
       "stream": "stdout",
       "text": [
        "\n",
        "\t\t[Total] -->\n",
        "\t[Prior] --> 344.778\n",
        "\t[Smoother] --> 1477.98\n",
        "\t[Obs] --> 127.635"
       ]
      },
      {
       "output_type": "stream",
       "stream": "stdout",
       "text": [
        "\n",
        "\t\t[Total] -->\n",
        "\t[Prior] --> 344.778\n",
        "\t[Smoother] --> 1477.98\n",
        "\t[Obs] --> 127.635"
       ]
      },
      {
       "output_type": "stream",
       "stream": "stdout",
       "text": [
        "\n",
        "\t\t[Total] -->\n",
        "\t[Prior] --> 344.778\n",
        "\t[Smoother] --> 1477.98\n",
        "\t[Obs] --> 127.635"
       ]
      },
      {
       "output_type": "stream",
       "stream": "stdout",
       "text": [
        "\n",
        "\t\t[Total] -->\n",
        "\t[Prior] --> 344.778\n",
        "\t[Smoother] --> 1477.98\n",
        "\t[Obs] --> 127.635"
       ]
      },
      {
       "output_type": "stream",
       "stream": "stdout",
       "text": [
        "\n",
        "\t\t[Total] -->\n",
        "\t[Prior] --> 344.778\n",
        "\t[Smoother] --> 1477.98\n",
        "\t[Obs] --> 127.635"
       ]
      },
      {
       "output_type": "stream",
       "stream": "stdout",
       "text": [
        "\n",
        "\t\t[Total] -->\n",
        "\t[Prior] --> 344.778\n",
        "\t[Smoother] --> 1477.98\n",
        "\t[Obs] --> 127.635"
       ]
      },
      {
       "output_type": "stream",
       "stream": "stdout",
       "text": [
        "\n",
        "\t\t[Total] -->\n",
        "\t[Prior] --> 344.778\n",
        "\t[Smoother] --> 1477.98\n",
        "\t[Obs] --> 127.635"
       ]
      },
      {
       "output_type": "stream",
       "stream": "stdout",
       "text": [
        "\n",
        "\t\t[Total] -->\n",
        "\t[Prior] --> 344.778\n",
        "\t[Smoother] --> 1477.98\n",
        "\t[Obs] --> 127.635"
       ]
      },
      {
       "output_type": "stream",
       "stream": "stdout",
       "text": [
        "\n",
        "\t\t[Total] -->\n",
        "\t[Prior] --> 3686.44\n",
        "\t[Smoother] --> 4.55796e+07\n",
        "\t[Obs] --> 90406"
       ]
      },
      {
       "output_type": "stream",
       "stream": "stdout",
       "text": [
        "\n",
        "\t\t[Total] -->\n",
        "\t[Prior] --> 344.771\n",
        "\t[Smoother] --> 1477.84\n",
        "\t[Obs] --> 127.632"
       ]
      },
      {
       "output_type": "stream",
       "stream": "stdout",
       "text": [
        "\n",
        "\t\t[Total] -->\n",
        "\t[Prior] --> 405.628\n",
        "\t[Smoother] --> 3.96706e+06\n",
        "\t[Obs] --> 23253.3"
       ]
      },
      {
       "output_type": "stream",
       "stream": "stdout",
       "text": [
        "\n",
        "\t\t[Total] -->\n",
        "\t[Prior] --> 344.748\n",
        "\t[Smoother] --> 1477.46\n",
        "\t[Obs] --> 127.622"
       ]
      },
      {
       "output_type": "stream",
       "stream": "stdout",
       "text": [
        "\n",
        "\t\t[Total] -->\n",
        "\t[Prior] --> 344.621\n",
        "\t[Smoother] --> 1483.14\n",
        "\t[Obs] --> 127.603"
       ]
      },
      {
       "output_type": "stream",
       "stream": "stdout",
       "text": [
        "\n",
        "\t\t[Total] -->\n",
        "\t[Prior] --> 344.743\n",
        "\t[Smoother] --> 1477.53\n",
        "\t[Obs] --> 127.621"
       ]
      },
      {
       "output_type": "stream",
       "stream": "stdout",
       "text": [
        "\n",
        "\t\t[Total] -->\n",
        "\t[Prior] --> 344.748\n",
        "\t[Smoother] --> 1477.47\n",
        "\t[Obs] --> 127.622"
       ]
      },
      {
       "output_type": "stream",
       "stream": "stdout",
       "text": [
        "\n",
        "\t\t[Total] -->\n",
        "\t[Prior] --> 344.748\n",
        "\t[Smoother] --> 1477.46\n",
        "\t[Obs] --> 127.622"
       ]
      },
      {
       "output_type": "stream",
       "stream": "stdout",
       "text": [
        "\n",
        "\t\t[Total] -->\n",
        "\t[Prior] --> 344.748\n",
        "\t[Smoother] --> 1477.46\n",
        "\t[Obs] --> 127.622"
       ]
      },
      {
       "output_type": "stream",
       "stream": "stdout",
       "text": [
        "\n",
        "\t\t[Total] -->\n",
        "\t[Prior] --> 344.748\n",
        "\t[Smoother] --> 1477.46\n",
        "\t[Obs] --> 127.622"
       ]
      },
      {
       "output_type": "stream",
       "stream": "stdout",
       "text": [
        "\n",
        "\t\t[Total] -->\n",
        "\t[Prior] --> 344.748\n",
        "\t[Smoother] --> 1477.46\n",
        "\t[Obs] --> 127.622"
       ]
      },
      {
       "output_type": "stream",
       "stream": "stdout",
       "text": [
        "\n",
        "\t\t[Total] -->\n",
        "\t[Prior] --> 344.748\n",
        "\t[Smoother] --> 1477.46\n",
        "\t[Obs] --> 127.622"
       ]
      },
      {
       "output_type": "stream",
       "stream": "stdout",
       "text": [
        "\n",
        "\t\t[Total] -->\n",
        "\t[Prior] --> 344.748\n",
        "\t[Smoother] --> 1477.46\n",
        "\t[Obs] --> 127.622"
       ]
      },
      {
       "output_type": "stream",
       "stream": "stdout",
       "text": [
        "\n",
        "\t\t[Total] -->\n",
        "\t[Prior] --> 344.748\n",
        "\t[Smoother] --> 1477.46\n",
        "\t[Obs] --> 127.622"
       ]
      },
      {
       "output_type": "stream",
       "stream": "stdout",
       "text": [
        "\n",
        "\t\t[Total] -->\n",
        "\t[Prior] --> 344.748\n",
        "\t[Smoother] --> 1477.46\n",
        "\t[Obs] --> 127.622"
       ]
      },
      {
       "output_type": "stream",
       "stream": "stdout",
       "text": [
        "\n",
        "\t\t[Total] -->\n",
        "\t[Prior] --> 344.748\n",
        "\t[Smoother] --> 1477.46\n",
        "\t[Obs] --> 127.622"
       ]
      },
      {
       "output_type": "stream",
       "stream": "stdout",
       "text": [
        "\n",
        "\t\t[Total] -->\n",
        "\t[Prior] --> 344.748\n",
        "\t[Smoother] --> 1477.46\n",
        "\t[Obs] --> 127.622"
       ]
      },
      {
       "output_type": "stream",
       "stream": "stdout",
       "text": [
        "\n",
        "\t\t[Total] -->\n",
        "\t[Prior] --> 344.621\n",
        "\t[Smoother] --> 1483.14\n",
        "\t[Obs] --> 127.603"
       ]
      },
      {
       "output_type": "stream",
       "stream": "stdout",
       "text": [
        "\n",
        "\t\t[Total] -->\n",
        "\t[Prior] --> 344.743\n",
        "\t[Smoother] --> 1477.53\n",
        "\t[Obs] --> 127.621"
       ]
      },
      {
       "output_type": "stream",
       "stream": "stdout",
       "text": [
        "\n",
        "\t\t[Total] -->\n",
        "\t[Prior] --> 344.748\n",
        "\t[Smoother] --> 1477.47\n",
        "\t[Obs] --> 127.622"
       ]
      },
      {
       "output_type": "stream",
       "stream": "stdout",
       "text": [
        "\n",
        "\t\t[Total] -->\n",
        "\t[Prior] --> 344.748\n",
        "\t[Smoother] --> 1477.46\n",
        "\t[Obs] --> 127.622"
       ]
      },
      {
       "output_type": "stream",
       "stream": "stdout",
       "text": [
        "\n",
        "\t\t[Total] -->\n",
        "\t[Prior] --> 344.748\n",
        "\t[Smoother] --> 1477.46\n",
        "\t[Obs] --> 127.622"
       ]
      },
      {
       "output_type": "stream",
       "stream": "stdout",
       "text": [
        "\n",
        "\t\t[Total] -->\n",
        "\t[Prior] --> 344.748\n",
        "\t[Smoother] --> 1477.46\n",
        "\t[Obs] --> 127.622"
       ]
      },
      {
       "output_type": "stream",
       "stream": "stdout",
       "text": [
        "\n",
        "\t\t[Total] -->\n",
        "\t[Prior] --> 344.748\n",
        "\t[Smoother] --> 1477.46\n",
        "\t[Obs] --> 127.622"
       ]
      },
      {
       "output_type": "stream",
       "stream": "stdout",
       "text": [
        "\n",
        "\t\t[Total] -->\n",
        "\t[Prior] --> 344.748\n",
        "\t[Smoother] --> 1477.46\n",
        "\t[Obs] --> 127.622"
       ]
      },
      {
       "output_type": "stream",
       "stream": "stdout",
       "text": [
        "\n",
        "\t\t[Total] -->\n",
        "\t[Prior] --> 344.748\n",
        "\t[Smoother] --> 1477.46\n",
        "\t[Obs] --> 127.622"
       ]
      },
      {
       "output_type": "stream",
       "stream": "stdout",
       "text": [
        "\n",
        "\t\t[Total] -->\n",
        "\t[Prior] --> 344.748\n",
        "\t[Smoother] --> 1477.46\n",
        "\t[Obs] --> 127.622"
       ]
      },
      {
       "output_type": "stream",
       "stream": "stdout",
       "text": [
        "\n",
        "\t\t[Total] -->\n",
        "\t[Prior] --> 344.748\n",
        "\t[Smoother] --> 1477.46\n",
        "\t[Obs] --> 127.622"
       ]
      },
      {
       "output_type": "stream",
       "stream": "stdout",
       "text": [
        "\n",
        "\t\t[Total] -->\n",
        "\t[Prior] --> 344.748\n",
        "\t[Smoother] --> 1477.46\n",
        "\t[Obs] --> 127.622"
       ]
      },
      {
       "output_type": "stream",
       "stream": "stdout",
       "text": [
        "\n",
        "\t\t[Total] -->\n",
        "\t[Prior] --> 344.748\n",
        "\t[Smoother] --> 1477.46\n",
        "\t[Obs] --> 127.622"
       ]
      },
      {
       "output_type": "stream",
       "stream": "stdout",
       "text": [
        "\n",
        "\t\t[Total] -->\n",
        "\t[Prior] --> 344.748\n",
        "\t[Smoother] --> 1477.46\n",
        "\t[Obs] --> 127.622"
       ]
      },
      {
       "output_type": "stream",
       "stream": "stdout",
       "text": [
        "\n",
        "\t\t[Total] -->\n",
        "\t[Prior] --> 344.748\n",
        "\t[Smoother] --> 1477.46\n",
        "\t[Obs] --> 127.622"
       ]
      },
      {
       "output_type": "stream",
       "stream": "stdout",
       "text": [
        "\n",
        "\t\t[Total] -->\n",
        "\t[Prior] --> 344.748\n",
        "\t[Smoother] --> 1477.46\n",
        "\t[Obs] --> 127.622"
       ]
      },
      {
       "output_type": "stream",
       "stream": "stdout",
       "text": [
        "\n",
        "\t\t[Total] -->\n",
        "\t[Prior] --> 344.748\n",
        "\t[Smoother] --> 1477.46\n",
        "\t[Obs] --> 127.622"
       ]
      },
      {
       "output_type": "stream",
       "stream": "stdout",
       "text": [
        "\n",
        "\t\t[Total] -->\n",
        "\t[Prior] --> 344.748\n",
        "\t[Smoother] --> 1477.46\n",
        "\t[Obs] --> 127.622"
       ]
      },
      {
       "output_type": "stream",
       "stream": "stdout",
       "text": [
        "\n",
        "\t\t[Total] -->\n",
        "\t[Prior] --> 344.748\n",
        "\t[Smoother] --> 1477.46\n",
        "\t[Obs] --> 127.622"
       ]
      },
      {
       "output_type": "stream",
       "stream": "stdout",
       "text": [
        "\n",
        "\t\t[Total] -->\n",
        "\t[Prior] --> 344.748\n",
        "\t[Smoother] --> 1477.46\n",
        "\t[Obs] --> 127.622"
       ]
      },
      {
       "output_type": "stream",
       "stream": "stdout",
       "text": [
        "\n",
        "\t\t[Total] -->\n",
        "\t[Prior] --> 3362.42\n",
        "\t[Smoother] --> 4.1097e+07\n",
        "\t[Obs] --> 48844.2"
       ]
      },
      {
       "output_type": "stream",
       "stream": "stdout",
       "text": [
        "\n",
        "\t\t[Total] -->\n",
        "\t[Prior] --> 344.741\n",
        "\t[Smoother] --> 1477.31\n",
        "\t[Obs] --> 127.621"
       ]
      },
      {
       "output_type": "stream",
       "stream": "stdout",
       "text": [
        "\n",
        "\t\t[Total] -->\n",
        "\t[Prior] --> 409.133\n",
        "\t[Smoother] --> 3.56794e+06\n",
        "\t[Obs] --> 12776.5"
       ]
      },
      {
       "output_type": "stream",
       "stream": "stdout",
       "text": [
        "\n",
        "\t\t[Total] -->\n",
        "\t[Prior] --> 344.72\n",
        "\t[Smoother] --> 1476.88\n",
        "\t[Obs] --> 127.617"
       ]
      },
      {
       "output_type": "stream",
       "stream": "stdout",
       "text": [
        "\n",
        "\t\t[Total] -->\n",
        "\t[Prior] --> 344.547\n",
        "\t[Smoother] --> 1482.21\n",
        "\t[Obs] --> 127.605"
       ]
      },
      {
       "output_type": "stream",
       "stream": "stdout",
       "text": [
        "\n",
        "\t\t[Total] -->\n",
        "\t[Prior] --> 344.714\n",
        "\t[Smoother] --> 1476.94\n",
        "\t[Obs] --> 127.616"
       ]
      },
      {
       "output_type": "stream",
       "stream": "stdout",
       "text": [
        "\n",
        "\t\t[Total] -->\n",
        "\t[Prior] --> 344.72\n",
        "\t[Smoother] --> 1476.89\n",
        "\t[Obs] --> 127.617"
       ]
      },
      {
       "output_type": "stream",
       "stream": "stdout",
       "text": [
        "\n",
        "\t\t[Total] -->\n",
        "\t[Prior] --> 344.72\n",
        "\t[Smoother] --> 1476.88\n",
        "\t[Obs] --> 127.617"
       ]
      },
      {
       "output_type": "stream",
       "stream": "stdout",
       "text": [
        "\n",
        "\t\t[Total] -->\n",
        "\t[Prior] --> 344.72\n",
        "\t[Smoother] --> 1476.88\n",
        "\t[Obs] --> 127.617"
       ]
      },
      {
       "output_type": "stream",
       "stream": "stdout",
       "text": [
        "\n",
        "\t\t[Total] -->\n",
        "\t[Prior] --> 344.72\n",
        "\t[Smoother] --> 1476.88\n",
        "\t[Obs] --> 127.617"
       ]
      },
      {
       "output_type": "stream",
       "stream": "stdout",
       "text": [
        "\n",
        "\t\t[Total] -->\n",
        "\t[Prior] --> 344.72\n",
        "\t[Smoother] --> 1476.88\n",
        "\t[Obs] --> 127.617"
       ]
      },
      {
       "output_type": "stream",
       "stream": "stdout",
       "text": [
        "\n",
        "\t\t[Total] -->\n",
        "\t[Prior] --> 344.72\n",
        "\t[Smoother] --> 1476.88\n",
        "\t[Obs] --> 127.617"
       ]
      },
      {
       "output_type": "stream",
       "stream": "stdout",
       "text": [
        "\n",
        "\t\t[Total] -->\n",
        "\t[Prior] --> 344.72\n",
        "\t[Smoother] --> 1476.88\n",
        "\t[Obs] --> 127.617"
       ]
      },
      {
       "output_type": "stream",
       "stream": "stdout",
       "text": [
        "\n",
        "\t\t[Total] -->\n",
        "\t[Prior] --> 344.72\n",
        "\t[Smoother] --> 1476.88\n",
        "\t[Obs] --> 127.617"
       ]
      },
      {
       "output_type": "stream",
       "stream": "stdout",
       "text": [
        "\n",
        "\t\t[Total] -->\n",
        "\t[Prior] --> 344.72\n",
        "\t[Smoother] --> 1476.88\n",
        "\t[Obs] --> 127.617"
       ]
      },
      {
       "output_type": "stream",
       "stream": "stdout",
       "text": [
        "\n",
        "\t\t[Total] -->\n",
        "\t[Prior] --> 344.72\n",
        "\t[Smoother] --> 1476.88\n",
        "\t[Obs] --> 127.617"
       ]
      },
      {
       "output_type": "stream",
       "stream": "stdout",
       "text": [
        "\n",
        "\t\t[Total] -->\n",
        "\t[Prior] --> 344.72\n",
        "\t[Smoother] --> 1476.88\n",
        "\t[Obs] --> 127.617"
       ]
      },
      {
       "output_type": "stream",
       "stream": "stdout",
       "text": [
        "\n",
        "\t\t[Total] -->\n",
        "\t[Prior] --> 344.72\n",
        "\t[Smoother] --> 1476.88\n",
        "\t[Obs] --> 127.617"
       ]
      },
      {
       "output_type": "stream",
       "stream": "stdout",
       "text": [
        "\n",
        "\t\t[Total] -->\n",
        "\t[Prior] --> 344.72\n",
        "\t[Smoother] --> 1476.88\n",
        "\t[Obs] --> 127.617"
       ]
      },
      {
       "output_type": "stream",
       "stream": "stdout",
       "text": [
        "\n",
        "\t\t[Total] -->\n",
        "\t[Prior] --> 344.72\n",
        "\t[Smoother] --> 1476.88\n",
        "\t[Obs] --> 127.617"
       ]
      },
      {
       "output_type": "stream",
       "stream": "stdout",
       "text": [
        "\n",
        "\t\t[Total] -->\n",
        "\t[Prior] --> 344.72\n",
        "\t[Smoother] --> 1476.88\n",
        "\t[Obs] --> 127.617"
       ]
      },
      {
       "output_type": "stream",
       "stream": "stdout",
       "text": [
        "\n",
        "\t\t[Total] -->\n",
        "\t[Prior] --> 344.72\n",
        "\t[Smoother] --> 1476.88\n",
        "\t[Obs] --> 127.617"
       ]
      },
      {
       "output_type": "stream",
       "stream": "stdout",
       "text": [
        "\n",
        "\t\t[Total] -->\n",
        "\t[Prior] --> 344.72\n",
        "\t[Smoother] --> 1476.88\n",
        "\t[Obs] --> 127.617"
       ]
      },
      {
       "output_type": "stream",
       "stream": "stdout",
       "text": [
        "\n",
        "\t\t[Total] -->\n",
        "\t[Prior] --> 344.72\n",
        "\t[Smoother] --> 1476.88\n",
        "\t[Obs] --> 127.617"
       ]
      },
      {
       "output_type": "stream",
       "stream": "stdout",
       "text": [
        "\n",
        "\t\t[Total] -->\n",
        "\t[Prior] --> 3310.44\n",
        "\t[Smoother] --> 3.84664e+07\n",
        "\t[Obs] --> 46479.9"
       ]
      },
      {
       "output_type": "stream",
       "stream": "stdout",
       "text": [
        "\n",
        "\t\t[Total] -->\n",
        "\t[Prior] --> 344.714\n",
        "\t[Smoother] --> 1476.79\n",
        "\t[Obs] --> 127.616"
       ]
      },
      {
       "output_type": "stream",
       "stream": "stdout",
       "text": [
        "\n",
        "\t\t[Total] -->\n",
        "\t[Prior] --> 405.341\n",
        "\t[Smoother] --> 3.33379e+06\n",
        "\t[Obs] --> 11948"
       ]
      },
      {
       "output_type": "stream",
       "stream": "stdout",
       "text": [
        "\n",
        "\t\t[Total] -->\n",
        "\t[Prior] --> 344.692\n",
        "\t[Smoother] --> 1476.55\n",
        "\t[Obs] --> 127.614"
       ]
      },
      {
       "output_type": "stream",
       "stream": "stdout",
       "text": [
        "\n",
        "\t\t[Total] -->\n",
        "\t[Prior] --> 344.51\n",
        "\t[Smoother] --> 1481.56\n",
        "\t[Obs] --> 127.607"
       ]
      },
      {
       "output_type": "stream",
       "stream": "stdout",
       "text": [
        "\n",
        "\t\t[Total] -->\n",
        "\t[Prior] --> 344.685\n",
        "\t[Smoother] --> 1476.61\n",
        "\t[Obs] --> 127.613"
       ]
      },
      {
       "output_type": "stream",
       "stream": "stdout",
       "text": [
        "\n",
        "\t\t[Total] -->\n",
        "\t[Prior] --> 344.692\n",
        "\t[Smoother] --> 1476.56\n",
        "\t[Obs] --> 127.613"
       ]
      },
      {
       "output_type": "stream",
       "stream": "stdout",
       "text": [
        "\n",
        "\t\t[Total] -->\n",
        "\t[Prior] --> 344.692\n",
        "\t[Smoother] --> 1476.55\n",
        "\t[Obs] --> 127.614"
       ]
      },
      {
       "output_type": "stream",
       "stream": "stdout",
       "text": [
        "\n",
        "\t\t[Total] -->\n",
        "\t[Prior] --> 344.692\n",
        "\t[Smoother] --> 1476.55\n",
        "\t[Obs] --> 127.614"
       ]
      },
      {
       "output_type": "stream",
       "stream": "stdout",
       "text": [
        "\n",
        "\t\t[Total] -->\n",
        "\t[Prior] --> 344.692\n",
        "\t[Smoother] --> 1476.55\n",
        "\t[Obs] --> 127.614"
       ]
      },
      {
       "output_type": "stream",
       "stream": "stdout",
       "text": [
        "\n",
        "\t\t[Total] -->\n",
        "\t[Prior] --> 344.692\n",
        "\t[Smoother] --> 1476.55\n",
        "\t[Obs] --> 127.614"
       ]
      },
      {
       "output_type": "stream",
       "stream": "stdout",
       "text": [
        "\n",
        "\t\t[Total] -->\n",
        "\t[Prior] --> 344.692\n",
        "\t[Smoother] --> 1476.55\n",
        "\t[Obs] --> 127.614"
       ]
      },
      {
       "output_type": "stream",
       "stream": "stdout",
       "text": [
        "\n",
        "\t\t[Total] -->\n",
        "\t[Prior] --> 344.692\n",
        "\t[Smoother] --> 1476.55\n",
        "\t[Obs] --> 127.614"
       ]
      },
      {
       "output_type": "stream",
       "stream": "stdout",
       "text": [
        "\n",
        "\t\t[Total] -->\n",
        "\t[Prior] --> 344.692\n",
        "\t[Smoother] --> 1476.55\n",
        "\t[Obs] --> 127.614"
       ]
      },
      {
       "output_type": "stream",
       "stream": "stdout",
       "text": [
        "\n",
        "\t\t[Total] -->\n",
        "\t[Prior] --> 344.692\n",
        "\t[Smoother] --> 1476.55\n",
        "\t[Obs] --> 127.614"
       ]
      },
      {
       "output_type": "stream",
       "stream": "stdout",
       "text": [
        "\n",
        "\t\t[Total] -->\n",
        "\t[Prior] --> 344.692\n",
        "\t[Smoother] --> 1476.55\n",
        "\t[Obs] --> 127.614"
       ]
      },
      {
       "output_type": "stream",
       "stream": "stdout",
       "text": [
        "\n",
        "\t\t[Total] -->\n",
        "\t[Prior] --> 344.692\n",
        "\t[Smoother] --> 1476.55\n",
        "\t[Obs] --> 127.614"
       ]
      },
      {
       "output_type": "stream",
       "stream": "stdout",
       "text": [
        "\n",
        "\t\t[Total] -->\n",
        "\t[Prior] --> 344.692\n",
        "\t[Smoother] --> 1476.55\n",
        "\t[Obs] --> 127.614"
       ]
      },
      {
       "output_type": "stream",
       "stream": "stdout",
       "text": [
        "\n",
        "\t\t[Total] -->\n",
        "\t[Prior] --> 344.692\n",
        "\t[Smoother] --> 1476.55\n",
        "\t[Obs] --> 127.614"
       ]
      },
      {
       "output_type": "stream",
       "stream": "stdout",
       "text": [
        "\n",
        "\t\t[Total] -->\n",
        "\t[Prior] --> 344.692\n",
        "\t[Smoother] --> 1476.55\n",
        "\t[Obs] --> 127.614"
       ]
      },
      {
       "output_type": "stream",
       "stream": "stdout",
       "text": [
        "\n",
        "\t\t[Total] -->\n",
        "\t[Prior] --> 344.692\n",
        "\t[Smoother] --> 1476.55\n",
        "\t[Obs] --> 127.614"
       ]
      },
      {
       "output_type": "stream",
       "stream": "stdout",
       "text": [
        "\n",
        "\t\t[Total] -->\n",
        "\t[Prior] --> 344.692\n",
        "\t[Smoother] --> 1476.55\n",
        "\t[Obs] --> 127.614"
       ]
      },
      {
       "output_type": "stream",
       "stream": "stdout",
       "text": [
        "\n",
        "\t\t[Total] -->\n",
        "\t[Prior] --> 344.692\n",
        "\t[Smoother] --> 1476.55\n",
        "\t[Obs] --> 127.614"
       ]
      },
      {
       "output_type": "stream",
       "stream": "stdout",
       "text": [
        "\n",
        "\t\t[Total] -->\n",
        "\t[Prior] --> 344.692\n",
        "\t[Smoother] --> 1476.55\n",
        "\t[Obs] --> 127.614"
       ]
      },
      {
       "output_type": "stream",
       "stream": "stdout",
       "text": [
        "\n",
        "\t\t[Total] -->\n",
        "\t[Prior] --> 3253.13\n",
        "\t[Smoother] --> 3.78198e+07\n",
        "\t[Obs] --> 64264.7"
       ]
      },
      {
       "output_type": "stream",
       "stream": "stdout",
       "text": [
        "\n",
        "\t\t[Total] -->\n",
        "\t[Prior] --> 344.686\n",
        "\t[Smoother] --> 1476.5\n",
        "\t[Obs] --> 127.612"
       ]
      },
      {
       "output_type": "stream",
       "stream": "stdout",
       "text": [
        "\n",
        "\t\t[Total] -->\n",
        "\t[Prior] --> 402.5\n",
        "\t[Smoother] --> 3.12778e+06\n",
        "\t[Obs] --> 17001"
       ]
      },
      {
       "output_type": "stream",
       "stream": "stdout",
       "text": [
        "\n",
        "\t\t[Total] -->\n",
        "\t[Prior] --> 344.664\n",
        "\t[Smoother] --> 1476.33\n",
        "\t[Obs] --> 127.608"
       ]
      },
      {
       "output_type": "stream",
       "stream": "stdout",
       "text": [
        "\n",
        "\t\t[Total] -->\n",
        "\t[Prior] --> 344.511\n",
        "\t[Smoother] --> 1480.5\n",
        "\t[Obs] --> 127.601"
       ]
      },
      {
       "output_type": "stream",
       "stream": "stdout",
       "text": [
        "\n",
        "\t\t[Total] -->\n",
        "\t[Prior] --> 344.658\n",
        "\t[Smoother] --> 1476.38\n",
        "\t[Obs] --> 127.608"
       ]
      },
      {
       "output_type": "stream",
       "stream": "stdout",
       "text": [
        "\n",
        "\t\t[Total] -->\n",
        "\t[Prior] --> 344.663\n",
        "\t[Smoother] --> 1476.34\n",
        "\t[Obs] --> 127.608"
       ]
      },
      {
       "output_type": "stream",
       "stream": "stdout",
       "text": [
        "\n",
        "\t\t[Total] -->\n",
        "\t[Prior] --> 344.663\n",
        "\t[Smoother] --> 1476.34\n",
        "\t[Obs] --> 127.608"
       ]
      },
      {
       "output_type": "stream",
       "stream": "stdout",
       "text": [
        "\n",
        "\t\t[Total] -->\n",
        "\t[Prior] --> 344.664\n",
        "\t[Smoother] --> 1476.33\n",
        "\t[Obs] --> 127.608"
       ]
      },
      {
       "output_type": "stream",
       "stream": "stdout",
       "text": [
        "\n",
        "\t\t[Total] -->\n",
        "\t[Prior] --> 344.664\n",
        "\t[Smoother] --> 1476.33\n",
        "\t[Obs] --> 127.608"
       ]
      },
      {
       "output_type": "stream",
       "stream": "stdout",
       "text": [
        "\n",
        "\t\t[Total] -->\n",
        "\t[Prior] --> 344.664\n",
        "\t[Smoother] --> 1476.33\n",
        "\t[Obs] --> 127.608"
       ]
      },
      {
       "output_type": "stream",
       "stream": "stdout",
       "text": [
        "\n",
        "\t\t[Total] -->\n",
        "\t[Prior] --> 344.664\n",
        "\t[Smoother] --> 1476.33\n",
        "\t[Obs] --> 127.608"
       ]
      },
      {
       "output_type": "stream",
       "stream": "stdout",
       "text": [
        "\n",
        "\t\t[Total] -->\n",
        "\t[Prior] --> 344.664\n",
        "\t[Smoother] --> 1476.33\n",
        "\t[Obs] --> 127.608"
       ]
      },
      {
       "output_type": "stream",
       "stream": "stdout",
       "text": [
        "\n",
        "\t\t[Total] -->\n",
        "\t[Prior] --> 344.664\n",
        "\t[Smoother] --> 1476.33\n",
        "\t[Obs] --> 127.608"
       ]
      },
      {
       "output_type": "stream",
       "stream": "stdout",
       "text": [
        "\n",
        "\t\t[Total] -->\n",
        "\t[Prior] --> 344.664\n",
        "\t[Smoother] --> 1476.33\n",
        "\t[Obs] --> 127.608"
       ]
      },
      {
       "output_type": "stream",
       "stream": "stdout",
       "text": [
        "\n",
        "\t\t[Total] -->\n",
        "\t[Prior] --> 344.664\n",
        "\t[Smoother] --> 1476.33\n",
        "\t[Obs] --> 127.608"
       ]
      },
      {
       "output_type": "stream",
       "stream": "stdout",
       "text": [
        "\n",
        "\t\t[Total] -->\n",
        "\t[Prior] --> 344.664\n",
        "\t[Smoother] --> 1476.33\n",
        "\t[Obs] --> 127.608"
       ]
      },
      {
       "output_type": "stream",
       "stream": "stdout",
       "text": [
        "\n",
        "\t\t[Total] -->\n",
        "\t[Prior] --> 344.376\n",
        "\t[Smoother] --> 1480.4\n",
        "\t[Obs] --> 127.573"
       ]
      },
      {
       "output_type": "stream",
       "stream": "stdout",
       "text": [
        "\n",
        "\t\t[Total] -->\n",
        "\t[Prior] --> 344.651\n",
        "\t[Smoother] --> 1476.31\n",
        "\t[Obs] --> 127.606"
       ]
      },
      {
       "output_type": "stream",
       "stream": "stdout",
       "text": [
        "\n",
        "\t\t[Total] -->\n",
        "\t[Prior] --> 344.508\n",
        "\t[Smoother] --> 1477.35\n",
        "\t[Obs] --> 127.587"
       ]
      },
      {
       "output_type": "stream",
       "stream": "stdout",
       "text": [
        "\n",
        "\t\t[Total] -->\n",
        "\t[Prior] --> 344.64\n",
        "\t[Smoother] --> 1476.31\n",
        "\t[Obs] --> 127.605"
       ]
      },
      {
       "output_type": "stream",
       "stream": "stdout",
       "text": [
        "\n",
        "\t\t[Total] -->\n",
        "\t[Prior] --> 344.601\n",
        "\t[Smoother] --> 1517.1\n",
        "\t[Obs] --> 127.851"
       ]
      },
      {
       "output_type": "stream",
       "stream": "stdout",
       "text": [
        "\n",
        "\t\t[Total] -->\n",
        "\t[Prior] --> 344.64\n",
        "\t[Smoother] --> 1476.39\n",
        "\t[Obs] --> 127.604"
       ]
      },
      {
       "output_type": "stream",
       "stream": "stdout",
       "text": [
        "\n",
        "\t\t[Total] -->\n",
        "\t[Prior] --> 344.64\n",
        "\t[Smoother] --> 1476.31\n",
        "\t[Obs] --> 127.605"
       ]
      },
      {
       "output_type": "stream",
       "stream": "stdout",
       "text": [
        "\n",
        "\t\t[Total] -->\n",
        "\t[Prior] --> 344.64\n",
        "\t[Smoother] --> 1476.31\n",
        "\t[Obs] --> 127.605"
       ]
      },
      {
       "output_type": "stream",
       "stream": "stdout",
       "text": [
        "\n",
        "\t\t[Total] -->\n",
        "\t[Prior] --> 344.64\n",
        "\t[Smoother] --> 1476.31\n",
        "\t[Obs] --> 127.605"
       ]
      },
      {
       "output_type": "stream",
       "stream": "stdout",
       "text": [
        "\n",
        "\t\t[Total] -->\n",
        "\t[Prior] --> 344.64\n",
        "\t[Smoother] --> 1476.31\n",
        "\t[Obs] --> 127.605"
       ]
      },
      {
       "output_type": "stream",
       "stream": "stdout",
       "text": [
        "\n",
        "\t\t[Total] -->\n",
        "\t[Prior] --> 344.64\n",
        "\t[Smoother] --> 1476.31\n",
        "\t[Obs] --> 127.605"
       ]
      },
      {
       "output_type": "stream",
       "stream": "stdout",
       "text": [
        "\n",
        "\t\t[Total] -->\n",
        "\t[Prior] --> 344.64\n",
        "\t[Smoother] --> 1476.31\n",
        "\t[Obs] --> 127.605"
       ]
      },
      {
       "output_type": "stream",
       "stream": "stdout",
       "text": [
        "\n",
        "\t\t[Total] -->\n",
        "\t[Prior] --> 344.64\n",
        "\t[Smoother] --> 1476.31\n",
        "\t[Obs] --> 127.605"
       ]
      },
      {
       "output_type": "stream",
       "stream": "stdout",
       "text": [
        "\n",
        "\t\t[Total] -->\n",
        "\t[Prior] --> 344.64\n",
        "\t[Smoother] --> 1476.31\n",
        "\t[Obs] --> 127.605"
       ]
      },
      {
       "output_type": "stream",
       "stream": "stdout",
       "text": [
        "\n",
        "\t\t[Total] -->\n",
        "\t[Prior] --> 344.64\n",
        "\t[Smoother] --> 1476.31\n",
        "\t[Obs] --> 127.605"
       ]
      },
      {
       "output_type": "stream",
       "stream": "stdout",
       "text": [
        "\n",
        "\t\t[Total] -->\n",
        "\t[Prior] --> 344.64\n",
        "\t[Smoother] --> 1476.31\n",
        "\t[Obs] --> 127.605"
       ]
      },
      {
       "output_type": "stream",
       "stream": "stdout",
       "text": [
        "\n",
        "\t\t[Total] -->\n",
        "\t[Prior] --> 344.601\n",
        "\t[Smoother] --> 1517.1\n",
        "\t[Obs] --> 127.851"
       ]
      },
      {
       "output_type": "stream",
       "stream": "stdout",
       "text": [
        "\n",
        "\t\t[Total] -->\n",
        "\t[Prior] --> 344.64\n",
        "\t[Smoother] --> 1476.39\n",
        "\t[Obs] --> 127.604"
       ]
      },
      {
       "output_type": "stream",
       "stream": "stdout",
       "text": [
        "\n",
        "\t\t[Total] -->\n",
        "\t[Prior] --> 344.64\n",
        "\t[Smoother] --> 1476.31\n",
        "\t[Obs] --> 127.605"
       ]
      },
      {
       "output_type": "stream",
       "stream": "stdout",
       "text": [
        "\n",
        "\t\t[Total] -->\n",
        "\t[Prior] --> 344.64\n",
        "\t[Smoother] --> 1476.31\n",
        "\t[Obs] --> 127.605"
       ]
      },
      {
       "output_type": "stream",
       "stream": "stdout",
       "text": [
        "\n",
        "\t\t[Total] -->\n",
        "\t[Prior] --> 344.64\n",
        "\t[Smoother] --> 1476.31\n",
        "\t[Obs] --> 127.605"
       ]
      },
      {
       "output_type": "stream",
       "stream": "stdout",
       "text": [
        "\n",
        "\t\t[Total] -->\n",
        "\t[Prior] --> 344.64\n",
        "\t[Smoother] --> 1476.31\n",
        "\t[Obs] --> 127.605"
       ]
      },
      {
       "output_type": "stream",
       "stream": "stdout",
       "text": [
        "\n",
        "\t\t[Total] -->\n",
        "\t[Prior] --> 344.64\n",
        "\t[Smoother] --> 1476.31\n",
        "\t[Obs] --> 127.605"
       ]
      },
      {
       "output_type": "stream",
       "stream": "stdout",
       "text": [
        "\n",
        "\t\t[Total] -->\n",
        "\t[Prior] --> 344.64\n",
        "\t[Smoother] --> 1476.31\n",
        "\t[Obs] --> 127.605"
       ]
      },
      {
       "output_type": "stream",
       "stream": "stdout",
       "text": [
        "\n",
        "\t\t[Total] -->\n",
        "\t[Prior] --> 344.64\n",
        "\t[Smoother] --> 1476.31\n",
        "\t[Obs] --> 127.605"
       ]
      },
      {
       "output_type": "stream",
       "stream": "stdout",
       "text": [
        "\n",
        "\t\t[Total] -->\n",
        "\t[Prior] --> 344.64\n",
        "\t[Smoother] --> 1476.31\n",
        "\t[Obs] --> 127.605"
       ]
      },
      {
       "output_type": "stream",
       "stream": "stdout",
       "text": [
        "\n",
        "\t\t[Total] -->\n",
        "\t[Prior] --> 344.64\n",
        "\t[Smoother] --> 1476.31\n",
        "\t[Obs] --> 127.605"
       ]
      },
      {
       "output_type": "stream",
       "stream": "stdout",
       "text": [
        "\n",
        "\t\t[Total] -->\n",
        "\t[Prior] --> 344.64\n",
        "\t[Smoother] --> 1476.31\n",
        "\t[Obs] --> 127.605"
       ]
      },
      {
       "output_type": "stream",
       "stream": "stdout",
       "text": [
        "\n",
        "\t\t[Total] -->\n",
        "\t[Prior] --> 344.64\n",
        "\t[Smoother] --> 1476.31\n",
        "\t[Obs] --> 127.605"
       ]
      },
      {
       "output_type": "stream",
       "stream": "stdout",
       "text": [
        "\n",
        "\t\t[Total] -->\n",
        "\t[Prior] --> 344.64\n",
        "\t[Smoother] --> 1476.31\n",
        "\t[Obs] --> 127.605"
       ]
      },
      {
       "output_type": "stream",
       "stream": "stdout",
       "text": [
        "\n",
        "\t\t[Total] -->\n",
        "\t[Prior] --> 344.68\n",
        "\t[Smoother] --> 1476.94\n",
        "\t[Obs] --> 127.61"
       ]
      },
      {
       "output_type": "stream",
       "stream": "stdout",
       "text": [
        "\n",
        "\t\t[Total] -->\n",
        "\t[Prior] --> 344.641\n",
        "\t[Smoother] --> 1476.32\n",
        "\t[Obs] --> 127.605"
       ]
      },
      {
       "output_type": "stream",
       "stream": "stdout",
       "text": [
        "\n",
        "\t\t[Total] -->\n",
        "\t[Prior] --> 344.64\n",
        "\t[Smoother] --> 1476.31\n",
        "\t[Obs] --> 127.605"
       ]
      },
      {
       "output_type": "stream",
       "stream": "stdout",
       "text": [
        "\n",
        "\t\t[Total] -->\n",
        "\t[Prior] --> 344.64\n",
        "\t[Smoother] --> 1476.31\n",
        "\t[Obs] --> 127.605"
       ]
      },
      {
       "output_type": "stream",
       "stream": "stdout",
       "text": [
        "\n",
        "\t\t[Total] -->\n",
        "\t[Prior] --> 344.64\n",
        "\t[Smoother] --> 1476.31\n",
        "\t[Obs] --> 127.605"
       ]
      },
      {
       "output_type": "stream",
       "stream": "stdout",
       "text": [
        "\n",
        "\t\t[Total] -->\n",
        "\t[Prior] --> 344.64\n",
        "\t[Smoother] --> 1476.31\n",
        "\t[Obs] --> 127.605"
       ]
      },
      {
       "output_type": "stream",
       "stream": "stdout",
       "text": [
        "\n",
        "\t\t[Total] -->\n",
        "\t[Prior] --> 344.64\n",
        "\t[Smoother] --> 1476.31\n",
        "\t[Obs] --> 127.605"
       ]
      },
      {
       "output_type": "stream",
       "stream": "stdout",
       "text": [
        "\n",
        "\t\t[Total] -->\n",
        "\t[Prior] --> 344.64\n",
        "\t[Smoother] --> 1476.31\n",
        "\t[Obs] --> 127.605"
       ]
      },
      {
       "output_type": "stream",
       "stream": "stdout",
       "text": [
        "\n",
        "\t\t[Total] -->\n",
        "\t[Prior] --> 344.64\n",
        "\t[Smoother] --> 1476.31\n",
        "\t[Obs] --> 127.605"
       ]
      },
      {
       "output_type": "stream",
       "stream": "stdout",
       "text": [
        "\n",
        "\t\t[Total] -->\n",
        "\t[Prior] --> 344.64\n",
        "\t[Smoother] --> 1476.31\n",
        "\t[Obs] --> 127.605"
       ]
      },
      {
       "output_type": "stream",
       "stream": "stdout",
       "text": [
        "\n",
        "\t\t[Total] -->\n",
        "\t[Prior] --> 344.64\n",
        "\t[Smoother] --> 1476.31\n",
        "\t[Obs] --> 127.605"
       ]
      },
      {
       "output_type": "stream",
       "stream": "stdout",
       "text": [
        "\n",
        "\t\t[Total] -->\n",
        "\t[Prior] --> 344.64\n",
        "\t[Smoother] --> 1476.31\n",
        "\t[Obs] --> 127.605"
       ]
      },
      {
       "output_type": "stream",
       "stream": "stdout",
       "text": [
        "\n",
        "\t\t[Total] -->\n",
        "\t[Prior] --> 344.64\n",
        "\t[Smoother] --> 1476.31\n",
        "\t[Obs] --> 127.605"
       ]
      },
      {
       "output_type": "stream",
       "stream": "stdout",
       "text": [
        "\n",
        "\t\t[Total] -->\n",
        "\t[Prior] --> 344.64\n",
        "\t[Smoother] --> 1476.31\n",
        "\t[Obs] --> 127.605"
       ]
      },
      {
       "output_type": "stream",
       "stream": "stdout",
       "text": [
        "\n",
        "\t\t[Total] -->\n",
        "\t[Prior] --> 344.64\n",
        "\t[Smoother] --> 1476.31\n",
        "\t[Obs] --> 127.605"
       ]
      },
      {
       "output_type": "stream",
       "stream": "stdout",
       "text": [
        "\n",
        "\t\t[Total] -->\n",
        "\t[Prior] --> 344.64\n",
        "\t[Smoother] --> 1476.31\n",
        "\t[Obs] --> 127.605"
       ]
      },
      {
       "output_type": "stream",
       "stream": "stdout",
       "text": [
        "\n",
        "\t\t[Total] -->\n",
        "\t[Prior] --> 344.64\n",
        "\t[Smoother] --> 1476.31\n",
        "\t[Obs] --> 127.605"
       ]
      },
      {
       "output_type": "stream",
       "stream": "stdout",
       "text": [
        "\n",
        "\t\t[Total] -->\n",
        "\t[Prior] --> 344.64\n",
        "\t[Smoother] --> 1476.31\n",
        "\t[Obs] --> 127.605"
       ]
      },
      {
       "output_type": "stream",
       "stream": "stdout",
       "text": [
        "\n",
        "\t\t[Total] -->\n",
        "\t[Prior] --> 344.64\n",
        "\t[Smoother] --> 1476.31\n",
        "\t[Obs] --> 127.605"
       ]
      },
      {
       "output_type": "stream",
       "stream": "stdout",
       "text": [
        "\n",
        "\t\t[Total] -->\n",
        "\t[Prior] --> 344.64\n",
        "\t[Smoother] --> 1476.31\n",
        "\t[Obs] --> 127.605"
       ]
      },
      {
       "output_type": "stream",
       "stream": "stdout",
       "text": [
        "\n",
        "\t\t[Total] -->\n",
        "\t[Prior] --> 3232.32\n",
        "\t[Smoother] --> 4.26204e+07\n",
        "\t[Obs] --> 51057.9"
       ]
      },
      {
       "output_type": "stream",
       "stream": "stdout",
       "text": [
        "\n",
        "\t\t[Total] -->\n",
        "\t[Prior] --> 344.635\n",
        "\t[Smoother] --> 1476.24\n",
        "\t[Obs] --> 127.604"
       ]
      },
      {
       "output_type": "stream",
       "stream": "stdout",
       "text": [
        "\n",
        "\t\t[Total] -->\n",
        "\t[Prior] --> 419.628\n",
        "\t[Smoother] --> 3.69896e+06\n",
        "\t[Obs] --> 13296.9"
       ]
      },
      {
       "output_type": "stream",
       "stream": "stdout",
       "text": [
        "\n",
        "\t\t[Total] -->\n",
        "\t[Prior] --> 344.621\n",
        "\t[Smoother] --> 1476.06\n",
        "\t[Obs] --> 127.604"
       ]
      },
      {
       "output_type": "stream",
       "stream": "stdout",
       "text": [
        "\n",
        "\t\t[Total] -->\n",
        "\t[Prior] --> 344.495\n",
        "\t[Smoother] --> 1480.01\n",
        "\t[Obs] --> 127.607"
       ]
      },
      {
       "output_type": "stream",
       "stream": "stdout",
       "text": [
        "\n",
        "\t\t[Total] -->\n",
        "\t[Prior] --> 344.617\n",
        "\t[Smoother] --> 1476.12\n",
        "\t[Obs] --> 127.604"
       ]
      },
      {
       "output_type": "stream",
       "stream": "stdout",
       "text": [
        "\n",
        "\t\t[Total] -->\n",
        "\t[Prior] --> 344.621\n",
        "\t[Smoother] --> 1476.06\n",
        "\t[Obs] --> 127.604"
       ]
      },
      {
       "output_type": "stream",
       "stream": "stdout",
       "text": [
        "\n",
        "\t\t[Total] -->\n",
        "\t[Prior] --> 344.621\n",
        "\t[Smoother] --> 1476.06\n",
        "\t[Obs] --> 127.604"
       ]
      },
      {
       "output_type": "stream",
       "stream": "stdout",
       "text": [
        "\n",
        "\t\t[Total] -->\n",
        "\t[Prior] --> 344.621\n",
        "\t[Smoother] --> 1476.06\n",
        "\t[Obs] --> 127.604"
       ]
      },
      {
       "output_type": "stream",
       "stream": "stdout",
       "text": [
        "\n",
        "\t\t[Total] -->\n",
        "\t[Prior] --> 344.621\n",
        "\t[Smoother] --> 1476.06\n",
        "\t[Obs] --> 127.604"
       ]
      },
      {
       "output_type": "stream",
       "stream": "stdout",
       "text": [
        "\n",
        "\t\t[Total] -->\n",
        "\t[Prior] --> 344.621\n",
        "\t[Smoother] --> 1476.06\n",
        "\t[Obs] --> 127.604"
       ]
      },
      {
       "output_type": "stream",
       "stream": "stdout",
       "text": [
        "\n",
        "\t\t[Total] -->\n",
        "\t[Prior] --> 344.621\n",
        "\t[Smoother] --> 1476.06\n",
        "\t[Obs] --> 127.604"
       ]
      },
      {
       "output_type": "stream",
       "stream": "stdout",
       "text": [
        "\n",
        "\t\t[Total] -->\n",
        "\t[Prior] --> 344.621\n",
        "\t[Smoother] --> 1476.06\n",
        "\t[Obs] --> 127.604"
       ]
      },
      {
       "output_type": "stream",
       "stream": "stdout",
       "text": [
        "\n",
        "\t\t[Total] -->\n",
        "\t[Prior] --> 344.621\n",
        "\t[Smoother] --> 1476.06\n",
        "\t[Obs] --> 127.604"
       ]
      },
      {
       "output_type": "stream",
       "stream": "stdout",
       "text": [
        "\n",
        "\t\t[Total] -->\n",
        "\t[Prior] --> 344.621\n",
        "\t[Smoother] --> 1476.06\n",
        "\t[Obs] --> 127.604"
       ]
      },
      {
       "output_type": "stream",
       "stream": "stdout",
       "text": [
        "\n",
        "\t\t[Total] -->\n",
        "\t[Prior] --> 344.621\n",
        "\t[Smoother] --> 1476.06\n",
        "\t[Obs] --> 127.604"
       ]
      },
      {
       "output_type": "stream",
       "stream": "stdout",
       "text": [
        "\n",
        "\t\t[Total] -->\n",
        "\t[Prior] --> 344.621\n",
        "\t[Smoother] --> 1476.06\n",
        "\t[Obs] --> 127.604"
       ]
      },
      {
       "output_type": "stream",
       "stream": "stdout",
       "text": [
        "\n",
        "\t\t[Total] -->\n",
        "\t[Prior] --> 344.621\n",
        "\t[Smoother] --> 1476.06\n",
        "\t[Obs] --> 127.604"
       ]
      },
      {
       "output_type": "stream",
       "stream": "stdout",
       "text": [
        "\n",
        "\t\t[Total] -->\n",
        "\t[Prior] --> 344.621\n",
        "\t[Smoother] --> 1476.06\n",
        "\t[Obs] --> 127.604"
       ]
      },
      {
       "output_type": "stream",
       "stream": "stdout",
       "text": [
        "\n",
        "\t\t[Total] -->\n",
        "\t[Prior] --> 344.621\n",
        "\t[Smoother] --> 1476.06\n",
        "\t[Obs] --> 127.604"
       ]
      },
      {
       "output_type": "stream",
       "stream": "stdout",
       "text": [
        "\n",
        "\t\t[Total] -->\n",
        "\t[Prior] --> 344.621\n",
        "\t[Smoother] --> 1476.06\n",
        "\t[Obs] --> 127.604"
       ]
      },
      {
       "output_type": "stream",
       "stream": "stdout",
       "text": [
        "\n",
        "\t\t[Total] -->\n",
        "\t[Prior] --> 344.621\n",
        "\t[Smoother] --> 1476.06\n",
        "\t[Obs] --> 127.604"
       ]
      },
      {
       "output_type": "stream",
       "stream": "stdout",
       "text": [
        "\n",
        "\t\t[Total] -->\n",
        "\t[Prior] --> 344.621\n",
        "\t[Smoother] --> 1476.06\n",
        "\t[Obs] --> 127.604"
       ]
      },
      {
       "output_type": "stream",
       "stream": "stdout",
       "text": [
        "\n",
        "\t\t[Total] -->\n",
        "\t[Prior] --> 344.621\n",
        "\t[Smoother] --> 1476.06\n",
        "\t[Obs] --> 127.604"
       ]
      },
      {
       "output_type": "stream",
       "stream": "stdout",
       "text": [
        "\n",
        "\t\t[Total] -->\n",
        "\t[Prior] --> 3236.6\n",
        "\t[Smoother] --> 2.81826e+07\n",
        "\t[Obs] --> 39855.2"
       ]
      },
      {
       "output_type": "stream",
       "stream": "stdout",
       "text": [
        "\n",
        "\t\t[Total] -->\n",
        "\t[Prior] --> 344.615\n",
        "\t[Smoother] --> 1476\n",
        "\t[Obs] --> 127.604"
       ]
      },
      {
       "output_type": "stream",
       "stream": "stdout",
       "text": [
        "\n",
        "\t\t[Total] -->\n",
        "\t[Prior] --> 429.839\n",
        "\t[Smoother] --> 2.29158e+06\n",
        "\t[Obs] --> 10278.5"
       ]
      },
      {
       "output_type": "stream",
       "stream": "stdout",
       "text": [
        "\n",
        "\t\t[Total] -->\n",
        "\t[Prior] --> 344.596\n",
        "\t[Smoother] --> 1475.83\n",
        "\t[Obs] --> 127.604"
       ]
      },
      {
       "output_type": "stream",
       "stream": "stdout",
       "text": [
        "\n",
        "\t\t[Total] -->\n",
        "\t[Prior] --> 344.437\n",
        "\t[Smoother] --> 1479.38\n",
        "\t[Obs] --> 127.607"
       ]
      },
      {
       "output_type": "stream",
       "stream": "stdout",
       "text": [
        "\n",
        "\t\t[Total] -->\n",
        "\t[Prior] --> 344.59\n",
        "\t[Smoother] --> 1475.88\n",
        "\t[Obs] --> 127.603"
       ]
      },
      {
       "output_type": "stream",
       "stream": "stdout",
       "text": [
        "\n",
        "\t\t[Total] -->\n",
        "\t[Prior] --> 344.596\n",
        "\t[Smoother] --> 1475.84\n",
        "\t[Obs] --> 127.604"
       ]
      },
      {
       "output_type": "stream",
       "stream": "stdout",
       "text": [
        "\n",
        "\t\t[Total] -->\n",
        "\t[Prior] --> 344.596\n",
        "\t[Smoother] --> 1475.83\n",
        "\t[Obs] --> 127.604"
       ]
      },
      {
       "output_type": "stream",
       "stream": "stdout",
       "text": [
        "\n",
        "\t\t[Total] -->\n",
        "\t[Prior] --> 344.596\n",
        "\t[Smoother] --> 1475.83\n",
        "\t[Obs] --> 127.604"
       ]
      },
      {
       "output_type": "stream",
       "stream": "stdout",
       "text": [
        "\n",
        "\t\t[Total] -->\n",
        "\t[Prior] --> 344.596\n",
        "\t[Smoother] --> 1475.83\n",
        "\t[Obs] --> 127.604"
       ]
      },
      {
       "output_type": "stream",
       "stream": "stdout",
       "text": [
        "\n",
        "\t\t[Total] -->\n",
        "\t[Prior] --> 344.596\n",
        "\t[Smoother] --> 1475.83\n",
        "\t[Obs] --> 127.604"
       ]
      },
      {
       "output_type": "stream",
       "stream": "stdout",
       "text": [
        "\n",
        "\t\t[Total] -->\n",
        "\t[Prior] --> 344.596\n",
        "\t[Smoother] --> 1475.83\n",
        "\t[Obs] --> 127.604"
       ]
      },
      {
       "output_type": "stream",
       "stream": "stdout",
       "text": [
        "\n",
        "\t\t[Total] -->\n",
        "\t[Prior] --> 344.596\n",
        "\t[Smoother] --> 1475.83\n",
        "\t[Obs] --> 127.604"
       ]
      },
      {
       "output_type": "stream",
       "stream": "stdout",
       "text": [
        "\n",
        "\t\t[Total] -->\n",
        "\t[Prior] --> 344.596\n",
        "\t[Smoother] --> 1475.83\n",
        "\t[Obs] --> 127.604"
       ]
      },
      {
       "output_type": "stream",
       "stream": "stdout",
       "text": [
        "\n",
        "\t\t[Total] -->\n",
        "\t[Prior] --> 344.596\n",
        "\t[Smoother] --> 1475.83\n",
        "\t[Obs] --> 127.604"
       ]
      },
      {
       "output_type": "stream",
       "stream": "stdout",
       "text": [
        "\n",
        "\t\t[Total] -->\n",
        "\t[Prior] --> 344.596\n",
        "\t[Smoother] --> 1475.83\n",
        "\t[Obs] --> 127.604"
       ]
      },
      {
       "output_type": "stream",
       "stream": "stdout",
       "text": [
        "\n",
        "\t\t[Total] -->\n",
        "\t[Prior] --> 344.596\n",
        "\t[Smoother] --> 1475.83\n",
        "\t[Obs] --> 127.604"
       ]
      },
      {
       "output_type": "stream",
       "stream": "stdout",
       "text": [
        "\n",
        "\t\t[Total] -->\n",
        "\t[Prior] --> 344.596\n",
        "\t[Smoother] --> 1475.83\n",
        "\t[Obs] --> 127.604"
       ]
      },
      {
       "output_type": "stream",
       "stream": "stdout",
       "text": [
        "\n",
        "\t\t[Total] -->\n",
        "\t[Prior] --> 344.596\n",
        "\t[Smoother] --> 1475.83\n",
        "\t[Obs] --> 127.604"
       ]
      },
      {
       "output_type": "stream",
       "stream": "stdout",
       "text": [
        "\n",
        "\t\t[Total] -->\n",
        "\t[Prior] --> 344.596\n",
        "\t[Smoother] --> 1475.83\n",
        "\t[Obs] --> 127.604"
       ]
      },
      {
       "output_type": "stream",
       "stream": "stdout",
       "text": [
        "\n",
        "\t\t[Total] -->\n",
        "\t[Prior] --> 344.596\n",
        "\t[Smoother] --> 1475.83\n",
        "\t[Obs] --> 127.604"
       ]
      },
      {
       "output_type": "stream",
       "stream": "stdout",
       "text": [
        "\n",
        "\t\t[Total] -->\n",
        "\t[Prior] --> 344.596\n",
        "\t[Smoother] --> 1475.83\n",
        "\t[Obs] --> 127.604"
       ]
      },
      {
       "output_type": "stream",
       "stream": "stdout",
       "text": [
        "\n",
        "\t\t[Total] -->\n",
        "\t[Prior] --> 344.596\n",
        "\t[Smoother] --> 1475.83\n",
        "\t[Obs] --> 127.604"
       ]
      },
      {
       "output_type": "stream",
       "stream": "stdout",
       "text": [
        "\n",
        "\t\t[Total] -->\n",
        "\t[Prior] --> 344.437\n",
        "\t[Smoother] --> 1479.38\n",
        "\t[Obs] --> 127.607"
       ]
      },
      {
       "output_type": "stream",
       "stream": "stdout",
       "text": [
        "\n",
        "\t\t[Total] -->\n",
        "\t[Prior] --> 344.59\n",
        "\t[Smoother] --> 1475.88\n",
        "\t[Obs] --> 127.603"
       ]
      },
      {
       "output_type": "stream",
       "stream": "stdout",
       "text": [
        "\n",
        "\t\t[Total] -->\n",
        "\t[Prior] --> 344.596\n",
        "\t[Smoother] --> 1475.84\n",
        "\t[Obs] --> 127.604"
       ]
      },
      {
       "output_type": "stream",
       "stream": "stdout",
       "text": [
        "\n",
        "\t\t[Total] -->\n",
        "\t[Prior] --> 344.596\n",
        "\t[Smoother] --> 1475.83\n",
        "\t[Obs] --> 127.604"
       ]
      },
      {
       "output_type": "stream",
       "stream": "stdout",
       "text": [
        "\n",
        "\t\t[Total] -->\n",
        "\t[Prior] --> 344.596\n",
        "\t[Smoother] --> 1475.83\n",
        "\t[Obs] --> 127.604"
       ]
      },
      {
       "output_type": "stream",
       "stream": "stdout",
       "text": [
        "\n",
        "\t\t[Total] -->\n",
        "\t[Prior] --> 344.596\n",
        "\t[Smoother] --> 1475.83\n",
        "\t[Obs] --> 127.604"
       ]
      },
      {
       "output_type": "stream",
       "stream": "stdout",
       "text": [
        "\n",
        "\t\t[Total] -->\n",
        "\t[Prior] --> 344.596\n",
        "\t[Smoother] --> 1475.83\n",
        "\t[Obs] --> 127.604"
       ]
      },
      {
       "output_type": "stream",
       "stream": "stdout",
       "text": [
        "\n",
        "\t\t[Total] -->\n",
        "\t[Prior] --> 344.596\n",
        "\t[Smoother] --> 1475.83\n",
        "\t[Obs] --> 127.604"
       ]
      },
      {
       "output_type": "stream",
       "stream": "stdout",
       "text": [
        "\n",
        "\t\t[Total] -->\n",
        "\t[Prior] --> 344.596\n",
        "\t[Smoother] --> 1475.83\n",
        "\t[Obs] --> 127.604"
       ]
      },
      {
       "output_type": "stream",
       "stream": "stdout",
       "text": [
        "\n",
        "\t\t[Total] -->\n",
        "\t[Prior] --> 344.596\n",
        "\t[Smoother] --> 1475.83\n",
        "\t[Obs] --> 127.604"
       ]
      },
      {
       "output_type": "stream",
       "stream": "stdout",
       "text": [
        "\n",
        "\t\t[Total] -->\n",
        "\t[Prior] --> 344.596\n",
        "\t[Smoother] --> 1475.83\n",
        "\t[Obs] --> 127.604"
       ]
      },
      {
       "output_type": "stream",
       "stream": "stdout",
       "text": [
        "\n",
        "\t\t[Total] -->\n",
        "\t[Prior] --> 344.596\n",
        "\t[Smoother] --> 1475.83\n",
        "\t[Obs] --> 127.604"
       ]
      },
      {
       "output_type": "stream",
       "stream": "stdout",
       "text": [
        "\n",
        "\t\t[Total] -->\n",
        "\t[Prior] --> 344.437\n",
        "\t[Smoother] --> 1479.38\n",
        "\t[Obs] --> 127.607"
       ]
      },
      {
       "output_type": "stream",
       "stream": "stdout",
       "text": [
        "\n",
        "\t\t[Total] -->\n",
        "\t[Prior] --> 344.59\n",
        "\t[Smoother] --> 1475.88\n",
        "\t[Obs] --> 127.603"
       ]
      },
      {
       "output_type": "stream",
       "stream": "stdout",
       "text": [
        "\n",
        "\t\t[Total] -->\n",
        "\t[Prior] --> 344.596\n",
        "\t[Smoother] --> 1475.84\n",
        "\t[Obs] --> 127.604"
       ]
      },
      {
       "output_type": "stream",
       "stream": "stdout",
       "text": [
        "\n",
        "\t\t[Total] -->\n",
        "\t[Prior] --> 344.596\n",
        "\t[Smoother] --> 1475.83\n",
        "\t[Obs] --> 127.604"
       ]
      },
      {
       "output_type": "stream",
       "stream": "stdout",
       "text": [
        "\n",
        "\t\t[Total] -->\n",
        "\t[Prior] --> 344.596\n",
        "\t[Smoother] --> 1475.83\n",
        "\t[Obs] --> 127.604"
       ]
      },
      {
       "output_type": "stream",
       "stream": "stdout",
       "text": [
        "\n",
        "\t\t[Total] -->\n",
        "\t[Prior] --> 344.596\n",
        "\t[Smoother] --> 1475.83\n",
        "\t[Obs] --> 127.604"
       ]
      },
      {
       "output_type": "stream",
       "stream": "stdout",
       "text": [
        "\n",
        "\t\t[Total] -->\n",
        "\t[Prior] --> 344.596\n",
        "\t[Smoother] --> 1475.83\n",
        "\t[Obs] --> 127.604"
       ]
      },
      {
       "output_type": "stream",
       "stream": "stdout",
       "text": [
        "\n",
        "\t\t[Total] -->\n",
        "\t[Prior] --> 344.596\n",
        "\t[Smoother] --> 1475.83\n",
        "\t[Obs] --> 127.604"
       ]
      },
      {
       "output_type": "stream",
       "stream": "stdout",
       "text": [
        "\n",
        "\t\t[Total] -->\n",
        "\t[Prior] --> 344.596\n",
        "\t[Smoother] --> 1475.83\n",
        "\t[Obs] --> 127.604"
       ]
      },
      {
       "output_type": "stream",
       "stream": "stdout",
       "text": [
        "\n",
        "\t\t[Total] -->\n",
        "\t[Prior] --> 344.596\n",
        "\t[Smoother] --> 1475.83\n",
        "\t[Obs] --> 127.604"
       ]
      },
      {
       "output_type": "stream",
       "stream": "stdout",
       "text": [
        "\n",
        "\t\t[Total] -->\n",
        "\t[Prior] --> 344.596\n",
        "\t[Smoother] --> 1475.83\n",
        "\t[Obs] --> 127.604"
       ]
      },
      {
       "output_type": "stream",
       "stream": "stdout",
       "text": [
        "\n",
        "\t\t[Total] -->\n",
        "\t[Prior] --> 344.596\n",
        "\t[Smoother] --> 1475.83\n",
        "\t[Obs] --> 127.604"
       ]
      },
      {
       "output_type": "stream",
       "stream": "stdout",
       "text": [
        "\n",
        "\t\t[Total] -->\n",
        "\t[Prior] --> 344.596\n",
        "\t[Smoother] --> 1475.83\n",
        "\t[Obs] --> 127.604"
       ]
      },
      {
       "output_type": "stream",
       "stream": "stdout",
       "text": [
        "\n",
        "\t\t[Total] -->\n",
        "\t[Prior] --> 344.596\n",
        "\t[Smoother] --> 1475.83\n",
        "\t[Obs] --> 127.604"
       ]
      },
      {
       "output_type": "stream",
       "stream": "stdout",
       "text": [
        "\n",
        "\t\t[Total] -->\n",
        "\t[Prior] --> 344.596\n",
        "\t[Smoother] --> 1475.83\n",
        "\t[Obs] --> 127.604"
       ]
      },
      {
       "output_type": "stream",
       "stream": "stdout",
       "text": [
        "\n",
        "\t\t[Total] -->\n",
        "\t[Prior] --> 344.596\n",
        "\t[Smoother] --> 1475.83\n",
        "\t[Obs] --> 127.604"
       ]
      },
      {
       "output_type": "stream",
       "stream": "stdout",
       "text": [
        "\n",
        "\t\t[Total] -->\n",
        "\t[Prior] --> 344.596\n",
        "\t[Smoother] --> 1475.83\n",
        "\t[Obs] --> 127.604"
       ]
      },
      {
       "output_type": "stream",
       "stream": "stdout",
       "text": [
        "\n",
        "\t\t[Total] -->\n",
        "\t[Prior] --> 344.596\n",
        "\t[Smoother] --> 1475.83\n",
        "\t[Obs] --> 127.604"
       ]
      },
      {
       "output_type": "stream",
       "stream": "stdout",
       "text": [
        "\n",
        "\t\t[Total] -->\n",
        "\t[Prior] --> 344.596\n",
        "\t[Smoother] --> 1475.83\n",
        "\t[Obs] --> 127.604"
       ]
      },
      {
       "output_type": "stream",
       "stream": "stdout",
       "text": [
        "\n",
        "\t\t[Total] -->\n",
        "\t[Prior] --> 344.596\n",
        "\t[Smoother] --> 1475.83\n",
        "\t[Obs] --> 127.604"
       ]
      },
      {
       "output_type": "stream",
       "stream": "stdout",
       "text": [
        "\n",
        "\t\t[Total] -->\n",
        "\t[Prior] --> 3101.08\n",
        "\t[Smoother] --> 2.89655e+07\n",
        "\t[Obs] --> 44780.7"
       ]
      },
      {
       "output_type": "stream",
       "stream": "stdout",
       "text": [
        "\n",
        "\t\t[Total] -->\n",
        "\t[Prior] --> 344.591\n",
        "\t[Smoother] --> 1475.79\n",
        "\t[Obs] --> 127.603"
       ]
      },
      {
       "output_type": "stream",
       "stream": "stdout",
       "text": [
        "\n",
        "\t\t[Total] -->\n",
        "\t[Prior] --> 422.257\n",
        "\t[Smoother] --> 2.44994e+06\n",
        "\t[Obs] --> 11601.2"
       ]
      },
      {
       "output_type": "stream",
       "stream": "stdout",
       "text": [
        "\n",
        "\t\t[Total] -->\n",
        "\t[Prior] --> 344.573\n",
        "\t[Smoother] --> 1475.65\n",
        "\t[Obs] --> 127.6"
       ]
      },
      {
       "output_type": "stream",
       "stream": "stdout",
       "text": [
        "\n",
        "\t\t[Total] -->\n",
        "\t[Prior] --> 344.427\n",
        "\t[Smoother] --> 1479.1\n",
        "\t[Obs] --> 127.611"
       ]
      },
      {
       "output_type": "stream",
       "stream": "stdout",
       "text": [
        "\n",
        "\t\t[Total] -->\n",
        "\t[Prior] --> 344.569\n",
        "\t[Smoother] --> 1475.7\n",
        "\t[Obs] --> 127.6"
       ]
      },
      {
       "output_type": "stream",
       "stream": "stdout",
       "text": [
        "\n",
        "\t\t[Total] -->\n",
        "\t[Prior] --> 344.573\n",
        "\t[Smoother] --> 1475.66\n",
        "\t[Obs] --> 127.6"
       ]
      },
      {
       "output_type": "stream",
       "stream": "stdout",
       "text": [
        "\n",
        "\t\t[Total] -->\n",
        "\t[Prior] --> 344.573\n",
        "\t[Smoother] --> 1475.65\n",
        "\t[Obs] --> 127.6"
       ]
      },
      {
       "output_type": "stream",
       "stream": "stdout",
       "text": [
        "\n",
        "\t\t[Total] -->\n",
        "\t[Prior] --> 344.573\n",
        "\t[Smoother] --> 1475.65\n",
        "\t[Obs] --> 127.6"
       ]
      },
      {
       "output_type": "stream",
       "stream": "stdout",
       "text": [
        "\n",
        "\t\t[Total] -->\n",
        "\t[Prior] --> 344.573\n",
        "\t[Smoother] --> 1475.65\n",
        "\t[Obs] --> 127.6"
       ]
      },
      {
       "output_type": "stream",
       "stream": "stdout",
       "text": [
        "\n",
        "\t\t[Total] -->\n",
        "\t[Prior] --> 344.573\n",
        "\t[Smoother] --> 1475.65\n",
        "\t[Obs] --> 127.6"
       ]
      },
      {
       "output_type": "stream",
       "stream": "stdout",
       "text": [
        "\n",
        "\t\t[Total] -->\n",
        "\t[Prior] --> 344.573\n",
        "\t[Smoother] --> 1475.65\n",
        "\t[Obs] --> 127.6"
       ]
      },
      {
       "output_type": "stream",
       "stream": "stdout",
       "text": [
        "\n",
        "\t\t[Total] -->\n",
        "\t[Prior] --> 344.573\n",
        "\t[Smoother] --> 1475.65\n",
        "\t[Obs] --> 127.6"
       ]
      },
      {
       "output_type": "stream",
       "stream": "stdout",
       "text": [
        "\n",
        "\t\t[Total] -->\n",
        "\t[Prior] --> 344.573\n",
        "\t[Smoother] --> 1475.65\n",
        "\t[Obs] --> 127.6"
       ]
      },
      {
       "output_type": "stream",
       "stream": "stdout",
       "text": [
        "\n",
        "\t\t[Total] -->\n",
        "\t[Prior] --> 344.573\n",
        "\t[Smoother] --> 1475.65\n",
        "\t[Obs] --> 127.6"
       ]
      },
      {
       "output_type": "stream",
       "stream": "stdout",
       "text": [
        "\n",
        "\t\t[Total] -->\n",
        "\t[Prior] --> 344.573\n",
        "\t[Smoother] --> 1475.65\n",
        "\t[Obs] --> 127.6"
       ]
      },
      {
       "output_type": "stream",
       "stream": "stdout",
       "text": [
        "\n",
        "\t\t[Total] -->\n",
        "\t[Prior] --> 344.427\n",
        "\t[Smoother] --> 1479.1\n",
        "\t[Obs] --> 127.611"
       ]
      },
      {
       "output_type": "stream",
       "stream": "stdout",
       "text": [
        "\n",
        "\t\t[Total] -->\n",
        "\t[Prior] --> 344.569\n",
        "\t[Smoother] --> 1475.7\n",
        "\t[Obs] --> 127.6"
       ]
      },
      {
       "output_type": "stream",
       "stream": "stdout",
       "text": [
        "\n",
        "\t\t[Total] -->\n",
        "\t[Prior] --> 344.573\n",
        "\t[Smoother] --> 1475.66\n",
        "\t[Obs] --> 127.6"
       ]
      },
      {
       "output_type": "stream",
       "stream": "stdout",
       "text": [
        "\n",
        "\t\t[Total] -->\n",
        "\t[Prior] --> 344.573\n",
        "\t[Smoother] --> 1475.65\n",
        "\t[Obs] --> 127.6"
       ]
      },
      {
       "output_type": "stream",
       "stream": "stdout",
       "text": [
        "\n",
        "\t\t[Total] -->\n",
        "\t[Prior] --> 344.573\n",
        "\t[Smoother] --> 1475.65\n",
        "\t[Obs] --> 127.6"
       ]
      },
      {
       "output_type": "stream",
       "stream": "stdout",
       "text": [
        "\n",
        "\t\t[Total] -->\n",
        "\t[Prior] --> 344.573\n",
        "\t[Smoother] --> 1475.65\n",
        "\t[Obs] --> 127.6"
       ]
      },
      {
       "output_type": "stream",
       "stream": "stdout",
       "text": [
        "\n",
        "\t\t[Total] -->\n",
        "\t[Prior] --> 344.573\n",
        "\t[Smoother] --> 1475.65\n",
        "\t[Obs] --> 127.6"
       ]
      },
      {
       "output_type": "stream",
       "stream": "stdout",
       "text": [
        "\n",
        "\t\t[Total] -->\n",
        "\t[Prior] --> 344.573\n",
        "\t[Smoother] --> 1475.65\n",
        "\t[Obs] --> 127.6"
       ]
      },
      {
       "output_type": "stream",
       "stream": "stdout",
       "text": [
        "\n",
        "\t\t[Total] -->\n",
        "\t[Prior] --> 344.573\n",
        "\t[Smoother] --> 1475.65\n",
        "\t[Obs] --> 127.6"
       ]
      },
      {
       "output_type": "stream",
       "stream": "stdout",
       "text": [
        "\n",
        "\t\t[Total] -->\n",
        "\t[Prior] --> 344.573\n",
        "\t[Smoother] --> 1475.65\n",
        "\t[Obs] --> 127.6"
       ]
      },
      {
       "output_type": "stream",
       "stream": "stdout",
       "text": [
        "\n",
        "\t\t[Total] -->\n",
        "\t[Prior] --> 344.573\n",
        "\t[Smoother] --> 1475.65\n",
        "\t[Obs] --> 127.6"
       ]
      },
      {
       "output_type": "stream",
       "stream": "stdout",
       "text": [
        "\n",
        "\t\t[Total] -->\n",
        "\t[Prior] --> 344.573\n",
        "\t[Smoother] --> 1475.65\n",
        "\t[Obs] --> 127.6"
       ]
      },
      {
       "output_type": "stream",
       "stream": "stdout",
       "text": [
        "\n",
        "\t\t[Total] -->\n",
        "\t[Prior] --> 344.573\n",
        "\t[Smoother] --> 1475.65\n",
        "\t[Obs] --> 127.6"
       ]
      },
      {
       "output_type": "stream",
       "stream": "stdout",
       "text": [
        "\n",
        "\t\t[Total] -->\n",
        "\t[Prior] --> 344.573\n",
        "\t[Smoother] --> 1475.65\n",
        "\t[Obs] --> 127.6"
       ]
      },
      {
       "output_type": "stream",
       "stream": "stdout",
       "text": [
        "\n",
        "\t\t[Total] -->\n",
        "\t[Prior] --> 344.573\n",
        "\t[Smoother] --> 1475.65\n",
        "\t[Obs] --> 127.6"
       ]
      },
      {
       "output_type": "stream",
       "stream": "stdout",
       "text": [
        "\n",
        "\t\t[Total] -->\n",
        "\t[Prior] --> 344.573\n",
        "\t[Smoother] --> 1475.65\n",
        "\t[Obs] --> 127.6"
       ]
      },
      {
       "output_type": "stream",
       "stream": "stdout",
       "text": [
        "\n",
        "\t\t[Total] -->\n",
        "\t[Prior] --> 344.573\n",
        "\t[Smoother] --> 1475.65\n",
        "\t[Obs] --> 127.6"
       ]
      },
      {
       "output_type": "stream",
       "stream": "stdout",
       "text": [
        "\n",
        "\t\t[Total] -->\n",
        "\t[Prior] --> 344.573\n",
        "\t[Smoother] --> 1475.65\n",
        "\t[Obs] --> 127.6"
       ]
      },
      {
       "output_type": "stream",
       "stream": "stdout",
       "text": [
        "\n",
        "\t\t[Total] -->\n",
        "\t[Prior] --> 344.573\n",
        "\t[Smoother] --> 1475.65\n",
        "\t[Obs] --> 127.6"
       ]
      },
      {
       "output_type": "stream",
       "stream": "stdout",
       "text": [
        "\n",
        "\t\t[Total] -->\n",
        "\t[Prior] --> 344.573\n",
        "\t[Smoother] --> 1475.65\n",
        "\t[Obs] --> 127.6"
       ]
      },
      {
       "output_type": "stream",
       "stream": "stdout",
       "text": [
        "\n",
        "\t\t[Total] -->\n",
        "\t[Prior] --> 3089.18\n",
        "\t[Smoother] --> 2.54204e+07\n",
        "\t[Obs] --> 48439.5"
       ]
      },
      {
       "output_type": "stream",
       "stream": "stdout",
       "text": [
        "\n",
        "\t\t[Total] -->\n",
        "\t[Prior] --> 344.568\n",
        "\t[Smoother] --> 1475.61\n",
        "\t[Obs] --> 127.6"
       ]
      },
      {
       "output_type": "stream",
       "stream": "stdout",
       "text": [
        "\n",
        "\t\t[Total] -->\n",
        "\t[Prior] --> 425.593\n",
        "\t[Smoother] --> 2.2912e+06\n",
        "\t[Obs] --> 12434.3"
       ]
      },
      {
       "output_type": "stream",
       "stream": "stdout",
       "text": [
        "\n",
        "\t\t[Total] -->\n",
        "\t[Prior] --> 344.55\n",
        "\t[Smoother] --> 1475.51\n",
        "\t[Obs] --> 127.599"
       ]
      },
      {
       "output_type": "stream",
       "stream": "stdout",
       "text": [
        "\n",
        "\t\t[Total] -->\n",
        "\t[Prior] --> 344.406\n",
        "\t[Smoother] --> 1478.34\n",
        "\t[Obs] --> 127.618"
       ]
      },
      {
       "output_type": "stream",
       "stream": "stdout",
       "text": [
        "\n",
        "\t\t[Total] -->\n",
        "\t[Prior] --> 344.545\n",
        "\t[Smoother] --> 1475.55\n",
        "\t[Obs] --> 127.6"
       ]
      },
      {
       "output_type": "stream",
       "stream": "stdout",
       "text": [
        "\n",
        "\t\t[Total] -->\n",
        "\t[Prior] --> 344.55\n",
        "\t[Smoother] --> 1475.51\n",
        "\t[Obs] --> 127.599"
       ]
      },
      {
       "output_type": "stream",
       "stream": "stdout",
       "text": [
        "\n",
        "\t\t[Total] -->\n",
        "\t[Prior] --> 344.55\n",
        "\t[Smoother] --> 1475.51\n",
        "\t[Obs] --> 127.599"
       ]
      },
      {
       "output_type": "stream",
       "stream": "stdout",
       "text": [
        "\n",
        "\t\t[Total] -->\n",
        "\t[Prior] --> 344.55\n",
        "\t[Smoother] --> 1475.51\n",
        "\t[Obs] --> 127.599"
       ]
      },
      {
       "output_type": "stream",
       "stream": "stdout",
       "text": [
        "\n",
        "\t\t[Total] -->\n",
        "\t[Prior] --> 344.55\n",
        "\t[Smoother] --> 1475.51\n",
        "\t[Obs] --> 127.599"
       ]
      },
      {
       "output_type": "stream",
       "stream": "stdout",
       "text": [
        "\n",
        "\t\t[Total] -->\n",
        "\t[Prior] --> 344.55\n",
        "\t[Smoother] --> 1475.51\n",
        "\t[Obs] --> 127.599"
       ]
      },
      {
       "output_type": "stream",
       "stream": "stdout",
       "text": [
        "\n",
        "\t\t[Total] -->\n",
        "\t[Prior] --> 344.55\n",
        "\t[Smoother] --> 1475.51\n",
        "\t[Obs] --> 127.599"
       ]
      },
      {
       "output_type": "stream",
       "stream": "stdout",
       "text": [
        "\n",
        "\t\t[Total] -->\n",
        "\t[Prior] --> 344.55\n",
        "\t[Smoother] --> 1475.51\n",
        "\t[Obs] --> 127.599"
       ]
      },
      {
       "output_type": "stream",
       "stream": "stdout",
       "text": [
        "\n",
        "\t\t[Total] -->\n",
        "\t[Prior] --> 344.55\n",
        "\t[Smoother] --> 1475.51\n",
        "\t[Obs] --> 127.599"
       ]
      },
      {
       "output_type": "stream",
       "stream": "stdout",
       "text": [
        "\n",
        "\t\t[Total] -->\n",
        "\t[Prior] --> 344.55\n",
        "\t[Smoother] --> 1475.51\n",
        "\t[Obs] --> 127.599"
       ]
      },
      {
       "output_type": "stream",
       "stream": "stdout",
       "text": [
        "\n",
        "\t\t[Total] -->\n",
        "\t[Prior] --> 344.55\n",
        "\t[Smoother] --> 1475.51\n",
        "\t[Obs] --> 127.599"
       ]
      },
      {
       "output_type": "stream",
       "stream": "stdout",
       "text": [
        "\n",
        "\t\t[Total] -->\n",
        "\t[Prior] --> 344.55\n",
        "\t[Smoother] --> 1475.51\n",
        "\t[Obs] --> 127.599"
       ]
      },
      {
       "output_type": "stream",
       "stream": "stdout",
       "text": [
        "\n",
        "\t\t[Total] -->\n",
        "\t[Prior] --> 344.203\n",
        "\t[Smoother] --> 1482.23\n",
        "\t[Obs] --> 127.627"
       ]
      },
      {
       "output_type": "stream",
       "stream": "stdout",
       "text": [
        "\n",
        "\t\t[Total] -->\n",
        "\t[Prior] --> 344.54\n",
        "\t[Smoother] --> 1475.52\n",
        "\t[Obs] --> 127.6"
       ]
      },
      {
       "output_type": "stream",
       "stream": "stdout",
       "text": [
        "\n",
        "\t\t[Total] -->\n",
        "\t[Prior] --> 344.548\n",
        "\t[Smoother] --> 1475.51\n",
        "\t[Obs] --> 127.599"
       ]
      },
      {
       "output_type": "stream",
       "stream": "stdout",
       "text": [
        "\n",
        "\t\t[Total] -->\n",
        "\t[Prior] --> 344.543\n",
        "\t[Smoother] --> 1475.52\n",
        "\t[Obs] --> 127.6"
       ]
      },
      {
       "output_type": "stream",
       "stream": "stdout",
       "text": [
        "\n",
        "\t\t[Total] -->\n",
        "\t[Prior] --> 344.547\n",
        "\t[Smoother] --> 1475.51\n",
        "\t[Obs] --> 127.599"
       ]
      },
      {
       "output_type": "stream",
       "stream": "stdout",
       "text": [
        "\n",
        "\t\t[Total] -->\n",
        "\t[Prior] --> 344.545\n",
        "\t[Smoother] --> 1475.51\n",
        "\t[Obs] --> 127.6"
       ]
      },
      {
       "output_type": "stream",
       "stream": "stdout",
       "text": [
        "\n",
        "\t\t[Total] -->\n",
        "\t[Prior] --> 344.547\n",
        "\t[Smoother] --> 1475.51\n",
        "\t[Obs] --> 127.599"
       ]
      },
      {
       "output_type": "stream",
       "stream": "stdout",
       "text": [
        "\n",
        "\t\t[Total] -->\n",
        "\t[Prior] --> 344.547\n",
        "\t[Smoother] --> 1475.51\n",
        "\t[Obs] --> 127.599"
       ]
      },
      {
       "output_type": "stream",
       "stream": "stdout",
       "text": [
        "\n",
        "\t\t[Total] -->\n",
        "\t[Prior] --> 344.547\n",
        "\t[Smoother] --> 1475.51\n",
        "\t[Obs] --> 127.599"
       ]
      },
      {
       "output_type": "stream",
       "stream": "stdout",
       "text": [
        "\n",
        "\t\t[Total] -->\n",
        "\t[Prior] --> 344.565\n",
        "\t[Smoother] --> 1565.5\n",
        "\t[Obs] --> 128.496"
       ]
      },
      {
       "output_type": "stream",
       "stream": "stdout",
       "text": [
        "\n",
        "\t\t[Total] -->\n",
        "\t[Prior] --> 344.547\n",
        "\t[Smoother] --> 1475.62\n",
        "\t[Obs] --> 127.601"
       ]
      },
      {
       "output_type": "stream",
       "stream": "stdout",
       "text": [
        "\n",
        "\t\t[Total] -->\n",
        "\t[Prior] --> 344.547\n",
        "\t[Smoother] --> 1475.51\n",
        "\t[Obs] --> 127.599"
       ]
      },
      {
       "output_type": "stream",
       "stream": "stdout",
       "text": [
        "\n",
        "\t\t[Total] -->\n",
        "\t[Prior] --> 344.547\n",
        "\t[Smoother] --> 1475.51\n",
        "\t[Obs] --> 127.599"
       ]
      },
      {
       "output_type": "stream",
       "stream": "stdout",
       "text": [
        "\n",
        "\t\t[Total] -->\n",
        "\t[Prior] --> 344.547\n",
        "\t[Smoother] --> 1475.51\n",
        "\t[Obs] --> 127.599"
       ]
      },
      {
       "output_type": "stream",
       "stream": "stdout",
       "text": [
        "\n",
        "\t\t[Total] -->\n",
        "\t[Prior] --> 344.547\n",
        "\t[Smoother] --> 1475.51\n",
        "\t[Obs] --> 127.599"
       ]
      },
      {
       "output_type": "stream",
       "stream": "stdout",
       "text": [
        "\n",
        "\t\t[Total] -->\n",
        "\t[Prior] --> 344.547\n",
        "\t[Smoother] --> 1475.51\n",
        "\t[Obs] --> 127.599"
       ]
      },
      {
       "output_type": "stream",
       "stream": "stdout",
       "text": [
        "\n",
        "\t\t[Total] -->\n",
        "\t[Prior] --> 344.547\n",
        "\t[Smoother] --> 1475.51\n",
        "\t[Obs] --> 127.599"
       ]
      },
      {
       "output_type": "stream",
       "stream": "stdout",
       "text": [
        "\n",
        "\t\t[Total] -->\n",
        "\t[Prior] --> 344.547\n",
        "\t[Smoother] --> 1475.51\n",
        "\t[Obs] --> 127.599"
       ]
      },
      {
       "output_type": "stream",
       "stream": "stdout",
       "text": [
        "\n",
        "\t\t[Total] -->\n",
        "\t[Prior] --> 344.547\n",
        "\t[Smoother] --> 1475.51\n",
        "\t[Obs] --> 127.599"
       ]
      },
      {
       "output_type": "stream",
       "stream": "stdout",
       "text": [
        "\n",
        "\t\t[Total] -->\n",
        "\t[Prior] --> 344.547\n",
        "\t[Smoother] --> 1475.51\n",
        "\t[Obs] --> 127.599"
       ]
      },
      {
       "output_type": "stream",
       "stream": "stdout",
       "text": [
        "\n",
        "\t\t[Total] -->\n",
        "\t[Prior] --> 344.547\n",
        "\t[Smoother] --> 1475.51\n",
        "\t[Obs] --> 127.599"
       ]
      },
      {
       "output_type": "stream",
       "stream": "stdout",
       "text": [
        "\n",
        "\t\t[Total] -->\n",
        "\t[Prior] --> 344.547\n",
        "\t[Smoother] --> 1475.51\n",
        "\t[Obs] --> 127.599"
       ]
      },
      {
       "output_type": "stream",
       "stream": "stdout",
       "text": [
        "\n",
        "\t\t[Total] -->\n",
        "\t[Prior] --> 344.409\n",
        "\t[Smoother] --> 1476.61\n",
        "\t[Obs] --> 127.606"
       ]
      },
      {
       "output_type": "stream",
       "stream": "stdout",
       "text": [
        "\n",
        "\t\t[Total] -->\n",
        "\t[Prior] --> 344.539\n",
        "\t[Smoother] --> 1475.52\n",
        "\t[Obs] --> 127.6"
       ]
      },
      {
       "output_type": "stream",
       "stream": "stdout",
       "text": [
        "\n",
        "\t\t[Total] -->\n",
        "\t[Prior] --> 344.546\n",
        "\t[Smoother] --> 1475.51\n",
        "\t[Obs] --> 127.599"
       ]
      },
      {
       "output_type": "stream",
       "stream": "stdout",
       "text": [
        "\n",
        "\t\t[Total] -->\n",
        "\t[Prior] --> 344.541\n",
        "\t[Smoother] --> 1475.52\n",
        "\t[Obs] --> 127.6"
       ]
      },
      {
       "output_type": "stream",
       "stream": "stdout",
       "text": [
        "\n",
        "\t\t[Total] -->\n",
        "\t[Prior] --> 344.545\n",
        "\t[Smoother] --> 1475.51\n",
        "\t[Obs] --> 127.6"
       ]
      },
      {
       "output_type": "stream",
       "stream": "stdout",
       "text": [
        "\n",
        "\t\t[Total] -->\n",
        "\t[Prior] --> 344.543\n",
        "\t[Smoother] --> 1475.51\n",
        "\t[Obs] --> 127.6"
       ]
      },
      {
       "output_type": "stream",
       "stream": "stdout",
       "text": [
        "\n",
        "\t\t[Total] -->\n",
        "\t[Prior] --> 344.544\n",
        "\t[Smoother] --> 1475.51\n",
        "\t[Obs] --> 127.6"
       ]
      },
      {
       "output_type": "stream",
       "stream": "stdout",
       "text": [
        "\n",
        "\t\t[Total] -->\n",
        "\t[Prior] --> 344.545\n",
        "\t[Smoother] --> 1475.51\n",
        "\t[Obs] --> 127.6"
       ]
      },
      {
       "output_type": "stream",
       "stream": "stdout",
       "text": [
        "\n",
        "\t\t[Total] -->\n",
        "\t[Prior] --> 344.544\n",
        "\t[Smoother] --> 1475.51\n",
        "\t[Obs] --> 127.6"
       ]
      },
      {
       "output_type": "stream",
       "stream": "stdout",
       "text": [
        "\n",
        "\t\t[Total] -->\n",
        "\t[Prior] --> 344.545\n",
        "\t[Smoother] --> 1475.51\n",
        "\t[Obs] --> 127.6"
       ]
      },
      {
       "output_type": "stream",
       "stream": "stdout",
       "text": [
        "\n",
        "\t\t[Total] -->\n",
        "\t[Prior] --> 344.892\n",
        "\t[Smoother] --> 3314.24\n",
        "\t[Obs] --> 143.951"
       ]
      },
      {
       "output_type": "stream",
       "stream": "stdout",
       "text": [
        "\n",
        "\t\t[Total] -->\n",
        "\t[Prior] --> 344.545\n",
        "\t[Smoother] --> 1475.66\n",
        "\t[Obs] --> 127.601"
       ]
      },
      {
       "output_type": "stream",
       "stream": "stdout",
       "text": [
        "\n",
        "\t\t[Total] -->\n",
        "\t[Prior] --> 344.545\n",
        "\t[Smoother] --> 1475.52\n",
        "\t[Obs] --> 127.6"
       ]
      },
      {
       "output_type": "stream",
       "stream": "stdout",
       "text": [
        "\n",
        "\t\t[Total] -->\n",
        "\t[Prior] --> 344.545\n",
        "\t[Smoother] --> 1475.51\n",
        "\t[Obs] --> 127.6"
       ]
      },
      {
       "output_type": "stream",
       "stream": "stdout",
       "text": [
        "\n",
        "\t\t[Total] -->\n",
        "\t[Prior] --> 344.545\n",
        "\t[Smoother] --> 1475.51\n",
        "\t[Obs] --> 127.6"
       ]
      },
      {
       "output_type": "stream",
       "stream": "stdout",
       "text": [
        "\n",
        "\t\t[Total] -->\n",
        "\t[Prior] --> 344.545\n",
        "\t[Smoother] --> 1475.51\n",
        "\t[Obs] --> 127.6"
       ]
      },
      {
       "output_type": "stream",
       "stream": "stdout",
       "text": [
        "\n",
        "\t\t[Total] -->\n",
        "\t[Prior] --> 344.545\n",
        "\t[Smoother] --> 1475.51\n",
        "\t[Obs] --> 127.6"
       ]
      },
      {
       "output_type": "stream",
       "stream": "stdout",
       "text": [
        "\n",
        "\t\t[Total] -->\n",
        "\t[Prior] --> 344.545\n",
        "\t[Smoother] --> 1475.51\n",
        "\t[Obs] --> 127.6"
       ]
      },
      {
       "output_type": "stream",
       "stream": "stdout",
       "text": [
        "\n",
        "\t\t[Total] -->\n",
        "\t[Prior] --> 344.545\n",
        "\t[Smoother] --> 1475.51\n",
        "\t[Obs] --> 127.6"
       ]
      },
      {
       "output_type": "stream",
       "stream": "stdout",
       "text": [
        "\n",
        "\t\t[Total] -->\n",
        "\t[Prior] --> 344.545\n",
        "\t[Smoother] --> 1475.51\n",
        "\t[Obs] --> 127.6"
       ]
      },
      {
       "output_type": "stream",
       "stream": "stdout",
       "text": [
        "\n",
        "\t\t[Total] -->\n",
        "\t[Prior] --> 344.37\n",
        "\t[Smoother] --> 1478.27\n",
        "\t[Obs] --> 127.617"
       ]
      },
      {
       "output_type": "stream",
       "stream": "stdout",
       "text": [
        "\n",
        "\t\t[Total] -->\n",
        "\t[Prior] --> 344.538\n",
        "\t[Smoother] --> 1475.55\n",
        "\t[Obs] --> 127.6"
       ]
      },
      {
       "output_type": "stream",
       "stream": "stdout",
       "text": [
        "\n",
        "\t\t[Total] -->\n",
        "\t[Prior] --> 344.544\n",
        "\t[Smoother] --> 1475.52\n",
        "\t[Obs] --> 127.6"
       ]
      },
      {
       "output_type": "stream",
       "stream": "stdout",
       "text": [
        "\n",
        "\t\t[Total] -->\n",
        "\t[Prior] --> 344.545\n",
        "\t[Smoother] --> 1475.51\n",
        "\t[Obs] --> 127.6"
       ]
      },
      {
       "output_type": "stream",
       "stream": "stdout",
       "text": [
        "\n",
        "\t\t[Total] -->\n",
        "\t[Prior] --> 344.545\n",
        "\t[Smoother] --> 1475.51\n",
        "\t[Obs] --> 127.6"
       ]
      },
      {
       "output_type": "stream",
       "stream": "stdout",
       "text": [
        "\n",
        "\t\t[Total] -->\n",
        "\t[Prior] --> 344.545\n",
        "\t[Smoother] --> 1475.51\n",
        "\t[Obs] --> 127.6"
       ]
      },
      {
       "output_type": "stream",
       "stream": "stdout",
       "text": [
        "\n",
        "\t\t[Total] -->\n",
        "\t[Prior] --> 344.545\n",
        "\t[Smoother] --> 1475.51\n",
        "\t[Obs] --> 127.6"
       ]
      },
      {
       "output_type": "stream",
       "stream": "stdout",
       "text": [
        "\n",
        "\t\t[Total] -->\n",
        "\t[Prior] --> 344.545\n",
        "\t[Smoother] --> 1475.51\n",
        "\t[Obs] --> 127.6"
       ]
      },
      {
       "output_type": "stream",
       "stream": "stdout",
       "text": [
        "\n",
        "\t\t[Total] -->\n",
        "\t[Prior] --> 344.545\n",
        "\t[Smoother] --> 1475.51\n",
        "\t[Obs] --> 127.6"
       ]
      },
      {
       "output_type": "stream",
       "stream": "stdout",
       "text": [
        "\n",
        "\t\t[Total] -->\n",
        "\t[Prior] --> 344.545\n",
        "\t[Smoother] --> 1475.51\n",
        "\t[Obs] --> 127.6"
       ]
      },
      {
       "output_type": "stream",
       "stream": "stdout",
       "text": [
        "\n",
        "\t\t[Total] -->\n",
        "\t[Prior] --> 344.545\n",
        "\t[Smoother] --> 1475.51\n",
        "\t[Obs] --> 127.6"
       ]
      },
      {
       "output_type": "stream",
       "stream": "stdout",
       "text": [
        "\n",
        "\t\t[Total] -->\n",
        "\t[Prior] --> 344.545\n",
        "\t[Smoother] --> 1475.51\n",
        "\t[Obs] --> 127.6"
       ]
      },
      {
       "output_type": "stream",
       "stream": "stdout",
       "text": [
        "\n",
        "\t\t[Total] -->\n",
        "\t[Prior] --> 344.545\n",
        "\t[Smoother] --> 1475.51\n",
        "\t[Obs] --> 127.6"
       ]
      },
      {
       "output_type": "stream",
       "stream": "stdout",
       "text": [
        "\n",
        "\t\t[Total] -->\n",
        "\t[Prior] --> 344.37\n",
        "\t[Smoother] --> 1478.27\n",
        "\t[Obs] --> 127.617"
       ]
      },
      {
       "output_type": "stream",
       "stream": "stdout",
       "text": [
        "\n",
        "\t\t[Total] -->\n",
        "\t[Prior] --> 344.538\n",
        "\t[Smoother] --> 1475.55\n",
        "\t[Obs] --> 127.6"
       ]
      },
      {
       "output_type": "stream",
       "stream": "stdout",
       "text": [
        "\n",
        "\t\t[Total] -->\n",
        "\t[Prior] --> 344.544\n",
        "\t[Smoother] --> 1475.52\n",
        "\t[Obs] --> 127.6"
       ]
      },
      {
       "output_type": "stream",
       "stream": "stdout",
       "text": [
        "\n",
        "\t\t[Total] -->\n",
        "\t[Prior] --> 344.545\n",
        "\t[Smoother] --> 1475.51\n",
        "\t[Obs] --> 127.6"
       ]
      },
      {
       "output_type": "stream",
       "stream": "stdout",
       "text": [
        "\n",
        "\t\t[Total] -->\n",
        "\t[Prior] --> 344.545\n",
        "\t[Smoother] --> 1475.51\n",
        "\t[Obs] --> 127.6"
       ]
      },
      {
       "output_type": "stream",
       "stream": "stdout",
       "text": [
        "\n",
        "\t\t[Total] -->\n",
        "\t[Prior] --> 344.545\n",
        "\t[Smoother] --> 1475.51\n",
        "\t[Obs] --> 127.6"
       ]
      },
      {
       "output_type": "stream",
       "stream": "stdout",
       "text": [
        "\n",
        "\t\t[Total] -->\n",
        "\t[Prior] --> 344.545\n",
        "\t[Smoother] --> 1475.51\n",
        "\t[Obs] --> 127.6"
       ]
      },
      {
       "output_type": "stream",
       "stream": "stdout",
       "text": [
        "\n",
        "\t\t[Total] -->\n",
        "\t[Prior] --> 344.545\n",
        "\t[Smoother] --> 1475.51\n",
        "\t[Obs] --> 127.6"
       ]
      },
      {
       "output_type": "stream",
       "stream": "stdout",
       "text": [
        "\n",
        "\t\t[Total] -->\n",
        "\t[Prior] --> 344.545\n",
        "\t[Smoother] --> 1475.51\n",
        "\t[Obs] --> 127.6"
       ]
      },
      {
       "output_type": "stream",
       "stream": "stdout",
       "text": [
        "\n",
        "\t\t[Total] -->\n",
        "\t[Prior] --> 344.545\n",
        "\t[Smoother] --> 1475.51\n",
        "\t[Obs] --> 127.6"
       ]
      },
      {
       "output_type": "stream",
       "stream": "stdout",
       "text": [
        "\n",
        "\t\t[Total] -->\n",
        "\t[Prior] --> 344.545\n",
        "\t[Smoother] --> 1475.51\n",
        "\t[Obs] --> 127.6"
       ]
      },
      {
       "output_type": "stream",
       "stream": "stdout",
       "text": [
        "\n",
        "\t\t[Total] -->\n",
        "\t[Prior] --> 344.545\n",
        "\t[Smoother] --> 1475.51\n",
        "\t[Obs] --> 127.6"
       ]
      },
      {
       "output_type": "stream",
       "stream": "stdout",
       "text": [
        "\n",
        "\t\t[Total] -->\n",
        "\t[Prior] --> 344.545\n",
        "\t[Smoother] --> 1475.51\n",
        "\t[Obs] --> 127.6"
       ]
      },
      {
       "output_type": "stream",
       "stream": "stdout",
       "text": [
        "\n",
        "\t\t[Total] -->\n",
        "\t[Prior] --> 344.545\n",
        "\t[Smoother] --> 1475.51\n",
        "\t[Obs] --> 127.6"
       ]
      },
      {
       "output_type": "stream",
       "stream": "stdout",
       "text": [
        "\n",
        "\t\t[Total] -->\n",
        "\t[Prior] --> 344.545\n",
        "\t[Smoother] --> 1475.51\n",
        "\t[Obs] --> 127.6"
       ]
      },
      {
       "output_type": "stream",
       "stream": "stdout",
       "text": [
        "\n",
        "\t\t[Total] -->\n",
        "\t[Prior] --> 344.545\n",
        "\t[Smoother] --> 1475.51\n",
        "\t[Obs] --> 127.6"
       ]
      },
      {
       "output_type": "stream",
       "stream": "stdout",
       "text": [
        "\n",
        "\t\t[Total] -->\n",
        "\t[Prior] --> 344.545\n",
        "\t[Smoother] --> 1475.51\n",
        "\t[Obs] --> 127.6"
       ]
      },
      {
       "output_type": "stream",
       "stream": "stdout",
       "text": [
        "\n",
        "\t\t[Total] -->\n",
        "\t[Prior] --> 344.545\n",
        "\t[Smoother] --> 1475.51\n",
        "\t[Obs] --> 127.6"
       ]
      },
      {
       "output_type": "stream",
       "stream": "stdout",
       "text": [
        "\n",
        "\t\t[Total] -->\n",
        "\t[Prior] --> 344.545\n",
        "\t[Smoother] --> 1475.51\n",
        "\t[Obs] --> 127.6"
       ]
      },
      {
       "output_type": "stream",
       "stream": "stdout",
       "text": [
        "\n",
        "\t\t[Total] -->\n",
        "\t[Prior] --> 344.545\n",
        "\t[Smoother] --> 1475.51\n",
        "\t[Obs] --> 127.6"
       ]
      },
      {
       "output_type": "stream",
       "stream": "stdout",
       "text": [
        "\n",
        "\t\t[Total] -->\n",
        "\t[Prior] --> 3122.5\n",
        "\t[Smoother] --> 2.69667e+07\n",
        "\t[Obs] --> 47744.5"
       ]
      },
      {
       "output_type": "stream",
       "stream": "stdout",
       "text": [
        "\n",
        "\t\t[Total] -->\n",
        "\t[Prior] --> 344.54\n",
        "\t[Smoother] --> 1475.43\n",
        "\t[Obs] --> 127.599"
       ]
      },
      {
       "output_type": "stream",
       "stream": "stdout",
       "text": [
        "\n",
        "\t\t[Total] -->\n",
        "\t[Prior] --> 436.715\n",
        "\t[Smoother] --> 2.53614e+06\n",
        "\t[Obs] --> 12416.7"
       ]
      },
      {
       "output_type": "stream",
       "stream": "stdout",
       "text": [
        "\n",
        "\t\t[Total] -->\n",
        "\t[Prior] --> 344.527\n",
        "\t[Smoother] --> 1475.22\n",
        "\t[Obs] --> 127.599"
       ]
      },
      {
       "output_type": "stream",
       "stream": "stdout",
       "text": [
        "\n",
        "\t\t[Total] -->\n",
        "\t[Prior] --> 344.403\n",
        "\t[Smoother] --> 1478.82\n",
        "\t[Obs] --> 127.613"
       ]
      },
      {
       "output_type": "stream",
       "stream": "stdout",
       "text": [
        "\n",
        "\t\t[Total] -->\n",
        "\t[Prior] --> 344.523\n",
        "\t[Smoother] --> 1475.27\n",
        "\t[Obs] --> 127.6"
       ]
      },
      {
       "output_type": "stream",
       "stream": "stdout",
       "text": [
        "\n",
        "\t\t[Total] -->\n",
        "\t[Prior] --> 344.526\n",
        "\t[Smoother] --> 1475.22\n",
        "\t[Obs] --> 127.599"
       ]
      },
      {
       "output_type": "stream",
       "stream": "stdout",
       "text": [
        "\n",
        "\t\t[Total] -->\n",
        "\t[Prior] --> 344.526\n",
        "\t[Smoother] --> 1475.22\n",
        "\t[Obs] --> 127.599"
       ]
      },
      {
       "output_type": "stream",
       "stream": "stdout",
       "text": [
        "\n",
        "\t\t[Total] -->\n",
        "\t[Prior] --> 344.526\n",
        "\t[Smoother] --> 1475.22\n",
        "\t[Obs] --> 127.599"
       ]
      },
      {
       "output_type": "stream",
       "stream": "stdout",
       "text": [
        "\n",
        "\t\t[Total] -->\n",
        "\t[Prior] --> 344.527\n",
        "\t[Smoother] --> 1475.22\n",
        "\t[Obs] --> 127.599"
       ]
      },
      {
       "output_type": "stream",
       "stream": "stdout",
       "text": [
        "\n",
        "\t\t[Total] -->\n",
        "\t[Prior] --> 344.527\n",
        "\t[Smoother] --> 1475.22\n",
        "\t[Obs] --> 127.599"
       ]
      },
      {
       "output_type": "stream",
       "stream": "stdout",
       "text": [
        "\n",
        "\t\t[Total] -->\n",
        "\t[Prior] --> 344.527\n",
        "\t[Smoother] --> 1475.22\n",
        "\t[Obs] --> 127.599"
       ]
      },
      {
       "output_type": "stream",
       "stream": "stdout",
       "text": [
        "\n",
        "\t\t[Total] -->\n",
        "\t[Prior] --> 344.527\n",
        "\t[Smoother] --> 1475.22\n",
        "\t[Obs] --> 127.599"
       ]
      },
      {
       "output_type": "stream",
       "stream": "stdout",
       "text": [
        "\n",
        "\t\t[Total] -->\n",
        "\t[Prior] --> 344.527\n",
        "\t[Smoother] --> 1475.22\n",
        "\t[Obs] --> 127.599"
       ]
      },
      {
       "output_type": "stream",
       "stream": "stdout",
       "text": [
        "\n",
        "\t\t[Total] -->\n",
        "\t[Prior] --> 344.527\n",
        "\t[Smoother] --> 1475.22\n",
        "\t[Obs] --> 127.599"
       ]
      },
      {
       "output_type": "stream",
       "stream": "stdout",
       "text": [
        "\n",
        "\t\t[Total] -->\n",
        "\t[Prior] --> 344.527\n",
        "\t[Smoother] --> 1475.22\n",
        "\t[Obs] --> 127.599"
       ]
      },
      {
       "output_type": "stream",
       "stream": "stdout",
       "text": [
        "\n",
        "\t\t[Total] -->\n",
        "\t[Prior] --> 344.527\n",
        "\t[Smoother] --> 1475.22\n",
        "\t[Obs] --> 127.599"
       ]
      },
      {
       "output_type": "stream",
       "stream": "stdout",
       "text": [
        "\n",
        "\t\t[Total] -->\n",
        "\t[Prior] --> 344.527\n",
        "\t[Smoother] --> 1475.22\n",
        "\t[Obs] --> 127.599"
       ]
      },
      {
       "output_type": "stream",
       "stream": "stdout",
       "text": [
        "\n",
        "\t\t[Total] -->\n",
        "\t[Prior] --> 344.527\n",
        "\t[Smoother] --> 1475.22\n",
        "\t[Obs] --> 127.599"
       ]
      },
      {
       "output_type": "stream",
       "stream": "stdout",
       "text": [
        "\n",
        "\t\t[Total] -->\n",
        "\t[Prior] --> 344.527\n",
        "\t[Smoother] --> 1475.22\n",
        "\t[Obs] --> 127.599"
       ]
      },
      {
       "output_type": "stream",
       "stream": "stdout",
       "text": [
        "\n",
        "\t\t[Total] -->\n",
        "\t[Prior] --> 344.527\n",
        "\t[Smoother] --> 1475.22\n",
        "\t[Obs] --> 127.599"
       ]
      },
      {
       "output_type": "stream",
       "stream": "stdout",
       "text": [
        "\n",
        "\t\t[Total] -->\n",
        "\t[Prior] --> 344.527\n",
        "\t[Smoother] --> 1475.22\n",
        "\t[Obs] --> 127.599"
       ]
      },
      {
       "output_type": "stream",
       "stream": "stdout",
       "text": [
        "\n",
        "\t\t[Total] -->\n",
        "\t[Prior] --> 344.527\n",
        "\t[Smoother] --> 1475.22\n",
        "\t[Obs] --> 127.599"
       ]
      },
      {
       "output_type": "stream",
       "stream": "stdout",
       "text": [
        "\n",
        "\t\t[Total] -->\n",
        "\t[Prior] --> 344.527\n",
        "\t[Smoother] --> 1475.22\n",
        "\t[Obs] --> 127.599"
       ]
      },
      {
       "output_type": "stream",
       "stream": "stdout",
       "text": [
        "\n",
        "\t\t[Total] -->\n",
        "\t[Prior] --> 2986.04\n",
        "\t[Smoother] --> 2.38993e+07\n",
        "\t[Obs] --> 56516.2"
       ]
      },
      {
       "output_type": "stream",
       "stream": "stdout",
       "text": [
        "\n",
        "\t\t[Total] -->\n",
        "\t[Prior] --> 344.521\n",
        "\t[Smoother] --> 1475.18\n",
        "\t[Obs] --> 127.6"
       ]
      },
      {
       "output_type": "stream",
       "stream": "stdout",
       "text": [
        "\n",
        "\t\t[Total] -->\n",
        "\t[Prior] --> 430.717\n",
        "\t[Smoother] --> 2.28082e+06\n",
        "\t[Obs] --> 14663.5"
       ]
      },
      {
       "output_type": "stream",
       "stream": "stdout",
       "text": [
        "\n",
        "\t\t[Total] -->\n",
        "\t[Prior] --> 344.506\n",
        "\t[Smoother] --> 1475.11\n",
        "\t[Obs] --> 127.602"
       ]
      },
      {
       "output_type": "stream",
       "stream": "stdout",
       "text": [
        "\n",
        "\t\t[Total] -->\n",
        "\t[Prior] --> 344.386\n",
        "\t[Smoother] --> 1477.72\n",
        "\t[Obs] --> 127.606"
       ]
      },
      {
       "output_type": "stream",
       "stream": "stdout",
       "text": [
        "\n",
        "\t\t[Total] -->\n",
        "\t[Prior] --> 344.503\n",
        "\t[Smoother] --> 1475.16\n",
        "\t[Obs] --> 127.602"
       ]
      },
      {
       "output_type": "stream",
       "stream": "stdout",
       "text": [
        "\n",
        "\t\t[Total] -->\n",
        "\t[Prior] --> 344.506\n",
        "\t[Smoother] --> 1475.11\n",
        "\t[Obs] --> 127.602"
       ]
      },
      {
       "output_type": "stream",
       "stream": "stdout",
       "text": [
        "\n",
        "\t\t[Total] -->\n",
        "\t[Prior] --> 344.506\n",
        "\t[Smoother] --> 1475.11\n",
        "\t[Obs] --> 127.602"
       ]
      },
      {
       "output_type": "stream",
       "stream": "stdout",
       "text": [
        "\n",
        "\t\t[Total] -->\n",
        "\t[Prior] --> 344.506\n",
        "\t[Smoother] --> 1475.11\n",
        "\t[Obs] --> 127.602"
       ]
      },
      {
       "output_type": "stream",
       "stream": "stdout",
       "text": [
        "\n",
        "\t\t[Total] -->\n",
        "\t[Prior] --> 344.506\n",
        "\t[Smoother] --> 1475.11\n",
        "\t[Obs] --> 127.602"
       ]
      },
      {
       "output_type": "stream",
       "stream": "stdout",
       "text": [
        "\n",
        "\t\t[Total] -->\n",
        "\t[Prior] --> 344.506\n",
        "\t[Smoother] --> 1475.11\n",
        "\t[Obs] --> 127.602"
       ]
      },
      {
       "output_type": "stream",
       "stream": "stdout",
       "text": [
        "\n",
        "\t\t[Total] -->\n",
        "\t[Prior] --> 344.506\n",
        "\t[Smoother] --> 1475.11\n",
        "\t[Obs] --> 127.602"
       ]
      },
      {
       "output_type": "stream",
       "stream": "stdout",
       "text": [
        "\n",
        "\t\t[Total] -->\n",
        "\t[Prior] --> 344.506\n",
        "\t[Smoother] --> 1475.11\n",
        "\t[Obs] --> 127.602"
       ]
      },
      {
       "output_type": "stream",
       "stream": "stdout",
       "text": [
        "\n",
        "\t\t[Total] -->\n",
        "\t[Prior] --> 344.506\n",
        "\t[Smoother] --> 1475.11\n",
        "\t[Obs] --> 127.602"
       ]
      },
      {
       "output_type": "stream",
       "stream": "stdout",
       "text": [
        "\n",
        "\t\t[Total] -->\n",
        "\t[Prior] --> 344.506\n",
        "\t[Smoother] --> 1475.11\n",
        "\t[Obs] --> 127.602"
       ]
      },
      {
       "output_type": "stream",
       "stream": "stdout",
       "text": [
        "\n",
        "\t\t[Total] -->\n",
        "\t[Prior] --> 344.506\n",
        "\t[Smoother] --> 1475.11\n",
        "\t[Obs] --> 127.602"
       ]
      },
      {
       "output_type": "stream",
       "stream": "stdout",
       "text": [
        "\n",
        "\t\t[Total] -->\n",
        "\t[Prior] --> 344.506\n",
        "\t[Smoother] --> 1475.11\n",
        "\t[Obs] --> 127.602"
       ]
      },
      {
       "output_type": "stream",
       "stream": "stdout",
       "text": [
        "\n",
        "\t\t[Total] -->\n",
        "\t[Prior] --> 344.506\n",
        "\t[Smoother] --> 1475.11\n",
        "\t[Obs] --> 127.602"
       ]
      },
      {
       "output_type": "stream",
       "stream": "stdout",
       "text": [
        "\n",
        "\t\t[Total] -->\n",
        "\t[Prior] --> 344.48\n",
        "\t[Smoother] --> 1474.91\n",
        "\t[Obs] --> 127.606"
       ]
      },
      {
       "output_type": "stream",
       "stream": "stdout",
       "text": [
        "\n",
        "\t\t[Total] -->\n",
        "\t[Prior] --> 344.154\n",
        "\t[Smoother] --> 1481.79\n",
        "\t[Obs] --> 127.599"
       ]
      },
      {
       "output_type": "stream",
       "stream": "stdout",
       "text": [
        "\n",
        "\t\t[Total] -->\n",
        "\t[Prior] --> 344.47\n",
        "\t[Smoother] --> 1474.96\n",
        "\t[Obs] --> 127.605"
       ]
      },
      {
       "output_type": "stream",
       "stream": "stdout",
       "text": [
        "\n",
        "\t\t[Total] -->\n",
        "\t[Prior] --> 344.479\n",
        "\t[Smoother] --> 1474.92\n",
        "\t[Obs] --> 127.606"
       ]
      },
      {
       "output_type": "stream",
       "stream": "stdout",
       "text": [
        "\n",
        "\t\t[Total] -->\n",
        "\t[Prior] --> 344.48\n",
        "\t[Smoother] --> 1474.91\n",
        "\t[Obs] --> 127.606"
       ]
      },
      {
       "output_type": "stream",
       "stream": "stdout",
       "text": [
        "\n",
        "\t\t[Total] -->\n",
        "\t[Prior] --> 344.48\n",
        "\t[Smoother] --> 1474.91\n",
        "\t[Obs] --> 127.606"
       ]
      },
      {
       "output_type": "stream",
       "stream": "stdout",
       "text": [
        "\n",
        "\t\t[Total] -->\n",
        "\t[Prior] --> 344.48\n",
        "\t[Smoother] --> 1474.91\n",
        "\t[Obs] --> 127.606"
       ]
      },
      {
       "output_type": "stream",
       "stream": "stdout",
       "text": [
        "\n",
        "\t\t[Total] -->\n",
        "\t[Prior] --> 344.48\n",
        "\t[Smoother] --> 1474.91\n",
        "\t[Obs] --> 127.606"
       ]
      },
      {
       "output_type": "stream",
       "stream": "stdout",
       "text": [
        "\n",
        "\t\t[Total] -->\n",
        "\t[Prior] --> 344.48\n",
        "\t[Smoother] --> 1474.91\n",
        "\t[Obs] --> 127.606"
       ]
      },
      {
       "output_type": "stream",
       "stream": "stdout",
       "text": [
        "\n",
        "\t\t[Total] -->\n",
        "\t[Prior] --> 344.48\n",
        "\t[Smoother] --> 1474.91\n",
        "\t[Obs] --> 127.606"
       ]
      },
      {
       "output_type": "stream",
       "stream": "stdout",
       "text": [
        "\n",
        "\t\t[Total] -->\n",
        "\t[Prior] --> 344.48\n",
        "\t[Smoother] --> 1474.91\n",
        "\t[Obs] --> 127.606"
       ]
      },
      {
       "output_type": "stream",
       "stream": "stdout",
       "text": [
        "\n",
        "\t\t[Total] -->\n",
        "\t[Prior] --> 344.48\n",
        "\t[Smoother] --> 1474.91\n",
        "\t[Obs] --> 127.606"
       ]
      },
      {
       "output_type": "stream",
       "stream": "stdout",
       "text": [
        "\n",
        "\t\t[Total] -->\n",
        "\t[Prior] --> 344.48\n",
        "\t[Smoother] --> 1474.91\n",
        "\t[Obs] --> 127.606"
       ]
      },
      {
       "output_type": "stream",
       "stream": "stdout",
       "text": [
        "\n",
        "\t\t[Total] -->\n",
        "\t[Prior] --> 344.48\n",
        "\t[Smoother] --> 1474.91\n",
        "\t[Obs] --> 127.606"
       ]
      },
      {
       "output_type": "stream",
       "stream": "stdout",
       "text": [
        "\n",
        "\t\t[Total] -->\n",
        "\t[Prior] --> 344.355\n",
        "\t[Smoother] --> 1475.58\n",
        "\t[Obs] --> 127.609"
       ]
      },
      {
       "output_type": "stream",
       "stream": "stdout",
       "text": [
        "\n",
        "\t\t[Total] -->\n",
        "\t[Prior] --> 344.471\n",
        "\t[Smoother] --> 1474.92\n",
        "\t[Obs] --> 127.606"
       ]
      },
      {
       "output_type": "stream",
       "stream": "stdout",
       "text": [
        "\n",
        "\t\t[Total] -->\n",
        "\t[Prior] --> 344.395\n",
        "\t[Smoother] --> 1475.23\n",
        "\t[Obs] --> 127.608"
       ]
      },
      {
       "output_type": "stream",
       "stream": "stdout",
       "text": [
        "\n",
        "\t\t[Total] -->\n",
        "\t[Prior] --> 344.465\n",
        "\t[Smoother] --> 1474.93\n",
        "\t[Obs] --> 127.606"
       ]
      },
      {
       "output_type": "stream",
       "stream": "stdout",
       "text": [
        "\n",
        "\t\t[Total] -->\n",
        "\t[Prior] --> 344.47\n",
        "\t[Smoother] --> 1474.92\n",
        "\t[Obs] --> 127.606"
       ]
      },
      {
       "output_type": "stream",
       "stream": "stdout",
       "text": [
        "\n",
        "\t\t[Total] -->\n",
        "\t[Prior] --> 344.471\n",
        "\t[Smoother] --> 1474.92\n",
        "\t[Obs] --> 127.606"
       ]
      },
      {
       "output_type": "stream",
       "stream": "stdout",
       "text": [
        "\n",
        "\t\t[Total] -->\n",
        "\t[Prior] --> 344.471\n",
        "\t[Smoother] --> 1474.92\n",
        "\t[Obs] --> 127.606"
       ]
      },
      {
       "output_type": "stream",
       "stream": "stdout",
       "text": [
        "\n",
        "\t\t[Total] -->\n",
        "\t[Prior] --> 344.734\n",
        "\t[Smoother] --> 2199.34\n",
        "\t[Obs] --> 134.6"
       ]
      },
      {
       "output_type": "stream",
       "stream": "stdout",
       "text": [
        "\n",
        "\t\t[Total] -->\n",
        "\t[Prior] --> 344.472\n",
        "\t[Smoother] --> 1475.03\n",
        "\t[Obs] --> 127.604"
       ]
      },
      {
       "output_type": "stream",
       "stream": "stdout",
       "text": [
        "\n",
        "\t\t[Total] -->\n",
        "\t[Prior] --> 344.471\n",
        "\t[Smoother] --> 1474.92\n",
        "\t[Obs] --> 127.606"
       ]
      },
      {
       "output_type": "stream",
       "stream": "stdout",
       "text": [
        "\n",
        "\t\t[Total] -->\n",
        "\t[Prior] --> 344.471\n",
        "\t[Smoother] --> 1474.92\n",
        "\t[Obs] --> 127.606"
       ]
      },
      {
       "output_type": "stream",
       "stream": "stdout",
       "text": [
        "\n",
        "\t\t[Total] -->\n",
        "\t[Prior] --> 344.471\n",
        "\t[Smoother] --> 1474.92\n",
        "\t[Obs] --> 127.606"
       ]
      },
      {
       "output_type": "stream",
       "stream": "stdout",
       "text": [
        "\n",
        "\t\t[Total] -->\n",
        "\t[Prior] --> 344.471\n",
        "\t[Smoother] --> 1474.92\n",
        "\t[Obs] --> 127.606"
       ]
      },
      {
       "output_type": "stream",
       "stream": "stdout",
       "text": [
        "\n",
        "\t\t[Total] -->\n",
        "\t[Prior] --> 344.471\n",
        "\t[Smoother] --> 1474.92\n",
        "\t[Obs] --> 127.606"
       ]
      },
      {
       "output_type": "stream",
       "stream": "stdout",
       "text": [
        "\n",
        "\t\t[Total] -->\n",
        "\t[Prior] --> 344.471\n",
        "\t[Smoother] --> 1474.92\n",
        "\t[Obs] --> 127.606"
       ]
      },
      {
       "output_type": "stream",
       "stream": "stdout",
       "text": [
        "\n",
        "\t\t[Total] -->\n",
        "\t[Prior] --> 344.471\n",
        "\t[Smoother] --> 1474.92\n",
        "\t[Obs] --> 127.606"
       ]
      },
      {
       "output_type": "stream",
       "stream": "stdout",
       "text": [
        "\n",
        "\t\t[Total] -->\n",
        "\t[Prior] --> 344.471\n",
        "\t[Smoother] --> 1474.92\n",
        "\t[Obs] --> 127.606"
       ]
      },
      {
       "output_type": "stream",
       "stream": "stdout",
       "text": [
        "\n",
        "\t\t[Total] -->\n",
        "\t[Prior] --> 344.471\n",
        "\t[Smoother] --> 1474.92\n",
        "\t[Obs] --> 127.606"
       ]
      },
      {
       "output_type": "stream",
       "stream": "stdout",
       "text": [
        "\n",
        "\t\t[Total] -->\n",
        "\t[Prior] --> 344.471\n",
        "\t[Smoother] --> 1474.92\n",
        "\t[Obs] --> 127.606"
       ]
      },
      {
       "output_type": "stream",
       "stream": "stdout",
       "text": [
        "\n",
        "\t\t[Total] -->\n",
        "\t[Prior] --> 344.483\n",
        "\t[Smoother] --> 1479.31\n",
        "\t[Obs] --> 127.596"
       ]
      },
      {
       "output_type": "stream",
       "stream": "stdout",
       "text": [
        "\n",
        "\t\t[Total] -->\n",
        "\t[Prior] --> 344.472\n",
        "\t[Smoother] --> 1474.97\n",
        "\t[Obs] --> 127.605"
       ]
      },
      {
       "output_type": "stream",
       "stream": "stdout",
       "text": [
        "\n",
        "\t\t[Total] -->\n",
        "\t[Prior] --> 344.471\n",
        "\t[Smoother] --> 1474.92\n",
        "\t[Obs] --> 127.606"
       ]
      },
      {
       "output_type": "stream",
       "stream": "stdout",
       "text": [
        "\n",
        "\t\t[Total] -->\n",
        "\t[Prior] --> 344.471\n",
        "\t[Smoother] --> 1474.92\n",
        "\t[Obs] --> 127.606"
       ]
      },
      {
       "output_type": "stream",
       "stream": "stdout",
       "text": [
        "\n",
        "\t\t[Total] -->\n",
        "\t[Prior] --> 344.471\n",
        "\t[Smoother] --> 1474.92\n",
        "\t[Obs] --> 127.606"
       ]
      },
      {
       "output_type": "stream",
       "stream": "stdout",
       "text": [
        "\n",
        "\t\t[Total] -->\n",
        "\t[Prior] --> 344.471\n",
        "\t[Smoother] --> 1474.92\n",
        "\t[Obs] --> 127.606"
       ]
      },
      {
       "output_type": "stream",
       "stream": "stdout",
       "text": [
        "\n",
        "\t\t[Total] -->\n",
        "\t[Prior] --> 344.471\n",
        "\t[Smoother] --> 1474.92\n",
        "\t[Obs] --> 127.606"
       ]
      },
      {
       "output_type": "stream",
       "stream": "stdout",
       "text": [
        "\n",
        "\t\t[Total] -->\n",
        "\t[Prior] --> 344.471\n",
        "\t[Smoother] --> 1474.92\n",
        "\t[Obs] --> 127.606"
       ]
      },
      {
       "output_type": "stream",
       "stream": "stdout",
       "text": [
        "\n",
        "\t\t[Total] -->\n",
        "\t[Prior] --> 344.471\n",
        "\t[Smoother] --> 1474.92\n",
        "\t[Obs] --> 127.606"
       ]
      },
      {
       "output_type": "stream",
       "stream": "stdout",
       "text": [
        "\n",
        "\t\t[Total] -->\n",
        "\t[Prior] --> 344.471\n",
        "\t[Smoother] --> 1474.92\n",
        "\t[Obs] --> 127.606"
       ]
      },
      {
       "output_type": "stream",
       "stream": "stdout",
       "text": [
        "\n",
        "\t\t[Total] -->\n",
        "\t[Prior] --> 344.471\n",
        "\t[Smoother] --> 1474.92\n",
        "\t[Obs] --> 127.606"
       ]
      },
      {
       "output_type": "stream",
       "stream": "stdout",
       "text": [
        "\n",
        "\t\t[Total] -->\n",
        "\t[Prior] --> 344.471\n",
        "\t[Smoother] --> 1474.92\n",
        "\t[Obs] --> 127.606"
       ]
      },
      {
       "output_type": "stream",
       "stream": "stdout",
       "text": [
        "\n",
        "\t\t[Total] -->\n",
        "\t[Prior] --> 344.471\n",
        "\t[Smoother] --> 1474.92\n",
        "\t[Obs] --> 127.606"
       ]
      },
      {
       "output_type": "stream",
       "stream": "stdout",
       "text": [
        "\n",
        "\t\t[Total] -->\n",
        "\t[Prior] --> 344.471\n",
        "\t[Smoother] --> 1474.92\n",
        "\t[Obs] --> 127.606"
       ]
      },
      {
       "output_type": "stream",
       "stream": "stdout",
       "text": [
        "\n",
        "\t\t[Total] -->\n",
        "\t[Prior] --> 344.471\n",
        "\t[Smoother] --> 1474.92\n",
        "\t[Obs] --> 127.606"
       ]
      },
      {
       "output_type": "stream",
       "stream": "stdout",
       "text": [
        "\n",
        "\t\t[Total] -->\n",
        "\t[Prior] --> 344.26\n",
        "\t[Smoother] --> 1477.79\n",
        "\t[Obs] --> 127.606"
       ]
      },
      {
       "output_type": "stream",
       "stream": "stdout",
       "text": [
        "\n",
        "\t\t[Total] -->\n",
        "\t[Prior] --> 344.463\n",
        "\t[Smoother] --> 1474.95\n",
        "\t[Obs] --> 127.606"
       ]
      },
      {
       "output_type": "stream",
       "stream": "stdout",
       "text": [
        "\n",
        "\t\t[Total] -->\n",
        "\t[Prior] --> 344.47\n",
        "\t[Smoother] --> 1474.92\n",
        "\t[Obs] --> 127.606"
       ]
      },
      {
       "output_type": "stream",
       "stream": "stdout",
       "text": [
        "\n",
        "\t\t[Total] -->\n",
        "\t[Prior] --> 344.471\n",
        "\t[Smoother] --> 1474.92\n",
        "\t[Obs] --> 127.606"
       ]
      },
      {
       "output_type": "stream",
       "stream": "stdout",
       "text": [
        "\n",
        "\t\t[Total] -->\n",
        "\t[Prior] --> 344.471\n",
        "\t[Smoother] --> 1474.92\n",
        "\t[Obs] --> 127.606"
       ]
      },
      {
       "output_type": "stream",
       "stream": "stdout",
       "text": [
        "\n",
        "\t\t[Total] -->\n",
        "\t[Prior] --> 344.471\n",
        "\t[Smoother] --> 1474.92\n",
        "\t[Obs] --> 127.606"
       ]
      },
      {
       "output_type": "stream",
       "stream": "stdout",
       "text": [
        "\n",
        "\t\t[Total] -->\n",
        "\t[Prior] --> 344.471\n",
        "\t[Smoother] --> 1474.92\n",
        "\t[Obs] --> 127.606"
       ]
      },
      {
       "output_type": "stream",
       "stream": "stdout",
       "text": [
        "\n",
        "\t\t[Total] -->\n",
        "\t[Prior] --> 344.471\n",
        "\t[Smoother] --> 1474.92\n",
        "\t[Obs] --> 127.606"
       ]
      },
      {
       "output_type": "stream",
       "stream": "stdout",
       "text": [
        "\n",
        "\t\t[Total] -->\n",
        "\t[Prior] --> 344.471\n",
        "\t[Smoother] --> 1474.92\n",
        "\t[Obs] --> 127.606"
       ]
      },
      {
       "output_type": "stream",
       "stream": "stdout",
       "text": [
        "\n",
        "\t\t[Total] -->\n",
        "\t[Prior] --> 344.471\n",
        "\t[Smoother] --> 1474.92\n",
        "\t[Obs] --> 127.606"
       ]
      },
      {
       "output_type": "stream",
       "stream": "stdout",
       "text": [
        "\n",
        "\t\t[Total] -->\n",
        "\t[Prior] --> 344.471\n",
        "\t[Smoother] --> 1474.92\n",
        "\t[Obs] --> 127.606"
       ]
      },
      {
       "output_type": "stream",
       "stream": "stdout",
       "text": [
        "\n",
        "\t\t[Total] -->\n",
        "\t[Prior] --> 344.471\n",
        "\t[Smoother] --> 1474.92\n",
        "\t[Obs] --> 127.606"
       ]
      },
      {
       "output_type": "stream",
       "stream": "stdout",
       "text": [
        "\n",
        "\t\t[Total] -->\n",
        "\t[Prior] --> 344.471\n",
        "\t[Smoother] --> 1474.92\n",
        "\t[Obs] --> 127.606"
       ]
      },
      {
       "output_type": "stream",
       "stream": "stdout",
       "text": [
        "\n",
        "\t\t[Total] -->\n",
        "\t[Prior] --> 344.26\n",
        "\t[Smoother] --> 1477.79\n",
        "\t[Obs] --> 127.606"
       ]
      },
      {
       "output_type": "stream",
       "stream": "stdout",
       "text": [
        "\n",
        "\t\t[Total] -->\n",
        "\t[Prior] --> 344.463\n",
        "\t[Smoother] --> 1474.95\n",
        "\t[Obs] --> 127.606"
       ]
      },
      {
       "output_type": "stream",
       "stream": "stdout",
       "text": [
        "\n",
        "\t\t[Total] -->\n",
        "\t[Prior] --> 344.47\n",
        "\t[Smoother] --> 1474.92\n",
        "\t[Obs] --> 127.606"
       ]
      },
      {
       "output_type": "stream",
       "stream": "stdout",
       "text": [
        "\n",
        "\t\t[Total] -->\n",
        "\t[Prior] --> 344.471\n",
        "\t[Smoother] --> 1474.92\n",
        "\t[Obs] --> 127.606"
       ]
      },
      {
       "output_type": "stream",
       "stream": "stdout",
       "text": [
        "\n",
        "\t\t[Total] -->\n",
        "\t[Prior] --> 344.471\n",
        "\t[Smoother] --> 1474.92\n",
        "\t[Obs] --> 127.606"
       ]
      },
      {
       "output_type": "stream",
       "stream": "stdout",
       "text": [
        "\n",
        "\t\t[Total] -->\n",
        "\t[Prior] --> 344.471\n",
        "\t[Smoother] --> 1474.92\n",
        "\t[Obs] --> 127.606"
       ]
      },
      {
       "output_type": "stream",
       "stream": "stdout",
       "text": [
        "\n",
        "\t\t[Total] -->\n",
        "\t[Prior] --> 344.471\n",
        "\t[Smoother] --> 1474.92\n",
        "\t[Obs] --> 127.606"
       ]
      },
      {
       "output_type": "stream",
       "stream": "stdout",
       "text": [
        "\n",
        "\t\t[Total] -->\n",
        "\t[Prior] --> 344.471\n",
        "\t[Smoother] --> 1474.92\n",
        "\t[Obs] --> 127.606"
       ]
      },
      {
       "output_type": "stream",
       "stream": "stdout",
       "text": [
        "\n",
        "\t\t[Total] -->\n",
        "\t[Prior] --> 344.471\n",
        "\t[Smoother] --> 1474.92\n",
        "\t[Obs] --> 127.606"
       ]
      },
      {
       "output_type": "stream",
       "stream": "stdout",
       "text": [
        "\n",
        "\t\t[Total] -->\n",
        "\t[Prior] --> 344.471\n",
        "\t[Smoother] --> 1474.92\n",
        "\t[Obs] --> 127.606"
       ]
      },
      {
       "output_type": "stream",
       "stream": "stdout",
       "text": [
        "\n",
        "\t\t[Total] -->\n",
        "\t[Prior] --> 344.471\n",
        "\t[Smoother] --> 1474.92\n",
        "\t[Obs] --> 127.606"
       ]
      },
      {
       "output_type": "stream",
       "stream": "stdout",
       "text": [
        "\n",
        "\t\t[Total] -->\n",
        "\t[Prior] --> 344.471\n",
        "\t[Smoother] --> 1474.92\n",
        "\t[Obs] --> 127.606"
       ]
      },
      {
       "output_type": "stream",
       "stream": "stdout",
       "text": [
        "\n",
        "\t\t[Total] -->\n",
        "\t[Prior] --> 344.471\n",
        "\t[Smoother] --> 1474.92\n",
        "\t[Obs] --> 127.606"
       ]
      },
      {
       "output_type": "stream",
       "stream": "stdout",
       "text": [
        "\n",
        "\t\t[Total] -->\n",
        "\t[Prior] --> 344.471\n",
        "\t[Smoother] --> 1474.92\n",
        "\t[Obs] --> 127.606"
       ]
      },
      {
       "output_type": "stream",
       "stream": "stdout",
       "text": [
        "\n",
        "\t\t[Total] -->\n",
        "\t[Prior] --> 344.471\n",
        "\t[Smoother] --> 1474.92\n",
        "\t[Obs] --> 127.606"
       ]
      },
      {
       "output_type": "stream",
       "stream": "stdout",
       "text": [
        "\n",
        "\t\t[Total] -->\n",
        "\t[Prior] --> 344.471\n",
        "\t[Smoother] --> 1474.92\n",
        "\t[Obs] --> 127.606"
       ]
      },
      {
       "output_type": "stream",
       "stream": "stdout",
       "text": [
        "\n",
        "\t\t[Total] -->\n",
        "\t[Prior] --> 344.471\n",
        "\t[Smoother] --> 1474.92\n",
        "\t[Obs] --> 127.606"
       ]
      },
      {
       "output_type": "stream",
       "stream": "stdout",
       "text": [
        "\n",
        "\t\t[Total] -->\n",
        "\t[Prior] --> 344.471\n",
        "\t[Smoother] --> 1474.92\n",
        "\t[Obs] --> 127.606"
       ]
      },
      {
       "output_type": "stream",
       "stream": "stdout",
       "text": [
        "\n",
        "\t\t[Total] -->\n",
        "\t[Prior] --> 344.471\n",
        "\t[Smoother] --> 1474.92\n",
        "\t[Obs] --> 127.606"
       ]
      },
      {
       "output_type": "stream",
       "stream": "stdout",
       "text": [
        "\n",
        "\t\t[Total] -->\n",
        "\t[Prior] --> 344.471\n",
        "\t[Smoother] --> 1474.92\n",
        "\t[Obs] --> 127.606"
       ]
      },
      {
       "output_type": "stream",
       "stream": "stdout",
       "text": [
        "\n",
        "\t\t[Total] -->\n",
        "\t[Prior] --> 3071.15\n",
        "\t[Smoother] --> 3.87569e+07\n",
        "\t[Obs] --> 79147.4"
       ]
      },
      {
       "output_type": "stream",
       "stream": "stdout",
       "text": [
        "\n",
        "\t\t[Total] -->\n",
        "\t[Prior] --> 344.468\n",
        "\t[Smoother] --> 1474.9\n",
        "\t[Obs] --> 127.606"
       ]
      },
      {
       "output_type": "stream",
       "stream": "stdout",
       "text": [
        "\n",
        "\t\t[Total] -->\n",
        "\t[Prior] --> 446.709\n",
        "\t[Smoother] --> 3.93573e+06\n",
        "\t[Obs] --> 20393.6"
       ]
      },
      {
       "output_type": "stream",
       "stream": "stdout",
       "text": [
        "\n",
        "\t\t[Total] -->\n",
        "\t[Prior] --> 344.459\n",
        "\t[Smoother] --> 1474.86\n",
        "\t[Obs] --> 127.604"
       ]
      },
      {
       "output_type": "stream",
       "stream": "stdout",
       "text": [
        "\n",
        "\t\t[Total] -->\n",
        "\t[Prior] --> 344.399\n",
        "\t[Smoother] --> 1477.91\n",
        "\t[Obs] --> 127.598"
       ]
      },
      {
       "output_type": "stream",
       "stream": "stdout",
       "text": [
        "\n",
        "\t\t[Total] -->\n",
        "\t[Prior] --> 344.457\n",
        "\t[Smoother] --> 1474.9\n",
        "\t[Obs] --> 127.604"
       ]
      },
      {
       "output_type": "stream",
       "stream": "stdout",
       "text": [
        "\n",
        "\t\t[Total] -->\n",
        "\t[Prior] --> 344.459\n",
        "\t[Smoother] --> 1474.86\n",
        "\t[Obs] --> 127.604"
       ]
      },
      {
       "output_type": "stream",
       "stream": "stdout",
       "text": [
        "\n",
        "\t\t[Total] -->\n",
        "\t[Prior] --> 344.459\n",
        "\t[Smoother] --> 1474.86\n",
        "\t[Obs] --> 127.604"
       ]
      },
      {
       "output_type": "stream",
       "stream": "stdout",
       "text": [
        "\n",
        "\t\t[Total] -->\n",
        "\t[Prior] --> 344.459\n",
        "\t[Smoother] --> 1474.86\n",
        "\t[Obs] --> 127.604"
       ]
      },
      {
       "output_type": "stream",
       "stream": "stdout",
       "text": [
        "\n",
        "\t\t[Total] -->\n",
        "\t[Prior] --> 344.459\n",
        "\t[Smoother] --> 1474.86\n",
        "\t[Obs] --> 127.604"
       ]
      },
      {
       "output_type": "stream",
       "stream": "stdout",
       "text": [
        "\n",
        "\t\t[Total] -->\n",
        "\t[Prior] --> 344.459\n",
        "\t[Smoother] --> 1474.86\n",
        "\t[Obs] --> 127.604"
       ]
      },
      {
       "output_type": "stream",
       "stream": "stdout",
       "text": [
        "\n",
        "\t\t[Total] -->\n",
        "\t[Prior] --> 344.459\n",
        "\t[Smoother] --> 1474.86\n",
        "\t[Obs] --> 127.604"
       ]
      },
      {
       "output_type": "stream",
       "stream": "stdout",
       "text": [
        "\n",
        "\t\t[Total] -->\n",
        "\t[Prior] --> 344.459\n",
        "\t[Smoother] --> 1474.86\n",
        "\t[Obs] --> 127.604"
       ]
      },
      {
       "output_type": "stream",
       "stream": "stdout",
       "text": [
        "\n",
        "\t\t[Total] -->\n",
        "\t[Prior] --> 344.459\n",
        "\t[Smoother] --> 1474.86\n",
        "\t[Obs] --> 127.604"
       ]
      },
      {
       "output_type": "stream",
       "stream": "stdout",
       "text": [
        "\n",
        "\t\t[Total] -->\n",
        "\t[Prior] --> 344.459\n",
        "\t[Smoother] --> 1474.86\n",
        "\t[Obs] --> 127.604"
       ]
      },
      {
       "output_type": "stream",
       "stream": "stdout",
       "text": [
        "\n",
        "\t\t[Total] -->\n",
        "\t[Prior] --> 344.459\n",
        "\t[Smoother] --> 1474.86\n",
        "\t[Obs] --> 127.604"
       ]
      },
      {
       "output_type": "stream",
       "stream": "stdout",
       "text": [
        "\n",
        "\t\t[Total] -->\n",
        "\t[Prior] --> 344.459\n",
        "\t[Smoother] --> 1474.86\n",
        "\t[Obs] --> 127.604"
       ]
      },
      {
       "output_type": "stream",
       "stream": "stdout",
       "text": [
        "\n",
        "\t\t[Total] -->\n",
        "\t[Prior] --> 344.459\n",
        "\t[Smoother] --> 1474.86\n",
        "\t[Obs] --> 127.604"
       ]
      },
      {
       "output_type": "stream",
       "stream": "stdout",
       "text": [
        "\n",
        "\t\t[Total] -->\n",
        "\t[Prior] --> 344.459\n",
        "\t[Smoother] --> 1474.86\n",
        "\t[Obs] --> 127.604"
       ]
      },
      {
       "output_type": "stream",
       "stream": "stdout",
       "text": [
        "\n",
        "\t\t[Total] -->\n",
        "\t[Prior] --> 344.459\n",
        "\t[Smoother] --> 1474.86\n",
        "\t[Obs] --> 127.604"
       ]
      },
      {
       "output_type": "stream",
       "stream": "stdout",
       "text": [
        "\n",
        "\t\t[Total] -->\n",
        "\t[Prior] --> 344.456\n",
        "\t[Smoother] --> 1475.99\n",
        "\t[Obs] --> 127.604"
       ]
      },
      {
       "output_type": "stream",
       "stream": "stdout",
       "text": [
        "\n",
        "\t\t[Total] -->\n",
        "\t[Prior] --> 344.459\n",
        "\t[Smoother] --> 1474.88\n",
        "\t[Obs] --> 127.604"
       ]
      },
      {
       "output_type": "stream",
       "stream": "stdout",
       "text": [
        "\n",
        "\t\t[Total] -->\n",
        "\t[Prior] --> 344.459\n",
        "\t[Smoother] --> 1474.86\n",
        "\t[Obs] --> 127.604"
       ]
      },
      {
       "output_type": "stream",
       "stream": "stdout",
       "text": [
        "\n",
        "\t\t[Total] -->\n",
        "\t[Prior] --> 344.459\n",
        "\t[Smoother] --> 1474.86\n",
        "\t[Obs] --> 127.604"
       ]
      },
      {
       "output_type": "stream",
       "stream": "stdout",
       "text": [
        "\n",
        "\t\t[Total] -->\n",
        "\t[Prior] --> 344.459\n",
        "\t[Smoother] --> 1474.86\n",
        "\t[Obs] --> 127.604"
       ]
      },
      {
       "output_type": "stream",
       "stream": "stdout",
       "text": [
        "\n",
        "\t\t[Total] -->\n",
        "\t[Prior] --> 344.459\n",
        "\t[Smoother] --> 1474.86\n",
        "\t[Obs] --> 127.604"
       ]
      },
      {
       "output_type": "stream",
       "stream": "stdout",
       "text": [
        "\n",
        "\t\t[Total] -->\n",
        "\t[Prior] --> 344.459\n",
        "\t[Smoother] --> 1474.86\n",
        "\t[Obs] --> 127.604"
       ]
      },
      {
       "output_type": "stream",
       "stream": "stdout",
       "text": [
        "\n",
        "\t\t[Total] -->\n",
        "\t[Prior] --> 344.459\n",
        "\t[Smoother] --> 1474.86\n",
        "\t[Obs] --> 127.604"
       ]
      },
      {
       "output_type": "stream",
       "stream": "stdout",
       "text": [
        "\n",
        "\t\t[Total] -->\n",
        "\t[Prior] --> 344.459\n",
        "\t[Smoother] --> 1474.86\n",
        "\t[Obs] --> 127.604"
       ]
      },
      {
       "output_type": "stream",
       "stream": "stdout",
       "text": [
        "\n",
        "\t\t[Total] -->\n",
        "\t[Prior] --> 344.459\n",
        "\t[Smoother] --> 1474.86\n",
        "\t[Obs] --> 127.604"
       ]
      },
      {
       "output_type": "stream",
       "stream": "stdout",
       "text": [
        "\n",
        "\t\t[Total] -->\n",
        "\t[Prior] --> 344.459\n",
        "\t[Smoother] --> 1474.86\n",
        "\t[Obs] --> 127.604"
       ]
      },
      {
       "output_type": "stream",
       "stream": "stdout",
       "text": [
        "\n",
        "\t\t[Total] -->\n",
        "\t[Prior] --> 344.459\n",
        "\t[Smoother] --> 1474.86\n",
        "\t[Obs] --> 127.604"
       ]
      },
      {
       "output_type": "stream",
       "stream": "stdout",
       "text": [
        "\n",
        "\t\t[Total] -->\n",
        "\t[Prior] --> 344.459\n",
        "\t[Smoother] --> 1474.86\n",
        "\t[Obs] --> 127.604"
       ]
      },
      {
       "output_type": "stream",
       "stream": "stdout",
       "text": [
        "\n",
        "\t\t[Total] -->\n",
        "\t[Prior] --> 344.459\n",
        "\t[Smoother] --> 1474.86\n",
        "\t[Obs] --> 127.604"
       ]
      },
      {
       "output_type": "stream",
       "stream": "stdout",
       "text": [
        "\n",
        "\t\t[Total] -->\n",
        "\t[Prior] --> 344.459\n",
        "\t[Smoother] --> 1474.86\n",
        "\t[Obs] --> 127.604"
       ]
      },
      {
       "output_type": "stream",
       "stream": "stdout",
       "text": [
        "\n",
        "\t\t[Total] -->\n",
        "\t[Prior] --> 344.459\n",
        "\t[Smoother] --> 1474.86\n",
        "\t[Obs] --> 127.604"
       ]
      },
      {
       "output_type": "stream",
       "stream": "stdout",
       "text": [
        "\n",
        "\t\t[Total] -->\n",
        "\t[Prior] --> 344.459\n",
        "\t[Smoother] --> 1474.86\n",
        "\t[Obs] --> 127.604"
       ]
      },
      {
       "output_type": "stream",
       "stream": "stdout",
       "text": [
        "\n",
        "\t\t[Total] -->\n",
        "\t[Prior] --> 344.459\n",
        "\t[Smoother] --> 1474.86\n",
        "\t[Obs] --> 127.604"
       ]
      },
      {
       "output_type": "stream",
       "stream": "stdout",
       "text": [
        "\n",
        "\t\t[Total] -->\n",
        "\t[Prior] --> 344.459\n",
        "\t[Smoother] --> 1474.86\n",
        "\t[Obs] --> 127.604"
       ]
      },
      {
       "output_type": "stream",
       "stream": "stdout",
       "text": [
        "\n",
        "\t\t[Total] -->\n",
        "\t[Prior] --> 344.459\n",
        "\t[Smoother] --> 1474.86\n",
        "\t[Obs] --> 127.604"
       ]
      },
      {
       "output_type": "stream",
       "stream": "stdout",
       "text": [
        "\n",
        "\t\t[Total] -->\n",
        "\t[Prior] --> 2875.69\n",
        "\t[Smoother] --> 2.77608e+07\n",
        "\t[Obs] --> 40342.4"
       ]
      },
      {
       "output_type": "stream",
       "stream": "stdout",
       "text": [
        "\n",
        "\t\t[Total] -->\n",
        "\t[Prior] --> 344.455\n",
        "\t[Smoother] --> 1474.8\n",
        "\t[Obs] --> 127.604"
       ]
      },
      {
       "output_type": "stream",
       "stream": "stdout",
       "text": [
        "\n",
        "\t\t[Total] -->\n",
        "\t[Prior] --> 467.81\n",
        "\t[Smoother] --> 2.97445e+06\n",
        "\t[Obs] --> 10679.6"
       ]
      },
      {
       "output_type": "stream",
       "stream": "stdout",
       "text": [
        "\n",
        "\t\t[Total] -->\n",
        "\t[Prior] --> 344.447\n",
        "\t[Smoother] --> 1474.66\n",
        "\t[Obs] --> 127.602"
       ]
      },
      {
       "output_type": "stream",
       "stream": "stdout",
       "text": [
        "\n",
        "\t\t[Total] -->\n",
        "\t[Prior] --> 344.371\n",
        "\t[Smoother] --> 1477.99\n",
        "\t[Obs] --> 127.603"
       ]
      },
      {
       "output_type": "stream",
       "stream": "stdout",
       "text": [
        "\n",
        "\t\t[Total] -->\n",
        "\t[Prior] --> 344.445\n",
        "\t[Smoother] --> 1474.71\n",
        "\t[Obs] --> 127.602"
       ]
      },
      {
       "output_type": "stream",
       "stream": "stdout",
       "text": [
        "\n",
        "\t\t[Total] -->\n",
        "\t[Prior] --> 344.447\n",
        "\t[Smoother] --> 1474.66\n",
        "\t[Obs] --> 127.602"
       ]
      },
      {
       "output_type": "stream",
       "stream": "stdout",
       "text": [
        "\n",
        "\t\t[Total] -->\n",
        "\t[Prior] --> 344.447\n",
        "\t[Smoother] --> 1474.66\n",
        "\t[Obs] --> 127.602"
       ]
      },
      {
       "output_type": "stream",
       "stream": "stdout",
       "text": [
        "\n",
        "\t\t[Total] -->\n",
        "\t[Prior] --> 344.447\n",
        "\t[Smoother] --> 1474.66\n",
        "\t[Obs] --> 127.602"
       ]
      },
      {
       "output_type": "stream",
       "stream": "stdout",
       "text": [
        "\n",
        "\t\t[Total] -->\n",
        "\t[Prior] --> 344.447\n",
        "\t[Smoother] --> 1474.66\n",
        "\t[Obs] --> 127.602"
       ]
      },
      {
       "output_type": "stream",
       "stream": "stdout",
       "text": [
        "\n",
        "\t\t[Total] -->\n",
        "\t[Prior] --> 344.447\n",
        "\t[Smoother] --> 1474.66\n",
        "\t[Obs] --> 127.602"
       ]
      },
      {
       "output_type": "stream",
       "stream": "stdout",
       "text": [
        "\n",
        "\t\t[Total] -->\n",
        "\t[Prior] --> 344.447\n",
        "\t[Smoother] --> 1474.66\n",
        "\t[Obs] --> 127.602"
       ]
      },
      {
       "output_type": "stream",
       "stream": "stdout",
       "text": [
        "\n",
        "\t\t[Total] -->\n",
        "\t[Prior] --> 344.447\n",
        "\t[Smoother] --> 1474.66\n",
        "\t[Obs] --> 127.602"
       ]
      },
      {
       "output_type": "stream",
       "stream": "stdout",
       "text": [
        "\n",
        "\t\t[Total] -->\n",
        "\t[Prior] --> 344.447\n",
        "\t[Smoother] --> 1474.66\n",
        "\t[Obs] --> 127.602"
       ]
      },
      {
       "output_type": "stream",
       "stream": "stdout",
       "text": [
        "\n",
        "\t\t[Total] -->\n",
        "\t[Prior] --> 344.447\n",
        "\t[Smoother] --> 1474.66\n",
        "\t[Obs] --> 127.602"
       ]
      },
      {
       "output_type": "stream",
       "stream": "stdout",
       "text": [
        "\n",
        "\t\t[Total] -->\n",
        "\t[Prior] --> 344.447\n",
        "\t[Smoother] --> 1474.66\n",
        "\t[Obs] --> 127.602"
       ]
      },
      {
       "output_type": "stream",
       "stream": "stdout",
       "text": [
        "\n",
        "\t\t[Total] -->\n",
        "\t[Prior] --> 344.447\n",
        "\t[Smoother] --> 1474.66\n",
        "\t[Obs] --> 127.602"
       ]
      },
      {
       "output_type": "stream",
       "stream": "stdout",
       "text": [
        "\n",
        "\t\t[Total] -->\n",
        "\t[Prior] --> 344.447\n",
        "\t[Smoother] --> 1474.66\n",
        "\t[Obs] --> 127.602"
       ]
      },
      {
       "output_type": "stream",
       "stream": "stdout",
       "text": [
        "\n",
        "\t\t[Total] -->\n",
        "\t[Prior] --> 344.447\n",
        "\t[Smoother] --> 1474.66\n",
        "\t[Obs] --> 127.602"
       ]
      },
      {
       "output_type": "stream",
       "stream": "stdout",
       "text": [
        "\n",
        "\t\t[Total] -->\n",
        "\t[Prior] --> 344.447\n",
        "\t[Smoother] --> 1474.66\n",
        "\t[Obs] --> 127.602"
       ]
      },
      {
       "output_type": "stream",
       "stream": "stdout",
       "text": [
        "\n",
        "\t\t[Total] -->\n",
        "\t[Prior] --> 344.447\n",
        "\t[Smoother] --> 1474.66\n",
        "\t[Obs] --> 127.602"
       ]
      },
      {
       "output_type": "stream",
       "stream": "stdout",
       "text": [
        "\n",
        "\t\t[Total] -->\n",
        "\t[Prior] --> 344.447\n",
        "\t[Smoother] --> 1474.66\n",
        "\t[Obs] --> 127.602"
       ]
      },
      {
       "output_type": "stream",
       "stream": "stdout",
       "text": [
        "\n",
        "\t\t[Total] -->\n",
        "\t[Prior] --> 344.447\n",
        "\t[Smoother] --> 1474.66\n",
        "\t[Obs] --> 127.602"
       ]
      },
      {
       "output_type": "stream",
       "stream": "stdout",
       "text": [
        "\n",
        "\t\t[Total] -->\n",
        "\t[Prior] --> 344.447\n",
        "\t[Smoother] --> 1474.66\n",
        "\t[Obs] --> 127.602"
       ]
      },
      {
       "output_type": "stream",
       "stream": "stdout",
       "text": [
        "\n",
        "\t\t[Total] -->\n",
        "\t[Prior] --> 2811.12\n",
        "\t[Smoother] --> 2.20913e+07\n",
        "\t[Obs] --> 37305"
       ]
      },
      {
       "output_type": "stream",
       "stream": "stdout",
       "text": [
        "\n",
        "\t\t[Total] -->\n",
        "\t[Prior] --> 344.443\n",
        "\t[Smoother] --> 1474.65\n",
        "\t[Obs] --> 127.602"
       ]
      },
      {
       "output_type": "stream",
       "stream": "stdout",
       "text": [
        "\n",
        "\t\t[Total] -->\n",
        "\t[Prior] --> 456.4\n",
        "\t[Smoother] --> 2.49462e+06\n",
        "\t[Obs] --> 9785.65"
       ]
      },
      {
       "output_type": "stream",
       "stream": "stdout",
       "text": [
        "\n",
        "\t\t[Total] -->\n",
        "\t[Prior] --> 344.433\n",
        "\t[Smoother] --> 1474.65\n",
        "\t[Obs] --> 127.601"
       ]
      },
      {
       "output_type": "stream",
       "stream": "stdout",
       "text": [
        "\n",
        "\t\t[Total] -->\n",
        "\t[Prior] --> 344.33\n",
        "\t[Smoother] --> 1477.31\n",
        "\t[Obs] --> 127.601"
       ]
      },
      {
       "output_type": "stream",
       "stream": "stdout",
       "text": [
        "\n",
        "\t\t[Total] -->\n",
        "\t[Prior] --> 344.43\n",
        "\t[Smoother] --> 1474.69\n",
        "\t[Obs] --> 127.601"
       ]
      },
      {
       "output_type": "stream",
       "stream": "stdout",
       "text": [
        "\n",
        "\t\t[Total] -->\n",
        "\t[Prior] --> 344.433\n",
        "\t[Smoother] --> 1474.65\n",
        "\t[Obs] --> 127.601"
       ]
      },
      {
       "output_type": "stream",
       "stream": "stdout",
       "text": [
        "\n",
        "\t\t[Total] -->\n",
        "\t[Prior] --> 344.433\n",
        "\t[Smoother] --> 1474.65\n",
        "\t[Obs] --> 127.601"
       ]
      },
      {
       "output_type": "stream",
       "stream": "stdout",
       "text": [
        "\n",
        "\t\t[Total] -->\n",
        "\t[Prior] --> 344.433\n",
        "\t[Smoother] --> 1474.65\n",
        "\t[Obs] --> 127.601"
       ]
      },
      {
       "output_type": "stream",
       "stream": "stdout",
       "text": [
        "\n",
        "\t\t[Total] -->\n",
        "\t[Prior] --> 344.433\n",
        "\t[Smoother] --> 1474.65\n",
        "\t[Obs] --> 127.601"
       ]
      },
      {
       "output_type": "stream",
       "stream": "stdout",
       "text": [
        "\n",
        "\t\t[Total] -->\n",
        "\t[Prior] --> 344.433\n",
        "\t[Smoother] --> 1474.65\n",
        "\t[Obs] --> 127.601"
       ]
      },
      {
       "output_type": "stream",
       "stream": "stdout",
       "text": [
        "\n",
        "\t\t[Total] -->\n",
        "\t[Prior] --> 344.433\n",
        "\t[Smoother] --> 1474.65\n",
        "\t[Obs] --> 127.601"
       ]
      },
      {
       "output_type": "stream",
       "stream": "stdout",
       "text": [
        "\n",
        "\t\t[Total] -->\n",
        "\t[Prior] --> 344.433\n",
        "\t[Smoother] --> 1474.65\n",
        "\t[Obs] --> 127.601"
       ]
      },
      {
       "output_type": "stream",
       "stream": "stdout",
       "text": [
        "\n",
        "\t\t[Total] -->\n",
        "\t[Prior] --> 344.433\n",
        "\t[Smoother] --> 1474.65\n",
        "\t[Obs] --> 127.601"
       ]
      },
      {
       "output_type": "stream",
       "stream": "stdout",
       "text": [
        "\n",
        "\t\t[Total] -->\n",
        "\t[Prior] --> 344.433\n",
        "\t[Smoother] --> 1474.65\n",
        "\t[Obs] --> 127.601"
       ]
      },
      {
       "output_type": "stream",
       "stream": "stdout",
       "text": [
        "\n",
        "\t\t[Total] -->\n",
        "\t[Prior] --> 344.433\n",
        "\t[Smoother] --> 1474.65\n",
        "\t[Obs] --> 127.601"
       ]
      },
      {
       "output_type": "stream",
       "stream": "stdout",
       "text": [
        "\n",
        "\t\t[Total] -->\n",
        "\t[Prior] --> 344.433\n",
        "\t[Smoother] --> 1474.65\n",
        "\t[Obs] --> 127.601"
       ]
      },
      {
       "output_type": "stream",
       "stream": "stdout",
       "text": [
        "\n",
        "\t\t[Total] -->\n",
        "\t[Prior] --> 344.433\n",
        "\t[Smoother] --> 1474.65\n",
        "\t[Obs] --> 127.601"
       ]
      },
      {
       "output_type": "stream",
       "stream": "stdout",
       "text": [
        "\n",
        "\t\t[Total] -->\n",
        "\t[Prior] --> 344.433\n",
        "\t[Smoother] --> 1474.65\n",
        "\t[Obs] --> 127.601"
       ]
      },
      {
       "output_type": "stream",
       "stream": "stdout",
       "text": [
        "\n",
        "\t\t[Total] -->\n",
        "\t[Prior] --> 344.433\n",
        "\t[Smoother] --> 1474.65\n",
        "\t[Obs] --> 127.601"
       ]
      },
      {
       "output_type": "stream",
       "stream": "stdout",
       "text": [
        "\n",
        "\t\t[Total] -->\n",
        "\t[Prior] --> 344.433\n",
        "\t[Smoother] --> 1474.65\n",
        "\t[Obs] --> 127.601"
       ]
      },
      {
       "output_type": "stream",
       "stream": "stdout",
       "text": [
        "\n",
        "\t\t[Total] -->\n",
        "\t[Prior] --> 344.433\n",
        "\t[Smoother] --> 1474.65\n",
        "\t[Obs] --> 127.601"
       ]
      },
      {
       "output_type": "stream",
       "stream": "stdout",
       "text": [
        "\n",
        "\t\t[Total] -->\n",
        "\t[Prior] --> 344.433\n",
        "\t[Smoother] --> 1474.65\n",
        "\t[Obs] --> 127.601"
       ]
      },
      {
       "output_type": "stream",
       "stream": "stdout",
       "text": [
        "\n",
        "\t\t[Total] -->\n",
        "\t[Prior] --> 344.433\n",
        "\t[Smoother] --> 1474.65\n",
        "\t[Obs] --> 127.601"
       ]
      },
      {
       "output_type": "stream",
       "stream": "stdout",
       "text": [
        "\n",
        "\t\t[Total] -->\n",
        "\t[Prior] --> 2911.84\n",
        "\t[Smoother] --> 2.21447e+07\n",
        "\t[Obs] --> 39817.5"
       ]
      },
      {
       "output_type": "stream",
       "stream": "stdout",
       "text": [
        "\n",
        "\t\t[Total] -->\n",
        "\t[Prior] --> 344.429\n",
        "\t[Smoother] --> 1474.57\n",
        "\t[Obs] --> 127.602"
       ]
      },
      {
       "output_type": "stream",
       "stream": "stdout",
       "text": [
        "\n",
        "\t\t[Total] -->\n",
        "\t[Prior] --> 460.228\n",
        "\t[Smoother] --> 2.48209e+06\n",
        "\t[Obs] --> 10517.2"
       ]
      },
      {
       "output_type": "stream",
       "stream": "stdout",
       "text": [
        "\n",
        "\t\t[Total] -->\n",
        "\t[Prior] --> 344.42\n",
        "\t[Smoother] --> 1474.41\n",
        "\t[Obs] --> 127.604"
       ]
      },
      {
       "output_type": "stream",
       "stream": "stdout",
       "text": [
        "\n",
        "\t\t[Total] -->\n",
        "\t[Prior] --> 344.329\n",
        "\t[Smoother] --> 1477.5\n",
        "\t[Obs] --> 127.61"
       ]
      },
      {
       "output_type": "stream",
       "stream": "stdout",
       "text": [
        "\n",
        "\t\t[Total] -->\n",
        "\t[Prior] --> 344.417\n",
        "\t[Smoother] --> 1474.46\n",
        "\t[Obs] --> 127.604"
       ]
      },
      {
       "output_type": "stream",
       "stream": "stdout",
       "text": [
        "\n",
        "\t\t[Total] -->\n",
        "\t[Prior] --> 344.42\n",
        "\t[Smoother] --> 1474.41\n",
        "\t[Obs] --> 127.604"
       ]
      },
      {
       "output_type": "stream",
       "stream": "stdout",
       "text": [
        "\n",
        "\t\t[Total] -->\n",
        "\t[Prior] --> 344.42\n",
        "\t[Smoother] --> 1474.41\n",
        "\t[Obs] --> 127.604"
       ]
      },
      {
       "output_type": "stream",
       "stream": "stdout",
       "text": [
        "\n",
        "\t\t[Total] -->\n",
        "\t[Prior] --> 344.42\n",
        "\t[Smoother] --> 1474.41\n",
        "\t[Obs] --> 127.604"
       ]
      },
      {
       "output_type": "stream",
       "stream": "stdout",
       "text": [
        "\n",
        "\t\t[Total] -->\n",
        "\t[Prior] --> 344.42\n",
        "\t[Smoother] --> 1474.41\n",
        "\t[Obs] --> 127.604"
       ]
      },
      {
       "output_type": "stream",
       "stream": "stdout",
       "text": [
        "\n",
        "\t\t[Total] -->\n",
        "\t[Prior] --> 344.42\n",
        "\t[Smoother] --> 1474.41\n",
        "\t[Obs] --> 127.604"
       ]
      },
      {
       "output_type": "stream",
       "stream": "stdout",
       "text": [
        "\n",
        "\t\t[Total] -->\n",
        "\t[Prior] --> 344.42\n",
        "\t[Smoother] --> 1474.41\n",
        "\t[Obs] --> 127.604"
       ]
      },
      {
       "output_type": "stream",
       "stream": "stdout",
       "text": [
        "\n",
        "\t\t[Total] -->\n",
        "\t[Prior] --> 344.42\n",
        "\t[Smoother] --> 1474.41\n",
        "\t[Obs] --> 127.604"
       ]
      },
      {
       "output_type": "stream",
       "stream": "stdout",
       "text": [
        "\n",
        "\t\t[Total] -->\n",
        "\t[Prior] --> 344.42\n",
        "\t[Smoother] --> 1474.41\n",
        "\t[Obs] --> 127.604"
       ]
      },
      {
       "output_type": "stream",
       "stream": "stdout",
       "text": [
        "\n",
        "\t\t[Total] -->\n",
        "\t[Prior] --> 344.42\n",
        "\t[Smoother] --> 1474.41\n",
        "\t[Obs] --> 127.604"
       ]
      },
      {
       "output_type": "stream",
       "stream": "stdout",
       "text": [
        "\n",
        "\t\t[Total] -->\n",
        "\t[Prior] --> 344.42\n",
        "\t[Smoother] --> 1474.41\n",
        "\t[Obs] --> 127.604"
       ]
      },
      {
       "output_type": "stream",
       "stream": "stdout",
       "text": [
        "\n",
        "\t\t[Total] -->\n",
        "\t[Prior] --> 344.42\n",
        "\t[Smoother] --> 1474.41\n",
        "\t[Obs] --> 127.604"
       ]
      },
      {
       "output_type": "stream",
       "stream": "stdout",
       "text": [
        "\n",
        "\t\t[Total] -->\n",
        "\t[Prior] --> 344.42\n",
        "\t[Smoother] --> 1474.41\n",
        "\t[Obs] --> 127.604"
       ]
      },
      {
       "output_type": "stream",
       "stream": "stdout",
       "text": [
        "\n",
        "\t\t[Total] -->\n",
        "\t[Prior] --> 344.42\n",
        "\t[Smoother] --> 1474.41\n",
        "\t[Obs] --> 127.604"
       ]
      },
      {
       "output_type": "stream",
       "stream": "stdout",
       "text": [
        "\n",
        "\t\t[Total] -->\n",
        "\t[Prior] --> 344.42\n",
        "\t[Smoother] --> 1474.41\n",
        "\t[Obs] --> 127.604"
       ]
      },
      {
       "output_type": "stream",
       "stream": "stdout",
       "text": [
        "\n",
        "\t\t[Total] -->\n",
        "\t[Prior] --> 344.42\n",
        "\t[Smoother] --> 1474.41\n",
        "\t[Obs] --> 127.604"
       ]
      },
      {
       "output_type": "stream",
       "stream": "stdout",
       "text": [
        "\n",
        "\t\t[Total] -->\n",
        "\t[Prior] --> 344.42\n",
        "\t[Smoother] --> 1474.41\n",
        "\t[Obs] --> 127.604"
       ]
      },
      {
       "output_type": "stream",
       "stream": "stdout",
       "text": [
        "\n",
        "\t\t[Total] -->\n",
        "\t[Prior] --> 344.42\n",
        "\t[Smoother] --> 1474.41\n",
        "\t[Obs] --> 127.604"
       ]
      },
      {
       "output_type": "stream",
       "stream": "stdout",
       "text": [
        "\n",
        "\t\t[Total] -->\n",
        "\t[Prior] --> 344.42\n",
        "\t[Smoother] --> 1474.41\n",
        "\t[Obs] --> 127.604"
       ]
      },
      {
       "output_type": "stream",
       "stream": "stdout",
       "text": [
        "\n",
        "\t\t[Total] -->\n",
        "\t[Prior] --> 344.329\n",
        "\t[Smoother] --> 1477.5\n",
        "\t[Obs] --> 127.61"
       ]
      },
      {
       "output_type": "stream",
       "stream": "stdout",
       "text": [
        "\n",
        "\t\t[Total] -->\n",
        "\t[Prior] --> 344.417\n",
        "\t[Smoother] --> 1474.46\n",
        "\t[Obs] --> 127.604"
       ]
      },
      {
       "output_type": "stream",
       "stream": "stdout",
       "text": [
        "\n",
        "\t\t[Total] -->\n",
        "\t[Prior] --> 344.42\n",
        "\t[Smoother] --> 1474.41\n",
        "\t[Obs] --> 127.604"
       ]
      },
      {
       "output_type": "stream",
       "stream": "stdout",
       "text": [
        "\n",
        "\t\t[Total] -->\n",
        "\t[Prior] --> 344.42\n",
        "\t[Smoother] --> 1474.41\n",
        "\t[Obs] --> 127.604"
       ]
      },
      {
       "output_type": "stream",
       "stream": "stdout",
       "text": [
        "\n",
        "\t\t[Total] -->\n",
        "\t[Prior] --> 344.42\n",
        "\t[Smoother] --> 1474.41\n",
        "\t[Obs] --> 127.604"
       ]
      },
      {
       "output_type": "stream",
       "stream": "stdout",
       "text": [
        "\n",
        "\t\t[Total] -->\n",
        "\t[Prior] --> 344.42\n",
        "\t[Smoother] --> 1474.41\n",
        "\t[Obs] --> 127.604"
       ]
      },
      {
       "output_type": "stream",
       "stream": "stdout",
       "text": [
        "\n",
        "\t\t[Total] -->\n",
        "\t[Prior] --> 344.42\n",
        "\t[Smoother] --> 1474.41\n",
        "\t[Obs] --> 127.604"
       ]
      },
      {
       "output_type": "stream",
       "stream": "stdout",
       "text": [
        "\n",
        "\t\t[Total] -->\n",
        "\t[Prior] --> 344.42\n",
        "\t[Smoother] --> 1474.41\n",
        "\t[Obs] --> 127.604"
       ]
      },
      {
       "output_type": "stream",
       "stream": "stdout",
       "text": [
        "\n",
        "\t\t[Total] -->\n",
        "\t[Prior] --> 344.42\n",
        "\t[Smoother] --> 1474.41\n",
        "\t[Obs] --> 127.604"
       ]
      },
      {
       "output_type": "stream",
       "stream": "stdout",
       "text": [
        "\n",
        "\t\t[Total] -->\n",
        "\t[Prior] --> 344.42\n",
        "\t[Smoother] --> 1474.41\n",
        "\t[Obs] --> 127.604"
       ]
      },
      {
       "output_type": "stream",
       "stream": "stdout",
       "text": [
        "\n",
        "\t\t[Total] -->\n",
        "\t[Prior] --> 344.42\n",
        "\t[Smoother] --> 1474.41\n",
        "\t[Obs] --> 127.604"
       ]
      },
      {
       "output_type": "stream",
       "stream": "stdout",
       "text": [
        "\n",
        "\t\t[Total] -->\n",
        "\t[Prior] --> 344.42\n",
        "\t[Smoother] --> 1474.41\n",
        "\t[Obs] --> 127.604"
       ]
      },
      {
       "output_type": "stream",
       "stream": "stdout",
       "text": [
        "\n",
        "\t\t[Total] -->\n",
        "\t[Prior] --> 344.42\n",
        "\t[Smoother] --> 1474.41\n",
        "\t[Obs] --> 127.604"
       ]
      },
      {
       "output_type": "stream",
       "stream": "stdout",
       "text": [
        "\n",
        "\t\t[Total] -->\n",
        "\t[Prior] --> 344.42\n",
        "\t[Smoother] --> 1474.41\n",
        "\t[Obs] --> 127.604"
       ]
      },
      {
       "output_type": "stream",
       "stream": "stdout",
       "text": [
        "\n",
        "\t\t[Total] -->\n",
        "\t[Prior] --> 344.42\n",
        "\t[Smoother] --> 1474.41\n",
        "\t[Obs] --> 127.604"
       ]
      },
      {
       "output_type": "stream",
       "stream": "stdout",
       "text": [
        "\n",
        "\t\t[Total] -->\n",
        "\t[Prior] --> 344.42\n",
        "\t[Smoother] --> 1474.41\n",
        "\t[Obs] --> 127.604"
       ]
      },
      {
       "output_type": "stream",
       "stream": "stdout",
       "text": [
        "\n",
        "\t\t[Total] -->\n",
        "(array([ 0.48558546,  0.49108706,  0.46690976,  0.35720371,  0.41281413,\n",
        "        0.46951174,  0.48487373,  0.74524946,  0.42990024,  0.50145878,\n",
        "        0.41527126,  0.49509285,  0.51730998,  0.34606738,  0.23862657,\n",
        "        0.43917296,  0.39819129,  0.45615115,  0.36698215,  0.51730998,\n",
        "        0.39798203,  0.47628754,  0.4920181 ,  0.3456099 ,  0.38506413,\n",
        "        0.45430404,  0.43419722,  0.50293105,  0.17085209,  0.44142953,\n",
        "        0.31417127,  0.3665237 ,  0.51730998,  0.36962868,  0.43132178,\n",
        "        0.48203783,  0.4639095 ,  0.45677504,  0.34502466,  0.46226534,\n",
        "        0.39966595,  0.51082571,  0.7696387 ,  0.46229736,  0.31072924,\n",
        "        0.35479415,  0.45061217,  0.43221011,  0.51730998,  0.51730998,\n",
        "        0.4838319 ,  0.37678986,  0.51730998,  0.45159611,  0.32898986,\n",
        "        0.51730998,  0.4378882 ,  0.34876126,  0.38145655,  0.51730998,\n",
        "        0.46939783,  0.31905006,  0.51730998,  0.72766865,  0.46870674,\n",
        "        0.50375744,  0.51730998,  0.47573546,  0.51730998,  0.5103116 ,\n",
        "        0.59752927,  0.40466223,  0.51524542,  0.4624245 ,  0.4854696 ,\n",
        "        0.51730998,  0.51042012,  0.5408341 ,  0.46104166,  0.45102746,\n",
        "        0.44480049,  0.51730998,  0.38893953,  0.45714705,  0.69484885,\n",
        "        0.48537396,  0.46405088,  0.51558982,  0.36917806,  0.50430046,\n",
        "        0.49732425,  0.75028471,  0.51288252,  0.50373288,  0.46771621,\n",
        "        0.4478145 ,  0.40616026,  0.46713077,  0.74124508,  0.4423676 ,\n",
        "        0.38299896,  0.41185946,  0.36310345,  0.35233258,  0.51730998,\n",
        "        0.33635494,  0.49427199,  0.47542782,  0.47349915,  0.46585873,\n",
        "        0.3336907 ,  0.45802677,  0.67882351,  0.51730998,  0.45036068,\n",
        "        0.40930097,  0.51730998,  0.42748952,  0.48746939,  0.52502955,\n",
        "        0.48350136,  0.44271315,  0.32321948,  0.5099367 ,  0.41423922,\n",
        "        0.51730998,  0.37858588,  0.40353005,  0.51730998,  0.45159746,\n",
        "        0.34459151,  0.44709156,  0.45890858,  0.46531885,  0.47294752,\n",
        "        0.34278797,  0.36791   ,  0.3730326 ,  0.33074051,  0.50501298,\n",
        "        0.44888842,  0.50522463,  0.32924678,  0.4354088 ,  0.43007148,\n",
        "        0.433962  ,  0.51730998,  0.31350896,  0.31938311,  0.47312973,\n",
        "        0.47062962,  0.44958755,  0.48163666,  0.51730998,  0.30131076,\n",
        "        0.49672038,  0.50169649,  0.32219075,  0.51198381,  0.47540121,\n",
        "        0.45807571,  0.32678216,  0.50149282,  0.51730998,  0.51730998,\n",
        "        0.3314115 ,  0.37426192,  0.48573482,  0.44760876,  0.44216427,\n",
        "        0.46044138,  0.43704348,  0.51730998,  0.32311687,  0.51730998,\n",
        "        0.50841653,  0.31447673,  0.34845369,  0.31341114,  0.38140591,\n",
        "        0.51730998,  0.44137906,  0.49516579,  0.34998911,  0.33340809,\n",
        "        0.35799972,  0.46634143,  0.41662035,  0.40192539,  0.60735893,\n",
        "        0.4842941 ,  0.41661415,  0.47126303,  0.48398946,  0.3832721 ,\n",
        "        0.46076268,  0.33553439,  0.43769925,  0.4788334 ,  0.37520836,\n",
        "        0.48897509,  0.46511447,  0.43558862,  0.76436781,  0.44576264,\n",
        "        0.31887595,  0.45827395,  0.4849644 ,  0.3978418 ,  0.42022936,\n",
        "        0.44850202,  0.5013421 ,  0.51730998,  0.51730998,  0.49050522,\n",
        "        0.4410512 ,  0.34574133,  0.79132735,  0.46331939,  0.48570208,\n",
        "        0.30866713,  0.43995793,  0.51730998,  0.44071973,  0.49012405,\n",
        "        0.50864718,  0.39133327,  0.51730998,  0.33580191,  0.51730998,\n",
        "        0.43000442,  0.60464749,  0.51730998,  0.48589135,  0.48941835,\n",
        "        0.32111665,  0.43714273,  0.50217733,  0.56258183,  0.40936297,\n",
        "        0.40473003,  0.48763011,  0.46395444,  0.33766176,  0.51730998,\n",
        "        0.47892963,  0.39878764,  0.44481688,  0.32850943,  0.43998412,\n",
        "        0.49632265,  0.50737987,  0.42278345,  0.48782443,  0.42524321,\n",
        "        0.44588579,  0.43828202,  0.32198122,  0.34377653,  0.39645281,\n",
        "        0.49690764,  0.51548052,  0.43405095,  0.46790784,  0.51730998,\n",
        "        0.51730998,  0.47375024,  0.40568413,  0.31189695,  0.50444018,\n",
        "        0.45996336,  0.46244987,  0.51730998,  0.32071829,  0.44615789,\n",
        "        0.30740972,  0.32153807,  0.30874663,  0.50937239,  0.51730998,\n",
        "        0.50949867,  0.51730998,  0.44075711,  0.43260117,  0.4421769 ,\n",
        "        0.43748188,  0.42129022,  0.47542752,  0.3694297 ,  0.51730998,\n",
        "        0.46299232,  0.51730998,  0.51730998,  0.49112544,  0.47983255,\n",
        "        0.46594182,  0.35671178,  0.48787165,  0.47204995,  0.31986851,\n",
        "        0.32332576,  0.33551968,  0.39453618,  0.45025743,  0.47380666,\n",
        "        0.44352604,  0.34518411,  0.51730998,  0.44861704,  0.45317683,\n",
        "        0.39954482,  0.45677701,  0.50542009,  0.51590787,  0.48680106,\n",
        "        0.50029896,  0.51730998,  0.51730998,  0.51514339,  0.51730998,\n",
        "        0.46716709,  0.42037044,  0.67917522,  0.39373969,  0.51730998,\n",
        "        0.51730998,  0.51730998,  0.45023386,  0.48274275,  0.3943534 ,\n",
        "        0.42225578,  0.46181746,  0.47157622,  0.48985047,  0.47066449,\n",
        "        0.51730998,  0.69967428,  0.51730998,  0.35855391,  0.30787548,\n",
        "        0.47583395,  0.32895352,  0.38766877,  0.59178051,  0.46032832,\n",
        "        0.43644844,  0.48836637,  0.43526922,  0.47431598,  0.44693081,\n",
        "        0.45591219,  0.31679317,  0.51730998,  0.392449  ,  0.51730998,\n",
        "        0.45227921,  0.46374452,  0.65913817,  0.48350895,  0.30979153,\n",
        "        0.44526304,  0.46092967,  0.43597874,  0.44127973,  0.47918307,\n",
        "        0.54691662,  0.98521832,  0.97146165,  0.95804921,  0.944916  ,\n",
        "        0.93209908,  0.91954487,  0.907242  ,  0.90689931,  0.9069158 ,\n",
        "        0.90717517,  0.90759124,  0.90810052,  0.90870767,  0.90944862,\n",
        "        0.90625921,  0.9035113 ,  0.9011813 ,  0.89902174,  0.89695806,\n",
        "        0.89500699,  0.89352056,  0.89293194,  0.89299923,  0.89326829,\n",
        "        0.89365832,  0.89462975,  0.89589888,  0.89726509,  0.89519565,\n",
        "        0.89322068,  0.89138988,  0.88964946,  0.88863613,  0.88812222,\n",
        "        0.88804794,  0.88863286,  0.88961748,  0.89121558,  0.89295097,\n",
        "        0.8947517 ,  0.89647096,  0.89825554,  0.90221896,  0.90626348,\n",
        "        0.90999526,  0.91303117,  0.91512547,  0.91619571,  0.91674273,\n",
        "        0.91675051,  0.91616781,  0.91514018,  0.91322914,  0.91046283,\n",
        "        0.90647656,  0.90129554,  0.89502289,  0.88806563,  0.8803985 ,\n",
        "        0.87224608,  0.86409052,  0.85603387,  0.84810559,  0.84190603,\n",
        "        0.83581507,  0.82981329,  0.82389705,  0.81797567,  0.81208066,\n",
        "        0.80607443,  0.80271369,  0.79941068,  0.79617135,  0.79274414,\n",
        "        0.78887955,  0.78504819,  0.78128365,  0.77106181,  0.76102046,\n",
        "        0.75115816,  0.74140134,  0.73078636,  0.72036485,  0.71045109,\n",
        "        0.70239984,  0.69455231,  0.68682894,  0.6792675 ,  0.67180532,\n",
        "        0.66448523,  0.6572869 ,  0.64914715,  0.641562  ,  0.634114  ,\n",
        "        0.62680006,  0.61961728,  0.61254953,  0.60562904,  0.5956675 ,\n",
        "        0.58555126,  0.57561791,  0.56602182,  0.5566068 ,  0.54707267,\n",
        "        0.53755909,  0.52821432,  0.51900013,  0.50987015,  0.50089609,\n",
        "        0.49209792,  0.48343579,  0.47490663,  0.46623603,  0.45757384,\n",
        "        0.44905778,  0.44073001,  0.43259742,  0.42465154,  0.41685697,\n",
        "        0.40832235,  0.39995228,  0.39177264,  0.38377512,  0.37595623,\n",
        "        0.36843552,  0.36120348,  0.35413102,  0.34719006,  0.34039379,\n",
        "        0.33373664,  0.32755612,  0.32149879,  0.31560679,  0.30985989,\n",
        "        0.30424388,  0.29874383,  0.29338235,  0.28816534,  0.28304541,\n",
        "        0.27802593,  0.2731421 ,  0.26838505,  0.26366099,  0.25901323,\n",
        "        0.25443344,  0.24991857,  0.2452846 ,  0.23949501,  0.23342225,\n",
        "        0.2274922 ,  0.22169962,  0.21610934,  0.21063158,  0.20533495,\n",
        "        0.20549541,  0.20564472,  0.20574012,  0.20579816,  0.20582646,\n",
        "        0.20577462,  0.20551824,  0.20258028,  0.199629  ,  0.19675517,\n",
        "        0.19395809,  0.19122012,  0.18860366,  0.1860582 ,  0.18365174,\n",
        "        0.18147156,  0.17946914,  0.17754124,  0.17564282,  0.17379771,\n",
        "        0.17227126,  0.17081435,  0.16938981,  0.16794139,  0.1665298 ,\n",
        "        0.16509969,  0.1636617 ,  0.16219559,  0.16361566,  0.16502956,\n",
        "        0.16641646,  0.1677703 ,  0.1691104 ,  0.17043373,  0.17172078,\n",
        "        0.17099755,  0.17025541,  0.16955308,  0.16882773,  0.16824882,\n",
        "        0.16767591,  0.16714189,  0.16662524,  0.16609503,  0.16558139,\n",
        "        0.16508278,  0.16461757,  0.16419219,  0.16377141,  0.16720324,\n",
        "        0.17067137,  0.17417543,  0.17768331,  0.18123181,  0.18485161,\n",
        "        0.18848264,  0.19215724,  0.19585863,  0.19961381,  0.20338358,\n",
        "        0.20686128,  0.21033473,  0.21383488,  0.22021607,  0.22674077,\n",
        "        0.23339523,  0.23993929,  0.24640274,  0.2527778 ,  0.259068  ,\n",
        "        0.26510171,  0.27078038,  0.27621323,  0.28154372,  0.28678104,\n",
        "        0.29159953,  0.29644851,  0.30320624,  0.31005947,  0.31703781,\n",
        "        0.32417778,  0.33144847,  0.33848441,  0.34563526,  0.35327676,\n",
        "        0.36103406,  0.36900822,  0.37713642,  0.38548464,  0.39398972,\n",
        "        0.40270132,  0.41163564,  0.42078708,  0.43014219,  0.43968552,\n",
        "        0.44940798,  0.45909352,  0.46860256,  0.47608958,  0.48371004,\n",
        "        0.49168078,  0.49982108,  0.50810632,  0.51655389,  0.52512127,\n",
        "        0.53384876,  0.54269528,  0.55170058,  0.56084515,  0.5701162 ,\n",
        "        0.57951219,  0.58902864,  0.59869408,  0.6084835 ,  0.61806864,\n",
        "        0.62780888,  0.63775741,  0.64818661,  0.65891279,  0.66553428,\n",
        "        0.67230316,  0.6792236 ,  0.68643907,  0.69379908,  0.70131458,\n",
        "        0.70916937,  0.71721552,  0.72542382,  0.73387177,  0.74254654,\n",
        "        0.75145652,  0.76066645,  0.77013442,  0.76780859,  0.76611761,\n",
        "        0.76451074,  0.76302228,  0.7616376 ,  0.7604026 ,  0.75933704,\n",
        "        0.75871234,  0.75813643,  0.7576391 ,  0.75719006,  0.75746496,\n",
        "        0.75822862,  0.7590847 ,  0.76081593,  0.76309609,  0.76603645,\n",
        "        0.76970448,  0.77348829,  0.77770233,  0.78330903,  0.78926245,\n",
        "        0.7953395 ,  0.80231886,  0.80947435,  0.81688138,  0.82499725,\n",
        "        0.83326929,  0.84171384,  0.85075382,  0.85999385,  0.8695127 ,\n",
        "        0.87939831,  0.89015193,  0.90129478,  0.89647097,  0.89241005,\n",
        "        0.88848049,  0.88467233,  0.8815814 ,  0.87859123,  0.87579513,\n",
        "        0.87812888,  0.88050699,  0.88295635,  0.88545775,  0.88800283,\n",
        "        0.89057607,  0.89303561,  0.89417017,  0.89540006,  0.89671136,\n",
        "        0.89811256,  0.89959523,  0.90116789,  0.90284091,  0.90289674,\n",
        "        0.9031268 ,  0.90404283,  0.9050585 ,  0.9061791 ,  0.90739497,\n",
        "        0.90970701,  0.90597924,  0.90235343,  0.8988561 ,  0.89610473,\n",
        "        0.89350039,  0.89098767,  0.88857046,  0.88916043,  0.89053723,\n",
        "        0.8920003 ,  0.89355276,  0.89541749,  0.89772714,  0.90013081]), matrix([[ 1946.43248235]]), {'warnflag': 0, 'task': 'CONVERGENCE: REL_REDUCTION_OF_F_<=_FACTR*EPSMCH', 'grad': array([  7.24898052e-01,   7.70882232e-01,   5.64819255e-01,\n",
        "        -5.28363413e-01,   6.22129468e-02,   5.87502160e-01,\n",
        "         7.18911165e-01,  -1.17190151e+01,   2.27746579e-01,\n",
        "         8.56188254e-01,   8.64353864e-02,   8.04040996e-01,\n",
        "         9.83212216e-01,  -6.57639973e-01,   3.14567661e+00,\n",
        "         3.14849130e-01,  -8.49908152e-02,   4.69669173e-01,\n",
        "        -4.18130932e-01,   9.83212216e-01,  -8.71363888e-02,\n",
        "         6.45985605e-01,   7.78613168e-01,  -6.63039197e-01,\n",
        "        -2.21817864e-01,   4.53107658e-01,   2.68341128e-01,\n",
        "         8.68154307e-01,  -6.07943890e+00,   3.35767796e-01,\n",
        "        -1.05231422e+00,  -4.23233060e-01,   9.83212216e-01,\n",
        "        -3.88801397e-01,   2.41220895e-01,   6.94968604e-01,\n",
        "         5.38506975e-01,   4.75247920e-01,  -6.69956675e-01,\n",
        "         5.24015442e-01,  -6.99029237e-02,   9.31727254e-01,\n",
        "         1.68442969e+01,   5.24298157e-01,  -1.09727902e+00,\n",
        "        -5.55989892e-01,   4.19803046e-01,   2.49618584e-01,\n",
        "         9.83212216e-01,   9.83212216e-01,   7.10131678e-01,\n",
        "        -3.10480233e-01,   9.83212216e-01,   4.28705845e-01,\n",
        "        -8.64197325e-01,   9.83212216e-01,   3.02891252e-01,\n",
        "        -6.25990505e-01,  -2.60238065e-01,   9.83212216e-01,\n",
        "         5.86511780e-01,  -9.89417391e-01,   9.83212216e-01,\n",
        "        -6.59473756e+00,   5.80497946e-01,   8.74855537e-01,\n",
        "         9.83212216e-01,   6.41251650e-01,   9.83212216e-01,\n",
        "         9.27617294e-01,  -6.36533087e+00,  -1.91941392e-02,\n",
        "         9.66890007e-01,   5.25420482e-01,   7.23924018e-01,\n",
        "         9.83212216e-01,   9.28485156e-01,   2.46509976e+00,\n",
        "         5.13196415e-01,   4.23563029e-01,   3.66818629e-01,\n",
        "         9.83212216e-01,  -1.80944520e-01,   4.78570772e-01,\n",
        "        -1.57923559e+01,   7.23119861e-01,   5.39750718e-01,\n",
        "         9.69617360e-01,  -3.93780386e-01,   8.79252905e-01,\n",
        "         8.22395678e-01,  -1.35722950e+01,   9.48128696e-01,\n",
        "         8.74656498e-01,   5.71863008e-01,   3.94382871e-01,\n",
        "        -4.11212659e-03,   5.66750827e-01,  -2.64895733e-01,\n",
        "         3.44432412e-01,  -2.43767382e-01,   5.27627949e-02,\n",
        "        -4.61499990e-01,  -5.84407051e-01,   9.83212216e-01,\n",
        "        -7.73829846e-01,   7.97268063e-01,   6.38611360e-01,\n",
        "         6.22019741e-01,   5.55621035e-01,  -8.06288839e-01,\n",
        "         4.86417731e-01,  -2.40025887e+01,   9.83212216e-01,\n",
        "         4.17524463e-01,   2.73284366e-02,   9.83212216e-01,\n",
        "         2.04793901e-01,   7.40702971e-01,   3.79247744e-01,\n",
        "         7.07342281e-01,   3.47619432e-01,  -9.36423159e-01,\n",
        "         9.24617610e-01,   7.62789771e-02,   9.83212216e-01,\n",
        "        -2.91070708e-01,  -3.06299270e-02,   9.83212216e-01,\n",
        "         4.28718036e-01,  -6.75084096e-01,   3.87788233e-01,\n",
        "         4.94268349e-01,   5.50888094e-01,   6.17261813e-01,\n",
        "        -6.96502773e-01,  -4.07824211e-01,  -3.51385523e-01,\n",
        "        -8.42535443e-01,   8.85015761e-01,   4.04159462e-01,\n",
        "         8.86725940e-01,  -8.61011144e-01,   2.79714660e-01,\n",
        "         2.29372032e-01,   2.66129381e-01,   9.83212216e-01,\n",
        "         3.91230024e-01,  -9.85158887e-01,   6.18834012e-01,\n",
        "         5.97208715e-01,   4.10511581e-01,   6.91570322e-01,\n",
        "         9.83212216e-01,  -7.03187444e-01,   8.17436665e-01,\n",
        "         8.58122670e-01,  -9.49434750e-01,   9.40970298e-01,\n",
        "         6.38382956e-01,   4.86853856e-01,   6.73198343e-01,\n",
        "         8.56465366e-01,   9.83212216e-01,   9.83212216e-01,\n",
        "        -8.34263136e-01,  -3.37956732e-01,   7.26153295e-01,\n",
        "         3.92507256e-01,   3.42555850e-01,   5.07878698e-01,\n",
        "         2.95009852e-01,   9.83212216e-01,  -9.37719165e-01,\n",
        "         9.83212216e-01,   9.12431757e-01,  -1.04834776e+00,\n",
        "        -6.29591545e-01,  -1.06220161e+00,  -2.60780014e-01,\n",
        "         9.83212216e-01,   3.35301129e-01,   8.56493683e-01,\n",
        "        -6.11645904e-01,  -8.09747161e-01,  -5.19277867e-01,\n",
        "         5.59848051e-01,   9.96738797e-02,  -4.68930590e-02,\n",
        "        -1.15452494e+01,   7.14028931e-01,   9.96130836e-02,\n",
        "         6.02698448e-01,   7.11460652e-01,  -2.40857568e-01,\n",
        "         5.10725896e-01,  -7.83799241e-01,   3.01129556e-01,\n",
        "         6.67744684e-01,  -3.27648037e-01,   7.53290867e-01,\n",
        "         5.49095010e-01,   2.81399914e-01,  -6.16133473e+01,\n",
        "         3.75638077e-01,  -9.91645406e-01,   4.88619872e-01,\n",
        "         7.19674310e-01,  -8.85748937e-02,   1.34879110e-01,\n",
        "         4.00644500e-01,   8.55238442e-01,   9.83212216e-01,\n",
        "         9.83212216e-01,   7.66043459e-01,   3.32268129e-01,\n",
        "        -6.61487319e-01,  -2.91461849e+00,   5.33311725e-01,\n",
        "         7.25878181e-01,  -1.12445643e+00,   3.22138041e-01,\n",
        "         9.83212216e-01,   3.29199463e-01,   7.62870383e-01,\n",
        "         9.14282995e-01,  -1.55900899e-01,   9.83212216e-01,\n",
        "        -7.80546355e-01,   9.83212216e-01,   2.28735580e-01,\n",
        "        -9.78367022e+00,   9.83212216e-01,   7.27468390e-01,\n",
        "         7.56989270e-01,  -9.63064553e-01,   2.95936593e-01,\n",
        "         8.62032775e-01,   3.93878575e-01,   2.79467013e-02,\n",
        "        -1.85103174e-02,   7.42048479e-01,   5.38902324e-01,\n",
        "        -7.58002394e-01,   9.83212216e-01,   1.04078856e+01,\n",
        "        -7.88825957e-02,   3.66969040e-01,  -8.70162245e-01,\n",
        "         3.22381013e-01,   8.14167091e-01,   9.04100824e-01,\n",
        "         1.52975124e-01,   7.43674682e-01,   1.83289694e-01,\n",
        "         3.76765612e-01,   3.06560400e-01,  -9.52090087e-01,\n",
        "        -6.84748760e-01,   4.44101635e-01,   8.18975054e-01,\n",
        "         9.68751969e-01,   2.66965908e-01,   5.73534959e-01,\n",
        "         9.83212216e-01,   9.83212216e-01,   6.24183630e-01,\n",
        "        -8.89970614e-03,  -1.08196917e+00,   8.80383583e-01,\n",
        "         5.03638985e-01,   5.25644393e-01,   9.83212216e-01,\n",
        "        -8.82553996e-02,   3.79255571e-01,  -1.14111768e+00,\n",
        "        -9.57711505e-01,  -1.12340533e+00,   9.20098290e-01,\n",
        "         9.83212216e-01,   9.21110062e-01,   9.83212216e-01,\n",
        "         3.29545647e-01,   2.53309969e-01,   3.42672480e-01,\n",
        "         2.99102054e-01,   1.45170112e-01,  -1.39814598e+01,\n",
        "        -3.90999246e-01,   9.83212216e-01,   5.30429318e-01,\n",
        "         9.83212216e-01,   9.83212216e-01,   7.71201207e-01,\n",
        "         6.76252734e-01,   5.56348928e-01,  -5.33988382e-01,\n",
        "         7.44069722e-01,   6.09508316e-01,  -9.78960342e-01,\n",
        "        -9.35081299e-01,  -7.83978285e-01,  -1.22630377e-01,\n",
        "         4.16588558e-01,   6.24669666e-01,   3.55107058e-01,\n",
        "        -6.68070837e-01,   9.83212216e-01,   4.01691171e-01,\n",
        "         4.42967810e-01,  -7.11401040e-02,   4.75265480e-01,\n",
        "         8.88304753e-01,   9.72134365e-01,   7.35103078e-01,\n",
        "         8.46736965e-01,   9.83212216e-01,   9.83212216e-01,\n",
        "         9.66081681e-01,   9.83212216e-01,   5.67068219e-01,\n",
        "         1.36249143e-01,  -1.54879287e+01,  -1.30878688e-01,\n",
        "         9.83212216e-01,   9.83212216e-01,   9.83212216e-01,\n",
        "         4.16374944e-01,   7.00933129e-01,   3.67614541e+00,\n",
        "         1.54514112e-01,   5.20058841e-01,   6.05410100e-01,\n",
        "         7.60591478e-01,   5.97511152e-01,   9.83212216e-01,\n",
        "        -3.65815272e+00,   9.83212216e-01,  -5.12964310e-01,\n",
        "        -1.13493816e+00,   6.42096600e-01,  -8.64648272e-01,\n",
        "        -1.94302004e-01,  -3.02108133e+00,   5.06876262e-01,\n",
        "         2.89448882e-01,   7.48206584e-01,   2.78405926e-01,\n",
        "         6.29054888e-01,   3.86320465e-01,  -3.99675865e-01,\n",
        "        -1.01839260e+00,   9.83212216e-01,  -1.44280311e-01,\n",
        "         9.83212216e-01,   4.34875189e-01,   5.37055216e-01,\n",
        "        -5.11777984e+00,   7.07406345e-01,  -1.10961501e+00,\n",
        "         3.71060954e-01,   5.12204906e-01,   2.85053857e-01,\n",
        "         3.34382493e-01,   4.23303052e+00,   7.93082145e-01,\n",
        "        -1.46406620e+01,  -1.23426645e+00,  -7.65482604e-02,\n",
        "        -1.03706052e+00,  -7.34849938e-02,   1.87468351e-02,\n",
        "        -5.32902364e+00,  -6.11529035e+00,  -3.55069336e+00,\n",
        "        -1.64653593e+00,  -2.42838609e-01,  -3.40605109e-01,\n",
        "        -1.12508933e+00,  -5.35855673e-01,  -7.72460989e+00,\n",
        "        -7.29471514e+00,  -1.86658447e+00,  -2.35323068e-01,\n",
        "        -6.28055472e-01,  -8.53008032e+00,  -1.82889670e+01,\n",
        "        -1.29132171e+01,  -2.74436839e+00,  -9.31390574e-01,\n",
        "        -1.12227913e+01,  -4.84622395e+00,  -3.43695465e-01,\n",
        "        -1.54057487e+00,  -2.30130845e-01,  -1.36296071e+00,\n",
        "        -1.77342087e-01,  -1.45283657e+01,  -9.45980518e+00,\n",
        "        -8.13429352e+00,  -1.30788947e+01,  -7.21557949e+00,\n",
        "        -1.19812095e+01,  -1.24154205e+00,   3.88767480e-01,\n",
        "         3.67599288e+00,   4.00556249e-01,  -1.10182331e+00,\n",
        "         3.90398156e-01,   9.07363809e+00,   1.73849204e+01,\n",
        "         2.26075748e+01,   2.42692792e+01,   1.32638021e+01,\n",
        "         1.35939893e+01,   1.47122888e+01,   1.15542843e+01,\n",
        "         2.11856442e+01,   2.06845869e+01,   2.88955002e+01,\n",
        "         2.86847154e+01,   2.68314536e+01,   1.81728892e+01,\n",
        "         1.91093276e+01,   1.43866189e+01,   3.54649864e+00,\n",
        "         1.17845914e+00,   4.33372270e-01,  -3.49811786e+01,\n",
        "         1.41532829e-01,   5.53844993e-01,   5.96726231e-01,\n",
        "         2.76958544e+00,   1.99656082e+00,   5.39706381e+00,\n",
        "         1.17068306e-01,   4.66382113e-01,   2.94284516e-01,\n",
        "         6.61437312e+00,   1.29949730e+01,   1.15919662e+00,\n",
        "         2.81501017e-01,  -2.54969865e+01,   2.50963390e-01,\n",
        "         1.68330701e-01,   2.03015913e+00,   2.83375067e+01,\n",
        "         2.21036714e-01,  -8.76890261e+00,   5.24891529e-01,\n",
        "        -1.94565162e+00,   2.08697162e-01,  -9.90667432e-01,\n",
        "         7.49983486e-01,  -6.05113701e-01,  -9.57289090e-02,\n",
        "         5.95263588e+00,  -1.30160592e+01,  -4.18115487e-01,\n",
        "        -4.29769872e-01,  -4.44915777e-01,  -2.57449501e-02,\n",
        "        -1.18068406e+00,  -1.90176018e+00,   1.18417659e+01,\n",
        "         5.43990957e-01,  -5.06798005e+00,   1.03973945e-01,\n",
        "         1.09052292e+01,   6.10409161e+00,   6.31326277e-01,\n",
        "         1.95148136e+00,   3.68961335e+00,   8.39875507e-01,\n",
        "        -1.11308733e-01,   1.34649010e+00,   1.36798432e+00,\n",
        "         2.03597918e+00,   7.02417673e+00,   1.09614388e+00,\n",
        "        -9.53800808e-01,  -1.52217805e+00,  -1.40176351e+00,\n",
        "         3.02907445e-02,  -1.51553695e+00,   7.18155322e-01,\n",
        "        -7.95115816e-01,  -6.47788976e-01,  -7.32706548e-01,\n",
        "        -7.49655309e+00,  -7.65284764e+00,  -1.03094550e+00,\n",
        "         3.25256737e-01,  -6.23869063e-01,  -5.19428848e-01,\n",
        "        -2.13585586e+01,  -7.75804067e-01,  -3.64858049e+00,\n",
        "        -2.70206730e+00,  -2.06898730e+00,  -1.32828762e+00,\n",
        "        -3.08473861e+00,  -3.80189130e+00,  -7.93281256e-01,\n",
        "        -1.20584550e+00,  -3.97554919e+00,  -3.64972644e+00,\n",
        "         3.15050720e+00,  -1.37129093e-01,   3.96356190e-01,\n",
        "         5.46639602e-01,   1.54641622e+01,   2.47409874e+01,\n",
        "         3.50807497e+01,   8.07745944e-02,   2.27827038e-01,\n",
        "        -6.08488398e+00,   1.63615341e+00,  -5.23476452e+00,\n",
        "         1.70837252e+01,  -6.92481040e-02,   4.08796050e+00,\n",
        "         2.47151580e+00,   1.73054980e+00,   6.62551943e+00,\n",
        "         1.87355826e+01,   4.14902358e+01,   4.34937656e+00,\n",
        "        -4.72661015e+00,  -4.89842194e+00,  -3.30523301e+00,\n",
        "        -1.00964057e+01,  -5.12060917e+00,  -1.27622353e+01,\n",
        "        -2.29088241e+01,  -1.83468439e+01,  -7.34166042e+00,\n",
        "        -2.45542022e+00,  -5.27814065e+00,  -3.62737747e+01,\n",
        "        -8.09249724e+00,  -3.90104708e+00,   2.70770351e+00,\n",
        "        -4.50503094e+00,   2.09605640e+00,   8.61464096e-01,\n",
        "         3.39056852e+00,   1.29226861e+01,   6.36150135e-01,\n",
        "         3.10760971e+00,   3.74456967e+00,   1.35578288e+00,\n",
        "         1.67076382e+00,   3.89117405e+00,   1.18660929e+01,\n",
        "         1.04607874e+00,  -5.85650640e+00,   1.52069160e+00,\n",
        "        -1.86033580e+01,  -2.04421693e+00,  -5.99183009e+00,\n",
        "        -3.45895208e+00,   2.41319155e-01,  -3.38764754e+00,\n",
        "        -3.22562126e+00,  -5.47820774e+00,  -6.30188731e+00,\n",
        "        -2.03931103e+00,   2.55579593e+02,   2.59642246e+00,\n",
        "         2.59751404e+00,   6.17037739e+00,   1.85958254e+00,\n",
        "        -1.46422506e+00,   5.10386388e+00,   1.55007094e+00,\n",
        "         3.28068459e+00,   4.92778195e-01,   4.42246070e+00,\n",
        "         3.39052193e+01,   4.90618963e+00,   1.83851521e+00,\n",
        "         5.17780980e+01,   3.11109316e+00,   4.47794816e+00,\n",
        "         2.45546001e+01,   2.05704180e+01,   1.99569267e+01,\n",
        "         1.85244701e+01,   3.04330658e+01,   3.59146307e+01,\n",
        "         2.59763017e+01,   1.44363179e+01,   1.31318464e+01,\n",
        "         3.48789605e+01,   2.93958755e+00,   1.04624933e+01,\n",
        "         3.38960751e+00,   1.53721651e+00,  -5.79871468e-01,\n",
        "         1.56213714e+00,   2.32828181e+01,   1.82769252e+00,\n",
        "         1.64720664e+01,   2.86363568e+00,  -2.55975794e+00,\n",
        "         1.17712212e+00,  -2.07640677e+00,   1.51158755e+00,\n",
        "        -8.00364471e-01,   7.09564341e+00,  -6.73845085e-01,\n",
        "         2.58390304e-01,   1.21229627e+00,   1.80685738e+00,\n",
        "         1.13717254e+01,   1.68785716e+01,  -6.26469986e+00,\n",
        "        -5.58128203e-02,  -8.74125907e+00,  -9.49029250e-01,\n",
        "         2.12768702e-01,  -3.21624740e-01,   1.46438626e+00,\n",
        "        -1.07934729e+01,   1.70339147e+00,   3.36063622e-01,\n",
        "         1.17308629e+00,   1.72325552e+00,   1.85344897e+00,\n",
        "         2.07695113e+00,   1.18436886e+00,   2.11219088e+00,\n",
        "         1.27925399e+01,   9.07235306e-01,  -6.49649945e-01,\n",
        "        -8.86903210e+00,  -2.70504064e+00,  -2.78362835e+00,\n",
        "        -1.21978416e+00,  -1.22954280e+00,  -5.29537905e+00,\n",
        "        -7.09341855e-01,  -9.15302014e-01,  -5.98346308e+00,\n",
        "        -1.57048489e+00,  -6.18440244e-01,  -2.61340761e+00,\n",
        "        -2.07862825e+00,  -2.12638634e+00,  -3.64805085e+00,\n",
        "        -2.31700557e+00,  -1.14294233e+01,  -1.49250242e+01,\n",
        "        -6.35785087e-01,  -1.55267790e+00,  -1.19033806e+00,\n",
        "        -2.41570864e+00,  -2.95824438e+00,  -1.01358693e+01,\n",
        "         1.74101707e-01,  -6.16794366e-01,   1.78103622e-01,\n",
        "        -1.76732373e+01,  -1.14491742e+01,  -9.68549778e-01,\n",
        "        -2.15447408e+01,  -1.28350575e+01,  -1.56064317e+01,\n",
        "        -1.71551000e+01,  -1.06337298e+00,  -9.10211099e+00,\n",
        "        -3.35057390e+01,  -6.25157093e+00,  -4.44417060e-01,\n",
        "        -1.97953522e+01,  -1.27948615e+00,  -3.01921344e+00,\n",
        "        -1.39515379e+01,  -1.97839545e-01,  -4.93093304e-01,\n",
        "        -1.03342338e+01,  -7.17718485e-01,  -2.40715041e+00,\n",
        "        -4.22545832e+00,  -1.52414919e+01,  -3.95290610e+00,\n",
        "        -1.42714438e+01,  -1.47442388e+01,  -7.70561827e-01,\n",
        "        -5.90080994e-01,  -1.41527167e+01,  -2.99755212e-01,\n",
        "        -2.45961821e+00,  -1.24844376e+01,   8.73438222e-01,\n",
        "         2.77642093e-01,   7.29544736e-01,   9.32484719e-01,\n",
        "         1.29424101e+00,   4.48138612e+00,  -3.97220766e+01,\n",
        "        -3.20738180e-01,   8.27276075e-04,  -1.77229852e-01,\n",
        "         2.21925571e-02,  -1.54247028e-01,  -3.70854119e-01,\n",
        "        -3.09103848e+00,  -2.06317216e+00,  -1.33835891e+01,\n",
        "        -3.83321266e-01,  -4.90480641e-01,  -2.66139575e-01,\n",
        "        -2.22726610e+01,  -8.66111986e+00,  -1.18804902e-01,\n",
        "        -7.41412293e-01,  -1.45666233e+01,  -1.32199363e+00,\n",
        "        -1.12195576e-01,  -2.21494586e-01,  -9.34068198e+00,\n",
        "        -1.59050991e+01,  -1.18331275e-01,  -1.75649762e-01,\n",
        "        -5.14074778e+00,  -8.04882175e+00,  -1.72511919e-01,\n",
        "        -5.21805923e+00]), 'nit': 174, 'funcalls': 842})\n"
       ]
      }
     ],
     "prompt_number": 61
    },
    {
     "cell_type": "code",
     "collapsed": false,
     "input": [
      "for i,k in enumerate(['lai', 'cw']):\n",
      "    plt.subplot( 1, 3, i+1 )\n",
      "    plt.plot ( state_grid, retval[k])"
     ],
     "language": "python",
     "metadata": {},
     "outputs": [
      {
       "metadata": {},
       "output_type": "display_data",
       "png": "[encoded data removed]",
       "text": [
        "<matplotlib.figure.Figure at 0x2af3525b6510>"
       ]
      }
     ],
     "prompt_number": 62
    },
    {
     "cell_type": "code",
     "collapsed": false,
     "input": [
      "def cab_traj ( t ):\n",
      "    out = t*0.\n",
      "    w = np.where( t <= 0.5 )[0]\n",
      "    out[w] = 10.5 + 70*t[w]\n",
      "    w = np.where(t > 0.5)[0]\n",
      "    out[w] = 80.5 - 70*t[w]\n",
      "    return out\n",
      "plt.plot ( cab_traj ( np.arange(365)/365.))\n"
     ],
     "language": "python",
     "metadata": {},
     "outputs": [
      {
       "metadata": {},
       "output_type": "pyout",
       "prompt_number": 40,
       "text": [
        "[<matplotlib.lines.Line2D at 0x2af3525bf4d0>]"
       ]
      },
      {
       "metadata": {},
       "output_type": "display_data",
       "png": "[encoded data removed]",
       "text": [
        "<matplotlib.figure.Figure at 0x168dfe90>"
       ]
      }
     ],
     "prompt_number": 40
    },
    {
     "cell_type": "code",
     "collapsed": false,
     "input": [],
     "language": "python",
     "metadata": {},
     "outputs": []
    }
   ],
   "metadata": {}
  }
 ]
}