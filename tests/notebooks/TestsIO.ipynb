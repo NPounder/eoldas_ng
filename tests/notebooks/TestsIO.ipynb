{
 "cells": [
  {
   "cell_type": "markdown",
   "metadata": {},
   "source": [
    "# Test 5.7 (Data ingest), 5.9 and 5.4\n",
    "Each of these tests uses a synthetic image that we generate as a 2D Gauss kernel array. "
   ]
  },
  {
   "cell_type": "markdown",
   "metadata": {},
   "source": [
    "## Test 5.7\n",
    "Ingest an array of data and verify that the internal array is the same."
   ]
  },
  {
   "cell_type": "code",
   "execution_count": 1,
   "metadata": {
    "collapsed": false
   },
   "outputs": [],
   "source": [
    "# Import eoldas_ng from the OPTIRAD suite and some additional python functions\n",
    "import eoldas_ng\n",
    "import numpy as np\n",
    "import scipy.sparse as sp\n",
    "from collections import OrderedDict\n",
    "import random\n",
    "import math"
   ]
  },
  {
   "cell_type": "code",
   "execution_count": 2,
   "metadata": {
    "collapsed": true
   },
   "outputs": [],
   "source": [
    "#Imports to allow plotting.\n",
    "import pylab\n",
    "import matplotlib.pyplot as plt\n",
    "%matplotlib inline"
   ]
  },
  {
   "cell_type": "code",
   "execution_count": 3,
   "metadata": {
    "collapsed": true
   },
   "outputs": [],
   "source": [
    "# Define functions to generate an input image as an array.\n",
    "def gauss_kern(size, sizey=None):\n",
    "    \"\"\" \n",
    "    Returns a normalized 2D gauss kernel array for convolutions \n",
    "    From http://www.scipy.org/Cookbook/SignalSmooth\n",
    "    \"\"\"\n",
    "    import numpy as np\n",
    "    size = int(size)\n",
    "    if not sizey:\n",
    "        sizey = size\n",
    "    else:\n",
    "        sizey = int(sizey)\n",
    "    x, y = np.mgrid[-size:size+1, -sizey:sizey+1]\n",
    "    g = np.exp(-(x**2/float(size)+y**2/float(sizey)))\n",
    "    return g / g.sum()\n",
    "def create_data ( nr,nc,n_per=1, noise=0.15, obs_off=0.1, \\\n",
    "                                        window_size=5):\n",
    "    \"\"\"\n",
    "    Create synthetic \"NDVI-like\" data for a fictitious space series. We return\n",
    "    the original data, noisy data (using IID Gaussian noise), the QA flag as well\n",
    "    as the time axis.\n",
    "    \n",
    "    Missing observations are simulated by drawing a random number between 0 and 1\n",
    "    and checking against obs_off.\n",
    "    \n",
    "    Parameters\n",
    "    ----------\n",
    "    nc : number of columns\n",
    "    nr : number of rows\n",
    "\n",
    "    n_per : integer\n",
    "    Observation periodicity. By default, assumes every sample\n",
    "\n",
    "    noise : float\n",
    "    The noise standard deviation. By default, 0.15\n",
    "\n",
    "    obs_off : float\n",
    "    The threshold to decide on missing observations in the series.\n",
    "\n",
    "    \n",
    "    \"\"\"\n",
    "    import numpy as np\n",
    "    from scipy import signal\n",
    "    r,c = np.mgrid[1:nr+1:n_per,1:nc+1:n_per]\n",
    "    ndvi_clean =  np.clip(np.sin(np.pi*2*(r-1)/nr)*np.sin(np.pi*2*(c-1)/nc), 0,1) \n",
    "    ndvi = ndvi_clean.copy()\n",
    "    # add Gaussian noise of sd noise\n",
    "    ndvi = np.random.normal(ndvi,noise,ndvi.shape)\n",
    "     \n",
    "    # set the qa flags for each sample to 1 (good data)\n",
    "    qa_flag = np.ones_like ( ndvi).astype( np.int32 )\n",
    "    passer = np.random.rand(ndvi.shape[0],ndvi.shape[1])\n",
    "    if window_size >0:\n",
    "        # force odd\n",
    "        window_size = 2*(window_size/2)+1\n",
    "        # smooth passer\n",
    "        g = gauss_kern(window_size)\n",
    "        passer = signal.convolve(passer,g,mode='same')\n",
    "    # assign a proportion of the qa to 0 from an ordering of the smoothed \n",
    "    # random numbers\n",
    "    qf = qa_flag.flatten()\n",
    "    qf[np.argsort(passer,axis=None)[:int(passer.size * obs_off)]]  = 0\n",
    "    qa_flag = qf.reshape(passer.shape)\n",
    "    return ( r,c , ndvi_clean, ndvi, qa_flag )"
   ]
  },
  {
   "cell_type": "code",
   "execution_count": 4,
   "metadata": {
    "collapsed": false
   },
   "outputs": [],
   "source": [
    "#Create Observations\n",
    "rows = 100\n",
    "cols = 100\n",
    "R, C, ndvi_true, ndvi_obs, qa_flag = create_data ( rows, cols, obs_off=0.3 )\n",
    "sigma_obs = 0.15"
   ]
  },
  {
   "cell_type": "markdown",
   "metadata": {},
   "source": [
    "Set up the_state with the parameter list and defaults"
   ]
  },
  {
   "cell_type": "code",
   "execution_count": 5,
   "metadata": {
    "collapsed": false
   },
   "outputs": [
    {
     "name": "stdout",
     "output_type": "stream",
     "text": [
      "Saving results to testio.pkl\n"
     ]
    }
   ],
   "source": [
    "state_config = { 'magnitude': eoldas_ng.VARIABLE } # We solve for a parameter called \n",
    "                                         # 'magnitude'\n",
    "default_values = { 'magnitude': 0.5 } \n",
    "# The default value is 0.5 but since it's defined\n",
    "# as VARIABLE above, this definition has no effect\n",
    "parameter_min = OrderedDict ()\n",
    "parameter_max = OrderedDict ()\n",
    "parameter_min [ 'magnitude' ] = 0.\n",
    "parameter_max [ 'magnitude' ] = 1.\n",
    "state_grid = np.arange ( 1, rows*cols + 1 ).reshape((rows, cols)) # A 2d grid\n",
    "# Now, just define the state\n",
    "the_state = eoldas_ng.State ( state_config, state_grid, default_values, parameter_min, \\\n",
    "                   parameter_max, output_name='testio')"
   ]
  },
  {
   "cell_type": "markdown",
   "metadata": {},
   "source": [
    "set up the observation operator with the observations array and add it to the_state."
   ]
  },
  {
   "cell_type": "code",
   "execution_count": 6,
   "metadata": {
    "collapsed": false
   },
   "outputs": [],
   "source": [
    "the_obs = eoldas_ng.ObservationOperator(state_grid, ndvi_obs, sigma_obs, qa_flag )\n",
    "\n",
    "the_state.add_operator ( \"Observations\", the_obs )"
   ]
  },
  {
   "cell_type": "markdown",
   "metadata": {},
   "source": [
    "View the internal array and the original input array."
   ]
  },
  {
   "cell_type": "code",
   "execution_count": 7,
   "metadata": {
    "collapsed": false,
    "scrolled": true
   },
   "outputs": [
    {
     "data": {
      "text/plain": [
       "<matplotlib.text.Text at 0x7f64c1b80d90>"
      ]
     },
     "execution_count": 7,
     "metadata": {},
     "output_type": "execute_result"
    },
    {
     "data": {
      "image/png": "[encoded data removed]",
      "text/plain": [
       "<matplotlib.figure.Figure at 0x7f64c3e57dd0>"
      ]
     },
     "metadata": {},
     "output_type": "display_data"
    }
   ],
   "source": [
    "internal_obs = the_state.operators['Observations'].observations\n",
    "\n",
    "cmap = plt.cm.spectral\n",
    "cmap.set_bad ( '0.8' )\n",
    "\n",
    "plt.subplot(1, 2, 1)\n",
    "plt.imshow ( ndvi_obs, interpolation='nearest', vmin=0, vmax=1, cmap=cmap )\n",
    "plt.xticks([])\n",
    "plt.yticks([])\n",
    "plt.title('original obs')\n",
    "plt.subplot(1, 2, 2)\n",
    "plt.imshow ( internal_obs, interpolation='nearest', vmin=0, vmax=1, cmap=cmap )\n",
    "plt.xticks([])\n",
    "plt.yticks([])\n",
    "plt.title('internal obs')\n"
   ]
  },
  {
   "cell_type": "markdown",
   "metadata": {},
   "source": [
    "Compare the values in the input array and the internal array for 5 randomly selected points."
   ]
  },
  {
   "cell_type": "code",
   "execution_count": 8,
   "metadata": {
    "collapsed": false,
    "scrolled": true
   },
   "outputs": [
    {
     "name": "stdout",
     "output_type": "stream",
     "text": [
      "Element row, column | original value  | internal value  | equal?\n",
      "         74 ,  48   | 0.0491643602053 | 0.0491643602053 | True\n",
      "         76 ,  52   |  0.165724127977 |  0.165724127977 | True\n",
      "         81 ,  48   |   0.15219551203 |   0.15219551203 | True\n",
      "          6 ,  80   |  -0.20248946813 |  -0.20248946813 | True\n",
      "         51 ,  22   |  0.220707920383 |  0.220707920383 | True\n"
     ]
    }
   ],
   "source": [
    "import random\n",
    "\n",
    "print \"Element row, column | original value  | internal value  | equal?\"\n",
    "for i in xrange(5):\n",
    "    test_row = random.randrange(0, rows)\n",
    "    test_column = random.randrange(0, cols)\n",
    "\n",
    "    original = ndvi_obs[test_row, test_column]\n",
    "    internal = internal_obs[test_row, test_column]\n",
    "\n",
    "    print \"{:>11} ,{:^7}|{:>16} | {:>15} | {}\".format(\n",
    "            test_row, test_column, original, internal, (original==internal))\n"
   ]
  },
  {
   "cell_type": "markdown",
   "metadata": {},
   "source": [
    "##Test 5.9"
   ]
  },
  {
   "cell_type": "markdown",
   "metadata": {
    "collapsed": true
   },
   "source": [
    "Verify that the saved state estimate array matches the internal estimate.\n",
    "We use the example as set up above and optimise. An observation mask has been aplied leaving gaps in the observations given to eo_ldas, simulating clouds. The retrieved estimate is compared to that stored as an array in a pickle file."
   ]
  },
  {
   "cell_type": "code",
   "execution_count": 9,
   "metadata": {
    "collapsed": false
   },
   "outputs": [],
   "source": [
    "# First guess at state for optimization.\n",
    "x_dict = {'magnitude': np.ones(rows*cols)*0.25}\n",
    "retval = the_state.optimize(x_dict)"
   ]
  },
  {
   "cell_type": "code",
   "execution_count": 10,
   "metadata": {
    "collapsed": false
   },
   "outputs": [],
   "source": [
    "# Read in the saved state array.\n",
    "import cPickle as pickle\n",
    "saved_array = pickle.load(open(\"testio.pkl.pkl\", 'rb'))"
   ]
  },
  {
   "cell_type": "code",
   "execution_count": 11,
   "metadata": {
    "collapsed": false
   },
   "outputs": [
    {
     "data": {
      "text/plain": [
       "([], <a list of 0 Text yticklabel objects>)"
      ]
     },
     "execution_count": 11,
     "metadata": {},
     "output_type": "execute_result"
    },
    {
     "data": {
      "image/png": "[encoded data removed]",
      "text/plain": [
       "<matplotlib.figure.Figure at 0x7f64c1bdf5d0>"
      ]
     },
     "metadata": {},
     "output_type": "display_data"
    }
   ],
   "source": [
    "#Plot the two arrays\n",
    "plt.subplot(1, 2, 1)\n",
    "plt.imshow ( retval['real_map']['magnitude'], interpolation='nearest', vmin=0, vmax=1, cmap=cmap )\n",
    "plt.xticks([])\n",
    "plt.yticks([])\n",
    "plt.title('internal array')\n",
    "plt.subplot(1, 2, 2)\n",
    "plt.imshow ( saved_array['real_map']['magnitude'], interpolation='nearest', vmin=0, vmax=1, cmap=cmap )\n",
    "plt.xticks([])\n",
    "plt.yticks([])"
   ]
  },
  {
   "cell_type": "markdown",
   "metadata": {},
   "source": [
    "Compare the values in the input array and the internal array for 5 randomly selected points."
   ]
  },
  {
   "cell_type": "code",
   "execution_count": 12,
   "metadata": {
    "collapsed": false,
    "scrolled": false
   },
   "outputs": [
    {
     "name": "stdout",
     "output_type": "stream",
     "text": [
      "Element row, column | internal value  | saved value  | equal?\n",
      "         22 ,  27   |  0.942163985922 |  0.942163985922 | True\n",
      "         45 ,  94   |  0.137024717748 |  0.137024717748 | True\n",
      "         20 ,   5   |            0.25 |            0.25 | True\n",
      "         28 ,  22   |    0.9934545216 |    0.9934545216 | True\n",
      "         45 ,  45   |  0.143885115628 |  0.143885115628 | True\n"
     ]
    }
   ],
   "source": [
    "import random\n",
    "\n",
    "print \"Element row, column | internal value  | saved value  | equal?\"\n",
    "for i in xrange(5):\n",
    "    test_row = random.randrange(0, rows)\n",
    "    test_column = random.randrange(0, cols)\n",
    "\n",
    "    internal = retval['real_map']['magnitude'][test_row, test_column]\n",
    "    saved = saved_array['real_map']['magnitude'][test_row, test_column]\n",
    "\n",
    "    print \"{:>11} ,{:^7}|{:>16} | {:>15} | {}\".format(\n",
    "            test_row, test_column, internal, saved, (internal==saved))\n"
   ]
  },
  {
   "cell_type": "markdown",
   "metadata": {},
   "source": [
    "## Test 5.4"
   ]
  },
  {
   "cell_type": "markdown",
   "metadata": {},
   "source": [
    "Confirm each element of the output array contains a float (is not empty) and is not Nan. Verify using the output array from the above tests."
   ]
  },
  {
   "cell_type": "code",
   "execution_count": 13,
   "metadata": {
    "collapsed": false
   },
   "outputs": [
    {
     "name": "stdout",
     "output_type": "stream",
     "text": [
      "0 elements failed the test.\n",
      "Test passed\n"
     ]
    }
   ],
   "source": [
    "nfailed = 0\n",
    "for element in saved_array['real_map']['magnitude'].flatten():\n",
    "    try:\n",
    "        assert isinstance(element, float)\n",
    "    except AssertionError:\n",
    "        print element\n",
    "        print type(element)\n",
    "        nfailed += 1\n",
    "        \n",
    "    try:\n",
    "        assert element != np.nan\n",
    "    except AssertionError:\n",
    "        print element\n",
    "        nfailed += 1\n",
    "print nfailed, \"elements failed the test.\"\n",
    "if nfailed == 0:\n",
    "    print \"Test passed\""
   ]
  },
  {
   "cell_type": "code",
   "execution_count": null,
   "metadata": {
    "collapsed": true
   },
   "outputs": [],
   "source": [
    "\n"
   ]
  }
 ],
 "metadata": {
  "kernelspec": {
   "display_name": "Shared Python 2.7",
   "language": "python",
   "name": "python2_shared"
  },
  "language_info": {
   "codemirror_mode": {
    "name": "ipython",
    "version": 2
   },
   "file_extension": ".py",
   "mimetype": "text/x-python",
   "name": "python",
   "nbconvert_exporter": "python",
   "pygments_lexer": "ipython2",
   "version": "2.7.11"
  }
 },
 "nbformat": 4,
 "nbformat_minor": 0
}
