{
 "cells": [
  {
   "cell_type": "markdown",
   "metadata": {},
   "source": [
    "#Test 2.1 Jacobian Code"
   ]
  },
  {
   "cell_type": "code",
   "execution_count": 1,
   "metadata": {
    "collapsed": false
   },
   "outputs": [],
   "source": [
    "import eoldas_ng\n",
    "from eoldas_ng import FIXED, VARIABLE, CONSTANT\n",
    "from eoldas_ng import eoldas_observation_helpers\n",
    "from eoldas_ng import eoldas_helpers\n",
    "import gp_emulator\n",
    "\n",
    "import numpy as np\n",
    "from collections import OrderedDict\n",
    "#from eoldas_ng import Prior, SpatialSmoother\n",
    "#from eoldas_ng import ObservationOperatorImageGP, StandardStatePROSAIL"
   ]
  },
  {
   "cell_type": "markdown",
   "metadata": {},
   "source": [
    "Set up the true state. A 3 by 4 grid with one observation at 1,2 and the remaining area masked out."
   ]
  },
  {
   "cell_type": "code",
   "execution_count": 2,
   "metadata": {
    "collapsed": false
   },
   "outputs": [
    {
     "name": "stdout",
     "output_type": "stream",
     "text": [
      "True lai=  [[ 0.  0.  0.  0.]\n",
      " [ 0.  0.  3.  0.]\n",
      " [ 0.  0.  0.  0.]]\n",
      "mask =  [[False False False False]\n",
      " [False False  True False]\n",
      " [False False False False]]\n"
     ]
    }
   ],
   "source": [
    "state_grid = np.zeros((3,4))\n",
    "\n",
    "#obslocation = (slice(1,3),slice(2,4))\n",
    "obslocation = (1,2)\n",
    "examplelai = 3\n",
    "lai_true=np.zeros_like(state_grid)\n",
    "mask= np.zeros_like(state_grid, dtype=bool)\n",
    "lai_true[obslocation]=examplelai\n",
    "mask[obslocation]=True\n",
    "\n",
    "print 'True lai= ', lai_true\n",
    "print 'mask = ', mask"
   ]
  },
  {
   "cell_type": "code",
   "execution_count": 3,
   "metadata": {
    "collapsed": false
   },
   "outputs": [
    {
     "name": "stdout",
     "output_type": "stream",
     "text": [
      "Saving results to JacobianTest.pkl\n"
     ]
    }
   ],
   "source": [
    "# Create the state configuration dictionary that states which parameters are fixed or variable. Then create\n",
    "# The state operator: the_state. THis is set up to use PROSAIL\n",
    "\n",
    "state_config = OrderedDict ()\n",
    "state_config['n'] = FIXED\n",
    "state_config['cab'] = FIXED\n",
    "state_config['car'] = FIXED\n",
    "state_config['cbrown'] = FIXED\n",
    "state_config['cw'] = FIXED\n",
    "state_config['cm'] = FIXED\n",
    "state_config['lai'] = VARIABLE\n",
    "state_config['ala'] = FIXED\n",
    "state_config['bsoil'] = FIXED\n",
    "state_config['psoil'] = FIXED\n",
    "\n",
    "                                  \n",
    "optimisation_options={\"factr\": 1e12,\n",
    "                \"m\":400, \"pgtol\":1e-4, \"maxcor\":200,\n",
    "                \"maxiter\":1500, \"disp\":True}\n",
    "\n",
    "the_state = eoldas_helpers.StandardStatePROSAIL(state_config, state_grid,\n",
    "                 optimisation_options=optimisation_options,\n",
    "                 output_name=\"JacobianTest\", verbose=True)\n"
   ]
  },
  {
   "cell_type": "code",
   "execution_count": 4,
   "metadata": {
    "collapsed": false
   },
   "outputs": [
    {
     "name": "stdout",
     "output_type": "stream",
     "text": [
      "True state =  OrderedDict([('n', 1.6), ('cab', 20.0), ('car', 1.0), ('cbrown', 0.01), ('cw', 0.018), ('cm', 0.03), ('lai', array([[ 0.,  0.,  0.,  0.],\n",
      "       [ 0.,  0.,  3.,  0.],\n",
      "       [ 0.,  0.,  0.,  0.]])), ('ala', 70.0), ('bsoil', 0.5), ('psoil', 0.9)])\n",
      "Shifted state =  OrderedDict([('n', 1.6), ('cab', 20.0), ('car', 1.0), ('cbrown', 0.01), ('cw', 0.018), ('cm', 0.03), ('lai', array([[ 0.      ,  0.      ,  0.      ,  0.      ],\n",
      "       [ 0.      ,  0.      ,  3.000001,  0.      ],\n",
      "       [ 0.      ,  0.      ,  0.      ,  0.      ]])), ('ala', 70.0), ('bsoil', 0.5), ('psoil', 0.9)])\n",
      "default values =  OrderedDict([('n', 1.6), ('cab', 20.0), ('car', 1.0), ('cbrown', 0.01), ('cw', 0.018), ('cm', 0.03), ('lai', 3), ('ala', 70.0), ('bsoil', 0.5), ('psoil', 0.9)])\n"
     ]
    }
   ],
   "source": [
    "# reset the default to match our example lai and save a copy of the true state.\n",
    "the_state.default_values['lai'] = examplelai\n",
    "state_true = the_state.default_values.copy()\n",
    "state_true['lai'] = lai_true\n",
    "\n",
    "# Create a copy of state where our lai is shifted by an amout epsilon for finite difference testing.\n",
    "epsilon = 0.000001\n",
    "delta_lai = lai_true.copy()\n",
    "delta_lai[obslocation] += epsilon\n",
    "delta_state = state_true.copy()\n",
    "delta_state['lai'] = delta_lai\n",
    "\n",
    "# Confirm our states are as expected \n",
    "print 'True state = ', state_true\n",
    "print 'Shifted state = ',delta_state\n",
    "print 'default values = ', the_state.default_values\n"
   ]
  },
  {
   "cell_type": "code",
   "execution_count": 5,
   "metadata": {
    "collapsed": false,
    "scrolled": true
   },
   "outputs": [
    {
     "name": "stdout",
     "output_type": "stream",
     "text": [
      "transformed delta state  OrderedDict([('n', 1.6), ('cab', 0.81873075307798182), ('car', 0.99004983374916811), ('cbrown', 0.01), ('cw', 0.40656965974059917), ('cm', 0.049787068367863944), ('lai', array([[ 1.        ,  1.        ,  1.        ,  1.        ],\n",
      "       [ 1.        ,  1.        ,  0.22313016,  1.        ],\n",
      "       [ 1.        ,  1.        ,  1.        ,  1.        ]])), ('ala', 0.7777777777777778), ('bsoil', 0.5), ('psoil', 0.9)])\n",
      "transformed parameters =  [1.6, 0.81873075307798182, 0.99004983374916811, 0.01, 0.40656965974059917, 0.049787068367863944, 0.22313016014842982, 0.7777777777777778, 0.5, 0.9]\n",
      "I expect my error text now\n",
      "I can edit this\n"
     ]
    }
   ],
   "source": [
    "# We will be calling the jacobian and cost calulation directly from the observation operator.\n",
    "# This expects the state to be in transformed space so we calculate the transformed values\n",
    "# for the original and shifted state\n",
    "\n",
    "# Turn the state dictionary into a vector of the transformed variables.\n",
    "trans_delta_state_vec = the_state.pack_from_dict(delta_state, do_transform=True)\n",
    "trans_state_vec = the_state.pack_from_dict(state_true, do_transform=True)\n",
    "#put the transformed vector back in a dictionary\n",
    "trans_state_dict = the_state._unpack_to_dict(trans_state_vec, do_transform=False, do_invtransform=False)\n",
    "trans_delta_state_dict = the_state._unpack_to_dict(trans_delta_state_vec, do_transform=False, do_invtransform=False)\n",
    "print 'transformed delta state ',trans_state_dict\n",
    "\n",
    "# repeating the transformation again for just the pixel with an observation\n",
    "transformed_param = []\n",
    "for param, value in the_state.default_values.iteritems():\n",
    "    if the_state.transformation_dict.has_key ( param ):\n",
    "        transformed_param.append(the_state.transformation_dict[param](value))\n",
    "    else:\n",
    "        transformed_param.append(value)\n",
    "print 'transformed parameters = ',transformed_param\n",
    "\n",
    "# Get an emulator.\n",
    "emu_fname = \"/media/Data/emulators/70.0_55.0_67.5_115.0_prosail.npz\"\n",
    "#emu_fname = \"/media/Data/emulators/PROSAIL/0030_0055_0030_prosail.npz\"\n",
    "gp = gp_emulator.MultivariateEmulator(dump=emu_fname)\n",
    "\n",
    "# Forward model the reflectance from the input state. Returns reflectence per wavelength\n",
    "# for 400 to 2500 nm (1 nm resolution).\n",
    "print 'I expect my error text now'\n",
    "specref, spechess, specderv = gp.predict(np.array(transformed_param).T, do_unc=True)\n",
    "#, do_unc=True)\n",
    "\n",
    "# choose band at 865 nm (NIR) only\n",
    "spectrum = eoldas_observation_helpers.Spectral(np.array([865]),np.array([865])) \n",
    "\n",
    "# Create the observation image using the forward modelled value.\n",
    "image = np.zeros_like(state_grid)\n",
    "image[obslocation] = specref[spectrum.band_pass[0]]"
   ]
  },
  {
   "cell_type": "code",
   "execution_count": 6,
   "metadata": {
    "collapsed": true
   },
   "outputs": [],
   "source": [
    "# We need to set and observation uncertainty.\n",
    "band_uncertainty = np.array([0.02])"
   ]
  },
  {
   "cell_type": "code",
   "execution_count": 7,
   "metadata": {
    "collapsed": false
   },
   "outputs": [
    {
     "name": "stdout",
     "output_type": "stream",
     "text": [
      "After 5, the minimum cost was -1.132842e+03\n",
      "the cost is  0.159526177944\n"
     ]
    }
   ],
   "source": [
    "# Initialise the observation operator\n",
    "the_observations = eoldas_ng.ObservationOperatorImageGP(state_grid,\n",
    "                the_state, image[None,...], mask, gp,\n",
    "                bu=band_uncertainty, factor=None,\n",
    "                band_pass=spectrum.band_pass, bw=spectrum.bw, per_band=True)\n",
    "\n",
    "#calculate the cost for the true state\n",
    "cost, dercost = the_observations.der_cost(trans_state_dict, the_state.state_config)\n",
    "\n",
    "print 'the cost is ', cost\n",
    "# Calculate the cost and derivative for the shifted state\n",
    "deltacost, deltadercost = the_observations.der_cost(trans_delta_state_dict, the_state.state_config)"
   ]
  },
  {
   "cell_type": "code",
   "execution_count": 8,
   "metadata": {
    "collapsed": false
   },
   "outputs": [
    {
     "name": "stdout",
     "output_type": "stream",
     "text": [
      "fd_gradient =  -3.64152792704\n",
      "operator gradient =  -3.64058340828\n",
      "difference =  -0.000944518764333\n"
     ]
    }
   ],
   "source": [
    "# The cost function has been calculated in transformed space to we need epsilon in that space to\n",
    "# calculate the finite difference.\n",
    "epsilon_transformed = trans_delta_state_dict['lai'][obslocation] - trans_state_dict['lai'][obslocation]\n",
    "\n",
    "fd_gradient = (deltacost - cost)/epsilon_transformed\n",
    "\n",
    "print 'fd_gradient = ',fd_gradient\n",
    "print'operator gradient = ', dercost.reshape(state_grid.shape)[obslocation]\n",
    "print 'difference = ', (fd_gradient-dercost.reshape(state_grid.shape)[obslocation])"
   ]
  },
  {
   "cell_type": "markdown",
   "metadata": {},
   "source": [
    "#Test 2.2 Hessian Code\n",
    "\n",
    "This problem is set up in the same way as for the Jacobian test but we now call the der_der_cost method of the operator"
   ]
  },
  {
   "cell_type": "code",
   "execution_count": 9,
   "metadata": {
    "collapsed": false
   },
   "outputs": [
    {
     "name": "stdout",
     "output_type": "stream",
     "text": [
      "[[  0.           0.           0.           0.        ]\n",
      " [  0.           0.          41.54129348   0.        ]\n",
      " [  0.           0.           0.           0.        ]]\n"
     ]
    }
   ],
   "source": [
    "Hess = the_observations.der_der_cost(trans_state_vec, the_state.state_config,\n",
    "                                     the_state)\n",
    "# Pull out the part of the Hessian that deals with LAI to inspect it.\n",
    "print Hess.todense()[6].reshape(state_grid.shape)"
   ]
  },
  {
   "cell_type": "code",
   "execution_count": 10,
   "metadata": {
    "collapsed": false
   },
   "outputs": [
    {
     "name": "stdout",
     "output_type": "stream",
     "text": [
      "-1.11565052197e-07\n",
      "[[ -0.          -0.          -0.          -0.        ]\n",
      " [ -0.          -0.          32.12288711  -0.        ]\n",
      " [ -0.          -0.          -0.          -0.        ]]\n"
     ]
    }
   ],
   "source": [
    "\n",
    "print epsilon_transformed\n",
    "# Finite difference using the gradients:\n",
    "fd_hessian = (deltadercost-dercost)/epsilon_transformed\n",
    "print fd_hessian.reshape(state_grid.shape)"
   ]
  },
  {
   "cell_type": "code",
   "execution_count": 12,
   "metadata": {
    "collapsed": false
   },
   "outputs": [
    {
     "name": "stdout",
     "output_type": "stream",
     "text": [
      "finite difference hessian =  32.1228871073\n",
      "operator hessian =  41.5412934836\n"
     ]
    }
   ],
   "source": [
    "print 'finite difference hessian = ', fd_hessian.reshape(state_grid.shape)[obslocation]\n",
    "print 'operator hessian = ', Hess.todense()[6].reshape(state_grid.shape)[obslocation]"
   ]
  },
  {
   "cell_type": "code",
   "execution_count": null,
   "metadata": {
    "collapsed": true
   },
   "outputs": [],
   "source": []
  }
 ],
 "metadata": {
  "kernelspec": {
   "display_name": "Python 2",
   "language": "python",
   "name": "python2"
  },
  "language_info": {
   "codemirror_mode": {
    "name": "ipython",
    "version": 2
   },
   "file_extension": ".py",
   "mimetype": "text/x-python",
   "name": "python",
   "nbconvert_exporter": "python",
   "pygments_lexer": "ipython2",
   "version": "2.7.6"
  }
 },
 "nbformat": 4,
 "nbformat_minor": 0
}
